{
 "cells": [
  {
   "cell_type": "markdown",
   "metadata": {},
   "source": [
    "# start2impact - Python e NumPy project\n",
    "\n",
    "Hi! I'm Emanuele Immesi and this is my version of the project \"fileorganizer\" for the course \"Python e NumPy\" from @start2impact|BCorp's coach Francesco Bagattini.\n",
    "\n",
    "The project has 3 steps. "
   ]
  },
  {
   "cell_type": "markdown",
   "metadata": {},
   "source": [
    "### Import\n",
    "Import all usefull packages"
   ]
  },
  {
   "cell_type": "code",
   "execution_count": 1,
   "metadata": {},
   "outputs": [],
   "source": [
    "import os\n",
    "import shutil\n",
    "import csv\n",
    "from PIL import Image\n",
    "import numpy as np\n",
    "from tabulate import tabulate"
   ]
  },
  {
   "cell_type": "markdown",
   "metadata": {},
   "source": [
    "## Step 1\n",
    "\n",
    "*Create a script to iterate a sorted list of all files inside the `'files'` folder and, for each file, move them into an appropriate subfolder (e.g. an audio file with .mp3 extension will be moved into the 'audio' folder). If the subfodler doesn't exist, it will be created by the script. Inside the loop, the script should print out information about each file: name, type and dimension (in byte). Also, keep track of moved files inside a `recap.csv` file.*\n",
    "\n",
    "**WARNING:** each time you run the script you want to add files into the appropriate folder without formatting previous files or the `recap.csv` file.\n",
    "\n",
    "### Preliminar settings\n",
    "\n",
    "Use *os.getcwd()* method to get the absolute file path of this notebook and assign it to the constant **CWD**. \n",
    "\n",
    "Declare a constant **DESIRED_PATH** where is specified the path of the 'files' folder, containing all files I want to manage."
   ]
  },
  {
   "cell_type": "code",
   "execution_count": 1,
   "metadata": {},
   "outputs": [
    {
     "name": "stdout",
     "output_type": "stream",
     "text": [
      "c:\\Users\\emanu\\anaconda3\\envs\\Lele\\Git projects\\My projects\\FileOrganizer_Project_Python_e_Numpy\\FileOrganizer\\files\n"
     ]
    }
   ],
   "source": [
    "CWD = os.getcwd()\n",
    "DESIRED_PATH = CWD + '/files'\n",
    "os.chdir(DESIRED_PATH)\n",
    "\n",
    "# If you get an error message from the print below, you should create the 'files' folder. \n",
    "# Then, move all files you want to manage inside this folder. \n",
    "print(os.getcwd())\n"
   ]
  },
  {
   "cell_type": "markdown",
   "metadata": {},
   "source": [
    "### Write a script that generates subfodlers *audio*, *images*, *docs* where to move appropriate files and update the *recap.csv* document.\n",
    "\n",
    "\n",
    "- The variable **files_list** is associated to the *os.listdir()* method, that allows to create a list of all files inside the working directory\n",
    "- **extensions** dictionary got keys with the same names of the subfolders *audio*, *images*, *docs*; while values associated to keys are keeping extensions of image (*\".jpg\", \".jpeg\", \".png\"*), audio (*\".mp3\"*) and doc (*\".doc\", \".txt\", \".odt\"*) files used in this notebook. Obviously, it's possible to add further extensions to those lists related to images, docs and audios files.   \n",
    "- The first *for loop* allows to create subfodler **files_destination_folder**, with the same name as the keys of the dictionary, if they already didn't exist, using *os.path.isdir()* method. \n",
    "- Using *with* statement is opened a file **recap.csv**, setting its function to *'a' (append)* because I want the script to add news imputs into this file, without formatting a pre-existing list."
   ]
  },
  {
   "cell_type": "code",
   "execution_count": 3,
   "metadata": {},
   "outputs": [
    {
     "name": "stdout",
     "output_type": "stream",
     "text": [
      "bw type:image size:94926B\n",
      "ciao type:doc size:12B\n",
      "daffodil type:image size:24657B\n",
      "eclipse type:image size:64243B\n",
      "pippo type:doc size:8299B\n",
      "song1 type:audio size:1087849B\n",
      "song2 type:audio size:764176B\n",
      "trump type:image size:10195B\n"
     ]
    }
   ],
   "source": [
    "files_list = sorted(os.listdir())\n",
    "\n",
    "extensions = {\n",
    "    \"image\": [\".jpg\", \".jpeg\", \".png\"],\n",
    "    \"doc\": [\".doc\", \".txt\", \".odt\"],\n",
    "    \"audio\": [\".mp3\"]\n",
    "    }\n",
    "\n",
    "# This first loop creates the 'image', 'doc' and 'audio' folders, if they are not already in the 'file' folder \n",
    "for key in extensions:\n",
    "    files_destination_folder = key\n",
    "\n",
    "    if not os.path.isdir(files_destination_folder):\n",
    "        os.mkdir(files_destination_folder)    \n",
    "\n",
    "with open('recap.csv', 'a') as csv_file:\n",
    "    \n",
    "    # This values will be used as 'header' of the recap.csv file\n",
    "    fieldnames = ['name','type','size(B)']\n",
    "    \n",
    "    csv_writer = csv.DictWriter(csv_file, fieldnames=fieldnames)\n",
    "    \n",
    "    # Verify with os.path.getsize() if 'recap.csv' file is empty. If so, the header it's written as first row \n",
    "    if os.path.getsize('recap.csv') == 0:\n",
    "        csv_writer.writeheader()\n",
    "    \n",
    "    # The next for loop iterates on any element that is explicitly a file in 'files_list'\n",
    "    for file in files_list:\n",
    "                \n",
    "        if os.path.isfile(file):\n",
    "            \n",
    "            # With os.path.splitext() and os.path.getsize() methods, get name, extension and dimension (in Byte) \n",
    "            filename, file_ext = os.path.splitext(file)\n",
    "            file_size = os.path.getsize(file)\n",
    "            \n",
    "            # Use again this for loop to exploit the association between extension's format of the file is iterating\n",
    "            # and the name of the subfodler where move the file.\n",
    "            for key in extensions:\n",
    "                \n",
    "                # If the extension of the file matches the list of values specified by the actual key, then: \n",
    "                if file_ext in extensions[key]:\n",
    "                    \n",
    "                    # 1. subfodler gets its name by the key name;\n",
    "                    files_destination_folder = key\n",
    "                    \n",
    "                    # 2. Name, type and dimension of the file are written in a dictionary called 'file_details';\n",
    "                    file_details = [{          \n",
    "                    'name':filename,\n",
    "                    'type': key,\n",
    "                    'size(B)': file_size\n",
    "                        }]\n",
    "                    \n",
    "                    # 3. That information are printed out as row in the 'recap.csv' file, associated to\n",
    "                    # 'csv_writer' variable; \n",
    "                    csv_writer.writerows(file_details)\n",
    "                    \n",
    "                    # 4. Information of the file are printed out;\n",
    "                    print(f\"{filename} type:{key} size:{file_size}B\")      \n",
    "                    \n",
    "                    # 5. The file is moved into the appropiate folder with shutil.move() method.\n",
    "                    shutil.move(file, f\"{files_destination_folder}/{file}\")                    \n"
   ]
  },
  {
   "cell_type": "markdown",
   "metadata": {},
   "source": [
    "## Step 2\n",
    "\n",
    "Create an *addfile.py* file executable from CMD. The funtion of this file is similar to that of the script created in the first phase [Step 1](#step-1). However, in this case a single file is moved, (extension included) must be specified in the cmd. "
   ]
  },
  {
   "cell_type": "markdown",
   "metadata": {},
   "source": [
    "## Step 3\n"
   ]
  },
  {
   "cell_type": "markdown",
   "metadata": {},
   "source": [
    "### Write a script to iterate on files that are in the folder *images*, getting information about: *width* and *height* of images, *grayscale* (if the picture is black and white), and *RGB* or *RGBA* values.\n",
    "\n",
    "- To the variable **img_list** is associated *os.listdir()* method, to generate a list of all files insdide the *image* folder.\n",
    "- **table** list gets information about any file (**name, height, width, R, G, B, Alpha**) collected durante the *for loop* iteration.\n",
    "- PIL e NumPy libraries are used to extract the required information. \n",
    "\n",
    "Those information are used to build a summary table with the *tabulate* library."
   ]
  },
  {
   "cell_type": "markdown",
   "metadata": {},
   "source": [
    "Again, use *os.getcwd()* and *os.chdir()* to move into the target directory."
   ]
  },
  {
   "cell_type": "code",
   "execution_count": 4,
   "metadata": {},
   "outputs": [
    {
     "name": "stdout",
     "output_type": "stream",
     "text": [
      "C:\\Users\\emanu\\anaconda3\\envs\\Lele\\FileOrganizer_Progetto_Python_e_Numpy_s2i\\FileOrganizer\\files\\image\n"
     ]
    }
   ],
   "source": [
    "CWD = os.getcwd()\n",
    "DESIRED_PATH = CWD + '/image'\n",
    "os.chdir(DESIRED_PATH)\n",
    "\n",
    "print(os.getcwd())"
   ]
  },
  {
   "cell_type": "code",
   "execution_count": 5,
   "metadata": {},
   "outputs": [
    {
     "name": "stdout",
     "output_type": "stream",
     "text": [
      "['bw.png', 'daffodil.jpg', 'eclipse.png', 'trump.jpeg']\n",
      "+----------+----------+---------+-------------+--------+--------+-------+---------+\n",
      "| name     |   height |   width |   grayscale |      R |      G |     B |   ALPHA |\n",
      "+==========+==========+=========+=============+========+========+=======+=========+\n",
      "| bw       |      512 |     512 |       21.48 |   0.00 |   0.00 |  0.00 |    0.00 |\n",
      "+----------+----------+---------+-------------+--------+--------+-------+---------+\n",
      "| daffodil |      500 |     335 |        0.00 | 109.25 |  85.56 |  4.97 |    0.00 |\n",
      "+----------+----------+---------+-------------+--------+--------+-------+---------+\n",
      "| eclipse  |      256 |     256 |        0.00 | 109.05 | 109.52 | 39.85 |  133.59 |\n",
      "+----------+----------+---------+-------------+--------+--------+-------+---------+\n",
      "| trump    |      183 |     275 |        0.00 |  97.01 |  98.99 | 90.92 |    0.00 |\n",
      "+----------+----------+---------+-------------+--------+--------+-------+---------+\n"
     ]
    }
   ],
   "source": [
    "img_list = os.listdir()\n",
    "print(img_list)\n",
    "\n",
    "table = []\n",
    "\n",
    "for file in img_list:\n",
    "    \n",
    "    # Get file name. \n",
    "    name = os.path.splitext(file)[0]\n",
    "    \n",
    "    # Create an img object with Image.open().\n",
    "    img = Image.open(file)\n",
    "    \n",
    "    # Create a NumPy array, using the object create above as the argument of the array.\n",
    "    np_img = np.array(img)\n",
    "    \n",
    "    # Get height and widht of the image. \n",
    "    height = np_img.shape[0]\n",
    "    width = np_img.shape[1]\n",
    "    \n",
    "    # ndim it's helpful to know an array dimension:\n",
    "    # 1. if the picture is black and white its dimension will be only 2 (corrisponding to width and height of the picture); \n",
    "    if np_img.ndim < 3:\n",
    "        \n",
    "        # Extract mean value of the grayscale.\n",
    "        grayscale = np.mean(np_img)\n",
    "        \n",
    "        # Set R, G, B, A equals 0 because the image in black and white only.\n",
    "        R, G, B, A = (0,0,0,0)\n",
    "            \n",
    "    # 2. Othewise, if the picture is colored it would have 3 dimensions, with the 3rd dimension containing R,G,B values;\n",
    "    elif np_img.ndim == 3 and np_img.shape[2] == 3:\n",
    "        \n",
    "        # In this case set the grayscale to 0.\n",
    "        grayscale = 0\n",
    "        \n",
    "        # Collapsing values on one row and column, and specifying which element of the tuple I want to know, I can get R,G,B values. \n",
    "        R, G, B = np.mean(np_img, axis=(0,1))\n",
    "        \n",
    "        # There is not an Alpha channel, so let's set it = 0.\n",
    "        A = 0\n",
    "        \n",
    "    # 3. Then, if a colored image got 4 channels in its 3rd dimension it means that there is an Alpha channel, so it's an RGBA image. \n",
    "    else:\n",
    "        \n",
    "        # Again, the grayscale here is = 0.\n",
    "        grayscale = 0\n",
    "        \n",
    "        # Agaim, extract R, G, B and Alpha channels mean values.  \n",
    "        R, G, B, A = np.mean(np_img, axis=(0,1))\n",
    "    \n",
    "    # Append information into a list. \n",
    "    table.append([name, height, width, grayscale, R, G, B, A])    \n",
    "\n",
    "# Use tabulate function to print out a table of the required information, collected into the 'table' list.\n",
    "# Using 'headers=' set titles of columns, using 'tablefmt=' set required format and using 'floatfmt=' set decimals. \n",
    "print(tabulate(table, headers=[\"name\", \"height\", \"width\", \"grayscale\", \"R\", \"G\", \"B\", \"ALPHA\"], tablefmt=\"grid\", floatfmt=\".2f\"))\n"
   ]
  },
  {
   "cell_type": "markdown",
   "metadata": {},
   "source": [
    "## External links\n",
    "\n",
    "- start2impact website [here](https://www.start2impact.it/?utm_source=google&utm_medium=cpc&utm_campaign=Search_Brand&gclid=CjwKCAjwu_mSBhAYEiwA5BBmf3Np2Y0YDvENk7J6TNUhqtt_a8-pw0qbI2Ie6RLAXavMdBo7kZQfFxoCLOUQAvD_BwE).\n",
    "\n",
    "- Francesco Bagattini profile on LinkedIn [here](https://www.linkedin.com/in/francescobagattini/).\n",
    "\n",
    "Find me:\n",
    "- My Github profile [here](https://github.com/TheHextech);\n",
    "- My LinkedIn profile [here](https://www.linkedin.com/in/emanuele-immesi-5004141b9/);\n",
    "- My Twitter profile [here](https://twitter.com/EmanueleImmesi)."
   ]
  }
 ],
 "metadata": {
  "interpreter": {
   "hash": "b1c494edddc050d313909dbf238d8046c0adbf04e1748ac53b7a4925055ee919"
  },
  "kernelspec": {
   "display_name": "Lele",
   "language": "python",
   "name": "python3"
  },
  "language_info": {
   "codemirror_mode": {
    "name": "ipython",
    "version": 3
   },
   "file_extension": ".py",
   "mimetype": "text/x-python",
   "name": "python",
   "nbconvert_exporter": "python",
   "pygments_lexer": "ipython3",
   "version": "3.9.6"
  }
 },
 "nbformat": 4,
 "nbformat_minor": 4
}
