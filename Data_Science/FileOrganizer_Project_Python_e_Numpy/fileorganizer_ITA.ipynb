{
 "cells": [
  {
   "cell_type": "markdown",
   "metadata": {},
   "source": [
    "# start2impact - progetto Python e NumPy\n",
    "\n",
    "Ciao! Sono Emanuele Immesi e questa è la mia versione del progetto \"fileorganizer\" per il corso Python e NumPy del coach Francesco Bagattini.\n",
    "\n",
    "Il progetto è suddiviso in tre step. "
   ]
  },
  {
   "cell_type": "markdown",
   "metadata": {},
   "source": [
    "## Importazioni\n",
    "importo tutti i moduli necessari a svolgere il progetto."
   ]
  },
  {
   "cell_type": "code",
   "execution_count": 1,
   "metadata": {},
   "outputs": [],
   "source": [
    "import os\n",
    "import shutil\n",
    "import csv\n",
    "from PIL import Image\n",
    "import numpy as np\n",
    "from tabulate import tabulate"
   ]
  },
  {
   "cell_type": "markdown",
   "metadata": {},
   "source": [
    "## Step 1\n",
    "\n",
    "### Impostazione preliminare\n",
    "\n",
    "Uso il metodo *os.getcwd()* per ottenere l'absolute file path dove è presente il notebook e l'assegno alla costante **CWD**. \n",
    "\n",
    "Dichiaro una costante **DESIRED_PATH** dove è specificato il percorso della cartella 'files' che contiene i file su cui mi interessa lavorare. "
   ]
  },
  {
   "cell_type": "code",
   "execution_count": 2,
   "metadata": {},
   "outputs": [
    {
     "name": "stdout",
     "output_type": "stream",
     "text": [
      "C:\\Users\\emanu\\anaconda3\\envs\\Lele\\FileOrganizer_Progetto_Python_e_Numpy_s2i\\FileOrganizer\\files\n"
     ]
    }
   ],
   "source": [
    "CWD = os.getcwd()\n",
    "DESIRED_PATH = CWD + '/files'\n",
    "os.chdir(DESIRED_PATH)\n",
    "\n",
    "# Se dalla stampa sottostante si ottiene un messaggio di errore, questo potrebbe essere dovuto\n",
    "# al fatto che la cartella 'files' non esiste. Procedere quindi creandola e inserire al suo interno\n",
    "# tutti i files su cui lavorare.\n",
    "print(os.getcwd())\n"
   ]
  },
  {
   "cell_type": "markdown",
   "metadata": {},
   "source": [
    "### Scrivo uno script per creare le opportune sottocartelle *audio*, *images*, *docs* dove spostarvi i file appropriati ed aggiornare il documento *recap.csv*.\n",
    "\n",
    "\n",
    "- Alla variabile **files_list** è associato il metodo *os.listdir()*, per generare una lista di tutti i file presenti nella cartella di lavoro\n",
    "- Il dizionario **extensions** presenta chiavi con nomi uguali alle sottocartelle in cui spostare i file, mentre i valori specificati dalle chiavi corrispondono alle estensioni dei file su cui sto lavorando.\n",
    "- Il primo *for loop* mi permette di creare le sottocartelle **files_destination_folder**, con nomi uguali a quello delle chiavi del dizionario, dopo aver verificato la loro esistenza con il metodo *os.path.isdir()*\n",
    "- Con lo statement *with* apro un file denominato **recap.csv**, impostando la sua modalità di funzionamento su *'a' (append)* poiché voglio che lo script aggiunga voci nel file di recap per ogni utilizzo, senza formattare l'eventuale elenco preesistente. \n",
    "    - All'interno di questo statement si svolge il 'core' della funzione richiesta nello step 1. \n",
    "\n",
    "Vedi i commenti dentro la cella sottostante per maggiori dettagli"
   ]
  },
  {
   "cell_type": "code",
   "execution_count": 3,
   "metadata": {},
   "outputs": [
    {
     "name": "stdout",
     "output_type": "stream",
     "text": [
      "bw type:image size:94926B\n",
      "ciao type:doc size:12B\n",
      "daffodil type:image size:24657B\n",
      "eclipse type:image size:64243B\n",
      "pippo type:doc size:8299B\n",
      "song1 type:audio size:1087849B\n",
      "song2 type:audio size:764176B\n",
      "trump type:image size:10195B\n"
     ]
    }
   ],
   "source": [
    "files_list = sorted(os.listdir())\n",
    "\n",
    "extensions = {\n",
    "    \"image\": [\".jpg\", \".jpeg\", \".png\"],\n",
    "    \"doc\": [\".doc\", \".txt\", \".odt\"],\n",
    "    \"audio\": [\".mp3\"]\n",
    "    }\n",
    "\n",
    "# Questo primo for loop è necessario a creare le sottocartelle 'image', 'doc' e 'audio' se non sono\n",
    "# già presenti all'interno della cartella 'files'.\n",
    "for key in extensions:\n",
    "    files_destination_folder = key\n",
    "\n",
    "    if not os.path.isdir(files_destination_folder):\n",
    "        os.mkdir(files_destination_folder)    \n",
    "\n",
    "with open('recap.csv', 'a') as csv_file:\n",
    "    \n",
    "    # Questi valori saranno utilizzati come 'header' del file recap.csv\n",
    "    fieldnames = ['name','type','size(B)']\n",
    "    \n",
    "    # Per comodità ho scelto di scrivere le informazioni all'interno del file con la funzione DictWriter()\n",
    "    csv_writer = csv.DictWriter(csv_file, fieldnames=fieldnames)\n",
    "    \n",
    "    # Verifico con os.path.getsize() se il file 'recap.csv' è vuoto. In caso affermativo come prima riga viene \n",
    "    # scritto un header in cui sono presenti i campi specificati da 'fieldnames'. \n",
    "    if os.path.getsize('recap.csv') == 0:\n",
    "        csv_writer.writeheader()\n",
    "    \n",
    "    # Il prossimo for loop itera su ogni elemento che sia esplicitamente un file presente nella lista 'files_list'. \n",
    "    for file in files_list:\n",
    "                \n",
    "        if os.path.isfile(file):\n",
    "            \n",
    "            # Grazie ai metodi os.path.splitext() e os.path.getsize() il nome, l'estensione e la dimensione (in Byte)\n",
    "            # di ogni 'file' sono racchiusi rispettivamente nelle variabili 'filename', 'file_ext' e 'file_size'.\n",
    "            filename, file_ext = os.path.splitext(file)\n",
    "            file_size = os.path.getsize(file)\n",
    "            \n",
    "            # Utilizzo nuovamente questo for loop per sfruttare l'associazione tra il formato di estenzione del file sul quale\n",
    "            # il ciclo sta iterando e il nome della sottocartella in cui spostare il file.\n",
    "            for key in extensions:\n",
    "                \n",
    "                # Se l'estensione del file sul quale il ciclo sta iterando è presente nella lista di valori specificata dalla \n",
    "                # chiave attuale, allora:\n",
    "                if file_ext in extensions[key]:\n",
    "                    \n",
    "                    # 1. Il nome della sottocartella attuale prende il nome della chiave;\n",
    "                    files_destination_folder = key\n",
    "                    \n",
    "                    # 2. Le specifiche di: nome, tipo e dimensione del file sono scritte temporaneamente in un dizionario\n",
    "                    # denominato 'file_details';\n",
    "                    file_details = [{          \n",
    "                    'name':filename,\n",
    "                    'type': key,\n",
    "                    'size(B)': file_size\n",
    "                        }]\n",
    "                    \n",
    "                    # 3. Le informazioni attuali scritte nel dizionario 'file_details' sono stampate come riga nel file \n",
    "                    # 'recap.csv' a cui è associata la variabile 'csv_writer'; \n",
    "                    csv_writer.writerows(file_details)\n",
    "                    \n",
    "                    # 4. Le informazioni del file sul quale il ciclo sta iterando sono stampate nell'output di questa cella;\n",
    "                    print(f\"{filename} type:{key} size:{file_size}B\")      \n",
    "                    \n",
    "                    # 5. Il file attuale viene spostato nella sottocartella di competenza con il metodo shutil.move()\n",
    "                    shutil.move(file, f\"{files_destination_folder}/{file}\")                    \n"
   ]
  },
  {
   "cell_type": "markdown",
   "metadata": {},
   "source": [
    "## Step 2\n",
    "\n",
    "Come richiesto dalla consegna è stato creato un file *addfile.py* eseguibile dal prompt dei comandi. La funzione di questo eseguibile è analoga a quella dello script creato nello [Step 1](#Step-1). In questo caso però viene spostato un singolo file, il cui nome (estensione compresa) deve essere specificato nel cmd. "
   ]
  },
  {
   "cell_type": "markdown",
   "metadata": {},
   "source": [
    "## Step 3\n"
   ]
  },
  {
   "cell_type": "markdown",
   "metadata": {},
   "source": [
    "### Scrivo uno script che iteri sui file contenuti nella sottocartella *images*, estrapolando informazioni su: *larghezza* e *altezza* delle immagini, *scala di grigio* (se l'immagine è in bianco e nero), e valori *RGB* o *RGBA*.\n",
    "\n",
    "- Alla variabile **img_list** è associato il metodo *os.listdir()*, per generare una lista di tutti i file presenti nella cartella *image*\n",
    "- La lista **table** raccoglie le informazioni dei file (**name, height, width, R, G, B, Alpha**) collezionate durante l'iterazione del sottostante *for loop*.\n",
    "- Le librerie PIL e NumPy sono utilizzate per estrapolare le informazioni richieste. \n",
    "\n",
    "### Le informazioni ottenute sono utilizzate per costruire una tabella riassuntiva con la libreria *tabulate*. \n",
    "\n",
    "Vedi i commenti dentro la cella sottostante per maggiori dettagli\n"
   ]
  },
  {
   "cell_type": "markdown",
   "metadata": {},
   "source": [
    "Come fatto [sopra](#Impostazione-preliminare), uso i metodi *os.getcwd()* e *os.chdir()* per spostarmi all'interno della sottocartella  che mi interessa."
   ]
  },
  {
   "cell_type": "code",
   "execution_count": 4,
   "metadata": {},
   "outputs": [
    {
     "name": "stdout",
     "output_type": "stream",
     "text": [
      "C:\\Users\\emanu\\anaconda3\\envs\\Lele\\FileOrganizer_Progetto_Python_e_Numpy_s2i\\FileOrganizer\\files\\image\n"
     ]
    }
   ],
   "source": [
    "CWD = os.getcwd()\n",
    "DESIRED_PATH = CWD + '/image'\n",
    "os.chdir(DESIRED_PATH)\n",
    "\n",
    "print(os.getcwd())"
   ]
  },
  {
   "cell_type": "code",
   "execution_count": 5,
   "metadata": {},
   "outputs": [
    {
     "name": "stdout",
     "output_type": "stream",
     "text": [
      "['bw.png', 'daffodil.jpg', 'eclipse.png', 'trump.jpeg']\n",
      "+----------+----------+---------+-------------+--------+--------+-------+---------+\n",
      "| name     |   height |   width |   grayscale |      R |      G |     B |   ALPHA |\n",
      "+==========+==========+=========+=============+========+========+=======+=========+\n",
      "| bw       |      512 |     512 |       21.48 |   0.00 |   0.00 |  0.00 |    0.00 |\n",
      "+----------+----------+---------+-------------+--------+--------+-------+---------+\n",
      "| daffodil |      500 |     335 |        0.00 | 109.25 |  85.56 |  4.97 |    0.00 |\n",
      "+----------+----------+---------+-------------+--------+--------+-------+---------+\n",
      "| eclipse  |      256 |     256 |        0.00 | 109.05 | 109.52 | 39.85 |  133.59 |\n",
      "+----------+----------+---------+-------------+--------+--------+-------+---------+\n",
      "| trump    |      183 |     275 |        0.00 |  97.01 |  98.99 | 90.92 |    0.00 |\n",
      "+----------+----------+---------+-------------+--------+--------+-------+---------+\n"
     ]
    }
   ],
   "source": [
    "img_list = os.listdir()\n",
    "print(img_list)\n",
    "\n",
    "table = []\n",
    "\n",
    "for file in img_list:\n",
    "    \n",
    "    # Ottengo il nome del file. \n",
    "    name = os.path.splitext(file)[0]\n",
    "    \n",
    "    # Creo un oggetto img con Image.open().\n",
    "    img = Image.open(file)\n",
    "    \n",
    "    # Creo un array NumPy usando come argomento l'oggetto immagine appena creato.\n",
    "    np_img = np.array(img)\n",
    "    \n",
    "    # Estrapolo le informazioni di altezza e larghezza dell'immagine. \n",
    "    height = np_img.shape[0]\n",
    "    width = np_img.shape[1]\n",
    "    \n",
    "    # ndim mi indica il numero di dimensioni di un array:\n",
    "    # 1. se un'immagine è in bianco e nero il suo numero di dimensioni sarà 2, equivalenti ad altezza e larghezza della foto; \n",
    "    if np_img.ndim < 3:\n",
    "        \n",
    "        # Estrapolo il valore medio della scala dei grigi.\n",
    "        grayscale = np.mean(np_img)\n",
    "        \n",
    "        # Imposto i valori dei canali R, G, B, A uguali a 0.\n",
    "        R, G, B, A = (0,0,0,0)\n",
    "            \n",
    "    # 2. se un'immagine è a colori avrà 3 dimensioni e la terza dimensione presenterà solo 3 elementi (RGB) sarà \n",
    "    # un'immagine RGB; \n",
    "    elif np_img.ndim == 3 and np_img.shape[2] == 3:\n",
    "        \n",
    "        # In questo caso quindi la scala dei grigi sarà impostata a 0.\n",
    "        grayscale = 0\n",
    "        \n",
    "        # Collassando i valori su un unica riga e colonna e specificando quale elemento della tupla voglio ottenere, \n",
    "        # posso ricavare i valori R, G, B. \n",
    "        R, G, B = np.mean(np_img, axis=(0,1))\n",
    "        \n",
    "        # Il canale Alpha è assente e viene impostato a 0.\n",
    "        A = 0\n",
    "        \n",
    "    # 3. Infine, se un immagine a colori presenta 4 canali nella terza dimensione significa che è presente anche il canale\n",
    "    # Alpha, trattandosi di un'immagine RGBA. \n",
    "    else:\n",
    "        \n",
    "        # Come per le immagini RGB anche in questo caso la scala dei grigi viene impostata a 0.\n",
    "        grayscale = 0\n",
    "        \n",
    "        # Come prima estrapolo le informazioni per R, G, B e in questo caso anche per il canale Alpha. \n",
    "        R, G, B, A = np.mean(np_img, axis=(0,1))\n",
    "    \n",
    "    # Inserisco le informazioni ottenute nella lista table. \n",
    "    table.append([name, height, width, grayscale, R, G, B, A])    \n",
    "\n",
    "# Uso la funzione tabulate per stampare una tabella delle informazioni collezionate nella lista table. \n",
    "# Con 'headers=' imposto i titoli delle colonne dei valori, con 'tablefmt=' il formato desiderato e con 'floatfmt=' il numero di\n",
    "# cifre decimali desiderate. \n",
    "print(tabulate(table, headers=[\"name\", \"height\", \"width\", \"grayscale\", \"R\", \"G\", \"B\", \"ALPHA\"], tablefmt=\"grid\", floatfmt=\".2f\"))\n"
   ]
  },
  {
   "cell_type": "markdown",
   "metadata": {},
   "source": [
    "## Link utili\n",
    "\n",
    "- start2impact sito web [qui](https://www.start2impact.it/?utm_source=google&utm_medium=cpc&utm_campaign=Search_Brand&gclid=CjwKCAjwu_mSBhAYEiwA5BBmf3Np2Y0YDvENk7J6TNUhqtt_a8-pw0qbI2Ie6RLAXavMdBo7kZQfFxoCLOUQAvD_BwE).\n",
    "\n",
    "- Profilo di Francesco Bagattini su LinkedIn [qui](https://www.linkedin.com/in/francescobagattini/).\n",
    "\n",
    "I miei profili:\n",
    "- Profilo GitHub [qui](https://github.com/TheHextech);\n",
    "- Profilo LinkedIn [qui](https://www.linkedin.com/in/emanuele-immesi-5004141b9/);\n",
    "- Profilo Twitter [qui](https://twitter.com/EmanueleImmesi)."
   ]
  }
 ],
 "metadata": {
  "interpreter": {
   "hash": "b1c494edddc050d313909dbf238d8046c0adbf04e1748ac53b7a4925055ee919"
  },
  "kernelspec": {
   "display_name": "Lele",
   "language": "python",
   "name": "python3"
  },
  "language_info": {
   "codemirror_mode": {
    "name": "ipython",
    "version": 3
   },
   "file_extension": ".py",
   "mimetype": "text/x-python",
   "name": "python",
   "nbconvert_exporter": "python",
   "pygments_lexer": "ipython3",
   "version": "3.8.8"
  }
 },
 "nbformat": 4,
 "nbformat_minor": 4
}
