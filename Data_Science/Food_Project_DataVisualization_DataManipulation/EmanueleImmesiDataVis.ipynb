{
 "cells": [
  {
   "cell_type": "markdown",
   "id": "e3324e06",
   "metadata": {},
   "source": [
    "# Food project\n",
    "\n",
    "\n",
    "![image.jpg](img.jpg)\n",
    "\n",
    "Img source: fair-point.com"
   ]
  },
  {
   "cell_type": "markdown",
   "id": "bdbda155",
   "metadata": {},
   "source": [
    "## Discovery (identificazione del problema e degli obiettivi)\n",
    "\n",
    "Negli ultimi secoli la popolazione mondiale è aumentata notevolmente e secondo l'ONU (fonte del 2019), nel 2050 potrebbe arrivare a quota *10 miliardi*. \n",
    "\n",
    "In maniera direttamente proporzionale **sono aumentate anche le domande di cibo, energia ed acqua**, per soddisfare tale bisogno. \n",
    "\n",
    "Sfortunamente, i costanti monitoraggi sul cambiamento climatico indicano che la **temperatura massima annuale sulla Terra sta cambiando pericolosamente** e parte di questo effetto è *direttamente correlato alla produzione agricola e all'allevamento* (questo settore ha un impatto del **25-30% sulle emissioni totali di CO₂**):\n",
    "\n",
    "\n",
    "**L'obiettivo di questo notebook** è quello di fornire una visione di insieme sulla *produzione mondiale di alimenti e mangimi* e sui *principali fenomeni inquinanti* (emissioni di CO₂ dovute alla catena produttiva e variazioni di temperatura)."
   ]
  },
  {
   "cell_type": "markdown",
   "id": "edd67794",
   "metadata": {},
   "source": [
    "### Spunti e domande che guideranno questa analisi\n",
    "\n",
    "#### Confronto tra produzione di cibo e mangime a livello mondiale: \n",
    "    \n",
    "- Come è variata la loro produzione negli anni?\n",
    "\n",
    "- Quali paesi sono i maggiori produttori? \n",
    "\n",
    "- Quali sono gli alimenti maggiormente prodotti?\n",
    "\n",
    "#### Processo produttivo e inquinamento:\n",
    "\n",
    "- La produzione di quali alimenti ha un impatto maggiormente negativo sull'ambiente?\n",
    "\n",
    "- Quale fase della produzione alimentare contribuisce maggiormente all'emissione di gas serra?\n",
    "\n",
    "- Quali sono gli alimenti la cui produzione ha meno impatto per le emissioni di gas serra?\n",
    "\n",
    "- Quanto si è innalzata la temperatura globale dall'ultimo secolo ad oggi?"
   ]
  },
  {
   "cell_type": "markdown",
   "id": "9a5c0f04",
   "metadata": {},
   "source": [
    "---\n",
    "---\n",
    "## Data selection\n",
    "\n",
    "Questo progetto sfrutta diversi datasets: \n",
    "\n",
    "- Il [primo](https://www.kaggle.com/datasets/dorbicycle/world-foodfeed-production), disponibile sul **portale FAOSTAT** della FAO (Food and Agriculture Organization of the United Nations), contiene i dati di produzione di cibi (denominati 'food') e mangimi (denominati 'feed') di ogni paese del mondo, dal 1961 al 2013.\n",
    "\n",
    "- Il [secondo](https://www.kaggle.com/datasets/selfvivek/environment-impact-of-food-production), fornito da **Our World in Data**, mostra principalmente i quantitativi di gas serra che sono emessi durante gli step della catena produttiva per la realizzazione dei 43 alimenti più comuni prodotti nel mondo.\n",
    "\n",
    "- Il [terzo](https://www.kaggle.com/datasets/sevgisarac/temperature-change/code?datasetId=1056827&sortBy=voteCount), fornito anch'esso da **FAOSTAT** coniente statistiche sulla variazione media della temperatura superficiale per paese, con aggiornamenti annuali del periodo 1961–2019. Questi valori sono intesi come anomalie, cioè variazioni di temperatura rispetto a una climatologia di base, corrispondente al periodo 1951-1980."
   ]
  },
  {
   "cell_type": "markdown",
   "id": "7e35ff85-6da9-462b-97a6-4fb2cc4da761",
   "metadata": {},
   "source": [
    "### Import di moduli e dati"
   ]
  },
  {
   "cell_type": "code",
   "execution_count": 32,
   "id": "55ca714f",
   "metadata": {},
   "outputs": [],
   "source": [
    "# Librerie essenziali\n",
    "import numpy as np \n",
    "import pandas as pd\n",
    "\n",
    "import seaborn as sns\n",
    "import matplotlib.pyplot as plt\n",
    "\n",
    "import plotly\n",
    "import plotly.express as px\n",
    "import plotly.graph_objects as go\n",
    "\n",
    "# Librerie utili\n",
    "import fuzzywuzzy\n",
    "from fuzzywuzzy import process\n",
    "\n",
    "# Settings delle librerie\n",
    "pd.set_option('display.max_columns', None) # Preferisco visualizzare sempre tutte le colonne a disposizione dei datasets\n",
    "pd.set_option('display.max_rows', 66)"
   ]
  },
  {
   "cell_type": "code",
   "execution_count": 33,
   "id": "dd9065fa",
   "metadata": {},
   "outputs": [],
   "source": [
    "# Dataset della produzione di cibi/mangimi dei vari paesi del mondo\n",
    "fao_df = pd.read_csv('Data/Fao.csv')\n",
    "df_prod = fao_df.copy()\n",
    "\n",
    "# Dataset delle emissioni di gas serra e dei consumi di acqua per la produzione di alimenti\n",
    "emission_df = pd.read_csv('Data/Food_Production.csv')\n",
    "df_emiss = emission_df.copy()\n",
    "\n",
    "# Dataset delle variazioni di temperatura \n",
    "temperature_df = pd.read_csv('./Data/Environment_Temperature_change_E_All_Data_NOFLAG.csv')\n",
    "df_temp = temperature_df.copy()\n",
    "\n",
    "# Dataset utile contenente i codici ISO-3\n",
    "country_code = pd.read_csv('./Data/FAOSTAT_data_11-24-2020.csv')"
   ]
  },
  {
   "cell_type": "markdown",
   "id": "0221c1ab",
   "metadata": {},
   "source": [
    "---\n",
    "---\n",
    "## Data cleaning"
   ]
  },
  {
   "cell_type": "markdown",
   "id": "e51822a6",
   "metadata": {},
   "source": [
    "### Dataset della produzione di cibi/mangimi dei vari paesi del mondo"
   ]
  },
  {
   "cell_type": "code",
   "execution_count": 34,
   "id": "7ba971a4",
   "metadata": {},
   "outputs": [
    {
     "name": "stdout",
     "output_type": "stream",
     "text": [
      "Dimensioni del dataframe: 21477 righe e 63 colonne.\n",
      "\n",
      "Colonne del dataframe:\n",
      " Index(['Area Abbreviation', 'Area Code', 'Area', 'Item Code', 'Item',\n",
      "       'Element Code', 'Element', 'Unit', 'latitude', 'longitude', 'Y1961',\n",
      "       'Y1962', 'Y1963', 'Y1964', 'Y1965', 'Y1966', 'Y1967', 'Y1968', 'Y1969',\n",
      "       'Y1970', 'Y1971', 'Y1972', 'Y1973', 'Y1974', 'Y1975', 'Y1976', 'Y1977',\n",
      "       'Y1978', 'Y1979', 'Y1980', 'Y1981', 'Y1982', 'Y1983', 'Y1984', 'Y1985',\n",
      "       'Y1986', 'Y1987', 'Y1988', 'Y1989', 'Y1990', 'Y1991', 'Y1992', 'Y1993',\n",
      "       'Y1994', 'Y1995', 'Y1996', 'Y1997', 'Y1998', 'Y1999', 'Y2000', 'Y2001',\n",
      "       'Y2002', 'Y2003', 'Y2004', 'Y2005', 'Y2006', 'Y2007', 'Y2008', 'Y2009',\n",
      "       'Y2010', 'Y2011', 'Y2012', 'Y2013'],\n",
      "      dtype='object')\n"
     ]
    },
    {
     "data": {
      "text/html": [
       "<div>\n",
       "<style scoped>\n",
       "    .dataframe tbody tr th:only-of-type {\n",
       "        vertical-align: middle;\n",
       "    }\n",
       "\n",
       "    .dataframe tbody tr th {\n",
       "        vertical-align: top;\n",
       "    }\n",
       "\n",
       "    .dataframe thead th {\n",
       "        text-align: right;\n",
       "    }\n",
       "</style>\n",
       "<table border=\"1\" class=\"dataframe\">\n",
       "  <thead>\n",
       "    <tr style=\"text-align: right;\">\n",
       "      <th></th>\n",
       "      <th>Area Abbreviation</th>\n",
       "      <th>Area Code</th>\n",
       "      <th>Area</th>\n",
       "      <th>Item Code</th>\n",
       "      <th>Item</th>\n",
       "      <th>Element Code</th>\n",
       "      <th>Element</th>\n",
       "      <th>Unit</th>\n",
       "      <th>latitude</th>\n",
       "      <th>longitude</th>\n",
       "      <th>Y1961</th>\n",
       "      <th>Y1962</th>\n",
       "      <th>Y1963</th>\n",
       "      <th>Y1964</th>\n",
       "      <th>Y1965</th>\n",
       "      <th>Y1966</th>\n",
       "      <th>Y1967</th>\n",
       "      <th>Y1968</th>\n",
       "      <th>Y1969</th>\n",
       "      <th>Y1970</th>\n",
       "      <th>Y1971</th>\n",
       "      <th>Y1972</th>\n",
       "      <th>Y1973</th>\n",
       "      <th>Y1974</th>\n",
       "      <th>Y1975</th>\n",
       "      <th>Y1976</th>\n",
       "      <th>Y1977</th>\n",
       "      <th>Y1978</th>\n",
       "      <th>Y1979</th>\n",
       "      <th>Y1980</th>\n",
       "      <th>Y1981</th>\n",
       "      <th>Y1982</th>\n",
       "      <th>Y1983</th>\n",
       "      <th>Y1984</th>\n",
       "      <th>Y1985</th>\n",
       "      <th>Y1986</th>\n",
       "      <th>Y1987</th>\n",
       "      <th>Y1988</th>\n",
       "      <th>Y1989</th>\n",
       "      <th>Y1990</th>\n",
       "      <th>Y1991</th>\n",
       "      <th>Y1992</th>\n",
       "      <th>Y1993</th>\n",
       "      <th>Y1994</th>\n",
       "      <th>Y1995</th>\n",
       "      <th>Y1996</th>\n",
       "      <th>Y1997</th>\n",
       "      <th>Y1998</th>\n",
       "      <th>Y1999</th>\n",
       "      <th>Y2000</th>\n",
       "      <th>Y2001</th>\n",
       "      <th>Y2002</th>\n",
       "      <th>Y2003</th>\n",
       "      <th>Y2004</th>\n",
       "      <th>Y2005</th>\n",
       "      <th>Y2006</th>\n",
       "      <th>Y2007</th>\n",
       "      <th>Y2008</th>\n",
       "      <th>Y2009</th>\n",
       "      <th>Y2010</th>\n",
       "      <th>Y2011</th>\n",
       "      <th>Y2012</th>\n",
       "      <th>Y2013</th>\n",
       "    </tr>\n",
       "  </thead>\n",
       "  <tbody>\n",
       "    <tr>\n",
       "      <th>0</th>\n",
       "      <td>AFG</td>\n",
       "      <td>2</td>\n",
       "      <td>Afghanistan</td>\n",
       "      <td>2511</td>\n",
       "      <td>Wheat and products</td>\n",
       "      <td>5142</td>\n",
       "      <td>Food</td>\n",
       "      <td>1000 tonnes</td>\n",
       "      <td>33.94</td>\n",
       "      <td>67.71</td>\n",
       "      <td>1928.0</td>\n",
       "      <td>1904.0</td>\n",
       "      <td>1666.0</td>\n",
       "      <td>1950.0</td>\n",
       "      <td>2001.0</td>\n",
       "      <td>1808.0</td>\n",
       "      <td>2053.0</td>\n",
       "      <td>2045.0</td>\n",
       "      <td>2154.0</td>\n",
       "      <td>1819.0</td>\n",
       "      <td>1963.0</td>\n",
       "      <td>2215.0</td>\n",
       "      <td>2310.0</td>\n",
       "      <td>2335.0</td>\n",
       "      <td>2434.0</td>\n",
       "      <td>2512.0</td>\n",
       "      <td>2282.0</td>\n",
       "      <td>2454.0</td>\n",
       "      <td>2443.0</td>\n",
       "      <td>2129.0</td>\n",
       "      <td>2133.0</td>\n",
       "      <td>2068.0</td>\n",
       "      <td>1994.0</td>\n",
       "      <td>1851.0</td>\n",
       "      <td>1791.0</td>\n",
       "      <td>1683.0</td>\n",
       "      <td>2194.0</td>\n",
       "      <td>1801.0</td>\n",
       "      <td>1754.0</td>\n",
       "      <td>1640.0</td>\n",
       "      <td>1539.0</td>\n",
       "      <td>1582.0</td>\n",
       "      <td>1840.0</td>\n",
       "      <td>1855.0</td>\n",
       "      <td>1853.0</td>\n",
       "      <td>2177.0</td>\n",
       "      <td>2343.0</td>\n",
       "      <td>2407.0</td>\n",
       "      <td>2463.0</td>\n",
       "      <td>2600.0</td>\n",
       "      <td>2668.0</td>\n",
       "      <td>2776.0</td>\n",
       "      <td>3095.0</td>\n",
       "      <td>3249.0</td>\n",
       "      <td>3486.0</td>\n",
       "      <td>3704.0</td>\n",
       "      <td>4164.0</td>\n",
       "      <td>4252.0</td>\n",
       "      <td>4538.0</td>\n",
       "      <td>4605.0</td>\n",
       "      <td>4711.0</td>\n",
       "      <td>4810</td>\n",
       "      <td>4895</td>\n",
       "    </tr>\n",
       "    <tr>\n",
       "      <th>1</th>\n",
       "      <td>AFG</td>\n",
       "      <td>2</td>\n",
       "      <td>Afghanistan</td>\n",
       "      <td>2805</td>\n",
       "      <td>Rice (Milled Equivalent)</td>\n",
       "      <td>5142</td>\n",
       "      <td>Food</td>\n",
       "      <td>1000 tonnes</td>\n",
       "      <td>33.94</td>\n",
       "      <td>67.71</td>\n",
       "      <td>183.0</td>\n",
       "      <td>183.0</td>\n",
       "      <td>182.0</td>\n",
       "      <td>220.0</td>\n",
       "      <td>220.0</td>\n",
       "      <td>195.0</td>\n",
       "      <td>231.0</td>\n",
       "      <td>235.0</td>\n",
       "      <td>238.0</td>\n",
       "      <td>213.0</td>\n",
       "      <td>205.0</td>\n",
       "      <td>233.0</td>\n",
       "      <td>246.0</td>\n",
       "      <td>246.0</td>\n",
       "      <td>255.0</td>\n",
       "      <td>263.0</td>\n",
       "      <td>235.0</td>\n",
       "      <td>254.0</td>\n",
       "      <td>270.0</td>\n",
       "      <td>259.0</td>\n",
       "      <td>248.0</td>\n",
       "      <td>217.0</td>\n",
       "      <td>217.0</td>\n",
       "      <td>197.0</td>\n",
       "      <td>186.0</td>\n",
       "      <td>200.0</td>\n",
       "      <td>193.0</td>\n",
       "      <td>202.0</td>\n",
       "      <td>191.0</td>\n",
       "      <td>199.0</td>\n",
       "      <td>197.0</td>\n",
       "      <td>249.0</td>\n",
       "      <td>218.0</td>\n",
       "      <td>260.0</td>\n",
       "      <td>319.0</td>\n",
       "      <td>254.0</td>\n",
       "      <td>326.0</td>\n",
       "      <td>347.0</td>\n",
       "      <td>270.0</td>\n",
       "      <td>372.0</td>\n",
       "      <td>411.0</td>\n",
       "      <td>448.0</td>\n",
       "      <td>460.0</td>\n",
       "      <td>419.0</td>\n",
       "      <td>445.0</td>\n",
       "      <td>546.0</td>\n",
       "      <td>455.0</td>\n",
       "      <td>490.0</td>\n",
       "      <td>415.0</td>\n",
       "      <td>442.0</td>\n",
       "      <td>476.0</td>\n",
       "      <td>425</td>\n",
       "      <td>422</td>\n",
       "    </tr>\n",
       "    <tr>\n",
       "      <th>2</th>\n",
       "      <td>AFG</td>\n",
       "      <td>2</td>\n",
       "      <td>Afghanistan</td>\n",
       "      <td>2513</td>\n",
       "      <td>Barley and products</td>\n",
       "      <td>5521</td>\n",
       "      <td>Feed</td>\n",
       "      <td>1000 tonnes</td>\n",
       "      <td>33.94</td>\n",
       "      <td>67.71</td>\n",
       "      <td>76.0</td>\n",
       "      <td>76.0</td>\n",
       "      <td>76.0</td>\n",
       "      <td>76.0</td>\n",
       "      <td>76.0</td>\n",
       "      <td>75.0</td>\n",
       "      <td>71.0</td>\n",
       "      <td>72.0</td>\n",
       "      <td>73.0</td>\n",
       "      <td>74.0</td>\n",
       "      <td>71.0</td>\n",
       "      <td>70.0</td>\n",
       "      <td>72.0</td>\n",
       "      <td>76.0</td>\n",
       "      <td>77.0</td>\n",
       "      <td>80.0</td>\n",
       "      <td>60.0</td>\n",
       "      <td>65.0</td>\n",
       "      <td>64.0</td>\n",
       "      <td>64.0</td>\n",
       "      <td>60.0</td>\n",
       "      <td>55.0</td>\n",
       "      <td>53.0</td>\n",
       "      <td>51.0</td>\n",
       "      <td>48.0</td>\n",
       "      <td>46.0</td>\n",
       "      <td>46.0</td>\n",
       "      <td>47.0</td>\n",
       "      <td>46.0</td>\n",
       "      <td>43.0</td>\n",
       "      <td>43.0</td>\n",
       "      <td>40.0</td>\n",
       "      <td>50.0</td>\n",
       "      <td>46.0</td>\n",
       "      <td>41.0</td>\n",
       "      <td>44.0</td>\n",
       "      <td>50.0</td>\n",
       "      <td>48.0</td>\n",
       "      <td>43.0</td>\n",
       "      <td>26.0</td>\n",
       "      <td>29.0</td>\n",
       "      <td>70.0</td>\n",
       "      <td>48.0</td>\n",
       "      <td>58.0</td>\n",
       "      <td>236.0</td>\n",
       "      <td>262.0</td>\n",
       "      <td>263.0</td>\n",
       "      <td>230.0</td>\n",
       "      <td>379.0</td>\n",
       "      <td>315.0</td>\n",
       "      <td>203.0</td>\n",
       "      <td>367</td>\n",
       "      <td>360</td>\n",
       "    </tr>\n",
       "    <tr>\n",
       "      <th>3</th>\n",
       "      <td>AFG</td>\n",
       "      <td>2</td>\n",
       "      <td>Afghanistan</td>\n",
       "      <td>2513</td>\n",
       "      <td>Barley and products</td>\n",
       "      <td>5142</td>\n",
       "      <td>Food</td>\n",
       "      <td>1000 tonnes</td>\n",
       "      <td>33.94</td>\n",
       "      <td>67.71</td>\n",
       "      <td>237.0</td>\n",
       "      <td>237.0</td>\n",
       "      <td>237.0</td>\n",
       "      <td>238.0</td>\n",
       "      <td>238.0</td>\n",
       "      <td>237.0</td>\n",
       "      <td>225.0</td>\n",
       "      <td>227.0</td>\n",
       "      <td>230.0</td>\n",
       "      <td>234.0</td>\n",
       "      <td>223.0</td>\n",
       "      <td>219.0</td>\n",
       "      <td>225.0</td>\n",
       "      <td>240.0</td>\n",
       "      <td>244.0</td>\n",
       "      <td>255.0</td>\n",
       "      <td>185.0</td>\n",
       "      <td>203.0</td>\n",
       "      <td>198.0</td>\n",
       "      <td>202.0</td>\n",
       "      <td>189.0</td>\n",
       "      <td>174.0</td>\n",
       "      <td>167.0</td>\n",
       "      <td>160.0</td>\n",
       "      <td>151.0</td>\n",
       "      <td>145.0</td>\n",
       "      <td>145.0</td>\n",
       "      <td>148.0</td>\n",
       "      <td>145.0</td>\n",
       "      <td>135.0</td>\n",
       "      <td>132.0</td>\n",
       "      <td>120.0</td>\n",
       "      <td>155.0</td>\n",
       "      <td>143.0</td>\n",
       "      <td>125.0</td>\n",
       "      <td>138.0</td>\n",
       "      <td>159.0</td>\n",
       "      <td>154.0</td>\n",
       "      <td>141.0</td>\n",
       "      <td>84.0</td>\n",
       "      <td>83.0</td>\n",
       "      <td>122.0</td>\n",
       "      <td>144.0</td>\n",
       "      <td>185.0</td>\n",
       "      <td>43.0</td>\n",
       "      <td>44.0</td>\n",
       "      <td>48.0</td>\n",
       "      <td>62.0</td>\n",
       "      <td>55.0</td>\n",
       "      <td>60.0</td>\n",
       "      <td>72.0</td>\n",
       "      <td>78</td>\n",
       "      <td>89</td>\n",
       "    </tr>\n",
       "    <tr>\n",
       "      <th>4</th>\n",
       "      <td>AFG</td>\n",
       "      <td>2</td>\n",
       "      <td>Afghanistan</td>\n",
       "      <td>2514</td>\n",
       "      <td>Maize and products</td>\n",
       "      <td>5521</td>\n",
       "      <td>Feed</td>\n",
       "      <td>1000 tonnes</td>\n",
       "      <td>33.94</td>\n",
       "      <td>67.71</td>\n",
       "      <td>210.0</td>\n",
       "      <td>210.0</td>\n",
       "      <td>214.0</td>\n",
       "      <td>216.0</td>\n",
       "      <td>216.0</td>\n",
       "      <td>216.0</td>\n",
       "      <td>235.0</td>\n",
       "      <td>232.0</td>\n",
       "      <td>236.0</td>\n",
       "      <td>200.0</td>\n",
       "      <td>201.0</td>\n",
       "      <td>216.0</td>\n",
       "      <td>228.0</td>\n",
       "      <td>231.0</td>\n",
       "      <td>234.0</td>\n",
       "      <td>240.0</td>\n",
       "      <td>228.0</td>\n",
       "      <td>234.0</td>\n",
       "      <td>228.0</td>\n",
       "      <td>226.0</td>\n",
       "      <td>210.0</td>\n",
       "      <td>199.0</td>\n",
       "      <td>192.0</td>\n",
       "      <td>182.0</td>\n",
       "      <td>173.0</td>\n",
       "      <td>170.0</td>\n",
       "      <td>154.0</td>\n",
       "      <td>148.0</td>\n",
       "      <td>137.0</td>\n",
       "      <td>144.0</td>\n",
       "      <td>126.0</td>\n",
       "      <td>90.0</td>\n",
       "      <td>141.0</td>\n",
       "      <td>150.0</td>\n",
       "      <td>159.0</td>\n",
       "      <td>108.0</td>\n",
       "      <td>90.0</td>\n",
       "      <td>99.0</td>\n",
       "      <td>72.0</td>\n",
       "      <td>35.0</td>\n",
       "      <td>48.0</td>\n",
       "      <td>89.0</td>\n",
       "      <td>63.0</td>\n",
       "      <td>120.0</td>\n",
       "      <td>208.0</td>\n",
       "      <td>233.0</td>\n",
       "      <td>249.0</td>\n",
       "      <td>247.0</td>\n",
       "      <td>195.0</td>\n",
       "      <td>178.0</td>\n",
       "      <td>191.0</td>\n",
       "      <td>200</td>\n",
       "      <td>200</td>\n",
       "    </tr>\n",
       "  </tbody>\n",
       "</table>\n",
       "</div>"
      ],
      "text/plain": [
       "  Area Abbreviation  Area Code         Area  Item Code  \\\n",
       "0               AFG          2  Afghanistan       2511   \n",
       "1               AFG          2  Afghanistan       2805   \n",
       "2               AFG          2  Afghanistan       2513   \n",
       "3               AFG          2  Afghanistan       2513   \n",
       "4               AFG          2  Afghanistan       2514   \n",
       "\n",
       "                       Item  Element Code Element         Unit  latitude  \\\n",
       "0        Wheat and products          5142    Food  1000 tonnes     33.94   \n",
       "1  Rice (Milled Equivalent)          5142    Food  1000 tonnes     33.94   \n",
       "2       Barley and products          5521    Feed  1000 tonnes     33.94   \n",
       "3       Barley and products          5142    Food  1000 tonnes     33.94   \n",
       "4        Maize and products          5521    Feed  1000 tonnes     33.94   \n",
       "\n",
       "   longitude   Y1961   Y1962   Y1963   Y1964   Y1965   Y1966   Y1967   Y1968  \\\n",
       "0      67.71  1928.0  1904.0  1666.0  1950.0  2001.0  1808.0  2053.0  2045.0   \n",
       "1      67.71   183.0   183.0   182.0   220.0   220.0   195.0   231.0   235.0   \n",
       "2      67.71    76.0    76.0    76.0    76.0    76.0    75.0    71.0    72.0   \n",
       "3      67.71   237.0   237.0   237.0   238.0   238.0   237.0   225.0   227.0   \n",
       "4      67.71   210.0   210.0   214.0   216.0   216.0   216.0   235.0   232.0   \n",
       "\n",
       "    Y1969   Y1970   Y1971   Y1972   Y1973   Y1974   Y1975   Y1976   Y1977  \\\n",
       "0  2154.0  1819.0  1963.0  2215.0  2310.0  2335.0  2434.0  2512.0  2282.0   \n",
       "1   238.0   213.0   205.0   233.0   246.0   246.0   255.0   263.0   235.0   \n",
       "2    73.0    74.0    71.0    70.0    72.0    76.0    77.0    80.0    60.0   \n",
       "3   230.0   234.0   223.0   219.0   225.0   240.0   244.0   255.0   185.0   \n",
       "4   236.0   200.0   201.0   216.0   228.0   231.0   234.0   240.0   228.0   \n",
       "\n",
       "    Y1978   Y1979   Y1980   Y1981   Y1982   Y1983   Y1984   Y1985   Y1986  \\\n",
       "0  2454.0  2443.0  2129.0  2133.0  2068.0  1994.0  1851.0  1791.0  1683.0   \n",
       "1   254.0   270.0   259.0   248.0   217.0   217.0   197.0   186.0   200.0   \n",
       "2    65.0    64.0    64.0    60.0    55.0    53.0    51.0    48.0    46.0   \n",
       "3   203.0   198.0   202.0   189.0   174.0   167.0   160.0   151.0   145.0   \n",
       "4   234.0   228.0   226.0   210.0   199.0   192.0   182.0   173.0   170.0   \n",
       "\n",
       "    Y1987   Y1988   Y1989   Y1990   Y1991   Y1992   Y1993   Y1994   Y1995  \\\n",
       "0  2194.0  1801.0  1754.0  1640.0  1539.0  1582.0  1840.0  1855.0  1853.0   \n",
       "1   193.0   202.0   191.0   199.0   197.0   249.0   218.0   260.0   319.0   \n",
       "2    46.0    47.0    46.0    43.0    43.0    40.0    50.0    46.0    41.0   \n",
       "3   145.0   148.0   145.0   135.0   132.0   120.0   155.0   143.0   125.0   \n",
       "4   154.0   148.0   137.0   144.0   126.0    90.0   141.0   150.0   159.0   \n",
       "\n",
       "    Y1996   Y1997   Y1998   Y1999   Y2000   Y2001   Y2002   Y2003   Y2004  \\\n",
       "0  2177.0  2343.0  2407.0  2463.0  2600.0  2668.0  2776.0  3095.0  3249.0   \n",
       "1   254.0   326.0   347.0   270.0   372.0   411.0   448.0   460.0   419.0   \n",
       "2    44.0    50.0    48.0    43.0    26.0    29.0    70.0    48.0    58.0   \n",
       "3   138.0   159.0   154.0   141.0    84.0    83.0   122.0   144.0   185.0   \n",
       "4   108.0    90.0    99.0    72.0    35.0    48.0    89.0    63.0   120.0   \n",
       "\n",
       "    Y2005   Y2006   Y2007   Y2008   Y2009   Y2010   Y2011  Y2012  Y2013  \n",
       "0  3486.0  3704.0  4164.0  4252.0  4538.0  4605.0  4711.0   4810   4895  \n",
       "1   445.0   546.0   455.0   490.0   415.0   442.0   476.0    425    422  \n",
       "2   236.0   262.0   263.0   230.0   379.0   315.0   203.0    367    360  \n",
       "3    43.0    44.0    48.0    62.0    55.0    60.0    72.0     78     89  \n",
       "4   208.0   233.0   249.0   247.0   195.0   178.0   191.0    200    200  "
      ]
     },
     "execution_count": 34,
     "metadata": {},
     "output_type": "execute_result"
    }
   ],
   "source": [
    "print(f\"Dimensioni del dataframe: {df_prod.shape[0]} righe e {df_prod.shape[1]} colonne.\")\n",
    "print(\"\\nColonne del dataframe:\\n\", df_prod.columns)\n",
    "df_prod.head()"
   ]
  },
  {
   "cell_type": "code",
   "execution_count": 35,
   "id": "ebd19f4c",
   "metadata": {},
   "outputs": [],
   "source": [
    "# Rimuovo la 'Y' dalle labels degli anni\n",
    "df_prod.rename(columns={n:n[1:] for n in df_prod.columns if 'Y' in n}, inplace=True)\n",
    "\n",
    "# Sostituisco gli spazi nelle features delle colonne per renderle più maneggiabili\n",
    "df_prod.rename(columns={n:n.replace(' ', '_') for n in df_prod.columns if ' ' in n}, inplace= True)"
   ]
  },
  {
   "cell_type": "markdown",
   "id": "8e24bf63",
   "metadata": {},
   "source": [
    "#### Valori nulli e variabili quantitative"
   ]
  },
  {
   "cell_type": "markdown",
   "id": "cec396d5",
   "metadata": {},
   "source": [
    "Procedo verificando la presenza di valori nulli (*NaN*) nel dataset. Se effettivamente presenti, approfondisco l'analisi per sapere quanti sono e in quali colonne sono maggiormente frequenti. Inoltre, proverò a fare un *imputation*, ovvero a stabilire il motivo della loro presenza. "
   ]
  },
  {
   "cell_type": "code",
   "execution_count": 36,
   "id": "9a5ea65a",
   "metadata": {},
   "outputs": [
    {
     "name": "stdout",
     "output_type": "stream",
     "text": [
      "Dtype, Valori unici e Valori mancanti(%) di ciascuna colonna:\n"
     ]
    },
    {
     "data": {
      "text/html": [
       "<div>\n",
       "<style scoped>\n",
       "    .dataframe tbody tr th:only-of-type {\n",
       "        vertical-align: middle;\n",
       "    }\n",
       "\n",
       "    .dataframe tbody tr th {\n",
       "        vertical-align: top;\n",
       "    }\n",
       "\n",
       "    .dataframe thead th {\n",
       "        text-align: right;\n",
       "    }\n",
       "</style>\n",
       "<table border=\"1\" class=\"dataframe\">\n",
       "  <thead>\n",
       "    <tr style=\"text-align: right;\">\n",
       "      <th></th>\n",
       "      <th>Dtype</th>\n",
       "      <th>Valori unici</th>\n",
       "      <th>Valori mancanti(%)</th>\n",
       "    </tr>\n",
       "    <tr>\n",
       "      <th>Colonne</th>\n",
       "      <th></th>\n",
       "      <th></th>\n",
       "      <th></th>\n",
       "    </tr>\n",
       "  </thead>\n",
       "  <tbody>\n",
       "    <tr>\n",
       "      <th>Area_Abbreviation</th>\n",
       "      <td>object</td>\n",
       "      <td>169</td>\n",
       "      <td>0.00</td>\n",
       "    </tr>\n",
       "    <tr>\n",
       "      <th>Area_Code</th>\n",
       "      <td>int64</td>\n",
       "      <td>174</td>\n",
       "      <td>0.00</td>\n",
       "    </tr>\n",
       "    <tr>\n",
       "      <th>Area</th>\n",
       "      <td>object</td>\n",
       "      <td>174</td>\n",
       "      <td>0.00</td>\n",
       "    </tr>\n",
       "    <tr>\n",
       "      <th>Item_Code</th>\n",
       "      <td>int64</td>\n",
       "      <td>117</td>\n",
       "      <td>0.00</td>\n",
       "    </tr>\n",
       "    <tr>\n",
       "      <th>Item</th>\n",
       "      <td>object</td>\n",
       "      <td>115</td>\n",
       "      <td>0.00</td>\n",
       "    </tr>\n",
       "    <tr>\n",
       "      <th>Element_Code</th>\n",
       "      <td>int64</td>\n",
       "      <td>2</td>\n",
       "      <td>0.00</td>\n",
       "    </tr>\n",
       "    <tr>\n",
       "      <th>Element</th>\n",
       "      <td>object</td>\n",
       "      <td>2</td>\n",
       "      <td>0.00</td>\n",
       "    </tr>\n",
       "    <tr>\n",
       "      <th>Unit</th>\n",
       "      <td>object</td>\n",
       "      <td>1</td>\n",
       "      <td>0.00</td>\n",
       "    </tr>\n",
       "    <tr>\n",
       "      <th>latitude</th>\n",
       "      <td>float64</td>\n",
       "      <td>173</td>\n",
       "      <td>0.00</td>\n",
       "    </tr>\n",
       "    <tr>\n",
       "      <th>longitude</th>\n",
       "      <td>float64</td>\n",
       "      <td>174</td>\n",
       "      <td>0.00</td>\n",
       "    </tr>\n",
       "    <tr>\n",
       "      <th>1961</th>\n",
       "      <td>float64</td>\n",
       "      <td>1197</td>\n",
       "      <td>16.48</td>\n",
       "    </tr>\n",
       "    <tr>\n",
       "      <th>1962</th>\n",
       "      <td>float64</td>\n",
       "      <td>1215</td>\n",
       "      <td>16.48</td>\n",
       "    </tr>\n",
       "    <tr>\n",
       "      <th>1963</th>\n",
       "      <td>float64</td>\n",
       "      <td>1209</td>\n",
       "      <td>16.48</td>\n",
       "    </tr>\n",
       "    <tr>\n",
       "      <th>1964</th>\n",
       "      <td>float64</td>\n",
       "      <td>1236</td>\n",
       "      <td>16.48</td>\n",
       "    </tr>\n",
       "    <tr>\n",
       "      <th>1965</th>\n",
       "      <td>float64</td>\n",
       "      <td>1259</td>\n",
       "      <td>16.48</td>\n",
       "    </tr>\n",
       "    <tr>\n",
       "      <th>1966</th>\n",
       "      <td>float64</td>\n",
       "      <td>1263</td>\n",
       "      <td>16.48</td>\n",
       "    </tr>\n",
       "    <tr>\n",
       "      <th>1967</th>\n",
       "      <td>float64</td>\n",
       "      <td>1283</td>\n",
       "      <td>16.48</td>\n",
       "    </tr>\n",
       "    <tr>\n",
       "      <th>1968</th>\n",
       "      <td>float64</td>\n",
       "      <td>1300</td>\n",
       "      <td>16.48</td>\n",
       "    </tr>\n",
       "    <tr>\n",
       "      <th>1969</th>\n",
       "      <td>float64</td>\n",
       "      <td>1309</td>\n",
       "      <td>16.48</td>\n",
       "    </tr>\n",
       "    <tr>\n",
       "      <th>1970</th>\n",
       "      <td>float64</td>\n",
       "      <td>1322</td>\n",
       "      <td>16.48</td>\n",
       "    </tr>\n",
       "    <tr>\n",
       "      <th>1971</th>\n",
       "      <td>float64</td>\n",
       "      <td>1351</td>\n",
       "      <td>16.48</td>\n",
       "    </tr>\n",
       "    <tr>\n",
       "      <th>1972</th>\n",
       "      <td>float64</td>\n",
       "      <td>1360</td>\n",
       "      <td>16.48</td>\n",
       "    </tr>\n",
       "    <tr>\n",
       "      <th>1973</th>\n",
       "      <td>float64</td>\n",
       "      <td>1374</td>\n",
       "      <td>16.48</td>\n",
       "    </tr>\n",
       "    <tr>\n",
       "      <th>1974</th>\n",
       "      <td>float64</td>\n",
       "      <td>1388</td>\n",
       "      <td>16.48</td>\n",
       "    </tr>\n",
       "    <tr>\n",
       "      <th>1975</th>\n",
       "      <td>float64</td>\n",
       "      <td>1405</td>\n",
       "      <td>16.48</td>\n",
       "    </tr>\n",
       "    <tr>\n",
       "      <th>1976</th>\n",
       "      <td>float64</td>\n",
       "      <td>1410</td>\n",
       "      <td>16.48</td>\n",
       "    </tr>\n",
       "    <tr>\n",
       "      <th>1977</th>\n",
       "      <td>float64</td>\n",
       "      <td>1411</td>\n",
       "      <td>16.48</td>\n",
       "    </tr>\n",
       "    <tr>\n",
       "      <th>1978</th>\n",
       "      <td>float64</td>\n",
       "      <td>1463</td>\n",
       "      <td>16.48</td>\n",
       "    </tr>\n",
       "    <tr>\n",
       "      <th>1979</th>\n",
       "      <td>float64</td>\n",
       "      <td>1473</td>\n",
       "      <td>16.48</td>\n",
       "    </tr>\n",
       "    <tr>\n",
       "      <th>1980</th>\n",
       "      <td>float64</td>\n",
       "      <td>1477</td>\n",
       "      <td>16.48</td>\n",
       "    </tr>\n",
       "    <tr>\n",
       "      <th>1981</th>\n",
       "      <td>float64</td>\n",
       "      <td>1469</td>\n",
       "      <td>16.48</td>\n",
       "    </tr>\n",
       "    <tr>\n",
       "      <th>1982</th>\n",
       "      <td>float64</td>\n",
       "      <td>1508</td>\n",
       "      <td>16.48</td>\n",
       "    </tr>\n",
       "    <tr>\n",
       "      <th>1983</th>\n",
       "      <td>float64</td>\n",
       "      <td>1528</td>\n",
       "      <td>16.48</td>\n",
       "    </tr>\n",
       "    <tr>\n",
       "      <th>1984</th>\n",
       "      <td>float64</td>\n",
       "      <td>1540</td>\n",
       "      <td>16.48</td>\n",
       "    </tr>\n",
       "    <tr>\n",
       "      <th>1985</th>\n",
       "      <td>float64</td>\n",
       "      <td>1538</td>\n",
       "      <td>16.48</td>\n",
       "    </tr>\n",
       "    <tr>\n",
       "      <th>1986</th>\n",
       "      <td>float64</td>\n",
       "      <td>1563</td>\n",
       "      <td>16.48</td>\n",
       "    </tr>\n",
       "    <tr>\n",
       "      <th>1987</th>\n",
       "      <td>float64</td>\n",
       "      <td>1592</td>\n",
       "      <td>16.48</td>\n",
       "    </tr>\n",
       "    <tr>\n",
       "      <th>1988</th>\n",
       "      <td>float64</td>\n",
       "      <td>1613</td>\n",
       "      <td>16.48</td>\n",
       "    </tr>\n",
       "    <tr>\n",
       "      <th>1989</th>\n",
       "      <td>float64</td>\n",
       "      <td>1622</td>\n",
       "      <td>16.48</td>\n",
       "    </tr>\n",
       "    <tr>\n",
       "      <th>1990</th>\n",
       "      <td>float64</td>\n",
       "      <td>1621</td>\n",
       "      <td>15.90</td>\n",
       "    </tr>\n",
       "    <tr>\n",
       "      <th>1991</th>\n",
       "      <td>float64</td>\n",
       "      <td>1632</td>\n",
       "      <td>15.90</td>\n",
       "    </tr>\n",
       "    <tr>\n",
       "      <th>1992</th>\n",
       "      <td>float64</td>\n",
       "      <td>1747</td>\n",
       "      <td>4.60</td>\n",
       "    </tr>\n",
       "    <tr>\n",
       "      <th>1993</th>\n",
       "      <td>float64</td>\n",
       "      <td>1785</td>\n",
       "      <td>2.85</td>\n",
       "    </tr>\n",
       "    <tr>\n",
       "      <th>1994</th>\n",
       "      <td>float64</td>\n",
       "      <td>1796</td>\n",
       "      <td>2.85</td>\n",
       "    </tr>\n",
       "    <tr>\n",
       "      <th>1995</th>\n",
       "      <td>float64</td>\n",
       "      <td>1796</td>\n",
       "      <td>2.85</td>\n",
       "    </tr>\n",
       "    <tr>\n",
       "      <th>1996</th>\n",
       "      <td>float64</td>\n",
       "      <td>1807</td>\n",
       "      <td>2.85</td>\n",
       "    </tr>\n",
       "    <tr>\n",
       "      <th>1997</th>\n",
       "      <td>float64</td>\n",
       "      <td>1810</td>\n",
       "      <td>2.85</td>\n",
       "    </tr>\n",
       "    <tr>\n",
       "      <th>1998</th>\n",
       "      <td>float64</td>\n",
       "      <td>1844</td>\n",
       "      <td>2.85</td>\n",
       "    </tr>\n",
       "    <tr>\n",
       "      <th>1999</th>\n",
       "      <td>float64</td>\n",
       "      <td>1859</td>\n",
       "      <td>2.85</td>\n",
       "    </tr>\n",
       "    <tr>\n",
       "      <th>2000</th>\n",
       "      <td>float64</td>\n",
       "      <td>1892</td>\n",
       "      <td>1.62</td>\n",
       "    </tr>\n",
       "    <tr>\n",
       "      <th>2001</th>\n",
       "      <td>float64</td>\n",
       "      <td>1881</td>\n",
       "      <td>1.62</td>\n",
       "    </tr>\n",
       "    <tr>\n",
       "      <th>2002</th>\n",
       "      <td>float64</td>\n",
       "      <td>1909</td>\n",
       "      <td>1.62</td>\n",
       "    </tr>\n",
       "    <tr>\n",
       "      <th>2003</th>\n",
       "      <td>float64</td>\n",
       "      <td>1935</td>\n",
       "      <td>1.62</td>\n",
       "    </tr>\n",
       "    <tr>\n",
       "      <th>2004</th>\n",
       "      <td>float64</td>\n",
       "      <td>1944</td>\n",
       "      <td>1.62</td>\n",
       "    </tr>\n",
       "    <tr>\n",
       "      <th>2005</th>\n",
       "      <td>float64</td>\n",
       "      <td>1963</td>\n",
       "      <td>1.62</td>\n",
       "    </tr>\n",
       "    <tr>\n",
       "      <th>2006</th>\n",
       "      <td>float64</td>\n",
       "      <td>1987</td>\n",
       "      <td>0.48</td>\n",
       "    </tr>\n",
       "    <tr>\n",
       "      <th>2007</th>\n",
       "      <td>float64</td>\n",
       "      <td>1994</td>\n",
       "      <td>0.48</td>\n",
       "    </tr>\n",
       "    <tr>\n",
       "      <th>2008</th>\n",
       "      <td>float64</td>\n",
       "      <td>2028</td>\n",
       "      <td>0.48</td>\n",
       "    </tr>\n",
       "    <tr>\n",
       "      <th>2009</th>\n",
       "      <td>float64</td>\n",
       "      <td>2029</td>\n",
       "      <td>0.48</td>\n",
       "    </tr>\n",
       "    <tr>\n",
       "      <th>2010</th>\n",
       "      <td>float64</td>\n",
       "      <td>2046</td>\n",
       "      <td>0.48</td>\n",
       "    </tr>\n",
       "    <tr>\n",
       "      <th>2011</th>\n",
       "      <td>float64</td>\n",
       "      <td>2081</td>\n",
       "      <td>0.48</td>\n",
       "    </tr>\n",
       "    <tr>\n",
       "      <th>2012</th>\n",
       "      <td>int64</td>\n",
       "      <td>2084</td>\n",
       "      <td>0.00</td>\n",
       "    </tr>\n",
       "    <tr>\n",
       "      <th>2013</th>\n",
       "      <td>int64</td>\n",
       "      <td>2107</td>\n",
       "      <td>0.00</td>\n",
       "    </tr>\n",
       "  </tbody>\n",
       "</table>\n",
       "</div>"
      ],
      "text/plain": [
       "                     Dtype  Valori unici  Valori mancanti(%)\n",
       "Colonne                                                     \n",
       "Area_Abbreviation   object           169                0.00\n",
       "Area_Code            int64           174                0.00\n",
       "Area                object           174                0.00\n",
       "Item_Code            int64           117                0.00\n",
       "Item                object           115                0.00\n",
       "Element_Code         int64             2                0.00\n",
       "Element             object             2                0.00\n",
       "Unit                object             1                0.00\n",
       "latitude           float64           173                0.00\n",
       "longitude          float64           174                0.00\n",
       "1961               float64          1197               16.48\n",
       "1962               float64          1215               16.48\n",
       "1963               float64          1209               16.48\n",
       "1964               float64          1236               16.48\n",
       "1965               float64          1259               16.48\n",
       "1966               float64          1263               16.48\n",
       "1967               float64          1283               16.48\n",
       "1968               float64          1300               16.48\n",
       "1969               float64          1309               16.48\n",
       "1970               float64          1322               16.48\n",
       "1971               float64          1351               16.48\n",
       "1972               float64          1360               16.48\n",
       "1973               float64          1374               16.48\n",
       "1974               float64          1388               16.48\n",
       "1975               float64          1405               16.48\n",
       "1976               float64          1410               16.48\n",
       "1977               float64          1411               16.48\n",
       "1978               float64          1463               16.48\n",
       "1979               float64          1473               16.48\n",
       "1980               float64          1477               16.48\n",
       "1981               float64          1469               16.48\n",
       "1982               float64          1508               16.48\n",
       "1983               float64          1528               16.48\n",
       "1984               float64          1540               16.48\n",
       "1985               float64          1538               16.48\n",
       "1986               float64          1563               16.48\n",
       "1987               float64          1592               16.48\n",
       "1988               float64          1613               16.48\n",
       "1989               float64          1622               16.48\n",
       "1990               float64          1621               15.90\n",
       "1991               float64          1632               15.90\n",
       "1992               float64          1747                4.60\n",
       "1993               float64          1785                2.85\n",
       "1994               float64          1796                2.85\n",
       "1995               float64          1796                2.85\n",
       "1996               float64          1807                2.85\n",
       "1997               float64          1810                2.85\n",
       "1998               float64          1844                2.85\n",
       "1999               float64          1859                2.85\n",
       "2000               float64          1892                1.62\n",
       "2001               float64          1881                1.62\n",
       "2002               float64          1909                1.62\n",
       "2003               float64          1935                1.62\n",
       "2004               float64          1944                1.62\n",
       "2005               float64          1963                1.62\n",
       "2006               float64          1987                0.48\n",
       "2007               float64          1994                0.48\n",
       "2008               float64          2028                0.48\n",
       "2009               float64          2029                0.48\n",
       "2010               float64          2046                0.48\n",
       "2011               float64          2081                0.48\n",
       "2012                 int64          2084                0.00\n",
       "2013                 int64          2107                0.00"
      ]
     },
     "execution_count": 36,
     "metadata": {},
     "output_type": "execute_result"
    }
   ],
   "source": [
    "pd.set_option('display.max_rows', 63)\n",
    "\n",
    "# La funzione pd.DataFrame.info() è un ottimo strumento, ma in questo si ottiene output un po' confusionario \n",
    "# quindi costruisco una tabella riassuntiva più leggibile sui Dtype, valori unici e valori nulli di tutte le colonne\n",
    "print(\"Dtype, Valori unici e Valori mancanti(%) di ciascuna colonna:\")\n",
    "\n",
    "df_prod_info= pd.DataFrame({\"Dtype\": df_prod.dtypes, \n",
    "                            \"Valori unici\": df_prod.nunique(),\n",
    "                            \"Valori mancanti(%)\": round(df_prod.isnull().sum()/df_prod.shape[0]*100, 2)\n",
    "                            }).rename_axis('Colonne', axis='rows')                       \n",
    "\n",
    "df_prod_info"
   ]
  },
  {
   "cell_type": "markdown",
   "id": "76df8869",
   "metadata": {},
   "source": [
    "Le colonne che contengono le percentuali maggiori di valori nulli sono quelle che indicano i dati di produzione *tra il 1961 e il 1991*. \n",
    "\n",
    "Come si può leggere tra la documentazione del dataset:\n",
    "\n",
    ">The Food Balance sheet's data was relatively complete. A few countries that do not exist anymore, such as Czechoslovakia, were deleted from the database. Countries which were formed lately such as South Sudan were kept, even though they do not have all full data going back to 1961. [...]\n",
    "\n",
    "Quindi, in un certo senso, sembrerebbe che particolari *evoluzioni geopolitiche di alcuni paesi* siano la causa dell'indisponibilità dei dati.  \n",
    "\n",
    "Prendo un campione a caso dove sono presenti questi valori nulli, cercando di fare chiarezza e di confermare le informazioni contenute nella documentazione del dataset.  "
   ]
  },
  {
   "cell_type": "code",
   "execution_count": 37,
   "id": "c28467cc",
   "metadata": {},
   "outputs": [
    {
     "name": "stdout",
     "output_type": "stream",
     "text": [
      "\n",
      "Numero di righe con valori nulli: 3539\n"
     ]
    },
    {
     "data": {
      "text/html": [
       "<div>\n",
       "<style scoped>\n",
       "    .dataframe tbody tr th:only-of-type {\n",
       "        vertical-align: middle;\n",
       "    }\n",
       "\n",
       "    .dataframe tbody tr th {\n",
       "        vertical-align: top;\n",
       "    }\n",
       "\n",
       "    .dataframe thead th {\n",
       "        text-align: right;\n",
       "    }\n",
       "</style>\n",
       "<table border=\"1\" class=\"dataframe\">\n",
       "  <thead>\n",
       "    <tr style=\"text-align: right;\">\n",
       "      <th></th>\n",
       "      <th>Area_Abbreviation</th>\n",
       "      <th>Area_Code</th>\n",
       "      <th>Area</th>\n",
       "      <th>Item_Code</th>\n",
       "      <th>Item</th>\n",
       "      <th>Element_Code</th>\n",
       "      <th>Element</th>\n",
       "      <th>Unit</th>\n",
       "      <th>latitude</th>\n",
       "      <th>longitude</th>\n",
       "      <th>1961</th>\n",
       "      <th>1962</th>\n",
       "      <th>1963</th>\n",
       "      <th>1964</th>\n",
       "      <th>1965</th>\n",
       "      <th>1966</th>\n",
       "      <th>1967</th>\n",
       "      <th>1968</th>\n",
       "      <th>1969</th>\n",
       "      <th>1970</th>\n",
       "      <th>1971</th>\n",
       "      <th>1972</th>\n",
       "      <th>1973</th>\n",
       "      <th>1974</th>\n",
       "      <th>1975</th>\n",
       "      <th>1976</th>\n",
       "      <th>1977</th>\n",
       "      <th>1978</th>\n",
       "      <th>1979</th>\n",
       "      <th>1980</th>\n",
       "      <th>1981</th>\n",
       "      <th>1982</th>\n",
       "      <th>1983</th>\n",
       "      <th>1984</th>\n",
       "      <th>1985</th>\n",
       "      <th>1986</th>\n",
       "      <th>1987</th>\n",
       "      <th>1988</th>\n",
       "      <th>1989</th>\n",
       "      <th>1990</th>\n",
       "      <th>1991</th>\n",
       "      <th>1992</th>\n",
       "      <th>1993</th>\n",
       "      <th>1994</th>\n",
       "      <th>1995</th>\n",
       "      <th>1996</th>\n",
       "      <th>1997</th>\n",
       "      <th>1998</th>\n",
       "      <th>1999</th>\n",
       "      <th>2000</th>\n",
       "      <th>2001</th>\n",
       "      <th>2002</th>\n",
       "      <th>2003</th>\n",
       "      <th>2004</th>\n",
       "      <th>2005</th>\n",
       "      <th>2006</th>\n",
       "      <th>2007</th>\n",
       "      <th>2008</th>\n",
       "      <th>2009</th>\n",
       "      <th>2010</th>\n",
       "      <th>2011</th>\n",
       "      <th>2012</th>\n",
       "      <th>2013</th>\n",
       "    </tr>\n",
       "  </thead>\n",
       "  <tbody>\n",
       "    <tr>\n",
       "      <th>17328</th>\n",
       "      <td>SVK</td>\n",
       "      <td>199</td>\n",
       "      <td>Slovakia</td>\n",
       "      <td>2517</td>\n",
       "      <td>Millet and products</td>\n",
       "      <td>5521</td>\n",
       "      <td>Feed</td>\n",
       "      <td>1000 tonnes</td>\n",
       "      <td>48.67</td>\n",
       "      <td>19.70</td>\n",
       "      <td>NaN</td>\n",
       "      <td>NaN</td>\n",
       "      <td>NaN</td>\n",
       "      <td>NaN</td>\n",
       "      <td>NaN</td>\n",
       "      <td>NaN</td>\n",
       "      <td>NaN</td>\n",
       "      <td>NaN</td>\n",
       "      <td>NaN</td>\n",
       "      <td>NaN</td>\n",
       "      <td>NaN</td>\n",
       "      <td>NaN</td>\n",
       "      <td>NaN</td>\n",
       "      <td>NaN</td>\n",
       "      <td>NaN</td>\n",
       "      <td>NaN</td>\n",
       "      <td>NaN</td>\n",
       "      <td>NaN</td>\n",
       "      <td>NaN</td>\n",
       "      <td>NaN</td>\n",
       "      <td>NaN</td>\n",
       "      <td>NaN</td>\n",
       "      <td>NaN</td>\n",
       "      <td>NaN</td>\n",
       "      <td>NaN</td>\n",
       "      <td>NaN</td>\n",
       "      <td>NaN</td>\n",
       "      <td>NaN</td>\n",
       "      <td>NaN</td>\n",
       "      <td>NaN</td>\n",
       "      <td>NaN</td>\n",
       "      <td>NaN</td>\n",
       "      <td>1.0</td>\n",
       "      <td>1.0</td>\n",
       "      <td>1.0</td>\n",
       "      <td>1.0</td>\n",
       "      <td>0.0</td>\n",
       "      <td>0.0</td>\n",
       "      <td>1.0</td>\n",
       "      <td>1.0</td>\n",
       "      <td>1.0</td>\n",
       "      <td>1.0</td>\n",
       "      <td>1.0</td>\n",
       "      <td>2.0</td>\n",
       "      <td>0.0</td>\n",
       "      <td>0.0</td>\n",
       "      <td>1.0</td>\n",
       "      <td>1.0</td>\n",
       "      <td>1.0</td>\n",
       "      <td>0.0</td>\n",
       "      <td>1.0</td>\n",
       "      <td>1</td>\n",
       "      <td>1</td>\n",
       "    </tr>\n",
       "    <tr>\n",
       "      <th>13020</th>\n",
       "      <td>MNE</td>\n",
       "      <td>273</td>\n",
       "      <td>Montenegro</td>\n",
       "      <td>2617</td>\n",
       "      <td>Apples and products</td>\n",
       "      <td>5142</td>\n",
       "      <td>Food</td>\n",
       "      <td>1000 tonnes</td>\n",
       "      <td>42.71</td>\n",
       "      <td>19.37</td>\n",
       "      <td>NaN</td>\n",
       "      <td>NaN</td>\n",
       "      <td>NaN</td>\n",
       "      <td>NaN</td>\n",
       "      <td>NaN</td>\n",
       "      <td>NaN</td>\n",
       "      <td>NaN</td>\n",
       "      <td>NaN</td>\n",
       "      <td>NaN</td>\n",
       "      <td>NaN</td>\n",
       "      <td>NaN</td>\n",
       "      <td>NaN</td>\n",
       "      <td>NaN</td>\n",
       "      <td>NaN</td>\n",
       "      <td>NaN</td>\n",
       "      <td>NaN</td>\n",
       "      <td>NaN</td>\n",
       "      <td>NaN</td>\n",
       "      <td>NaN</td>\n",
       "      <td>NaN</td>\n",
       "      <td>NaN</td>\n",
       "      <td>NaN</td>\n",
       "      <td>NaN</td>\n",
       "      <td>NaN</td>\n",
       "      <td>NaN</td>\n",
       "      <td>NaN</td>\n",
       "      <td>NaN</td>\n",
       "      <td>NaN</td>\n",
       "      <td>NaN</td>\n",
       "      <td>NaN</td>\n",
       "      <td>NaN</td>\n",
       "      <td>NaN</td>\n",
       "      <td>NaN</td>\n",
       "      <td>NaN</td>\n",
       "      <td>NaN</td>\n",
       "      <td>NaN</td>\n",
       "      <td>NaN</td>\n",
       "      <td>NaN</td>\n",
       "      <td>NaN</td>\n",
       "      <td>NaN</td>\n",
       "      <td>NaN</td>\n",
       "      <td>NaN</td>\n",
       "      <td>NaN</td>\n",
       "      <td>NaN</td>\n",
       "      <td>NaN</td>\n",
       "      <td>11.0</td>\n",
       "      <td>19.0</td>\n",
       "      <td>34.0</td>\n",
       "      <td>38.0</td>\n",
       "      <td>33.0</td>\n",
       "      <td>27.0</td>\n",
       "      <td>14</td>\n",
       "      <td>13</td>\n",
       "    </tr>\n",
       "    <tr>\n",
       "      <th>17526</th>\n",
       "      <td>SVN</td>\n",
       "      <td>198</td>\n",
       "      <td>Slovenia</td>\n",
       "      <td>2733</td>\n",
       "      <td>Pigmeat</td>\n",
       "      <td>5142</td>\n",
       "      <td>Food</td>\n",
       "      <td>1000 tonnes</td>\n",
       "      <td>46.15</td>\n",
       "      <td>15.00</td>\n",
       "      <td>NaN</td>\n",
       "      <td>NaN</td>\n",
       "      <td>NaN</td>\n",
       "      <td>NaN</td>\n",
       "      <td>NaN</td>\n",
       "      <td>NaN</td>\n",
       "      <td>NaN</td>\n",
       "      <td>NaN</td>\n",
       "      <td>NaN</td>\n",
       "      <td>NaN</td>\n",
       "      <td>NaN</td>\n",
       "      <td>NaN</td>\n",
       "      <td>NaN</td>\n",
       "      <td>NaN</td>\n",
       "      <td>NaN</td>\n",
       "      <td>NaN</td>\n",
       "      <td>NaN</td>\n",
       "      <td>NaN</td>\n",
       "      <td>NaN</td>\n",
       "      <td>NaN</td>\n",
       "      <td>NaN</td>\n",
       "      <td>NaN</td>\n",
       "      <td>NaN</td>\n",
       "      <td>NaN</td>\n",
       "      <td>NaN</td>\n",
       "      <td>NaN</td>\n",
       "      <td>NaN</td>\n",
       "      <td>NaN</td>\n",
       "      <td>NaN</td>\n",
       "      <td>NaN</td>\n",
       "      <td>NaN</td>\n",
       "      <td>49.0</td>\n",
       "      <td>81.0</td>\n",
       "      <td>84.0</td>\n",
       "      <td>75.0</td>\n",
       "      <td>70.0</td>\n",
       "      <td>73.0</td>\n",
       "      <td>77.0</td>\n",
       "      <td>87.0</td>\n",
       "      <td>76.0</td>\n",
       "      <td>82.0</td>\n",
       "      <td>78.0</td>\n",
       "      <td>88.0</td>\n",
       "      <td>88.0</td>\n",
       "      <td>88.0</td>\n",
       "      <td>89.0</td>\n",
       "      <td>84.0</td>\n",
       "      <td>84.0</td>\n",
       "      <td>80.0</td>\n",
       "      <td>81.0</td>\n",
       "      <td>76.0</td>\n",
       "      <td>69</td>\n",
       "      <td>58</td>\n",
       "    </tr>\n",
       "    <tr>\n",
       "      <th>11128</th>\n",
       "      <td>LVA</td>\n",
       "      <td>119</td>\n",
       "      <td>Latvia</td>\n",
       "      <td>2656</td>\n",
       "      <td>Beer</td>\n",
       "      <td>5142</td>\n",
       "      <td>Food</td>\n",
       "      <td>1000 tonnes</td>\n",
       "      <td>56.88</td>\n",
       "      <td>24.60</td>\n",
       "      <td>NaN</td>\n",
       "      <td>NaN</td>\n",
       "      <td>NaN</td>\n",
       "      <td>NaN</td>\n",
       "      <td>NaN</td>\n",
       "      <td>NaN</td>\n",
       "      <td>NaN</td>\n",
       "      <td>NaN</td>\n",
       "      <td>NaN</td>\n",
       "      <td>NaN</td>\n",
       "      <td>NaN</td>\n",
       "      <td>NaN</td>\n",
       "      <td>NaN</td>\n",
       "      <td>NaN</td>\n",
       "      <td>NaN</td>\n",
       "      <td>NaN</td>\n",
       "      <td>NaN</td>\n",
       "      <td>NaN</td>\n",
       "      <td>NaN</td>\n",
       "      <td>NaN</td>\n",
       "      <td>NaN</td>\n",
       "      <td>NaN</td>\n",
       "      <td>NaN</td>\n",
       "      <td>NaN</td>\n",
       "      <td>NaN</td>\n",
       "      <td>NaN</td>\n",
       "      <td>NaN</td>\n",
       "      <td>NaN</td>\n",
       "      <td>NaN</td>\n",
       "      <td>NaN</td>\n",
       "      <td>NaN</td>\n",
       "      <td>88.0</td>\n",
       "      <td>53.0</td>\n",
       "      <td>66.0</td>\n",
       "      <td>67.0</td>\n",
       "      <td>66.0</td>\n",
       "      <td>73.0</td>\n",
       "      <td>82.0</td>\n",
       "      <td>100.0</td>\n",
       "      <td>99.0</td>\n",
       "      <td>105.0</td>\n",
       "      <td>134.0</td>\n",
       "      <td>142.0</td>\n",
       "      <td>124.0</td>\n",
       "      <td>144.0</td>\n",
       "      <td>147.0</td>\n",
       "      <td>158.0</td>\n",
       "      <td>156.0</td>\n",
       "      <td>146.0</td>\n",
       "      <td>164.0</td>\n",
       "      <td>172.0</td>\n",
       "      <td>163</td>\n",
       "      <td>156</td>\n",
       "    </tr>\n",
       "    <tr>\n",
       "      <th>16103</th>\n",
       "      <td>RUS</td>\n",
       "      <td>185</td>\n",
       "      <td>Russian Federation</td>\n",
       "      <td>2560</td>\n",
       "      <td>Coconuts - Incl Copra</td>\n",
       "      <td>5142</td>\n",
       "      <td>Food</td>\n",
       "      <td>1000 tonnes</td>\n",
       "      <td>61.52</td>\n",
       "      <td>105.32</td>\n",
       "      <td>NaN</td>\n",
       "      <td>NaN</td>\n",
       "      <td>NaN</td>\n",
       "      <td>NaN</td>\n",
       "      <td>NaN</td>\n",
       "      <td>NaN</td>\n",
       "      <td>NaN</td>\n",
       "      <td>NaN</td>\n",
       "      <td>NaN</td>\n",
       "      <td>NaN</td>\n",
       "      <td>NaN</td>\n",
       "      <td>NaN</td>\n",
       "      <td>NaN</td>\n",
       "      <td>NaN</td>\n",
       "      <td>NaN</td>\n",
       "      <td>NaN</td>\n",
       "      <td>NaN</td>\n",
       "      <td>NaN</td>\n",
       "      <td>NaN</td>\n",
       "      <td>NaN</td>\n",
       "      <td>NaN</td>\n",
       "      <td>NaN</td>\n",
       "      <td>NaN</td>\n",
       "      <td>NaN</td>\n",
       "      <td>NaN</td>\n",
       "      <td>NaN</td>\n",
       "      <td>NaN</td>\n",
       "      <td>NaN</td>\n",
       "      <td>NaN</td>\n",
       "      <td>NaN</td>\n",
       "      <td>NaN</td>\n",
       "      <td>0.0</td>\n",
       "      <td>0.0</td>\n",
       "      <td>1.0</td>\n",
       "      <td>1.0</td>\n",
       "      <td>2.0</td>\n",
       "      <td>2.0</td>\n",
       "      <td>10.0</td>\n",
       "      <td>10.0</td>\n",
       "      <td>21.0</td>\n",
       "      <td>28.0</td>\n",
       "      <td>42.0</td>\n",
       "      <td>45.0</td>\n",
       "      <td>47.0</td>\n",
       "      <td>52.0</td>\n",
       "      <td>45.0</td>\n",
       "      <td>59.0</td>\n",
       "      <td>42.0</td>\n",
       "      <td>39.0</td>\n",
       "      <td>48.0</td>\n",
       "      <td>63.0</td>\n",
       "      <td>57</td>\n",
       "      <td>63</td>\n",
       "    </tr>\n",
       "  </tbody>\n",
       "</table>\n",
       "</div>"
      ],
      "text/plain": [
       "      Area_Abbreviation  Area_Code                Area  Item_Code  \\\n",
       "17328               SVK        199            Slovakia       2517   \n",
       "13020               MNE        273          Montenegro       2617   \n",
       "17526               SVN        198            Slovenia       2733   \n",
       "11128               LVA        119              Latvia       2656   \n",
       "16103               RUS        185  Russian Federation       2560   \n",
       "\n",
       "                        Item  Element_Code Element         Unit  latitude  \\\n",
       "17328    Millet and products          5521    Feed  1000 tonnes     48.67   \n",
       "13020    Apples and products          5142    Food  1000 tonnes     42.71   \n",
       "17526                Pigmeat          5142    Food  1000 tonnes     46.15   \n",
       "11128                   Beer          5142    Food  1000 tonnes     56.88   \n",
       "16103  Coconuts - Incl Copra          5142    Food  1000 tonnes     61.52   \n",
       "\n",
       "       longitude  1961  1962  1963  1964  1965  1966  1967  1968  1969  1970  \\\n",
       "17328      19.70   NaN   NaN   NaN   NaN   NaN   NaN   NaN   NaN   NaN   NaN   \n",
       "13020      19.37   NaN   NaN   NaN   NaN   NaN   NaN   NaN   NaN   NaN   NaN   \n",
       "17526      15.00   NaN   NaN   NaN   NaN   NaN   NaN   NaN   NaN   NaN   NaN   \n",
       "11128      24.60   NaN   NaN   NaN   NaN   NaN   NaN   NaN   NaN   NaN   NaN   \n",
       "16103     105.32   NaN   NaN   NaN   NaN   NaN   NaN   NaN   NaN   NaN   NaN   \n",
       "\n",
       "       1971  1972  1973  1974  1975  1976  1977  1978  1979  1980  1981  1982  \\\n",
       "17328   NaN   NaN   NaN   NaN   NaN   NaN   NaN   NaN   NaN   NaN   NaN   NaN   \n",
       "13020   NaN   NaN   NaN   NaN   NaN   NaN   NaN   NaN   NaN   NaN   NaN   NaN   \n",
       "17526   NaN   NaN   NaN   NaN   NaN   NaN   NaN   NaN   NaN   NaN   NaN   NaN   \n",
       "11128   NaN   NaN   NaN   NaN   NaN   NaN   NaN   NaN   NaN   NaN   NaN   NaN   \n",
       "16103   NaN   NaN   NaN   NaN   NaN   NaN   NaN   NaN   NaN   NaN   NaN   NaN   \n",
       "\n",
       "       1983  1984  1985  1986  1987  1988  1989  1990  1991  1992  1993  1994  \\\n",
       "17328   NaN   NaN   NaN   NaN   NaN   NaN   NaN   NaN   NaN   NaN   1.0   1.0   \n",
       "13020   NaN   NaN   NaN   NaN   NaN   NaN   NaN   NaN   NaN   NaN   NaN   NaN   \n",
       "17526   NaN   NaN   NaN   NaN   NaN   NaN   NaN   NaN   NaN  49.0  81.0  84.0   \n",
       "11128   NaN   NaN   NaN   NaN   NaN   NaN   NaN   NaN   NaN  88.0  53.0  66.0   \n",
       "16103   NaN   NaN   NaN   NaN   NaN   NaN   NaN   NaN   NaN   0.0   0.0   1.0   \n",
       "\n",
       "       1995  1996  1997  1998   1999  2000   2001   2002   2003   2004   2005  \\\n",
       "17328   1.0   1.0   0.0   0.0    1.0   1.0    1.0    1.0    1.0    2.0    0.0   \n",
       "13020   NaN   NaN   NaN   NaN    NaN   NaN    NaN    NaN    NaN    NaN    NaN   \n",
       "17526  75.0  70.0  73.0  77.0   87.0  76.0   82.0   78.0   88.0   88.0   88.0   \n",
       "11128  67.0  66.0  73.0  82.0  100.0  99.0  105.0  134.0  142.0  124.0  144.0   \n",
       "16103   1.0   2.0   2.0  10.0   10.0  21.0   28.0   42.0   45.0   47.0   52.0   \n",
       "\n",
       "        2006   2007   2008   2009   2010   2011  2012  2013  \n",
       "17328    0.0    1.0    1.0    1.0    0.0    1.0     1     1  \n",
       "13020   11.0   19.0   34.0   38.0   33.0   27.0    14    13  \n",
       "17526   89.0   84.0   84.0   80.0   81.0   76.0    69    58  \n",
       "11128  147.0  158.0  156.0  146.0  164.0  172.0   163   156  \n",
       "16103   45.0   59.0   42.0   39.0   48.0   63.0    57    63  "
      ]
     },
     "execution_count": 37,
     "metadata": {},
     "output_type": "execute_result"
    }
   ],
   "source": [
    "# Ricerco il subset del dataframe contenente almeno un valore nullo nelle righe\n",
    "df_null_rows = df_prod.loc[df_prod.isnull().any(axis=1)]\n",
    "print(f'\\nNumero di righe con valori nulli: {df_null_rows.shape[0]}')\n",
    "\n",
    "# Imposto un random seed per rendere pseudorandomica e riproducibile questa cella\n",
    "np.random.seed(0)\n",
    "\n",
    "# Seleziono un campione a caso di 5 elementi\n",
    "df_null_rows.sample(5)"
   ]
  },
  {
   "cell_type": "markdown",
   "id": "d34d2f9e",
   "metadata": {},
   "source": [
    "In effetti, in questi 5 paesi selezionati a caso: 'Slovacchia', 'Montenegro', 'Slovenia', 'Lettonia' e 'Federazione Russa', i dati di produzione sono mancanti dal 1961 al 1991 (il Montenegro fino al 2005). \n",
    "\n",
    "Cercando informazioni sulla storia geopolitica di questi paesi si può leggere:\n",
    "\n",
    "- *Slovacchia*: [...] La Repubblica Slovacca e la Repubblica Ceca sono nate il 1º gennaio 1993 dalla divisione, sancita dal parlamento della Cecoslovacchia, che **già dal 1990 aveva assunto il nome di Repubblica Federale Ceca e Slovacca**;\n",
    "\n",
    "- *Montenegro*: [...] Fino al 2 giugno 2006 la Repubblica del Montenegro è stata unita alla Repubblica di Serbia con il nome di Serbia e Montenegro. **Dal 3 giugno 2006 il Montenegro è diventato uno Stato indipendente**;\n",
    "\n",
    "- *Slovenia*: [...] Dal 1º maggio 2004 la Slovenia è membro dell'Unione europea e la valuta nazionale, dal 1º gennaio 2007, è l'euro, che ha sostituito il tallero sloveno, adottato **nel 1991 dopo l'indipendenza** [...];\n",
    "\n",
    "- *Lettonia*: [...] L'URSS riconobbe **la Lettonia come Stato indipendente il 6 settembre 1991** [...];\n",
    "\n",
    "- *Federazione Russa*: [...] Nell'agosto del 1991 il tentato colpo di Stato militare per deporre Gorbačëv e preservare l'Unione Sovietica portò invece alla fine del Partito Comunista dell'Unione Sovietica. Nonostante la contraria volontà espressa dal popolo, **il 26 dicembre 1991 l'Unione Sovietica si dissolse in quindici Stati post-sovietici**.\n",
    "\n",
    "Fonte: [Wikipedia](https://it.wikipedia.org/wiki/Pagina_principale)\n",
    "\n",
    "Questo risultato **è in linea con la documentazione** del dataset, giustificando il retroscena che riguarda la presenza di valori mancanti.\n",
    "\n",
    "**È conveniente** eliminare dal dataframe le righe che contengono valori nulli, oppure si rischia di perdere un numero **eccessivo** di informazioni? Eseguo un test per controllare."
   ]
  },
  {
   "cell_type": "code",
   "execution_count": 38,
   "id": "7744530f",
   "metadata": {},
   "outputs": [
    {
     "name": "stdout",
     "output_type": "stream",
     "text": [
      "\n",
      "Righe del dataframe originale: 21477.\n",
      "\n",
      "Righe del dataframe dopo aver rimosso i valori mancanti: 17938\n",
      "\n",
      "La rimozione delle righe che contengono valori NaN ha eliminato il 16.48% dei dati!\n"
     ]
    }
   ],
   "source": [
    "# Creo un dataframe per testare l'eliminazione delle righe che contengono valori nulli \n",
    "test_drop = df_prod.dropna()\n",
    "\n",
    "# Calcolo la percentuale di dati eliminati rispetto dal dataframe originale\n",
    "rows_removal_perc = round((1-test_drop.shape[0]/df_prod.shape[0])*100,2)\n",
    "\n",
    "# Stampo le informazioni sul numero di righe totali e la shape dei due dataframes\n",
    "print(f\"\\nRighe del dataframe originale: {df_prod.shape[0]}.\") \n",
    "\n",
    "print(f\"\\nRighe del dataframe dopo aver rimosso i valori mancanti: {test_drop.shape[0]}\")\n",
    "\n",
    "print(f'\\nLa rimozione delle righe che contengono valori NaN ha eliminato il {rows_removal_perc}% dei dati!')"
   ]
  },
  {
   "cell_type": "markdown",
   "id": "18faa02b",
   "metadata": {},
   "source": [
    "Secondo me, in questo caso **la perdita di dati è tollerabile**. Quindi, continuerò lo studio di questo dataset adottando questa procedura.\n",
    "\n",
    "Avrei anche potuto sostituire i valori NaN con 0 tramite *fillna()* e poi eliminare le righe con solo zeri e valori negativi. Tuttavia, ho visto che la differenza nella procedura *in questo caso* è minima. \n",
    "\n",
    "Per terminare la pulizia delle variabili quantitative elimino tutte le righe dove i valori di produzione lungo l'intero periodo temporale sono **pari a zero o negativi**. "
   ]
  },
  {
   "cell_type": "code",
   "execution_count": 39,
   "id": "88b0f74a",
   "metadata": {},
   "outputs": [],
   "source": [
    "# Seleziono un subset del dataframe contenente tutte le colonne degli anni di produzione del dataframe\n",
    "years_df = test_drop.loc[:, '1961':]\n",
    "\n",
    "# Ricavo gli indici delle righe che contengono anche solo un numero negativo e tutti 0 dal 1961 al 2013\n",
    "idx_to_drop = years_df.loc[((years_df < 0).any(axis=1)) | (years_df == 0).all(axis=1)].index\n",
    "\n",
    "# Elimino tutte le righe con questi indici\n",
    "test_drop = test_drop.drop(idx_to_drop)\n",
    "\n",
    "# Riporto il nome del dataframe a df_prod\n",
    "df_prod = test_drop.copy().reset_index(drop=True)\n",
    "\n",
    "# Trasformo i valori numerici in 'int64'\n",
    "df_prod.loc[:, '1961':] = df_prod.loc[:, '1961':].astype('int64')"
   ]
  },
  {
   "cell_type": "markdown",
   "id": "a5638e45",
   "metadata": {},
   "source": [
    "#### Cleaning variabili qualitative"
   ]
  },
  {
   "cell_type": "markdown",
   "id": "1824d49a",
   "metadata": {},
   "source": [
    "##### Manipolazione della colonna 'Area'\n",
    "\n",
    "Sistemo l'unica incongruenza"
   ]
  },
  {
   "cell_type": "code",
   "execution_count": 40,
   "id": "8cff992d",
   "metadata": {},
   "outputs": [],
   "source": [
    "df_prod.Area.replace({\"C�te d'Ivoire\":\"Côte d'Ivoire\"}, inplace=True)"
   ]
  },
  {
   "cell_type": "markdown",
   "id": "536e0263",
   "metadata": {},
   "source": [
    "##### Esplorazione e manipolazione della colonna 'Item'\n",
    "\n",
    "L'ideale sarebbe ottenere *congruenza tra i nomi degli alimenti* del primo e del secondo dataset.\n",
    "\n",
    "Per non complicare eccessivamente la pulizia dei dati, mi preoccuperò solo di avere una coerenza tra i primi 20 alimenti più rilevanti, *in termini di emissioni totali*, del dataset delle emissioni ed i loro corrispettivi nel dataset della produzione.\n",
    "\n",
    "Uno strumento utilissimo per controllare le incongruenze o le somiglianze tra diversi elementi è *fuzzywuzzy*."
   ]
  },
  {
   "cell_type": "code",
   "execution_count": 41,
   "id": "ac3c0cf6",
   "metadata": {},
   "outputs": [],
   "source": [
    "# Scrivo una funzione che mi tornerà utile anche per altri controlli\n",
    "def fuzz_finder(dictionary, test, target, treshold, first, last, show):\n",
    "\n",
    "    \"\"\"Questa funzione inserisce, in un dizionario a propria scelta e già stato inizializzato, \n",
    "    le migliori corrispondenze tra i nomi degli elementi di due liste 'test' e 'target'. \n",
    "\n",
    "    Le chiavi del dizionario corrisponderanno ai nomi degli elementi da testare, \n",
    "    mentre i valori corrisponderanno alla lista degli elementi ottenuti per miglior match. \n",
    "    Per testare gli elementi di una lista con sè stessa è sufficiente specificarla come 'test' e 'target'.\n",
    "     \n",
    "    Si può specificare con 'treshold' un numero tra 0 e 100, per stabilire un punteggio soglia da raggiungere \n",
    "    tra il primo e il secondo elemento, dove 100 indica una perfetta corrispondenza anche in termini di lettere maiuscole\n",
    "    e minuscole.\n",
    "    \n",
    "    Con 'first' e 'last' si decide il primo e l'ultimo elemento da inserire nella lista dei valori nel dizionario. \n",
    "    Per saltare il confronto del primo elemento con sè stesso, impostare 'first' = 1.\n",
    "    \n",
    "    Con 'show' = True si può decidere se visualizzare o meno l'output della funzione. La formattazione dell'output è stata\n",
    "    resa più gradevole che stampare il dizionario stesso.\"\"\"\n",
    "\n",
    "    # Counter per facilitare la lettura dell'output\n",
    "    counter = 0\n",
    "\n",
    "    for item in test:\n",
    "\n",
    "        # Restituisce una lista di tuple contenenti nome e punteggio\n",
    "        matches = fuzzywuzzy.process.extract(item, target, limit=None, scorer=fuzzywuzzy.fuzz.token_sort_ratio)\n",
    "        \n",
    "        if matches[1][1] >= treshold and first != last:        \n",
    "\n",
    "            key = item \n",
    "            \n",
    "            values = [matches[n][0] for n in range(first,last+1)]\n",
    "            \n",
    "            dictionary[key] = values\n",
    "        \n",
    "        elif matches[1][1] >= treshold and first == last:\n",
    "\n",
    "            key = item\n",
    "\n",
    "            value = matches[0][0]\n",
    "\n",
    "            dictionary[key] = value\n",
    "\n",
    "\n",
    "    if show:\n",
    "\n",
    "        for key, values in dictionary.items():\n",
    "\n",
    "            counter += 1\n",
    "            print(f\"{counter} Elemento in esame: {key}\\n    Migliori matches: {values}\\n\")"
   ]
  },
  {
   "cell_type": "code",
   "execution_count": 42,
   "id": "14fdb865",
   "metadata": {},
   "outputs": [],
   "source": [
    "# Devo prima ordinare il dataframe delle emissioni, in ordire decrescente, secondo la colonna 'Total_emissions'\n",
    "emiss_sorted = df_emiss.sort_values('Total_emissions', ascending=False).head(20)\n",
    "\n",
    "# Poi estraggo la lista dei 20 alimenti\n",
    "top20_emission_sorted = emiss_sorted['Food product'].unique()"
   ]
  },
  {
   "cell_type": "code",
   "execution_count": 43,
   "id": "1ba38911",
   "metadata": {},
   "outputs": [],
   "source": [
    "# Dizionario dove inserire le voci\n",
    "dict_20_item = {}\n",
    "\n",
    "# Lista da testare\n",
    "test_list = top20_emission_sorted\n",
    "\n",
    "# Lista con cui fare i confronti \n",
    "target_list = df_prod.Item.unique()\n",
    "\n",
    "# Migliori match con i primi 5 elementi in ordine di punteggio. Per visualizzare l'outupt impostare 'show' = True\n",
    "fuzz_finder(dictionary=dict_20_item, test=test_list, target=target_list, treshold=0, first=0, last=5, show=False)"
   ]
  },
  {
   "cell_type": "code",
   "execution_count": 44,
   "id": "3f4d9bfa",
   "metadata": {},
   "outputs": [],
   "source": [
    "# Il dizionario qui sotto è stato creato da quello costruito nella cella precedente. \n",
    "# Per ogni chiave ho eliminato tutti i valori tranne uno, quello maggiormente attinente col nome della chiave. \n",
    "\n",
    "# *Nota:* i nomi delle chiavi del dizionario corrispondo ai nomi degli elementi del dataset delle EMISSIONI, \n",
    "# mentre i nomi dei valori corrispondono a quelli del dataset della PRODUZIONE.\n",
    "\n",
    "inconsistencies_dict = {  \n",
    "  'Beef (beef herd)': 'Meat, Other', \n",
    "  'Beef (dairy herd)': 'Meat, Other', \n",
    "  'Cane Sugar': 'Sugar cane',\n",
    "  'Cheese': 'NONE', \n",
    "  'Coffee': 'Coffee and products',   \n",
    "  'Dark Chocolate': 'NONE', \n",
    "  'Eggs': 'Eggs', \n",
    "  'Fish (farmed)': 'Fish, Seafood',\n",
    "  'Lamb & Mutton': 'Mutton & Goat Meat', \n",
    "  'Milk': 'Milk - Excluding Butter', \n",
    "  'Olive Oil': 'Olive Oil', \n",
    "  'Palm Oil': 'Palm Oil', \n",
    "  'Pig Meat': 'Pigmeat', \n",
    "  'Poultry Meat': 'Poultry Meat', \n",
    "  'Rapeseed Oil': 'Rape and Mustard Oil', \n",
    "  'Rice': 'NONE', \n",
    "  'Shrimps (farmed)': 'NONE', \n",
    "  'Soybean Oil': 'Soyabean Oil', \n",
    "  'Sunflower Oil': 'Sunflowerseed Oil',\n",
    "  'Tofu': 'NONE' \n",
    "  }"
   ]
  },
  {
   "cell_type": "markdown",
   "id": "b3224ad5",
   "metadata": {},
   "source": [
    "Qui possiamo vedere gli elementi esattamente congruenti tra i due datasets."
   ]
  },
  {
   "cell_type": "code",
   "execution_count": 45,
   "id": "268ddfd2",
   "metadata": {},
   "outputs": [
    {
     "data": {
      "text/plain": [
       "{'Eggs': 'Eggs',\n",
       " 'Olive Oil': 'Olive Oil',\n",
       " 'Palm Oil': 'Palm Oil',\n",
       " 'Poultry Meat': 'Poultry Meat'}"
      ]
     },
     "execution_count": 45,
     "metadata": {},
     "output_type": "execute_result"
    }
   ],
   "source": [
    "exact_matches = {key:values for (key, values) in inconsistencies_dict.items() if key==values}\n",
    "exact_matches"
   ]
  },
  {
   "cell_type": "markdown",
   "id": "bf76c6e3",
   "metadata": {},
   "source": [
    "Sistemo le 'incongruenze lievi', ovvero nomenclature quasi identiche tra gli elementi dei due datasets."
   ]
  },
  {
   "cell_type": "code",
   "execution_count": 46,
   "id": "efc918b1",
   "metadata": {},
   "outputs": [],
   "source": [
    "# Richiamo gli elementi con 'lieve incongruenza' in un dizionario\n",
    "slight_inconsistencies = {key:value for (key, value) in inconsistencies_dict.items() \n",
    "                          if key != value and value != 'NONE' and value != 'Meat, Other'}\n",
    "\n",
    "# Poiché voglio che le modifiche vengano fatte nel dataframe delle produzioni, prima di rimpiazzare \n",
    "# i nomi nel dataframe delle produzioni, devo invertire le nomenclature di chiavi e valori.\n",
    "reversed_slight_inc = {key:value for (value, key) in slight_inconsistencies.items()}\n",
    "\n",
    "# Sostituisco i nomi nel dataframe della produzione di cibo/mangimi\n",
    "df_prod.Item.replace(reversed_slight_inc, inplace=True)"
   ]
  },
  {
   "cell_type": "markdown",
   "id": "238b3ab0",
   "metadata": {},
   "source": [
    "Sistemo le incongruenze tra elementi generalizzati: 'meat' e 'beef'. Devo capire se ci sono alcune voci tra gli elementi del dataset della produzione che si possono associare ad alimenti a base di carne bovina. "
   ]
  },
  {
   "cell_type": "code",
   "execution_count": 47,
   "id": "6b59557f",
   "metadata": {},
   "outputs": [
    {
     "name": "stdout",
     "output_type": "stream",
     "text": [
      "\n",
      "Elementi con la dicitura 'meat' nel dataframe della produzione ancora da sistemare:\n",
      "Bovine Meat\n",
      "Meat, Other\n",
      "Meat\n",
      "\n",
      "Non ci sono elementi con dicitura 'beef' da sistemare\n"
     ]
    }
   ],
   "source": [
    "# Creo dei filtri per entrambi i casi\n",
    "find_meat = df_prod.Item.map(lambda text: 'meat' in text.lower())\n",
    "find_beef = df_prod.Item.map(lambda text: 'beef' in text.lower())\n",
    "\n",
    "# Ottengo la lista dei valori unici per entrambi\n",
    "prod_meat_list = df_prod.loc[find_meat].Item.unique().tolist()\n",
    "prod_beef_list = df_prod.loc[find_beef].Item.unique().tolist()\n",
    "\n",
    "\n",
    "if prod_meat_list:\n",
    "\n",
    "    print(\"\\nElementi con la dicitura 'meat' nel dataframe della produzione ancora da sistemare:\")\n",
    "\n",
    "    for n in prod_meat_list:\n",
    "\n",
    "        if not n in reversed_slight_inc.values() and n not in exact_matches.values():\n",
    "            \n",
    "            print(n)    \n",
    "else:\n",
    "\n",
    "    print(\"Non ci sono elementi con dicitura 'meat' da sistemare\")\n",
    "\n",
    "\n",
    "if prod_beef_list:\n",
    "\n",
    "    print(\"\\nElementi con la dicitura 'beef' nel dataframe della produzione ancora da sistemare:\")\n",
    "\n",
    "    for n in prod_beef_list:\n",
    "\n",
    "        if n in reversed_slight_inc.values() and n not in exact_matches.values():\n",
    "            \n",
    "            print(n) \n",
    "          \n",
    "else:\n",
    "\n",
    "    print(\"\\nNon ci sono elementi con dicitura 'beef' da sistemare\")"
   ]
  },
  {
   "cell_type": "markdown",
   "id": "a4c33eff",
   "metadata": {},
   "source": [
    "'Bovine Meat' si riferisce alla carne bovina derivata dagli allevamenti, come riportato nella [documentazione](https://www.fao.org/faostat/en/#data/FBSH) del dataset. Pertanto, *si può sostituire* questa voce con l'elemento 'Beef (beef herd)', che indica le carni bovine provenienti dalle mandrie;\n",
    "\n",
    "La voce 'Meat, Other' *si può ignorare*, trattandosi di animali non bovini;\n",
    "\n",
    "'Meat' non possiede una descrizione nella documentazione del dataset, pertanto *non è sostituibile*."
   ]
  },
  {
   "cell_type": "code",
   "execution_count": 48,
   "id": "b0b90b8e",
   "metadata": {},
   "outputs": [],
   "source": [
    "# Sostituisco il nome nel dataframe della produzione di cibo/mangimi\n",
    "df_prod.Item.replace({'Bovine Meat': 'Beef (beef herd)'}, inplace=True)"
   ]
  },
  {
   "cell_type": "markdown",
   "id": "9e3ea63a",
   "metadata": {},
   "source": [
    "Infine, provo a sistemare le incongruenze gravi, ovvero quelle voci che non hanno trovato alcuna corrispondenza con fuzzywuzzy."
   ]
  },
  {
   "cell_type": "code",
   "execution_count": 49,
   "id": "bb4cb837",
   "metadata": {},
   "outputs": [
    {
     "data": {
      "text/plain": [
       "{'Cheese': 'NONE',\n",
       " 'Dark Chocolate': 'NONE',\n",
       " 'Rice': 'NONE',\n",
       " 'Shrimps (farmed)': 'NONE',\n",
       " 'Tofu': 'NONE'}"
      ]
     },
     "execution_count": 49,
     "metadata": {},
     "output_type": "execute_result"
    }
   ],
   "source": [
    "# Incongruenze gravi: \n",
    "heavy_inconsistencies = {key: value for key, value in inconsistencies_dict.items() if value == 'NONE'}\n",
    "heavy_inconsistencies"
   ]
  },
  {
   "cell_type": "markdown",
   "id": "bf0b790d",
   "metadata": {},
   "source": [
    "La documentazione nel dataset della FAO aiuta (in piccola parte) a risolvere queste ultime incongruenze: \n",
    "\n",
    "- 'Rice' è presente nel dataframe della produzione con dicitura 'Rice (Milled Equivalent)' quindi *può essere sostituito*;\n",
    "\n",
    "- 'Cheese', 'Dark Chocolate', 'Shrimps (farmed)' e 'Tofu' sono tutte voci riferite ad un alimento specifico che non posso scorporare dal dataset della produzione (es.: 'Tofu' è rappresentato dalla voce 'Soyabeans', ma oltre a questo la voce 'Soyabeans' include anche salsa di soia, pasta di soia e semi di soia). Pertanto queste voci *non possono essere sostituite*."
   ]
  },
  {
   "cell_type": "code",
   "execution_count": 50,
   "id": "8903e1de",
   "metadata": {},
   "outputs": [],
   "source": [
    "# Sostituisco il nome nel dataframe della produzione di cibo/mangimi\n",
    "df_prod.Item.replace({'Rice (Milled Equivalent)': 'Rice'}, inplace=True)\n",
    "\n",
    "# Resetto l'indice\n",
    "df_prod.reset_index(drop=True, inplace=True)"
   ]
  },
  {
   "cell_type": "markdown",
   "id": "76b91106",
   "metadata": {},
   "source": [
    "### Dataset delle emissioni di gas serra e dei consumi di acqua"
   ]
  },
  {
   "cell_type": "code",
   "execution_count": 51,
   "id": "6c9dba90",
   "metadata": {},
   "outputs": [
    {
     "name": "stdout",
     "output_type": "stream",
     "text": [
      "Dimensioni del dataframe: 43 righe e 23 colonne.\n",
      "\n",
      "Colonne del dataframe:\n",
      " Index(['Food product', 'Land use change', 'Animal Feed', 'Farm', 'Processing',\n",
      "       'Transport', 'Packging', 'Retail', 'Total_emissions',\n",
      "       'Eutrophying emissions per 1000kcal (gPO₄eq per 1000kcal)',\n",
      "       'Eutrophying emissions per kilogram (gPO₄eq per kilogram)',\n",
      "       'Eutrophying emissions per 100g protein (gPO₄eq per 100 grams protein)',\n",
      "       'Freshwater withdrawals per 1000kcal (liters per 1000kcal)',\n",
      "       'Freshwater withdrawals per 100g protein (liters per 100g protein)',\n",
      "       'Freshwater withdrawals per kilogram (liters per kilogram)',\n",
      "       'Greenhouse gas emissions per 1000kcal (kgCO₂eq per 1000kcal)',\n",
      "       'Greenhouse gas emissions per 100g protein (kgCO₂eq per 100g protein)',\n",
      "       'Land use per 1000kcal (m² per 1000kcal)',\n",
      "       'Land use per kilogram (m² per kilogram)',\n",
      "       'Land use per 100g protein (m² per 100g protein)',\n",
      "       'Scarcity-weighted water use per kilogram (liters per kilogram)',\n",
      "       'Scarcity-weighted water use per 100g protein (liters per 100g protein)',\n",
      "       'Scarcity-weighted water use per 1000kcal (liters per 1000 kilocalories)'],\n",
      "      dtype='object')\n"
     ]
    },
    {
     "data": {
      "text/html": [
       "<div>\n",
       "<style scoped>\n",
       "    .dataframe tbody tr th:only-of-type {\n",
       "        vertical-align: middle;\n",
       "    }\n",
       "\n",
       "    .dataframe tbody tr th {\n",
       "        vertical-align: top;\n",
       "    }\n",
       "\n",
       "    .dataframe thead th {\n",
       "        text-align: right;\n",
       "    }\n",
       "</style>\n",
       "<table border=\"1\" class=\"dataframe\">\n",
       "  <thead>\n",
       "    <tr style=\"text-align: right;\">\n",
       "      <th></th>\n",
       "      <th>Food product</th>\n",
       "      <th>Land use change</th>\n",
       "      <th>Animal Feed</th>\n",
       "      <th>Farm</th>\n",
       "      <th>Processing</th>\n",
       "      <th>Transport</th>\n",
       "      <th>Packging</th>\n",
       "      <th>Retail</th>\n",
       "      <th>Total_emissions</th>\n",
       "      <th>Eutrophying emissions per 1000kcal (gPO₄eq per 1000kcal)</th>\n",
       "      <th>Eutrophying emissions per kilogram (gPO₄eq per kilogram)</th>\n",
       "      <th>Eutrophying emissions per 100g protein (gPO₄eq per 100 grams protein)</th>\n",
       "      <th>Freshwater withdrawals per 1000kcal (liters per 1000kcal)</th>\n",
       "      <th>Freshwater withdrawals per 100g protein (liters per 100g protein)</th>\n",
       "      <th>Freshwater withdrawals per kilogram (liters per kilogram)</th>\n",
       "      <th>Greenhouse gas emissions per 1000kcal (kgCO₂eq per 1000kcal)</th>\n",
       "      <th>Greenhouse gas emissions per 100g protein (kgCO₂eq per 100g protein)</th>\n",
       "      <th>Land use per 1000kcal (m² per 1000kcal)</th>\n",
       "      <th>Land use per kilogram (m² per kilogram)</th>\n",
       "      <th>Land use per 100g protein (m² per 100g protein)</th>\n",
       "      <th>Scarcity-weighted water use per kilogram (liters per kilogram)</th>\n",
       "      <th>Scarcity-weighted water use per 100g protein (liters per 100g protein)</th>\n",
       "      <th>Scarcity-weighted water use per 1000kcal (liters per 1000 kilocalories)</th>\n",
       "    </tr>\n",
       "  </thead>\n",
       "  <tbody>\n",
       "    <tr>\n",
       "      <th>0</th>\n",
       "      <td>Wheat &amp; Rye (Bread)</td>\n",
       "      <td>0.1</td>\n",
       "      <td>0.0</td>\n",
       "      <td>0.8</td>\n",
       "      <td>0.2</td>\n",
       "      <td>0.1</td>\n",
       "      <td>0.1</td>\n",
       "      <td>0.1</td>\n",
       "      <td>1.4</td>\n",
       "      <td>NaN</td>\n",
       "      <td>NaN</td>\n",
       "      <td>NaN</td>\n",
       "      <td>NaN</td>\n",
       "      <td>NaN</td>\n",
       "      <td>NaN</td>\n",
       "      <td>NaN</td>\n",
       "      <td>NaN</td>\n",
       "      <td>NaN</td>\n",
       "      <td>NaN</td>\n",
       "      <td>NaN</td>\n",
       "      <td>NaN</td>\n",
       "      <td>NaN</td>\n",
       "      <td>NaN</td>\n",
       "    </tr>\n",
       "    <tr>\n",
       "      <th>1</th>\n",
       "      <td>Maize (Meal)</td>\n",
       "      <td>0.3</td>\n",
       "      <td>0.0</td>\n",
       "      <td>0.5</td>\n",
       "      <td>0.1</td>\n",
       "      <td>0.1</td>\n",
       "      <td>0.1</td>\n",
       "      <td>0.0</td>\n",
       "      <td>1.1</td>\n",
       "      <td>NaN</td>\n",
       "      <td>NaN</td>\n",
       "      <td>NaN</td>\n",
       "      <td>NaN</td>\n",
       "      <td>NaN</td>\n",
       "      <td>NaN</td>\n",
       "      <td>NaN</td>\n",
       "      <td>NaN</td>\n",
       "      <td>NaN</td>\n",
       "      <td>NaN</td>\n",
       "      <td>NaN</td>\n",
       "      <td>NaN</td>\n",
       "      <td>NaN</td>\n",
       "      <td>NaN</td>\n",
       "    </tr>\n",
       "    <tr>\n",
       "      <th>2</th>\n",
       "      <td>Barley (Beer)</td>\n",
       "      <td>0.0</td>\n",
       "      <td>0.0</td>\n",
       "      <td>0.2</td>\n",
       "      <td>0.1</td>\n",
       "      <td>0.0</td>\n",
       "      <td>0.5</td>\n",
       "      <td>0.3</td>\n",
       "      <td>1.1</td>\n",
       "      <td>NaN</td>\n",
       "      <td>NaN</td>\n",
       "      <td>NaN</td>\n",
       "      <td>NaN</td>\n",
       "      <td>NaN</td>\n",
       "      <td>NaN</td>\n",
       "      <td>NaN</td>\n",
       "      <td>NaN</td>\n",
       "      <td>NaN</td>\n",
       "      <td>NaN</td>\n",
       "      <td>NaN</td>\n",
       "      <td>NaN</td>\n",
       "      <td>NaN</td>\n",
       "      <td>NaN</td>\n",
       "    </tr>\n",
       "    <tr>\n",
       "      <th>3</th>\n",
       "      <td>Oatmeal</td>\n",
       "      <td>0.0</td>\n",
       "      <td>0.0</td>\n",
       "      <td>1.4</td>\n",
       "      <td>0.0</td>\n",
       "      <td>0.1</td>\n",
       "      <td>0.1</td>\n",
       "      <td>0.0</td>\n",
       "      <td>1.6</td>\n",
       "      <td>4.281357</td>\n",
       "      <td>11.23</td>\n",
       "      <td>8.638462</td>\n",
       "      <td>183.911552</td>\n",
       "      <td>371.076923</td>\n",
       "      <td>482.4</td>\n",
       "      <td>0.945482</td>\n",
       "      <td>1.907692</td>\n",
       "      <td>2.897446</td>\n",
       "      <td>7.6</td>\n",
       "      <td>5.846154</td>\n",
       "      <td>18786.2</td>\n",
       "      <td>14450.92308</td>\n",
       "      <td>7162.104461</td>\n",
       "    </tr>\n",
       "    <tr>\n",
       "      <th>4</th>\n",
       "      <td>Rice</td>\n",
       "      <td>0.0</td>\n",
       "      <td>0.0</td>\n",
       "      <td>3.6</td>\n",
       "      <td>0.1</td>\n",
       "      <td>0.1</td>\n",
       "      <td>0.1</td>\n",
       "      <td>0.1</td>\n",
       "      <td>4.0</td>\n",
       "      <td>9.514379</td>\n",
       "      <td>35.07</td>\n",
       "      <td>49.394366</td>\n",
       "      <td>609.983722</td>\n",
       "      <td>3166.760563</td>\n",
       "      <td>2248.4</td>\n",
       "      <td>1.207271</td>\n",
       "      <td>6.267606</td>\n",
       "      <td>0.759631</td>\n",
       "      <td>2.8</td>\n",
       "      <td>3.943662</td>\n",
       "      <td>49576.3</td>\n",
       "      <td>69825.77465</td>\n",
       "      <td>13449.891480</td>\n",
       "    </tr>\n",
       "  </tbody>\n",
       "</table>\n",
       "</div>"
      ],
      "text/plain": [
       "          Food product  Land use change  Animal Feed  Farm  Processing  \\\n",
       "0  Wheat & Rye (Bread)              0.1          0.0   0.8         0.2   \n",
       "1         Maize (Meal)              0.3          0.0   0.5         0.1   \n",
       "2        Barley (Beer)              0.0          0.0   0.2         0.1   \n",
       "3              Oatmeal              0.0          0.0   1.4         0.0   \n",
       "4                 Rice              0.0          0.0   3.6         0.1   \n",
       "\n",
       "   Transport  Packging  Retail  Total_emissions  \\\n",
       "0        0.1       0.1     0.1              1.4   \n",
       "1        0.1       0.1     0.0              1.1   \n",
       "2        0.0       0.5     0.3              1.1   \n",
       "3        0.1       0.1     0.0              1.6   \n",
       "4        0.1       0.1     0.1              4.0   \n",
       "\n",
       "   Eutrophying emissions per 1000kcal (gPO₄eq per 1000kcal)  \\\n",
       "0                                                NaN          \n",
       "1                                                NaN          \n",
       "2                                                NaN          \n",
       "3                                           4.281357          \n",
       "4                                           9.514379          \n",
       "\n",
       "   Eutrophying emissions per kilogram (gPO₄eq per kilogram)  \\\n",
       "0                                                NaN          \n",
       "1                                                NaN          \n",
       "2                                                NaN          \n",
       "3                                              11.23          \n",
       "4                                              35.07          \n",
       "\n",
       "   Eutrophying emissions per 100g protein (gPO₄eq per 100 grams protein)  \\\n",
       "0                                                NaN                       \n",
       "1                                                NaN                       \n",
       "2                                                NaN                       \n",
       "3                                           8.638462                       \n",
       "4                                          49.394366                       \n",
       "\n",
       "   Freshwater withdrawals per 1000kcal (liters per 1000kcal)  \\\n",
       "0                                                NaN           \n",
       "1                                                NaN           \n",
       "2                                                NaN           \n",
       "3                                         183.911552           \n",
       "4                                         609.983722           \n",
       "\n",
       "   Freshwater withdrawals per 100g protein (liters per 100g protein)  \\\n",
       "0                                                NaN                   \n",
       "1                                                NaN                   \n",
       "2                                                NaN                   \n",
       "3                                         371.076923                   \n",
       "4                                        3166.760563                   \n",
       "\n",
       "   Freshwater withdrawals per kilogram (liters per kilogram)  \\\n",
       "0                                                NaN           \n",
       "1                                                NaN           \n",
       "2                                                NaN           \n",
       "3                                              482.4           \n",
       "4                                             2248.4           \n",
       "\n",
       "   Greenhouse gas emissions per 1000kcal (kgCO₂eq per 1000kcal)  \\\n",
       "0                                                NaN              \n",
       "1                                                NaN              \n",
       "2                                                NaN              \n",
       "3                                           0.945482              \n",
       "4                                           1.207271              \n",
       "\n",
       "   Greenhouse gas emissions per 100g protein (kgCO₂eq per 100g protein)  \\\n",
       "0                                                NaN                      \n",
       "1                                                NaN                      \n",
       "2                                                NaN                      \n",
       "3                                           1.907692                      \n",
       "4                                           6.267606                      \n",
       "\n",
       "   Land use per 1000kcal (m² per 1000kcal)  \\\n",
       "0                                      NaN   \n",
       "1                                      NaN   \n",
       "2                                      NaN   \n",
       "3                                 2.897446   \n",
       "4                                 0.759631   \n",
       "\n",
       "   Land use per kilogram (m² per kilogram)  \\\n",
       "0                                      NaN   \n",
       "1                                      NaN   \n",
       "2                                      NaN   \n",
       "3                                      7.6   \n",
       "4                                      2.8   \n",
       "\n",
       "   Land use per 100g protein (m² per 100g protein)  \\\n",
       "0                                              NaN   \n",
       "1                                              NaN   \n",
       "2                                              NaN   \n",
       "3                                         5.846154   \n",
       "4                                         3.943662   \n",
       "\n",
       "   Scarcity-weighted water use per kilogram (liters per kilogram)  \\\n",
       "0                                                NaN                \n",
       "1                                                NaN                \n",
       "2                                                NaN                \n",
       "3                                            18786.2                \n",
       "4                                            49576.3                \n",
       "\n",
       "   Scarcity-weighted water use per 100g protein (liters per 100g protein)  \\\n",
       "0                                                NaN                        \n",
       "1                                                NaN                        \n",
       "2                                                NaN                        \n",
       "3                                        14450.92308                        \n",
       "4                                        69825.77465                        \n",
       "\n",
       "   Scarcity-weighted water use per 1000kcal (liters per 1000 kilocalories)  \n",
       "0                                                NaN                        \n",
       "1                                                NaN                        \n",
       "2                                                NaN                        \n",
       "3                                        7162.104461                        \n",
       "4                                       13449.891480                        "
      ]
     },
     "execution_count": 51,
     "metadata": {},
     "output_type": "execute_result"
    }
   ],
   "source": [
    "print(f\"Dimensioni del dataframe: {df_emiss.shape[0]} righe e {df_emiss.shape[1]} colonne.\")\n",
    "print(\"\\nColonne del dataframe:\\n\", df_emiss.columns)\n",
    "df_emiss.head()"
   ]
  },
  {
   "cell_type": "code",
   "execution_count": 52,
   "id": "47fc61f6",
   "metadata": {},
   "outputs": [],
   "source": [
    "# Rimuovo gli spazi nei titoli delle colonne che non contengono parentesi\n",
    "df_emiss.rename(columns={cols: cols.replace(' ', '_') for cols in df_emiss.columns if not '(' in cols}, inplace=True)\n",
    "\n",
    "# Modifico i titoli più lunghi e li sostituisco nel dataframe, eliminando anche gli spazi\n",
    "replace_dict = {\n",
    "    \"Eutrophying emissions per kilogram (gPO₄eq per kilogram)\":\"Eutrophying emissions(gPO₄/kg)\",\n",
    "    \"Freshwater withdrawals per kilogram (liters per kilogram)\":\"Freshwater withdrawals(L/kg)\",\n",
    "    \"Land use per kilogram (m² per kilogram)\":\"Land use(m²/kg)\"\n",
    "    }\n",
    "\n",
    "df_emiss.rename(columns={key:value.replace(' ', '_') for (key, value) in replace_dict.items()}, inplace=True)"
   ]
  },
  {
   "cell_type": "markdown",
   "id": "2b597cd3",
   "metadata": {},
   "source": [
    "#### Valori nulli\n",
    "\n",
    "Anche per questo dataset, vado a vedere per primi i valori nulli."
   ]
  },
  {
   "cell_type": "code",
   "execution_count": 53,
   "id": "6b4586a6",
   "metadata": {},
   "outputs": [
    {
     "name": "stdout",
     "output_type": "stream",
     "text": [
      "Dtype, Valori unici e Valori mancanti(%) di ciascuna colonna:\n"
     ]
    },
    {
     "data": {
      "text/html": [
       "<div>\n",
       "<style scoped>\n",
       "    .dataframe tbody tr th:only-of-type {\n",
       "        vertical-align: middle;\n",
       "    }\n",
       "\n",
       "    .dataframe tbody tr th {\n",
       "        vertical-align: top;\n",
       "    }\n",
       "\n",
       "    .dataframe thead th {\n",
       "        text-align: right;\n",
       "    }\n",
       "</style>\n",
       "<table border=\"1\" class=\"dataframe\">\n",
       "  <thead>\n",
       "    <tr style=\"text-align: right;\">\n",
       "      <th></th>\n",
       "      <th>Dtype</th>\n",
       "      <th>Valori unici</th>\n",
       "      <th>Valori mancanti(%)</th>\n",
       "    </tr>\n",
       "    <tr>\n",
       "      <th>Colonne</th>\n",
       "      <th></th>\n",
       "      <th></th>\n",
       "      <th></th>\n",
       "    </tr>\n",
       "  </thead>\n",
       "  <tbody>\n",
       "    <tr>\n",
       "      <th>Food_product</th>\n",
       "      <td>object</td>\n",
       "      <td>43</td>\n",
       "      <td>0.00</td>\n",
       "    </tr>\n",
       "    <tr>\n",
       "      <th>Land_use_change</th>\n",
       "      <td>float64</td>\n",
       "      <td>21</td>\n",
       "      <td>0.00</td>\n",
       "    </tr>\n",
       "    <tr>\n",
       "      <th>Animal_Feed</th>\n",
       "      <td>float64</td>\n",
       "      <td>10</td>\n",
       "      <td>0.00</td>\n",
       "    </tr>\n",
       "    <tr>\n",
       "      <th>Farm</th>\n",
       "      <td>float64</td>\n",
       "      <td>24</td>\n",
       "      <td>0.00</td>\n",
       "    </tr>\n",
       "    <tr>\n",
       "      <th>Processing</th>\n",
       "      <td>float64</td>\n",
       "      <td>10</td>\n",
       "      <td>0.00</td>\n",
       "    </tr>\n",
       "    <tr>\n",
       "      <th>Transport</th>\n",
       "      <td>float64</td>\n",
       "      <td>8</td>\n",
       "      <td>0.00</td>\n",
       "    </tr>\n",
       "    <tr>\n",
       "      <th>Packging</th>\n",
       "      <td>float64</td>\n",
       "      <td>10</td>\n",
       "      <td>0.00</td>\n",
       "    </tr>\n",
       "    <tr>\n",
       "      <th>Retail</th>\n",
       "      <td>float64</td>\n",
       "      <td>4</td>\n",
       "      <td>0.00</td>\n",
       "    </tr>\n",
       "    <tr>\n",
       "      <th>Total_emissions</th>\n",
       "      <td>float64</td>\n",
       "      <td>33</td>\n",
       "      <td>0.00</td>\n",
       "    </tr>\n",
       "    <tr>\n",
       "      <th>Eutrophying_emissions(gPO₄/kg)</th>\n",
       "      <td>float64</td>\n",
       "      <td>38</td>\n",
       "      <td>11.63</td>\n",
       "    </tr>\n",
       "    <tr>\n",
       "      <th>Scarcity-weighted water use per kilogram (liters per kilogram)</th>\n",
       "      <td>float64</td>\n",
       "      <td>38</td>\n",
       "      <td>11.63</td>\n",
       "    </tr>\n",
       "    <tr>\n",
       "      <th>Land_use(m²/kg)</th>\n",
       "      <td>float64</td>\n",
       "      <td>38</td>\n",
       "      <td>11.63</td>\n",
       "    </tr>\n",
       "    <tr>\n",
       "      <th>Freshwater_withdrawals(L/kg)</th>\n",
       "      <td>float64</td>\n",
       "      <td>38</td>\n",
       "      <td>11.63</td>\n",
       "    </tr>\n",
       "    <tr>\n",
       "      <th>Eutrophying emissions per 1000kcal (gPO₄eq per 1000kcal)</th>\n",
       "      <td>float64</td>\n",
       "      <td>33</td>\n",
       "      <td>23.26</td>\n",
       "    </tr>\n",
       "    <tr>\n",
       "      <th>Land use per 1000kcal (m² per 1000kcal)</th>\n",
       "      <td>float64</td>\n",
       "      <td>33</td>\n",
       "      <td>23.26</td>\n",
       "    </tr>\n",
       "    <tr>\n",
       "      <th>Greenhouse gas emissions per 1000kcal (kgCO₂eq per 1000kcal)</th>\n",
       "      <td>float64</td>\n",
       "      <td>33</td>\n",
       "      <td>23.26</td>\n",
       "    </tr>\n",
       "    <tr>\n",
       "      <th>Scarcity-weighted water use per 1000kcal (liters per 1000 kilocalories)</th>\n",
       "      <td>float64</td>\n",
       "      <td>30</td>\n",
       "      <td>30.23</td>\n",
       "    </tr>\n",
       "    <tr>\n",
       "      <th>Freshwater withdrawals per 1000kcal (liters per 1000kcal)</th>\n",
       "      <td>float64</td>\n",
       "      <td>30</td>\n",
       "      <td>30.23</td>\n",
       "    </tr>\n",
       "    <tr>\n",
       "      <th>Land use per 100g protein (m² per 100g protein)</th>\n",
       "      <td>float64</td>\n",
       "      <td>27</td>\n",
       "      <td>37.21</td>\n",
       "    </tr>\n",
       "    <tr>\n",
       "      <th>Greenhouse gas emissions per 100g protein (kgCO₂eq per 100g protein)</th>\n",
       "      <td>float64</td>\n",
       "      <td>27</td>\n",
       "      <td>37.21</td>\n",
       "    </tr>\n",
       "    <tr>\n",
       "      <th>Eutrophying emissions per 100g protein (gPO₄eq per 100 grams protein)</th>\n",
       "      <td>float64</td>\n",
       "      <td>27</td>\n",
       "      <td>37.21</td>\n",
       "    </tr>\n",
       "    <tr>\n",
       "      <th>Freshwater withdrawals per 100g protein (liters per 100g protein)</th>\n",
       "      <td>float64</td>\n",
       "      <td>26</td>\n",
       "      <td>39.53</td>\n",
       "    </tr>\n",
       "    <tr>\n",
       "      <th>Scarcity-weighted water use per 100g protein (liters per 100g protein)</th>\n",
       "      <td>float64</td>\n",
       "      <td>26</td>\n",
       "      <td>39.53</td>\n",
       "    </tr>\n",
       "  </tbody>\n",
       "</table>\n",
       "</div>"
      ],
      "text/plain": [
       "                                                      Dtype  Valori unici  \\\n",
       "Colonne                                                                     \n",
       "Food_product                                         object            43   \n",
       "Land_use_change                                     float64            21   \n",
       "Animal_Feed                                         float64            10   \n",
       "Farm                                                float64            24   \n",
       "Processing                                          float64            10   \n",
       "Transport                                           float64             8   \n",
       "Packging                                            float64            10   \n",
       "Retail                                              float64             4   \n",
       "Total_emissions                                     float64            33   \n",
       "Eutrophying_emissions(gPO₄/kg)                      float64            38   \n",
       "Scarcity-weighted water use per kilogram (liter...  float64            38   \n",
       "Land_use(m²/kg)                                     float64            38   \n",
       "Freshwater_withdrawals(L/kg)                        float64            38   \n",
       "Eutrophying emissions per 1000kcal (gPO₄eq per ...  float64            33   \n",
       "Land use per 1000kcal (m² per 1000kcal)             float64            33   \n",
       "Greenhouse gas emissions per 1000kcal (kgCO₂eq ...  float64            33   \n",
       "Scarcity-weighted water use per 1000kcal (liter...  float64            30   \n",
       "Freshwater withdrawals per 1000kcal (liters per...  float64            30   \n",
       "Land use per 100g protein (m² per 100g protein)     float64            27   \n",
       "Greenhouse gas emissions per 100g protein (kgCO...  float64            27   \n",
       "Eutrophying emissions per 100g protein (gPO₄eq ...  float64            27   \n",
       "Freshwater withdrawals per 100g protein (liters...  float64            26   \n",
       "Scarcity-weighted water use per 100g protein (l...  float64            26   \n",
       "\n",
       "                                                    Valori mancanti(%)  \n",
       "Colonne                                                                 \n",
       "Food_product                                                      0.00  \n",
       "Land_use_change                                                   0.00  \n",
       "Animal_Feed                                                       0.00  \n",
       "Farm                                                              0.00  \n",
       "Processing                                                        0.00  \n",
       "Transport                                                         0.00  \n",
       "Packging                                                          0.00  \n",
       "Retail                                                            0.00  \n",
       "Total_emissions                                                   0.00  \n",
       "Eutrophying_emissions(gPO₄/kg)                                   11.63  \n",
       "Scarcity-weighted water use per kilogram (liter...               11.63  \n",
       "Land_use(m²/kg)                                                  11.63  \n",
       "Freshwater_withdrawals(L/kg)                                     11.63  \n",
       "Eutrophying emissions per 1000kcal (gPO₄eq per ...               23.26  \n",
       "Land use per 1000kcal (m² per 1000kcal)                          23.26  \n",
       "Greenhouse gas emissions per 1000kcal (kgCO₂eq ...               23.26  \n",
       "Scarcity-weighted water use per 1000kcal (liter...               30.23  \n",
       "Freshwater withdrawals per 1000kcal (liters per...               30.23  \n",
       "Land use per 100g protein (m² per 100g protein)                  37.21  \n",
       "Greenhouse gas emissions per 100g protein (kgCO...               37.21  \n",
       "Eutrophying emissions per 100g protein (gPO₄eq ...               37.21  \n",
       "Freshwater withdrawals per 100g protein (liters...               39.53  \n",
       "Scarcity-weighted water use per 100g protein (l...               39.53  "
      ]
     },
     "execution_count": 53,
     "metadata": {},
     "output_type": "execute_result"
    }
   ],
   "source": [
    "pd.set_option('display.max_rows', 23)\n",
    "\n",
    "\n",
    "print(\"Dtype, Valori unici e Valori mancanti(%) di ciascuna colonna:\")\n",
    "\n",
    "emission_df_info = pd.DataFrame({\"Dtype\": df_emiss.dtypes, \n",
    "                                 \"Valori unici\": df_emiss.nunique(),\n",
    "                                 \"Valori mancanti(%)\": round(df_emiss.isnull().sum()/df_emiss.shape[0]*100, 2)\n",
    "                                 }).rename_axis('Colonne', axis='rows')                       \n",
    "\n",
    "emission_df_info.sort_values(by='Valori mancanti(%)')"
   ]
  },
  {
   "cell_type": "markdown",
   "id": "4f1abf29",
   "metadata": {},
   "source": [
    "I valori nulli si concentrano in alcune colonne che valutano:\n",
    "\n",
    "- L'emissione di molecole eutrofizzanti (PO₄);\n",
    "\n",
    "- La quantità di acqua necessaria per la produzione dell'alimento; \n",
    "\n",
    "- L'emissione di anidride carbonica (CO₂);\n",
    "\n",
    "- L'area di terreno utilizzato (m²);\n",
    "\n",
    "- Il rapporto tra l'acqua necessaria per la produzione dell'alimento e la disponibilità locale di acqua. \n",
    "\n",
    "Per ognuna di queste 5 colonne (tranne quella relativa alla CO₂) si è indicato il valore di emissione/consumo in rapporto a 1 kilogrammo, 100 grammi di proteine, o 1000 kcal di alimento prodotto. \n",
    "\n",
    "Per questa analisi intendo tralasciare i dati delle emissioni rapportate alle proteine e alle kcal, concentrandomi su quelle espresse *per kilogrammo di prodotto*."
   ]
  },
  {
   "cell_type": "code",
   "execution_count": 54,
   "id": "a089ae88",
   "metadata": {},
   "outputs": [],
   "source": [
    "# Lista delle colonne con valori nulli da eliminare\n",
    "columns_to_delete = [n for n in df_emiss.columns if 'protein' in n.lower() or \n",
    "                                              'kcal' in n.lower() or \n",
    "                                              'scarcity-weighted' in n.lower()]\n",
    "\n",
    "df_emiss.drop(columns=(columns_to_delete), inplace=True)\n",
    "\n",
    "# Sostituisco i valori mancanti rimasti con 0\n",
    "df_emiss.fillna(0, inplace=True)"
   ]
  },
  {
   "cell_type": "markdown",
   "id": "f48faaa0",
   "metadata": {},
   "source": [
    "#### Cleaning variabili qualitative e quantitative"
   ]
  },
  {
   "cell_type": "markdown",
   "id": "30a10ab4",
   "metadata": {},
   "source": [
    "Le uniche variabili qualitative sono i nomi degli alimenti, che non presentano alcun errore o ripetizione. \n",
    "\n",
    "Anche le variabili quantitative sono apposto, presentando tutte il dtype *float64*. Eventuali valori negativi indicano che l'alimento in questione assorbe più CO₂ di quanta ne emette dal suo ciclo produttivo. "
   ]
  },
  {
   "cell_type": "markdown",
   "id": "483f91a3",
   "metadata": {},
   "source": [
    "### Dataset delle variazioni di temperatura"
   ]
  },
  {
   "cell_type": "code",
   "execution_count": 55,
   "id": "cae8acdc",
   "metadata": {},
   "outputs": [
    {
     "name": "stdout",
     "output_type": "stream",
     "text": [
      "Dimensioni del dataframe: 9656 righe e 66 colonne.\n",
      "\n",
      "Colonne del dataframe:\n",
      " Index(['Area Code', 'Area', 'Months Code', 'Months', 'Element Code', 'Element',\n",
      "       'Unit', 'Y1961', 'Y1962', 'Y1963', 'Y1964', 'Y1965', 'Y1966', 'Y1967',\n",
      "       'Y1968', 'Y1969', 'Y1970', 'Y1971', 'Y1972', 'Y1973', 'Y1974', 'Y1975',\n",
      "       'Y1976', 'Y1977', 'Y1978', 'Y1979', 'Y1980', 'Y1981', 'Y1982', 'Y1983',\n",
      "       'Y1984', 'Y1985', 'Y1986', 'Y1987', 'Y1988', 'Y1989', 'Y1990', 'Y1991',\n",
      "       'Y1992', 'Y1993', 'Y1994', 'Y1995', 'Y1996', 'Y1997', 'Y1998', 'Y1999',\n",
      "       'Y2000', 'Y2001', 'Y2002', 'Y2003', 'Y2004', 'Y2005', 'Y2006', 'Y2007',\n",
      "       'Y2008', 'Y2009', 'Y2010', 'Y2011', 'Y2012', 'Y2013', 'Y2014', 'Y2015',\n",
      "       'Y2016', 'Y2017', 'Y2018', 'Y2019'],\n",
      "      dtype='object')\n"
     ]
    },
    {
     "data": {
      "text/html": [
       "<div>\n",
       "<style scoped>\n",
       "    .dataframe tbody tr th:only-of-type {\n",
       "        vertical-align: middle;\n",
       "    }\n",
       "\n",
       "    .dataframe tbody tr th {\n",
       "        vertical-align: top;\n",
       "    }\n",
       "\n",
       "    .dataframe thead th {\n",
       "        text-align: right;\n",
       "    }\n",
       "</style>\n",
       "<table border=\"1\" class=\"dataframe\">\n",
       "  <thead>\n",
       "    <tr style=\"text-align: right;\">\n",
       "      <th></th>\n",
       "      <th>Area Code</th>\n",
       "      <th>Area</th>\n",
       "      <th>Months Code</th>\n",
       "      <th>Months</th>\n",
       "      <th>Element Code</th>\n",
       "      <th>Element</th>\n",
       "      <th>Unit</th>\n",
       "      <th>Y1961</th>\n",
       "      <th>Y1962</th>\n",
       "      <th>Y1963</th>\n",
       "      <th>Y1964</th>\n",
       "      <th>Y1965</th>\n",
       "      <th>Y1966</th>\n",
       "      <th>Y1967</th>\n",
       "      <th>Y1968</th>\n",
       "      <th>Y1969</th>\n",
       "      <th>Y1970</th>\n",
       "      <th>Y1971</th>\n",
       "      <th>Y1972</th>\n",
       "      <th>Y1973</th>\n",
       "      <th>Y1974</th>\n",
       "      <th>Y1975</th>\n",
       "      <th>Y1976</th>\n",
       "      <th>Y1977</th>\n",
       "      <th>Y1978</th>\n",
       "      <th>Y1979</th>\n",
       "      <th>Y1980</th>\n",
       "      <th>Y1981</th>\n",
       "      <th>Y1982</th>\n",
       "      <th>Y1983</th>\n",
       "      <th>Y1984</th>\n",
       "      <th>Y1985</th>\n",
       "      <th>Y1986</th>\n",
       "      <th>Y1987</th>\n",
       "      <th>Y1988</th>\n",
       "      <th>Y1989</th>\n",
       "      <th>Y1990</th>\n",
       "      <th>Y1991</th>\n",
       "      <th>Y1992</th>\n",
       "      <th>Y1993</th>\n",
       "      <th>Y1994</th>\n",
       "      <th>Y1995</th>\n",
       "      <th>Y1996</th>\n",
       "      <th>Y1997</th>\n",
       "      <th>Y1998</th>\n",
       "      <th>Y1999</th>\n",
       "      <th>Y2000</th>\n",
       "      <th>Y2001</th>\n",
       "      <th>Y2002</th>\n",
       "      <th>Y2003</th>\n",
       "      <th>Y2004</th>\n",
       "      <th>Y2005</th>\n",
       "      <th>Y2006</th>\n",
       "      <th>Y2007</th>\n",
       "      <th>Y2008</th>\n",
       "      <th>Y2009</th>\n",
       "      <th>Y2010</th>\n",
       "      <th>Y2011</th>\n",
       "      <th>Y2012</th>\n",
       "      <th>Y2013</th>\n",
       "      <th>Y2014</th>\n",
       "      <th>Y2015</th>\n",
       "      <th>Y2016</th>\n",
       "      <th>Y2017</th>\n",
       "      <th>Y2018</th>\n",
       "      <th>Y2019</th>\n",
       "    </tr>\n",
       "  </thead>\n",
       "  <tbody>\n",
       "    <tr>\n",
       "      <th>0</th>\n",
       "      <td>2</td>\n",
       "      <td>Afghanistan</td>\n",
       "      <td>7001</td>\n",
       "      <td>January</td>\n",
       "      <td>7271</td>\n",
       "      <td>Temperature change</td>\n",
       "      <td>�C</td>\n",
       "      <td>0.777</td>\n",
       "      <td>0.062</td>\n",
       "      <td>2.744</td>\n",
       "      <td>-5.232</td>\n",
       "      <td>1.868</td>\n",
       "      <td>3.629</td>\n",
       "      <td>-1.432</td>\n",
       "      <td>0.389</td>\n",
       "      <td>-2.298</td>\n",
       "      <td>0.804</td>\n",
       "      <td>-1.487</td>\n",
       "      <td>-1.305</td>\n",
       "      <td>-2.951</td>\n",
       "      <td>-1.184</td>\n",
       "      <td>-0.490</td>\n",
       "      <td>2.409</td>\n",
       "      <td>-3.014</td>\n",
       "      <td>-0.663</td>\n",
       "      <td>1.141</td>\n",
       "      <td>-0.393</td>\n",
       "      <td>1.724</td>\n",
       "      <td>0.678</td>\n",
       "      <td>0.524</td>\n",
       "      <td>-0.058</td>\n",
       "      <td>0.435</td>\n",
       "      <td>0.332</td>\n",
       "      <td>2.655</td>\n",
       "      <td>1.150</td>\n",
       "      <td>-1.108</td>\n",
       "      <td>0.634</td>\n",
       "      <td>0.018</td>\n",
       "      <td>0.582</td>\n",
       "      <td>-0.821</td>\n",
       "      <td>1.087</td>\n",
       "      <td>1.297</td>\n",
       "      <td>-0.718</td>\n",
       "      <td>1.426</td>\n",
       "      <td>0.950</td>\n",
       "      <td>0.859</td>\n",
       "      <td>1.565</td>\n",
       "      <td>-0.603</td>\n",
       "      <td>1.606</td>\n",
       "      <td>2.479</td>\n",
       "      <td>2.707</td>\n",
       "      <td>0.109</td>\n",
       "      <td>-1.606</td>\n",
       "      <td>0.431</td>\n",
       "      <td>-5.553</td>\n",
       "      <td>1.518</td>\n",
       "      <td>3.601</td>\n",
       "      <td>1.179</td>\n",
       "      <td>-0.583</td>\n",
       "      <td>1.233</td>\n",
       "      <td>1.755</td>\n",
       "      <td>1.943</td>\n",
       "      <td>3.416</td>\n",
       "      <td>1.201</td>\n",
       "      <td>1.996</td>\n",
       "      <td>2.951</td>\n",
       "    </tr>\n",
       "    <tr>\n",
       "      <th>1</th>\n",
       "      <td>2</td>\n",
       "      <td>Afghanistan</td>\n",
       "      <td>7001</td>\n",
       "      <td>January</td>\n",
       "      <td>6078</td>\n",
       "      <td>Standard Deviation</td>\n",
       "      <td>�C</td>\n",
       "      <td>1.950</td>\n",
       "      <td>1.950</td>\n",
       "      <td>1.950</td>\n",
       "      <td>1.950</td>\n",
       "      <td>1.950</td>\n",
       "      <td>1.950</td>\n",
       "      <td>1.950</td>\n",
       "      <td>1.950</td>\n",
       "      <td>1.950</td>\n",
       "      <td>1.950</td>\n",
       "      <td>1.950</td>\n",
       "      <td>1.950</td>\n",
       "      <td>1.950</td>\n",
       "      <td>1.950</td>\n",
       "      <td>1.950</td>\n",
       "      <td>1.950</td>\n",
       "      <td>1.950</td>\n",
       "      <td>1.950</td>\n",
       "      <td>1.950</td>\n",
       "      <td>1.950</td>\n",
       "      <td>1.950</td>\n",
       "      <td>1.950</td>\n",
       "      <td>1.950</td>\n",
       "      <td>1.950</td>\n",
       "      <td>1.950</td>\n",
       "      <td>1.950</td>\n",
       "      <td>1.950</td>\n",
       "      <td>1.950</td>\n",
       "      <td>1.950</td>\n",
       "      <td>1.950</td>\n",
       "      <td>1.950</td>\n",
       "      <td>1.950</td>\n",
       "      <td>1.950</td>\n",
       "      <td>1.950</td>\n",
       "      <td>1.950</td>\n",
       "      <td>1.950</td>\n",
       "      <td>1.950</td>\n",
       "      <td>1.950</td>\n",
       "      <td>1.950</td>\n",
       "      <td>1.950</td>\n",
       "      <td>1.950</td>\n",
       "      <td>1.950</td>\n",
       "      <td>1.950</td>\n",
       "      <td>1.950</td>\n",
       "      <td>1.950</td>\n",
       "      <td>1.950</td>\n",
       "      <td>1.950</td>\n",
       "      <td>1.950</td>\n",
       "      <td>1.950</td>\n",
       "      <td>1.950</td>\n",
       "      <td>1.950</td>\n",
       "      <td>1.950</td>\n",
       "      <td>1.950</td>\n",
       "      <td>1.950</td>\n",
       "      <td>1.950</td>\n",
       "      <td>1.950</td>\n",
       "      <td>1.950</td>\n",
       "      <td>1.950</td>\n",
       "      <td>1.950</td>\n",
       "    </tr>\n",
       "    <tr>\n",
       "      <th>2</th>\n",
       "      <td>2</td>\n",
       "      <td>Afghanistan</td>\n",
       "      <td>7002</td>\n",
       "      <td>February</td>\n",
       "      <td>7271</td>\n",
       "      <td>Temperature change</td>\n",
       "      <td>�C</td>\n",
       "      <td>-1.743</td>\n",
       "      <td>2.465</td>\n",
       "      <td>3.919</td>\n",
       "      <td>-0.202</td>\n",
       "      <td>-0.096</td>\n",
       "      <td>3.397</td>\n",
       "      <td>0.296</td>\n",
       "      <td>-2.055</td>\n",
       "      <td>-3.167</td>\n",
       "      <td>1.809</td>\n",
       "      <td>0.816</td>\n",
       "      <td>-7.722</td>\n",
       "      <td>1.838</td>\n",
       "      <td>-3.706</td>\n",
       "      <td>-1.239</td>\n",
       "      <td>-1.620</td>\n",
       "      <td>-0.156</td>\n",
       "      <td>-0.369</td>\n",
       "      <td>1.072</td>\n",
       "      <td>-1.222</td>\n",
       "      <td>1.088</td>\n",
       "      <td>-2.101</td>\n",
       "      <td>0.460</td>\n",
       "      <td>-4.321</td>\n",
       "      <td>2.467</td>\n",
       "      <td>-0.286</td>\n",
       "      <td>1.409</td>\n",
       "      <td>0.170</td>\n",
       "      <td>-2.890</td>\n",
       "      <td>-0.310</td>\n",
       "      <td>-1.373</td>\n",
       "      <td>-0.120</td>\n",
       "      <td>1.414</td>\n",
       "      <td>-1.412</td>\n",
       "      <td>-0.149</td>\n",
       "      <td>0.870</td>\n",
       "      <td>0.043</td>\n",
       "      <td>-0.540</td>\n",
       "      <td>3.222</td>\n",
       "      <td>-0.901</td>\n",
       "      <td>0.707</td>\n",
       "      <td>0.985</td>\n",
       "      <td>1.816</td>\n",
       "      <td>2.871</td>\n",
       "      <td>-1.506</td>\n",
       "      <td>4.725</td>\n",
       "      <td>1.645</td>\n",
       "      <td>-2.332</td>\n",
       "      <td>2.494</td>\n",
       "      <td>1.212</td>\n",
       "      <td>0.321</td>\n",
       "      <td>-3.201</td>\n",
       "      <td>1.494</td>\n",
       "      <td>-3.187</td>\n",
       "      <td>2.699</td>\n",
       "      <td>2.251</td>\n",
       "      <td>-0.323</td>\n",
       "      <td>2.705</td>\n",
       "      <td>0.086</td>\n",
       "    </tr>\n",
       "    <tr>\n",
       "      <th>3</th>\n",
       "      <td>2</td>\n",
       "      <td>Afghanistan</td>\n",
       "      <td>7002</td>\n",
       "      <td>February</td>\n",
       "      <td>6078</td>\n",
       "      <td>Standard Deviation</td>\n",
       "      <td>�C</td>\n",
       "      <td>2.597</td>\n",
       "      <td>2.597</td>\n",
       "      <td>2.597</td>\n",
       "      <td>2.597</td>\n",
       "      <td>2.597</td>\n",
       "      <td>2.597</td>\n",
       "      <td>2.597</td>\n",
       "      <td>2.597</td>\n",
       "      <td>2.597</td>\n",
       "      <td>2.597</td>\n",
       "      <td>2.597</td>\n",
       "      <td>2.597</td>\n",
       "      <td>2.597</td>\n",
       "      <td>2.597</td>\n",
       "      <td>2.597</td>\n",
       "      <td>2.597</td>\n",
       "      <td>2.597</td>\n",
       "      <td>2.597</td>\n",
       "      <td>2.597</td>\n",
       "      <td>2.597</td>\n",
       "      <td>2.597</td>\n",
       "      <td>2.597</td>\n",
       "      <td>2.597</td>\n",
       "      <td>2.597</td>\n",
       "      <td>2.597</td>\n",
       "      <td>2.597</td>\n",
       "      <td>2.597</td>\n",
       "      <td>2.597</td>\n",
       "      <td>2.597</td>\n",
       "      <td>2.597</td>\n",
       "      <td>2.597</td>\n",
       "      <td>2.597</td>\n",
       "      <td>2.597</td>\n",
       "      <td>2.597</td>\n",
       "      <td>2.597</td>\n",
       "      <td>2.597</td>\n",
       "      <td>2.597</td>\n",
       "      <td>2.597</td>\n",
       "      <td>2.597</td>\n",
       "      <td>2.597</td>\n",
       "      <td>2.597</td>\n",
       "      <td>2.597</td>\n",
       "      <td>2.597</td>\n",
       "      <td>2.597</td>\n",
       "      <td>2.597</td>\n",
       "      <td>2.597</td>\n",
       "      <td>2.597</td>\n",
       "      <td>2.597</td>\n",
       "      <td>2.597</td>\n",
       "      <td>2.597</td>\n",
       "      <td>2.597</td>\n",
       "      <td>2.597</td>\n",
       "      <td>2.597</td>\n",
       "      <td>2.597</td>\n",
       "      <td>2.597</td>\n",
       "      <td>2.597</td>\n",
       "      <td>2.597</td>\n",
       "      <td>2.597</td>\n",
       "      <td>2.597</td>\n",
       "    </tr>\n",
       "    <tr>\n",
       "      <th>4</th>\n",
       "      <td>2</td>\n",
       "      <td>Afghanistan</td>\n",
       "      <td>7003</td>\n",
       "      <td>March</td>\n",
       "      <td>7271</td>\n",
       "      <td>Temperature change</td>\n",
       "      <td>�C</td>\n",
       "      <td>0.516</td>\n",
       "      <td>1.336</td>\n",
       "      <td>0.403</td>\n",
       "      <td>1.659</td>\n",
       "      <td>-0.909</td>\n",
       "      <td>-0.069</td>\n",
       "      <td>-0.759</td>\n",
       "      <td>0.496</td>\n",
       "      <td>2.481</td>\n",
       "      <td>-0.915</td>\n",
       "      <td>1.658</td>\n",
       "      <td>-1.784</td>\n",
       "      <td>-0.473</td>\n",
       "      <td>1.001</td>\n",
       "      <td>-0.585</td>\n",
       "      <td>-2.817</td>\n",
       "      <td>3.377</td>\n",
       "      <td>-1.536</td>\n",
       "      <td>-1.420</td>\n",
       "      <td>-0.628</td>\n",
       "      <td>1.166</td>\n",
       "      <td>-1.781</td>\n",
       "      <td>-2.406</td>\n",
       "      <td>1.761</td>\n",
       "      <td>-0.160</td>\n",
       "      <td>-3.087</td>\n",
       "      <td>1.330</td>\n",
       "      <td>-0.056</td>\n",
       "      <td>0.065</td>\n",
       "      <td>-1.000</td>\n",
       "      <td>-0.901</td>\n",
       "      <td>-2.220</td>\n",
       "      <td>-1.449</td>\n",
       "      <td>1.312</td>\n",
       "      <td>-1.451</td>\n",
       "      <td>-0.336</td>\n",
       "      <td>-0.005</td>\n",
       "      <td>-0.576</td>\n",
       "      <td>-0.217</td>\n",
       "      <td>-0.267</td>\n",
       "      <td>1.229</td>\n",
       "      <td>1.949</td>\n",
       "      <td>-0.158</td>\n",
       "      <td>2.753</td>\n",
       "      <td>1.663</td>\n",
       "      <td>1.847</td>\n",
       "      <td>-0.201</td>\n",
       "      <td>4.172</td>\n",
       "      <td>2.362</td>\n",
       "      <td>3.390</td>\n",
       "      <td>0.748</td>\n",
       "      <td>-0.527</td>\n",
       "      <td>2.246</td>\n",
       "      <td>-0.076</td>\n",
       "      <td>-0.497</td>\n",
       "      <td>2.296</td>\n",
       "      <td>0.834</td>\n",
       "      <td>4.418</td>\n",
       "      <td>0.234</td>\n",
       "    </tr>\n",
       "  </tbody>\n",
       "</table>\n",
       "</div>"
      ],
      "text/plain": [
       "   Area Code         Area  Months Code    Months  Element Code  \\\n",
       "0          2  Afghanistan         7001   January          7271   \n",
       "1          2  Afghanistan         7001   January          6078   \n",
       "2          2  Afghanistan         7002  February          7271   \n",
       "3          2  Afghanistan         7002  February          6078   \n",
       "4          2  Afghanistan         7003     March          7271   \n",
       "\n",
       "              Element Unit  Y1961  Y1962  Y1963  Y1964  Y1965  Y1966  Y1967  \\\n",
       "0  Temperature change   �C  0.777  0.062  2.744 -5.232  1.868  3.629 -1.432   \n",
       "1  Standard Deviation   �C  1.950  1.950  1.950  1.950  1.950  1.950  1.950   \n",
       "2  Temperature change   �C -1.743  2.465  3.919 -0.202 -0.096  3.397  0.296   \n",
       "3  Standard Deviation   �C  2.597  2.597  2.597  2.597  2.597  2.597  2.597   \n",
       "4  Temperature change   �C  0.516  1.336  0.403  1.659 -0.909 -0.069 -0.759   \n",
       "\n",
       "   Y1968  Y1969  Y1970  Y1971  Y1972  Y1973  Y1974  Y1975  Y1976  Y1977  \\\n",
       "0  0.389 -2.298  0.804 -1.487 -1.305 -2.951 -1.184 -0.490  2.409 -3.014   \n",
       "1  1.950  1.950  1.950  1.950  1.950  1.950  1.950  1.950  1.950  1.950   \n",
       "2 -2.055 -3.167  1.809  0.816 -7.722  1.838 -3.706 -1.239 -1.620 -0.156   \n",
       "3  2.597  2.597  2.597  2.597  2.597  2.597  2.597  2.597  2.597  2.597   \n",
       "4  0.496  2.481 -0.915  1.658 -1.784 -0.473  1.001 -0.585 -2.817  3.377   \n",
       "\n",
       "   Y1978  Y1979  Y1980  Y1981  Y1982  Y1983  Y1984  Y1985  Y1986  Y1987  \\\n",
       "0 -0.663  1.141 -0.393  1.724  0.678  0.524 -0.058  0.435  0.332  2.655   \n",
       "1  1.950  1.950  1.950  1.950  1.950  1.950  1.950  1.950  1.950  1.950   \n",
       "2 -0.369  1.072 -1.222  1.088 -2.101  0.460 -4.321  2.467 -0.286  1.409   \n",
       "3  2.597  2.597  2.597  2.597  2.597  2.597  2.597  2.597  2.597  2.597   \n",
       "4 -1.536 -1.420 -0.628  1.166 -1.781 -2.406  1.761 -0.160 -3.087  1.330   \n",
       "\n",
       "   Y1988  Y1989  Y1990  Y1991  Y1992  Y1993  Y1994  Y1995  Y1996  Y1997  \\\n",
       "0  1.150 -1.108  0.634  0.018  0.582 -0.821  1.087  1.297 -0.718  1.426   \n",
       "1  1.950  1.950  1.950  1.950  1.950  1.950  1.950  1.950  1.950  1.950   \n",
       "2  0.170 -2.890 -0.310 -1.373 -0.120  1.414 -1.412 -0.149  0.870  0.043   \n",
       "3  2.597  2.597  2.597  2.597  2.597  2.597  2.597  2.597  2.597  2.597   \n",
       "4 -0.056  0.065 -1.000 -0.901 -2.220 -1.449  1.312 -1.451 -0.336 -0.005   \n",
       "\n",
       "   Y1998  Y1999  Y2000  Y2001  Y2002  Y2003  Y2004  Y2005  Y2006  Y2007  \\\n",
       "0  0.950  0.859  1.565 -0.603  1.606  2.479  2.707  0.109 -1.606  0.431   \n",
       "1  1.950  1.950  1.950  1.950  1.950  1.950  1.950  1.950  1.950  1.950   \n",
       "2 -0.540  3.222 -0.901  0.707  0.985  1.816  2.871 -1.506  4.725  1.645   \n",
       "3  2.597  2.597  2.597  2.597  2.597  2.597  2.597  2.597  2.597  2.597   \n",
       "4 -0.576 -0.217 -0.267  1.229  1.949 -0.158  2.753  1.663  1.847 -0.201   \n",
       "\n",
       "   Y2008  Y2009  Y2010  Y2011  Y2012  Y2013  Y2014  Y2015  Y2016  Y2017  \\\n",
       "0 -5.553  1.518  3.601  1.179 -0.583  1.233  1.755  1.943  3.416  1.201   \n",
       "1  1.950  1.950  1.950  1.950  1.950  1.950  1.950  1.950  1.950  1.950   \n",
       "2 -2.332  2.494  1.212  0.321 -3.201  1.494 -3.187  2.699  2.251 -0.323   \n",
       "3  2.597  2.597  2.597  2.597  2.597  2.597  2.597  2.597  2.597  2.597   \n",
       "4  4.172  2.362  3.390  0.748 -0.527  2.246 -0.076 -0.497  2.296  0.834   \n",
       "\n",
       "   Y2018  Y2019  \n",
       "0  1.996  2.951  \n",
       "1  1.950  1.950  \n",
       "2  2.705  0.086  \n",
       "3  2.597  2.597  \n",
       "4  4.418  0.234  "
      ]
     },
     "execution_count": 55,
     "metadata": {},
     "output_type": "execute_result"
    }
   ],
   "source": [
    "print(f\"Dimensioni del dataframe: {df_temp.shape[0]} righe e {df_temp.shape[1]} colonne.\")\n",
    "print(\"\\nColonne del dataframe:\\n\", df_temp.columns)\n",
    "df_temp.head()"
   ]
  },
  {
   "cell_type": "code",
   "execution_count": 56,
   "id": "c6449faf",
   "metadata": {},
   "outputs": [],
   "source": [
    "# Rimuovo la 'Y' dalle labels degli anni\n",
    "df_temp.rename(columns={n:n[1:] for n in df_temp.columns if 'Y' in n}, inplace=True)\n",
    "\n",
    "# Sostituisco gli spazi nelle features delle colonne per renderle più maneggiabili\n",
    "df_temp.rename(columns={n:n.replace(' ', '_') for n in df_temp.columns if ' ' in n}, inplace= True)"
   ]
  },
  {
   "cell_type": "markdown",
   "id": "65d42c1a",
   "metadata": {},
   "source": [
    "#### Valori nulli"
   ]
  },
  {
   "cell_type": "code",
   "execution_count": 58,
   "id": "88bc42f3",
   "metadata": {},
   "outputs": [
    {
     "name": "stdout",
     "output_type": "stream",
     "text": [
      "Dtype, Valori unici e Valori mancanti(%) di ciascuna colonna:\n"
     ]
    },
    {
     "data": {
      "text/html": [
       "<div>\n",
       "<style scoped>\n",
       "    .dataframe tbody tr th:only-of-type {\n",
       "        vertical-align: middle;\n",
       "    }\n",
       "\n",
       "    .dataframe tbody tr th {\n",
       "        vertical-align: top;\n",
       "    }\n",
       "\n",
       "    .dataframe thead th {\n",
       "        text-align: right;\n",
       "    }\n",
       "</style>\n",
       "<table border=\"1\" class=\"dataframe\">\n",
       "  <thead>\n",
       "    <tr style=\"text-align: right;\">\n",
       "      <th></th>\n",
       "      <th>Dtype</th>\n",
       "      <th>Valori unici</th>\n",
       "      <th>Valori mancanti(%)</th>\n",
       "    </tr>\n",
       "    <tr>\n",
       "      <th>Colonne</th>\n",
       "      <th></th>\n",
       "      <th></th>\n",
       "      <th></th>\n",
       "    </tr>\n",
       "  </thead>\n",
       "  <tbody>\n",
       "    <tr>\n",
       "      <th>Area_Code</th>\n",
       "      <td>int64</td>\n",
       "      <td>284</td>\n",
       "      <td>0.00</td>\n",
       "    </tr>\n",
       "    <tr>\n",
       "      <th>Area</th>\n",
       "      <td>object</td>\n",
       "      <td>284</td>\n",
       "      <td>0.00</td>\n",
       "    </tr>\n",
       "    <tr>\n",
       "      <th>Months_Code</th>\n",
       "      <td>int64</td>\n",
       "      <td>17</td>\n",
       "      <td>0.00</td>\n",
       "    </tr>\n",
       "    <tr>\n",
       "      <th>Months</th>\n",
       "      <td>object</td>\n",
       "      <td>17</td>\n",
       "      <td>0.00</td>\n",
       "    </tr>\n",
       "    <tr>\n",
       "      <th>Element_Code</th>\n",
       "      <td>int64</td>\n",
       "      <td>2</td>\n",
       "      <td>0.00</td>\n",
       "    </tr>\n",
       "    <tr>\n",
       "      <th>Element</th>\n",
       "      <td>object</td>\n",
       "      <td>2</td>\n",
       "      <td>0.00</td>\n",
       "    </tr>\n",
       "    <tr>\n",
       "      <th>Unit</th>\n",
       "      <td>object</td>\n",
       "      <td>1</td>\n",
       "      <td>0.00</td>\n",
       "    </tr>\n",
       "    <tr>\n",
       "      <th>1961</th>\n",
       "      <td>float64</td>\n",
       "      <td>2612</td>\n",
       "      <td>14.18</td>\n",
       "    </tr>\n",
       "    <tr>\n",
       "      <th>1962</th>\n",
       "      <td>float64</td>\n",
       "      <td>2561</td>\n",
       "      <td>13.82</td>\n",
       "    </tr>\n",
       "    <tr>\n",
       "      <th>1963</th>\n",
       "      <td>float64</td>\n",
       "      <td>2673</td>\n",
       "      <td>14.11</td>\n",
       "    </tr>\n",
       "    <tr>\n",
       "      <th>1964</th>\n",
       "      <td>float64</td>\n",
       "      <td>2686</td>\n",
       "      <td>14.54</td>\n",
       "    </tr>\n",
       "    <tr>\n",
       "      <th>1965</th>\n",
       "      <td>float64</td>\n",
       "      <td>2721</td>\n",
       "      <td>14.24</td>\n",
       "    </tr>\n",
       "    <tr>\n",
       "      <th>1966</th>\n",
       "      <td>float64</td>\n",
       "      <td>2552</td>\n",
       "      <td>13.38</td>\n",
       "    </tr>\n",
       "    <tr>\n",
       "      <th>1967</th>\n",
       "      <td>float64</td>\n",
       "      <td>2665</td>\n",
       "      <td>13.56</td>\n",
       "    </tr>\n",
       "    <tr>\n",
       "      <th>1968</th>\n",
       "      <td>float64</td>\n",
       "      <td>2717</td>\n",
       "      <td>13.58</td>\n",
       "    </tr>\n",
       "    <tr>\n",
       "      <th>1969</th>\n",
       "      <td>float64</td>\n",
       "      <td>2537</td>\n",
       "      <td>13.77</td>\n",
       "    </tr>\n",
       "    <tr>\n",
       "      <th>1970</th>\n",
       "      <td>float64</td>\n",
       "      <td>2491</td>\n",
       "      <td>13.96</td>\n",
       "    </tr>\n",
       "    <tr>\n",
       "      <th>1971</th>\n",
       "      <td>float64</td>\n",
       "      <td>2673</td>\n",
       "      <td>14.01</td>\n",
       "    </tr>\n",
       "    <tr>\n",
       "      <th>1972</th>\n",
       "      <td>float64</td>\n",
       "      <td>2668</td>\n",
       "      <td>13.80</td>\n",
       "    </tr>\n",
       "    <tr>\n",
       "      <th>1973</th>\n",
       "      <td>float64</td>\n",
       "      <td>2499</td>\n",
       "      <td>13.07</td>\n",
       "    </tr>\n",
       "    <tr>\n",
       "      <th>1974</th>\n",
       "      <td>float64</td>\n",
       "      <td>2691</td>\n",
       "      <td>13.28</td>\n",
       "    </tr>\n",
       "    <tr>\n",
       "      <th>1975</th>\n",
       "      <td>float64</td>\n",
       "      <td>2645</td>\n",
       "      <td>14.25</td>\n",
       "    </tr>\n",
       "    <tr>\n",
       "      <th>1976</th>\n",
       "      <td>float64</td>\n",
       "      <td>2732</td>\n",
       "      <td>14.99</td>\n",
       "    </tr>\n",
       "    <tr>\n",
       "      <th>1977</th>\n",
       "      <td>float64</td>\n",
       "      <td>2482</td>\n",
       "      <td>14.49</td>\n",
       "    </tr>\n",
       "    <tr>\n",
       "      <th>1978</th>\n",
       "      <td>float64</td>\n",
       "      <td>2456</td>\n",
       "      <td>13.76</td>\n",
       "    </tr>\n",
       "    <tr>\n",
       "      <th>1979</th>\n",
       "      <td>float64</td>\n",
       "      <td>2407</td>\n",
       "      <td>14.15</td>\n",
       "    </tr>\n",
       "    <tr>\n",
       "      <th>1980</th>\n",
       "      <td>float64</td>\n",
       "      <td>2370</td>\n",
       "      <td>14.22</td>\n",
       "    </tr>\n",
       "    <tr>\n",
       "      <th>1981</th>\n",
       "      <td>float64</td>\n",
       "      <td>2478</td>\n",
       "      <td>14.29</td>\n",
       "    </tr>\n",
       "    <tr>\n",
       "      <th>1982</th>\n",
       "      <td>float64</td>\n",
       "      <td>2494</td>\n",
       "      <td>14.70</td>\n",
       "    </tr>\n",
       "    <tr>\n",
       "      <th>1983</th>\n",
       "      <td>float64</td>\n",
       "      <td>2576</td>\n",
       "      <td>15.03</td>\n",
       "    </tr>\n",
       "    <tr>\n",
       "      <th>1984</th>\n",
       "      <td>float64</td>\n",
       "      <td>2571</td>\n",
       "      <td>14.47</td>\n",
       "    </tr>\n",
       "    <tr>\n",
       "      <th>1985</th>\n",
       "      <td>float64</td>\n",
       "      <td>2531</td>\n",
       "      <td>14.91</td>\n",
       "    </tr>\n",
       "    <tr>\n",
       "      <th>1986</th>\n",
       "      <td>float64</td>\n",
       "      <td>2472</td>\n",
       "      <td>14.37</td>\n",
       "    </tr>\n",
       "    <tr>\n",
       "      <th>1987</th>\n",
       "      <td>float64</td>\n",
       "      <td>2492</td>\n",
       "      <td>14.21</td>\n",
       "    </tr>\n",
       "    <tr>\n",
       "      <th>1988</th>\n",
       "      <td>float64</td>\n",
       "      <td>2339</td>\n",
       "      <td>14.32</td>\n",
       "    </tr>\n",
       "    <tr>\n",
       "      <th>1989</th>\n",
       "      <td>float64</td>\n",
       "      <td>2577</td>\n",
       "      <td>14.49</td>\n",
       "    </tr>\n",
       "    <tr>\n",
       "      <th>1990</th>\n",
       "      <td>float64</td>\n",
       "      <td>2442</td>\n",
       "      <td>14.67</td>\n",
       "    </tr>\n",
       "    <tr>\n",
       "      <th>1991</th>\n",
       "      <td>float64</td>\n",
       "      <td>2414</td>\n",
       "      <td>15.51</td>\n",
       "    </tr>\n",
       "    <tr>\n",
       "      <th>1992</th>\n",
       "      <td>float64</td>\n",
       "      <td>2785</td>\n",
       "      <td>13.48</td>\n",
       "    </tr>\n",
       "    <tr>\n",
       "      <th>1993</th>\n",
       "      <td>float64</td>\n",
       "      <td>2673</td>\n",
       "      <td>13.89</td>\n",
       "    </tr>\n",
       "    <tr>\n",
       "      <th>1994</th>\n",
       "      <td>float64</td>\n",
       "      <td>2562</td>\n",
       "      <td>13.29</td>\n",
       "    </tr>\n",
       "    <tr>\n",
       "      <th>1995</th>\n",
       "      <td>float64</td>\n",
       "      <td>2496</td>\n",
       "      <td>12.91</td>\n",
       "    </tr>\n",
       "    <tr>\n",
       "      <th>1996</th>\n",
       "      <td>float64</td>\n",
       "      <td>2536</td>\n",
       "      <td>12.60</td>\n",
       "    </tr>\n",
       "    <tr>\n",
       "      <th>1997</th>\n",
       "      <td>float64</td>\n",
       "      <td>2608</td>\n",
       "      <td>13.95</td>\n",
       "    </tr>\n",
       "    <tr>\n",
       "      <th>1998</th>\n",
       "      <td>float64</td>\n",
       "      <td>2590</td>\n",
       "      <td>13.32</td>\n",
       "    </tr>\n",
       "    <tr>\n",
       "      <th>1999</th>\n",
       "      <td>float64</td>\n",
       "      <td>2509</td>\n",
       "      <td>13.79</td>\n",
       "    </tr>\n",
       "    <tr>\n",
       "      <th>2000</th>\n",
       "      <td>float64</td>\n",
       "      <td>2672</td>\n",
       "      <td>13.61</td>\n",
       "    </tr>\n",
       "    <tr>\n",
       "      <th>2001</th>\n",
       "      <td>float64</td>\n",
       "      <td>2541</td>\n",
       "      <td>14.65</td>\n",
       "    </tr>\n",
       "    <tr>\n",
       "      <th>2002</th>\n",
       "      <td>float64</td>\n",
       "      <td>2529</td>\n",
       "      <td>13.92</td>\n",
       "    </tr>\n",
       "    <tr>\n",
       "      <th>2003</th>\n",
       "      <td>float64</td>\n",
       "      <td>2519</td>\n",
       "      <td>13.11</td>\n",
       "    </tr>\n",
       "    <tr>\n",
       "      <th>2004</th>\n",
       "      <td>float64</td>\n",
       "      <td>2299</td>\n",
       "      <td>12.85</td>\n",
       "    </tr>\n",
       "    <tr>\n",
       "      <th>2005</th>\n",
       "      <td>float64</td>\n",
       "      <td>2457</td>\n",
       "      <td>12.76</td>\n",
       "    </tr>\n",
       "    <tr>\n",
       "      <th>2006</th>\n",
       "      <td>float64</td>\n",
       "      <td>2629</td>\n",
       "      <td>11.94</td>\n",
       "    </tr>\n",
       "    <tr>\n",
       "      <th>2007</th>\n",
       "      <td>float64</td>\n",
       "      <td>2602</td>\n",
       "      <td>11.62</td>\n",
       "    </tr>\n",
       "    <tr>\n",
       "      <th>2008</th>\n",
       "      <td>float64</td>\n",
       "      <td>2634</td>\n",
       "      <td>12.23</td>\n",
       "    </tr>\n",
       "    <tr>\n",
       "      <th>2009</th>\n",
       "      <td>float64</td>\n",
       "      <td>2496</td>\n",
       "      <td>12.81</td>\n",
       "    </tr>\n",
       "    <tr>\n",
       "      <th>2010</th>\n",
       "      <td>float64</td>\n",
       "      <td>2745</td>\n",
       "      <td>12.64</td>\n",
       "    </tr>\n",
       "    <tr>\n",
       "      <th>2011</th>\n",
       "      <td>float64</td>\n",
       "      <td>2543</td>\n",
       "      <td>12.62</td>\n",
       "    </tr>\n",
       "    <tr>\n",
       "      <th>2012</th>\n",
       "      <td>float64</td>\n",
       "      <td>2637</td>\n",
       "      <td>13.53</td>\n",
       "    </tr>\n",
       "    <tr>\n",
       "      <th>2013</th>\n",
       "      <td>float64</td>\n",
       "      <td>2411</td>\n",
       "      <td>12.73</td>\n",
       "    </tr>\n",
       "    <tr>\n",
       "      <th>2014</th>\n",
       "      <td>float64</td>\n",
       "      <td>2527</td>\n",
       "      <td>13.25</td>\n",
       "    </tr>\n",
       "    <tr>\n",
       "      <th>2015</th>\n",
       "      <td>float64</td>\n",
       "      <td>2652</td>\n",
       "      <td>13.41</td>\n",
       "    </tr>\n",
       "    <tr>\n",
       "      <th>2016</th>\n",
       "      <td>float64</td>\n",
       "      <td>2657</td>\n",
       "      <td>13.55</td>\n",
       "    </tr>\n",
       "    <tr>\n",
       "      <th>2017</th>\n",
       "      <td>float64</td>\n",
       "      <td>2602</td>\n",
       "      <td>13.36</td>\n",
       "    </tr>\n",
       "    <tr>\n",
       "      <th>2018</th>\n",
       "      <td>float64</td>\n",
       "      <td>2720</td>\n",
       "      <td>13.54</td>\n",
       "    </tr>\n",
       "    <tr>\n",
       "      <th>2019</th>\n",
       "      <td>float64</td>\n",
       "      <td>2697</td>\n",
       "      <td>13.37</td>\n",
       "    </tr>\n",
       "  </tbody>\n",
       "</table>\n",
       "</div>"
      ],
      "text/plain": [
       "                Dtype  Valori unici  Valori mancanti(%)\n",
       "Colonne                                                \n",
       "Area_Code       int64           284                0.00\n",
       "Area           object           284                0.00\n",
       "Months_Code     int64            17                0.00\n",
       "Months         object            17                0.00\n",
       "Element_Code    int64             2                0.00\n",
       "Element        object             2                0.00\n",
       "Unit           object             1                0.00\n",
       "1961          float64          2612               14.18\n",
       "1962          float64          2561               13.82\n",
       "1963          float64          2673               14.11\n",
       "1964          float64          2686               14.54\n",
       "1965          float64          2721               14.24\n",
       "1966          float64          2552               13.38\n",
       "1967          float64          2665               13.56\n",
       "1968          float64          2717               13.58\n",
       "1969          float64          2537               13.77\n",
       "1970          float64          2491               13.96\n",
       "1971          float64          2673               14.01\n",
       "1972          float64          2668               13.80\n",
       "1973          float64          2499               13.07\n",
       "1974          float64          2691               13.28\n",
       "1975          float64          2645               14.25\n",
       "1976          float64          2732               14.99\n",
       "1977          float64          2482               14.49\n",
       "1978          float64          2456               13.76\n",
       "1979          float64          2407               14.15\n",
       "1980          float64          2370               14.22\n",
       "1981          float64          2478               14.29\n",
       "1982          float64          2494               14.70\n",
       "1983          float64          2576               15.03\n",
       "1984          float64          2571               14.47\n",
       "1985          float64          2531               14.91\n",
       "1986          float64          2472               14.37\n",
       "1987          float64          2492               14.21\n",
       "1988          float64          2339               14.32\n",
       "1989          float64          2577               14.49\n",
       "1990          float64          2442               14.67\n",
       "1991          float64          2414               15.51\n",
       "1992          float64          2785               13.48\n",
       "1993          float64          2673               13.89\n",
       "1994          float64          2562               13.29\n",
       "1995          float64          2496               12.91\n",
       "1996          float64          2536               12.60\n",
       "1997          float64          2608               13.95\n",
       "1998          float64          2590               13.32\n",
       "1999          float64          2509               13.79\n",
       "2000          float64          2672               13.61\n",
       "2001          float64          2541               14.65\n",
       "2002          float64          2529               13.92\n",
       "2003          float64          2519               13.11\n",
       "2004          float64          2299               12.85\n",
       "2005          float64          2457               12.76\n",
       "2006          float64          2629               11.94\n",
       "2007          float64          2602               11.62\n",
       "2008          float64          2634               12.23\n",
       "2009          float64          2496               12.81\n",
       "2010          float64          2745               12.64\n",
       "2011          float64          2543               12.62\n",
       "2012          float64          2637               13.53\n",
       "2013          float64          2411               12.73\n",
       "2014          float64          2527               13.25\n",
       "2015          float64          2652               13.41\n",
       "2016          float64          2657               13.55\n",
       "2017          float64          2602               13.36\n",
       "2018          float64          2720               13.54\n",
       "2019          float64          2697               13.37"
      ]
     },
     "execution_count": 58,
     "metadata": {},
     "output_type": "execute_result"
    }
   ],
   "source": [
    "pd.set_option('display.max_rows', 66)\n",
    "\n",
    "print(\"Dtype, Valori unici e Valori mancanti(%) di ciascuna colonna:\")\n",
    "\n",
    "df_temp_info= pd.DataFrame({\"Dtype\": df_temp.dtypes, \n",
    "                            \"Valori unici\": df_temp.nunique(),\n",
    "                            \"Valori mancanti(%)\": round(df_temp.isnull().sum()/df_temp.shape[0]*100, 2)\n",
    "                            }).rename_axis('Colonne', axis='rows')                       \n",
    "\n",
    "df_temp_info"
   ]
  },
  {
   "cell_type": "markdown",
   "id": "d1b63621",
   "metadata": {},
   "source": [
    "In questo caso i dati mancanti sono distribuiti in maniera abbastanza uniforme nel periodo temporale tra 1961 e 2019."
   ]
  },
  {
   "cell_type": "code",
   "execution_count": null,
   "metadata": {},
   "outputs": [],
   "source": []
  },
  {
   "cell_type": "code",
   "execution_count": null,
   "id": "76cd1f48",
   "metadata": {},
   "outputs": [],
   "source": []
  },
  {
   "cell_type": "code",
   "execution_count": null,
   "metadata": {},
   "outputs": [],
   "source": []
  },
  {
   "cell_type": "code",
   "execution_count": null,
   "id": "b0505995",
   "metadata": {},
   "outputs": [],
   "source": []
  },
  {
   "cell_type": "markdown",
   "id": "1a0cf89d",
   "metadata": {},
   "source": [
    "---\n",
    "---\n",
    "## Data exploration/trasformation"
   ]
  },
  {
   "cell_type": "markdown",
   "id": "af589dfb",
   "metadata": {},
   "source": [
    "### Confronto tra produzione di cibo e mangime a livello mondiale"
   ]
  },
  {
   "cell_type": "code",
   "execution_count": 59,
   "id": "c6df4c2c",
   "metadata": {},
   "outputs": [
    {
     "data": {
      "image/png": "[encoded data removed]",
      "text/plain": [
       "<Figure size 576x432 with 1 Axes>"
      ]
     },
     "metadata": {},
     "output_type": "display_data"
    }
   ],
   "source": [
    "elements = df_prod[\"Element\"].value_counts()\n",
    "\n",
    "labels = elements.index\n",
    "explode = [0, 0.1] \n",
    "colors = ['orange', 'brown']\n",
    "\n",
    "plt.figure(figsize = (8,6))\n",
    "plt.pie(elements, labels=labels, explode=explode, autopct='%1.2f%%', colors=colors, textprops={'fontsize': 13})\n",
    "\n",
    "plt.title(\"Counting of food and feed elements\", fontsize=18)\n",
    "plt.show()"
   ]
  },
  {
   "cell_type": "markdown",
   "id": "11c4cb9c",
   "metadata": {},
   "source": [
    "Come prevedibile, gli elementi che riguardano il cibo sono molti in più rispetto ai mangimi. \n",
    "\n",
    "Questo significa che nel tempo è stato prodotto molto più cibo che mangime?"
   ]
  },
  {
   "cell_type": "code",
   "execution_count": 60,
   "id": "1871e407",
   "metadata": {},
   "outputs": [
    {
     "data": {
      "image/png": "[encoded data removed]",
      "text/plain": [
       "<Figure size 1080x360 with 1 Axes>"
      ]
     },
     "metadata": {},
     "output_type": "display_data"
    }
   ],
   "source": [
    "years_of_production = [str(n) for n in range(1961, 2013+1)]\n",
    "\n",
    "# Raggruppo tutti gli elementi di cibi e mangimi e sommo i quantitativi prodotti ogni anno \n",
    "total_production = df_prod.groupby('Element')[years_of_production].sum()\n",
    "\n",
    "sns.set_style('whitegrid')\n",
    "\n",
    "plt.figure(figsize=(15,5))\n",
    "\n",
    "sns.lineplot(data=total_production.loc['Food'], label='Food', linewidth=4, color='orange')\n",
    "sns.lineplot(data=total_production.loc['Feed'], label='Feed', linewidth=4, color='brown')\n",
    "\n",
    "plt.title('Production of food and feed from 1961 to 2013', size=18, pad=20)\n",
    "\n",
    "plt.ylabel('Millions of tons', size=15)\n",
    "plt.yticks(size=15)\n",
    "\n",
    "plt.xticks(np.arange(0, len(years_of_production), 5), size=15)\n",
    "\n",
    "plt.legend(prop={'size': 15})\n",
    "plt.show()"
   ]
  },
  {
   "cell_type": "markdown",
   "id": "9af44049",
   "metadata": {},
   "source": [
    "Non solo è stato prodotto molto più cibo che mangime dal 1961 al 2013, ma anche il suo incremento di produzione è superiore. Infatti, in poco più di 50 anni la produzione di mangime è raddoppiata, mentre quella del cibo è più che triplicata!\n",
    "\n",
    "Passo all'osservazione di qualche statistica compatta sui due estremi degli anni di produzione, osservando a quanto ammonta la produzione massima nel 1961 e nel 2013. Inoltre, voglio visualizzare quali sono i cibi, i mangimi e i paesi più frequenti nel dataframe."
   ]
  },
  {
   "cell_type": "code",
   "execution_count": 61,
   "id": "fda17129",
   "metadata": {},
   "outputs": [
    {
     "data": {
      "text/html": [
       "<div>\n",
       "<style scoped>\n",
       "    .dataframe tbody tr th:only-of-type {\n",
       "        vertical-align: middle;\n",
       "    }\n",
       "\n",
       "    .dataframe tbody tr th {\n",
       "        vertical-align: top;\n",
       "    }\n",
       "\n",
       "    .dataframe thead th {\n",
       "        text-align: right;\n",
       "    }\n",
       "</style>\n",
       "<table border=\"1\" class=\"dataframe\">\n",
       "  <thead>\n",
       "    <tr style=\"text-align: right;\">\n",
       "      <th></th>\n",
       "      <th>Max_prod_1961</th>\n",
       "      <th>Max_prod_2013</th>\n",
       "      <th>Most_frequent_product</th>\n",
       "    </tr>\n",
       "    <tr>\n",
       "      <th>Element</th>\n",
       "      <th></th>\n",
       "      <th></th>\n",
       "      <th></th>\n",
       "    </tr>\n",
       "  </thead>\n",
       "  <tbody>\n",
       "    <tr>\n",
       "      <th>Feed</th>\n",
       "      <td>112227</td>\n",
       "      <td>193043</td>\n",
       "      <td>Milk</td>\n",
       "    </tr>\n",
       "    <tr>\n",
       "      <th>Food</th>\n",
       "      <td>74071</td>\n",
       "      <td>489299</td>\n",
       "      <td>Milk</td>\n",
       "    </tr>\n",
       "  </tbody>\n",
       "</table>\n",
       "</div>"
      ],
      "text/plain": [
       "         Max_prod_1961  Max_prod_2013 Most_frequent_product\n",
       "Element                                                    \n",
       "Feed            112227         193043                  Milk\n",
       "Food             74071         489299                  Milk"
      ]
     },
     "execution_count": 61,
     "metadata": {},
     "output_type": "execute_result"
    }
   ],
   "source": [
    "aggregations = {\n",
    "    'Max_prod_1961':pd.NamedAgg('1961', 'max'),\n",
    "    'Max_prod_2013':pd.NamedAgg('2013', 'max'),\n",
    "    'Most_frequent_product':pd.NamedAgg('Item', lambda n:n.mode()),\n",
    "    }\n",
    "\n",
    "max_prod = df_prod.groupby('Element').agg(**aggregations)\n",
    "\n",
    "\n",
    "max_prod"
   ]
  },
  {
   "cell_type": "code",
   "execution_count": 308,
   "id": "36d02ace",
   "metadata": {},
   "outputs": [],
   "source": [
    "# [ ] Spiega la tabella e prepara la prossima cella di codice"
   ]
  },
  {
   "cell_type": "code",
   "execution_count": 62,
   "id": "61e99621",
   "metadata": {},
   "outputs": [],
   "source": [
    "# [ ] Trova un modo migliore per ricavare i numeri degli indici\n",
    "indexes = df_prod.groupby(['Element', 'Item'])[['2013']].idxmax()\n",
    "\n",
    "# arr_1961 = indexes['1961'].values.tolist()\n",
    "arr_2013 = indexes['2013'].values.tolist()\n",
    "# indx_1961 = [rows['1961'] for idx, rows in indexes.iterrows()]\n",
    "\n",
    "# indx_2013 = [rows['2013'] for idx, rows in indexes.iterrows()]\n",
    "\n",
    "# for idx, rows in indexes.iterrows():\n",
    "#     print(rows['1961'])\n",
    "#     print(rows['2013'])\n",
    "\n",
    "# total_idx = indx_1961.extend(indx_2013)\n",
    "\n",
    "arr_2013 = indexes['2013']"
   ]
  },
  {
   "cell_type": "code",
   "execution_count": 63,
   "id": "3a631d02",
   "metadata": {},
   "outputs": [
    {
     "data": {
      "text/html": [
       "<div>\n",
       "<style scoped>\n",
       "    .dataframe tbody tr th:only-of-type {\n",
       "        vertical-align: middle;\n",
       "    }\n",
       "\n",
       "    .dataframe tbody tr th {\n",
       "        vertical-align: top;\n",
       "    }\n",
       "\n",
       "    .dataframe thead th {\n",
       "        text-align: right;\n",
       "    }\n",
       "</style>\n",
       "<table border=\"1\" class=\"dataframe\">\n",
       "  <thead>\n",
       "    <tr style=\"text-align: right;\">\n",
       "      <th></th>\n",
       "      <th>Area</th>\n",
       "      <th>Item</th>\n",
       "      <th>Element</th>\n",
       "      <th>1961</th>\n",
       "      <th>2013</th>\n",
       "      <th>Production Increase (%)</th>\n",
       "    </tr>\n",
       "  </thead>\n",
       "  <tbody>\n",
       "    <tr>\n",
       "      <th>2931</th>\n",
       "      <td>China, mainland</td>\n",
       "      <td>Vegetables</td>\n",
       "      <td>Food</td>\n",
       "      <td>52968</td>\n",
       "      <td>489299</td>\n",
       "      <td>823.76</td>\n",
       "    </tr>\n",
       "    <tr>\n",
       "      <th>2870</th>\n",
       "      <td>China, mainland</td>\n",
       "      <td>Vegetables, Other</td>\n",
       "      <td>Food</td>\n",
       "      <td>44728</td>\n",
       "      <td>426850</td>\n",
       "      <td>854.32</td>\n",
       "    </tr>\n",
       "    <tr>\n",
       "      <th>2919</th>\n",
       "      <td>China, mainland</td>\n",
       "      <td>Cereals - Excluding Beer</td>\n",
       "      <td>Food</td>\n",
       "      <td>59256</td>\n",
       "      <td>209038</td>\n",
       "      <td>252.77</td>\n",
       "    </tr>\n",
       "    <tr>\n",
       "      <th>2918</th>\n",
       "      <td>China, mainland</td>\n",
       "      <td>Cereals - Excluding Beer</td>\n",
       "      <td>Feed</td>\n",
       "      <td>17963</td>\n",
       "      <td>193043</td>\n",
       "      <td>974.67</td>\n",
       "    </tr>\n",
       "    <tr>\n",
       "      <th>2810</th>\n",
       "      <td>China, mainland</td>\n",
       "      <td>Maize and products</td>\n",
       "      <td>Feed</td>\n",
       "      <td>13700</td>\n",
       "      <td>150000</td>\n",
       "      <td>994.89</td>\n",
       "    </tr>\n",
       "    <tr>\n",
       "      <th>2932</th>\n",
       "      <td>China, mainland</td>\n",
       "      <td>Fruits - Excluding Wine</td>\n",
       "      <td>Food</td>\n",
       "      <td>2551</td>\n",
       "      <td>130129</td>\n",
       "      <td>5001.10</td>\n",
       "    </tr>\n",
       "    <tr>\n",
       "      <th>2807</th>\n",
       "      <td>China, mainland</td>\n",
       "      <td>Rice</td>\n",
       "      <td>Food</td>\n",
       "      <td>26687</td>\n",
       "      <td>108321</td>\n",
       "      <td>305.89</td>\n",
       "    </tr>\n",
       "    <tr>\n",
       "      <th>6470</th>\n",
       "      <td>India</td>\n",
       "      <td>Milk</td>\n",
       "      <td>Food</td>\n",
       "      <td>17487</td>\n",
       "      <td>105807</td>\n",
       "      <td>505.06</td>\n",
       "    </tr>\n",
       "    <tr>\n",
       "      <th>2921</th>\n",
       "      <td>China, mainland</td>\n",
       "      <td>Starchy Roots</td>\n",
       "      <td>Food</td>\n",
       "      <td>74071</td>\n",
       "      <td>95208</td>\n",
       "      <td>28.54</td>\n",
       "    </tr>\n",
       "    <tr>\n",
       "      <th>2805</th>\n",
       "      <td>China, mainland</td>\n",
       "      <td>Wheat and products</td>\n",
       "      <td>Food</td>\n",
       "      <td>13615</td>\n",
       "      <td>87783</td>\n",
       "      <td>544.75</td>\n",
       "    </tr>\n",
       "  </tbody>\n",
       "</table>\n",
       "</div>"
      ],
      "text/plain": [
       "                 Area                      Item Element   1961    2013  \\\n",
       "2931  China, mainland                Vegetables    Food  52968  489299   \n",
       "2870  China, mainland         Vegetables, Other    Food  44728  426850   \n",
       "2919  China, mainland  Cereals - Excluding Beer    Food  59256  209038   \n",
       "2918  China, mainland  Cereals - Excluding Beer    Feed  17963  193043   \n",
       "2810  China, mainland        Maize and products    Feed  13700  150000   \n",
       "2932  China, mainland   Fruits - Excluding Wine    Food   2551  130129   \n",
       "2807  China, mainland                      Rice    Food  26687  108321   \n",
       "6470            India                      Milk    Food  17487  105807   \n",
       "2921  China, mainland             Starchy Roots    Food  74071   95208   \n",
       "2805  China, mainland        Wheat and products    Food  13615   87783   \n",
       "\n",
       "      Production Increase (%)  \n",
       "2931                   823.76  \n",
       "2870                   854.32  \n",
       "2919                   252.77  \n",
       "2918                   974.67  \n",
       "2810                   994.89  \n",
       "2932                  5001.10  \n",
       "2807                   305.89  \n",
       "6470                   505.06  \n",
       "2921                    28.54  \n",
       "2805                   544.75  "
      ]
     },
     "execution_count": 63,
     "metadata": {},
     "output_type": "execute_result"
    }
   ],
   "source": [
    "# [ ] Unisci a quella di prima e fai tutto in un passaggio\n",
    "top_extremes = df_prod.loc[arr_2013, ['Area', 'Item', 'Element', '1961', '2013']]\n",
    "\n",
    "numeric_increase = top_extremes['2013'] - top_extremes['1961']\n",
    "perc_increase = round(numeric_increase/top_extremes['1961']*100, 2)\n",
    "\n",
    "top_extremes['Production Increase (%)'] = perc_increase\n",
    "\n",
    "top_extremes = top_extremes.drop(top_extremes[top_extremes['1961'] == 0].index)\n",
    "\n",
    "top_extremes.sort_values(by='2013', ascending=False).head(10)"
   ]
  },
  {
   "cell_type": "code",
   "execution_count": 311,
   "id": "3a631d02",
   "metadata": {},
   "outputs": [
    {
     "data": {
      "text/html": [
       "<div>\n",
       "<style scoped>\n",
       "    .dataframe tbody tr th:only-of-type {\n",
       "        vertical-align: middle;\n",
       "    }\n",
       "\n",
       "    .dataframe tbody tr th {\n",
       "        vertical-align: top;\n",
       "    }\n",
       "\n",
       "    .dataframe thead th {\n",
       "        text-align: right;\n",
       "    }\n",
       "</style>\n",
       "<table border=\"1\" class=\"dataframe\">\n",
       "  <thead>\n",
       "    <tr style=\"text-align: right;\">\n",
       "      <th></th>\n",
       "      <th>index</th>\n",
       "      <th>Area</th>\n",
       "      <th>Item</th>\n",
       "      <th>Element</th>\n",
       "      <th>1961</th>\n",
       "      <th>2013</th>\n",
       "      <th>Ratio_1961_2013</th>\n",
       "    </tr>\n",
       "  </thead>\n",
       "  <tbody>\n",
       "    <tr>\n",
       "      <th>0</th>\n",
       "      <td>3272</td>\n",
       "      <td>China</td>\n",
       "      <td>Potatoes and products</td>\n",
       "      <td>Feed</td>\n",
       "      <td>1960</td>\n",
       "      <td>22165</td>\n",
       "      <td>11.31</td>\n",
       "    </tr>\n",
       "    <tr>\n",
       "      <th>1</th>\n",
       "      <td>3224</td>\n",
       "      <td>China</td>\n",
       "      <td>Sunflower seed</td>\n",
       "      <td>Feed</td>\n",
       "      <td>0</td>\n",
       "      <td>1240</td>\n",
       "      <td>inf</td>\n",
       "    </tr>\n",
       "    <tr>\n",
       "      <th>2</th>\n",
       "      <td>3265</td>\n",
       "      <td>China</td>\n",
       "      <td>Barley and products</td>\n",
       "      <td>Food</td>\n",
       "      <td>3902</td>\n",
       "      <td>208</td>\n",
       "      <td>0.05</td>\n",
       "    </tr>\n",
       "    <tr>\n",
       "      <th>3</th>\n",
       "      <td>16631</td>\n",
       "      <td>United Arab Emirates</td>\n",
       "      <td>Oilcrops</td>\n",
       "      <td>Food</td>\n",
       "      <td>0</td>\n",
       "      <td>105</td>\n",
       "      <td>inf</td>\n",
       "    </tr>\n",
       "  </tbody>\n",
       "</table>\n",
       "</div>"
      ],
      "text/plain": [
       "   index                  Area                   Item Element  1961   2013  \\\n",
       "0   3272                 China  Potatoes and products    Feed  1960  22165   \n",
       "1   3224                 China         Sunflower seed    Feed     0   1240   \n",
       "2   3265                 China    Barley and products    Food  3902    208   \n",
       "3  16631  United Arab Emirates               Oilcrops    Food     0    105   \n",
       "\n",
       "   Ratio_1961_2013  \n",
       "0            11.31  \n",
       "1              inf  \n",
       "2             0.05  \n",
       "3              inf  "
      ]
     },
     "execution_count": 311,
     "metadata": {},
     "output_type": "execute_result"
    }
   ],
   "source": [
    "# [ ] Unisci a quella di prima e fai tutto in un passaggio\n",
    "top_extremes = df_prod.loc[\n",
    "\n",
    "        [16631, 3224, 3265, 3272], \n",
    "        ['Area', 'Item', 'Element', '1961', '2013']\n",
    "\n",
    "        ].sort_values(by='2013', ascending=False).reset_index()\n",
    "\n",
    "top_extremes['Ratio_1961_2013'] = round(top_extremes['2013']/top_extremes['1961'], 2)\n",
    "top_extremes"
   ]
  },
  {
   "cell_type": "code",
   "execution_count": 312,
   "id": "b9516018",
   "metadata": {},
   "outputs": [],
   "source": [
    "# [ ] Spiega la tabella ottenuta qui sopra e prepara la prossima mossa"
   ]
  },
  {
   "cell_type": "code",
   "execution_count": 313,
   "id": "fda17129",
   "metadata": {},
   "outputs": [
    {
     "data": {
      "text/html": [
       "<div>\n",
       "<style scoped>\n",
       "    .dataframe tbody tr th:only-of-type {\n",
       "        vertical-align: middle;\n",
       "    }\n",
       "\n",
       "    .dataframe tbody tr th {\n",
       "        vertical-align: top;\n",
       "    }\n",
       "\n",
       "    .dataframe thead th {\n",
       "        text-align: right;\n",
       "    }\n",
       "</style>\n",
       "<table border=\"1\" class=\"dataframe\">\n",
       "  <thead>\n",
       "    <tr style=\"text-align: right;\">\n",
       "      <th></th>\n",
       "      <th></th>\n",
       "      <th>Top produzione 2013 (1000 tonnellate)</th>\n",
       "    </tr>\n",
       "    <tr>\n",
       "      <th>Area</th>\n",
       "      <th>Element</th>\n",
       "      <th></th>\n",
       "    </tr>\n",
       "  </thead>\n",
       "  <tbody>\n",
       "    <tr>\n",
       "      <th rowspan=\"2\" valign=\"top\">China</th>\n",
       "      <th>Food</th>\n",
       "      <td>489299</td>\n",
       "    </tr>\n",
       "    <tr>\n",
       "      <th>Feed</th>\n",
       "      <td>193043</td>\n",
       "    </tr>\n",
       "    <tr>\n",
       "      <th>India</th>\n",
       "      <th>Food</th>\n",
       "      <td>185884</td>\n",
       "    </tr>\n",
       "    <tr>\n",
       "      <th rowspan=\"2\" valign=\"top\">United States of America</th>\n",
       "      <th>Feed</th>\n",
       "      <td>140096</td>\n",
       "    </tr>\n",
       "    <tr>\n",
       "      <th>Food</th>\n",
       "      <td>81513</td>\n",
       "    </tr>\n",
       "  </tbody>\n",
       "</table>\n",
       "</div>"
      ],
      "text/plain": [
       "                                  Top produzione 2013 (1000 tonnellate)\n",
       "Area                     Element                                       \n",
       "China                    Food                                    489299\n",
       "                         Feed                                    193043\n",
       "India                    Food                                    185884\n",
       "United States of America Feed                                    140096\n",
       "                         Food                                     81513"
      ]
     },
     "execution_count": 313,
     "metadata": {},
     "output_type": "execute_result"
    }
   ],
   "source": [
    "# [ ] Questa è sia da sistamre che da aggiustare\n",
    "\n",
    "# Top 3 produttori nel 2013\n",
    "aggregations = {'Top produzione 2013 (1000 tonnellate)':pd.NamedAgg('2013', max)}\n",
    "\n",
    "df_prod.groupby(['Area', 'Element']).agg(**aggregations).sort_values(by='Top produzione 2013 (1000 tonnellate)',\n",
    "                                                                     ascending=False).head()"
   ]
  },
  {
   "cell_type": "code",
   "execution_count": 314,
   "id": "c731a585",
   "metadata": {},
   "outputs": [],
   "source": [
    "# [ ] Prepara la prossima mossa per la data vis o passare oltre e graficare dopo? In ogni caso va sfruttato plotly"
   ]
  },
  {
   "cell_type": "code",
   "execution_count": null,
   "id": "063a3270",
   "metadata": {},
   "outputs": [],
   "source": []
  },
  {
   "cell_type": "code",
   "execution_count": null,
   "id": "d2af0c0b",
   "metadata": {},
   "outputs": [],
   "source": []
  },
  {
   "cell_type": "code",
   "execution_count": null,
   "id": "59eb00b4",
   "metadata": {},
   "outputs": [],
   "source": []
  },
  {
   "cell_type": "code",
   "execution_count": null,
   "id": "d37e6712",
   "metadata": {},
   "outputs": [],
   "source": []
  },
  {
   "cell_type": "code",
   "execution_count": 315,
   "id": "c975c51c",
   "metadata": {},
   "outputs": [
    {
     "data": {
      "application/vnd.plotly.v1+json": {
       "config": {
        "plotlyServerURL": "https://plot.ly"
       },
       "data": [
        {
         "customdata": [
          [
           28.801,
           8425333,
           1952
          ],
          [
           30.332,
           9240934,
           1957
          ],
          [
           31.997,
           10267083,
           1962
          ],
          [
           34.02,
           11537966,
           1967
          ],
          [
           36.088,
           13079460,
           1972
          ],
          [
           38.438,
           14880372,
           1977
          ],
          [
           39.854,
           12881816,
           1982
          ],
          [
           40.822,
           13867957,
           1987
          ],
          [
           41.674,
           16317921,
           1992
          ],
          [
           41.76300000000001,
           22227415,
           1997
          ],
          [
           42.129,
           25268405,
           2002
          ],
          [
           43.828,
           31889923,
           2007
          ],
          [
           50.93899999999999,
           120447,
           1952
          ],
          [
           53.832,
           138655,
           1957
          ],
          [
           56.923,
           171863,
           1962
          ],
          [
           59.923,
           202182,
           1967
          ],
          [
           63.3,
           230800,
           1972
          ],
          [
           65.593,
           297410,
           1977
          ],
          [
           69.05199999999999,
           377967,
           1982
          ],
          [
           70.75,
           454612,
           1987
          ],
          [
           72.601,
           529491,
           1992
          ],
          [
           73.925,
           598561,
           1997
          ],
          [
           74.795,
           656397,
           2002
          ],
          [
           75.635,
           708573,
           2007
          ],
          [
           37.484,
           46886859,
           1952
          ],
          [
           39.348,
           51365468,
           1957
          ],
          [
           41.216,
           56839289,
           1962
          ],
          [
           43.453,
           62821884,
           1967
          ],
          [
           45.252,
           70759295,
           1972
          ],
          [
           46.923,
           80428306,
           1977
          ],
          [
           50.00899999999999,
           93074406,
           1982
          ],
          [
           52.819,
           103764241,
           1987
          ],
          [
           56.018,
           113704579,
           1992
          ],
          [
           59.412,
           123315288,
           1997
          ],
          [
           62.01300000000001,
           135656790,
           2002
          ],
          [
           64.062,
           150448339,
           2007
          ],
          [
           39.417,
           4693836,
           1952
          ],
          [
           41.36600000000001,
           5322536,
           1957
          ],
          [
           43.415,
           6083619,
           1962
          ],
          [
           45.415,
           6960067,
           1967
          ],
          [
           40.317,
           7450606,
           1972
          ],
          [
           31.22,
           6978607,
           1977
          ],
          [
           50.957,
           7272485,
           1982
          ],
          [
           53.914,
           8371791,
           1987
          ],
          [
           55.803,
           10150094,
           1992
          ],
          [
           56.534,
           11782962,
           1997
          ],
          [
           56.752,
           12926707,
           2002
          ],
          [
           59.723,
           14131858,
           2007
          ],
          [
           44,
           556263527,
           1952
          ],
          [
           50.54896,
           637408000,
           1957
          ],
          [
           44.50136,
           665770000,
           1962
          ],
          [
           58.38112,
           754550000,
           1967
          ],
          [
           63.11888,
           862030000,
           1972
          ],
          [
           63.96736,
           943455000,
           1977
          ],
          [
           65.525,
           1000281000,
           1982
          ],
          [
           67.274,
           1084035000,
           1987
          ],
          [
           68.69,
           1164970000,
           1992
          ],
          [
           70.426,
           1230075000,
           1997
          ],
          [
           72.028,
           1280400000,
           2002
          ],
          [
           72.961,
           1318683096,
           2007
          ],
          [
           60.96,
           2125900,
           1952
          ],
          [
           64.75,
           2736300,
           1957
          ],
          [
           67.65,
           3305200,
           1962
          ],
          [
           70,
           3722800,
           1967
          ],
          [
           72,
           4115700,
           1972
          ],
          [
           73.6,
           4583700,
           1977
          ],
          [
           75.45,
           5264500,
           1982
          ],
          [
           76.2,
           5584510,
           1987
          ],
          [
           77.601,
           5829696,
           1992
          ],
          [
           80,
           6495918,
           1997
          ],
          [
           81.495,
           6762476,
           2002
          ],
          [
           82.208,
           6980412,
           2007
          ],
          [
           37.37300000000001,
           372000000,
           1952
          ],
          [
           40.249,
           409000000,
           1957
          ],
          [
           43.605,
           454000000,
           1962
          ],
          [
           47.19300000000001,
           506000000,
           1967
          ],
          [
           50.651,
           567000000,
           1972
          ],
          [
           54.208,
           634000000,
           1977
          ],
          [
           56.596,
           708000000,
           1982
          ],
          [
           58.553,
           788000000,
           1987
          ],
          [
           60.223,
           872000000,
           1992
          ],
          [
           61.765,
           959000000,
           1997
          ],
          [
           62.879,
           1034172547,
           2002
          ],
          [
           64.69800000000001,
           1110396331,
           2007
          ],
          [
           37.468,
           82052000,
           1952
          ],
          [
           39.918,
           90124000,
           1957
          ],
          [
           42.518,
           99028000,
           1962
          ],
          [
           45.964,
           109343000,
           1967
          ],
          [
           49.203,
           121282000,
           1972
          ],
          [
           52.702,
           136725000,
           1977
          ],
          [
           56.159,
           153343000,
           1982
          ],
          [
           60.137,
           169276000,
           1987
          ],
          [
           62.681,
           184816000,
           1992
          ],
          [
           66.041,
           199278000,
           1997
          ],
          [
           68.58800000000001,
           211060000,
           2002
          ],
          [
           70.65,
           223547000,
           2007
          ],
          [
           44.869,
           17272000,
           1952
          ],
          [
           47.181,
           19792000,
           1957
          ],
          [
           49.325,
           22874000,
           1962
          ],
          [
           52.469,
           26538000,
           1967
          ],
          [
           55.234,
           30614000,
           1972
          ],
          [
           57.702,
           35480679,
           1977
          ],
          [
           59.62,
           43072751,
           1982
          ],
          [
           63.04,
           51889696,
           1987
          ],
          [
           65.742,
           60397973,
           1992
          ],
          [
           68.042,
           63327987,
           1997
          ],
          [
           69.45100000000001,
           66907826,
           2002
          ],
          [
           70.964,
           69453570,
           2007
          ],
          [
           45.32,
           5441766,
           1952
          ],
          [
           48.437,
           6248643,
           1957
          ],
          [
           51.457,
           7240260,
           1962
          ],
          [
           54.459,
           8519282,
           1967
          ],
          [
           56.95,
           10061506,
           1972
          ],
          [
           60.413,
           11882916,
           1977
          ],
          [
           62.038,
           14173318,
           1982
          ],
          [
           65.044,
           16543189,
           1987
          ],
          [
           59.46100000000001,
           17861905,
           1992
          ],
          [
           58.81100000000001,
           20775703,
           1997
          ],
          [
           57.04600000000001,
           24001816,
           2002
          ],
          [
           59.545,
           27499638,
           2007
          ],
          [
           65.39,
           1620914,
           1952
          ],
          [
           67.84,
           1944401,
           1957
          ],
          [
           69.39,
           2310904,
           1962
          ],
          [
           70.75,
           2693585,
           1967
          ],
          [
           71.63,
           3095893,
           1972
          ],
          [
           73.06,
           3495918,
           1977
          ],
          [
           74.45,
           3858421,
           1982
          ],
          [
           75.6,
           4203148,
           1987
          ],
          [
           76.93,
           4936550,
           1992
          ],
          [
           78.26899999999998,
           5531387,
           1997
          ],
          [
           79.696,
           6029529,
           2002
          ],
          [
           80.745,
           6426679,
           2007
          ],
          [
           63.03,
           86459025,
           1952
          ],
          [
           65.5,
           91563009,
           1957
          ],
          [
           68.73,
           95831757,
           1962
          ],
          [
           71.43,
           100825279,
           1967
          ],
          [
           73.42,
           107188273,
           1972
          ],
          [
           75.38,
           113872473,
           1977
          ],
          [
           77.11,
           118454974,
           1982
          ],
          [
           78.67,
           122091325,
           1987
          ],
          [
           79.36,
           124329269,
           1992
          ],
          [
           80.69,
           125956499,
           1997
          ],
          [
           82,
           127065841,
           2002
          ],
          [
           82.603,
           127467972,
           2007
          ],
          [
           43.158,
           607914,
           1952
          ],
          [
           45.669,
           746559,
           1957
          ],
          [
           48.12600000000001,
           933559,
           1962
          ],
          [
           51.629,
           1255058,
           1967
          ],
          [
           56.528,
           1613551,
           1972
          ],
          [
           61.13399999999999,
           1937652,
           1977
          ],
          [
           63.739,
           2347031,
           1982
          ],
          [
           65.869,
           2820042,
           1987
          ],
          [
           68.015,
           3867409,
           1992
          ],
          [
           69.77199999999999,
           4526235,
           1997
          ],
          [
           71.263,
           5307470,
           2002
          ],
          [
           72.535,
           6053193,
           2007
          ],
          [
           50.056,
           8865488,
           1952
          ],
          [
           54.081,
           9411381,
           1957
          ],
          [
           56.65600000000001,
           10917494,
           1962
          ],
          [
           59.942,
           12617009,
           1967
          ],
          [
           63.983,
           14781241,
           1972
          ],
          [
           67.15899999999999,
           16325320,
           1977
          ],
          [
           69.1,
           17647518,
           1982
          ],
          [
           70.64699999999998,
           19067554,
           1987
          ],
          [
           69.97800000000001,
           20711375,
           1992
          ],
          [
           67.727,
           21585105,
           1997
          ],
          [
           66.66199999999999,
           22215365,
           2002
          ],
          [
           67.297,
           23301725,
           2007
          ],
          [
           47.453,
           20947571,
           1952
          ],
          [
           52.681,
           22611552,
           1957
          ],
          [
           55.292,
           26420307,
           1962
          ],
          [
           57.716,
           30131000,
           1967
          ],
          [
           62.612,
           33505000,
           1972
          ],
          [
           64.766,
           36436000,
           1977
          ],
          [
           67.123,
           39326000,
           1982
          ],
          [
           69.81,
           41622000,
           1987
          ],
          [
           72.244,
           43805450,
           1992
          ],
          [
           74.64699999999998,
           46173816,
           1997
          ],
          [
           77.045,
           47969150,
           2002
          ],
          [
           78.623,
           49044790,
           2007
          ],
          [
           55.565,
           160000,
           1952
          ],
          [
           58.033,
           212846,
           1957
          ],
          [
           60.47,
           358266,
           1962
          ],
          [
           64.624,
           575003,
           1967
          ],
          [
           67.712,
           841934,
           1972
          ],
          [
           69.343,
           1140357,
           1977
          ],
          [
           71.309,
           1497494,
           1982
          ],
          [
           74.17399999999998,
           1891487,
           1987
          ],
          [
           75.19,
           1418095,
           1992
          ],
          [
           76.156,
           1765345,
           1997
          ],
          [
           76.904,
           2111561,
           2002
          ],
          [
           77.58800000000002,
           2505559,
           2007
          ],
          [
           55.928,
           1439529,
           1952
          ],
          [
           59.489,
           1647412,
           1957
          ],
          [
           62.094,
           1886848,
           1962
          ],
          [
           63.87,
           2186894,
           1967
          ],
          [
           65.421,
           2680018,
           1972
          ],
          [
           66.09899999999999,
           3115787,
           1977
          ],
          [
           66.983,
           3086876,
           1982
          ],
          [
           67.926,
           3089353,
           1987
          ],
          [
           69.292,
           3219994,
           1992
          ],
          [
           70.265,
           3430388,
           1997
          ],
          [
           71.028,
           3677780,
           2002
          ],
          [
           71.993,
           3921278,
           2007
          ],
          [
           48.463,
           6748378,
           1952
          ],
          [
           52.102,
           7739235,
           1957
          ],
          [
           55.737,
           8906385,
           1962
          ],
          [
           59.371,
           10154878,
           1967
          ],
          [
           63.01,
           11441462,
           1972
          ],
          [
           65.256,
           12845381,
           1977
          ],
          [
           68,
           14441916,
           1982
          ],
          [
           69.5,
           16331785,
           1987
          ],
          [
           70.693,
           18319502,
           1992
          ],
          [
           71.938,
           20476091,
           1997
          ],
          [
           73.044,
           22662365,
           2002
          ],
          [
           74.241,
           24821286,
           2007
          ],
          [
           42.244,
           800663,
           1952
          ],
          [
           45.24800000000001,
           882134,
           1957
          ],
          [
           48.25100000000001,
           1010280,
           1962
          ],
          [
           51.253,
           1149500,
           1967
          ],
          [
           53.754,
           1320500,
           1972
          ],
          [
           55.49100000000001,
           1528000,
           1977
          ],
          [
           57.489,
           1756032,
           1982
          ],
          [
           60.222,
           2015133,
           1987
          ],
          [
           61.271,
           2312802,
           1992
          ],
          [
           63.625,
           2494803,
           1997
          ],
          [
           65.033,
           2674234,
           2002
          ],
          [
           66.803,
           2874127,
           2007
          ],
          [
           36.319,
           20092996,
           1952
          ],
          [
           41.905,
           21731844,
           1957
          ],
          [
           45.108,
           23634436,
           1962
          ],
          [
           49.379,
           25870271,
           1967
          ],
          [
           53.07,
           28466390,
           1972
          ],
          [
           56.059,
           31528087,
           1977
          ],
          [
           58.056,
           34680442,
           1982
          ],
          [
           58.339,
           38028578,
           1987
          ],
          [
           59.32,
           40546538,
           1992
          ],
          [
           60.328,
           43247867,
           1997
          ],
          [
           59.908,
           45598081,
           2002
          ],
          [
           62.069,
           47761980,
           2007
          ],
          [
           36.157,
           9182536,
           1952
          ],
          [
           37.686,
           9682338,
           1957
          ],
          [
           39.393,
           10332057,
           1962
          ],
          [
           41.472,
           11261690,
           1967
          ],
          [
           43.971,
           12412593,
           1972
          ],
          [
           46.74800000000001,
           13933198,
           1977
          ],
          [
           49.594,
           15796314,
           1982
          ],
          [
           52.537,
           17917180,
           1987
          ],
          [
           55.727,
           20326209,
           1992
          ],
          [
           59.426,
           23001113,
           1997
          ],
          [
           61.34,
           25873917,
           2002
          ],
          [
           63.785,
           28901790,
           2007
          ],
          [
           37.578,
           507833,
           1952
          ],
          [
           40.08,
           561977,
           1957
          ],
          [
           43.165,
           628164,
           1962
          ],
          [
           46.988,
           714775,
           1967
          ],
          [
           52.143,
           829050,
           1972
          ],
          [
           57.367,
           1004533,
           1977
          ],
          [
           62.728,
           1301048,
           1982
          ],
          [
           67.734,
           1593882,
           1987
          ],
          [
           71.197,
           1915208,
           1992
          ],
          [
           72.499,
           2283635,
           1997
          ],
          [
           74.193,
           2713462,
           2002
          ],
          [
           75.64,
           3204897,
           2007
          ],
          [
           43.43600000000001,
           41346560,
           1952
          ],
          [
           45.557,
           46679944,
           1957
          ],
          [
           47.67,
           53100671,
           1962
          ],
          [
           49.8,
           60641899,
           1967
          ],
          [
           51.929,
           69325921,
           1972
          ],
          [
           54.043,
           78152686,
           1977
          ],
          [
           56.158,
           91462088,
           1982
          ],
          [
           58.245,
           105186881,
           1987
          ],
          [
           60.838,
           120065004,
           1992
          ],
          [
           61.81800000000001,
           135564834,
           1997
          ],
          [
           63.61,
           153403524,
           2002
          ],
          [
           65.483,
           169270617,
           2007
          ],
          [
           47.752,
           22438691,
           1952
          ],
          [
           51.334,
           26072194,
           1957
          ],
          [
           54.757,
           30325264,
           1962
          ],
          [
           56.393,
           35356600,
           1967
          ],
          [
           58.065,
           40850141,
           1972
          ],
          [
           60.06,
           46850962,
           1977
          ],
          [
           62.082,
           53456774,
           1982
          ],
          [
           64.15100000000001,
           60017788,
           1987
          ],
          [
           66.458,
           67185766,
           1992
          ],
          [
           68.564,
           75012988,
           1997
          ],
          [
           70.303,
           82995088,
           2002
          ],
          [
           71.688,
           91077287,
           2007
          ],
          [
           39.875,
           4005677,
           1952
          ],
          [
           42.868,
           4419650,
           1957
          ],
          [
           45.914,
           4943029,
           1962
          ],
          [
           49.901,
           5618198,
           1967
          ],
          [
           53.886,
           6472756,
           1972
          ],
          [
           58.69,
           8128505,
           1977
          ],
          [
           63.012,
           11254672,
           1982
          ],
          [
           66.295,
           14619745,
           1987
          ],
          [
           68.768,
           16945857,
           1992
          ],
          [
           70.533,
           21229759,
           1997
          ],
          [
           71.626,
           24501530,
           2002
          ],
          [
           72.777,
           27601038,
           2007
          ],
          [
           60.396,
           1127000,
           1952
          ],
          [
           63.179,
           1445929,
           1957
          ],
          [
           65.798,
           1750200,
           1962
          ],
          [
           67.946,
           1977600,
           1967
          ],
          [
           69.521,
           2152400,
           1972
          ],
          [
           70.795,
           2325300,
           1977
          ],
          [
           71.76,
           2651869,
           1982
          ],
          [
           73.56,
           2794552,
           1987
          ],
          [
           75.788,
           3235865,
           1992
          ],
          [
           77.158,
           3802309,
           1997
          ],
          [
           78.77,
           4197776,
           2002
          ],
          [
           79.972,
           4553009,
           2007
          ],
          [
           57.593,
           7982342,
           1952
          ],
          [
           61.456,
           9128546,
           1957
          ],
          [
           62.192,
           10421936,
           1962
          ],
          [
           64.266,
           11737396,
           1967
          ],
          [
           65.042,
           13016733,
           1972
          ],
          [
           65.949,
           14116836,
           1977
          ],
          [
           68.757,
           15410151,
           1982
          ],
          [
           69.01100000000001,
           16495304,
           1987
          ],
          [
           70.37899999999998,
           17587060,
           1992
          ],
          [
           70.457,
           18698655,
           1997
          ],
          [
           70.815,
           19576783,
           2002
          ],
          [
           72.396,
           20378239,
           2007
          ],
          [
           45.883,
           3661549,
           1952
          ],
          [
           48.284,
           4149908,
           1957
          ],
          [
           50.305,
           4834621,
           1962
          ],
          [
           53.655,
           5680812,
           1967
          ],
          [
           57.29600000000001,
           6701172,
           1972
          ],
          [
           61.195,
           7932503,
           1977
          ],
          [
           64.59,
           9410494,
           1982
          ],
          [
           66.97399999999999,
           11242847,
           1987
          ],
          [
           69.249,
           13219062,
           1992
          ],
          [
           71.527,
           15081016,
           1997
          ],
          [
           73.053,
           17155814,
           2002
          ],
          [
           74.143,
           19314747,
           2007
          ],
          [
           58.5,
           8550362,
           1952
          ],
          [
           62.4,
           10164215,
           1957
          ],
          [
           65.2,
           11918938,
           1962
          ],
          [
           67.5,
           13648692,
           1967
          ],
          [
           69.39,
           15226039,
           1972
          ],
          [
           70.59,
           16785196,
           1977
          ],
          [
           72.16,
           18501390,
           1982
          ],
          [
           73.4,
           19757799,
           1987
          ],
          [
           74.26,
           20686918,
           1992
          ],
          [
           75.25,
           21628605,
           1997
          ],
          [
           76.99,
           22454239,
           2002
          ],
          [
           78.4,
           23174294,
           2007
          ],
          [
           50.848,
           21289402,
           1952
          ],
          [
           53.63,
           25041917,
           1957
          ],
          [
           56.06100000000001,
           29263397,
           1962
          ],
          [
           58.285,
           34024249,
           1967
          ],
          [
           60.405,
           39276153,
           1972
          ],
          [
           62.494,
           44148285,
           1977
          ],
          [
           64.597,
           48827160,
           1982
          ],
          [
           66.084,
           52910342,
           1987
          ],
          [
           67.298,
           56667095,
           1992
          ],
          [
           67.521,
           60216677,
           1997
          ],
          [
           68.564,
           62806748,
           2002
          ],
          [
           70.616,
           65068149,
           2007
          ],
          [
           40.412,
           26246839,
           1952
          ],
          [
           42.887,
           28998543,
           1957
          ],
          [
           45.363,
           33796140,
           1962
          ],
          [
           47.838,
           39463910,
           1967
          ],
          [
           50.254,
           44655014,
           1972
          ],
          [
           55.764,
           50533506,
           1977
          ],
          [
           58.816,
           56142181,
           1982
          ],
          [
           62.82,
           62826491,
           1987
          ],
          [
           67.66199999999999,
           69940728,
           1992
          ],
          [
           70.672,
           76048996,
           1997
          ],
          [
           73.017,
           80908147,
           2002
          ],
          [
           74.249,
           85262356,
           2007
          ],
          [
           43.16,
           1030585,
           1952
          ],
          [
           45.67100000000001,
           1070439,
           1957
          ],
          [
           48.127,
           1133134,
           1962
          ],
          [
           51.631,
           1142636,
           1967
          ],
          [
           56.532,
           1089572,
           1972
          ],
          [
           60.765,
           1261091,
           1977
          ],
          [
           64.406,
           1425876,
           1982
          ],
          [
           67.046,
           1691210,
           1987
          ],
          [
           69.718,
           2104779,
           1992
          ],
          [
           71.096,
           2826046,
           1997
          ],
          [
           72.37,
           3389578,
           2002
          ],
          [
           73.422,
           4018332,
           2007
          ],
          [
           32.548,
           4963829,
           1952
          ],
          [
           33.97,
           5498090,
           1957
          ],
          [
           35.18,
           6120081,
           1962
          ],
          [
           36.984,
           6740785,
           1967
          ],
          [
           39.848,
           7407075,
           1972
          ],
          [
           44.175,
           8403990,
           1977
          ],
          [
           49.113,
           9657618,
           1982
          ],
          [
           52.922,
           11219340,
           1987
          ],
          [
           55.599,
           13367997,
           1992
          ],
          [
           58.02,
           15826497,
           1997
          ],
          [
           60.308,
           18701257,
           2002
          ],
          [
           62.698,
           22211743,
           2007
          ]
         ],
         "geo": "geo",
         "hovertemplate": "<b>%{hovertext}</b><br><br>continent=Asia<br>iso_alpha=%{location}<br>lifeExp=%{customdata[0]}<br>pop=%{customdata[1]}<br>year=%{customdata[2]}<extra></extra>",
         "hovertext": [
          "Afghanistan",
          "Afghanistan",
          "Afghanistan",
          "Afghanistan",
          "Afghanistan",
          "Afghanistan",
          "Afghanistan",
          "Afghanistan",
          "Afghanistan",
          "Afghanistan",
          "Afghanistan",
          "Afghanistan",
          "Bahrain",
          "Bahrain",
          "Bahrain",
          "Bahrain",
          "Bahrain",
          "Bahrain",
          "Bahrain",
          "Bahrain",
          "Bahrain",
          "Bahrain",
          "Bahrain",
          "Bahrain",
          "Bangladesh",
          "Bangladesh",
          "Bangladesh",
          "Bangladesh",
          "Bangladesh",
          "Bangladesh",
          "Bangladesh",
          "Bangladesh",
          "Bangladesh",
          "Bangladesh",
          "Bangladesh",
          "Bangladesh",
          "Cambodia",
          "Cambodia",
          "Cambodia",
          "Cambodia",
          "Cambodia",
          "Cambodia",
          "Cambodia",
          "Cambodia",
          "Cambodia",
          "Cambodia",
          "Cambodia",
          "Cambodia",
          "China",
          "China",
          "China",
          "China",
          "China",
          "China",
          "China",
          "China",
          "China",
          "China",
          "China",
          "China",
          "Hong Kong, China",
          "Hong Kong, China",
          "Hong Kong, China",
          "Hong Kong, China",
          "Hong Kong, China",
          "Hong Kong, China",
          "Hong Kong, China",
          "Hong Kong, China",
          "Hong Kong, China",
          "Hong Kong, China",
          "Hong Kong, China",
          "Hong Kong, China",
          "India",
          "India",
          "India",
          "India",
          "India",
          "India",
          "India",
          "India",
          "India",
          "India",
          "India",
          "India",
          "Indonesia",
          "Indonesia",
          "Indonesia",
          "Indonesia",
          "Indonesia",
          "Indonesia",
          "Indonesia",
          "Indonesia",
          "Indonesia",
          "Indonesia",
          "Indonesia",
          "Indonesia",
          "Iran",
          "Iran",
          "Iran",
          "Iran",
          "Iran",
          "Iran",
          "Iran",
          "Iran",
          "Iran",
          "Iran",
          "Iran",
          "Iran",
          "Iraq",
          "Iraq",
          "Iraq",
          "Iraq",
          "Iraq",
          "Iraq",
          "Iraq",
          "Iraq",
          "Iraq",
          "Iraq",
          "Iraq",
          "Iraq",
          "Israel",
          "Israel",
          "Israel",
          "Israel",
          "Israel",
          "Israel",
          "Israel",
          "Israel",
          "Israel",
          "Israel",
          "Israel",
          "Israel",
          "Japan",
          "Japan",
          "Japan",
          "Japan",
          "Japan",
          "Japan",
          "Japan",
          "Japan",
          "Japan",
          "Japan",
          "Japan",
          "Japan",
          "Jordan",
          "Jordan",
          "Jordan",
          "Jordan",
          "Jordan",
          "Jordan",
          "Jordan",
          "Jordan",
          "Jordan",
          "Jordan",
          "Jordan",
          "Jordan",
          "Korea, Dem. Rep.",
          "Korea, Dem. Rep.",
          "Korea, Dem. Rep.",
          "Korea, Dem. Rep.",
          "Korea, Dem. Rep.",
          "Korea, Dem. Rep.",
          "Korea, Dem. Rep.",
          "Korea, Dem. Rep.",
          "Korea, Dem. Rep.",
          "Korea, Dem. Rep.",
          "Korea, Dem. Rep.",
          "Korea, Dem. Rep.",
          "Korea, Rep.",
          "Korea, Rep.",
          "Korea, Rep.",
          "Korea, Rep.",
          "Korea, Rep.",
          "Korea, Rep.",
          "Korea, Rep.",
          "Korea, Rep.",
          "Korea, Rep.",
          "Korea, Rep.",
          "Korea, Rep.",
          "Korea, Rep.",
          "Kuwait",
          "Kuwait",
          "Kuwait",
          "Kuwait",
          "Kuwait",
          "Kuwait",
          "Kuwait",
          "Kuwait",
          "Kuwait",
          "Kuwait",
          "Kuwait",
          "Kuwait",
          "Lebanon",
          "Lebanon",
          "Lebanon",
          "Lebanon",
          "Lebanon",
          "Lebanon",
          "Lebanon",
          "Lebanon",
          "Lebanon",
          "Lebanon",
          "Lebanon",
          "Lebanon",
          "Malaysia",
          "Malaysia",
          "Malaysia",
          "Malaysia",
          "Malaysia",
          "Malaysia",
          "Malaysia",
          "Malaysia",
          "Malaysia",
          "Malaysia",
          "Malaysia",
          "Malaysia",
          "Mongolia",
          "Mongolia",
          "Mongolia",
          "Mongolia",
          "Mongolia",
          "Mongolia",
          "Mongolia",
          "Mongolia",
          "Mongolia",
          "Mongolia",
          "Mongolia",
          "Mongolia",
          "Myanmar",
          "Myanmar",
          "Myanmar",
          "Myanmar",
          "Myanmar",
          "Myanmar",
          "Myanmar",
          "Myanmar",
          "Myanmar",
          "Myanmar",
          "Myanmar",
          "Myanmar",
          "Nepal",
          "Nepal",
          "Nepal",
          "Nepal",
          "Nepal",
          "Nepal",
          "Nepal",
          "Nepal",
          "Nepal",
          "Nepal",
          "Nepal",
          "Nepal",
          "Oman",
          "Oman",
          "Oman",
          "Oman",
          "Oman",
          "Oman",
          "Oman",
          "Oman",
          "Oman",
          "Oman",
          "Oman",
          "Oman",
          "Pakistan",
          "Pakistan",
          "Pakistan",
          "Pakistan",
          "Pakistan",
          "Pakistan",
          "Pakistan",
          "Pakistan",
          "Pakistan",
          "Pakistan",
          "Pakistan",
          "Pakistan",
          "Philippines",
          "Philippines",
          "Philippines",
          "Philippines",
          "Philippines",
          "Philippines",
          "Philippines",
          "Philippines",
          "Philippines",
          "Philippines",
          "Philippines",
          "Philippines",
          "Saudi Arabia",
          "Saudi Arabia",
          "Saudi Arabia",
          "Saudi Arabia",
          "Saudi Arabia",
          "Saudi Arabia",
          "Saudi Arabia",
          "Saudi Arabia",
          "Saudi Arabia",
          "Saudi Arabia",
          "Saudi Arabia",
          "Saudi Arabia",
          "Singapore",
          "Singapore",
          "Singapore",
          "Singapore",
          "Singapore",
          "Singapore",
          "Singapore",
          "Singapore",
          "Singapore",
          "Singapore",
          "Singapore",
          "Singapore",
          "Sri Lanka",
          "Sri Lanka",
          "Sri Lanka",
          "Sri Lanka",
          "Sri Lanka",
          "Sri Lanka",
          "Sri Lanka",
          "Sri Lanka",
          "Sri Lanka",
          "Sri Lanka",
          "Sri Lanka",
          "Sri Lanka",
          "Syria",
          "Syria",
          "Syria",
          "Syria",
          "Syria",
          "Syria",
          "Syria",
          "Syria",
          "Syria",
          "Syria",
          "Syria",
          "Syria",
          "Taiwan",
          "Taiwan",
          "Taiwan",
          "Taiwan",
          "Taiwan",
          "Taiwan",
          "Taiwan",
          "Taiwan",
          "Taiwan",
          "Taiwan",
          "Taiwan",
          "Taiwan",
          "Thailand",
          "Thailand",
          "Thailand",
          "Thailand",
          "Thailand",
          "Thailand",
          "Thailand",
          "Thailand",
          "Thailand",
          "Thailand",
          "Thailand",
          "Thailand",
          "Vietnam",
          "Vietnam",
          "Vietnam",
          "Vietnam",
          "Vietnam",
          "Vietnam",
          "Vietnam",
          "Vietnam",
          "Vietnam",
          "Vietnam",
          "Vietnam",
          "Vietnam",
          "West Bank and Gaza",
          "West Bank and Gaza",
          "West Bank and Gaza",
          "West Bank and Gaza",
          "West Bank and Gaza",
          "West Bank and Gaza",
          "West Bank and Gaza",
          "West Bank and Gaza",
          "West Bank and Gaza",
          "West Bank and Gaza",
          "West Bank and Gaza",
          "West Bank and Gaza",
          "Yemen, Rep.",
          "Yemen, Rep.",
          "Yemen, Rep.",
          "Yemen, Rep.",
          "Yemen, Rep.",
          "Yemen, Rep.",
          "Yemen, Rep.",
          "Yemen, Rep.",
          "Yemen, Rep.",
          "Yemen, Rep.",
          "Yemen, Rep.",
          "Yemen, Rep."
         ],
         "legendgroup": "Asia",
         "locations": [
          "AFG",
          "AFG",
          "AFG",
          "AFG",
          "AFG",
          "AFG",
          "AFG",
          "AFG",
          "AFG",
          "AFG",
          "AFG",
          "AFG",
          "BHR",
          "BHR",
          "BHR",
          "BHR",
          "BHR",
          "BHR",
          "BHR",
          "BHR",
          "BHR",
          "BHR",
          "BHR",
          "BHR",
          "BGD",
          "BGD",
          "BGD",
          "BGD",
          "BGD",
          "BGD",
          "BGD",
          "BGD",
          "BGD",
          "BGD",
          "BGD",
          "BGD",
          "KHM",
          "KHM",
          "KHM",
          "KHM",
          "KHM",
          "KHM",
          "KHM",
          "KHM",
          "KHM",
          "KHM",
          "KHM",
          "KHM",
          "CHN",
          "CHN",
          "CHN",
          "CHN",
          "CHN",
          "CHN",
          "CHN",
          "CHN",
          "CHN",
          "CHN",
          "CHN",
          "CHN",
          "HKG",
          "HKG",
          "HKG",
          "HKG",
          "HKG",
          "HKG",
          "HKG",
          "HKG",
          "HKG",
          "HKG",
          "HKG",
          "HKG",
          "IND",
          "IND",
          "IND",
          "IND",
          "IND",
          "IND",
          "IND",
          "IND",
          "IND",
          "IND",
          "IND",
          "IND",
          "IDN",
          "IDN",
          "IDN",
          "IDN",
          "IDN",
          "IDN",
          "IDN",
          "IDN",
          "IDN",
          "IDN",
          "IDN",
          "IDN",
          "IRN",
          "IRN",
          "IRN",
          "IRN",
          "IRN",
          "IRN",
          "IRN",
          "IRN",
          "IRN",
          "IRN",
          "IRN",
          "IRN",
          "IRQ",
          "IRQ",
          "IRQ",
          "IRQ",
          "IRQ",
          "IRQ",
          "IRQ",
          "IRQ",
          "IRQ",
          "IRQ",
          "IRQ",
          "IRQ",
          "ISR",
          "ISR",
          "ISR",
          "ISR",
          "ISR",
          "ISR",
          "ISR",
          "ISR",
          "ISR",
          "ISR",
          "ISR",
          "ISR",
          "JPN",
          "JPN",
          "JPN",
          "JPN",
          "JPN",
          "JPN",
          "JPN",
          "JPN",
          "JPN",
          "JPN",
          "JPN",
          "JPN",
          "JOR",
          "JOR",
          "JOR",
          "JOR",
          "JOR",
          "JOR",
          "JOR",
          "JOR",
          "JOR",
          "JOR",
          "JOR",
          "JOR",
          "KOR",
          "KOR",
          "KOR",
          "KOR",
          "KOR",
          "KOR",
          "KOR",
          "KOR",
          "KOR",
          "KOR",
          "KOR",
          "KOR",
          "KOR",
          "KOR",
          "KOR",
          "KOR",
          "KOR",
          "KOR",
          "KOR",
          "KOR",
          "KOR",
          "KOR",
          "KOR",
          "KOR",
          "KWT",
          "KWT",
          "KWT",
          "KWT",
          "KWT",
          "KWT",
          "KWT",
          "KWT",
          "KWT",
          "KWT",
          "KWT",
          "KWT",
          "LBN",
          "LBN",
          "LBN",
          "LBN",
          "LBN",
          "LBN",
          "LBN",
          "LBN",
          "LBN",
          "LBN",
          "LBN",
          "LBN",
          "MYS",
          "MYS",
          "MYS",
          "MYS",
          "MYS",
          "MYS",
          "MYS",
          "MYS",
          "MYS",
          "MYS",
          "MYS",
          "MYS",
          "MNG",
          "MNG",
          "MNG",
          "MNG",
          "MNG",
          "MNG",
          "MNG",
          "MNG",
          "MNG",
          "MNG",
          "MNG",
          "MNG",
          "MMR",
          "MMR",
          "MMR",
          "MMR",
          "MMR",
          "MMR",
          "MMR",
          "MMR",
          "MMR",
          "MMR",
          "MMR",
          "MMR",
          "NPL",
          "NPL",
          "NPL",
          "NPL",
          "NPL",
          "NPL",
          "NPL",
          "NPL",
          "NPL",
          "NPL",
          "NPL",
          "NPL",
          "OMN",
          "OMN",
          "OMN",
          "OMN",
          "OMN",
          "OMN",
          "OMN",
          "OMN",
          "OMN",
          "OMN",
          "OMN",
          "OMN",
          "PAK",
          "PAK",
          "PAK",
          "PAK",
          "PAK",
          "PAK",
          "PAK",
          "PAK",
          "PAK",
          "PAK",
          "PAK",
          "PAK",
          "PHL",
          "PHL",
          "PHL",
          "PHL",
          "PHL",
          "PHL",
          "PHL",
          "PHL",
          "PHL",
          "PHL",
          "PHL",
          "PHL",
          "SAU",
          "SAU",
          "SAU",
          "SAU",
          "SAU",
          "SAU",
          "SAU",
          "SAU",
          "SAU",
          "SAU",
          "SAU",
          "SAU",
          "SGP",
          "SGP",
          "SGP",
          "SGP",
          "SGP",
          "SGP",
          "SGP",
          "SGP",
          "SGP",
          "SGP",
          "SGP",
          "SGP",
          "LKA",
          "LKA",
          "LKA",
          "LKA",
          "LKA",
          "LKA",
          "LKA",
          "LKA",
          "LKA",
          "LKA",
          "LKA",
          "LKA",
          "SYR",
          "SYR",
          "SYR",
          "SYR",
          "SYR",
          "SYR",
          "SYR",
          "SYR",
          "SYR",
          "SYR",
          "SYR",
          "SYR",
          "TWN",
          "TWN",
          "TWN",
          "TWN",
          "TWN",
          "TWN",
          "TWN",
          "TWN",
          "TWN",
          "TWN",
          "TWN",
          "TWN",
          "THA",
          "THA",
          "THA",
          "THA",
          "THA",
          "THA",
          "THA",
          "THA",
          "THA",
          "THA",
          "THA",
          "THA",
          "VNM",
          "VNM",
          "VNM",
          "VNM",
          "VNM",
          "VNM",
          "VNM",
          "VNM",
          "VNM",
          "VNM",
          "VNM",
          "VNM",
          "PSE",
          "PSE",
          "PSE",
          "PSE",
          "PSE",
          "PSE",
          "PSE",
          "PSE",
          "PSE",
          "PSE",
          "PSE",
          "PSE",
          "YEM",
          "YEM",
          "YEM",
          "YEM",
          "YEM",
          "YEM",
          "YEM",
          "YEM",
          "YEM",
          "YEM",
          "YEM",
          "YEM"
         ],
         "marker": {
          "color": "#636efa",
          "opacity": 0.8,
          "symbol": "circle"
         },
         "mode": "markers",
         "name": "Asia",
         "showlegend": true,
         "type": "scattergeo"
        },
        {
         "customdata": [
          [
           55.23,
           1282697,
           1952
          ],
          [
           59.28,
           1476505,
           1957
          ],
          [
           64.82,
           1728137,
           1962
          ],
          [
           66.22,
           1984060,
           1967
          ],
          [
           67.69,
           2263554,
           1972
          ],
          [
           68.93,
           2509048,
           1977
          ],
          [
           70.42,
           2780097,
           1982
          ],
          [
           72,
           3075321,
           1987
          ],
          [
           71.581,
           3326498,
           1992
          ],
          [
           72.95,
           3428038,
           1997
          ],
          [
           75.65100000000002,
           3508512,
           2002
          ],
          [
           76.423,
           3600523,
           2007
          ],
          [
           66.8,
           6927772,
           1952
          ],
          [
           67.48,
           6965860,
           1957
          ],
          [
           69.54,
           7129864,
           1962
          ],
          [
           70.14,
           7376998,
           1967
          ],
          [
           70.63,
           7544201,
           1972
          ],
          [
           72.17,
           7568430,
           1977
          ],
          [
           73.18,
           7574613,
           1982
          ],
          [
           74.94,
           7578903,
           1987
          ],
          [
           76.04,
           7914969,
           1992
          ],
          [
           77.51,
           8069876,
           1997
          ],
          [
           78.98,
           8148312,
           2002
          ],
          [
           79.829,
           8199783,
           2007
          ],
          [
           68,
           8730405,
           1952
          ],
          [
           69.24,
           8989111,
           1957
          ],
          [
           70.25,
           9218400,
           1962
          ],
          [
           70.94,
           9556500,
           1967
          ],
          [
           71.44,
           9709100,
           1972
          ],
          [
           72.8,
           9821800,
           1977
          ],
          [
           73.93,
           9856303,
           1982
          ],
          [
           75.35,
           9870200,
           1987
          ],
          [
           76.46,
           10045622,
           1992
          ],
          [
           77.53,
           10199787,
           1997
          ],
          [
           78.32,
           10311970,
           2002
          ],
          [
           79.441,
           10392226,
           2007
          ],
          [
           53.82,
           2791000,
           1952
          ],
          [
           58.45,
           3076000,
           1957
          ],
          [
           61.93,
           3349000,
           1962
          ],
          [
           64.79,
           3585000,
           1967
          ],
          [
           67.45,
           3819000,
           1972
          ],
          [
           69.86,
           4086000,
           1977
          ],
          [
           70.69,
           4172693,
           1982
          ],
          [
           71.14,
           4338977,
           1987
          ],
          [
           72.178,
           4256013,
           1992
          ],
          [
           73.244,
           3607000,
           1997
          ],
          [
           74.09,
           4165416,
           2002
          ],
          [
           74.852,
           4552198,
           2007
          ],
          [
           59.6,
           7274900,
           1952
          ],
          [
           66.61,
           7651254,
           1957
          ],
          [
           69.51,
           8012946,
           1962
          ],
          [
           70.42,
           8310226,
           1967
          ],
          [
           70.9,
           8576200,
           1972
          ],
          [
           70.81,
           8797022,
           1977
          ],
          [
           71.08,
           8892098,
           1982
          ],
          [
           71.34,
           8971958,
           1987
          ],
          [
           71.19,
           8658506,
           1992
          ],
          [
           70.32,
           8066057,
           1997
          ],
          [
           72.14,
           7661799,
           2002
          ],
          [
           73.005,
           7322858,
           2007
          ],
          [
           61.21,
           3882229,
           1952
          ],
          [
           64.77,
           3991242,
           1957
          ],
          [
           67.13,
           4076557,
           1962
          ],
          [
           68.5,
           4174366,
           1967
          ],
          [
           69.61,
           4225310,
           1972
          ],
          [
           70.64,
           4318673,
           1977
          ],
          [
           70.46,
           4413368,
           1982
          ],
          [
           71.52,
           4484310,
           1987
          ],
          [
           72.527,
           4494013,
           1992
          ],
          [
           73.68,
           4444595,
           1997
          ],
          [
           74.876,
           4481020,
           2002
          ],
          [
           75.748,
           4493312,
           2007
          ],
          [
           66.87,
           9125183,
           1952
          ],
          [
           69.03,
           9513758,
           1957
          ],
          [
           69.9,
           9620282,
           1962
          ],
          [
           70.38,
           9835109,
           1967
          ],
          [
           70.29,
           9862158,
           1972
          ],
          [
           70.71,
           10161915,
           1977
          ],
          [
           70.96,
           10303704,
           1982
          ],
          [
           71.58,
           10311597,
           1987
          ],
          [
           72.4,
           10315702,
           1992
          ],
          [
           74.01,
           10300707,
           1997
          ],
          [
           75.51,
           10256295,
           2002
          ],
          [
           76.486,
           10228744,
           2007
          ],
          [
           70.78,
           4334000,
           1952
          ],
          [
           71.81,
           4487831,
           1957
          ],
          [
           72.35,
           4646899,
           1962
          ],
          [
           72.96,
           4838800,
           1967
          ],
          [
           73.47,
           4991596,
           1972
          ],
          [
           74.69,
           5088419,
           1977
          ],
          [
           74.63,
           5117810,
           1982
          ],
          [
           74.8,
           5127024,
           1987
          ],
          [
           75.33,
           5171393,
           1992
          ],
          [
           76.11,
           5283663,
           1997
          ],
          [
           77.18,
           5374693,
           2002
          ],
          [
           78.332,
           5468120,
           2007
          ],
          [
           66.55,
           4090500,
           1952
          ],
          [
           67.49,
           4324000,
           1957
          ],
          [
           68.75,
           4491443,
           1962
          ],
          [
           69.83,
           4605744,
           1967
          ],
          [
           70.87,
           4639657,
           1972
          ],
          [
           72.52,
           4738902,
           1977
          ],
          [
           74.55,
           4826933,
           1982
          ],
          [
           74.83,
           4931729,
           1987
          ],
          [
           75.7,
           5041039,
           1992
          ],
          [
           77.13,
           5134406,
           1997
          ],
          [
           78.37,
           5193039,
           2002
          ],
          [
           79.313,
           5238460,
           2007
          ],
          [
           67.41,
           42459667,
           1952
          ],
          [
           68.93,
           44310863,
           1957
          ],
          [
           70.51,
           47124000,
           1962
          ],
          [
           71.55,
           49569000,
           1967
          ],
          [
           72.38,
           51732000,
           1972
          ],
          [
           73.83,
           53165019,
           1977
          ],
          [
           74.89,
           54433565,
           1982
          ],
          [
           76.34,
           55630100,
           1987
          ],
          [
           77.46,
           57374179,
           1992
          ],
          [
           78.64,
           58623428,
           1997
          ],
          [
           79.59,
           59925035,
           2002
          ],
          [
           80.657,
           61083916,
           2007
          ],
          [
           67.5,
           69145952,
           1952
          ],
          [
           69.1,
           71019069,
           1957
          ],
          [
           70.3,
           73739117,
           1962
          ],
          [
           70.8,
           76368453,
           1967
          ],
          [
           71,
           78717088,
           1972
          ],
          [
           72.5,
           78160773,
           1977
          ],
          [
           73.8,
           78335266,
           1982
          ],
          [
           74.847,
           77718298,
           1987
          ],
          [
           76.07,
           80597764,
           1992
          ],
          [
           77.34,
           82011073,
           1997
          ],
          [
           78.67,
           82350671,
           2002
          ],
          [
           79.406,
           82400996,
           2007
          ],
          [
           65.86,
           7733250,
           1952
          ],
          [
           67.86,
           8096218,
           1957
          ],
          [
           69.51,
           8448233,
           1962
          ],
          [
           71,
           8716441,
           1967
          ],
          [
           72.34,
           8888628,
           1972
          ],
          [
           73.68,
           9308479,
           1977
          ],
          [
           75.24,
           9786480,
           1982
          ],
          [
           76.67,
           9974490,
           1987
          ],
          [
           77.03,
           10325429,
           1992
          ],
          [
           77.869,
           10502372,
           1997
          ],
          [
           78.256,
           10603863,
           2002
          ],
          [
           79.483,
           10706290,
           2007
          ],
          [
           64.03,
           9504000,
           1952
          ],
          [
           66.41,
           9839000,
           1957
          ],
          [
           67.96,
           10063000,
           1962
          ],
          [
           69.5,
           10223422,
           1967
          ],
          [
           69.76,
           10394091,
           1972
          ],
          [
           69.95,
           10637171,
           1977
          ],
          [
           69.39,
           10705535,
           1982
          ],
          [
           69.58,
           10612740,
           1987
          ],
          [
           69.17,
           10348684,
           1992
          ],
          [
           71.04,
           10244684,
           1997
          ],
          [
           72.59,
           10083313,
           2002
          ],
          [
           73.33800000000002,
           9956108,
           2007
          ],
          [
           72.49,
           147962,
           1952
          ],
          [
           73.47,
           165110,
           1957
          ],
          [
           73.68,
           182053,
           1962
          ],
          [
           73.73,
           198676,
           1967
          ],
          [
           74.46,
           209275,
           1972
          ],
          [
           76.11,
           221823,
           1977
          ],
          [
           76.99,
           233997,
           1982
          ],
          [
           77.23,
           244676,
           1987
          ],
          [
           78.77,
           259012,
           1992
          ],
          [
           78.95,
           271192,
           1997
          ],
          [
           80.5,
           288030,
           2002
          ],
          [
           81.757,
           301931,
           2007
          ],
          [
           66.91,
           2952156,
           1952
          ],
          [
           68.9,
           2878220,
           1957
          ],
          [
           70.29,
           2830000,
           1962
          ],
          [
           71.08,
           2900100,
           1967
          ],
          [
           71.28,
           3024400,
           1972
          ],
          [
           72.03,
           3271900,
           1977
          ],
          [
           73.1,
           3480000,
           1982
          ],
          [
           74.36,
           3539900,
           1987
          ],
          [
           75.467,
           3557761,
           1992
          ],
          [
           76.122,
           3667233,
           1997
          ],
          [
           77.783,
           3879155,
           2002
          ],
          [
           78.885,
           4109086,
           2007
          ],
          [
           65.94,
           47666000,
           1952
          ],
          [
           67.81,
           49182000,
           1957
          ],
          [
           69.24,
           50843200,
           1962
          ],
          [
           71.06,
           52667100,
           1967
          ],
          [
           72.19,
           54365564,
           1972
          ],
          [
           73.48,
           56059245,
           1977
          ],
          [
           74.98,
           56535636,
           1982
          ],
          [
           76.42,
           56729703,
           1987
          ],
          [
           77.44,
           56840847,
           1992
          ],
          [
           78.82,
           57479469,
           1997
          ],
          [
           80.24,
           57926999,
           2002
          ],
          [
           80.546,
           58147733,
           2007
          ],
          [
           59.164,
           413834,
           1952
          ],
          [
           61.448,
           442829,
           1957
          ],
          [
           63.728,
           474528,
           1962
          ],
          [
           67.178,
           501035,
           1967
          ],
          [
           70.63600000000002,
           527678,
           1972
          ],
          [
           73.066,
           560073,
           1977
          ],
          [
           74.101,
           562548,
           1982
          ],
          [
           74.865,
           569473,
           1987
          ],
          [
           75.435,
           621621,
           1992
          ],
          [
           75.445,
           692651,
           1997
          ],
          [
           73.98100000000002,
           720230,
           2002
          ],
          [
           74.543,
           684736,
           2007
          ],
          [
           72.13,
           10381988,
           1952
          ],
          [
           72.99,
           11026383,
           1957
          ],
          [
           73.23,
           11805689,
           1962
          ],
          [
           73.82,
           12596822,
           1967
          ],
          [
           73.75,
           13329874,
           1972
          ],
          [
           75.24,
           13852989,
           1977
          ],
          [
           76.05,
           14310401,
           1982
          ],
          [
           76.83,
           14665278,
           1987
          ],
          [
           77.42,
           15174244,
           1992
          ],
          [
           78.03,
           15604464,
           1997
          ],
          [
           78.53,
           16122830,
           2002
          ],
          [
           79.762,
           16570613,
           2007
          ],
          [
           72.67,
           3327728,
           1952
          ],
          [
           73.44,
           3491938,
           1957
          ],
          [
           73.47,
           3638919,
           1962
          ],
          [
           74.08,
           3786019,
           1967
          ],
          [
           74.34,
           3933004,
           1972
          ],
          [
           75.37,
           4043205,
           1977
          ],
          [
           75.97,
           4114787,
           1982
          ],
          [
           75.89,
           4186147,
           1987
          ],
          [
           77.32,
           4286357,
           1992
          ],
          [
           78.32,
           4405672,
           1997
          ],
          [
           79.05,
           4535591,
           2002
          ],
          [
           80.196,
           4627926,
           2007
          ],
          [
           61.31,
           25730551,
           1952
          ],
          [
           65.77,
           28235346,
           1957
          ],
          [
           67.64,
           30329617,
           1962
          ],
          [
           69.61,
           31785378,
           1967
          ],
          [
           70.85,
           33039545,
           1972
          ],
          [
           70.67,
           34621254,
           1977
          ],
          [
           71.32,
           36227381,
           1982
          ],
          [
           70.98,
           37740710,
           1987
          ],
          [
           70.99,
           38370697,
           1992
          ],
          [
           72.75,
           38654957,
           1997
          ],
          [
           74.67,
           38625976,
           2002
          ],
          [
           75.563,
           38518241,
           2007
          ],
          [
           59.82,
           8526050,
           1952
          ],
          [
           61.51,
           8817650,
           1957
          ],
          [
           64.39,
           9019800,
           1962
          ],
          [
           66.6,
           9103000,
           1967
          ],
          [
           69.26,
           8970450,
           1972
          ],
          [
           70.41,
           9662600,
           1977
          ],
          [
           72.77,
           9859650,
           1982
          ],
          [
           74.06,
           9915289,
           1987
          ],
          [
           74.86,
           9927680,
           1992
          ],
          [
           75.97,
           10156415,
           1997
          ],
          [
           77.29,
           10433867,
           2002
          ],
          [
           78.098,
           10642836,
           2007
          ],
          [
           61.05,
           16630000,
           1952
          ],
          [
           64.1,
           17829327,
           1957
          ],
          [
           66.8,
           18680721,
           1962
          ],
          [
           66.8,
           19284814,
           1967
          ],
          [
           69.21,
           20662648,
           1972
          ],
          [
           69.46,
           21658597,
           1977
          ],
          [
           69.66,
           22356726,
           1982
          ],
          [
           69.53,
           22686371,
           1987
          ],
          [
           69.36,
           22797027,
           1992
          ],
          [
           69.72,
           22562458,
           1997
          ],
          [
           71.322,
           22404337,
           2002
          ],
          [
           72.476,
           22276056,
           2007
          ],
          [
           57.996,
           6860147,
           1952
          ],
          [
           61.685,
           7271135,
           1957
          ],
          [
           64.531,
           7616060,
           1962
          ],
          [
           66.914,
           7971222,
           1967
          ],
          [
           68.7,
           8313288,
           1972
          ],
          [
           70.3,
           8686367,
           1977
          ],
          [
           70.16199999999999,
           9032824,
           1982
          ],
          [
           71.218,
           9230783,
           1987
          ],
          [
           71.65899999999998,
           9826397,
           1992
          ],
          [
           72.232,
           10336594,
           1997
          ],
          [
           73.21300000000002,
           10111559,
           2002
          ],
          [
           74.002,
           10150265,
           2007
          ],
          [
           64.36,
           3558137,
           1952
          ],
          [
           67.45,
           3844277,
           1957
          ],
          [
           70.33,
           4237384,
           1962
          ],
          [
           70.98,
           4442238,
           1967
          ],
          [
           70.35,
           4593433,
           1972
          ],
          [
           70.45,
           4827803,
           1977
          ],
          [
           70.8,
           5048043,
           1982
          ],
          [
           71.08,
           5199318,
           1987
          ],
          [
           71.38,
           5302888,
           1992
          ],
          [
           72.71,
           5383010,
           1997
          ],
          [
           73.8,
           5410052,
           2002
          ],
          [
           74.663,
           5447502,
           2007
          ],
          [
           65.57,
           1489518,
           1952
          ],
          [
           67.85,
           1533070,
           1957
          ],
          [
           69.15,
           1582962,
           1962
          ],
          [
           69.18,
           1646912,
           1967
          ],
          [
           69.82,
           1694510,
           1972
          ],
          [
           70.97,
           1746919,
           1977
          ],
          [
           71.063,
           1861252,
           1982
          ],
          [
           72.25,
           1945870,
           1987
          ],
          [
           73.64,
           1999210,
           1992
          ],
          [
           75.13,
           2011612,
           1997
          ],
          [
           76.66,
           2011497,
           2002
          ],
          [
           77.926,
           2009245,
           2007
          ],
          [
           64.94,
           28549870,
           1952
          ],
          [
           66.66,
           29841614,
           1957
          ],
          [
           69.69,
           31158061,
           1962
          ],
          [
           71.44,
           32850275,
           1967
          ],
          [
           73.06,
           34513161,
           1972
          ],
          [
           74.39,
           36439000,
           1977
          ],
          [
           76.3,
           37983310,
           1982
          ],
          [
           76.9,
           38880702,
           1987
          ],
          [
           77.57,
           39549438,
           1992
          ],
          [
           78.77,
           39855442,
           1997
          ],
          [
           79.78,
           40152517,
           2002
          ],
          [
           80.941,
           40448191,
           2007
          ],
          [
           71.86,
           7124673,
           1952
          ],
          [
           72.49,
           7363802,
           1957
          ],
          [
           73.37,
           7561588,
           1962
          ],
          [
           74.16,
           7867931,
           1967
          ],
          [
           74.72,
           8122293,
           1972
          ],
          [
           75.44,
           8251648,
           1977
          ],
          [
           76.42,
           8325260,
           1982
          ],
          [
           77.19,
           8421403,
           1987
          ],
          [
           78.16,
           8718867,
           1992
          ],
          [
           79.39,
           8897619,
           1997
          ],
          [
           80.04,
           8954175,
           2002
          ],
          [
           80.884,
           9031088,
           2007
          ],
          [
           69.62,
           4815000,
           1952
          ],
          [
           70.56,
           5126000,
           1957
          ],
          [
           71.32,
           5666000,
           1962
          ],
          [
           72.77,
           6063000,
           1967
          ],
          [
           73.78,
           6401400,
           1972
          ],
          [
           75.39,
           6316424,
           1977
          ],
          [
           76.21,
           6468126,
           1982
          ],
          [
           77.41,
           6649942,
           1987
          ],
          [
           78.03,
           6995447,
           1992
          ],
          [
           79.37,
           7193761,
           1997
          ],
          [
           80.62,
           7361757,
           2002
          ],
          [
           81.70100000000002,
           7554661,
           2007
          ],
          [
           43.585,
           22235677,
           1952
          ],
          [
           48.07899999999999,
           25670939,
           1957
          ],
          [
           52.098,
           29788695,
           1962
          ],
          [
           54.33600000000001,
           33411317,
           1967
          ],
          [
           57.005,
           37492953,
           1972
          ],
          [
           59.507,
           42404033,
           1977
          ],
          [
           61.036,
           47328791,
           1982
          ],
          [
           63.108,
           52881328,
           1987
          ],
          [
           66.146,
           58179144,
           1992
          ],
          [
           68.835,
           63047647,
           1997
          ],
          [
           70.845,
           67308928,
           2002
          ],
          [
           71.777,
           71158647,
           2007
          ],
          [
           69.18,
           50430000,
           1952
          ],
          [
           70.42,
           51430000,
           1957
          ],
          [
           70.76,
           53292000,
           1962
          ],
          [
           71.36,
           54959000,
           1967
          ],
          [
           72.01,
           56079000,
           1972
          ],
          [
           72.76,
           56179000,
           1977
          ],
          [
           74.04,
           56339704,
           1982
          ],
          [
           75.007,
           56981620,
           1987
          ],
          [
           76.42,
           57866349,
           1992
          ],
          [
           77.218,
           58808266,
           1997
          ],
          [
           78.471,
           59912431,
           2002
          ],
          [
           79.425,
           60776238,
           2007
          ]
         ],
         "geo": "geo",
         "hovertemplate": "<b>%{hovertext}</b><br><br>continent=Europe<br>iso_alpha=%{location}<br>lifeExp=%{customdata[0]}<br>pop=%{customdata[1]}<br>year=%{customdata[2]}<extra></extra>",
         "hovertext": [
          "Albania",
          "Albania",
          "Albania",
          "Albania",
          "Albania",
          "Albania",
          "Albania",
          "Albania",
          "Albania",
          "Albania",
          "Albania",
          "Albania",
          "Austria",
          "Austria",
          "Austria",
          "Austria",
          "Austria",
          "Austria",
          "Austria",
          "Austria",
          "Austria",
          "Austria",
          "Austria",
          "Austria",
          "Belgium",
          "Belgium",
          "Belgium",
          "Belgium",
          "Belgium",
          "Belgium",
          "Belgium",
          "Belgium",
          "Belgium",
          "Belgium",
          "Belgium",
          "Belgium",
          "Bosnia and Herzegovina",
          "Bosnia and Herzegovina",
          "Bosnia and Herzegovina",
          "Bosnia and Herzegovina",
          "Bosnia and Herzegovina",
          "Bosnia and Herzegovina",
          "Bosnia and Herzegovina",
          "Bosnia and Herzegovina",
          "Bosnia and Herzegovina",
          "Bosnia and Herzegovina",
          "Bosnia and Herzegovina",
          "Bosnia and Herzegovina",
          "Bulgaria",
          "Bulgaria",
          "Bulgaria",
          "Bulgaria",
          "Bulgaria",
          "Bulgaria",
          "Bulgaria",
          "Bulgaria",
          "Bulgaria",
          "Bulgaria",
          "Bulgaria",
          "Bulgaria",
          "Croatia",
          "Croatia",
          "Croatia",
          "Croatia",
          "Croatia",
          "Croatia",
          "Croatia",
          "Croatia",
          "Croatia",
          "Croatia",
          "Croatia",
          "Croatia",
          "Czech Republic",
          "Czech Republic",
          "Czech Republic",
          "Czech Republic",
          "Czech Republic",
          "Czech Republic",
          "Czech Republic",
          "Czech Republic",
          "Czech Republic",
          "Czech Republic",
          "Czech Republic",
          "Czech Republic",
          "Denmark",
          "Denmark",
          "Denmark",
          "Denmark",
          "Denmark",
          "Denmark",
          "Denmark",
          "Denmark",
          "Denmark",
          "Denmark",
          "Denmark",
          "Denmark",
          "Finland",
          "Finland",
          "Finland",
          "Finland",
          "Finland",
          "Finland",
          "Finland",
          "Finland",
          "Finland",
          "Finland",
          "Finland",
          "Finland",
          "France",
          "France",
          "France",
          "France",
          "France",
          "France",
          "France",
          "France",
          "France",
          "France",
          "France",
          "France",
          "Germany",
          "Germany",
          "Germany",
          "Germany",
          "Germany",
          "Germany",
          "Germany",
          "Germany",
          "Germany",
          "Germany",
          "Germany",
          "Germany",
          "Greece",
          "Greece",
          "Greece",
          "Greece",
          "Greece",
          "Greece",
          "Greece",
          "Greece",
          "Greece",
          "Greece",
          "Greece",
          "Greece",
          "Hungary",
          "Hungary",
          "Hungary",
          "Hungary",
          "Hungary",
          "Hungary",
          "Hungary",
          "Hungary",
          "Hungary",
          "Hungary",
          "Hungary",
          "Hungary",
          "Iceland",
          "Iceland",
          "Iceland",
          "Iceland",
          "Iceland",
          "Iceland",
          "Iceland",
          "Iceland",
          "Iceland",
          "Iceland",
          "Iceland",
          "Iceland",
          "Ireland",
          "Ireland",
          "Ireland",
          "Ireland",
          "Ireland",
          "Ireland",
          "Ireland",
          "Ireland",
          "Ireland",
          "Ireland",
          "Ireland",
          "Ireland",
          "Italy",
          "Italy",
          "Italy",
          "Italy",
          "Italy",
          "Italy",
          "Italy",
          "Italy",
          "Italy",
          "Italy",
          "Italy",
          "Italy",
          "Montenegro",
          "Montenegro",
          "Montenegro",
          "Montenegro",
          "Montenegro",
          "Montenegro",
          "Montenegro",
          "Montenegro",
          "Montenegro",
          "Montenegro",
          "Montenegro",
          "Montenegro",
          "Netherlands",
          "Netherlands",
          "Netherlands",
          "Netherlands",
          "Netherlands",
          "Netherlands",
          "Netherlands",
          "Netherlands",
          "Netherlands",
          "Netherlands",
          "Netherlands",
          "Netherlands",
          "Norway",
          "Norway",
          "Norway",
          "Norway",
          "Norway",
          "Norway",
          "Norway",
          "Norway",
          "Norway",
          "Norway",
          "Norway",
          "Norway",
          "Poland",
          "Poland",
          "Poland",
          "Poland",
          "Poland",
          "Poland",
          "Poland",
          "Poland",
          "Poland",
          "Poland",
          "Poland",
          "Poland",
          "Portugal",
          "Portugal",
          "Portugal",
          "Portugal",
          "Portugal",
          "Portugal",
          "Portugal",
          "Portugal",
          "Portugal",
          "Portugal",
          "Portugal",
          "Portugal",
          "Romania",
          "Romania",
          "Romania",
          "Romania",
          "Romania",
          "Romania",
          "Romania",
          "Romania",
          "Romania",
          "Romania",
          "Romania",
          "Romania",
          "Serbia",
          "Serbia",
          "Serbia",
          "Serbia",
          "Serbia",
          "Serbia",
          "Serbia",
          "Serbia",
          "Serbia",
          "Serbia",
          "Serbia",
          "Serbia",
          "Slovak Republic",
          "Slovak Republic",
          "Slovak Republic",
          "Slovak Republic",
          "Slovak Republic",
          "Slovak Republic",
          "Slovak Republic",
          "Slovak Republic",
          "Slovak Republic",
          "Slovak Republic",
          "Slovak Republic",
          "Slovak Republic",
          "Slovenia",
          "Slovenia",
          "Slovenia",
          "Slovenia",
          "Slovenia",
          "Slovenia",
          "Slovenia",
          "Slovenia",
          "Slovenia",
          "Slovenia",
          "Slovenia",
          "Slovenia",
          "Spain",
          "Spain",
          "Spain",
          "Spain",
          "Spain",
          "Spain",
          "Spain",
          "Spain",
          "Spain",
          "Spain",
          "Spain",
          "Spain",
          "Sweden",
          "Sweden",
          "Sweden",
          "Sweden",
          "Sweden",
          "Sweden",
          "Sweden",
          "Sweden",
          "Sweden",
          "Sweden",
          "Sweden",
          "Sweden",
          "Switzerland",
          "Switzerland",
          "Switzerland",
          "Switzerland",
          "Switzerland",
          "Switzerland",
          "Switzerland",
          "Switzerland",
          "Switzerland",
          "Switzerland",
          "Switzerland",
          "Switzerland",
          "Turkey",
          "Turkey",
          "Turkey",
          "Turkey",
          "Turkey",
          "Turkey",
          "Turkey",
          "Turkey",
          "Turkey",
          "Turkey",
          "Turkey",
          "Turkey",
          "United Kingdom",
          "United Kingdom",
          "United Kingdom",
          "United Kingdom",
          "United Kingdom",
          "United Kingdom",
          "United Kingdom",
          "United Kingdom",
          "United Kingdom",
          "United Kingdom",
          "United Kingdom",
          "United Kingdom"
         ],
         "legendgroup": "Europe",
         "locations": [
          "ALB",
          "ALB",
          "ALB",
          "ALB",
          "ALB",
          "ALB",
          "ALB",
          "ALB",
          "ALB",
          "ALB",
          "ALB",
          "ALB",
          "AUT",
          "AUT",
          "AUT",
          "AUT",
          "AUT",
          "AUT",
          "AUT",
          "AUT",
          "AUT",
          "AUT",
          "AUT",
          "AUT",
          "BEL",
          "BEL",
          "BEL",
          "BEL",
          "BEL",
          "BEL",
          "BEL",
          "BEL",
          "BEL",
          "BEL",
          "BEL",
          "BEL",
          "BIH",
          "BIH",
          "BIH",
          "BIH",
          "BIH",
          "BIH",
          "BIH",
          "BIH",
          "BIH",
          "BIH",
          "BIH",
          "BIH",
          "BGR",
          "BGR",
          "BGR",
          "BGR",
          "BGR",
          "BGR",
          "BGR",
          "BGR",
          "BGR",
          "BGR",
          "BGR",
          "BGR",
          "HRV",
          "HRV",
          "HRV",
          "HRV",
          "HRV",
          "HRV",
          "HRV",
          "HRV",
          "HRV",
          "HRV",
          "HRV",
          "HRV",
          "CZE",
          "CZE",
          "CZE",
          "CZE",
          "CZE",
          "CZE",
          "CZE",
          "CZE",
          "CZE",
          "CZE",
          "CZE",
          "CZE",
          "DNK",
          "DNK",
          "DNK",
          "DNK",
          "DNK",
          "DNK",
          "DNK",
          "DNK",
          "DNK",
          "DNK",
          "DNK",
          "DNK",
          "FIN",
          "FIN",
          "FIN",
          "FIN",
          "FIN",
          "FIN",
          "FIN",
          "FIN",
          "FIN",
          "FIN",
          "FIN",
          "FIN",
          "FRA",
          "FRA",
          "FRA",
          "FRA",
          "FRA",
          "FRA",
          "FRA",
          "FRA",
          "FRA",
          "FRA",
          "FRA",
          "FRA",
          "DEU",
          "DEU",
          "DEU",
          "DEU",
          "DEU",
          "DEU",
          "DEU",
          "DEU",
          "DEU",
          "DEU",
          "DEU",
          "DEU",
          "GRC",
          "GRC",
          "GRC",
          "GRC",
          "GRC",
          "GRC",
          "GRC",
          "GRC",
          "GRC",
          "GRC",
          "GRC",
          "GRC",
          "HUN",
          "HUN",
          "HUN",
          "HUN",
          "HUN",
          "HUN",
          "HUN",
          "HUN",
          "HUN",
          "HUN",
          "HUN",
          "HUN",
          "ISL",
          "ISL",
          "ISL",
          "ISL",
          "ISL",
          "ISL",
          "ISL",
          "ISL",
          "ISL",
          "ISL",
          "ISL",
          "ISL",
          "IRL",
          "IRL",
          "IRL",
          "IRL",
          "IRL",
          "IRL",
          "IRL",
          "IRL",
          "IRL",
          "IRL",
          "IRL",
          "IRL",
          "ITA",
          "ITA",
          "ITA",
          "ITA",
          "ITA",
          "ITA",
          "ITA",
          "ITA",
          "ITA",
          "ITA",
          "ITA",
          "ITA",
          "MNE",
          "MNE",
          "MNE",
          "MNE",
          "MNE",
          "MNE",
          "MNE",
          "MNE",
          "MNE",
          "MNE",
          "MNE",
          "MNE",
          "NLD",
          "NLD",
          "NLD",
          "NLD",
          "NLD",
          "NLD",
          "NLD",
          "NLD",
          "NLD",
          "NLD",
          "NLD",
          "NLD",
          "NOR",
          "NOR",
          "NOR",
          "NOR",
          "NOR",
          "NOR",
          "NOR",
          "NOR",
          "NOR",
          "NOR",
          "NOR",
          "NOR",
          "POL",
          "POL",
          "POL",
          "POL",
          "POL",
          "POL",
          "POL",
          "POL",
          "POL",
          "POL",
          "POL",
          "POL",
          "PRT",
          "PRT",
          "PRT",
          "PRT",
          "PRT",
          "PRT",
          "PRT",
          "PRT",
          "PRT",
          "PRT",
          "PRT",
          "PRT",
          "ROU",
          "ROU",
          "ROU",
          "ROU",
          "ROU",
          "ROU",
          "ROU",
          "ROU",
          "ROU",
          "ROU",
          "ROU",
          "ROU",
          "SRB",
          "SRB",
          "SRB",
          "SRB",
          "SRB",
          "SRB",
          "SRB",
          "SRB",
          "SRB",
          "SRB",
          "SRB",
          "SRB",
          "SVK",
          "SVK",
          "SVK",
          "SVK",
          "SVK",
          "SVK",
          "SVK",
          "SVK",
          "SVK",
          "SVK",
          "SVK",
          "SVK",
          "SVN",
          "SVN",
          "SVN",
          "SVN",
          "SVN",
          "SVN",
          "SVN",
          "SVN",
          "SVN",
          "SVN",
          "SVN",
          "SVN",
          "ESP",
          "ESP",
          "ESP",
          "ESP",
          "ESP",
          "ESP",
          "ESP",
          "ESP",
          "ESP",
          "ESP",
          "ESP",
          "ESP",
          "SWE",
          "SWE",
          "SWE",
          "SWE",
          "SWE",
          "SWE",
          "SWE",
          "SWE",
          "SWE",
          "SWE",
          "SWE",
          "SWE",
          "CHE",
          "CHE",
          "CHE",
          "CHE",
          "CHE",
          "CHE",
          "CHE",
          "CHE",
          "CHE",
          "CHE",
          "CHE",
          "CHE",
          "TUR",
          "TUR",
          "TUR",
          "TUR",
          "TUR",
          "TUR",
          "TUR",
          "TUR",
          "TUR",
          "TUR",
          "TUR",
          "TUR",
          "GBR",
          "GBR",
          "GBR",
          "GBR",
          "GBR",
          "GBR",
          "GBR",
          "GBR",
          "GBR",
          "GBR",
          "GBR",
          "GBR"
         ],
         "marker": {
          "color": "#EF553B",
          "opacity": 0.8,
          "symbol": "circle"
         },
         "mode": "markers",
         "name": "Europe",
         "showlegend": true,
         "type": "scattergeo"
        },
        {
         "customdata": [
          [
           43.077,
           9279525,
           1952
          ],
          [
           45.685,
           10270856,
           1957
          ],
          [
           48.303,
           11000948,
           1962
          ],
          [
           51.407,
           12760499,
           1967
          ],
          [
           54.518,
           14760787,
           1972
          ],
          [
           58.014,
           17152804,
           1977
          ],
          [
           61.368,
           20033753,
           1982
          ],
          [
           65.79899999999999,
           23254956,
           1987
          ],
          [
           67.744,
           26298373,
           1992
          ],
          [
           69.152,
           29072015,
           1997
          ],
          [
           70.994,
           31287142,
           2002
          ],
          [
           72.301,
           33333216,
           2007
          ],
          [
           30.015,
           4232095,
           1952
          ],
          [
           31.999,
           4561361,
           1957
          ],
          [
           34,
           4826015,
           1962
          ],
          [
           35.985,
           5247469,
           1967
          ],
          [
           37.928,
           5894858,
           1972
          ],
          [
           39.483,
           6162675,
           1977
          ],
          [
           39.942,
           7016384,
           1982
          ],
          [
           39.906,
           7874230,
           1987
          ],
          [
           40.647,
           8735988,
           1992
          ],
          [
           40.963,
           9875024,
           1997
          ],
          [
           41.003,
           10866106,
           2002
          ],
          [
           42.731,
           12420476,
           2007
          ],
          [
           38.223,
           1738315,
           1952
          ],
          [
           40.358,
           1925173,
           1957
          ],
          [
           42.618,
           2151895,
           1962
          ],
          [
           44.885,
           2427334,
           1967
          ],
          [
           47.014,
           2761407,
           1972
          ],
          [
           49.19,
           3168267,
           1977
          ],
          [
           50.904,
           3641603,
           1982
          ],
          [
           52.337,
           4243788,
           1987
          ],
          [
           53.919,
           4981671,
           1992
          ],
          [
           54.777,
           6066080,
           1997
          ],
          [
           54.40600000000001,
           7026113,
           2002
          ],
          [
           56.728,
           8078314,
           2007
          ],
          [
           47.622,
           442308,
           1952
          ],
          [
           49.618,
           474639,
           1957
          ],
          [
           51.52,
           512764,
           1962
          ],
          [
           53.298,
           553541,
           1967
          ],
          [
           56.024,
           619351,
           1972
          ],
          [
           59.319,
           781472,
           1977
          ],
          [
           61.484,
           970347,
           1982
          ],
          [
           63.622,
           1151184,
           1987
          ],
          [
           62.745,
           1342614,
           1992
          ],
          [
           52.556,
           1536536,
           1997
          ],
          [
           46.63399999999999,
           1630347,
           2002
          ],
          [
           50.728,
           1639131,
           2007
          ],
          [
           31.975,
           4469979,
           1952
          ],
          [
           34.906,
           4713416,
           1957
          ],
          [
           37.814,
           4919632,
           1962
          ],
          [
           40.697,
           5127935,
           1967
          ],
          [
           43.591,
           5433886,
           1972
          ],
          [
           46.137,
           5889574,
           1977
          ],
          [
           48.122,
           6634596,
           1982
          ],
          [
           49.557,
           7586551,
           1987
          ],
          [
           50.26,
           8878303,
           1992
          ],
          [
           50.324,
           10352843,
           1997
          ],
          [
           50.65,
           12251209,
           2002
          ],
          [
           52.295,
           14326203,
           2007
          ],
          [
           39.031,
           2445618,
           1952
          ],
          [
           40.533,
           2667518,
           1957
          ],
          [
           42.045,
           2961915,
           1962
          ],
          [
           43.548,
           3330989,
           1967
          ],
          [
           44.057,
           3529983,
           1972
          ],
          [
           45.91,
           3834415,
           1977
          ],
          [
           47.471,
           4580410,
           1982
          ],
          [
           48.21100000000001,
           5126023,
           1987
          ],
          [
           44.736,
           5809236,
           1992
          ],
          [
           45.326,
           6121610,
           1997
          ],
          [
           47.36,
           7021078,
           2002
          ],
          [
           49.58,
           8390505,
           2007
          ],
          [
           38.523,
           5009067,
           1952
          ],
          [
           40.428,
           5359923,
           1957
          ],
          [
           42.643,
           5793633,
           1962
          ],
          [
           44.799,
           6335506,
           1967
          ],
          [
           47.049,
           7021028,
           1972
          ],
          [
           49.355,
           7959865,
           1977
          ],
          [
           52.96100000000001,
           9250831,
           1982
          ],
          [
           54.985,
           10780667,
           1987
          ],
          [
           54.31399999999999,
           12467171,
           1992
          ],
          [
           52.199,
           14195809,
           1997
          ],
          [
           49.856,
           15929988,
           2002
          ],
          [
           50.43,
           17696293,
           2007
          ],
          [
           35.463,
           1291695,
           1952
          ],
          [
           37.464,
           1392284,
           1957
          ],
          [
           39.475,
           1523478,
           1962
          ],
          [
           41.478,
           1733638,
           1967
          ],
          [
           43.457,
           1927260,
           1972
          ],
          [
           46.775,
           2167533,
           1977
          ],
          [
           48.295,
           2476971,
           1982
          ],
          [
           50.485,
           2840009,
           1987
          ],
          [
           49.396,
           3265124,
           1992
          ],
          [
           46.066,
           3696513,
           1997
          ],
          [
           43.308,
           4048013,
           2002
          ],
          [
           44.74100000000001,
           4369038,
           2007
          ],
          [
           38.092,
           2682462,
           1952
          ],
          [
           39.881,
           2894855,
           1957
          ],
          [
           41.716,
           3150417,
           1962
          ],
          [
           43.601000000000006,
           3495967,
           1967
          ],
          [
           45.569,
           3899068,
           1972
          ],
          [
           47.383,
           4388260,
           1977
          ],
          [
           49.517,
           4875118,
           1982
          ],
          [
           51.051,
           5498955,
           1987
          ],
          [
           51.724,
           6429417,
           1992
          ],
          [
           51.573,
           7562011,
           1997
          ],
          [
           50.525,
           8835739,
           2002
          ],
          [
           50.651,
           10238807,
           2007
          ],
          [
           40.715,
           153936,
           1952
          ],
          [
           42.46,
           170928,
           1957
          ],
          [
           44.467,
           191689,
           1962
          ],
          [
           46.472,
           217378,
           1967
          ],
          [
           48.944,
           250027,
           1972
          ],
          [
           50.93899999999999,
           304739,
           1977
          ],
          [
           52.933,
           348643,
           1982
          ],
          [
           54.926,
           395114,
           1987
          ],
          [
           57.93899999999999,
           454429,
           1992
          ],
          [
           60.66,
           527982,
           1997
          ],
          [
           62.974,
           614382,
           2002
          ],
          [
           65.152,
           710960,
           2007
          ],
          [
           39.143,
           14100005,
           1952
          ],
          [
           40.652,
           15577932,
           1957
          ],
          [
           42.122,
           17486434,
           1962
          ],
          [
           44.056,
           19941073,
           1967
          ],
          [
           45.989,
           23007669,
           1972
          ],
          [
           47.804,
           26480870,
           1977
          ],
          [
           47.784,
           30646495,
           1982
          ],
          [
           47.412,
           35481645,
           1987
          ],
          [
           45.548,
           41672143,
           1992
          ],
          [
           42.587,
           47798986,
           1997
          ],
          [
           44.966,
           55379852,
           2002
          ],
          [
           46.462,
           64606759,
           2007
          ],
          [
           42.111,
           854885,
           1952
          ],
          [
           45.053,
           940458,
           1957
          ],
          [
           48.435,
           1047924,
           1962
          ],
          [
           52.04,
           1179760,
           1967
          ],
          [
           54.907,
           1340458,
           1972
          ],
          [
           55.625,
           1536769,
           1977
          ],
          [
           56.695,
           1774735,
           1982
          ],
          [
           57.47,
           2064095,
           1987
          ],
          [
           56.433,
           2409073,
           1992
          ],
          [
           52.962,
           2800947,
           1997
          ],
          [
           52.97,
           3328795,
           2002
          ],
          [
           55.322,
           3800610,
           2007
          ],
          [
           40.477,
           2977019,
           1952
          ],
          [
           42.469,
           3300000,
           1957
          ],
          [
           44.93,
           3832408,
           1962
          ],
          [
           47.35,
           4744870,
           1967
          ],
          [
           49.801,
           6071696,
           1972
          ],
          [
           52.374,
           7459574,
           1977
          ],
          [
           53.983,
           9025951,
           1982
          ],
          [
           54.655,
           10761098,
           1987
          ],
          [
           52.044,
           12772596,
           1992
          ],
          [
           47.99100000000001,
           14625967,
           1997
          ],
          [
           46.832,
           16252726,
           2002
          ],
          [
           48.328,
           18013409,
           2007
          ],
          [
           34.812,
           63149,
           1952
          ],
          [
           37.328,
           71851,
           1957
          ],
          [
           39.69300000000001,
           89898,
           1962
          ],
          [
           42.074,
           127617,
           1967
          ],
          [
           44.36600000000001,
           178848,
           1972
          ],
          [
           46.519,
           228694,
           1977
          ],
          [
           48.812,
           305991,
           1982
          ],
          [
           50.04,
           311025,
           1987
          ],
          [
           51.604,
           384156,
           1992
          ],
          [
           53.157,
           417908,
           1997
          ],
          [
           53.37300000000001,
           447416,
           2002
          ],
          [
           54.791,
           496374,
           2007
          ],
          [
           41.893,
           22223309,
           1952
          ],
          [
           44.444,
           25009741,
           1957
          ],
          [
           46.992,
           28173309,
           1962
          ],
          [
           49.293,
           31681188,
           1967
          ],
          [
           51.137,
           34807417,
           1972
          ],
          [
           53.319,
           38783863,
           1977
          ],
          [
           56.006,
           45681811,
           1982
          ],
          [
           59.797,
           52799062,
           1987
          ],
          [
           63.674,
           59402198,
           1992
          ],
          [
           67.217,
           66134291,
           1997
          ],
          [
           69.806,
           73312559,
           2002
          ],
          [
           71.33800000000002,
           80264543,
           2007
          ],
          [
           34.482,
           216964,
           1952
          ],
          [
           35.98300000000001,
           232922,
           1957
          ],
          [
           37.485,
           249220,
           1962
          ],
          [
           38.987,
           259864,
           1967
          ],
          [
           40.516,
           277603,
           1972
          ],
          [
           42.024,
           192675,
           1977
          ],
          [
           43.662,
           285483,
           1982
          ],
          [
           45.664,
           341244,
           1987
          ],
          [
           47.545,
           387838,
           1992
          ],
          [
           48.245,
           439971,
           1997
          ],
          [
           49.348,
           495627,
           2002
          ],
          [
           51.57899999999999,
           551201,
           2007
          ],
          [
           35.92800000000001,
           1438760,
           1952
          ],
          [
           38.047,
           1542611,
           1957
          ],
          [
           40.158,
           1666618,
           1962
          ],
          [
           42.18899999999999,
           1820319,
           1967
          ],
          [
           44.142,
           2260187,
           1972
          ],
          [
           44.535,
           2512642,
           1977
          ],
          [
           43.89,
           2637297,
           1982
          ],
          [
           46.453,
           2915959,
           1987
          ],
          [
           49.99100000000001,
           3668440,
           1992
          ],
          [
           53.378,
           4058319,
           1997
          ],
          [
           55.24,
           4414865,
           2002
          ],
          [
           58.04,
           4906585,
           2007
          ],
          [
           34.078,
           20860941,
           1952
          ],
          [
           36.667,
           22815614,
           1957
          ],
          [
           40.059,
           25145372,
           1962
          ],
          [
           42.115,
           27860297,
           1967
          ],
          [
           43.515,
           30770372,
           1972
          ],
          [
           44.51,
           34617799,
           1977
          ],
          [
           44.916,
           38111756,
           1982
          ],
          [
           46.684,
           42999530,
           1987
          ],
          [
           48.091,
           52088559,
           1992
          ],
          [
           49.402,
           59861301,
           1997
          ],
          [
           50.725,
           67946797,
           2002
          ],
          [
           52.947,
           76511887,
           2007
          ],
          [
           37.003,
           420702,
           1952
          ],
          [
           38.999,
           434904,
           1957
          ],
          [
           40.489,
           455661,
           1962
          ],
          [
           44.598,
           489004,
           1967
          ],
          [
           48.69,
           537977,
           1972
          ],
          [
           52.79,
           706367,
           1977
          ],
          [
           56.56399999999999,
           753874,
           1982
          ],
          [
           60.19,
           880397,
           1987
          ],
          [
           61.36600000000001,
           985739,
           1992
          ],
          [
           60.46100000000001,
           1126189,
           1997
          ],
          [
           56.761,
           1299304,
           2002
          ],
          [
           56.735,
           1454867,
           2007
          ],
          [
           30,
           284320,
           1952
          ],
          [
           32.065,
           323150,
           1957
          ],
          [
           33.896,
           374020,
           1962
          ],
          [
           35.857,
           439593,
           1967
          ],
          [
           38.308,
           517101,
           1972
          ],
          [
           41.842,
           608274,
           1977
          ],
          [
           45.58,
           715523,
           1982
          ],
          [
           49.265,
           848406,
           1987
          ],
          [
           52.644,
           1025384,
           1992
          ],
          [
           55.861,
           1235767,
           1997
          ],
          [
           58.041,
           1457766,
           2002
          ],
          [
           59.448,
           1688359,
           2007
          ],
          [
           43.149,
           5581001,
           1952
          ],
          [
           44.779,
           6391288,
           1957
          ],
          [
           46.452,
           7355248,
           1962
          ],
          [
           48.072,
           8490213,
           1967
          ],
          [
           49.875,
           9354120,
           1972
          ],
          [
           51.756,
           10538093,
           1977
          ],
          [
           53.744,
           11400338,
           1982
          ],
          [
           55.729,
           14168101,
           1987
          ],
          [
           57.50100000000001,
           16278738,
           1992
          ],
          [
           58.556,
           18418288,
           1997
          ],
          [
           58.453,
           20550751,
           2002
          ],
          [
           60.022,
           22873338,
           2007
          ],
          [
           33.609,
           2664249,
           1952
          ],
          [
           34.558,
           2876726,
           1957
          ],
          [
           35.753,
           3140003,
           1962
          ],
          [
           37.197,
           3451418,
           1967
          ],
          [
           38.842,
           3811387,
           1972
          ],
          [
           40.762,
           4227026,
           1977
          ],
          [
           42.89100000000001,
           4710497,
           1982
          ],
          [
           45.552,
           5650262,
           1987
          ],
          [
           48.576,
           6990574,
           1992
          ],
          [
           51.455,
           8048834,
           1997
          ],
          [
           53.676,
           8807818,
           2002
          ],
          [
           56.007,
           9947814,
           2007
          ],
          [
           32.5,
           580653,
           1952
          ],
          [
           33.489000000000004,
           601095,
           1957
          ],
          [
           34.488,
           627820,
           1962
          ],
          [
           35.492,
           601287,
           1967
          ],
          [
           36.486,
           625361,
           1972
          ],
          [
           37.465,
           745228,
           1977
          ],
          [
           39.327,
           825987,
           1982
          ],
          [
           41.245,
           927524,
           1987
          ],
          [
           43.26600000000001,
           1050938,
           1992
          ],
          [
           44.87300000000001,
           1193708,
           1997
          ],
          [
           45.504,
           1332459,
           2002
          ],
          [
           46.38800000000001,
           1472041,
           2007
          ],
          [
           42.27,
           6464046,
           1952
          ],
          [
           44.68600000000001,
           7454779,
           1957
          ],
          [
           47.949,
           8678557,
           1962
          ],
          [
           50.654,
           10191512,
           1967
          ],
          [
           53.559,
           12044785,
           1972
          ],
          [
           56.155,
           14500404,
           1977
          ],
          [
           58.76600000000001,
           17661452,
           1982
          ],
          [
           59.339,
           21198082,
           1987
          ],
          [
           59.285,
           25020539,
           1992
          ],
          [
           54.407,
           28263827,
           1997
          ],
          [
           50.992,
           31386842,
           2002
          ],
          [
           54.11,
           35610177,
           2007
          ],
          [
           42.13800000000001,
           748747,
           1952
          ],
          [
           45.047,
           813338,
           1957
          ],
          [
           47.747,
           893143,
           1962
          ],
          [
           48.492,
           996380,
           1967
          ],
          [
           49.767,
           1116779,
           1972
          ],
          [
           52.208,
           1251524,
           1977
          ],
          [
           55.078,
           1411807,
           1982
          ],
          [
           57.18,
           1599200,
           1987
          ],
          [
           59.685,
           1803195,
           1992
          ],
          [
           55.558,
           1982823,
           1997
          ],
          [
           44.593,
           2046772,
           2002
          ],
          [
           42.592,
           2012649,
           2007
          ],
          [
           38.48,
           863308,
           1952
          ],
          [
           39.486,
           975950,
           1957
          ],
          [
           40.502,
           1112796,
           1962
          ],
          [
           41.536,
           1279406,
           1967
          ],
          [
           42.614,
           1482628,
           1972
          ],
          [
           43.764,
           1703617,
           1977
          ],
          [
           44.852,
           1956875,
           1982
          ],
          [
           46.027,
           2269414,
           1987
          ],
          [
           40.802,
           1912974,
           1992
          ],
          [
           42.221,
           2200725,
           1997
          ],
          [
           43.753,
           2814651,
           2002
          ],
          [
           45.678,
           3193942,
           2007
          ],
          [
           42.723,
           1019729,
           1952
          ],
          [
           45.289,
           1201578,
           1957
          ],
          [
           47.808,
           1441863,
           1962
          ],
          [
           50.227,
           1759224,
           1967
          ],
          [
           52.773,
           2183877,
           1972
          ],
          [
           57.442,
           2721783,
           1977
          ],
          [
           62.155,
           3344074,
           1982
          ],
          [
           66.234,
           3799845,
           1987
          ],
          [
           68.755,
           4364501,
           1992
          ],
          [
           71.555,
           4759670,
           1997
          ],
          [
           72.737,
           5368585,
           2002
          ],
          [
           73.952,
           6036914,
           2007
          ],
          [
           36.681,
           4762912,
           1952
          ],
          [
           38.865,
           5181679,
           1957
          ],
          [
           40.848,
           5703324,
           1962
          ],
          [
           42.881,
           6334556,
           1967
          ],
          [
           44.851000000000006,
           7082430,
           1972
          ],
          [
           46.881,
           8007166,
           1977
          ],
          [
           48.969,
           9171477,
           1982
          ],
          [
           49.35,
           10568642,
           1987
          ],
          [
           52.214,
           12210395,
           1992
          ],
          [
           54.978,
           14165114,
           1997
          ],
          [
           57.286,
           16473477,
           2002
          ],
          [
           59.44300000000001,
           19167654,
           2007
          ],
          [
           36.256,
           2917802,
           1952
          ],
          [
           37.207,
           3221238,
           1957
          ],
          [
           38.41,
           3628608,
           1962
          ],
          [
           39.487,
           4147252,
           1967
          ],
          [
           41.76600000000001,
           4730997,
           1972
          ],
          [
           43.767,
           5637246,
           1977
          ],
          [
           45.642,
           6502825,
           1982
          ],
          [
           47.457,
           7824747,
           1987
          ],
          [
           49.42,
           10014249,
           1992
          ],
          [
           47.495,
           10419991,
           1997
          ],
          [
           45.00899999999999,
           11824495,
           2002
          ],
          [
           48.303,
           13327079,
           2007
          ],
          [
           33.685,
           3838168,
           1952
          ],
          [
           35.30699999999999,
           4241884,
           1957
          ],
          [
           36.936,
           4690372,
           1962
          ],
          [
           38.487,
           5212416,
           1967
          ],
          [
           39.977,
           5828158,
           1972
          ],
          [
           41.714,
           6491649,
           1977
          ],
          [
           43.916,
           6998256,
           1982
          ],
          [
           46.364,
           7634008,
           1987
          ],
          [
           48.38800000000001,
           8416215,
           1992
          ],
          [
           49.903,
           9384984,
           1997
          ],
          [
           51.81800000000001,
           10580176,
           2002
          ],
          [
           54.467,
           12031795,
           2007
          ],
          [
           40.543,
           1022556,
           1952
          ],
          [
           42.338,
           1076852,
           1957
          ],
          [
           44.24800000000001,
           1146757,
           1962
          ],
          [
           46.289,
           1230542,
           1967
          ],
          [
           48.437,
           1332786,
           1972
          ],
          [
           50.852,
           1456688,
           1977
          ],
          [
           53.599,
           1622136,
           1982
          ],
          [
           56.145,
           1841240,
           1987
          ],
          [
           58.333,
           2119465,
           1992
          ],
          [
           60.43,
           2444741,
           1997
          ],
          [
           62.247,
           2828858,
           2002
          ],
          [
           64.164,
           3270065,
           2007
          ],
          [
           50.986,
           516556,
           1952
          ],
          [
           58.089,
           609816,
           1957
          ],
          [
           60.246,
           701016,
           1962
          ],
          [
           61.557,
           789309,
           1967
          ],
          [
           62.944,
           851334,
           1972
          ],
          [
           64.93,
           913025,
           1977
          ],
          [
           66.711,
           992040,
           1982
          ],
          [
           68.74,
           1042663,
           1987
          ],
          [
           69.745,
           1096202,
           1992
          ],
          [
           70.736,
           1149818,
           1997
          ],
          [
           71.954,
           1200206,
           2002
          ],
          [
           72.801,
           1250882,
           2007
          ],
          [
           42.87300000000001,
           9939217,
           1952
          ],
          [
           45.423,
           11406350,
           1957
          ],
          [
           47.924,
           13056604,
           1962
          ],
          [
           50.335,
           14770296,
           1967
          ],
          [
           52.862,
           16660670,
           1972
          ],
          [
           55.73,
           18396941,
           1977
          ],
          [
           59.65,
           20198730,
           1982
          ],
          [
           62.677,
           22987397,
           1987
          ],
          [
           65.393,
           25798239,
           1992
          ],
          [
           67.66,
           28529501,
           1997
          ],
          [
           69.615,
           31167783,
           2002
          ],
          [
           71.164,
           33757175,
           2007
          ],
          [
           31.286,
           6446316,
           1952
          ],
          [
           33.779,
           7038035,
           1957
          ],
          [
           36.161,
           7788944,
           1962
          ],
          [
           38.113,
           8680909,
           1967
          ],
          [
           40.328,
           9809596,
           1972
          ],
          [
           42.495,
           11127868,
           1977
          ],
          [
           42.795,
           12587223,
           1982
          ],
          [
           42.861,
           12891952,
           1987
          ],
          [
           44.284,
           13160731,
           1992
          ],
          [
           46.344,
           16603334,
           1997
          ],
          [
           44.026,
           18473780,
           2002
          ],
          [
           42.082,
           19951656,
           2007
          ],
          [
           41.725,
           485831,
           1952
          ],
          [
           45.226000000000006,
           548080,
           1957
          ],
          [
           48.386,
           621392,
           1962
          ],
          [
           51.159,
           706640,
           1967
          ],
          [
           53.867,
           821782,
           1972
          ],
          [
           56.437,
           977026,
           1977
          ],
          [
           58.968,
           1099010,
           1982
          ],
          [
           60.835,
           1278184,
           1987
          ],
          [
           61.999,
           1554253,
           1992
          ],
          [
           58.909,
           1774766,
           1997
          ],
          [
           51.479,
           1972153,
           2002
          ],
          [
           52.90600000000001,
           2055080,
           2007
          ],
          [
           37.444,
           3379468,
           1952
          ],
          [
           38.598,
           3692184,
           1957
          ],
          [
           39.487,
           4076008,
           1962
          ],
          [
           40.118,
           4534062,
           1967
          ],
          [
           40.546,
           5060262,
           1972
          ],
          [
           41.291,
           5682086,
           1977
          ],
          [
           42.598,
           6437188,
           1982
          ],
          [
           44.555,
           7332638,
           1987
          ],
          [
           47.39100000000001,
           8392818,
           1992
          ],
          [
           51.313,
           9666252,
           1997
          ],
          [
           54.496,
           11140655,
           2002
          ],
          [
           56.867,
           12894865,
           2007
          ],
          [
           36.324,
           33119096,
           1952
          ],
          [
           37.802,
           37173340,
           1957
          ],
          [
           39.36,
           41871351,
           1962
          ],
          [
           41.04,
           47287752,
           1967
          ],
          [
           42.82100000000001,
           53740085,
           1972
          ],
          [
           44.514,
           62209173,
           1977
          ],
          [
           45.826,
           73039376,
           1982
          ],
          [
           46.886,
           81551520,
           1987
          ],
          [
           47.472,
           93364244,
           1992
          ],
          [
           47.464,
           106207839,
           1997
          ],
          [
           46.608,
           119901274,
           2002
          ],
          [
           46.859,
           135031164,
           2007
          ],
          [
           52.724,
           257700,
           1952
          ],
          [
           55.09,
           308700,
           1957
          ],
          [
           57.666,
           358900,
           1962
          ],
          [
           60.542,
           414024,
           1967
          ],
          [
           64.274,
           461633,
           1972
          ],
          [
           67.064,
           492095,
           1977
          ],
          [
           69.885,
           517810,
           1982
          ],
          [
           71.913,
           562035,
           1987
          ],
          [
           73.615,
           622191,
           1992
          ],
          [
           74.77199999999998,
           684810,
           1997
          ],
          [
           75.744,
           743981,
           2002
          ],
          [
           76.442,
           798094,
           2007
          ],
          [
           40,
           2534927,
           1952
          ],
          [
           41.5,
           2822082,
           1957
          ],
          [
           43,
           3051242,
           1962
          ],
          [
           44.1,
           3451079,
           1967
          ],
          [
           44.6,
           3992121,
           1972
          ],
          [
           45,
           4657072,
           1977
          ],
          [
           46.218,
           5507565,
           1982
          ],
          [
           44.02,
           6349365,
           1987
          ],
          [
           23.599,
           7290203,
           1992
          ],
          [
           36.087,
           7212583,
           1997
          ],
          [
           43.413,
           7852401,
           2002
          ],
          [
           46.242,
           8860588,
           2007
          ],
          [
           46.471,
           60011,
           1952
          ],
          [
           48.945,
           61325,
           1957
          ],
          [
           51.893,
           65345,
           1962
          ],
          [
           54.425,
           70787,
           1967
          ],
          [
           56.48,
           76595,
           1972
          ],
          [
           58.55,
           86796,
           1977
          ],
          [
           60.351000000000006,
           98593,
           1982
          ],
          [
           61.728,
           110812,
           1987
          ],
          [
           62.742,
           125911,
           1992
          ],
          [
           63.306,
           145608,
           1997
          ],
          [
           64.337,
           170372,
           2002
          ],
          [
           65.528,
           199579,
           2007
          ],
          [
           37.278,
           2755589,
           1952
          ],
          [
           39.329,
           3054547,
           1957
          ],
          [
           41.45399999999999,
           3430243,
           1962
          ],
          [
           43.563,
           3965841,
           1967
          ],
          [
           45.815,
           4588696,
           1972
          ],
          [
           48.879,
           5260855,
           1977
          ],
          [
           52.379,
           6147783,
           1982
          ],
          [
           55.769,
           7171347,
           1987
          ],
          [
           58.19600000000001,
           8307920,
           1992
          ],
          [
           60.187,
           9535314,
           1997
          ],
          [
           61.6,
           10870037,
           2002
          ],
          [
           63.062,
           12267493,
           2007
          ],
          [
           30.331,
           2143249,
           1952
          ],
          [
           31.57,
           2295678,
           1957
          ],
          [
           32.767,
           2467895,
           1962
          ],
          [
           34.113,
           2662190,
           1967
          ],
          [
           35.4,
           2879013,
           1972
          ],
          [
           36.788,
           3140897,
           1977
          ],
          [
           38.445,
           3464522,
           1982
          ],
          [
           40.006,
           3868905,
           1987
          ],
          [
           38.333,
           4260884,
           1992
          ],
          [
           39.897,
           4578212,
           1997
          ],
          [
           41.012,
           5359092,
           2002
          ],
          [
           42.56800000000001,
           6144562,
           2007
          ],
          [
           32.978,
           2526994,
           1952
          ],
          [
           34.977,
           2780415,
           1957
          ],
          [
           36.981,
           3080153,
           1962
          ],
          [
           38.977,
           3428839,
           1967
          ],
          [
           40.973,
           3840161,
           1972
          ],
          [
           41.974,
           4353666,
           1977
          ],
          [
           42.955,
           5828892,
           1982
          ],
          [
           44.50100000000001,
           6921858,
           1987
          ],
          [
           39.658,
           6099799,
           1992
          ],
          [
           43.795,
           6633514,
           1997
          ],
          [
           45.93600000000001,
           7753310,
           2002
          ],
          [
           48.159,
           9118773,
           2007
          ],
          [
           45.00899999999999,
           14264935,
           1952
          ],
          [
           47.985,
           16151549,
           1957
          ],
          [
           49.951,
           18356657,
           1962
          ],
          [
           51.927,
           20997321,
           1967
          ],
          [
           53.69600000000001,
           23935810,
           1972
          ],
          [
           55.527,
           27129932,
           1977
          ],
          [
           58.161,
           31140029,
           1982
          ],
          [
           60.834,
           35933379,
           1987
          ],
          [
           61.88800000000001,
           39964159,
           1992
          ],
          [
           60.236,
           42835005,
           1997
          ],
          [
           53.365,
           44433622,
           2002
          ],
          [
           49.339,
           43997828,
           2007
          ],
          [
           38.635,
           8504667,
           1952
          ],
          [
           39.624,
           9753392,
           1957
          ],
          [
           40.87,
           11183227,
           1962
          ],
          [
           42.858,
           12716129,
           1967
          ],
          [
           45.083,
           14597019,
           1972
          ],
          [
           47.8,
           17104986,
           1977
          ],
          [
           50.338,
           20367053,
           1982
          ],
          [
           51.744,
           24725960,
           1987
          ],
          [
           53.556,
           28227588,
           1992
          ],
          [
           55.37300000000001,
           32160729,
           1997
          ],
          [
           56.369,
           37090298,
           2002
          ],
          [
           58.556,
           42292929,
           2007
          ],
          [
           41.407,
           290243,
           1952
          ],
          [
           43.424,
           326741,
           1957
          ],
          [
           44.992,
           370006,
           1962
          ],
          [
           46.633,
           420690,
           1967
          ],
          [
           49.552,
           480105,
           1972
          ],
          [
           52.537,
           551425,
           1977
          ],
          [
           55.56100000000001,
           649901,
           1982
          ],
          [
           57.678,
           779348,
           1987
          ],
          [
           58.474,
           962344,
           1992
          ],
          [
           54.289,
           1054486,
           1997
          ],
          [
           43.869,
           1130269,
           2002
          ],
          [
           39.613,
           1133066,
           2007
          ],
          [
           41.215,
           8322925,
           1952
          ],
          [
           42.974,
           9452826,
           1957
          ],
          [
           44.246,
           10863958,
           1962
          ],
          [
           45.757,
           12607312,
           1967
          ],
          [
           47.62,
           14706593,
           1972
          ],
          [
           49.919,
           17129565,
           1977
          ],
          [
           50.608,
           19844382,
           1982
          ],
          [
           51.535,
           23040630,
           1987
          ],
          [
           50.44,
           26605473,
           1992
          ],
          [
           48.466,
           30686889,
           1997
          ],
          [
           49.651,
           34593779,
           2002
          ],
          [
           52.517,
           38139640,
           2007
          ],
          [
           38.596,
           1219113,
           1952
          ],
          [
           41.208,
           1357445,
           1957
          ],
          [
           43.922,
           1528098,
           1962
          ],
          [
           46.769,
           1735550,
           1967
          ],
          [
           49.75899999999999,
           2056351,
           1972
          ],
          [
           52.887,
           2308582,
           1977
          ],
          [
           55.471,
           2644765,
           1982
          ],
          [
           56.941,
           3154264,
           1987
          ],
          [
           58.06100000000001,
           3747553,
           1992
          ],
          [
           58.39,
           4320890,
           1997
          ],
          [
           57.56100000000001,
           4977378,
           2002
          ],
          [
           58.42,
           5701579,
           2007
          ],
          [
           44.6,
           3647735,
           1952
          ],
          [
           47.1,
           3950849,
           1957
          ],
          [
           49.57899999999999,
           4286552,
           1962
          ],
          [
           52.053,
           4786986,
           1967
          ],
          [
           55.602,
           5303507,
           1972
          ],
          [
           59.837,
           6005061,
           1977
          ],
          [
           64.048,
           6734098,
           1982
          ],
          [
           66.89399999999999,
           7724976,
           1987
          ],
          [
           70.001,
           8523077,
           1992
          ],
          [
           71.973,
           9231669,
           1997
          ],
          [
           73.042,
           9770575,
           2002
          ],
          [
           73.923,
           10276158,
           2007
          ],
          [
           39.978,
           5824797,
           1952
          ],
          [
           42.57100000000001,
           6675501,
           1957
          ],
          [
           45.344,
           7688797,
           1962
          ],
          [
           48.051,
           8900294,
           1967
          ],
          [
           51.01600000000001,
           10190285,
           1972
          ],
          [
           50.35,
           11457758,
           1977
          ],
          [
           49.849,
           12939400,
           1982
          ],
          [
           51.50899999999999,
           15283050,
           1987
          ],
          [
           48.825,
           18252190,
           1992
          ],
          [
           44.578,
           21210254,
           1997
          ],
          [
           47.813,
           24739869,
           2002
          ],
          [
           51.542,
           29170398,
           2007
          ],
          [
           42.038,
           2672000,
           1952
          ],
          [
           44.077,
           3016000,
           1957
          ],
          [
           46.023,
           3421000,
           1962
          ],
          [
           47.768,
           3900000,
           1967
          ],
          [
           50.107,
           4506497,
           1972
          ],
          [
           51.386,
           5216550,
           1977
          ],
          [
           51.82100000000001,
           6100407,
           1982
          ],
          [
           50.82100000000001,
           7272406,
           1987
          ],
          [
           46.1,
           8381163,
           1992
          ],
          [
           40.238,
           9417789,
           1997
          ],
          [
           39.19300000000001,
           10595811,
           2002
          ],
          [
           42.38399999999999,
           11746035,
           2007
          ],
          [
           48.451,
           3080907,
           1952
          ],
          [
           50.469,
           3646340,
           1957
          ],
          [
           52.358,
           4277736,
           1962
          ],
          [
           53.995,
           4995432,
           1967
          ],
          [
           55.635,
           5861135,
           1972
          ],
          [
           57.674,
           6642107,
           1977
          ],
          [
           60.363,
           7636524,
           1982
          ],
          [
           62.351000000000006,
           9216418,
           1987
          ],
          [
           60.377,
           10704340,
           1992
          ],
          [
           46.809,
           11404948,
           1997
          ],
          [
           39.989,
           11926563,
           2002
          ],
          [
           43.487,
           12311143,
           2007
          ]
         ],
         "geo": "geo",
         "hovertemplate": "<b>%{hovertext}</b><br><br>continent=Africa<br>iso_alpha=%{location}<br>lifeExp=%{customdata[0]}<br>pop=%{customdata[1]}<br>year=%{customdata[2]}<extra></extra>",
         "hovertext": [
          "Algeria",
          "Algeria",
          "Algeria",
          "Algeria",
          "Algeria",
          "Algeria",
          "Algeria",
          "Algeria",
          "Algeria",
          "Algeria",
          "Algeria",
          "Algeria",
          "Angola",
          "Angola",
          "Angola",
          "Angola",
          "Angola",
          "Angola",
          "Angola",
          "Angola",
          "Angola",
          "Angola",
          "Angola",
          "Angola",
          "Benin",
          "Benin",
          "Benin",
          "Benin",
          "Benin",
          "Benin",
          "Benin",
          "Benin",
          "Benin",
          "Benin",
          "Benin",
          "Benin",
          "Botswana",
          "Botswana",
          "Botswana",
          "Botswana",
          "Botswana",
          "Botswana",
          "Botswana",
          "Botswana",
          "Botswana",
          "Botswana",
          "Botswana",
          "Botswana",
          "Burkina Faso",
          "Burkina Faso",
          "Burkina Faso",
          "Burkina Faso",
          "Burkina Faso",
          "Burkina Faso",
          "Burkina Faso",
          "Burkina Faso",
          "Burkina Faso",
          "Burkina Faso",
          "Burkina Faso",
          "Burkina Faso",
          "Burundi",
          "Burundi",
          "Burundi",
          "Burundi",
          "Burundi",
          "Burundi",
          "Burundi",
          "Burundi",
          "Burundi",
          "Burundi",
          "Burundi",
          "Burundi",
          "Cameroon",
          "Cameroon",
          "Cameroon",
          "Cameroon",
          "Cameroon",
          "Cameroon",
          "Cameroon",
          "Cameroon",
          "Cameroon",
          "Cameroon",
          "Cameroon",
          "Cameroon",
          "Central African Republic",
          "Central African Republic",
          "Central African Republic",
          "Central African Republic",
          "Central African Republic",
          "Central African Republic",
          "Central African Republic",
          "Central African Republic",
          "Central African Republic",
          "Central African Republic",
          "Central African Republic",
          "Central African Republic",
          "Chad",
          "Chad",
          "Chad",
          "Chad",
          "Chad",
          "Chad",
          "Chad",
          "Chad",
          "Chad",
          "Chad",
          "Chad",
          "Chad",
          "Comoros",
          "Comoros",
          "Comoros",
          "Comoros",
          "Comoros",
          "Comoros",
          "Comoros",
          "Comoros",
          "Comoros",
          "Comoros",
          "Comoros",
          "Comoros",
          "Congo, Dem. Rep.",
          "Congo, Dem. Rep.",
          "Congo, Dem. Rep.",
          "Congo, Dem. Rep.",
          "Congo, Dem. Rep.",
          "Congo, Dem. Rep.",
          "Congo, Dem. Rep.",
          "Congo, Dem. Rep.",
          "Congo, Dem. Rep.",
          "Congo, Dem. Rep.",
          "Congo, Dem. Rep.",
          "Congo, Dem. Rep.",
          "Congo, Rep.",
          "Congo, Rep.",
          "Congo, Rep.",
          "Congo, Rep.",
          "Congo, Rep.",
          "Congo, Rep.",
          "Congo, Rep.",
          "Congo, Rep.",
          "Congo, Rep.",
          "Congo, Rep.",
          "Congo, Rep.",
          "Congo, Rep.",
          "Cote d'Ivoire",
          "Cote d'Ivoire",
          "Cote d'Ivoire",
          "Cote d'Ivoire",
          "Cote d'Ivoire",
          "Cote d'Ivoire",
          "Cote d'Ivoire",
          "Cote d'Ivoire",
          "Cote d'Ivoire",
          "Cote d'Ivoire",
          "Cote d'Ivoire",
          "Cote d'Ivoire",
          "Djibouti",
          "Djibouti",
          "Djibouti",
          "Djibouti",
          "Djibouti",
          "Djibouti",
          "Djibouti",
          "Djibouti",
          "Djibouti",
          "Djibouti",
          "Djibouti",
          "Djibouti",
          "Egypt",
          "Egypt",
          "Egypt",
          "Egypt",
          "Egypt",
          "Egypt",
          "Egypt",
          "Egypt",
          "Egypt",
          "Egypt",
          "Egypt",
          "Egypt",
          "Equatorial Guinea",
          "Equatorial Guinea",
          "Equatorial Guinea",
          "Equatorial Guinea",
          "Equatorial Guinea",
          "Equatorial Guinea",
          "Equatorial Guinea",
          "Equatorial Guinea",
          "Equatorial Guinea",
          "Equatorial Guinea",
          "Equatorial Guinea",
          "Equatorial Guinea",
          "Eritrea",
          "Eritrea",
          "Eritrea",
          "Eritrea",
          "Eritrea",
          "Eritrea",
          "Eritrea",
          "Eritrea",
          "Eritrea",
          "Eritrea",
          "Eritrea",
          "Eritrea",
          "Ethiopia",
          "Ethiopia",
          "Ethiopia",
          "Ethiopia",
          "Ethiopia",
          "Ethiopia",
          "Ethiopia",
          "Ethiopia",
          "Ethiopia",
          "Ethiopia",
          "Ethiopia",
          "Ethiopia",
          "Gabon",
          "Gabon",
          "Gabon",
          "Gabon",
          "Gabon",
          "Gabon",
          "Gabon",
          "Gabon",
          "Gabon",
          "Gabon",
          "Gabon",
          "Gabon",
          "Gambia",
          "Gambia",
          "Gambia",
          "Gambia",
          "Gambia",
          "Gambia",
          "Gambia",
          "Gambia",
          "Gambia",
          "Gambia",
          "Gambia",
          "Gambia",
          "Ghana",
          "Ghana",
          "Ghana",
          "Ghana",
          "Ghana",
          "Ghana",
          "Ghana",
          "Ghana",
          "Ghana",
          "Ghana",
          "Ghana",
          "Ghana",
          "Guinea",
          "Guinea",
          "Guinea",
          "Guinea",
          "Guinea",
          "Guinea",
          "Guinea",
          "Guinea",
          "Guinea",
          "Guinea",
          "Guinea",
          "Guinea",
          "Guinea-Bissau",
          "Guinea-Bissau",
          "Guinea-Bissau",
          "Guinea-Bissau",
          "Guinea-Bissau",
          "Guinea-Bissau",
          "Guinea-Bissau",
          "Guinea-Bissau",
          "Guinea-Bissau",
          "Guinea-Bissau",
          "Guinea-Bissau",
          "Guinea-Bissau",
          "Kenya",
          "Kenya",
          "Kenya",
          "Kenya",
          "Kenya",
          "Kenya",
          "Kenya",
          "Kenya",
          "Kenya",
          "Kenya",
          "Kenya",
          "Kenya",
          "Lesotho",
          "Lesotho",
          "Lesotho",
          "Lesotho",
          "Lesotho",
          "Lesotho",
          "Lesotho",
          "Lesotho",
          "Lesotho",
          "Lesotho",
          "Lesotho",
          "Lesotho",
          "Liberia",
          "Liberia",
          "Liberia",
          "Liberia",
          "Liberia",
          "Liberia",
          "Liberia",
          "Liberia",
          "Liberia",
          "Liberia",
          "Liberia",
          "Liberia",
          "Libya",
          "Libya",
          "Libya",
          "Libya",
          "Libya",
          "Libya",
          "Libya",
          "Libya",
          "Libya",
          "Libya",
          "Libya",
          "Libya",
          "Madagascar",
          "Madagascar",
          "Madagascar",
          "Madagascar",
          "Madagascar",
          "Madagascar",
          "Madagascar",
          "Madagascar",
          "Madagascar",
          "Madagascar",
          "Madagascar",
          "Madagascar",
          "Malawi",
          "Malawi",
          "Malawi",
          "Malawi",
          "Malawi",
          "Malawi",
          "Malawi",
          "Malawi",
          "Malawi",
          "Malawi",
          "Malawi",
          "Malawi",
          "Mali",
          "Mali",
          "Mali",
          "Mali",
          "Mali",
          "Mali",
          "Mali",
          "Mali",
          "Mali",
          "Mali",
          "Mali",
          "Mali",
          "Mauritania",
          "Mauritania",
          "Mauritania",
          "Mauritania",
          "Mauritania",
          "Mauritania",
          "Mauritania",
          "Mauritania",
          "Mauritania",
          "Mauritania",
          "Mauritania",
          "Mauritania",
          "Mauritius",
          "Mauritius",
          "Mauritius",
          "Mauritius",
          "Mauritius",
          "Mauritius",
          "Mauritius",
          "Mauritius",
          "Mauritius",
          "Mauritius",
          "Mauritius",
          "Mauritius",
          "Morocco",
          "Morocco",
          "Morocco",
          "Morocco",
          "Morocco",
          "Morocco",
          "Morocco",
          "Morocco",
          "Morocco",
          "Morocco",
          "Morocco",
          "Morocco",
          "Mozambique",
          "Mozambique",
          "Mozambique",
          "Mozambique",
          "Mozambique",
          "Mozambique",
          "Mozambique",
          "Mozambique",
          "Mozambique",
          "Mozambique",
          "Mozambique",
          "Mozambique",
          "Namibia",
          "Namibia",
          "Namibia",
          "Namibia",
          "Namibia",
          "Namibia",
          "Namibia",
          "Namibia",
          "Namibia",
          "Namibia",
          "Namibia",
          "Namibia",
          "Niger",
          "Niger",
          "Niger",
          "Niger",
          "Niger",
          "Niger",
          "Niger",
          "Niger",
          "Niger",
          "Niger",
          "Niger",
          "Niger",
          "Nigeria",
          "Nigeria",
          "Nigeria",
          "Nigeria",
          "Nigeria",
          "Nigeria",
          "Nigeria",
          "Nigeria",
          "Nigeria",
          "Nigeria",
          "Nigeria",
          "Nigeria",
          "Reunion",
          "Reunion",
          "Reunion",
          "Reunion",
          "Reunion",
          "Reunion",
          "Reunion",
          "Reunion",
          "Reunion",
          "Reunion",
          "Reunion",
          "Reunion",
          "Rwanda",
          "Rwanda",
          "Rwanda",
          "Rwanda",
          "Rwanda",
          "Rwanda",
          "Rwanda",
          "Rwanda",
          "Rwanda",
          "Rwanda",
          "Rwanda",
          "Rwanda",
          "Sao Tome and Principe",
          "Sao Tome and Principe",
          "Sao Tome and Principe",
          "Sao Tome and Principe",
          "Sao Tome and Principe",
          "Sao Tome and Principe",
          "Sao Tome and Principe",
          "Sao Tome and Principe",
          "Sao Tome and Principe",
          "Sao Tome and Principe",
          "Sao Tome and Principe",
          "Sao Tome and Principe",
          "Senegal",
          "Senegal",
          "Senegal",
          "Senegal",
          "Senegal",
          "Senegal",
          "Senegal",
          "Senegal",
          "Senegal",
          "Senegal",
          "Senegal",
          "Senegal",
          "Sierra Leone",
          "Sierra Leone",
          "Sierra Leone",
          "Sierra Leone",
          "Sierra Leone",
          "Sierra Leone",
          "Sierra Leone",
          "Sierra Leone",
          "Sierra Leone",
          "Sierra Leone",
          "Sierra Leone",
          "Sierra Leone",
          "Somalia",
          "Somalia",
          "Somalia",
          "Somalia",
          "Somalia",
          "Somalia",
          "Somalia",
          "Somalia",
          "Somalia",
          "Somalia",
          "Somalia",
          "Somalia",
          "South Africa",
          "South Africa",
          "South Africa",
          "South Africa",
          "South Africa",
          "South Africa",
          "South Africa",
          "South Africa",
          "South Africa",
          "South Africa",
          "South Africa",
          "South Africa",
          "Sudan",
          "Sudan",
          "Sudan",
          "Sudan",
          "Sudan",
          "Sudan",
          "Sudan",
          "Sudan",
          "Sudan",
          "Sudan",
          "Sudan",
          "Sudan",
          "Swaziland",
          "Swaziland",
          "Swaziland",
          "Swaziland",
          "Swaziland",
          "Swaziland",
          "Swaziland",
          "Swaziland",
          "Swaziland",
          "Swaziland",
          "Swaziland",
          "Swaziland",
          "Tanzania",
          "Tanzania",
          "Tanzania",
          "Tanzania",
          "Tanzania",
          "Tanzania",
          "Tanzania",
          "Tanzania",
          "Tanzania",
          "Tanzania",
          "Tanzania",
          "Tanzania",
          "Togo",
          "Togo",
          "Togo",
          "Togo",
          "Togo",
          "Togo",
          "Togo",
          "Togo",
          "Togo",
          "Togo",
          "Togo",
          "Togo",
          "Tunisia",
          "Tunisia",
          "Tunisia",
          "Tunisia",
          "Tunisia",
          "Tunisia",
          "Tunisia",
          "Tunisia",
          "Tunisia",
          "Tunisia",
          "Tunisia",
          "Tunisia",
          "Uganda",
          "Uganda",
          "Uganda",
          "Uganda",
          "Uganda",
          "Uganda",
          "Uganda",
          "Uganda",
          "Uganda",
          "Uganda",
          "Uganda",
          "Uganda",
          "Zambia",
          "Zambia",
          "Zambia",
          "Zambia",
          "Zambia",
          "Zambia",
          "Zambia",
          "Zambia",
          "Zambia",
          "Zambia",
          "Zambia",
          "Zambia",
          "Zimbabwe",
          "Zimbabwe",
          "Zimbabwe",
          "Zimbabwe",
          "Zimbabwe",
          "Zimbabwe",
          "Zimbabwe",
          "Zimbabwe",
          "Zimbabwe",
          "Zimbabwe",
          "Zimbabwe",
          "Zimbabwe"
         ],
         "legendgroup": "Africa",
         "locations": [
          "DZA",
          "DZA",
          "DZA",
          "DZA",
          "DZA",
          "DZA",
          "DZA",
          "DZA",
          "DZA",
          "DZA",
          "DZA",
          "DZA",
          "AGO",
          "AGO",
          "AGO",
          "AGO",
          "AGO",
          "AGO",
          "AGO",
          "AGO",
          "AGO",
          "AGO",
          "AGO",
          "AGO",
          "BEN",
          "BEN",
          "BEN",
          "BEN",
          "BEN",
          "BEN",
          "BEN",
          "BEN",
          "BEN",
          "BEN",
          "BEN",
          "BEN",
          "BWA",
          "BWA",
          "BWA",
          "BWA",
          "BWA",
          "BWA",
          "BWA",
          "BWA",
          "BWA",
          "BWA",
          "BWA",
          "BWA",
          "BFA",
          "BFA",
          "BFA",
          "BFA",
          "BFA",
          "BFA",
          "BFA",
          "BFA",
          "BFA",
          "BFA",
          "BFA",
          "BFA",
          "BDI",
          "BDI",
          "BDI",
          "BDI",
          "BDI",
          "BDI",
          "BDI",
          "BDI",
          "BDI",
          "BDI",
          "BDI",
          "BDI",
          "CMR",
          "CMR",
          "CMR",
          "CMR",
          "CMR",
          "CMR",
          "CMR",
          "CMR",
          "CMR",
          "CMR",
          "CMR",
          "CMR",
          "CAF",
          "CAF",
          "CAF",
          "CAF",
          "CAF",
          "CAF",
          "CAF",
          "CAF",
          "CAF",
          "CAF",
          "CAF",
          "CAF",
          "TCD",
          "TCD",
          "TCD",
          "TCD",
          "TCD",
          "TCD",
          "TCD",
          "TCD",
          "TCD",
          "TCD",
          "TCD",
          "TCD",
          "COM",
          "COM",
          "COM",
          "COM",
          "COM",
          "COM",
          "COM",
          "COM",
          "COM",
          "COM",
          "COM",
          "COM",
          "COD",
          "COD",
          "COD",
          "COD",
          "COD",
          "COD",
          "COD",
          "COD",
          "COD",
          "COD",
          "COD",
          "COD",
          "COG",
          "COG",
          "COG",
          "COG",
          "COG",
          "COG",
          "COG",
          "COG",
          "COG",
          "COG",
          "COG",
          "COG",
          "CIV",
          "CIV",
          "CIV",
          "CIV",
          "CIV",
          "CIV",
          "CIV",
          "CIV",
          "CIV",
          "CIV",
          "CIV",
          "CIV",
          "DJI",
          "DJI",
          "DJI",
          "DJI",
          "DJI",
          "DJI",
          "DJI",
          "DJI",
          "DJI",
          "DJI",
          "DJI",
          "DJI",
          "EGY",
          "EGY",
          "EGY",
          "EGY",
          "EGY",
          "EGY",
          "EGY",
          "EGY",
          "EGY",
          "EGY",
          "EGY",
          "EGY",
          "GNQ",
          "GNQ",
          "GNQ",
          "GNQ",
          "GNQ",
          "GNQ",
          "GNQ",
          "GNQ",
          "GNQ",
          "GNQ",
          "GNQ",
          "GNQ",
          "ERI",
          "ERI",
          "ERI",
          "ERI",
          "ERI",
          "ERI",
          "ERI",
          "ERI",
          "ERI",
          "ERI",
          "ERI",
          "ERI",
          "ETH",
          "ETH",
          "ETH",
          "ETH",
          "ETH",
          "ETH",
          "ETH",
          "ETH",
          "ETH",
          "ETH",
          "ETH",
          "ETH",
          "GAB",
          "GAB",
          "GAB",
          "GAB",
          "GAB",
          "GAB",
          "GAB",
          "GAB",
          "GAB",
          "GAB",
          "GAB",
          "GAB",
          "GMB",
          "GMB",
          "GMB",
          "GMB",
          "GMB",
          "GMB",
          "GMB",
          "GMB",
          "GMB",
          "GMB",
          "GMB",
          "GMB",
          "GHA",
          "GHA",
          "GHA",
          "GHA",
          "GHA",
          "GHA",
          "GHA",
          "GHA",
          "GHA",
          "GHA",
          "GHA",
          "GHA",
          "GIN",
          "GIN",
          "GIN",
          "GIN",
          "GIN",
          "GIN",
          "GIN",
          "GIN",
          "GIN",
          "GIN",
          "GIN",
          "GIN",
          "GNB",
          "GNB",
          "GNB",
          "GNB",
          "GNB",
          "GNB",
          "GNB",
          "GNB",
          "GNB",
          "GNB",
          "GNB",
          "GNB",
          "KEN",
          "KEN",
          "KEN",
          "KEN",
          "KEN",
          "KEN",
          "KEN",
          "KEN",
          "KEN",
          "KEN",
          "KEN",
          "KEN",
          "LSO",
          "LSO",
          "LSO",
          "LSO",
          "LSO",
          "LSO",
          "LSO",
          "LSO",
          "LSO",
          "LSO",
          "LSO",
          "LSO",
          "LBR",
          "LBR",
          "LBR",
          "LBR",
          "LBR",
          "LBR",
          "LBR",
          "LBR",
          "LBR",
          "LBR",
          "LBR",
          "LBR",
          "LBY",
          "LBY",
          "LBY",
          "LBY",
          "LBY",
          "LBY",
          "LBY",
          "LBY",
          "LBY",
          "LBY",
          "LBY",
          "LBY",
          "MDG",
          "MDG",
          "MDG",
          "MDG",
          "MDG",
          "MDG",
          "MDG",
          "MDG",
          "MDG",
          "MDG",
          "MDG",
          "MDG",
          "MWI",
          "MWI",
          "MWI",
          "MWI",
          "MWI",
          "MWI",
          "MWI",
          "MWI",
          "MWI",
          "MWI",
          "MWI",
          "MWI",
          "MLI",
          "MLI",
          "MLI",
          "MLI",
          "MLI",
          "MLI",
          "MLI",
          "MLI",
          "MLI",
          "MLI",
          "MLI",
          "MLI",
          "MRT",
          "MRT",
          "MRT",
          "MRT",
          "MRT",
          "MRT",
          "MRT",
          "MRT",
          "MRT",
          "MRT",
          "MRT",
          "MRT",
          "MUS",
          "MUS",
          "MUS",
          "MUS",
          "MUS",
          "MUS",
          "MUS",
          "MUS",
          "MUS",
          "MUS",
          "MUS",
          "MUS",
          "MAR",
          "MAR",
          "MAR",
          "MAR",
          "MAR",
          "MAR",
          "MAR",
          "MAR",
          "MAR",
          "MAR",
          "MAR",
          "MAR",
          "MOZ",
          "MOZ",
          "MOZ",
          "MOZ",
          "MOZ",
          "MOZ",
          "MOZ",
          "MOZ",
          "MOZ",
          "MOZ",
          "MOZ",
          "MOZ",
          "NAM",
          "NAM",
          "NAM",
          "NAM",
          "NAM",
          "NAM",
          "NAM",
          "NAM",
          "NAM",
          "NAM",
          "NAM",
          "NAM",
          "NER",
          "NER",
          "NER",
          "NER",
          "NER",
          "NER",
          "NER",
          "NER",
          "NER",
          "NER",
          "NER",
          "NER",
          "NGA",
          "NGA",
          "NGA",
          "NGA",
          "NGA",
          "NGA",
          "NGA",
          "NGA",
          "NGA",
          "NGA",
          "NGA",
          "NGA",
          "REU",
          "REU",
          "REU",
          "REU",
          "REU",
          "REU",
          "REU",
          "REU",
          "REU",
          "REU",
          "REU",
          "REU",
          "RWA",
          "RWA",
          "RWA",
          "RWA",
          "RWA",
          "RWA",
          "RWA",
          "RWA",
          "RWA",
          "RWA",
          "RWA",
          "RWA",
          "STP",
          "STP",
          "STP",
          "STP",
          "STP",
          "STP",
          "STP",
          "STP",
          "STP",
          "STP",
          "STP",
          "STP",
          "SEN",
          "SEN",
          "SEN",
          "SEN",
          "SEN",
          "SEN",
          "SEN",
          "SEN",
          "SEN",
          "SEN",
          "SEN",
          "SEN",
          "SLE",
          "SLE",
          "SLE",
          "SLE",
          "SLE",
          "SLE",
          "SLE",
          "SLE",
          "SLE",
          "SLE",
          "SLE",
          "SLE",
          "SOM",
          "SOM",
          "SOM",
          "SOM",
          "SOM",
          "SOM",
          "SOM",
          "SOM",
          "SOM",
          "SOM",
          "SOM",
          "SOM",
          "ZAF",
          "ZAF",
          "ZAF",
          "ZAF",
          "ZAF",
          "ZAF",
          "ZAF",
          "ZAF",
          "ZAF",
          "ZAF",
          "ZAF",
          "ZAF",
          "SDN",
          "SDN",
          "SDN",
          "SDN",
          "SDN",
          "SDN",
          "SDN",
          "SDN",
          "SDN",
          "SDN",
          "SDN",
          "SDN",
          "SWZ",
          "SWZ",
          "SWZ",
          "SWZ",
          "SWZ",
          "SWZ",
          "SWZ",
          "SWZ",
          "SWZ",
          "SWZ",
          "SWZ",
          "SWZ",
          "TZA",
          "TZA",
          "TZA",
          "TZA",
          "TZA",
          "TZA",
          "TZA",
          "TZA",
          "TZA",
          "TZA",
          "TZA",
          "TZA",
          "TGO",
          "TGO",
          "TGO",
          "TGO",
          "TGO",
          "TGO",
          "TGO",
          "TGO",
          "TGO",
          "TGO",
          "TGO",
          "TGO",
          "TUN",
          "TUN",
          "TUN",
          "TUN",
          "TUN",
          "TUN",
          "TUN",
          "TUN",
          "TUN",
          "TUN",
          "TUN",
          "TUN",
          "UGA",
          "UGA",
          "UGA",
          "UGA",
          "UGA",
          "UGA",
          "UGA",
          "UGA",
          "UGA",
          "UGA",
          "UGA",
          "UGA",
          "ZMB",
          "ZMB",
          "ZMB",
          "ZMB",
          "ZMB",
          "ZMB",
          "ZMB",
          "ZMB",
          "ZMB",
          "ZMB",
          "ZMB",
          "ZMB",
          "ZWE",
          "ZWE",
          "ZWE",
          "ZWE",
          "ZWE",
          "ZWE",
          "ZWE",
          "ZWE",
          "ZWE",
          "ZWE",
          "ZWE",
          "ZWE"
         ],
         "marker": {
          "color": "#00cc96",
          "opacity": 0.8,
          "symbol": "circle"
         },
         "mode": "markers",
         "name": "Africa",
         "showlegend": true,
         "type": "scattergeo"
        },
        {
         "customdata": [
          [
           62.485,
           17876956,
           1952
          ],
          [
           64.399,
           19610538,
           1957
          ],
          [
           65.142,
           21283783,
           1962
          ],
          [
           65.634,
           22934225,
           1967
          ],
          [
           67.065,
           24779799,
           1972
          ],
          [
           68.48100000000001,
           26983828,
           1977
          ],
          [
           69.942,
           29341374,
           1982
          ],
          [
           70.774,
           31620918,
           1987
          ],
          [
           71.868,
           33958947,
           1992
          ],
          [
           73.275,
           36203463,
           1997
          ],
          [
           74.34,
           38331121,
           2002
          ],
          [
           75.32,
           40301927,
           2007
          ],
          [
           40.414,
           2883315,
           1952
          ],
          [
           41.89,
           3211738,
           1957
          ],
          [
           43.428,
           3593918,
           1962
          ],
          [
           45.032,
           4040665,
           1967
          ],
          [
           46.714,
           4565872,
           1972
          ],
          [
           50.023,
           5079716,
           1977
          ],
          [
           53.859,
           5642224,
           1982
          ],
          [
           57.25100000000001,
           6156369,
           1987
          ],
          [
           59.957,
           6893451,
           1992
          ],
          [
           62.05,
           7693188,
           1997
          ],
          [
           63.883,
           8445134,
           2002
          ],
          [
           65.554,
           9119152,
           2007
          ],
          [
           50.917,
           56602560,
           1952
          ],
          [
           53.285,
           65551171,
           1957
          ],
          [
           55.665,
           76039390,
           1962
          ],
          [
           57.632,
           88049823,
           1967
          ],
          [
           59.504,
           100840058,
           1972
          ],
          [
           61.489,
           114313951,
           1977
          ],
          [
           63.33600000000001,
           128962939,
           1982
          ],
          [
           65.205,
           142938076,
           1987
          ],
          [
           67.057,
           155975974,
           1992
          ],
          [
           69.388,
           168546719,
           1997
          ],
          [
           71.006,
           179914212,
           2002
          ],
          [
           72.39,
           190010647,
           2007
          ],
          [
           68.75,
           14785584,
           1952
          ],
          [
           69.96,
           17010154,
           1957
          ],
          [
           71.3,
           18985849,
           1962
          ],
          [
           72.13,
           20819767,
           1967
          ],
          [
           72.88,
           22284500,
           1972
          ],
          [
           74.21,
           23796400,
           1977
          ],
          [
           75.76,
           25201900,
           1982
          ],
          [
           76.86,
           26549700,
           1987
          ],
          [
           77.95,
           28523502,
           1992
          ],
          [
           78.61,
           30305843,
           1997
          ],
          [
           79.77,
           31902268,
           2002
          ],
          [
           80.653,
           33390141,
           2007
          ],
          [
           54.745,
           6377619,
           1952
          ],
          [
           56.074,
           7048426,
           1957
          ],
          [
           57.924,
           7961258,
           1962
          ],
          [
           60.523,
           8858908,
           1967
          ],
          [
           63.441,
           9717524,
           1972
          ],
          [
           67.05199999999999,
           10599793,
           1977
          ],
          [
           70.565,
           11487112,
           1982
          ],
          [
           72.492,
           12463354,
           1987
          ],
          [
           74.126,
           13572994,
           1992
          ],
          [
           75.816,
           14599929,
           1997
          ],
          [
           77.86,
           15497046,
           2002
          ],
          [
           78.553,
           16284741,
           2007
          ],
          [
           50.643,
           12350771,
           1952
          ],
          [
           55.118,
           14485993,
           1957
          ],
          [
           57.863,
           17009885,
           1962
          ],
          [
           59.963,
           19764027,
           1967
          ],
          [
           61.62300000000001,
           22542890,
           1972
          ],
          [
           63.837,
           25094412,
           1977
          ],
          [
           66.653,
           27764644,
           1982
          ],
          [
           67.768,
           30964245,
           1987
          ],
          [
           68.421,
           34202721,
           1992
          ],
          [
           70.313,
           37657830,
           1997
          ],
          [
           71.682,
           41008227,
           2002
          ],
          [
           72.889,
           44227550,
           2007
          ],
          [
           57.206,
           926317,
           1952
          ],
          [
           60.026,
           1112300,
           1957
          ],
          [
           62.842,
           1345187,
           1962
          ],
          [
           65.42399999999999,
           1588717,
           1967
          ],
          [
           67.84899999999999,
           1834796,
           1972
          ],
          [
           70.75,
           2108457,
           1977
          ],
          [
           73.45,
           2424367,
           1982
          ],
          [
           74.752,
           2799811,
           1987
          ],
          [
           75.71300000000002,
           3173216,
           1992
          ],
          [
           77.26,
           3518107,
           1997
          ],
          [
           78.123,
           3834934,
           2002
          ],
          [
           78.782,
           4133884,
           2007
          ],
          [
           59.42100000000001,
           6007797,
           1952
          ],
          [
           62.325,
           6640752,
           1957
          ],
          [
           65.24600000000001,
           7254373,
           1962
          ],
          [
           68.29,
           8139332,
           1967
          ],
          [
           70.723,
           8831348,
           1972
          ],
          [
           72.649,
           9537988,
           1977
          ],
          [
           73.717,
           9789224,
           1982
          ],
          [
           74.17399999999998,
           10239839,
           1987
          ],
          [
           74.414,
           10723260,
           1992
          ],
          [
           76.15100000000002,
           10983007,
           1997
          ],
          [
           77.158,
           11226999,
           2002
          ],
          [
           78.273,
           11416987,
           2007
          ],
          [
           45.928,
           2491346,
           1952
          ],
          [
           49.828,
           2923186,
           1957
          ],
          [
           53.459,
           3453434,
           1962
          ],
          [
           56.75100000000001,
           4049146,
           1967
          ],
          [
           59.631,
           4671329,
           1972
          ],
          [
           61.788,
           5302800,
           1977
          ],
          [
           63.727,
           5968349,
           1982
          ],
          [
           66.046,
           6655297,
           1987
          ],
          [
           68.457,
           7351181,
           1992
          ],
          [
           69.957,
           7992357,
           1997
          ],
          [
           70.847,
           8650322,
           2002
          ],
          [
           72.235,
           9319622,
           2007
          ],
          [
           48.357,
           3548753,
           1952
          ],
          [
           51.356,
           4058385,
           1957
          ],
          [
           54.64,
           4681707,
           1962
          ],
          [
           56.678,
           5432424,
           1967
          ],
          [
           58.79600000000001,
           6298651,
           1972
          ],
          [
           61.31,
           7278866,
           1977
          ],
          [
           64.342,
           8365850,
           1982
          ],
          [
           67.23100000000001,
           9545158,
           1987
          ],
          [
           69.613,
           10748394,
           1992
          ],
          [
           72.312,
           11911819,
           1997
          ],
          [
           74.173,
           12921234,
           2002
          ],
          [
           74.994,
           13755680,
           2007
          ],
          [
           45.262,
           2042865,
           1952
          ],
          [
           48.57,
           2355805,
           1957
          ],
          [
           52.307,
           2747687,
           1962
          ],
          [
           55.855,
           3232927,
           1967
          ],
          [
           58.207,
           3790903,
           1972
          ],
          [
           56.69600000000001,
           4282586,
           1977
          ],
          [
           56.604,
           4474873,
           1982
          ],
          [
           63.154,
           4842194,
           1987
          ],
          [
           66.798,
           5274649,
           1992
          ],
          [
           69.535,
           5783439,
           1997
          ],
          [
           70.734,
           6353681,
           2002
          ],
          [
           71.878,
           6939688,
           2007
          ],
          [
           42.023,
           3146381,
           1952
          ],
          [
           44.142,
           3640876,
           1957
          ],
          [
           46.95399999999999,
           4208858,
           1962
          ],
          [
           50.01600000000001,
           4690773,
           1967
          ],
          [
           53.738,
           5149581,
           1972
          ],
          [
           56.029,
           5703430,
           1977
          ],
          [
           58.137,
           6395630,
           1982
          ],
          [
           60.782,
           7326406,
           1987
          ],
          [
           63.37300000000001,
           8486949,
           1992
          ],
          [
           66.322,
           9803875,
           1997
          ],
          [
           68.97800000000001,
           11178650,
           2002
          ],
          [
           70.259,
           12572928,
           2007
          ],
          [
           37.579,
           3201488,
           1952
          ],
          [
           40.696,
           3507701,
           1957
          ],
          [
           43.59,
           3880130,
           1962
          ],
          [
           46.243,
           4318137,
           1967
          ],
          [
           48.042,
           4698301,
           1972
          ],
          [
           49.923,
           4908554,
           1977
          ],
          [
           51.46100000000001,
           5198399,
           1982
          ],
          [
           53.636,
           5756203,
           1987
          ],
          [
           55.089,
           6326682,
           1992
          ],
          [
           56.67100000000001,
           6913545,
           1997
          ],
          [
           58.137,
           7607651,
           2002
          ],
          [
           60.916,
           8502814,
           2007
          ],
          [
           41.912,
           1517453,
           1952
          ],
          [
           44.665,
           1770390,
           1957
          ],
          [
           48.041,
           2090162,
           1962
          ],
          [
           50.924,
           2500689,
           1967
          ],
          [
           53.88399999999999,
           2965146,
           1972
          ],
          [
           57.402,
           3055235,
           1977
          ],
          [
           60.909,
           3669448,
           1982
          ],
          [
           64.492,
           4372203,
           1987
          ],
          [
           66.399,
           5077347,
           1992
          ],
          [
           67.65899999999999,
           5867957,
           1997
          ],
          [
           68.565,
           6677328,
           2002
          ],
          [
           70.19800000000001,
           7483763,
           2007
          ],
          [
           58.53,
           1426095,
           1952
          ],
          [
           62.61,
           1535090,
           1957
          ],
          [
           65.61,
           1665128,
           1962
          ],
          [
           67.51,
           1861096,
           1967
          ],
          [
           69,
           1997616,
           1972
          ],
          [
           70.11,
           2156814,
           1977
          ],
          [
           71.21,
           2298309,
           1982
          ],
          [
           71.77,
           2326606,
           1987
          ],
          [
           71.766,
           2378618,
           1992
          ],
          [
           72.262,
           2531311,
           1997
          ],
          [
           72.047,
           2664659,
           2002
          ],
          [
           72.567,
           2780132,
           2007
          ],
          [
           50.789,
           30144317,
           1952
          ],
          [
           55.19,
           35015548,
           1957
          ],
          [
           58.299,
           41121485,
           1962
          ],
          [
           60.11,
           47995559,
           1967
          ],
          [
           62.361,
           55984294,
           1972
          ],
          [
           65.032,
           63759976,
           1977
          ],
          [
           67.405,
           71640904,
           1982
          ],
          [
           69.498,
           80122492,
           1987
          ],
          [
           71.455,
           88111030,
           1992
          ],
          [
           73.67,
           95895146,
           1997
          ],
          [
           74.902,
           102479927,
           2002
          ],
          [
           76.195,
           108700891,
           2007
          ],
          [
           42.31399999999999,
           1165790,
           1952
          ],
          [
           45.432,
           1358828,
           1957
          ],
          [
           48.632,
           1590597,
           1962
          ],
          [
           51.88399999999999,
           1865490,
           1967
          ],
          [
           55.151,
           2182908,
           1972
          ],
          [
           57.47,
           2554598,
           1977
          ],
          [
           59.298,
           2979423,
           1982
          ],
          [
           62.008,
           3344353,
           1987
          ],
          [
           65.843,
           4017939,
           1992
          ],
          [
           68.426,
           4609572,
           1997
          ],
          [
           70.836,
           5146848,
           2002
          ],
          [
           72.899,
           5675356,
           2007
          ],
          [
           55.191,
           940080,
           1952
          ],
          [
           59.201,
           1063506,
           1957
          ],
          [
           61.817,
           1215725,
           1962
          ],
          [
           64.071,
           1405486,
           1967
          ],
          [
           66.21600000000001,
           1616384,
           1972
          ],
          [
           68.681,
           1839782,
           1977
          ],
          [
           70.472,
           2036305,
           1982
          ],
          [
           71.523,
           2253639,
           1987
          ],
          [
           72.462,
           2484997,
           1992
          ],
          [
           73.738,
           2734531,
           1997
          ],
          [
           74.712,
           2990875,
           2002
          ],
          [
           75.53699999999998,
           3242173,
           2007
          ],
          [
           62.649,
           1555876,
           1952
          ],
          [
           63.19600000000001,
           1770902,
           1957
          ],
          [
           64.361,
           2009813,
           1962
          ],
          [
           64.95100000000001,
           2287985,
           1967
          ],
          [
           65.815,
           2614104,
           1972
          ],
          [
           66.35300000000001,
           2984494,
           1977
          ],
          [
           66.874,
           3366439,
           1982
          ],
          [
           67.378,
           3886512,
           1987
          ],
          [
           68.225,
           4483945,
           1992
          ],
          [
           69.4,
           5154123,
           1997
          ],
          [
           70.755,
           5884491,
           2002
          ],
          [
           71.752,
           6667147,
           2007
          ],
          [
           43.902,
           8025700,
           1952
          ],
          [
           46.26300000000001,
           9146100,
           1957
          ],
          [
           49.096,
           10516500,
           1962
          ],
          [
           51.445,
           12132200,
           1967
          ],
          [
           55.448,
           13954700,
           1972
          ],
          [
           58.447,
           15990099,
           1977
          ],
          [
           61.40600000000001,
           18125129,
           1982
          ],
          [
           64.134,
           20195924,
           1987
          ],
          [
           66.458,
           22430449,
           1992
          ],
          [
           68.38600000000001,
           24748122,
           1997
          ],
          [
           69.906,
           26769436,
           2002
          ],
          [
           71.421,
           28674757,
           2007
          ],
          [
           64.28,
           2227000,
           1952
          ],
          [
           68.54,
           2260000,
           1957
          ],
          [
           69.62,
           2448046,
           1962
          ],
          [
           71.1,
           2648961,
           1967
          ],
          [
           72.16,
           2847132,
           1972
          ],
          [
           73.44,
           3080828,
           1977
          ],
          [
           73.75,
           3279001,
           1982
          ],
          [
           74.63,
           3444468,
           1987
          ],
          [
           73.911,
           3585176,
           1992
          ],
          [
           74.917,
           3759430,
           1997
          ],
          [
           77.778,
           3859606,
           2002
          ],
          [
           78.74600000000002,
           3942491,
           2007
          ],
          [
           59.1,
           662850,
           1952
          ],
          [
           61.8,
           764900,
           1957
          ],
          [
           64.9,
           887498,
           1962
          ],
          [
           65.4,
           960155,
           1967
          ],
          [
           65.9,
           975199,
           1972
          ],
          [
           68.3,
           1039009,
           1977
          ],
          [
           68.832,
           1116479,
           1982
          ],
          [
           69.582,
           1191336,
           1987
          ],
          [
           69.862,
           1183669,
           1992
          ],
          [
           69.465,
           1138101,
           1997
          ],
          [
           68.976,
           1101832,
           2002
          ],
          [
           69.819,
           1056608,
           2007
          ],
          [
           68.44,
           157553000,
           1952
          ],
          [
           69.49,
           171984000,
           1957
          ],
          [
           70.21,
           186538000,
           1962
          ],
          [
           70.76,
           198712000,
           1967
          ],
          [
           71.34,
           209896000,
           1972
          ],
          [
           73.38,
           220239000,
           1977
          ],
          [
           74.65,
           232187835,
           1982
          ],
          [
           75.02,
           242803533,
           1987
          ],
          [
           76.09,
           256894189,
           1992
          ],
          [
           76.81,
           272911760,
           1997
          ],
          [
           77.31,
           287675526,
           2002
          ],
          [
           78.242,
           301139947,
           2007
          ],
          [
           66.071,
           2252965,
           1952
          ],
          [
           67.044,
           2424959,
           1957
          ],
          [
           68.253,
           2598466,
           1962
          ],
          [
           68.468,
           2748579,
           1967
          ],
          [
           68.673,
           2829526,
           1972
          ],
          [
           69.48100000000001,
           2873520,
           1977
          ],
          [
           70.805,
           2953997,
           1982
          ],
          [
           71.918,
           3045153,
           1987
          ],
          [
           72.752,
           3149262,
           1992
          ],
          [
           74.223,
           3262838,
           1997
          ],
          [
           75.307,
           3363085,
           2002
          ],
          [
           76.384,
           3447496,
           2007
          ],
          [
           55.088,
           5439568,
           1952
          ],
          [
           57.907,
           6702668,
           1957
          ],
          [
           60.77,
           8143375,
           1962
          ],
          [
           63.479,
           9709552,
           1967
          ],
          [
           65.712,
           11515649,
           1972
          ],
          [
           67.456,
           13503563,
           1977
          ],
          [
           68.557,
           15620766,
           1982
          ],
          [
           70.19,
           17910182,
           1987
          ],
          [
           71.15,
           20265563,
           1992
          ],
          [
           72.146,
           22374398,
           1997
          ],
          [
           72.766,
           24287670,
           2002
          ],
          [
           73.747,
           26084662,
           2007
          ]
         ],
         "geo": "geo",
         "hovertemplate": "<b>%{hovertext}</b><br><br>continent=Americas<br>iso_alpha=%{location}<br>lifeExp=%{customdata[0]}<br>pop=%{customdata[1]}<br>year=%{customdata[2]}<extra></extra>",
         "hovertext": [
          "Argentina",
          "Argentina",
          "Argentina",
          "Argentina",
          "Argentina",
          "Argentina",
          "Argentina",
          "Argentina",
          "Argentina",
          "Argentina",
          "Argentina",
          "Argentina",
          "Bolivia",
          "Bolivia",
          "Bolivia",
          "Bolivia",
          "Bolivia",
          "Bolivia",
          "Bolivia",
          "Bolivia",
          "Bolivia",
          "Bolivia",
          "Bolivia",
          "Bolivia",
          "Brazil",
          "Brazil",
          "Brazil",
          "Brazil",
          "Brazil",
          "Brazil",
          "Brazil",
          "Brazil",
          "Brazil",
          "Brazil",
          "Brazil",
          "Brazil",
          "Canada",
          "Canada",
          "Canada",
          "Canada",
          "Canada",
          "Canada",
          "Canada",
          "Canada",
          "Canada",
          "Canada",
          "Canada",
          "Canada",
          "Chile",
          "Chile",
          "Chile",
          "Chile",
          "Chile",
          "Chile",
          "Chile",
          "Chile",
          "Chile",
          "Chile",
          "Chile",
          "Chile",
          "Colombia",
          "Colombia",
          "Colombia",
          "Colombia",
          "Colombia",
          "Colombia",
          "Colombia",
          "Colombia",
          "Colombia",
          "Colombia",
          "Colombia",
          "Colombia",
          "Costa Rica",
          "Costa Rica",
          "Costa Rica",
          "Costa Rica",
          "Costa Rica",
          "Costa Rica",
          "Costa Rica",
          "Costa Rica",
          "Costa Rica",
          "Costa Rica",
          "Costa Rica",
          "Costa Rica",
          "Cuba",
          "Cuba",
          "Cuba",
          "Cuba",
          "Cuba",
          "Cuba",
          "Cuba",
          "Cuba",
          "Cuba",
          "Cuba",
          "Cuba",
          "Cuba",
          "Dominican Republic",
          "Dominican Republic",
          "Dominican Republic",
          "Dominican Republic",
          "Dominican Republic",
          "Dominican Republic",
          "Dominican Republic",
          "Dominican Republic",
          "Dominican Republic",
          "Dominican Republic",
          "Dominican Republic",
          "Dominican Republic",
          "Ecuador",
          "Ecuador",
          "Ecuador",
          "Ecuador",
          "Ecuador",
          "Ecuador",
          "Ecuador",
          "Ecuador",
          "Ecuador",
          "Ecuador",
          "Ecuador",
          "Ecuador",
          "El Salvador",
          "El Salvador",
          "El Salvador",
          "El Salvador",
          "El Salvador",
          "El Salvador",
          "El Salvador",
          "El Salvador",
          "El Salvador",
          "El Salvador",
          "El Salvador",
          "El Salvador",
          "Guatemala",
          "Guatemala",
          "Guatemala",
          "Guatemala",
          "Guatemala",
          "Guatemala",
          "Guatemala",
          "Guatemala",
          "Guatemala",
          "Guatemala",
          "Guatemala",
          "Guatemala",
          "Haiti",
          "Haiti",
          "Haiti",
          "Haiti",
          "Haiti",
          "Haiti",
          "Haiti",
          "Haiti",
          "Haiti",
          "Haiti",
          "Haiti",
          "Haiti",
          "Honduras",
          "Honduras",
          "Honduras",
          "Honduras",
          "Honduras",
          "Honduras",
          "Honduras",
          "Honduras",
          "Honduras",
          "Honduras",
          "Honduras",
          "Honduras",
          "Jamaica",
          "Jamaica",
          "Jamaica",
          "Jamaica",
          "Jamaica",
          "Jamaica",
          "Jamaica",
          "Jamaica",
          "Jamaica",
          "Jamaica",
          "Jamaica",
          "Jamaica",
          "Mexico",
          "Mexico",
          "Mexico",
          "Mexico",
          "Mexico",
          "Mexico",
          "Mexico",
          "Mexico",
          "Mexico",
          "Mexico",
          "Mexico",
          "Mexico",
          "Nicaragua",
          "Nicaragua",
          "Nicaragua",
          "Nicaragua",
          "Nicaragua",
          "Nicaragua",
          "Nicaragua",
          "Nicaragua",
          "Nicaragua",
          "Nicaragua",
          "Nicaragua",
          "Nicaragua",
          "Panama",
          "Panama",
          "Panama",
          "Panama",
          "Panama",
          "Panama",
          "Panama",
          "Panama",
          "Panama",
          "Panama",
          "Panama",
          "Panama",
          "Paraguay",
          "Paraguay",
          "Paraguay",
          "Paraguay",
          "Paraguay",
          "Paraguay",
          "Paraguay",
          "Paraguay",
          "Paraguay",
          "Paraguay",
          "Paraguay",
          "Paraguay",
          "Peru",
          "Peru",
          "Peru",
          "Peru",
          "Peru",
          "Peru",
          "Peru",
          "Peru",
          "Peru",
          "Peru",
          "Peru",
          "Peru",
          "Puerto Rico",
          "Puerto Rico",
          "Puerto Rico",
          "Puerto Rico",
          "Puerto Rico",
          "Puerto Rico",
          "Puerto Rico",
          "Puerto Rico",
          "Puerto Rico",
          "Puerto Rico",
          "Puerto Rico",
          "Puerto Rico",
          "Trinidad and Tobago",
          "Trinidad and Tobago",
          "Trinidad and Tobago",
          "Trinidad and Tobago",
          "Trinidad and Tobago",
          "Trinidad and Tobago",
          "Trinidad and Tobago",
          "Trinidad and Tobago",
          "Trinidad and Tobago",
          "Trinidad and Tobago",
          "Trinidad and Tobago",
          "Trinidad and Tobago",
          "United States",
          "United States",
          "United States",
          "United States",
          "United States",
          "United States",
          "United States",
          "United States",
          "United States",
          "United States",
          "United States",
          "United States",
          "Uruguay",
          "Uruguay",
          "Uruguay",
          "Uruguay",
          "Uruguay",
          "Uruguay",
          "Uruguay",
          "Uruguay",
          "Uruguay",
          "Uruguay",
          "Uruguay",
          "Uruguay",
          "Venezuela",
          "Venezuela",
          "Venezuela",
          "Venezuela",
          "Venezuela",
          "Venezuela",
          "Venezuela",
          "Venezuela",
          "Venezuela",
          "Venezuela",
          "Venezuela",
          "Venezuela"
         ],
         "legendgroup": "Americas",
         "locations": [
          "ARG",
          "ARG",
          "ARG",
          "ARG",
          "ARG",
          "ARG",
          "ARG",
          "ARG",
          "ARG",
          "ARG",
          "ARG",
          "ARG",
          "BOL",
          "BOL",
          "BOL",
          "BOL",
          "BOL",
          "BOL",
          "BOL",
          "BOL",
          "BOL",
          "BOL",
          "BOL",
          "BOL",
          "BRA",
          "BRA",
          "BRA",
          "BRA",
          "BRA",
          "BRA",
          "BRA",
          "BRA",
          "BRA",
          "BRA",
          "BRA",
          "BRA",
          "CAN",
          "CAN",
          "CAN",
          "CAN",
          "CAN",
          "CAN",
          "CAN",
          "CAN",
          "CAN",
          "CAN",
          "CAN",
          "CAN",
          "CHL",
          "CHL",
          "CHL",
          "CHL",
          "CHL",
          "CHL",
          "CHL",
          "CHL",
          "CHL",
          "CHL",
          "CHL",
          "CHL",
          "COL",
          "COL",
          "COL",
          "COL",
          "COL",
          "COL",
          "COL",
          "COL",
          "COL",
          "COL",
          "COL",
          "COL",
          "CRI",
          "CRI",
          "CRI",
          "CRI",
          "CRI",
          "CRI",
          "CRI",
          "CRI",
          "CRI",
          "CRI",
          "CRI",
          "CRI",
          "CUB",
          "CUB",
          "CUB",
          "CUB",
          "CUB",
          "CUB",
          "CUB",
          "CUB",
          "CUB",
          "CUB",
          "CUB",
          "CUB",
          "DOM",
          "DOM",
          "DOM",
          "DOM",
          "DOM",
          "DOM",
          "DOM",
          "DOM",
          "DOM",
          "DOM",
          "DOM",
          "DOM",
          "ECU",
          "ECU",
          "ECU",
          "ECU",
          "ECU",
          "ECU",
          "ECU",
          "ECU",
          "ECU",
          "ECU",
          "ECU",
          "ECU",
          "SLV",
          "SLV",
          "SLV",
          "SLV",
          "SLV",
          "SLV",
          "SLV",
          "SLV",
          "SLV",
          "SLV",
          "SLV",
          "SLV",
          "GTM",
          "GTM",
          "GTM",
          "GTM",
          "GTM",
          "GTM",
          "GTM",
          "GTM",
          "GTM",
          "GTM",
          "GTM",
          "GTM",
          "HTI",
          "HTI",
          "HTI",
          "HTI",
          "HTI",
          "HTI",
          "HTI",
          "HTI",
          "HTI",
          "HTI",
          "HTI",
          "HTI",
          "HND",
          "HND",
          "HND",
          "HND",
          "HND",
          "HND",
          "HND",
          "HND",
          "HND",
          "HND",
          "HND",
          "HND",
          "JAM",
          "JAM",
          "JAM",
          "JAM",
          "JAM",
          "JAM",
          "JAM",
          "JAM",
          "JAM",
          "JAM",
          "JAM",
          "JAM",
          "MEX",
          "MEX",
          "MEX",
          "MEX",
          "MEX",
          "MEX",
          "MEX",
          "MEX",
          "MEX",
          "MEX",
          "MEX",
          "MEX",
          "NIC",
          "NIC",
          "NIC",
          "NIC",
          "NIC",
          "NIC",
          "NIC",
          "NIC",
          "NIC",
          "NIC",
          "NIC",
          "NIC",
          "PAN",
          "PAN",
          "PAN",
          "PAN",
          "PAN",
          "PAN",
          "PAN",
          "PAN",
          "PAN",
          "PAN",
          "PAN",
          "PAN",
          "PRY",
          "PRY",
          "PRY",
          "PRY",
          "PRY",
          "PRY",
          "PRY",
          "PRY",
          "PRY",
          "PRY",
          "PRY",
          "PRY",
          "PER",
          "PER",
          "PER",
          "PER",
          "PER",
          "PER",
          "PER",
          "PER",
          "PER",
          "PER",
          "PER",
          "PER",
          "PRI",
          "PRI",
          "PRI",
          "PRI",
          "PRI",
          "PRI",
          "PRI",
          "PRI",
          "PRI",
          "PRI",
          "PRI",
          "PRI",
          "TTO",
          "TTO",
          "TTO",
          "TTO",
          "TTO",
          "TTO",
          "TTO",
          "TTO",
          "TTO",
          "TTO",
          "TTO",
          "TTO",
          "USA",
          "USA",
          "USA",
          "USA",
          "USA",
          "USA",
          "USA",
          "USA",
          "USA",
          "USA",
          "USA",
          "USA",
          "URY",
          "URY",
          "URY",
          "URY",
          "URY",
          "URY",
          "URY",
          "URY",
          "URY",
          "URY",
          "URY",
          "URY",
          "VEN",
          "VEN",
          "VEN",
          "VEN",
          "VEN",
          "VEN",
          "VEN",
          "VEN",
          "VEN",
          "VEN",
          "VEN",
          "VEN"
         ],
         "marker": {
          "color": "#ab63fa",
          "opacity": 0.8,
          "symbol": "circle"
         },
         "mode": "markers",
         "name": "Americas",
         "showlegend": true,
         "type": "scattergeo"
        },
        {
         "customdata": [
          [
           69.12,
           8691212,
           1952
          ],
          [
           70.33,
           9712569,
           1957
          ],
          [
           70.93,
           10794968,
           1962
          ],
          [
           71.1,
           11872264,
           1967
          ],
          [
           71.93,
           13177000,
           1972
          ],
          [
           73.49,
           14074100,
           1977
          ],
          [
           74.74,
           15184200,
           1982
          ],
          [
           76.32,
           16257249,
           1987
          ],
          [
           77.56,
           17481977,
           1992
          ],
          [
           78.83,
           18565243,
           1997
          ],
          [
           80.37,
           19546792,
           2002
          ],
          [
           81.235,
           20434176,
           2007
          ],
          [
           69.39,
           1994794,
           1952
          ],
          [
           70.26,
           2229407,
           1957
          ],
          [
           71.24,
           2488550,
           1962
          ],
          [
           71.52,
           2728150,
           1967
          ],
          [
           71.89,
           2929100,
           1972
          ],
          [
           72.22,
           3164900,
           1977
          ],
          [
           73.84,
           3210650,
           1982
          ],
          [
           74.32,
           3317166,
           1987
          ],
          [
           76.33,
           3437674,
           1992
          ],
          [
           77.55,
           3676187,
           1997
          ],
          [
           79.11,
           3908037,
           2002
          ],
          [
           80.204,
           4115771,
           2007
          ]
         ],
         "geo": "geo",
         "hovertemplate": "<b>%{hovertext}</b><br><br>continent=Oceania<br>iso_alpha=%{location}<br>lifeExp=%{customdata[0]}<br>pop=%{customdata[1]}<br>year=%{customdata[2]}<extra></extra>",
         "hovertext": [
          "Australia",
          "Australia",
          "Australia",
          "Australia",
          "Australia",
          "Australia",
          "Australia",
          "Australia",
          "Australia",
          "Australia",
          "Australia",
          "Australia",
          "New Zealand",
          "New Zealand",
          "New Zealand",
          "New Zealand",
          "New Zealand",
          "New Zealand",
          "New Zealand",
          "New Zealand",
          "New Zealand",
          "New Zealand",
          "New Zealand",
          "New Zealand"
         ],
         "legendgroup": "Oceania",
         "locations": [
          "AUS",
          "AUS",
          "AUS",
          "AUS",
          "AUS",
          "AUS",
          "AUS",
          "AUS",
          "AUS",
          "AUS",
          "AUS",
          "AUS",
          "NZL",
          "NZL",
          "NZL",
          "NZL",
          "NZL",
          "NZL",
          "NZL",
          "NZL",
          "NZL",
          "NZL",
          "NZL",
          "NZL"
         ],
         "marker": {
          "color": "#FFA15A",
          "opacity": 0.8,
          "symbol": "circle"
         },
         "mode": "markers",
         "name": "Oceania",
         "showlegend": true,
         "type": "scattergeo"
        }
       ],
       "layout": {
        "geo": {
         "center": {},
         "domain": {
          "x": [
           0,
           1
          ],
          "y": [
           0,
           1
          ]
         },
         "projection": {
          "type": "orthographic"
         }
        },
        "legend": {
         "title": {
          "text": "continent"
         },
         "tracegroupgap": 0
        },
        "margin": {
         "t": 60
        },
        "template": {
         "data": {
          "bar": [
           {
            "error_x": {
             "color": "#2a3f5f"
            },
            "error_y": {
             "color": "#2a3f5f"
            },
            "marker": {
             "line": {
              "color": "#E5ECF6",
              "width": 0.5
             },
             "pattern": {
              "fillmode": "overlay",
              "size": 10,
              "solidity": 0.2
             }
            },
            "type": "bar"
           }
          ],
          "barpolar": [
           {
            "marker": {
             "line": {
              "color": "#E5ECF6",
              "width": 0.5
             },
             "pattern": {
              "fillmode": "overlay",
              "size": 10,
              "solidity": 0.2
             }
            },
            "type": "barpolar"
           }
          ],
          "carpet": [
           {
            "aaxis": {
             "endlinecolor": "#2a3f5f",
             "gridcolor": "white",
             "linecolor": "white",
             "minorgridcolor": "white",
             "startlinecolor": "#2a3f5f"
            },
            "baxis": {
             "endlinecolor": "#2a3f5f",
             "gridcolor": "white",
             "linecolor": "white",
             "minorgridcolor": "white",
             "startlinecolor": "#2a3f5f"
            },
            "type": "carpet"
           }
          ],
          "choropleth": [
           {
            "colorbar": {
             "outlinewidth": 0,
             "ticks": ""
            },
            "type": "choropleth"
           }
          ],
          "contour": [
           {
            "colorbar": {
             "outlinewidth": 0,
             "ticks": ""
            },
            "colorscale": [
             [
              0,
              "#0d0887"
             ],
             [
              0.1111111111111111,
              "#46039f"
             ],
             [
              0.2222222222222222,
              "#7201a8"
             ],
             [
              0.3333333333333333,
              "#9c179e"
             ],
             [
              0.4444444444444444,
              "#bd3786"
             ],
             [
              0.5555555555555556,
              "#d8576b"
             ],
             [
              0.6666666666666666,
              "#ed7953"
             ],
             [
              0.7777777777777778,
              "#fb9f3a"
             ],
             [
              0.8888888888888888,
              "#fdca26"
             ],
             [
              1,
              "#f0f921"
             ]
            ],
            "type": "contour"
           }
          ],
          "contourcarpet": [
           {
            "colorbar": {
             "outlinewidth": 0,
             "ticks": ""
            },
            "type": "contourcarpet"
           }
          ],
          "heatmap": [
           {
            "colorbar": {
             "outlinewidth": 0,
             "ticks": ""
            },
            "colorscale": [
             [
              0,
              "#0d0887"
             ],
             [
              0.1111111111111111,
              "#46039f"
             ],
             [
              0.2222222222222222,
              "#7201a8"
             ],
             [
              0.3333333333333333,
              "#9c179e"
             ],
             [
              0.4444444444444444,
              "#bd3786"
             ],
             [
              0.5555555555555556,
              "#d8576b"
             ],
             [
              0.6666666666666666,
              "#ed7953"
             ],
             [
              0.7777777777777778,
              "#fb9f3a"
             ],
             [
              0.8888888888888888,
              "#fdca26"
             ],
             [
              1,
              "#f0f921"
             ]
            ],
            "type": "heatmap"
           }
          ],
          "heatmapgl": [
           {
            "colorbar": {
             "outlinewidth": 0,
             "ticks": ""
            },
            "colorscale": [
             [
              0,
              "#0d0887"
             ],
             [
              0.1111111111111111,
              "#46039f"
             ],
             [
              0.2222222222222222,
              "#7201a8"
             ],
             [
              0.3333333333333333,
              "#9c179e"
             ],
             [
              0.4444444444444444,
              "#bd3786"
             ],
             [
              0.5555555555555556,
              "#d8576b"
             ],
             [
              0.6666666666666666,
              "#ed7953"
             ],
             [
              0.7777777777777778,
              "#fb9f3a"
             ],
             [
              0.8888888888888888,
              "#fdca26"
             ],
             [
              1,
              "#f0f921"
             ]
            ],
            "type": "heatmapgl"
           }
          ],
          "histogram": [
           {
            "marker": {
             "pattern": {
              "fillmode": "overlay",
              "size": 10,
              "solidity": 0.2
             }
            },
            "type": "histogram"
           }
          ],
          "histogram2d": [
           {
            "colorbar": {
             "outlinewidth": 0,
             "ticks": ""
            },
            "colorscale": [
             [
              0,
              "#0d0887"
             ],
             [
              0.1111111111111111,
              "#46039f"
             ],
             [
              0.2222222222222222,
              "#7201a8"
             ],
             [
              0.3333333333333333,
              "#9c179e"
             ],
             [
              0.4444444444444444,
              "#bd3786"
             ],
             [
              0.5555555555555556,
              "#d8576b"
             ],
             [
              0.6666666666666666,
              "#ed7953"
             ],
             [
              0.7777777777777778,
              "#fb9f3a"
             ],
             [
              0.8888888888888888,
              "#fdca26"
             ],
             [
              1,
              "#f0f921"
             ]
            ],
            "type": "histogram2d"
           }
          ],
          "histogram2dcontour": [
           {
            "colorbar": {
             "outlinewidth": 0,
             "ticks": ""
            },
            "colorscale": [
             [
              0,
              "#0d0887"
             ],
             [
              0.1111111111111111,
              "#46039f"
             ],
             [
              0.2222222222222222,
              "#7201a8"
             ],
             [
              0.3333333333333333,
              "#9c179e"
             ],
             [
              0.4444444444444444,
              "#bd3786"
             ],
             [
              0.5555555555555556,
              "#d8576b"
             ],
             [
              0.6666666666666666,
              "#ed7953"
             ],
             [
              0.7777777777777778,
              "#fb9f3a"
             ],
             [
              0.8888888888888888,
              "#fdca26"
             ],
             [
              1,
              "#f0f921"
             ]
            ],
            "type": "histogram2dcontour"
           }
          ],
          "mesh3d": [
           {
            "colorbar": {
             "outlinewidth": 0,
             "ticks": ""
            },
            "type": "mesh3d"
           }
          ],
          "parcoords": [
           {
            "line": {
             "colorbar": {
              "outlinewidth": 0,
              "ticks": ""
             }
            },
            "type": "parcoords"
           }
          ],
          "pie": [
           {
            "automargin": true,
            "type": "pie"
           }
          ],
          "scatter": [
           {
            "marker": {
             "colorbar": {
              "outlinewidth": 0,
              "ticks": ""
             }
            },
            "type": "scatter"
           }
          ],
          "scatter3d": [
           {
            "line": {
             "colorbar": {
              "outlinewidth": 0,
              "ticks": ""
             }
            },
            "marker": {
             "colorbar": {
              "outlinewidth": 0,
              "ticks": ""
             }
            },
            "type": "scatter3d"
           }
          ],
          "scattercarpet": [
           {
            "marker": {
             "colorbar": {
              "outlinewidth": 0,
              "ticks": ""
             }
            },
            "type": "scattercarpet"
           }
          ],
          "scattergeo": [
           {
            "marker": {
             "colorbar": {
              "outlinewidth": 0,
              "ticks": ""
             }
            },
            "type": "scattergeo"
           }
          ],
          "scattergl": [
           {
            "marker": {
             "colorbar": {
              "outlinewidth": 0,
              "ticks": ""
             }
            },
            "type": "scattergl"
           }
          ],
          "scattermapbox": [
           {
            "marker": {
             "colorbar": {
              "outlinewidth": 0,
              "ticks": ""
             }
            },
            "type": "scattermapbox"
           }
          ],
          "scatterpolar": [
           {
            "marker": {
             "colorbar": {
              "outlinewidth": 0,
              "ticks": ""
             }
            },
            "type": "scatterpolar"
           }
          ],
          "scatterpolargl": [
           {
            "marker": {
             "colorbar": {
              "outlinewidth": 0,
              "ticks": ""
             }
            },
            "type": "scatterpolargl"
           }
          ],
          "scatterternary": [
           {
            "marker": {
             "colorbar": {
              "outlinewidth": 0,
              "ticks": ""
             }
            },
            "type": "scatterternary"
           }
          ],
          "surface": [
           {
            "colorbar": {
             "outlinewidth": 0,
             "ticks": ""
            },
            "colorscale": [
             [
              0,
              "#0d0887"
             ],
             [
              0.1111111111111111,
              "#46039f"
             ],
             [
              0.2222222222222222,
              "#7201a8"
             ],
             [
              0.3333333333333333,
              "#9c179e"
             ],
             [
              0.4444444444444444,
              "#bd3786"
             ],
             [
              0.5555555555555556,
              "#d8576b"
             ],
             [
              0.6666666666666666,
              "#ed7953"
             ],
             [
              0.7777777777777778,
              "#fb9f3a"
             ],
             [
              0.8888888888888888,
              "#fdca26"
             ],
             [
              1,
              "#f0f921"
             ]
            ],
            "type": "surface"
           }
          ],
          "table": [
           {
            "cells": {
             "fill": {
              "color": "#EBF0F8"
             },
             "line": {
              "color": "white"
             }
            },
            "header": {
             "fill": {
              "color": "#C8D4E3"
             },
             "line": {
              "color": "white"
             }
            },
            "type": "table"
           }
          ]
         },
         "layout": {
          "annotationdefaults": {
           "arrowcolor": "#2a3f5f",
           "arrowhead": 0,
           "arrowwidth": 1
          },
          "autotypenumbers": "strict",
          "coloraxis": {
           "colorbar": {
            "outlinewidth": 0,
            "ticks": ""
           }
          },
          "colorscale": {
           "diverging": [
            [
             0,
             "#8e0152"
            ],
            [
             0.1,
             "#c51b7d"
            ],
            [
             0.2,
             "#de77ae"
            ],
            [
             0.3,
             "#f1b6da"
            ],
            [
             0.4,
             "#fde0ef"
            ],
            [
             0.5,
             "#f7f7f7"
            ],
            [
             0.6,
             "#e6f5d0"
            ],
            [
             0.7,
             "#b8e186"
            ],
            [
             0.8,
             "#7fbc41"
            ],
            [
             0.9,
             "#4d9221"
            ],
            [
             1,
             "#276419"
            ]
           ],
           "sequential": [
            [
             0,
             "#0d0887"
            ],
            [
             0.1111111111111111,
             "#46039f"
            ],
            [
             0.2222222222222222,
             "#7201a8"
            ],
            [
             0.3333333333333333,
             "#9c179e"
            ],
            [
             0.4444444444444444,
             "#bd3786"
            ],
            [
             0.5555555555555556,
             "#d8576b"
            ],
            [
             0.6666666666666666,
             "#ed7953"
            ],
            [
             0.7777777777777778,
             "#fb9f3a"
            ],
            [
             0.8888888888888888,
             "#fdca26"
            ],
            [
             1,
             "#f0f921"
            ]
           ],
           "sequentialminus": [
            [
             0,
             "#0d0887"
            ],
            [
             0.1111111111111111,
             "#46039f"
            ],
            [
             0.2222222222222222,
             "#7201a8"
            ],
            [
             0.3333333333333333,
             "#9c179e"
            ],
            [
             0.4444444444444444,
             "#bd3786"
            ],
            [
             0.5555555555555556,
             "#d8576b"
            ],
            [
             0.6666666666666666,
             "#ed7953"
            ],
            [
             0.7777777777777778,
             "#fb9f3a"
            ],
            [
             0.8888888888888888,
             "#fdca26"
            ],
            [
             1,
             "#f0f921"
            ]
           ]
          },
          "colorway": [
           "#636efa",
           "#EF553B",
           "#00cc96",
           "#ab63fa",
           "#FFA15A",
           "#19d3f3",
           "#FF6692",
           "#B6E880",
           "#FF97FF",
           "#FECB52"
          ],
          "font": {
           "color": "#2a3f5f"
          },
          "geo": {
           "bgcolor": "white",
           "lakecolor": "white",
           "landcolor": "#E5ECF6",
           "showlakes": true,
           "showland": true,
           "subunitcolor": "white"
          },
          "hoverlabel": {
           "align": "left"
          },
          "hovermode": "closest",
          "mapbox": {
           "style": "light"
          },
          "paper_bgcolor": "white",
          "plot_bgcolor": "#E5ECF6",
          "polar": {
           "angularaxis": {
            "gridcolor": "white",
            "linecolor": "white",
            "ticks": ""
           },
           "bgcolor": "#E5ECF6",
           "radialaxis": {
            "gridcolor": "white",
            "linecolor": "white",
            "ticks": ""
           }
          },
          "scene": {
           "xaxis": {
            "backgroundcolor": "#E5ECF6",
            "gridcolor": "white",
            "gridwidth": 2,
            "linecolor": "white",
            "showbackground": true,
            "ticks": "",
            "zerolinecolor": "white"
           },
           "yaxis": {
            "backgroundcolor": "#E5ECF6",
            "gridcolor": "white",
            "gridwidth": 2,
            "linecolor": "white",
            "showbackground": true,
            "ticks": "",
            "zerolinecolor": "white"
           },
           "zaxis": {
            "backgroundcolor": "#E5ECF6",
            "gridcolor": "white",
            "gridwidth": 2,
            "linecolor": "white",
            "showbackground": true,
            "ticks": "",
            "zerolinecolor": "white"
           }
          },
          "shapedefaults": {
           "line": {
            "color": "#2a3f5f"
           }
          },
          "ternary": {
           "aaxis": {
            "gridcolor": "white",
            "linecolor": "white",
            "ticks": ""
           },
           "baxis": {
            "gridcolor": "white",
            "linecolor": "white",
            "ticks": ""
           },
           "bgcolor": "#E5ECF6",
           "caxis": {
            "gridcolor": "white",
            "linecolor": "white",
            "ticks": ""
           }
          },
          "title": {
           "x": 0.05
          },
          "xaxis": {
           "automargin": true,
           "gridcolor": "white",
           "linecolor": "white",
           "ticks": "",
           "title": {
            "standoff": 15
           },
           "zerolinecolor": "white",
           "zerolinewidth": 2
          },
          "yaxis": {
           "automargin": true,
           "gridcolor": "white",
           "linecolor": "white",
           "ticks": "",
           "title": {
            "standoff": 15
           },
           "zerolinecolor": "white",
           "zerolinewidth": 2
          }
         }
        }
       }
      }
     },
     "metadata": {},
     "output_type": "display_data"
    }
   ],
   "source": [
    "country_data = px.data.gapminder()\n",
    "\n",
    "map_fig = px.scatter_geo(\n",
    "    country_data,\n",
    "    locations = 'iso_alpha',\n",
    "    projection = 'orthographic',\n",
    "    color = 'continent',\n",
    "    opacity = .8,\n",
    "    hover_name = 'country',\n",
    "    hover_data = ['lifeExp', 'pop', 'year']\n",
    "    )\n",
    "\n",
    "map_fig.show()"
   ]
  },
  {
   "cell_type": "code",
   "execution_count": 316,
   "id": "bcff1e2c",
   "metadata": {},
   "outputs": [],
   "source": [
    "# Questo serve per visualizzare in html\n",
    "# plotly.offline.plot(map_fig, filename= 'map_exp.html', auto_open=True)"
   ]
  }
 ],
 "metadata": {
  "interpreter": {
   "hash": "69d74384aa76d343bb359f062cb72694a1a85a4dab3a55db2bb23019c1d352ec"
  },
  "kernelspec": {
   "display_name": "Python 3.8.8 ('base')",
   "language": "python",
   "name": "python3"
  },
  "language_info": {
   "codemirror_mode": {
    "name": "ipython",
    "version": 3
   },
   "file_extension": ".py",
   "mimetype": "text/x-python",
   "name": "python",
   "nbconvert_exporter": "python",
   "pygments_lexer": "ipython3",
   "version": "3.8.8"
  }
 },
 "nbformat": 4,
 "nbformat_minor": 5
}
