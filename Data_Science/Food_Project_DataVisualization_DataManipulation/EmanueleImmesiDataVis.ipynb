{
 "cells": [
  {
   "cell_type": "markdown",
   "id": "e3324e06",
   "metadata": {},
   "source": [
    "# Food project\n",
    "\n",
    "\n",
    "![image.jpg](img.jpg)\n",
    "\n",
    "Img source: fair-point.com"
   ]
  },
  {
   "cell_type": "markdown",
   "id": "bdbda155",
   "metadata": {},
   "source": [
    "## Discovery (identificazione del problema e degli obiettivi)\n",
    "\n",
    "Negli ultimi secoli la popolazione mondiale è aumentata notevolmente e secondo l'ONU (fonte del 2019), nel 2050 potrebbe arrivare a quota *10 miliardi*. \n",
    "\n",
    "In maniera direttamente proporzionale **sono aumentate anche le domande di cibo, energia ed acqua**, per soddisfare tale bisogno. \n",
    "\n",
    "Sfortunamente, i costanti monitoraggi sul cambiamento climatico indicano che la **temperatura massima annuale sulla Terra sta cambiando pericolosamente** e parte di questo effetto è *direttamente correlato alla produzione agricola e all'allevamento* (questo settore ha un impatto del **25-30% sulle emissioni totali di CO₂**):\n",
    "\n",
    "\n",
    "**L'obiettivo di questo notebook** è quello di fornire una visione di insieme sulla *produzione mondiale di alimenti e mangimi* e sui *principali fenomeni inquinanti* (emissioni di CO₂ dovute alla catena produttiva e variazioni di temperatura)."
   ]
  },
  {
   "cell_type": "markdown",
   "id": "edd67794",
   "metadata": {},
   "source": [
    "### Spunti e domande che guideranno questa analisi\n",
    "\n",
    "#### Confronto tra produzione di cibo e mangime a livello mondiale: \n",
    "    \n",
    "- Come è variata la loro produzione negli anni?\n",
    "\n",
    "- Quali paesi sono i maggiori produttori? \n",
    "\n",
    "- Quali sono gli alimenti maggiormente prodotti?\n",
    "\n",
    "#### Processo produttivo e inquinamento:\n",
    "\n",
    "- La produzione di quali alimenti ha un impatto maggiormente negativo sull'ambiente?\n",
    "\n",
    "- Quale fase della produzione alimentare contribuisce maggiormente all'emissione di gas serra?\n",
    "\n",
    "- Quali sono gli alimenti la cui produzione ha meno impatto per le emissioni di gas serra?\n",
    "\n",
    "- Quanto si è innalzata la temperatura globale dall'ultimo secolo ad oggi?"
   ]
  },
  {
   "cell_type": "markdown",
   "id": "9a5c0f04",
   "metadata": {},
   "source": [
    "---\n",
    "---\n",
    "## Data Selection\n",
    "\n",
    "Questo progetto sfrutta diversi datasets: \n",
    "\n",
    "- Il [primo](https://www.kaggle.com/datasets/dorbicycle/world-foodfeed-production), disponibile sul **portale FAOSTAT** della FAO (Food and Agriculture Organization of the United Nations), contiene i dati di produzione dei cibi (denominati 'food') e dei mangimi (denominati 'feed') a livello mondiale, dal 1961 al 2013.\n",
    "\n",
    "- Il [secondo](https://www.kaggle.com/datasets/selfvivek/environment-impact-of-food-production), fornito da **Our World in Data**, mostra principalmente i quantitativi di gas serra che sono emessi nei vari step della catena produttiva dei 43 alimenti più comuni prodotti nel mondo.\n",
    "\n",
    "- Il [terzo](https://www.kaggle.com/datasets/sevgisarac/temperature-change/code?datasetId=1056827&sortBy=voteCount), fornito anch'esso da **FAOSTAT** coniente dati sulla variazione media della temperatura superficiale per paese, con aggiornamenti annuali del periodo 1961–2019. I valori registrati in questo dataset sono intesi come anomalie, cioè variazioni di temperatura rispetto a una climatologia di base, corrispondente al periodo 1951-1980."
   ]
  },
  {
   "cell_type": "markdown",
   "id": "7e35ff85-6da9-462b-97a6-4fb2cc4da761",
   "metadata": {},
   "source": [
    "### Import di moduli e dati"
   ]
  },
  {
   "cell_type": "code",
   "execution_count": 2,
   "id": "55ca714f",
   "metadata": {},
   "outputs": [
    {
     "name": "stderr",
     "output_type": "stream",
     "text": [
      "c:\\Users\\emanu\\anaconda3\\lib\\site-packages\\fuzzywuzzy\\fuzz.py:11: UserWarning: Using slow pure-python SequenceMatcher. Install python-Levenshtein to remove this warning\n",
      "  warnings.warn('Using slow pure-python SequenceMatcher. Install python-Levenshtein to remove this warning')\n"
     ]
    }
   ],
   "source": [
    "# Librerie essenziali per la manipolazione dati \n",
    "import numpy as np \n",
    "import pandas as pd\n",
    "\n",
    "# Librerie per la visualizzazione dei dati\n",
    "import seaborn as sns\n",
    "import matplotlib.pyplot as plt\n",
    "\n",
    "import plotly.express as px\n",
    "import plotly.graph_objects as go\n",
    "from plotly.subplots import make_subplots\n",
    "\n",
    "# import plotly.offline as py\n",
    "# import plotly.graph_objs as go\n",
    "# import plotly.tools as tls\n",
    "\n",
    "# Librerie utili\n",
    "import fuzzywuzzy\n",
    "from fuzzywuzzy import process\n",
    "import warnings\n",
    "\n",
    "\n",
    "# Settings delle librerie\n",
    "pd.set_option('display.max_columns', None) # Preferisco visualizzare sempre tutte le colonne a disposizione dei datasets\n",
    "pd.set_option('display.max_rows', 66) \n",
    "warnings.filterwarnings(\"ignore\")"
   ]
  },
  {
   "cell_type": "code",
   "execution_count": 3,
   "id": "dd9065fa",
   "metadata": {},
   "outputs": [],
   "source": [
    "# Dataset della produzione di cibi/mangimi dei vari paesi del mondo\n",
    "fao_df = pd.read_csv('Data/Fao.csv')\n",
    "df_prod = fao_df.copy()\n",
    "\n",
    "# Dataset delle emissioni di gas serra per la produzione di alimenti\n",
    "emission_df = pd.read_csv('Data/Food_Production.csv')\n",
    "df_emiss = emission_df.copy()\n",
    "\n",
    "# Dataset delle variazioni di temperatura nel mondo\n",
    "temperature_df = pd.read_csv('Data/Environment_Temperature_change_E_All_Data_NOFLAG.csv', encoding='latin-1')\n",
    "df_temp = temperature_df.copy()\n",
    "\n",
    "# Dataset utile contenente i codici ISO-3 dei paesi\n",
    "country_iso3 = pd.read_csv('Data/FAOSTAT_data_11-24-2020.csv')"
   ]
  },
  {
   "cell_type": "markdown",
   "id": "0221c1ab",
   "metadata": {},
   "source": [
    "---\n",
    "---\n",
    "## Data Cleaning & Data Exploration/Trasformation\n",
    "\n",
    "La sezione del notebook immediatamente successiva è funzionale a preparare i tre dataset per la visualizzazione dei dati."
   ]
  },
  {
   "cell_type": "markdown",
   "id": "e51822a6",
   "metadata": {},
   "source": [
    "### Dataset della produzione di cibi/mangimi dei vari paesi del mondo"
   ]
  },
  {
   "cell_type": "code",
   "execution_count": 4,
   "id": "7ba971a4",
   "metadata": {},
   "outputs": [
    {
     "name": "stdout",
     "output_type": "stream",
     "text": [
      "Dimensioni del dataframe: 21477 righe e 63 colonne.\n",
      "\n",
      "Colonne del dataframe:\n",
      " Index(['Area Abbreviation', 'Area Code', 'Area', 'Item Code', 'Item',\n",
      "       'Element Code', 'Element', 'Unit', 'latitude', 'longitude', 'Y1961',\n",
      "       'Y1962', 'Y1963', 'Y1964', 'Y1965', 'Y1966', 'Y1967', 'Y1968', 'Y1969',\n",
      "       'Y1970', 'Y1971', 'Y1972', 'Y1973', 'Y1974', 'Y1975', 'Y1976', 'Y1977',\n",
      "       'Y1978', 'Y1979', 'Y1980', 'Y1981', 'Y1982', 'Y1983', 'Y1984', 'Y1985',\n",
      "       'Y1986', 'Y1987', 'Y1988', 'Y1989', 'Y1990', 'Y1991', 'Y1992', 'Y1993',\n",
      "       'Y1994', 'Y1995', 'Y1996', 'Y1997', 'Y1998', 'Y1999', 'Y2000', 'Y2001',\n",
      "       'Y2002', 'Y2003', 'Y2004', 'Y2005', 'Y2006', 'Y2007', 'Y2008', 'Y2009',\n",
      "       'Y2010', 'Y2011', 'Y2012', 'Y2013'],\n",
      "      dtype='object')\n"
     ]
    },
    {
     "data": {
      "text/html": [
       "<div>\n",
       "<style scoped>\n",
       "    .dataframe tbody tr th:only-of-type {\n",
       "        vertical-align: middle;\n",
       "    }\n",
       "\n",
       "    .dataframe tbody tr th {\n",
       "        vertical-align: top;\n",
       "    }\n",
       "\n",
       "    .dataframe thead th {\n",
       "        text-align: right;\n",
       "    }\n",
       "</style>\n",
       "<table border=\"1\" class=\"dataframe\">\n",
       "  <thead>\n",
       "    <tr style=\"text-align: right;\">\n",
       "      <th></th>\n",
       "      <th>Area Abbreviation</th>\n",
       "      <th>Area Code</th>\n",
       "      <th>Area</th>\n",
       "      <th>Item Code</th>\n",
       "      <th>Item</th>\n",
       "      <th>Element Code</th>\n",
       "      <th>Element</th>\n",
       "      <th>Unit</th>\n",
       "      <th>latitude</th>\n",
       "      <th>longitude</th>\n",
       "      <th>Y1961</th>\n",
       "      <th>Y1962</th>\n",
       "      <th>Y1963</th>\n",
       "      <th>Y1964</th>\n",
       "      <th>Y1965</th>\n",
       "      <th>Y1966</th>\n",
       "      <th>Y1967</th>\n",
       "      <th>Y1968</th>\n",
       "      <th>Y1969</th>\n",
       "      <th>Y1970</th>\n",
       "      <th>Y1971</th>\n",
       "      <th>Y1972</th>\n",
       "      <th>Y1973</th>\n",
       "      <th>Y1974</th>\n",
       "      <th>Y1975</th>\n",
       "      <th>Y1976</th>\n",
       "      <th>Y1977</th>\n",
       "      <th>Y1978</th>\n",
       "      <th>Y1979</th>\n",
       "      <th>Y1980</th>\n",
       "      <th>Y1981</th>\n",
       "      <th>Y1982</th>\n",
       "      <th>Y1983</th>\n",
       "      <th>Y1984</th>\n",
       "      <th>Y1985</th>\n",
       "      <th>Y1986</th>\n",
       "      <th>Y1987</th>\n",
       "      <th>Y1988</th>\n",
       "      <th>Y1989</th>\n",
       "      <th>Y1990</th>\n",
       "      <th>Y1991</th>\n",
       "      <th>Y1992</th>\n",
       "      <th>Y1993</th>\n",
       "      <th>Y1994</th>\n",
       "      <th>Y1995</th>\n",
       "      <th>Y1996</th>\n",
       "      <th>Y1997</th>\n",
       "      <th>Y1998</th>\n",
       "      <th>Y1999</th>\n",
       "      <th>Y2000</th>\n",
       "      <th>Y2001</th>\n",
       "      <th>Y2002</th>\n",
       "      <th>Y2003</th>\n",
       "      <th>Y2004</th>\n",
       "      <th>Y2005</th>\n",
       "      <th>Y2006</th>\n",
       "      <th>Y2007</th>\n",
       "      <th>Y2008</th>\n",
       "      <th>Y2009</th>\n",
       "      <th>Y2010</th>\n",
       "      <th>Y2011</th>\n",
       "      <th>Y2012</th>\n",
       "      <th>Y2013</th>\n",
       "    </tr>\n",
       "  </thead>\n",
       "  <tbody>\n",
       "    <tr>\n",
       "      <th>0</th>\n",
       "      <td>AFG</td>\n",
       "      <td>2</td>\n",
       "      <td>Afghanistan</td>\n",
       "      <td>2511</td>\n",
       "      <td>Wheat and products</td>\n",
       "      <td>5142</td>\n",
       "      <td>Food</td>\n",
       "      <td>1000 tonnes</td>\n",
       "      <td>33.94</td>\n",
       "      <td>67.71</td>\n",
       "      <td>1928.0</td>\n",
       "      <td>1904.0</td>\n",
       "      <td>1666.0</td>\n",
       "      <td>1950.0</td>\n",
       "      <td>2001.0</td>\n",
       "      <td>1808.0</td>\n",
       "      <td>2053.0</td>\n",
       "      <td>2045.0</td>\n",
       "      <td>2154.0</td>\n",
       "      <td>1819.0</td>\n",
       "      <td>1963.0</td>\n",
       "      <td>2215.0</td>\n",
       "      <td>2310.0</td>\n",
       "      <td>2335.0</td>\n",
       "      <td>2434.0</td>\n",
       "      <td>2512.0</td>\n",
       "      <td>2282.0</td>\n",
       "      <td>2454.0</td>\n",
       "      <td>2443.0</td>\n",
       "      <td>2129.0</td>\n",
       "      <td>2133.0</td>\n",
       "      <td>2068.0</td>\n",
       "      <td>1994.0</td>\n",
       "      <td>1851.0</td>\n",
       "      <td>1791.0</td>\n",
       "      <td>1683.0</td>\n",
       "      <td>2194.0</td>\n",
       "      <td>1801.0</td>\n",
       "      <td>1754.0</td>\n",
       "      <td>1640.0</td>\n",
       "      <td>1539.0</td>\n",
       "      <td>1582.0</td>\n",
       "      <td>1840.0</td>\n",
       "      <td>1855.0</td>\n",
       "      <td>1853.0</td>\n",
       "      <td>2177.0</td>\n",
       "      <td>2343.0</td>\n",
       "      <td>2407.0</td>\n",
       "      <td>2463.0</td>\n",
       "      <td>2600.0</td>\n",
       "      <td>2668.0</td>\n",
       "      <td>2776.0</td>\n",
       "      <td>3095.0</td>\n",
       "      <td>3249.0</td>\n",
       "      <td>3486.0</td>\n",
       "      <td>3704.0</td>\n",
       "      <td>4164.0</td>\n",
       "      <td>4252.0</td>\n",
       "      <td>4538.0</td>\n",
       "      <td>4605.0</td>\n",
       "      <td>4711.0</td>\n",
       "      <td>4810</td>\n",
       "      <td>4895</td>\n",
       "    </tr>\n",
       "    <tr>\n",
       "      <th>1</th>\n",
       "      <td>AFG</td>\n",
       "      <td>2</td>\n",
       "      <td>Afghanistan</td>\n",
       "      <td>2805</td>\n",
       "      <td>Rice (Milled Equivalent)</td>\n",
       "      <td>5142</td>\n",
       "      <td>Food</td>\n",
       "      <td>1000 tonnes</td>\n",
       "      <td>33.94</td>\n",
       "      <td>67.71</td>\n",
       "      <td>183.0</td>\n",
       "      <td>183.0</td>\n",
       "      <td>182.0</td>\n",
       "      <td>220.0</td>\n",
       "      <td>220.0</td>\n",
       "      <td>195.0</td>\n",
       "      <td>231.0</td>\n",
       "      <td>235.0</td>\n",
       "      <td>238.0</td>\n",
       "      <td>213.0</td>\n",
       "      <td>205.0</td>\n",
       "      <td>233.0</td>\n",
       "      <td>246.0</td>\n",
       "      <td>246.0</td>\n",
       "      <td>255.0</td>\n",
       "      <td>263.0</td>\n",
       "      <td>235.0</td>\n",
       "      <td>254.0</td>\n",
       "      <td>270.0</td>\n",
       "      <td>259.0</td>\n",
       "      <td>248.0</td>\n",
       "      <td>217.0</td>\n",
       "      <td>217.0</td>\n",
       "      <td>197.0</td>\n",
       "      <td>186.0</td>\n",
       "      <td>200.0</td>\n",
       "      <td>193.0</td>\n",
       "      <td>202.0</td>\n",
       "      <td>191.0</td>\n",
       "      <td>199.0</td>\n",
       "      <td>197.0</td>\n",
       "      <td>249.0</td>\n",
       "      <td>218.0</td>\n",
       "      <td>260.0</td>\n",
       "      <td>319.0</td>\n",
       "      <td>254.0</td>\n",
       "      <td>326.0</td>\n",
       "      <td>347.0</td>\n",
       "      <td>270.0</td>\n",
       "      <td>372.0</td>\n",
       "      <td>411.0</td>\n",
       "      <td>448.0</td>\n",
       "      <td>460.0</td>\n",
       "      <td>419.0</td>\n",
       "      <td>445.0</td>\n",
       "      <td>546.0</td>\n",
       "      <td>455.0</td>\n",
       "      <td>490.0</td>\n",
       "      <td>415.0</td>\n",
       "      <td>442.0</td>\n",
       "      <td>476.0</td>\n",
       "      <td>425</td>\n",
       "      <td>422</td>\n",
       "    </tr>\n",
       "    <tr>\n",
       "      <th>2</th>\n",
       "      <td>AFG</td>\n",
       "      <td>2</td>\n",
       "      <td>Afghanistan</td>\n",
       "      <td>2513</td>\n",
       "      <td>Barley and products</td>\n",
       "      <td>5521</td>\n",
       "      <td>Feed</td>\n",
       "      <td>1000 tonnes</td>\n",
       "      <td>33.94</td>\n",
       "      <td>67.71</td>\n",
       "      <td>76.0</td>\n",
       "      <td>76.0</td>\n",
       "      <td>76.0</td>\n",
       "      <td>76.0</td>\n",
       "      <td>76.0</td>\n",
       "      <td>75.0</td>\n",
       "      <td>71.0</td>\n",
       "      <td>72.0</td>\n",
       "      <td>73.0</td>\n",
       "      <td>74.0</td>\n",
       "      <td>71.0</td>\n",
       "      <td>70.0</td>\n",
       "      <td>72.0</td>\n",
       "      <td>76.0</td>\n",
       "      <td>77.0</td>\n",
       "      <td>80.0</td>\n",
       "      <td>60.0</td>\n",
       "      <td>65.0</td>\n",
       "      <td>64.0</td>\n",
       "      <td>64.0</td>\n",
       "      <td>60.0</td>\n",
       "      <td>55.0</td>\n",
       "      <td>53.0</td>\n",
       "      <td>51.0</td>\n",
       "      <td>48.0</td>\n",
       "      <td>46.0</td>\n",
       "      <td>46.0</td>\n",
       "      <td>47.0</td>\n",
       "      <td>46.0</td>\n",
       "      <td>43.0</td>\n",
       "      <td>43.0</td>\n",
       "      <td>40.0</td>\n",
       "      <td>50.0</td>\n",
       "      <td>46.0</td>\n",
       "      <td>41.0</td>\n",
       "      <td>44.0</td>\n",
       "      <td>50.0</td>\n",
       "      <td>48.0</td>\n",
       "      <td>43.0</td>\n",
       "      <td>26.0</td>\n",
       "      <td>29.0</td>\n",
       "      <td>70.0</td>\n",
       "      <td>48.0</td>\n",
       "      <td>58.0</td>\n",
       "      <td>236.0</td>\n",
       "      <td>262.0</td>\n",
       "      <td>263.0</td>\n",
       "      <td>230.0</td>\n",
       "      <td>379.0</td>\n",
       "      <td>315.0</td>\n",
       "      <td>203.0</td>\n",
       "      <td>367</td>\n",
       "      <td>360</td>\n",
       "    </tr>\n",
       "    <tr>\n",
       "      <th>3</th>\n",
       "      <td>AFG</td>\n",
       "      <td>2</td>\n",
       "      <td>Afghanistan</td>\n",
       "      <td>2513</td>\n",
       "      <td>Barley and products</td>\n",
       "      <td>5142</td>\n",
       "      <td>Food</td>\n",
       "      <td>1000 tonnes</td>\n",
       "      <td>33.94</td>\n",
       "      <td>67.71</td>\n",
       "      <td>237.0</td>\n",
       "      <td>237.0</td>\n",
       "      <td>237.0</td>\n",
       "      <td>238.0</td>\n",
       "      <td>238.0</td>\n",
       "      <td>237.0</td>\n",
       "      <td>225.0</td>\n",
       "      <td>227.0</td>\n",
       "      <td>230.0</td>\n",
       "      <td>234.0</td>\n",
       "      <td>223.0</td>\n",
       "      <td>219.0</td>\n",
       "      <td>225.0</td>\n",
       "      <td>240.0</td>\n",
       "      <td>244.0</td>\n",
       "      <td>255.0</td>\n",
       "      <td>185.0</td>\n",
       "      <td>203.0</td>\n",
       "      <td>198.0</td>\n",
       "      <td>202.0</td>\n",
       "      <td>189.0</td>\n",
       "      <td>174.0</td>\n",
       "      <td>167.0</td>\n",
       "      <td>160.0</td>\n",
       "      <td>151.0</td>\n",
       "      <td>145.0</td>\n",
       "      <td>145.0</td>\n",
       "      <td>148.0</td>\n",
       "      <td>145.0</td>\n",
       "      <td>135.0</td>\n",
       "      <td>132.0</td>\n",
       "      <td>120.0</td>\n",
       "      <td>155.0</td>\n",
       "      <td>143.0</td>\n",
       "      <td>125.0</td>\n",
       "      <td>138.0</td>\n",
       "      <td>159.0</td>\n",
       "      <td>154.0</td>\n",
       "      <td>141.0</td>\n",
       "      <td>84.0</td>\n",
       "      <td>83.0</td>\n",
       "      <td>122.0</td>\n",
       "      <td>144.0</td>\n",
       "      <td>185.0</td>\n",
       "      <td>43.0</td>\n",
       "      <td>44.0</td>\n",
       "      <td>48.0</td>\n",
       "      <td>62.0</td>\n",
       "      <td>55.0</td>\n",
       "      <td>60.0</td>\n",
       "      <td>72.0</td>\n",
       "      <td>78</td>\n",
       "      <td>89</td>\n",
       "    </tr>\n",
       "    <tr>\n",
       "      <th>4</th>\n",
       "      <td>AFG</td>\n",
       "      <td>2</td>\n",
       "      <td>Afghanistan</td>\n",
       "      <td>2514</td>\n",
       "      <td>Maize and products</td>\n",
       "      <td>5521</td>\n",
       "      <td>Feed</td>\n",
       "      <td>1000 tonnes</td>\n",
       "      <td>33.94</td>\n",
       "      <td>67.71</td>\n",
       "      <td>210.0</td>\n",
       "      <td>210.0</td>\n",
       "      <td>214.0</td>\n",
       "      <td>216.0</td>\n",
       "      <td>216.0</td>\n",
       "      <td>216.0</td>\n",
       "      <td>235.0</td>\n",
       "      <td>232.0</td>\n",
       "      <td>236.0</td>\n",
       "      <td>200.0</td>\n",
       "      <td>201.0</td>\n",
       "      <td>216.0</td>\n",
       "      <td>228.0</td>\n",
       "      <td>231.0</td>\n",
       "      <td>234.0</td>\n",
       "      <td>240.0</td>\n",
       "      <td>228.0</td>\n",
       "      <td>234.0</td>\n",
       "      <td>228.0</td>\n",
       "      <td>226.0</td>\n",
       "      <td>210.0</td>\n",
       "      <td>199.0</td>\n",
       "      <td>192.0</td>\n",
       "      <td>182.0</td>\n",
       "      <td>173.0</td>\n",
       "      <td>170.0</td>\n",
       "      <td>154.0</td>\n",
       "      <td>148.0</td>\n",
       "      <td>137.0</td>\n",
       "      <td>144.0</td>\n",
       "      <td>126.0</td>\n",
       "      <td>90.0</td>\n",
       "      <td>141.0</td>\n",
       "      <td>150.0</td>\n",
       "      <td>159.0</td>\n",
       "      <td>108.0</td>\n",
       "      <td>90.0</td>\n",
       "      <td>99.0</td>\n",
       "      <td>72.0</td>\n",
       "      <td>35.0</td>\n",
       "      <td>48.0</td>\n",
       "      <td>89.0</td>\n",
       "      <td>63.0</td>\n",
       "      <td>120.0</td>\n",
       "      <td>208.0</td>\n",
       "      <td>233.0</td>\n",
       "      <td>249.0</td>\n",
       "      <td>247.0</td>\n",
       "      <td>195.0</td>\n",
       "      <td>178.0</td>\n",
       "      <td>191.0</td>\n",
       "      <td>200</td>\n",
       "      <td>200</td>\n",
       "    </tr>\n",
       "  </tbody>\n",
       "</table>\n",
       "</div>"
      ],
      "text/plain": [
       "  Area Abbreviation  Area Code         Area  Item Code  \\\n",
       "0               AFG          2  Afghanistan       2511   \n",
       "1               AFG          2  Afghanistan       2805   \n",
       "2               AFG          2  Afghanistan       2513   \n",
       "3               AFG          2  Afghanistan       2513   \n",
       "4               AFG          2  Afghanistan       2514   \n",
       "\n",
       "                       Item  Element Code Element         Unit  latitude  \\\n",
       "0        Wheat and products          5142    Food  1000 tonnes     33.94   \n",
       "1  Rice (Milled Equivalent)          5142    Food  1000 tonnes     33.94   \n",
       "2       Barley and products          5521    Feed  1000 tonnes     33.94   \n",
       "3       Barley and products          5142    Food  1000 tonnes     33.94   \n",
       "4        Maize and products          5521    Feed  1000 tonnes     33.94   \n",
       "\n",
       "   longitude   Y1961   Y1962   Y1963   Y1964   Y1965   Y1966   Y1967   Y1968  \\\n",
       "0      67.71  1928.0  1904.0  1666.0  1950.0  2001.0  1808.0  2053.0  2045.0   \n",
       "1      67.71   183.0   183.0   182.0   220.0   220.0   195.0   231.0   235.0   \n",
       "2      67.71    76.0    76.0    76.0    76.0    76.0    75.0    71.0    72.0   \n",
       "3      67.71   237.0   237.0   237.0   238.0   238.0   237.0   225.0   227.0   \n",
       "4      67.71   210.0   210.0   214.0   216.0   216.0   216.0   235.0   232.0   \n",
       "\n",
       "    Y1969   Y1970   Y1971   Y1972   Y1973   Y1974   Y1975   Y1976   Y1977  \\\n",
       "0  2154.0  1819.0  1963.0  2215.0  2310.0  2335.0  2434.0  2512.0  2282.0   \n",
       "1   238.0   213.0   205.0   233.0   246.0   246.0   255.0   263.0   235.0   \n",
       "2    73.0    74.0    71.0    70.0    72.0    76.0    77.0    80.0    60.0   \n",
       "3   230.0   234.0   223.0   219.0   225.0   240.0   244.0   255.0   185.0   \n",
       "4   236.0   200.0   201.0   216.0   228.0   231.0   234.0   240.0   228.0   \n",
       "\n",
       "    Y1978   Y1979   Y1980   Y1981   Y1982   Y1983   Y1984   Y1985   Y1986  \\\n",
       "0  2454.0  2443.0  2129.0  2133.0  2068.0  1994.0  1851.0  1791.0  1683.0   \n",
       "1   254.0   270.0   259.0   248.0   217.0   217.0   197.0   186.0   200.0   \n",
       "2    65.0    64.0    64.0    60.0    55.0    53.0    51.0    48.0    46.0   \n",
       "3   203.0   198.0   202.0   189.0   174.0   167.0   160.0   151.0   145.0   \n",
       "4   234.0   228.0   226.0   210.0   199.0   192.0   182.0   173.0   170.0   \n",
       "\n",
       "    Y1987   Y1988   Y1989   Y1990   Y1991   Y1992   Y1993   Y1994   Y1995  \\\n",
       "0  2194.0  1801.0  1754.0  1640.0  1539.0  1582.0  1840.0  1855.0  1853.0   \n",
       "1   193.0   202.0   191.0   199.0   197.0   249.0   218.0   260.0   319.0   \n",
       "2    46.0    47.0    46.0    43.0    43.0    40.0    50.0    46.0    41.0   \n",
       "3   145.0   148.0   145.0   135.0   132.0   120.0   155.0   143.0   125.0   \n",
       "4   154.0   148.0   137.0   144.0   126.0    90.0   141.0   150.0   159.0   \n",
       "\n",
       "    Y1996   Y1997   Y1998   Y1999   Y2000   Y2001   Y2002   Y2003   Y2004  \\\n",
       "0  2177.0  2343.0  2407.0  2463.0  2600.0  2668.0  2776.0  3095.0  3249.0   \n",
       "1   254.0   326.0   347.0   270.0   372.0   411.0   448.0   460.0   419.0   \n",
       "2    44.0    50.0    48.0    43.0    26.0    29.0    70.0    48.0    58.0   \n",
       "3   138.0   159.0   154.0   141.0    84.0    83.0   122.0   144.0   185.0   \n",
       "4   108.0    90.0    99.0    72.0    35.0    48.0    89.0    63.0   120.0   \n",
       "\n",
       "    Y2005   Y2006   Y2007   Y2008   Y2009   Y2010   Y2011  Y2012  Y2013  \n",
       "0  3486.0  3704.0  4164.0  4252.0  4538.0  4605.0  4711.0   4810   4895  \n",
       "1   445.0   546.0   455.0   490.0   415.0   442.0   476.0    425    422  \n",
       "2   236.0   262.0   263.0   230.0   379.0   315.0   203.0    367    360  \n",
       "3    43.0    44.0    48.0    62.0    55.0    60.0    72.0     78     89  \n",
       "4   208.0   233.0   249.0   247.0   195.0   178.0   191.0    200    200  "
      ]
     },
     "execution_count": 4,
     "metadata": {},
     "output_type": "execute_result"
    }
   ],
   "source": [
    "print(f\"Dimensioni del dataframe: {df_prod.shape[0]} righe e {df_prod.shape[1]} colonne.\")\n",
    "print(\"\\nColonne del dataframe:\\n\", df_prod.columns)\n",
    "df_prod.head()"
   ]
  },
  {
   "cell_type": "code",
   "execution_count": 5,
   "id": "ebd19f4c",
   "metadata": {},
   "outputs": [],
   "source": [
    "# Elimino le colonne non necessarie\n",
    "df_prod.drop(columns=['Area Code', 'Item Code', 'Element Code', 'Unit'], inplace=True)\n",
    "\n",
    "# Rimuovo la 'Y' dalle labels degli anni\n",
    "df_prod.rename(columns={x:x[1:] for x in df_prod.columns if 'Y' in x}, inplace=True)\n",
    "\n",
    "# Cambio i nomi ad alcune labels \n",
    "df_prod.rename(columns={'Area': 'Country_Name', 'Area Abbreviation':'Country_Code'}, inplace=True)"
   ]
  },
  {
   "cell_type": "markdown",
   "id": "8e24bf63",
   "metadata": {},
   "source": [
    "#### Valori mancanti e variabili quantitative"
   ]
  },
  {
   "cell_type": "markdown",
   "id": "cec396d5",
   "metadata": {},
   "source": [
    "Procedo verificando la presenza di valori mancanti (*NaN*) nel dataset. Se effettivamente presenti, approfondisco l'analisi per sapere quanti sono e in quali colonne sono maggiormente frequenti. Inoltre, proverò a fare un *imputation*, ovvero a stabilire il motivo della loro presenza. "
   ]
  },
  {
   "cell_type": "code",
   "execution_count": 6,
   "id": "9a5ea65a",
   "metadata": {},
   "outputs": [
    {
     "name": "stdout",
     "output_type": "stream",
     "text": [
      "Dtype, Valori unici e Valori mancanti(%) di ciascuna colonna:\n"
     ]
    },
    {
     "data": {
      "text/html": [
       "<div>\n",
       "<style scoped>\n",
       "    .dataframe tbody tr th:only-of-type {\n",
       "        vertical-align: middle;\n",
       "    }\n",
       "\n",
       "    .dataframe tbody tr th {\n",
       "        vertical-align: top;\n",
       "    }\n",
       "\n",
       "    .dataframe thead th {\n",
       "        text-align: right;\n",
       "    }\n",
       "</style>\n",
       "<table border=\"1\" class=\"dataframe\">\n",
       "  <thead>\n",
       "    <tr style=\"text-align: right;\">\n",
       "      <th></th>\n",
       "      <th>Dtype</th>\n",
       "      <th>Valori unici</th>\n",
       "      <th>Valori mancanti(%)</th>\n",
       "    </tr>\n",
       "    <tr>\n",
       "      <th>Colonne</th>\n",
       "      <th></th>\n",
       "      <th></th>\n",
       "      <th></th>\n",
       "    </tr>\n",
       "  </thead>\n",
       "  <tbody>\n",
       "    <tr>\n",
       "      <th>Country_Code</th>\n",
       "      <td>object</td>\n",
       "      <td>169</td>\n",
       "      <td>0.00</td>\n",
       "    </tr>\n",
       "    <tr>\n",
       "      <th>Country_Name</th>\n",
       "      <td>object</td>\n",
       "      <td>174</td>\n",
       "      <td>0.00</td>\n",
       "    </tr>\n",
       "    <tr>\n",
       "      <th>Item</th>\n",
       "      <td>object</td>\n",
       "      <td>115</td>\n",
       "      <td>0.00</td>\n",
       "    </tr>\n",
       "    <tr>\n",
       "      <th>Element</th>\n",
       "      <td>object</td>\n",
       "      <td>2</td>\n",
       "      <td>0.00</td>\n",
       "    </tr>\n",
       "    <tr>\n",
       "      <th>latitude</th>\n",
       "      <td>float64</td>\n",
       "      <td>173</td>\n",
       "      <td>0.00</td>\n",
       "    </tr>\n",
       "    <tr>\n",
       "      <th>longitude</th>\n",
       "      <td>float64</td>\n",
       "      <td>174</td>\n",
       "      <td>0.00</td>\n",
       "    </tr>\n",
       "    <tr>\n",
       "      <th>1961</th>\n",
       "      <td>float64</td>\n",
       "      <td>1197</td>\n",
       "      <td>16.48</td>\n",
       "    </tr>\n",
       "    <tr>\n",
       "      <th>1962</th>\n",
       "      <td>float64</td>\n",
       "      <td>1215</td>\n",
       "      <td>16.48</td>\n",
       "    </tr>\n",
       "    <tr>\n",
       "      <th>1963</th>\n",
       "      <td>float64</td>\n",
       "      <td>1209</td>\n",
       "      <td>16.48</td>\n",
       "    </tr>\n",
       "    <tr>\n",
       "      <th>1964</th>\n",
       "      <td>float64</td>\n",
       "      <td>1236</td>\n",
       "      <td>16.48</td>\n",
       "    </tr>\n",
       "    <tr>\n",
       "      <th>1965</th>\n",
       "      <td>float64</td>\n",
       "      <td>1259</td>\n",
       "      <td>16.48</td>\n",
       "    </tr>\n",
       "    <tr>\n",
       "      <th>1966</th>\n",
       "      <td>float64</td>\n",
       "      <td>1263</td>\n",
       "      <td>16.48</td>\n",
       "    </tr>\n",
       "    <tr>\n",
       "      <th>1967</th>\n",
       "      <td>float64</td>\n",
       "      <td>1283</td>\n",
       "      <td>16.48</td>\n",
       "    </tr>\n",
       "    <tr>\n",
       "      <th>1968</th>\n",
       "      <td>float64</td>\n",
       "      <td>1300</td>\n",
       "      <td>16.48</td>\n",
       "    </tr>\n",
       "    <tr>\n",
       "      <th>1969</th>\n",
       "      <td>float64</td>\n",
       "      <td>1309</td>\n",
       "      <td>16.48</td>\n",
       "    </tr>\n",
       "    <tr>\n",
       "      <th>1970</th>\n",
       "      <td>float64</td>\n",
       "      <td>1322</td>\n",
       "      <td>16.48</td>\n",
       "    </tr>\n",
       "    <tr>\n",
       "      <th>1971</th>\n",
       "      <td>float64</td>\n",
       "      <td>1351</td>\n",
       "      <td>16.48</td>\n",
       "    </tr>\n",
       "    <tr>\n",
       "      <th>1972</th>\n",
       "      <td>float64</td>\n",
       "      <td>1360</td>\n",
       "      <td>16.48</td>\n",
       "    </tr>\n",
       "    <tr>\n",
       "      <th>1973</th>\n",
       "      <td>float64</td>\n",
       "      <td>1374</td>\n",
       "      <td>16.48</td>\n",
       "    </tr>\n",
       "    <tr>\n",
       "      <th>1974</th>\n",
       "      <td>float64</td>\n",
       "      <td>1388</td>\n",
       "      <td>16.48</td>\n",
       "    </tr>\n",
       "    <tr>\n",
       "      <th>1975</th>\n",
       "      <td>float64</td>\n",
       "      <td>1405</td>\n",
       "      <td>16.48</td>\n",
       "    </tr>\n",
       "    <tr>\n",
       "      <th>1976</th>\n",
       "      <td>float64</td>\n",
       "      <td>1410</td>\n",
       "      <td>16.48</td>\n",
       "    </tr>\n",
       "    <tr>\n",
       "      <th>1977</th>\n",
       "      <td>float64</td>\n",
       "      <td>1411</td>\n",
       "      <td>16.48</td>\n",
       "    </tr>\n",
       "    <tr>\n",
       "      <th>1978</th>\n",
       "      <td>float64</td>\n",
       "      <td>1463</td>\n",
       "      <td>16.48</td>\n",
       "    </tr>\n",
       "    <tr>\n",
       "      <th>1979</th>\n",
       "      <td>float64</td>\n",
       "      <td>1473</td>\n",
       "      <td>16.48</td>\n",
       "    </tr>\n",
       "    <tr>\n",
       "      <th>1980</th>\n",
       "      <td>float64</td>\n",
       "      <td>1477</td>\n",
       "      <td>16.48</td>\n",
       "    </tr>\n",
       "    <tr>\n",
       "      <th>1981</th>\n",
       "      <td>float64</td>\n",
       "      <td>1469</td>\n",
       "      <td>16.48</td>\n",
       "    </tr>\n",
       "    <tr>\n",
       "      <th>1982</th>\n",
       "      <td>float64</td>\n",
       "      <td>1508</td>\n",
       "      <td>16.48</td>\n",
       "    </tr>\n",
       "    <tr>\n",
       "      <th>1983</th>\n",
       "      <td>float64</td>\n",
       "      <td>1528</td>\n",
       "      <td>16.48</td>\n",
       "    </tr>\n",
       "    <tr>\n",
       "      <th>1984</th>\n",
       "      <td>float64</td>\n",
       "      <td>1540</td>\n",
       "      <td>16.48</td>\n",
       "    </tr>\n",
       "    <tr>\n",
       "      <th>1985</th>\n",
       "      <td>float64</td>\n",
       "      <td>1538</td>\n",
       "      <td>16.48</td>\n",
       "    </tr>\n",
       "    <tr>\n",
       "      <th>1986</th>\n",
       "      <td>float64</td>\n",
       "      <td>1563</td>\n",
       "      <td>16.48</td>\n",
       "    </tr>\n",
       "    <tr>\n",
       "      <th>1987</th>\n",
       "      <td>float64</td>\n",
       "      <td>1592</td>\n",
       "      <td>16.48</td>\n",
       "    </tr>\n",
       "    <tr>\n",
       "      <th>1988</th>\n",
       "      <td>float64</td>\n",
       "      <td>1613</td>\n",
       "      <td>16.48</td>\n",
       "    </tr>\n",
       "    <tr>\n",
       "      <th>1989</th>\n",
       "      <td>float64</td>\n",
       "      <td>1622</td>\n",
       "      <td>16.48</td>\n",
       "    </tr>\n",
       "    <tr>\n",
       "      <th>1990</th>\n",
       "      <td>float64</td>\n",
       "      <td>1621</td>\n",
       "      <td>15.90</td>\n",
       "    </tr>\n",
       "    <tr>\n",
       "      <th>1991</th>\n",
       "      <td>float64</td>\n",
       "      <td>1632</td>\n",
       "      <td>15.90</td>\n",
       "    </tr>\n",
       "    <tr>\n",
       "      <th>1992</th>\n",
       "      <td>float64</td>\n",
       "      <td>1747</td>\n",
       "      <td>4.60</td>\n",
       "    </tr>\n",
       "    <tr>\n",
       "      <th>1993</th>\n",
       "      <td>float64</td>\n",
       "      <td>1785</td>\n",
       "      <td>2.85</td>\n",
       "    </tr>\n",
       "    <tr>\n",
       "      <th>1994</th>\n",
       "      <td>float64</td>\n",
       "      <td>1796</td>\n",
       "      <td>2.85</td>\n",
       "    </tr>\n",
       "    <tr>\n",
       "      <th>1995</th>\n",
       "      <td>float64</td>\n",
       "      <td>1796</td>\n",
       "      <td>2.85</td>\n",
       "    </tr>\n",
       "    <tr>\n",
       "      <th>1996</th>\n",
       "      <td>float64</td>\n",
       "      <td>1807</td>\n",
       "      <td>2.85</td>\n",
       "    </tr>\n",
       "    <tr>\n",
       "      <th>1997</th>\n",
       "      <td>float64</td>\n",
       "      <td>1810</td>\n",
       "      <td>2.85</td>\n",
       "    </tr>\n",
       "    <tr>\n",
       "      <th>1998</th>\n",
       "      <td>float64</td>\n",
       "      <td>1844</td>\n",
       "      <td>2.85</td>\n",
       "    </tr>\n",
       "    <tr>\n",
       "      <th>1999</th>\n",
       "      <td>float64</td>\n",
       "      <td>1859</td>\n",
       "      <td>2.85</td>\n",
       "    </tr>\n",
       "    <tr>\n",
       "      <th>2000</th>\n",
       "      <td>float64</td>\n",
       "      <td>1892</td>\n",
       "      <td>1.62</td>\n",
       "    </tr>\n",
       "    <tr>\n",
       "      <th>2001</th>\n",
       "      <td>float64</td>\n",
       "      <td>1881</td>\n",
       "      <td>1.62</td>\n",
       "    </tr>\n",
       "    <tr>\n",
       "      <th>2002</th>\n",
       "      <td>float64</td>\n",
       "      <td>1909</td>\n",
       "      <td>1.62</td>\n",
       "    </tr>\n",
       "    <tr>\n",
       "      <th>2003</th>\n",
       "      <td>float64</td>\n",
       "      <td>1935</td>\n",
       "      <td>1.62</td>\n",
       "    </tr>\n",
       "    <tr>\n",
       "      <th>2004</th>\n",
       "      <td>float64</td>\n",
       "      <td>1944</td>\n",
       "      <td>1.62</td>\n",
       "    </tr>\n",
       "    <tr>\n",
       "      <th>2005</th>\n",
       "      <td>float64</td>\n",
       "      <td>1963</td>\n",
       "      <td>1.62</td>\n",
       "    </tr>\n",
       "    <tr>\n",
       "      <th>2006</th>\n",
       "      <td>float64</td>\n",
       "      <td>1987</td>\n",
       "      <td>0.48</td>\n",
       "    </tr>\n",
       "    <tr>\n",
       "      <th>2007</th>\n",
       "      <td>float64</td>\n",
       "      <td>1994</td>\n",
       "      <td>0.48</td>\n",
       "    </tr>\n",
       "    <tr>\n",
       "      <th>2008</th>\n",
       "      <td>float64</td>\n",
       "      <td>2028</td>\n",
       "      <td>0.48</td>\n",
       "    </tr>\n",
       "    <tr>\n",
       "      <th>2009</th>\n",
       "      <td>float64</td>\n",
       "      <td>2029</td>\n",
       "      <td>0.48</td>\n",
       "    </tr>\n",
       "    <tr>\n",
       "      <th>2010</th>\n",
       "      <td>float64</td>\n",
       "      <td>2046</td>\n",
       "      <td>0.48</td>\n",
       "    </tr>\n",
       "    <tr>\n",
       "      <th>2011</th>\n",
       "      <td>float64</td>\n",
       "      <td>2081</td>\n",
       "      <td>0.48</td>\n",
       "    </tr>\n",
       "    <tr>\n",
       "      <th>2012</th>\n",
       "      <td>int64</td>\n",
       "      <td>2084</td>\n",
       "      <td>0.00</td>\n",
       "    </tr>\n",
       "    <tr>\n",
       "      <th>2013</th>\n",
       "      <td>int64</td>\n",
       "      <td>2107</td>\n",
       "      <td>0.00</td>\n",
       "    </tr>\n",
       "  </tbody>\n",
       "</table>\n",
       "</div>"
      ],
      "text/plain": [
       "                Dtype  Valori unici  Valori mancanti(%)\n",
       "Colonne                                                \n",
       "Country_Code   object           169                0.00\n",
       "Country_Name   object           174                0.00\n",
       "Item           object           115                0.00\n",
       "Element        object             2                0.00\n",
       "latitude      float64           173                0.00\n",
       "longitude     float64           174                0.00\n",
       "1961          float64          1197               16.48\n",
       "1962          float64          1215               16.48\n",
       "1963          float64          1209               16.48\n",
       "1964          float64          1236               16.48\n",
       "1965          float64          1259               16.48\n",
       "1966          float64          1263               16.48\n",
       "1967          float64          1283               16.48\n",
       "1968          float64          1300               16.48\n",
       "1969          float64          1309               16.48\n",
       "1970          float64          1322               16.48\n",
       "1971          float64          1351               16.48\n",
       "1972          float64          1360               16.48\n",
       "1973          float64          1374               16.48\n",
       "1974          float64          1388               16.48\n",
       "1975          float64          1405               16.48\n",
       "1976          float64          1410               16.48\n",
       "1977          float64          1411               16.48\n",
       "1978          float64          1463               16.48\n",
       "1979          float64          1473               16.48\n",
       "1980          float64          1477               16.48\n",
       "1981          float64          1469               16.48\n",
       "1982          float64          1508               16.48\n",
       "1983          float64          1528               16.48\n",
       "1984          float64          1540               16.48\n",
       "1985          float64          1538               16.48\n",
       "1986          float64          1563               16.48\n",
       "1987          float64          1592               16.48\n",
       "1988          float64          1613               16.48\n",
       "1989          float64          1622               16.48\n",
       "1990          float64          1621               15.90\n",
       "1991          float64          1632               15.90\n",
       "1992          float64          1747                4.60\n",
       "1993          float64          1785                2.85\n",
       "1994          float64          1796                2.85\n",
       "1995          float64          1796                2.85\n",
       "1996          float64          1807                2.85\n",
       "1997          float64          1810                2.85\n",
       "1998          float64          1844                2.85\n",
       "1999          float64          1859                2.85\n",
       "2000          float64          1892                1.62\n",
       "2001          float64          1881                1.62\n",
       "2002          float64          1909                1.62\n",
       "2003          float64          1935                1.62\n",
       "2004          float64          1944                1.62\n",
       "2005          float64          1963                1.62\n",
       "2006          float64          1987                0.48\n",
       "2007          float64          1994                0.48\n",
       "2008          float64          2028                0.48\n",
       "2009          float64          2029                0.48\n",
       "2010          float64          2046                0.48\n",
       "2011          float64          2081                0.48\n",
       "2012            int64          2084                0.00\n",
       "2013            int64          2107                0.00"
      ]
     },
     "execution_count": 6,
     "metadata": {},
     "output_type": "execute_result"
    }
   ],
   "source": [
    "# La funzione pd.DataFrame.info() è un ottimo strumento, ma in questo caso si ottiene un output confusionario, \n",
    "# quindi costruisco una tabella riassuntiva più leggibile sui Dtype, valori unici e valori mancanti di tutte le colonne\n",
    "print(\"Dtype, Valori unici e Valori mancanti(%) di ciascuna colonna:\")\n",
    "\n",
    "df_prod_info= pd.DataFrame({\"Dtype\": df_prod.dtypes, \n",
    "                            \"Valori unici\": df_prod.nunique(),\n",
    "                            \"Valori mancanti(%)\": round(df_prod.isnull().sum()/df_prod.shape[0]*100, 2)\n",
    "                            }).rename_axis('Colonne', axis='rows')                       \n",
    "\n",
    "df_prod_info"
   ]
  },
  {
   "cell_type": "markdown",
   "id": "76df8869",
   "metadata": {},
   "source": [
    "Le colonne che contengono le percentuali maggiori di valori mancanti sono quelle che indicano i dati di produzione *tra il 1961 e il 1991*. \n",
    "\n",
    "Come si può leggere nella documentazione del dataset:\n",
    "\n",
    ">The Food Balance sheet's data was relatively complete. A few countries that do not exist anymore, such as Czechoslovakia, were deleted from the database. Countries which were formed lately such as South Sudan were kept, even though they do not have all full data going back to 1961. [...]\n",
    "\n",
    "Quindi, in un certo senso, sembrerebbe che particolari *evoluzioni geopolitiche di alcuni paesi* siano la causa dell'indisponibilità dei dati.  \n",
    "\n",
    "Prendo un campione a caso dove sono presenti questi valori mancanti, cercando di fare chiarezza e di confermare le informazioni contenute nella documentazione del dataset.  "
   ]
  },
  {
   "cell_type": "code",
   "execution_count": 7,
   "id": "c28467cc",
   "metadata": {},
   "outputs": [
    {
     "name": "stdout",
     "output_type": "stream",
     "text": [
      "\n",
      "Numero di righe con valori mancanti: 3539\n"
     ]
    },
    {
     "data": {
      "text/html": [
       "<div>\n",
       "<style scoped>\n",
       "    .dataframe tbody tr th:only-of-type {\n",
       "        vertical-align: middle;\n",
       "    }\n",
       "\n",
       "    .dataframe tbody tr th {\n",
       "        vertical-align: top;\n",
       "    }\n",
       "\n",
       "    .dataframe thead th {\n",
       "        text-align: right;\n",
       "    }\n",
       "</style>\n",
       "<table border=\"1\" class=\"dataframe\">\n",
       "  <thead>\n",
       "    <tr style=\"text-align: right;\">\n",
       "      <th></th>\n",
       "      <th>Country_Code</th>\n",
       "      <th>Country_Name</th>\n",
       "      <th>Item</th>\n",
       "      <th>Element</th>\n",
       "      <th>latitude</th>\n",
       "      <th>longitude</th>\n",
       "      <th>1961</th>\n",
       "      <th>1962</th>\n",
       "      <th>1963</th>\n",
       "      <th>1964</th>\n",
       "      <th>1965</th>\n",
       "      <th>1966</th>\n",
       "      <th>1967</th>\n",
       "      <th>1968</th>\n",
       "      <th>1969</th>\n",
       "      <th>1970</th>\n",
       "      <th>1971</th>\n",
       "      <th>1972</th>\n",
       "      <th>1973</th>\n",
       "      <th>1974</th>\n",
       "      <th>1975</th>\n",
       "      <th>1976</th>\n",
       "      <th>1977</th>\n",
       "      <th>1978</th>\n",
       "      <th>1979</th>\n",
       "      <th>1980</th>\n",
       "      <th>1981</th>\n",
       "      <th>1982</th>\n",
       "      <th>1983</th>\n",
       "      <th>1984</th>\n",
       "      <th>1985</th>\n",
       "      <th>1986</th>\n",
       "      <th>1987</th>\n",
       "      <th>1988</th>\n",
       "      <th>1989</th>\n",
       "      <th>1990</th>\n",
       "      <th>1991</th>\n",
       "      <th>1992</th>\n",
       "      <th>1993</th>\n",
       "      <th>1994</th>\n",
       "      <th>1995</th>\n",
       "      <th>1996</th>\n",
       "      <th>1997</th>\n",
       "      <th>1998</th>\n",
       "      <th>1999</th>\n",
       "      <th>2000</th>\n",
       "      <th>2001</th>\n",
       "      <th>2002</th>\n",
       "      <th>2003</th>\n",
       "      <th>2004</th>\n",
       "      <th>2005</th>\n",
       "      <th>2006</th>\n",
       "      <th>2007</th>\n",
       "      <th>2008</th>\n",
       "      <th>2009</th>\n",
       "      <th>2010</th>\n",
       "      <th>2011</th>\n",
       "      <th>2012</th>\n",
       "      <th>2013</th>\n",
       "    </tr>\n",
       "  </thead>\n",
       "  <tbody>\n",
       "    <tr>\n",
       "      <th>17328</th>\n",
       "      <td>SVK</td>\n",
       "      <td>Slovakia</td>\n",
       "      <td>Millet and products</td>\n",
       "      <td>Feed</td>\n",
       "      <td>48.67</td>\n",
       "      <td>19.70</td>\n",
       "      <td>NaN</td>\n",
       "      <td>NaN</td>\n",
       "      <td>NaN</td>\n",
       "      <td>NaN</td>\n",
       "      <td>NaN</td>\n",
       "      <td>NaN</td>\n",
       "      <td>NaN</td>\n",
       "      <td>NaN</td>\n",
       "      <td>NaN</td>\n",
       "      <td>NaN</td>\n",
       "      <td>NaN</td>\n",
       "      <td>NaN</td>\n",
       "      <td>NaN</td>\n",
       "      <td>NaN</td>\n",
       "      <td>NaN</td>\n",
       "      <td>NaN</td>\n",
       "      <td>NaN</td>\n",
       "      <td>NaN</td>\n",
       "      <td>NaN</td>\n",
       "      <td>NaN</td>\n",
       "      <td>NaN</td>\n",
       "      <td>NaN</td>\n",
       "      <td>NaN</td>\n",
       "      <td>NaN</td>\n",
       "      <td>NaN</td>\n",
       "      <td>NaN</td>\n",
       "      <td>NaN</td>\n",
       "      <td>NaN</td>\n",
       "      <td>NaN</td>\n",
       "      <td>NaN</td>\n",
       "      <td>NaN</td>\n",
       "      <td>NaN</td>\n",
       "      <td>1.0</td>\n",
       "      <td>1.0</td>\n",
       "      <td>1.0</td>\n",
       "      <td>1.0</td>\n",
       "      <td>0.0</td>\n",
       "      <td>0.0</td>\n",
       "      <td>1.0</td>\n",
       "      <td>1.0</td>\n",
       "      <td>1.0</td>\n",
       "      <td>1.0</td>\n",
       "      <td>1.0</td>\n",
       "      <td>2.0</td>\n",
       "      <td>0.0</td>\n",
       "      <td>0.0</td>\n",
       "      <td>1.0</td>\n",
       "      <td>1.0</td>\n",
       "      <td>1.0</td>\n",
       "      <td>0.0</td>\n",
       "      <td>1.0</td>\n",
       "      <td>1</td>\n",
       "      <td>1</td>\n",
       "    </tr>\n",
       "    <tr>\n",
       "      <th>13020</th>\n",
       "      <td>MNE</td>\n",
       "      <td>Montenegro</td>\n",
       "      <td>Apples and products</td>\n",
       "      <td>Food</td>\n",
       "      <td>42.71</td>\n",
       "      <td>19.37</td>\n",
       "      <td>NaN</td>\n",
       "      <td>NaN</td>\n",
       "      <td>NaN</td>\n",
       "      <td>NaN</td>\n",
       "      <td>NaN</td>\n",
       "      <td>NaN</td>\n",
       "      <td>NaN</td>\n",
       "      <td>NaN</td>\n",
       "      <td>NaN</td>\n",
       "      <td>NaN</td>\n",
       "      <td>NaN</td>\n",
       "      <td>NaN</td>\n",
       "      <td>NaN</td>\n",
       "      <td>NaN</td>\n",
       "      <td>NaN</td>\n",
       "      <td>NaN</td>\n",
       "      <td>NaN</td>\n",
       "      <td>NaN</td>\n",
       "      <td>NaN</td>\n",
       "      <td>NaN</td>\n",
       "      <td>NaN</td>\n",
       "      <td>NaN</td>\n",
       "      <td>NaN</td>\n",
       "      <td>NaN</td>\n",
       "      <td>NaN</td>\n",
       "      <td>NaN</td>\n",
       "      <td>NaN</td>\n",
       "      <td>NaN</td>\n",
       "      <td>NaN</td>\n",
       "      <td>NaN</td>\n",
       "      <td>NaN</td>\n",
       "      <td>NaN</td>\n",
       "      <td>NaN</td>\n",
       "      <td>NaN</td>\n",
       "      <td>NaN</td>\n",
       "      <td>NaN</td>\n",
       "      <td>NaN</td>\n",
       "      <td>NaN</td>\n",
       "      <td>NaN</td>\n",
       "      <td>NaN</td>\n",
       "      <td>NaN</td>\n",
       "      <td>NaN</td>\n",
       "      <td>NaN</td>\n",
       "      <td>NaN</td>\n",
       "      <td>NaN</td>\n",
       "      <td>11.0</td>\n",
       "      <td>19.0</td>\n",
       "      <td>34.0</td>\n",
       "      <td>38.0</td>\n",
       "      <td>33.0</td>\n",
       "      <td>27.0</td>\n",
       "      <td>14</td>\n",
       "      <td>13</td>\n",
       "    </tr>\n",
       "    <tr>\n",
       "      <th>17526</th>\n",
       "      <td>SVN</td>\n",
       "      <td>Slovenia</td>\n",
       "      <td>Pigmeat</td>\n",
       "      <td>Food</td>\n",
       "      <td>46.15</td>\n",
       "      <td>15.00</td>\n",
       "      <td>NaN</td>\n",
       "      <td>NaN</td>\n",
       "      <td>NaN</td>\n",
       "      <td>NaN</td>\n",
       "      <td>NaN</td>\n",
       "      <td>NaN</td>\n",
       "      <td>NaN</td>\n",
       "      <td>NaN</td>\n",
       "      <td>NaN</td>\n",
       "      <td>NaN</td>\n",
       "      <td>NaN</td>\n",
       "      <td>NaN</td>\n",
       "      <td>NaN</td>\n",
       "      <td>NaN</td>\n",
       "      <td>NaN</td>\n",
       "      <td>NaN</td>\n",
       "      <td>NaN</td>\n",
       "      <td>NaN</td>\n",
       "      <td>NaN</td>\n",
       "      <td>NaN</td>\n",
       "      <td>NaN</td>\n",
       "      <td>NaN</td>\n",
       "      <td>NaN</td>\n",
       "      <td>NaN</td>\n",
       "      <td>NaN</td>\n",
       "      <td>NaN</td>\n",
       "      <td>NaN</td>\n",
       "      <td>NaN</td>\n",
       "      <td>NaN</td>\n",
       "      <td>NaN</td>\n",
       "      <td>NaN</td>\n",
       "      <td>49.0</td>\n",
       "      <td>81.0</td>\n",
       "      <td>84.0</td>\n",
       "      <td>75.0</td>\n",
       "      <td>70.0</td>\n",
       "      <td>73.0</td>\n",
       "      <td>77.0</td>\n",
       "      <td>87.0</td>\n",
       "      <td>76.0</td>\n",
       "      <td>82.0</td>\n",
       "      <td>78.0</td>\n",
       "      <td>88.0</td>\n",
       "      <td>88.0</td>\n",
       "      <td>88.0</td>\n",
       "      <td>89.0</td>\n",
       "      <td>84.0</td>\n",
       "      <td>84.0</td>\n",
       "      <td>80.0</td>\n",
       "      <td>81.0</td>\n",
       "      <td>76.0</td>\n",
       "      <td>69</td>\n",
       "      <td>58</td>\n",
       "    </tr>\n",
       "    <tr>\n",
       "      <th>11128</th>\n",
       "      <td>LVA</td>\n",
       "      <td>Latvia</td>\n",
       "      <td>Beer</td>\n",
       "      <td>Food</td>\n",
       "      <td>56.88</td>\n",
       "      <td>24.60</td>\n",
       "      <td>NaN</td>\n",
       "      <td>NaN</td>\n",
       "      <td>NaN</td>\n",
       "      <td>NaN</td>\n",
       "      <td>NaN</td>\n",
       "      <td>NaN</td>\n",
       "      <td>NaN</td>\n",
       "      <td>NaN</td>\n",
       "      <td>NaN</td>\n",
       "      <td>NaN</td>\n",
       "      <td>NaN</td>\n",
       "      <td>NaN</td>\n",
       "      <td>NaN</td>\n",
       "      <td>NaN</td>\n",
       "      <td>NaN</td>\n",
       "      <td>NaN</td>\n",
       "      <td>NaN</td>\n",
       "      <td>NaN</td>\n",
       "      <td>NaN</td>\n",
       "      <td>NaN</td>\n",
       "      <td>NaN</td>\n",
       "      <td>NaN</td>\n",
       "      <td>NaN</td>\n",
       "      <td>NaN</td>\n",
       "      <td>NaN</td>\n",
       "      <td>NaN</td>\n",
       "      <td>NaN</td>\n",
       "      <td>NaN</td>\n",
       "      <td>NaN</td>\n",
       "      <td>NaN</td>\n",
       "      <td>NaN</td>\n",
       "      <td>88.0</td>\n",
       "      <td>53.0</td>\n",
       "      <td>66.0</td>\n",
       "      <td>67.0</td>\n",
       "      <td>66.0</td>\n",
       "      <td>73.0</td>\n",
       "      <td>82.0</td>\n",
       "      <td>100.0</td>\n",
       "      <td>99.0</td>\n",
       "      <td>105.0</td>\n",
       "      <td>134.0</td>\n",
       "      <td>142.0</td>\n",
       "      <td>124.0</td>\n",
       "      <td>144.0</td>\n",
       "      <td>147.0</td>\n",
       "      <td>158.0</td>\n",
       "      <td>156.0</td>\n",
       "      <td>146.0</td>\n",
       "      <td>164.0</td>\n",
       "      <td>172.0</td>\n",
       "      <td>163</td>\n",
       "      <td>156</td>\n",
       "    </tr>\n",
       "    <tr>\n",
       "      <th>16103</th>\n",
       "      <td>RUS</td>\n",
       "      <td>Russian Federation</td>\n",
       "      <td>Coconuts - Incl Copra</td>\n",
       "      <td>Food</td>\n",
       "      <td>61.52</td>\n",
       "      <td>105.32</td>\n",
       "      <td>NaN</td>\n",
       "      <td>NaN</td>\n",
       "      <td>NaN</td>\n",
       "      <td>NaN</td>\n",
       "      <td>NaN</td>\n",
       "      <td>NaN</td>\n",
       "      <td>NaN</td>\n",
       "      <td>NaN</td>\n",
       "      <td>NaN</td>\n",
       "      <td>NaN</td>\n",
       "      <td>NaN</td>\n",
       "      <td>NaN</td>\n",
       "      <td>NaN</td>\n",
       "      <td>NaN</td>\n",
       "      <td>NaN</td>\n",
       "      <td>NaN</td>\n",
       "      <td>NaN</td>\n",
       "      <td>NaN</td>\n",
       "      <td>NaN</td>\n",
       "      <td>NaN</td>\n",
       "      <td>NaN</td>\n",
       "      <td>NaN</td>\n",
       "      <td>NaN</td>\n",
       "      <td>NaN</td>\n",
       "      <td>NaN</td>\n",
       "      <td>NaN</td>\n",
       "      <td>NaN</td>\n",
       "      <td>NaN</td>\n",
       "      <td>NaN</td>\n",
       "      <td>NaN</td>\n",
       "      <td>NaN</td>\n",
       "      <td>0.0</td>\n",
       "      <td>0.0</td>\n",
       "      <td>1.0</td>\n",
       "      <td>1.0</td>\n",
       "      <td>2.0</td>\n",
       "      <td>2.0</td>\n",
       "      <td>10.0</td>\n",
       "      <td>10.0</td>\n",
       "      <td>21.0</td>\n",
       "      <td>28.0</td>\n",
       "      <td>42.0</td>\n",
       "      <td>45.0</td>\n",
       "      <td>47.0</td>\n",
       "      <td>52.0</td>\n",
       "      <td>45.0</td>\n",
       "      <td>59.0</td>\n",
       "      <td>42.0</td>\n",
       "      <td>39.0</td>\n",
       "      <td>48.0</td>\n",
       "      <td>63.0</td>\n",
       "      <td>57</td>\n",
       "      <td>63</td>\n",
       "    </tr>\n",
       "  </tbody>\n",
       "</table>\n",
       "</div>"
      ],
      "text/plain": [
       "      Country_Code        Country_Name                   Item Element  \\\n",
       "17328          SVK            Slovakia    Millet and products    Feed   \n",
       "13020          MNE          Montenegro    Apples and products    Food   \n",
       "17526          SVN            Slovenia                Pigmeat    Food   \n",
       "11128          LVA              Latvia                   Beer    Food   \n",
       "16103          RUS  Russian Federation  Coconuts - Incl Copra    Food   \n",
       "\n",
       "       latitude  longitude  1961  1962  1963  1964  1965  1966  1967  1968  \\\n",
       "17328     48.67      19.70   NaN   NaN   NaN   NaN   NaN   NaN   NaN   NaN   \n",
       "13020     42.71      19.37   NaN   NaN   NaN   NaN   NaN   NaN   NaN   NaN   \n",
       "17526     46.15      15.00   NaN   NaN   NaN   NaN   NaN   NaN   NaN   NaN   \n",
       "11128     56.88      24.60   NaN   NaN   NaN   NaN   NaN   NaN   NaN   NaN   \n",
       "16103     61.52     105.32   NaN   NaN   NaN   NaN   NaN   NaN   NaN   NaN   \n",
       "\n",
       "       1969  1970  1971  1972  1973  1974  1975  1976  1977  1978  1979  1980  \\\n",
       "17328   NaN   NaN   NaN   NaN   NaN   NaN   NaN   NaN   NaN   NaN   NaN   NaN   \n",
       "13020   NaN   NaN   NaN   NaN   NaN   NaN   NaN   NaN   NaN   NaN   NaN   NaN   \n",
       "17526   NaN   NaN   NaN   NaN   NaN   NaN   NaN   NaN   NaN   NaN   NaN   NaN   \n",
       "11128   NaN   NaN   NaN   NaN   NaN   NaN   NaN   NaN   NaN   NaN   NaN   NaN   \n",
       "16103   NaN   NaN   NaN   NaN   NaN   NaN   NaN   NaN   NaN   NaN   NaN   NaN   \n",
       "\n",
       "       1981  1982  1983  1984  1985  1986  1987  1988  1989  1990  1991  1992  \\\n",
       "17328   NaN   NaN   NaN   NaN   NaN   NaN   NaN   NaN   NaN   NaN   NaN   NaN   \n",
       "13020   NaN   NaN   NaN   NaN   NaN   NaN   NaN   NaN   NaN   NaN   NaN   NaN   \n",
       "17526   NaN   NaN   NaN   NaN   NaN   NaN   NaN   NaN   NaN   NaN   NaN  49.0   \n",
       "11128   NaN   NaN   NaN   NaN   NaN   NaN   NaN   NaN   NaN   NaN   NaN  88.0   \n",
       "16103   NaN   NaN   NaN   NaN   NaN   NaN   NaN   NaN   NaN   NaN   NaN   0.0   \n",
       "\n",
       "       1993  1994  1995  1996  1997  1998   1999  2000   2001   2002   2003  \\\n",
       "17328   1.0   1.0   1.0   1.0   0.0   0.0    1.0   1.0    1.0    1.0    1.0   \n",
       "13020   NaN   NaN   NaN   NaN   NaN   NaN    NaN   NaN    NaN    NaN    NaN   \n",
       "17526  81.0  84.0  75.0  70.0  73.0  77.0   87.0  76.0   82.0   78.0   88.0   \n",
       "11128  53.0  66.0  67.0  66.0  73.0  82.0  100.0  99.0  105.0  134.0  142.0   \n",
       "16103   0.0   1.0   1.0   2.0   2.0  10.0   10.0  21.0   28.0   42.0   45.0   \n",
       "\n",
       "        2004   2005   2006   2007   2008   2009   2010   2011  2012  2013  \n",
       "17328    2.0    0.0    0.0    1.0    1.0    1.0    0.0    1.0     1     1  \n",
       "13020    NaN    NaN   11.0   19.0   34.0   38.0   33.0   27.0    14    13  \n",
       "17526   88.0   88.0   89.0   84.0   84.0   80.0   81.0   76.0    69    58  \n",
       "11128  124.0  144.0  147.0  158.0  156.0  146.0  164.0  172.0   163   156  \n",
       "16103   47.0   52.0   45.0   59.0   42.0   39.0   48.0   63.0    57    63  "
      ]
     },
     "execution_count": 7,
     "metadata": {},
     "output_type": "execute_result"
    }
   ],
   "source": [
    "# Creo un subset del dataframe contenente almeno un valore nullo nelle righe\n",
    "df_null_rows = df_prod.loc[df_prod.isnull().any(axis=1)]\n",
    "print(f'\\nNumero di righe con valori mancanti: {df_null_rows.shape[0]}')\n",
    "\n",
    "# Imposto un random seed per rendere pseudorandomica e riproducibile questa cella\n",
    "np.random.seed(0)\n",
    "\n",
    "# Seleziono un campione a caso di 5 elementi\n",
    "df_null_rows.sample(5)"
   ]
  },
  {
   "cell_type": "markdown",
   "id": "d34d2f9e",
   "metadata": {},
   "source": [
    "In effetti, in questi 5 paesi selezionati a caso: 'Slovacchia', 'Montenegro', 'Slovenia', 'Lettonia' e 'Federazione Russa', i dati di produzione sono mancanti dal 1961 al 1991 (il Montenegro fino al 2005). \n",
    "\n",
    "Cercando informazioni sulla storia geopolitica di questi paesi si può leggere:\n",
    "\n",
    "- *Slovacchia*: [...] La Repubblica Slovacca e la Repubblica Ceca sono nate il 1º gennaio 1993 dalla divisione, sancita dal parlamento della Cecoslovacchia, che **già dal 1990 aveva assunto il nome di Repubblica Federale Ceca e Slovacca**;\n",
    "\n",
    "- *Montenegro*: [...] Fino al 2 giugno 2006 la Repubblica del Montenegro è stata unita alla Repubblica di Serbia con il nome di Serbia e Montenegro. **Dal 3 giugno 2006 il Montenegro è diventato uno Stato indipendente**;\n",
    "\n",
    "- *Slovenia*: [...] Dal 1º maggio 2004 la Slovenia è membro dell'Unione europea e la valuta nazionale, dal 1º gennaio 2007, è l'euro, che ha sostituito il tallero sloveno, adottato **nel 1991 dopo l'indipendenza** [...];\n",
    "\n",
    "- *Lettonia*: [...] L'URSS riconobbe **la Lettonia come Stato indipendente il 6 settembre 1991** [...];\n",
    "\n",
    "- *Federazione Russa*: [...] Nell'agosto del 1991 il tentato colpo di Stato militare per deporre Gorbačëv e preservare l'Unione Sovietica portò invece alla fine del Partito Comunista dell'Unione Sovietica. Nonostante la contraria volontà espressa dal popolo, **il 26 dicembre 1991 l'Unione Sovietica si dissolse in quindici Stati post-sovietici**.\n",
    "\n",
    "Fonte: [Wikipedia](https://it.wikipedia.org/wiki/Pagina_principale)\n",
    "\n",
    "Questo risultato **è in linea con la documentazione** del dataset, giustificando il retroscena che riguarda la presenza di valori mancanti.\n",
    "\n",
    "**È conveniente** eliminare dal dataframe le righe che contengono valori mancanti, oppure si rischia di perdere un numero **eccessivo** di informazioni? Eseguo un test per controllare."
   ]
  },
  {
   "cell_type": "code",
   "execution_count": 8,
   "id": "7744530f",
   "metadata": {},
   "outputs": [
    {
     "name": "stdout",
     "output_type": "stream",
     "text": [
      "\n",
      "Righe del dataframe originale: 21477.\n",
      "\n",
      "Righe del dataframe dopo aver rimosso i valori mancanti: 17938\n",
      "\n",
      "La rimozione delle righe che contengono valori NaN ha eliminato il 16.48% dei dati!\n"
     ]
    }
   ],
   "source": [
    "# Creo un dataframe per testare l'eliminazione delle righe che contengono valori mancanti \n",
    "test_drop = df_prod.dropna()\n",
    "\n",
    "# Calcolo la percentuale di dati eliminati \n",
    "rows_removal_perc = round((1-test_drop.shape[0]/df_prod.shape[0])*100,2)\n",
    "\n",
    "print(f\"\\nRighe del dataframe originale: {df_prod.shape[0]}.\") \n",
    "\n",
    "print(f\"\\nRighe del dataframe dopo aver rimosso i valori mancanti: {test_drop.shape[0]}\")\n",
    "\n",
    "print(f'\\nLa rimozione delle righe che contengono valori NaN ha eliminato il {rows_removal_perc}% dei dati!')"
   ]
  },
  {
   "cell_type": "markdown",
   "id": "18faa02b",
   "metadata": {},
   "source": [
    "Secondo me, in questo caso **la perdita di dati è tollerabile**. Quindi, continuerò lo studio di questo dataset adottando questa procedura.\n",
    "\n",
    "Avrei anche potuto sostituire i valori NaN con 0 tramite *fillna()* e poi eliminare le righe con solo zeri. Tuttavia, ho notato che la differenza nella procedura *in questo caso* è minima. \n",
    "\n",
    "Per terminare la pulizia delle variabili quantitative elimino tutte le righe dove i valori di produzione lungo l'intero periodo temporale sono **pari a zero o negativi** e trasformo tutti i valori numerici in int64."
   ]
  },
  {
   "cell_type": "code",
   "execution_count": 9,
   "id": "88b0f74a",
   "metadata": {},
   "outputs": [],
   "source": [
    "# Seleziono un subset del dataframe contenente tutte le colonne degli anni di produzione del dataframe\n",
    "prod_values = test_drop.loc[:, '1961':]\n",
    "\n",
    "# Ricavo gli indici delle righe che contengono anche solo un numero negativo e tutti 0 dal 1961 al 2013\n",
    "idx_to_drop = prod_values.loc[((prod_values < 0).any(axis=1)) | (prod_values == 0).all(axis=1)].index\n",
    "\n",
    "# Elimino tutte le righe con questi indici\n",
    "test_drop.drop(idx_to_drop, inplace=True)\n",
    "\n",
    "# Riporto il nome del dataframe a df_prod e resetto l'indice\n",
    "df_prod = test_drop.reset_index(drop=True)\n",
    "\n",
    "# Trasformo i valori numerici in 'int64'\n",
    "df_prod.loc[:, '1961':] = df_prod.loc[:, '1961':].astype('int64')"
   ]
  },
  {
   "cell_type": "markdown",
   "id": "5631e8bc",
   "metadata": {},
   "source": [
    "#### Rimozione duplicati\n",
    "\n",
    "Cerco eventuali righe duplicate nel dataframe e, se presenti, le elimino."
   ]
  },
  {
   "cell_type": "code",
   "execution_count": 10,
   "id": "b902708d",
   "metadata": {},
   "outputs": [
    {
     "data": {
      "text/html": [
       "<div>\n",
       "<style scoped>\n",
       "    .dataframe tbody tr th:only-of-type {\n",
       "        vertical-align: middle;\n",
       "    }\n",
       "\n",
       "    .dataframe tbody tr th {\n",
       "        vertical-align: top;\n",
       "    }\n",
       "\n",
       "    .dataframe thead th {\n",
       "        text-align: right;\n",
       "    }\n",
       "</style>\n",
       "<table border=\"1\" class=\"dataframe\">\n",
       "  <thead>\n",
       "    <tr style=\"text-align: right;\">\n",
       "      <th></th>\n",
       "      <th>Country_Code</th>\n",
       "      <th>Country_Name</th>\n",
       "      <th>Item</th>\n",
       "      <th>Element</th>\n",
       "      <th>latitude</th>\n",
       "      <th>longitude</th>\n",
       "      <th>1961</th>\n",
       "      <th>1962</th>\n",
       "      <th>1963</th>\n",
       "      <th>1964</th>\n",
       "      <th>1965</th>\n",
       "      <th>1966</th>\n",
       "      <th>1967</th>\n",
       "      <th>1968</th>\n",
       "      <th>1969</th>\n",
       "      <th>1970</th>\n",
       "      <th>1971</th>\n",
       "      <th>1972</th>\n",
       "      <th>1973</th>\n",
       "      <th>1974</th>\n",
       "      <th>1975</th>\n",
       "      <th>1976</th>\n",
       "      <th>1977</th>\n",
       "      <th>1978</th>\n",
       "      <th>1979</th>\n",
       "      <th>1980</th>\n",
       "      <th>1981</th>\n",
       "      <th>1982</th>\n",
       "      <th>1983</th>\n",
       "      <th>1984</th>\n",
       "      <th>1985</th>\n",
       "      <th>1986</th>\n",
       "      <th>1987</th>\n",
       "      <th>1988</th>\n",
       "      <th>1989</th>\n",
       "      <th>1990</th>\n",
       "      <th>1991</th>\n",
       "      <th>1992</th>\n",
       "      <th>1993</th>\n",
       "      <th>1994</th>\n",
       "      <th>1995</th>\n",
       "      <th>1996</th>\n",
       "      <th>1997</th>\n",
       "      <th>1998</th>\n",
       "      <th>1999</th>\n",
       "      <th>2000</th>\n",
       "      <th>2001</th>\n",
       "      <th>2002</th>\n",
       "      <th>2003</th>\n",
       "      <th>2004</th>\n",
       "      <th>2005</th>\n",
       "      <th>2006</th>\n",
       "      <th>2007</th>\n",
       "      <th>2008</th>\n",
       "      <th>2009</th>\n",
       "      <th>2010</th>\n",
       "      <th>2011</th>\n",
       "      <th>2012</th>\n",
       "      <th>2013</th>\n",
       "    </tr>\n",
       "  </thead>\n",
       "  <tbody>\n",
       "    <tr>\n",
       "      <th>2189</th>\n",
       "      <td>CMR</td>\n",
       "      <td>Cameroon</td>\n",
       "      <td>Eggs</td>\n",
       "      <td>Food</td>\n",
       "      <td>7.37</td>\n",
       "      <td>12.35</td>\n",
       "      <td>2</td>\n",
       "      <td>2</td>\n",
       "      <td>2</td>\n",
       "      <td>3</td>\n",
       "      <td>3</td>\n",
       "      <td>4</td>\n",
       "      <td>4</td>\n",
       "      <td>5</td>\n",
       "      <td>5</td>\n",
       "      <td>5</td>\n",
       "      <td>5</td>\n",
       "      <td>5</td>\n",
       "      <td>5</td>\n",
       "      <td>6</td>\n",
       "      <td>6</td>\n",
       "      <td>6</td>\n",
       "      <td>6</td>\n",
       "      <td>6</td>\n",
       "      <td>6</td>\n",
       "      <td>7</td>\n",
       "      <td>7</td>\n",
       "      <td>8</td>\n",
       "      <td>9</td>\n",
       "      <td>7</td>\n",
       "      <td>8</td>\n",
       "      <td>10</td>\n",
       "      <td>9</td>\n",
       "      <td>9</td>\n",
       "      <td>10</td>\n",
       "      <td>10</td>\n",
       "      <td>9</td>\n",
       "      <td>10</td>\n",
       "      <td>10</td>\n",
       "      <td>10</td>\n",
       "      <td>10</td>\n",
       "      <td>9</td>\n",
       "      <td>10</td>\n",
       "      <td>10</td>\n",
       "      <td>9</td>\n",
       "      <td>10</td>\n",
       "      <td>10</td>\n",
       "      <td>10</td>\n",
       "      <td>10</td>\n",
       "      <td>9</td>\n",
       "      <td>8</td>\n",
       "      <td>8</td>\n",
       "      <td>7</td>\n",
       "      <td>7</td>\n",
       "      <td>8</td>\n",
       "      <td>8</td>\n",
       "      <td>8</td>\n",
       "      <td>8</td>\n",
       "      <td>9</td>\n",
       "    </tr>\n",
       "    <tr>\n",
       "      <th>442</th>\n",
       "      <td>ATG</td>\n",
       "      <td>Antigua and Barbuda</td>\n",
       "      <td>Milk - Excluding Butter</td>\n",
       "      <td>Food</td>\n",
       "      <td>17.06</td>\n",
       "      <td>-61.80</td>\n",
       "      <td>6</td>\n",
       "      <td>5</td>\n",
       "      <td>5</td>\n",
       "      <td>5</td>\n",
       "      <td>5</td>\n",
       "      <td>4</td>\n",
       "      <td>5</td>\n",
       "      <td>5</td>\n",
       "      <td>6</td>\n",
       "      <td>6</td>\n",
       "      <td>6</td>\n",
       "      <td>6</td>\n",
       "      <td>6</td>\n",
       "      <td>6</td>\n",
       "      <td>6</td>\n",
       "      <td>6</td>\n",
       "      <td>7</td>\n",
       "      <td>7</td>\n",
       "      <td>8</td>\n",
       "      <td>9</td>\n",
       "      <td>9</td>\n",
       "      <td>9</td>\n",
       "      <td>9</td>\n",
       "      <td>9</td>\n",
       "      <td>9</td>\n",
       "      <td>8</td>\n",
       "      <td>8</td>\n",
       "      <td>9</td>\n",
       "      <td>9</td>\n",
       "      <td>9</td>\n",
       "      <td>8</td>\n",
       "      <td>9</td>\n",
       "      <td>8</td>\n",
       "      <td>9</td>\n",
       "      <td>10</td>\n",
       "      <td>9</td>\n",
       "      <td>10</td>\n",
       "      <td>9</td>\n",
       "      <td>9</td>\n",
       "      <td>10</td>\n",
       "      <td>10</td>\n",
       "      <td>10</td>\n",
       "      <td>10</td>\n",
       "      <td>8</td>\n",
       "      <td>10</td>\n",
       "      <td>9</td>\n",
       "      <td>11</td>\n",
       "      <td>11</td>\n",
       "      <td>11</td>\n",
       "      <td>11</td>\n",
       "      <td>12</td>\n",
       "      <td>11</td>\n",
       "      <td>11</td>\n",
       "    </tr>\n",
       "    <tr>\n",
       "      <th>7469</th>\n",
       "      <td>JPN</td>\n",
       "      <td>Japan</td>\n",
       "      <td>Milk - Excluding Butter</td>\n",
       "      <td>Food</td>\n",
       "      <td>36.20</td>\n",
       "      <td>138.25</td>\n",
       "      <td>2324</td>\n",
       "      <td>2740</td>\n",
       "      <td>3309</td>\n",
       "      <td>3679</td>\n",
       "      <td>3748</td>\n",
       "      <td>4083</td>\n",
       "      <td>4699</td>\n",
       "      <td>4868</td>\n",
       "      <td>5241</td>\n",
       "      <td>5439</td>\n",
       "      <td>5331</td>\n",
       "      <td>5648</td>\n",
       "      <td>5710</td>\n",
       "      <td>5964</td>\n",
       "      <td>5693</td>\n",
       "      <td>6456</td>\n",
       "      <td>7277</td>\n",
       "      <td>7912</td>\n",
       "      <td>8111</td>\n",
       "      <td>7905</td>\n",
       "      <td>7814</td>\n",
       "      <td>8098</td>\n",
       "      <td>8367</td>\n",
       "      <td>8426</td>\n",
       "      <td>8831</td>\n",
       "      <td>8774</td>\n",
       "      <td>8774</td>\n",
       "      <td>9509</td>\n",
       "      <td>9630</td>\n",
       "      <td>9540</td>\n",
       "      <td>10065</td>\n",
       "      <td>10222</td>\n",
       "      <td>10080</td>\n",
       "      <td>10026</td>\n",
       "      <td>10287</td>\n",
       "      <td>10371</td>\n",
       "      <td>10374</td>\n",
       "      <td>10230</td>\n",
       "      <td>10153</td>\n",
       "      <td>10270</td>\n",
       "      <td>10063</td>\n",
       "      <td>10086</td>\n",
       "      <td>10017</td>\n",
       "      <td>10040</td>\n",
       "      <td>9900</td>\n",
       "      <td>9593</td>\n",
       "      <td>9740</td>\n",
       "      <td>9406</td>\n",
       "      <td>9357</td>\n",
       "      <td>9241</td>\n",
       "      <td>9071</td>\n",
       "      <td>9293</td>\n",
       "      <td>9162</td>\n",
       "    </tr>\n",
       "    <tr>\n",
       "      <th>13884</th>\n",
       "      <td>ARE</td>\n",
       "      <td>United Arab Emirates</td>\n",
       "      <td>Milk - Excluding Butter</td>\n",
       "      <td>Food</td>\n",
       "      <td>23.42</td>\n",
       "      <td>53.85</td>\n",
       "      <td>14</td>\n",
       "      <td>14</td>\n",
       "      <td>14</td>\n",
       "      <td>14</td>\n",
       "      <td>14</td>\n",
       "      <td>18</td>\n",
       "      <td>19</td>\n",
       "      <td>21</td>\n",
       "      <td>24</td>\n",
       "      <td>27</td>\n",
       "      <td>28</td>\n",
       "      <td>33</td>\n",
       "      <td>55</td>\n",
       "      <td>78</td>\n",
       "      <td>73</td>\n",
       "      <td>126</td>\n",
       "      <td>129</td>\n",
       "      <td>149</td>\n",
       "      <td>183</td>\n",
       "      <td>219</td>\n",
       "      <td>197</td>\n",
       "      <td>232</td>\n",
       "      <td>225</td>\n",
       "      <td>278</td>\n",
       "      <td>243</td>\n",
       "      <td>245</td>\n",
       "      <td>300</td>\n",
       "      <td>300</td>\n",
       "      <td>299</td>\n",
       "      <td>319</td>\n",
       "      <td>322</td>\n",
       "      <td>361</td>\n",
       "      <td>363</td>\n",
       "      <td>364</td>\n",
       "      <td>345</td>\n",
       "      <td>372</td>\n",
       "      <td>333</td>\n",
       "      <td>322</td>\n",
       "      <td>406</td>\n",
       "      <td>432</td>\n",
       "      <td>363</td>\n",
       "      <td>495</td>\n",
       "      <td>511</td>\n",
       "      <td>467</td>\n",
       "      <td>441</td>\n",
       "      <td>555</td>\n",
       "      <td>739</td>\n",
       "      <td>1007</td>\n",
       "      <td>1077</td>\n",
       "      <td>1025</td>\n",
       "      <td>983</td>\n",
       "      <td>976</td>\n",
       "      <td>1240</td>\n",
       "    </tr>\n",
       "    <tr>\n",
       "      <th>10212</th>\n",
       "      <td>NER</td>\n",
       "      <td>Niger</td>\n",
       "      <td>Milk - Excluding Butter</td>\n",
       "      <td>Food</td>\n",
       "      <td>17.61</td>\n",
       "      <td>8.08</td>\n",
       "      <td>189</td>\n",
       "      <td>196</td>\n",
       "      <td>202</td>\n",
       "      <td>209</td>\n",
       "      <td>216</td>\n",
       "      <td>230</td>\n",
       "      <td>237</td>\n",
       "      <td>243</td>\n",
       "      <td>258</td>\n",
       "      <td>283</td>\n",
       "      <td>270</td>\n",
       "      <td>238</td>\n",
       "      <td>225</td>\n",
       "      <td>242</td>\n",
       "      <td>275</td>\n",
       "      <td>300</td>\n",
       "      <td>302</td>\n",
       "      <td>312</td>\n",
       "      <td>328</td>\n",
       "      <td>330</td>\n",
       "      <td>351</td>\n",
       "      <td>357</td>\n",
       "      <td>411</td>\n",
       "      <td>329</td>\n",
       "      <td>286</td>\n",
       "      <td>287</td>\n",
       "      <td>297</td>\n",
       "      <td>317</td>\n",
       "      <td>305</td>\n",
       "      <td>417</td>\n",
       "      <td>387</td>\n",
       "      <td>445</td>\n",
       "      <td>472</td>\n",
       "      <td>477</td>\n",
       "      <td>529</td>\n",
       "      <td>533</td>\n",
       "      <td>556</td>\n",
       "      <td>595</td>\n",
       "      <td>611</td>\n",
       "      <td>633</td>\n",
       "      <td>664</td>\n",
       "      <td>708</td>\n",
       "      <td>736</td>\n",
       "      <td>764</td>\n",
       "      <td>806</td>\n",
       "      <td>842</td>\n",
       "      <td>887</td>\n",
       "      <td>930</td>\n",
       "      <td>955</td>\n",
       "      <td>966</td>\n",
       "      <td>973</td>\n",
       "      <td>1050</td>\n",
       "      <td>1051</td>\n",
       "    </tr>\n",
       "  </tbody>\n",
       "</table>\n",
       "</div>"
      ],
      "text/plain": [
       "      Country_Code          Country_Name                     Item Element  \\\n",
       "2189           CMR              Cameroon                     Eggs    Food   \n",
       "442            ATG   Antigua and Barbuda  Milk - Excluding Butter    Food   \n",
       "7469           JPN                 Japan  Milk - Excluding Butter    Food   \n",
       "13884          ARE  United Arab Emirates  Milk - Excluding Butter    Food   \n",
       "10212          NER                 Niger  Milk - Excluding Butter    Food   \n",
       "\n",
       "       latitude  longitude  1961  1962  1963  1964  1965  1966  1967  1968  \\\n",
       "2189       7.37      12.35     2     2     2     3     3     4     4     5   \n",
       "442       17.06     -61.80     6     5     5     5     5     4     5     5   \n",
       "7469      36.20     138.25  2324  2740  3309  3679  3748  4083  4699  4868   \n",
       "13884     23.42      53.85    14    14    14    14    14    18    19    21   \n",
       "10212     17.61       8.08   189   196   202   209   216   230   237   243   \n",
       "\n",
       "       1969  1970  1971  1972  1973  1974  1975  1976  1977  1978  1979  1980  \\\n",
       "2189      5     5     5     5     5     6     6     6     6     6     6     7   \n",
       "442       6     6     6     6     6     6     6     6     7     7     8     9   \n",
       "7469   5241  5439  5331  5648  5710  5964  5693  6456  7277  7912  8111  7905   \n",
       "13884    24    27    28    33    55    78    73   126   129   149   183   219   \n",
       "10212   258   283   270   238   225   242   275   300   302   312   328   330   \n",
       "\n",
       "       1981  1982  1983  1984  1985  1986  1987  1988  1989  1990   1991  \\\n",
       "2189      7     8     9     7     8    10     9     9    10    10      9   \n",
       "442       9     9     9     9     9     8     8     9     9     9      8   \n",
       "7469   7814  8098  8367  8426  8831  8774  8774  9509  9630  9540  10065   \n",
       "13884   197   232   225   278   243   245   300   300   299   319    322   \n",
       "10212   351   357   411   329   286   287   297   317   305   417    387   \n",
       "\n",
       "        1992   1993   1994   1995   1996   1997   1998   1999   2000   2001  \\\n",
       "2189      10     10     10     10      9     10     10      9     10     10   \n",
       "442        9      8      9     10      9     10      9      9     10     10   \n",
       "7469   10222  10080  10026  10287  10371  10374  10230  10153  10270  10063   \n",
       "13884    361    363    364    345    372    333    322    406    432    363   \n",
       "10212    445    472    477    529    533    556    595    611    633    664   \n",
       "\n",
       "        2002   2003   2004  2005  2006  2007  2008  2009  2010  2011  2012  \\\n",
       "2189      10     10      9     8     8     7     7     8     8     8     8   \n",
       "442       10     10      8    10     9    11    11    11    11    12    11   \n",
       "7469   10086  10017  10040  9900  9593  9740  9406  9357  9241  9071  9293   \n",
       "13884    495    511    467   441   555   739  1007  1077  1025   983   976   \n",
       "10212    708    736    764   806   842   887   930   955   966   973  1050   \n",
       "\n",
       "       2013  \n",
       "2189      9  \n",
       "442      11  \n",
       "7469   9162  \n",
       "13884  1240  \n",
       "10212  1051  "
      ]
     },
     "execution_count": 10,
     "metadata": {},
     "output_type": "execute_result"
    }
   ],
   "source": [
    "df_prod.loc[df_prod.duplicated()].sample(5)"
   ]
  },
  {
   "cell_type": "code",
   "execution_count": 11,
   "id": "9ff821f5",
   "metadata": {},
   "outputs": [],
   "source": [
    "# Elimino i duplicati\n",
    "df_prod.drop_duplicates(inplace=True)\n",
    "\n",
    "# Resetto l'indice del dataframe\n",
    "df_prod.reset_index(drop=True, inplace=True)"
   ]
  },
  {
   "cell_type": "markdown",
   "id": "a5638e45",
   "metadata": {},
   "source": [
    "#### Variabili qualitative - Nomi dei paesi"
   ]
  },
  {
   "cell_type": "markdown",
   "id": "1824d49a",
   "metadata": {},
   "source": [
    "In un dataset così grande è difficile accorgersi di voci formattate male e/o duplicate. Uno strumento utilissimo per controllare le incongruenze o le somiglianze tra diversi elementi è *fuzzywuzzy*. \n",
    "\n",
    "Scrivo una funzione che mi tornerà utile in più occasioni per controllare la somiglianza tra variabili qualitative."
   ]
  },
  {
   "cell_type": "code",
   "execution_count": 12,
   "id": "ac3c0cf6",
   "metadata": {},
   "outputs": [],
   "source": [
    "def fuzz_finder(dictionary, test, target, treshold, first, last, show):\n",
    "\n",
    "    \"\"\"Questa funzione inserisce in un dizionario a piacere le migliori corrispondenze tra i nomi \n",
    "    degli elementi di due liste 'test' e 'target'. \n",
    "    Nota: il dizionario deve essere già inizializzato prima di eseguire la funzione.  \n",
    "\n",
    "    Le chiavi del dizionario corrisponderanno ai nomi degli elementi da testare, \n",
    "    mentre i valori corrisponderanno alla lista degli elementi ottenuti per miglior match. \n",
    "    Per testare gli elementi di una lista con sè stessa è sufficiente indicarla sia come 'test' che come 'target'.\n",
    "     \n",
    "    Si deve specificare un 'treshold', un numero tra 0 e 100, come punteggio soglia da raggiungere \n",
    "    tra il primo e il secondo elemento in confronto. Per eseguire una ricerca più fine, assegnare al valore 'treshold'\n",
    "    un numero prossimo a 100.   \n",
    "    \n",
    "    Con 'first' e 'last' si decide il primo e l'ultimo elemento da inserire nella lista dei valori nel dizionario. \n",
    "    'first' = 0 introdurrà nella lista anche il confronto del primo elemento con sè stesso. Quindi, impostare 'first' = 1 per \n",
    "    visualizzare il confronto a partire dal secondo elemento\n",
    "    Nota: dal terzo elemento in poi, il punteggio attribuito sarà sempre al di sotto del valore 'treshold' che hai dichiarato.   \n",
    "    \n",
    "    Il dizionario ottenuto viene trasformato in un dataframe per migliorare l'output. Impostando 'show' = True \n",
    "    si può decidere se visualizzare o meno l'output della funzione.\"\"\" \n",
    "\n",
    "    for item in test:\n",
    "\n",
    "        # Restituisce una lista di tuple contenenti nome e punteggio\n",
    "        matches = fuzzywuzzy.process.extract(item, target, limit=None, scorer=fuzzywuzzy.fuzz.token_sort_ratio)\n",
    "        \n",
    "        if matches[1][1] >= treshold and first != last:        \n",
    "\n",
    "            key = item \n",
    "            \n",
    "            values = [(matches[n][0], matches[n][1]) for n in range(first,last+1)]\n",
    "            \n",
    "            dictionary[key] = values\n",
    "        \n",
    "        elif matches[1][1] >= treshold and first == last:\n",
    "\n",
    "            key = item\n",
    "\n",
    "            value = (matches[first][0], matches[first][1])\n",
    "\n",
    "            dictionary[key] = value\n",
    "\n",
    "    if show:\n",
    "\n",
    "        df_result = pd.DataFrame.from_dict(dictionary)\n",
    "        return df_result"
   ]
  },
  {
   "cell_type": "code",
   "execution_count": 13,
   "id": "4a1f6645",
   "metadata": {},
   "outputs": [
    {
     "data": {
      "text/html": [
       "<div>\n",
       "<style scoped>\n",
       "    .dataframe tbody tr th:only-of-type {\n",
       "        vertical-align: middle;\n",
       "    }\n",
       "\n",
       "    .dataframe tbody tr th {\n",
       "        vertical-align: top;\n",
       "    }\n",
       "\n",
       "    .dataframe thead th {\n",
       "        text-align: right;\n",
       "    }\n",
       "</style>\n",
       "<table border=\"1\" class=\"dataframe\">\n",
       "  <thead>\n",
       "    <tr style=\"text-align: right;\">\n",
       "      <th></th>\n",
       "      <th>Australia</th>\n",
       "      <th>Austria</th>\n",
       "      <th>Democratic People's Republic of Korea</th>\n",
       "      <th>Iceland</th>\n",
       "      <th>Ireland</th>\n",
       "      <th>Lao People's Democratic Republic</th>\n",
       "    </tr>\n",
       "  </thead>\n",
       "  <tbody>\n",
       "    <tr>\n",
       "      <th>0</th>\n",
       "      <td>(Austria, 88)</td>\n",
       "      <td>(Australia, 88)</td>\n",
       "      <td>(Lao People's Democratic Republic, 87)</td>\n",
       "      <td>(Ireland, 86)</td>\n",
       "      <td>(Iceland, 86)</td>\n",
       "      <td>(Democratic People's Republic of Korea, 90)</td>\n",
       "    </tr>\n",
       "    <tr>\n",
       "      <th>1</th>\n",
       "      <td>(Mauritania, 63)</td>\n",
       "      <td>(Costa Rica, 59)</td>\n",
       "      <td>(Republic of Korea, 63)</td>\n",
       "      <td>(Finland, 71)</td>\n",
       "      <td>(Finland, 71)</td>\n",
       "      <td>(Dominican Republic, 56)</td>\n",
       "    </tr>\n",
       "    <tr>\n",
       "      <th>2</th>\n",
       "      <td>(Guatemala, 56)</td>\n",
       "      <td>(Mauritania, 59)</td>\n",
       "      <td>(Iran (Islamic Republic of), 52)</td>\n",
       "      <td>(Switzerland, 67)</td>\n",
       "      <td>(Switzerland, 67)</td>\n",
       "      <td>(Iran (Islamic Republic of), 54)</td>\n",
       "    </tr>\n",
       "    <tr>\n",
       "      <th>3</th>\n",
       "      <td>(Israel, 53)</td>\n",
       "      <td>(Algeria, 57)</td>\n",
       "      <td>(Dominican Republic, 51)</td>\n",
       "      <td>(Thailand, 67)</td>\n",
       "      <td>(Thailand, 67)</td>\n",
       "      <td>(Venezuela (Bolivarian Republic of), 47)</td>\n",
       "    </tr>\n",
       "  </tbody>\n",
       "</table>\n",
       "</div>"
      ],
      "text/plain": [
       "          Australia           Austria   Democratic People's Republic of Korea  \\\n",
       "0     (Austria, 88)   (Australia, 88)  (Lao People's Democratic Republic, 87)   \n",
       "1  (Mauritania, 63)  (Costa Rica, 59)                 (Republic of Korea, 63)   \n",
       "2   (Guatemala, 56)  (Mauritania, 59)        (Iran (Islamic Republic of), 52)   \n",
       "3      (Israel, 53)     (Algeria, 57)                (Dominican Republic, 51)   \n",
       "\n",
       "             Iceland            Ireland  \\\n",
       "0      (Ireland, 86)      (Iceland, 86)   \n",
       "1      (Finland, 71)      (Finland, 71)   \n",
       "2  (Switzerland, 67)  (Switzerland, 67)   \n",
       "3     (Thailand, 67)     (Thailand, 67)   \n",
       "\n",
       "              Lao People's Democratic Republic  \n",
       "0  (Democratic People's Republic of Korea, 90)  \n",
       "1                     (Dominican Republic, 56)  \n",
       "2             (Iran (Islamic Republic of), 54)  \n",
       "3     (Venezuela (Bolivarian Republic of), 47)  "
      ]
     },
     "execution_count": 13,
     "metadata": {},
     "output_type": "execute_result"
    }
   ],
   "source": [
    "# Inizializzo un dizionario dove inserire le corrispondenze\n",
    "country_dict = {}\n",
    "\n",
    "# Lista delle voci da testare\n",
    "test_target_list = df_prod.Country_Name.unique()\n",
    "\n",
    "# Migliori match con i primi 4 elementi in ordine di punteggio. \n",
    "fuzz_finder(dictionary=country_dict, test=test_target_list, target=test_target_list, treshold=85, first=1, last=4, show=True)"
   ]
  },
  {
   "cell_type": "markdown",
   "id": "6d143703",
   "metadata": {},
   "source": [
    "Non sono presenti voci duplicate o formattate male tra i nomi dei paesi. C'è solo un'incongruenza (errore di decrittazione) da sistemare. "
   ]
  },
  {
   "cell_type": "code",
   "execution_count": 14,
   "id": "8cff992d",
   "metadata": {},
   "outputs": [],
   "source": [
    "df_prod.Country_Name.replace({\"C�te d'Ivoire\":\"Côte d'Ivoire\"}, inplace=True)"
   ]
  },
  {
   "cell_type": "markdown",
   "id": "a5638e45",
   "metadata": {},
   "source": [
    "#### Variabili qualitative - Nomi degli alimenti"
   ]
  },
  {
   "cell_type": "markdown",
   "id": "536e0263",
   "metadata": {},
   "source": [
    "Eseguo la stessa procedura per ricercare voci duplicate o formattate male tra i nomi dei mangimi/alimenti presenti nel dataframe. "
   ]
  },
  {
   "cell_type": "code",
   "execution_count": 38,
   "id": "14fdb865",
   "metadata": {},
   "outputs": [],
   "source": [
    "# Inizializzo un dizionario dove inserire le corrispondenze\n",
    "item_dict = {}\n",
    "\n",
    "# Lista delle voci da testare\n",
    "test_target_list = df_prod.Item.unique()\n",
    "\n",
    "# Migliori match con i primi 3 elementi in ordine di punteggio. Per visualizzare l'outupt impostare 'show' = True\n",
    "fuzz_finder(dictionary=item_dict, test=test_target_list, target=test_target_list, treshold=75, first=1, last=3, show=False)"
   ]
  },
  {
   "cell_type": "markdown",
   "id": "6d143703",
   "metadata": {},
   "source": [
    "Anche in questo caso non ci sono voci duplicate. Sicuramente la formattazione che è stata adoperata non è delle migliori. In certi casi sono state usate nomenclature molto simili e un po' vaghe (es. 'Vegetables' e 'Vegetables, Other'). La [documentazione](https://www.fao.org/faostat/en/#data/FBSH) del dataset non aiuta a capire in cosa sussistono le differenze tra voci di questo tipo. "
   ]
  },
  {
   "cell_type": "markdown",
   "id": "f722fcf4",
   "metadata": {},
   "source": [
    "#### Melt del dataframe\n",
    "\n",
    "Cambio cambio la configurazione dai dati da *wide format* a *long format*."
   ]
  },
  {
   "cell_type": "code",
   "execution_count": 16,
   "id": "8db5a63a",
   "metadata": {},
   "outputs": [
    {
     "data": {
      "text/html": [
       "<div>\n",
       "<style scoped>\n",
       "    .dataframe tbody tr th:only-of-type {\n",
       "        vertical-align: middle;\n",
       "    }\n",
       "\n",
       "    .dataframe tbody tr th {\n",
       "        vertical-align: top;\n",
       "    }\n",
       "\n",
       "    .dataframe thead th {\n",
       "        text-align: right;\n",
       "    }\n",
       "</style>\n",
       "<table border=\"1\" class=\"dataframe\">\n",
       "  <thead>\n",
       "    <tr style=\"text-align: right;\">\n",
       "      <th></th>\n",
       "      <th>Country_Code</th>\n",
       "      <th>Country_Name</th>\n",
       "      <th>Item</th>\n",
       "      <th>Element</th>\n",
       "      <th>latitude</th>\n",
       "      <th>longitude</th>\n",
       "      <th>Years</th>\n",
       "      <th>Production</th>\n",
       "    </tr>\n",
       "  </thead>\n",
       "  <tbody>\n",
       "    <tr>\n",
       "      <th>0</th>\n",
       "      <td>AFG</td>\n",
       "      <td>Afghanistan</td>\n",
       "      <td>Wheat and products</td>\n",
       "      <td>Food</td>\n",
       "      <td>33.94</td>\n",
       "      <td>67.71</td>\n",
       "      <td>1961</td>\n",
       "      <td>1928</td>\n",
       "    </tr>\n",
       "    <tr>\n",
       "      <th>1</th>\n",
       "      <td>AFG</td>\n",
       "      <td>Afghanistan</td>\n",
       "      <td>Rice (Milled Equivalent)</td>\n",
       "      <td>Food</td>\n",
       "      <td>33.94</td>\n",
       "      <td>67.71</td>\n",
       "      <td>1961</td>\n",
       "      <td>183</td>\n",
       "    </tr>\n",
       "    <tr>\n",
       "      <th>2</th>\n",
       "      <td>AFG</td>\n",
       "      <td>Afghanistan</td>\n",
       "      <td>Barley and products</td>\n",
       "      <td>Feed</td>\n",
       "      <td>33.94</td>\n",
       "      <td>67.71</td>\n",
       "      <td>1961</td>\n",
       "      <td>76</td>\n",
       "    </tr>\n",
       "    <tr>\n",
       "      <th>3</th>\n",
       "      <td>AFG</td>\n",
       "      <td>Afghanistan</td>\n",
       "      <td>Barley and products</td>\n",
       "      <td>Food</td>\n",
       "      <td>33.94</td>\n",
       "      <td>67.71</td>\n",
       "      <td>1961</td>\n",
       "      <td>237</td>\n",
       "    </tr>\n",
       "    <tr>\n",
       "      <th>4</th>\n",
       "      <td>AFG</td>\n",
       "      <td>Afghanistan</td>\n",
       "      <td>Maize and products</td>\n",
       "      <td>Feed</td>\n",
       "      <td>33.94</td>\n",
       "      <td>67.71</td>\n",
       "      <td>1961</td>\n",
       "      <td>210</td>\n",
       "    </tr>\n",
       "  </tbody>\n",
       "</table>\n",
       "</div>"
      ],
      "text/plain": [
       "  Country_Code Country_Name                      Item Element  latitude  \\\n",
       "0          AFG  Afghanistan        Wheat and products    Food     33.94   \n",
       "1          AFG  Afghanistan  Rice (Milled Equivalent)    Food     33.94   \n",
       "2          AFG  Afghanistan       Barley and products    Feed     33.94   \n",
       "3          AFG  Afghanistan       Barley and products    Food     33.94   \n",
       "4          AFG  Afghanistan        Maize and products    Feed     33.94   \n",
       "\n",
       "   longitude Years  Production  \n",
       "0      67.71  1961        1928  \n",
       "1      67.71  1961         183  \n",
       "2      67.71  1961          76  \n",
       "3      67.71  1961         237  \n",
       "4      67.71  1961         210  "
      ]
     },
     "execution_count": 16,
     "metadata": {},
     "output_type": "execute_result"
    }
   ],
   "source": [
    "df_prod = df_prod.melt(\n",
    "\n",
    "    id_vars=['Country_Code', 'Country_Name', 'Item', 'Element', 'latitude', 'longitude'], \n",
    "    value_vars=[str(n) for n in range(1961, 2013+1)], \n",
    "    var_name=\"Years\", \n",
    "    value_name=\"Production\"\n",
    "    \n",
    "    )\n",
    "\n",
    "df_prod.head()"
   ]
  },
  {
   "cell_type": "markdown",
   "id": "76b91106",
   "metadata": {},
   "source": [
    "### Dataset delle emissioni di gas serra e dei consumi di acqua"
   ]
  },
  {
   "cell_type": "code",
   "execution_count": 17,
   "id": "6c9dba90",
   "metadata": {},
   "outputs": [
    {
     "name": "stdout",
     "output_type": "stream",
     "text": [
      "Dimensioni del dataframe: 43 righe e 23 colonne.\n",
      "\n",
      "Colonne del dataframe:\n",
      " Index(['Food product', 'Land use change', 'Animal Feed', 'Farm', 'Processing',\n",
      "       'Transport', 'Packging', 'Retail', 'Total_emissions',\n",
      "       'Eutrophying emissions per 1000kcal (gPO₄eq per 1000kcal)',\n",
      "       'Eutrophying emissions per kilogram (gPO₄eq per kilogram)',\n",
      "       'Eutrophying emissions per 100g protein (gPO₄eq per 100 grams protein)',\n",
      "       'Freshwater withdrawals per 1000kcal (liters per 1000kcal)',\n",
      "       'Freshwater withdrawals per 100g protein (liters per 100g protein)',\n",
      "       'Freshwater withdrawals per kilogram (liters per kilogram)',\n",
      "       'Greenhouse gas emissions per 1000kcal (kgCO₂eq per 1000kcal)',\n",
      "       'Greenhouse gas emissions per 100g protein (kgCO₂eq per 100g protein)',\n",
      "       'Land use per 1000kcal (m² per 1000kcal)',\n",
      "       'Land use per kilogram (m² per kilogram)',\n",
      "       'Land use per 100g protein (m² per 100g protein)',\n",
      "       'Scarcity-weighted water use per kilogram (liters per kilogram)',\n",
      "       'Scarcity-weighted water use per 100g protein (liters per 100g protein)',\n",
      "       'Scarcity-weighted water use per 1000kcal (liters per 1000 kilocalories)'],\n",
      "      dtype='object')\n"
     ]
    },
    {
     "data": {
      "text/html": [
       "<div>\n",
       "<style scoped>\n",
       "    .dataframe tbody tr th:only-of-type {\n",
       "        vertical-align: middle;\n",
       "    }\n",
       "\n",
       "    .dataframe tbody tr th {\n",
       "        vertical-align: top;\n",
       "    }\n",
       "\n",
       "    .dataframe thead th {\n",
       "        text-align: right;\n",
       "    }\n",
       "</style>\n",
       "<table border=\"1\" class=\"dataframe\">\n",
       "  <thead>\n",
       "    <tr style=\"text-align: right;\">\n",
       "      <th></th>\n",
       "      <th>Food product</th>\n",
       "      <th>Land use change</th>\n",
       "      <th>Animal Feed</th>\n",
       "      <th>Farm</th>\n",
       "      <th>Processing</th>\n",
       "      <th>Transport</th>\n",
       "      <th>Packging</th>\n",
       "      <th>Retail</th>\n",
       "      <th>Total_emissions</th>\n",
       "      <th>Eutrophying emissions per 1000kcal (gPO₄eq per 1000kcal)</th>\n",
       "      <th>Eutrophying emissions per kilogram (gPO₄eq per kilogram)</th>\n",
       "      <th>Eutrophying emissions per 100g protein (gPO₄eq per 100 grams protein)</th>\n",
       "      <th>Freshwater withdrawals per 1000kcal (liters per 1000kcal)</th>\n",
       "      <th>Freshwater withdrawals per 100g protein (liters per 100g protein)</th>\n",
       "      <th>Freshwater withdrawals per kilogram (liters per kilogram)</th>\n",
       "      <th>Greenhouse gas emissions per 1000kcal (kgCO₂eq per 1000kcal)</th>\n",
       "      <th>Greenhouse gas emissions per 100g protein (kgCO₂eq per 100g protein)</th>\n",
       "      <th>Land use per 1000kcal (m² per 1000kcal)</th>\n",
       "      <th>Land use per kilogram (m² per kilogram)</th>\n",
       "      <th>Land use per 100g protein (m² per 100g protein)</th>\n",
       "      <th>Scarcity-weighted water use per kilogram (liters per kilogram)</th>\n",
       "      <th>Scarcity-weighted water use per 100g protein (liters per 100g protein)</th>\n",
       "      <th>Scarcity-weighted water use per 1000kcal (liters per 1000 kilocalories)</th>\n",
       "    </tr>\n",
       "  </thead>\n",
       "  <tbody>\n",
       "    <tr>\n",
       "      <th>0</th>\n",
       "      <td>Wheat &amp; Rye (Bread)</td>\n",
       "      <td>0.1</td>\n",
       "      <td>0.0</td>\n",
       "      <td>0.8</td>\n",
       "      <td>0.2</td>\n",
       "      <td>0.1</td>\n",
       "      <td>0.1</td>\n",
       "      <td>0.1</td>\n",
       "      <td>1.4</td>\n",
       "      <td>NaN</td>\n",
       "      <td>NaN</td>\n",
       "      <td>NaN</td>\n",
       "      <td>NaN</td>\n",
       "      <td>NaN</td>\n",
       "      <td>NaN</td>\n",
       "      <td>NaN</td>\n",
       "      <td>NaN</td>\n",
       "      <td>NaN</td>\n",
       "      <td>NaN</td>\n",
       "      <td>NaN</td>\n",
       "      <td>NaN</td>\n",
       "      <td>NaN</td>\n",
       "      <td>NaN</td>\n",
       "    </tr>\n",
       "    <tr>\n",
       "      <th>1</th>\n",
       "      <td>Maize (Meal)</td>\n",
       "      <td>0.3</td>\n",
       "      <td>0.0</td>\n",
       "      <td>0.5</td>\n",
       "      <td>0.1</td>\n",
       "      <td>0.1</td>\n",
       "      <td>0.1</td>\n",
       "      <td>0.0</td>\n",
       "      <td>1.1</td>\n",
       "      <td>NaN</td>\n",
       "      <td>NaN</td>\n",
       "      <td>NaN</td>\n",
       "      <td>NaN</td>\n",
       "      <td>NaN</td>\n",
       "      <td>NaN</td>\n",
       "      <td>NaN</td>\n",
       "      <td>NaN</td>\n",
       "      <td>NaN</td>\n",
       "      <td>NaN</td>\n",
       "      <td>NaN</td>\n",
       "      <td>NaN</td>\n",
       "      <td>NaN</td>\n",
       "      <td>NaN</td>\n",
       "    </tr>\n",
       "    <tr>\n",
       "      <th>2</th>\n",
       "      <td>Barley (Beer)</td>\n",
       "      <td>0.0</td>\n",
       "      <td>0.0</td>\n",
       "      <td>0.2</td>\n",
       "      <td>0.1</td>\n",
       "      <td>0.0</td>\n",
       "      <td>0.5</td>\n",
       "      <td>0.3</td>\n",
       "      <td>1.1</td>\n",
       "      <td>NaN</td>\n",
       "      <td>NaN</td>\n",
       "      <td>NaN</td>\n",
       "      <td>NaN</td>\n",
       "      <td>NaN</td>\n",
       "      <td>NaN</td>\n",
       "      <td>NaN</td>\n",
       "      <td>NaN</td>\n",
       "      <td>NaN</td>\n",
       "      <td>NaN</td>\n",
       "      <td>NaN</td>\n",
       "      <td>NaN</td>\n",
       "      <td>NaN</td>\n",
       "      <td>NaN</td>\n",
       "    </tr>\n",
       "    <tr>\n",
       "      <th>3</th>\n",
       "      <td>Oatmeal</td>\n",
       "      <td>0.0</td>\n",
       "      <td>0.0</td>\n",
       "      <td>1.4</td>\n",
       "      <td>0.0</td>\n",
       "      <td>0.1</td>\n",
       "      <td>0.1</td>\n",
       "      <td>0.0</td>\n",
       "      <td>1.6</td>\n",
       "      <td>4.281357</td>\n",
       "      <td>11.23</td>\n",
       "      <td>8.638462</td>\n",
       "      <td>183.911552</td>\n",
       "      <td>371.076923</td>\n",
       "      <td>482.4</td>\n",
       "      <td>0.945482</td>\n",
       "      <td>1.907692</td>\n",
       "      <td>2.897446</td>\n",
       "      <td>7.6</td>\n",
       "      <td>5.846154</td>\n",
       "      <td>18786.2</td>\n",
       "      <td>14450.92308</td>\n",
       "      <td>7162.104461</td>\n",
       "    </tr>\n",
       "    <tr>\n",
       "      <th>4</th>\n",
       "      <td>Rice</td>\n",
       "      <td>0.0</td>\n",
       "      <td>0.0</td>\n",
       "      <td>3.6</td>\n",
       "      <td>0.1</td>\n",
       "      <td>0.1</td>\n",
       "      <td>0.1</td>\n",
       "      <td>0.1</td>\n",
       "      <td>4.0</td>\n",
       "      <td>9.514379</td>\n",
       "      <td>35.07</td>\n",
       "      <td>49.394366</td>\n",
       "      <td>609.983722</td>\n",
       "      <td>3166.760563</td>\n",
       "      <td>2248.4</td>\n",
       "      <td>1.207271</td>\n",
       "      <td>6.267606</td>\n",
       "      <td>0.759631</td>\n",
       "      <td>2.8</td>\n",
       "      <td>3.943662</td>\n",
       "      <td>49576.3</td>\n",
       "      <td>69825.77465</td>\n",
       "      <td>13449.891480</td>\n",
       "    </tr>\n",
       "  </tbody>\n",
       "</table>\n",
       "</div>"
      ],
      "text/plain": [
       "          Food product  Land use change  Animal Feed  Farm  Processing  \\\n",
       "0  Wheat & Rye (Bread)              0.1          0.0   0.8         0.2   \n",
       "1         Maize (Meal)              0.3          0.0   0.5         0.1   \n",
       "2        Barley (Beer)              0.0          0.0   0.2         0.1   \n",
       "3              Oatmeal              0.0          0.0   1.4         0.0   \n",
       "4                 Rice              0.0          0.0   3.6         0.1   \n",
       "\n",
       "   Transport  Packging  Retail  Total_emissions  \\\n",
       "0        0.1       0.1     0.1              1.4   \n",
       "1        0.1       0.1     0.0              1.1   \n",
       "2        0.0       0.5     0.3              1.1   \n",
       "3        0.1       0.1     0.0              1.6   \n",
       "4        0.1       0.1     0.1              4.0   \n",
       "\n",
       "   Eutrophying emissions per 1000kcal (gPO₄eq per 1000kcal)  \\\n",
       "0                                                NaN          \n",
       "1                                                NaN          \n",
       "2                                                NaN          \n",
       "3                                           4.281357          \n",
       "4                                           9.514379          \n",
       "\n",
       "   Eutrophying emissions per kilogram (gPO₄eq per kilogram)  \\\n",
       "0                                                NaN          \n",
       "1                                                NaN          \n",
       "2                                                NaN          \n",
       "3                                              11.23          \n",
       "4                                              35.07          \n",
       "\n",
       "   Eutrophying emissions per 100g protein (gPO₄eq per 100 grams protein)  \\\n",
       "0                                                NaN                       \n",
       "1                                                NaN                       \n",
       "2                                                NaN                       \n",
       "3                                           8.638462                       \n",
       "4                                          49.394366                       \n",
       "\n",
       "   Freshwater withdrawals per 1000kcal (liters per 1000kcal)  \\\n",
       "0                                                NaN           \n",
       "1                                                NaN           \n",
       "2                                                NaN           \n",
       "3                                         183.911552           \n",
       "4                                         609.983722           \n",
       "\n",
       "   Freshwater withdrawals per 100g protein (liters per 100g protein)  \\\n",
       "0                                                NaN                   \n",
       "1                                                NaN                   \n",
       "2                                                NaN                   \n",
       "3                                         371.076923                   \n",
       "4                                        3166.760563                   \n",
       "\n",
       "   Freshwater withdrawals per kilogram (liters per kilogram)  \\\n",
       "0                                                NaN           \n",
       "1                                                NaN           \n",
       "2                                                NaN           \n",
       "3                                              482.4           \n",
       "4                                             2248.4           \n",
       "\n",
       "   Greenhouse gas emissions per 1000kcal (kgCO₂eq per 1000kcal)  \\\n",
       "0                                                NaN              \n",
       "1                                                NaN              \n",
       "2                                                NaN              \n",
       "3                                           0.945482              \n",
       "4                                           1.207271              \n",
       "\n",
       "   Greenhouse gas emissions per 100g protein (kgCO₂eq per 100g protein)  \\\n",
       "0                                                NaN                      \n",
       "1                                                NaN                      \n",
       "2                                                NaN                      \n",
       "3                                           1.907692                      \n",
       "4                                           6.267606                      \n",
       "\n",
       "   Land use per 1000kcal (m² per 1000kcal)  \\\n",
       "0                                      NaN   \n",
       "1                                      NaN   \n",
       "2                                      NaN   \n",
       "3                                 2.897446   \n",
       "4                                 0.759631   \n",
       "\n",
       "   Land use per kilogram (m² per kilogram)  \\\n",
       "0                                      NaN   \n",
       "1                                      NaN   \n",
       "2                                      NaN   \n",
       "3                                      7.6   \n",
       "4                                      2.8   \n",
       "\n",
       "   Land use per 100g protein (m² per 100g protein)  \\\n",
       "0                                              NaN   \n",
       "1                                              NaN   \n",
       "2                                              NaN   \n",
       "3                                         5.846154   \n",
       "4                                         3.943662   \n",
       "\n",
       "   Scarcity-weighted water use per kilogram (liters per kilogram)  \\\n",
       "0                                                NaN                \n",
       "1                                                NaN                \n",
       "2                                                NaN                \n",
       "3                                            18786.2                \n",
       "4                                            49576.3                \n",
       "\n",
       "   Scarcity-weighted water use per 100g protein (liters per 100g protein)  \\\n",
       "0                                                NaN                        \n",
       "1                                                NaN                        \n",
       "2                                                NaN                        \n",
       "3                                        14450.92308                        \n",
       "4                                        69825.77465                        \n",
       "\n",
       "   Scarcity-weighted water use per 1000kcal (liters per 1000 kilocalories)  \n",
       "0                                                NaN                        \n",
       "1                                                NaN                        \n",
       "2                                                NaN                        \n",
       "3                                        7162.104461                        \n",
       "4                                       13449.891480                        "
      ]
     },
     "execution_count": 17,
     "metadata": {},
     "output_type": "execute_result"
    }
   ],
   "source": [
    "print(f\"Dimensioni del dataframe: {df_emiss.shape[0]} righe e {df_emiss.shape[1]} colonne.\")\n",
    "print(\"\\nColonne del dataframe:\\n\", df_emiss.columns)\n",
    "\n",
    "df_emiss.head()"
   ]
  },
  {
   "cell_type": "markdown",
   "id": "2b597cd3",
   "metadata": {},
   "source": [
    "#### Valori mancanti\n",
    "\n",
    "Come prima, vado ad individuare la presenza di valori mancanti nel dataframe."
   ]
  },
  {
   "cell_type": "code",
   "execution_count": 18,
   "id": "6b4586a6",
   "metadata": {},
   "outputs": [
    {
     "name": "stdout",
     "output_type": "stream",
     "text": [
      "Dtype, Valori unici e Valori mancanti(%) di ciascuna colonna:\n"
     ]
    },
    {
     "data": {
      "text/html": [
       "<div>\n",
       "<style scoped>\n",
       "    .dataframe tbody tr th:only-of-type {\n",
       "        vertical-align: middle;\n",
       "    }\n",
       "\n",
       "    .dataframe tbody tr th {\n",
       "        vertical-align: top;\n",
       "    }\n",
       "\n",
       "    .dataframe thead th {\n",
       "        text-align: right;\n",
       "    }\n",
       "</style>\n",
       "<table border=\"1\" class=\"dataframe\">\n",
       "  <thead>\n",
       "    <tr style=\"text-align: right;\">\n",
       "      <th></th>\n",
       "      <th>Dtype</th>\n",
       "      <th>Valori unici</th>\n",
       "      <th>Valori mancanti(%)</th>\n",
       "    </tr>\n",
       "    <tr>\n",
       "      <th>Colonne</th>\n",
       "      <th></th>\n",
       "      <th></th>\n",
       "      <th></th>\n",
       "    </tr>\n",
       "  </thead>\n",
       "  <tbody>\n",
       "    <tr>\n",
       "      <th>Food product</th>\n",
       "      <td>object</td>\n",
       "      <td>43</td>\n",
       "      <td>0.00</td>\n",
       "    </tr>\n",
       "    <tr>\n",
       "      <th>Land use change</th>\n",
       "      <td>float64</td>\n",
       "      <td>21</td>\n",
       "      <td>0.00</td>\n",
       "    </tr>\n",
       "    <tr>\n",
       "      <th>Animal Feed</th>\n",
       "      <td>float64</td>\n",
       "      <td>10</td>\n",
       "      <td>0.00</td>\n",
       "    </tr>\n",
       "    <tr>\n",
       "      <th>Farm</th>\n",
       "      <td>float64</td>\n",
       "      <td>24</td>\n",
       "      <td>0.00</td>\n",
       "    </tr>\n",
       "    <tr>\n",
       "      <th>Processing</th>\n",
       "      <td>float64</td>\n",
       "      <td>10</td>\n",
       "      <td>0.00</td>\n",
       "    </tr>\n",
       "    <tr>\n",
       "      <th>Transport</th>\n",
       "      <td>float64</td>\n",
       "      <td>8</td>\n",
       "      <td>0.00</td>\n",
       "    </tr>\n",
       "    <tr>\n",
       "      <th>Packging</th>\n",
       "      <td>float64</td>\n",
       "      <td>10</td>\n",
       "      <td>0.00</td>\n",
       "    </tr>\n",
       "    <tr>\n",
       "      <th>Retail</th>\n",
       "      <td>float64</td>\n",
       "      <td>4</td>\n",
       "      <td>0.00</td>\n",
       "    </tr>\n",
       "    <tr>\n",
       "      <th>Total_emissions</th>\n",
       "      <td>float64</td>\n",
       "      <td>33</td>\n",
       "      <td>0.00</td>\n",
       "    </tr>\n",
       "    <tr>\n",
       "      <th>Eutrophying emissions per kilogram (gPO₄eq per kilogram)</th>\n",
       "      <td>float64</td>\n",
       "      <td>38</td>\n",
       "      <td>11.63</td>\n",
       "    </tr>\n",
       "    <tr>\n",
       "      <th>Scarcity-weighted water use per kilogram (liters per kilogram)</th>\n",
       "      <td>float64</td>\n",
       "      <td>38</td>\n",
       "      <td>11.63</td>\n",
       "    </tr>\n",
       "    <tr>\n",
       "      <th>Land use per kilogram (m² per kilogram)</th>\n",
       "      <td>float64</td>\n",
       "      <td>38</td>\n",
       "      <td>11.63</td>\n",
       "    </tr>\n",
       "    <tr>\n",
       "      <th>Freshwater withdrawals per kilogram (liters per kilogram)</th>\n",
       "      <td>float64</td>\n",
       "      <td>38</td>\n",
       "      <td>11.63</td>\n",
       "    </tr>\n",
       "    <tr>\n",
       "      <th>Eutrophying emissions per 1000kcal (gPO₄eq per 1000kcal)</th>\n",
       "      <td>float64</td>\n",
       "      <td>33</td>\n",
       "      <td>23.26</td>\n",
       "    </tr>\n",
       "    <tr>\n",
       "      <th>Land use per 1000kcal (m² per 1000kcal)</th>\n",
       "      <td>float64</td>\n",
       "      <td>33</td>\n",
       "      <td>23.26</td>\n",
       "    </tr>\n",
       "    <tr>\n",
       "      <th>Greenhouse gas emissions per 1000kcal (kgCO₂eq per 1000kcal)</th>\n",
       "      <td>float64</td>\n",
       "      <td>33</td>\n",
       "      <td>23.26</td>\n",
       "    </tr>\n",
       "    <tr>\n",
       "      <th>Scarcity-weighted water use per 1000kcal (liters per 1000 kilocalories)</th>\n",
       "      <td>float64</td>\n",
       "      <td>30</td>\n",
       "      <td>30.23</td>\n",
       "    </tr>\n",
       "    <tr>\n",
       "      <th>Freshwater withdrawals per 1000kcal (liters per 1000kcal)</th>\n",
       "      <td>float64</td>\n",
       "      <td>30</td>\n",
       "      <td>30.23</td>\n",
       "    </tr>\n",
       "    <tr>\n",
       "      <th>Land use per 100g protein (m² per 100g protein)</th>\n",
       "      <td>float64</td>\n",
       "      <td>27</td>\n",
       "      <td>37.21</td>\n",
       "    </tr>\n",
       "    <tr>\n",
       "      <th>Greenhouse gas emissions per 100g protein (kgCO₂eq per 100g protein)</th>\n",
       "      <td>float64</td>\n",
       "      <td>27</td>\n",
       "      <td>37.21</td>\n",
       "    </tr>\n",
       "    <tr>\n",
       "      <th>Eutrophying emissions per 100g protein (gPO₄eq per 100 grams protein)</th>\n",
       "      <td>float64</td>\n",
       "      <td>27</td>\n",
       "      <td>37.21</td>\n",
       "    </tr>\n",
       "    <tr>\n",
       "      <th>Freshwater withdrawals per 100g protein (liters per 100g protein)</th>\n",
       "      <td>float64</td>\n",
       "      <td>26</td>\n",
       "      <td>39.53</td>\n",
       "    </tr>\n",
       "    <tr>\n",
       "      <th>Scarcity-weighted water use per 100g protein (liters per 100g protein)</th>\n",
       "      <td>float64</td>\n",
       "      <td>26</td>\n",
       "      <td>39.53</td>\n",
       "    </tr>\n",
       "  </tbody>\n",
       "</table>\n",
       "</div>"
      ],
      "text/plain": [
       "                                                      Dtype  Valori unici  \\\n",
       "Colonne                                                                     \n",
       "Food product                                         object            43   \n",
       "Land use change                                     float64            21   \n",
       "Animal Feed                                         float64            10   \n",
       "Farm                                                float64            24   \n",
       "Processing                                          float64            10   \n",
       "Transport                                           float64             8   \n",
       "Packging                                            float64            10   \n",
       "Retail                                              float64             4   \n",
       "Total_emissions                                     float64            33   \n",
       "Eutrophying emissions per kilogram (gPO₄eq per ...  float64            38   \n",
       "Scarcity-weighted water use per kilogram (liter...  float64            38   \n",
       "Land use per kilogram (m² per kilogram)             float64            38   \n",
       "Freshwater withdrawals per kilogram (liters per...  float64            38   \n",
       "Eutrophying emissions per 1000kcal (gPO₄eq per ...  float64            33   \n",
       "Land use per 1000kcal (m² per 1000kcal)             float64            33   \n",
       "Greenhouse gas emissions per 1000kcal (kgCO₂eq ...  float64            33   \n",
       "Scarcity-weighted water use per 1000kcal (liter...  float64            30   \n",
       "Freshwater withdrawals per 1000kcal (liters per...  float64            30   \n",
       "Land use per 100g protein (m² per 100g protein)     float64            27   \n",
       "Greenhouse gas emissions per 100g protein (kgCO...  float64            27   \n",
       "Eutrophying emissions per 100g protein (gPO₄eq ...  float64            27   \n",
       "Freshwater withdrawals per 100g protein (liters...  float64            26   \n",
       "Scarcity-weighted water use per 100g protein (l...  float64            26   \n",
       "\n",
       "                                                    Valori mancanti(%)  \n",
       "Colonne                                                                 \n",
       "Food product                                                      0.00  \n",
       "Land use change                                                   0.00  \n",
       "Animal Feed                                                       0.00  \n",
       "Farm                                                              0.00  \n",
       "Processing                                                        0.00  \n",
       "Transport                                                         0.00  \n",
       "Packging                                                          0.00  \n",
       "Retail                                                            0.00  \n",
       "Total_emissions                                                   0.00  \n",
       "Eutrophying emissions per kilogram (gPO₄eq per ...               11.63  \n",
       "Scarcity-weighted water use per kilogram (liter...               11.63  \n",
       "Land use per kilogram (m² per kilogram)                          11.63  \n",
       "Freshwater withdrawals per kilogram (liters per...               11.63  \n",
       "Eutrophying emissions per 1000kcal (gPO₄eq per ...               23.26  \n",
       "Land use per 1000kcal (m² per 1000kcal)                          23.26  \n",
       "Greenhouse gas emissions per 1000kcal (kgCO₂eq ...               23.26  \n",
       "Scarcity-weighted water use per 1000kcal (liter...               30.23  \n",
       "Freshwater withdrawals per 1000kcal (liters per...               30.23  \n",
       "Land use per 100g protein (m² per 100g protein)                  37.21  \n",
       "Greenhouse gas emissions per 100g protein (kgCO...               37.21  \n",
       "Eutrophying emissions per 100g protein (gPO₄eq ...               37.21  \n",
       "Freshwater withdrawals per 100g protein (liters...               39.53  \n",
       "Scarcity-weighted water use per 100g protein (l...               39.53  "
      ]
     },
     "execution_count": 18,
     "metadata": {},
     "output_type": "execute_result"
    }
   ],
   "source": [
    "print(\"Dtype, Valori unici e Valori mancanti(%) di ciascuna colonna:\")\n",
    "\n",
    "emission_df_info = pd.DataFrame({\"Dtype\": df_emiss.dtypes, \n",
    "                                 \"Valori unici\": df_emiss.nunique(),\n",
    "                                 \"Valori mancanti(%)\": round(df_emiss.isnull().sum()/df_emiss.shape[0]*100, 2)\n",
    "                                 }).rename_axis('Colonne', axis='rows')                       \n",
    "\n",
    "emission_df_info.sort_values(by='Valori mancanti(%)')"
   ]
  },
  {
   "cell_type": "markdown",
   "id": "4f1abf29",
   "metadata": {},
   "source": [
    "I valori mancanti si concentrano esclusivamente nelle colonne che valutano le emissioni di inquinanti ed i consumi di acqua in rapporto a 1 kilogrammo, 100 grammi di proteine, o 1000 kcal di alimento prodotto. In questo caso non farò alcuna *imputation* sulla presenza di questi valori mancanti, non essendo interessato ai dati contenuti in queste colonne. Procedo quindi eliminandole direttamente. "
   ]
  },
  {
   "cell_type": "code",
   "execution_count": 19,
   "id": "fa11dfb1",
   "metadata": {},
   "outputs": [
    {
     "data": {
      "text/html": [
       "<div>\n",
       "<style scoped>\n",
       "    .dataframe tbody tr th:only-of-type {\n",
       "        vertical-align: middle;\n",
       "    }\n",
       "\n",
       "    .dataframe tbody tr th {\n",
       "        vertical-align: top;\n",
       "    }\n",
       "\n",
       "    .dataframe thead th {\n",
       "        text-align: right;\n",
       "    }\n",
       "</style>\n",
       "<table border=\"1\" class=\"dataframe\">\n",
       "  <thead>\n",
       "    <tr style=\"text-align: right;\">\n",
       "      <th></th>\n",
       "      <th>Food_product</th>\n",
       "      <th>Land_use_change</th>\n",
       "      <th>Animal_Feed</th>\n",
       "      <th>Farm</th>\n",
       "      <th>Processing</th>\n",
       "      <th>Transport</th>\n",
       "      <th>Packging</th>\n",
       "      <th>Retail</th>\n",
       "      <th>Total_emissions</th>\n",
       "    </tr>\n",
       "  </thead>\n",
       "  <tbody>\n",
       "    <tr>\n",
       "      <th>0</th>\n",
       "      <td>Wheat &amp; Rye (Bread)</td>\n",
       "      <td>0.1</td>\n",
       "      <td>0.0</td>\n",
       "      <td>0.8</td>\n",
       "      <td>0.2</td>\n",
       "      <td>0.1</td>\n",
       "      <td>0.1</td>\n",
       "      <td>0.1</td>\n",
       "      <td>1.4</td>\n",
       "    </tr>\n",
       "    <tr>\n",
       "      <th>1</th>\n",
       "      <td>Maize (Meal)</td>\n",
       "      <td>0.3</td>\n",
       "      <td>0.0</td>\n",
       "      <td>0.5</td>\n",
       "      <td>0.1</td>\n",
       "      <td>0.1</td>\n",
       "      <td>0.1</td>\n",
       "      <td>0.0</td>\n",
       "      <td>1.1</td>\n",
       "    </tr>\n",
       "    <tr>\n",
       "      <th>2</th>\n",
       "      <td>Barley (Beer)</td>\n",
       "      <td>0.0</td>\n",
       "      <td>0.0</td>\n",
       "      <td>0.2</td>\n",
       "      <td>0.1</td>\n",
       "      <td>0.0</td>\n",
       "      <td>0.5</td>\n",
       "      <td>0.3</td>\n",
       "      <td>1.1</td>\n",
       "    </tr>\n",
       "    <tr>\n",
       "      <th>3</th>\n",
       "      <td>Oatmeal</td>\n",
       "      <td>0.0</td>\n",
       "      <td>0.0</td>\n",
       "      <td>1.4</td>\n",
       "      <td>0.0</td>\n",
       "      <td>0.1</td>\n",
       "      <td>0.1</td>\n",
       "      <td>0.0</td>\n",
       "      <td>1.6</td>\n",
       "    </tr>\n",
       "    <tr>\n",
       "      <th>4</th>\n",
       "      <td>Rice</td>\n",
       "      <td>0.0</td>\n",
       "      <td>0.0</td>\n",
       "      <td>3.6</td>\n",
       "      <td>0.1</td>\n",
       "      <td>0.1</td>\n",
       "      <td>0.1</td>\n",
       "      <td>0.1</td>\n",
       "      <td>4.0</td>\n",
       "    </tr>\n",
       "  </tbody>\n",
       "</table>\n",
       "</div>"
      ],
      "text/plain": [
       "          Food_product  Land_use_change  Animal_Feed  Farm  Processing  \\\n",
       "0  Wheat & Rye (Bread)              0.1          0.0   0.8         0.2   \n",
       "1         Maize (Meal)              0.3          0.0   0.5         0.1   \n",
       "2        Barley (Beer)              0.0          0.0   0.2         0.1   \n",
       "3              Oatmeal              0.0          0.0   1.4         0.0   \n",
       "4                 Rice              0.0          0.0   3.6         0.1   \n",
       "\n",
       "   Transport  Packging  Retail  Total_emissions  \n",
       "0        0.1       0.1     0.1              1.4  \n",
       "1        0.1       0.1     0.0              1.1  \n",
       "2        0.0       0.5     0.3              1.1  \n",
       "3        0.1       0.1     0.0              1.6  \n",
       "4        0.1       0.1     0.1              4.0  "
      ]
     },
     "execution_count": 19,
     "metadata": {},
     "output_type": "execute_result"
    }
   ],
   "source": [
    "# Lista delle colonne da eliminare\n",
    "columns_to_delete = [n for n in df_emiss.columns if '(' in n]\n",
    "\n",
    "df_emiss.drop(columns=(columns_to_delete), inplace=True)\n",
    "\n",
    "# Elimino gli spazi nelle colonne rimanenti\n",
    "df_emiss.rename(columns={x:x.replace(' ', '_') for x in df_emiss.columns}, inplace=True)\n",
    "\n",
    "df_emiss.head()"
   ]
  },
  {
   "cell_type": "markdown",
   "id": "d47623a2",
   "metadata": {},
   "source": [
    "#### Variabili quantitative e qualitative\n",
    "\n",
    "La colonna 'Food_product', contenente le variabili qualitative (nomi degli alimenti), non presenta incongruenze o voci ripetute. \n",
    "\n",
    "Anche tutte le altre colonne, contenenti le variabili quantitative, non presentano errori. I valori presenti in tali colonne si riferiscono ad **1 kg di CO₂ emessa per kg di alimento prodotto**. "
   ]
  },
  {
   "cell_type": "markdown",
   "id": "483f91a3",
   "metadata": {},
   "source": [
    "### Dataset delle variazioni di temperatura"
   ]
  },
  {
   "cell_type": "code",
   "execution_count": 20,
   "id": "cae8acdc",
   "metadata": {},
   "outputs": [
    {
     "name": "stdout",
     "output_type": "stream",
     "text": [
      "Dimensioni del dataframe: 9656 righe e 66 colonne.\n",
      "\n",
      "Colonne del dataframe:\n",
      " Index(['Area Code', 'Area', 'Months Code', 'Months', 'Element Code', 'Element',\n",
      "       'Unit', 'Y1961', 'Y1962', 'Y1963', 'Y1964', 'Y1965', 'Y1966', 'Y1967',\n",
      "       'Y1968', 'Y1969', 'Y1970', 'Y1971', 'Y1972', 'Y1973', 'Y1974', 'Y1975',\n",
      "       'Y1976', 'Y1977', 'Y1978', 'Y1979', 'Y1980', 'Y1981', 'Y1982', 'Y1983',\n",
      "       'Y1984', 'Y1985', 'Y1986', 'Y1987', 'Y1988', 'Y1989', 'Y1990', 'Y1991',\n",
      "       'Y1992', 'Y1993', 'Y1994', 'Y1995', 'Y1996', 'Y1997', 'Y1998', 'Y1999',\n",
      "       'Y2000', 'Y2001', 'Y2002', 'Y2003', 'Y2004', 'Y2005', 'Y2006', 'Y2007',\n",
      "       'Y2008', 'Y2009', 'Y2010', 'Y2011', 'Y2012', 'Y2013', 'Y2014', 'Y2015',\n",
      "       'Y2016', 'Y2017', 'Y2018', 'Y2019'],\n",
      "      dtype='object')\n"
     ]
    },
    {
     "data": {
      "text/html": [
       "<div>\n",
       "<style scoped>\n",
       "    .dataframe tbody tr th:only-of-type {\n",
       "        vertical-align: middle;\n",
       "    }\n",
       "\n",
       "    .dataframe tbody tr th {\n",
       "        vertical-align: top;\n",
       "    }\n",
       "\n",
       "    .dataframe thead th {\n",
       "        text-align: right;\n",
       "    }\n",
       "</style>\n",
       "<table border=\"1\" class=\"dataframe\">\n",
       "  <thead>\n",
       "    <tr style=\"text-align: right;\">\n",
       "      <th></th>\n",
       "      <th>Area Code</th>\n",
       "      <th>Area</th>\n",
       "      <th>Months Code</th>\n",
       "      <th>Months</th>\n",
       "      <th>Element Code</th>\n",
       "      <th>Element</th>\n",
       "      <th>Unit</th>\n",
       "      <th>Y1961</th>\n",
       "      <th>Y1962</th>\n",
       "      <th>Y1963</th>\n",
       "      <th>Y1964</th>\n",
       "      <th>Y1965</th>\n",
       "      <th>Y1966</th>\n",
       "      <th>Y1967</th>\n",
       "      <th>Y1968</th>\n",
       "      <th>Y1969</th>\n",
       "      <th>Y1970</th>\n",
       "      <th>Y1971</th>\n",
       "      <th>Y1972</th>\n",
       "      <th>Y1973</th>\n",
       "      <th>Y1974</th>\n",
       "      <th>Y1975</th>\n",
       "      <th>Y1976</th>\n",
       "      <th>Y1977</th>\n",
       "      <th>Y1978</th>\n",
       "      <th>Y1979</th>\n",
       "      <th>Y1980</th>\n",
       "      <th>Y1981</th>\n",
       "      <th>Y1982</th>\n",
       "      <th>Y1983</th>\n",
       "      <th>Y1984</th>\n",
       "      <th>Y1985</th>\n",
       "      <th>Y1986</th>\n",
       "      <th>Y1987</th>\n",
       "      <th>Y1988</th>\n",
       "      <th>Y1989</th>\n",
       "      <th>Y1990</th>\n",
       "      <th>Y1991</th>\n",
       "      <th>Y1992</th>\n",
       "      <th>Y1993</th>\n",
       "      <th>Y1994</th>\n",
       "      <th>Y1995</th>\n",
       "      <th>Y1996</th>\n",
       "      <th>Y1997</th>\n",
       "      <th>Y1998</th>\n",
       "      <th>Y1999</th>\n",
       "      <th>Y2000</th>\n",
       "      <th>Y2001</th>\n",
       "      <th>Y2002</th>\n",
       "      <th>Y2003</th>\n",
       "      <th>Y2004</th>\n",
       "      <th>Y2005</th>\n",
       "      <th>Y2006</th>\n",
       "      <th>Y2007</th>\n",
       "      <th>Y2008</th>\n",
       "      <th>Y2009</th>\n",
       "      <th>Y2010</th>\n",
       "      <th>Y2011</th>\n",
       "      <th>Y2012</th>\n",
       "      <th>Y2013</th>\n",
       "      <th>Y2014</th>\n",
       "      <th>Y2015</th>\n",
       "      <th>Y2016</th>\n",
       "      <th>Y2017</th>\n",
       "      <th>Y2018</th>\n",
       "      <th>Y2019</th>\n",
       "    </tr>\n",
       "  </thead>\n",
       "  <tbody>\n",
       "    <tr>\n",
       "      <th>0</th>\n",
       "      <td>2</td>\n",
       "      <td>Afghanistan</td>\n",
       "      <td>7001</td>\n",
       "      <td>January</td>\n",
       "      <td>7271</td>\n",
       "      <td>Temperature change</td>\n",
       "      <td>°C</td>\n",
       "      <td>0.777</td>\n",
       "      <td>0.062</td>\n",
       "      <td>2.744</td>\n",
       "      <td>-5.232</td>\n",
       "      <td>1.868</td>\n",
       "      <td>3.629</td>\n",
       "      <td>-1.432</td>\n",
       "      <td>0.389</td>\n",
       "      <td>-2.298</td>\n",
       "      <td>0.804</td>\n",
       "      <td>-1.487</td>\n",
       "      <td>-1.305</td>\n",
       "      <td>-2.951</td>\n",
       "      <td>-1.184</td>\n",
       "      <td>-0.490</td>\n",
       "      <td>2.409</td>\n",
       "      <td>-3.014</td>\n",
       "      <td>-0.663</td>\n",
       "      <td>1.141</td>\n",
       "      <td>-0.393</td>\n",
       "      <td>1.724</td>\n",
       "      <td>0.678</td>\n",
       "      <td>0.524</td>\n",
       "      <td>-0.058</td>\n",
       "      <td>0.435</td>\n",
       "      <td>0.332</td>\n",
       "      <td>2.655</td>\n",
       "      <td>1.150</td>\n",
       "      <td>-1.108</td>\n",
       "      <td>0.634</td>\n",
       "      <td>0.018</td>\n",
       "      <td>0.582</td>\n",
       "      <td>-0.821</td>\n",
       "      <td>1.087</td>\n",
       "      <td>1.297</td>\n",
       "      <td>-0.718</td>\n",
       "      <td>1.426</td>\n",
       "      <td>0.950</td>\n",
       "      <td>0.859</td>\n",
       "      <td>1.565</td>\n",
       "      <td>-0.603</td>\n",
       "      <td>1.606</td>\n",
       "      <td>2.479</td>\n",
       "      <td>2.707</td>\n",
       "      <td>0.109</td>\n",
       "      <td>-1.606</td>\n",
       "      <td>0.431</td>\n",
       "      <td>-5.553</td>\n",
       "      <td>1.518</td>\n",
       "      <td>3.601</td>\n",
       "      <td>1.179</td>\n",
       "      <td>-0.583</td>\n",
       "      <td>1.233</td>\n",
       "      <td>1.755</td>\n",
       "      <td>1.943</td>\n",
       "      <td>3.416</td>\n",
       "      <td>1.201</td>\n",
       "      <td>1.996</td>\n",
       "      <td>2.951</td>\n",
       "    </tr>\n",
       "    <tr>\n",
       "      <th>1</th>\n",
       "      <td>2</td>\n",
       "      <td>Afghanistan</td>\n",
       "      <td>7001</td>\n",
       "      <td>January</td>\n",
       "      <td>6078</td>\n",
       "      <td>Standard Deviation</td>\n",
       "      <td>°C</td>\n",
       "      <td>1.950</td>\n",
       "      <td>1.950</td>\n",
       "      <td>1.950</td>\n",
       "      <td>1.950</td>\n",
       "      <td>1.950</td>\n",
       "      <td>1.950</td>\n",
       "      <td>1.950</td>\n",
       "      <td>1.950</td>\n",
       "      <td>1.950</td>\n",
       "      <td>1.950</td>\n",
       "      <td>1.950</td>\n",
       "      <td>1.950</td>\n",
       "      <td>1.950</td>\n",
       "      <td>1.950</td>\n",
       "      <td>1.950</td>\n",
       "      <td>1.950</td>\n",
       "      <td>1.950</td>\n",
       "      <td>1.950</td>\n",
       "      <td>1.950</td>\n",
       "      <td>1.950</td>\n",
       "      <td>1.950</td>\n",
       "      <td>1.950</td>\n",
       "      <td>1.950</td>\n",
       "      <td>1.950</td>\n",
       "      <td>1.950</td>\n",
       "      <td>1.950</td>\n",
       "      <td>1.950</td>\n",
       "      <td>1.950</td>\n",
       "      <td>1.950</td>\n",
       "      <td>1.950</td>\n",
       "      <td>1.950</td>\n",
       "      <td>1.950</td>\n",
       "      <td>1.950</td>\n",
       "      <td>1.950</td>\n",
       "      <td>1.950</td>\n",
       "      <td>1.950</td>\n",
       "      <td>1.950</td>\n",
       "      <td>1.950</td>\n",
       "      <td>1.950</td>\n",
       "      <td>1.950</td>\n",
       "      <td>1.950</td>\n",
       "      <td>1.950</td>\n",
       "      <td>1.950</td>\n",
       "      <td>1.950</td>\n",
       "      <td>1.950</td>\n",
       "      <td>1.950</td>\n",
       "      <td>1.950</td>\n",
       "      <td>1.950</td>\n",
       "      <td>1.950</td>\n",
       "      <td>1.950</td>\n",
       "      <td>1.950</td>\n",
       "      <td>1.950</td>\n",
       "      <td>1.950</td>\n",
       "      <td>1.950</td>\n",
       "      <td>1.950</td>\n",
       "      <td>1.950</td>\n",
       "      <td>1.950</td>\n",
       "      <td>1.950</td>\n",
       "      <td>1.950</td>\n",
       "    </tr>\n",
       "    <tr>\n",
       "      <th>2</th>\n",
       "      <td>2</td>\n",
       "      <td>Afghanistan</td>\n",
       "      <td>7002</td>\n",
       "      <td>February</td>\n",
       "      <td>7271</td>\n",
       "      <td>Temperature change</td>\n",
       "      <td>°C</td>\n",
       "      <td>-1.743</td>\n",
       "      <td>2.465</td>\n",
       "      <td>3.919</td>\n",
       "      <td>-0.202</td>\n",
       "      <td>-0.096</td>\n",
       "      <td>3.397</td>\n",
       "      <td>0.296</td>\n",
       "      <td>-2.055</td>\n",
       "      <td>-3.167</td>\n",
       "      <td>1.809</td>\n",
       "      <td>0.816</td>\n",
       "      <td>-7.722</td>\n",
       "      <td>1.838</td>\n",
       "      <td>-3.706</td>\n",
       "      <td>-1.239</td>\n",
       "      <td>-1.620</td>\n",
       "      <td>-0.156</td>\n",
       "      <td>-0.369</td>\n",
       "      <td>1.072</td>\n",
       "      <td>-1.222</td>\n",
       "      <td>1.088</td>\n",
       "      <td>-2.101</td>\n",
       "      <td>0.460</td>\n",
       "      <td>-4.321</td>\n",
       "      <td>2.467</td>\n",
       "      <td>-0.286</td>\n",
       "      <td>1.409</td>\n",
       "      <td>0.170</td>\n",
       "      <td>-2.890</td>\n",
       "      <td>-0.310</td>\n",
       "      <td>-1.373</td>\n",
       "      <td>-0.120</td>\n",
       "      <td>1.414</td>\n",
       "      <td>-1.412</td>\n",
       "      <td>-0.149</td>\n",
       "      <td>0.870</td>\n",
       "      <td>0.043</td>\n",
       "      <td>-0.540</td>\n",
       "      <td>3.222</td>\n",
       "      <td>-0.901</td>\n",
       "      <td>0.707</td>\n",
       "      <td>0.985</td>\n",
       "      <td>1.816</td>\n",
       "      <td>2.871</td>\n",
       "      <td>-1.506</td>\n",
       "      <td>4.725</td>\n",
       "      <td>1.645</td>\n",
       "      <td>-2.332</td>\n",
       "      <td>2.494</td>\n",
       "      <td>1.212</td>\n",
       "      <td>0.321</td>\n",
       "      <td>-3.201</td>\n",
       "      <td>1.494</td>\n",
       "      <td>-3.187</td>\n",
       "      <td>2.699</td>\n",
       "      <td>2.251</td>\n",
       "      <td>-0.323</td>\n",
       "      <td>2.705</td>\n",
       "      <td>0.086</td>\n",
       "    </tr>\n",
       "    <tr>\n",
       "      <th>3</th>\n",
       "      <td>2</td>\n",
       "      <td>Afghanistan</td>\n",
       "      <td>7002</td>\n",
       "      <td>February</td>\n",
       "      <td>6078</td>\n",
       "      <td>Standard Deviation</td>\n",
       "      <td>°C</td>\n",
       "      <td>2.597</td>\n",
       "      <td>2.597</td>\n",
       "      <td>2.597</td>\n",
       "      <td>2.597</td>\n",
       "      <td>2.597</td>\n",
       "      <td>2.597</td>\n",
       "      <td>2.597</td>\n",
       "      <td>2.597</td>\n",
       "      <td>2.597</td>\n",
       "      <td>2.597</td>\n",
       "      <td>2.597</td>\n",
       "      <td>2.597</td>\n",
       "      <td>2.597</td>\n",
       "      <td>2.597</td>\n",
       "      <td>2.597</td>\n",
       "      <td>2.597</td>\n",
       "      <td>2.597</td>\n",
       "      <td>2.597</td>\n",
       "      <td>2.597</td>\n",
       "      <td>2.597</td>\n",
       "      <td>2.597</td>\n",
       "      <td>2.597</td>\n",
       "      <td>2.597</td>\n",
       "      <td>2.597</td>\n",
       "      <td>2.597</td>\n",
       "      <td>2.597</td>\n",
       "      <td>2.597</td>\n",
       "      <td>2.597</td>\n",
       "      <td>2.597</td>\n",
       "      <td>2.597</td>\n",
       "      <td>2.597</td>\n",
       "      <td>2.597</td>\n",
       "      <td>2.597</td>\n",
       "      <td>2.597</td>\n",
       "      <td>2.597</td>\n",
       "      <td>2.597</td>\n",
       "      <td>2.597</td>\n",
       "      <td>2.597</td>\n",
       "      <td>2.597</td>\n",
       "      <td>2.597</td>\n",
       "      <td>2.597</td>\n",
       "      <td>2.597</td>\n",
       "      <td>2.597</td>\n",
       "      <td>2.597</td>\n",
       "      <td>2.597</td>\n",
       "      <td>2.597</td>\n",
       "      <td>2.597</td>\n",
       "      <td>2.597</td>\n",
       "      <td>2.597</td>\n",
       "      <td>2.597</td>\n",
       "      <td>2.597</td>\n",
       "      <td>2.597</td>\n",
       "      <td>2.597</td>\n",
       "      <td>2.597</td>\n",
       "      <td>2.597</td>\n",
       "      <td>2.597</td>\n",
       "      <td>2.597</td>\n",
       "      <td>2.597</td>\n",
       "      <td>2.597</td>\n",
       "    </tr>\n",
       "    <tr>\n",
       "      <th>4</th>\n",
       "      <td>2</td>\n",
       "      <td>Afghanistan</td>\n",
       "      <td>7003</td>\n",
       "      <td>March</td>\n",
       "      <td>7271</td>\n",
       "      <td>Temperature change</td>\n",
       "      <td>°C</td>\n",
       "      <td>0.516</td>\n",
       "      <td>1.336</td>\n",
       "      <td>0.403</td>\n",
       "      <td>1.659</td>\n",
       "      <td>-0.909</td>\n",
       "      <td>-0.069</td>\n",
       "      <td>-0.759</td>\n",
       "      <td>0.496</td>\n",
       "      <td>2.481</td>\n",
       "      <td>-0.915</td>\n",
       "      <td>1.658</td>\n",
       "      <td>-1.784</td>\n",
       "      <td>-0.473</td>\n",
       "      <td>1.001</td>\n",
       "      <td>-0.585</td>\n",
       "      <td>-2.817</td>\n",
       "      <td>3.377</td>\n",
       "      <td>-1.536</td>\n",
       "      <td>-1.420</td>\n",
       "      <td>-0.628</td>\n",
       "      <td>1.166</td>\n",
       "      <td>-1.781</td>\n",
       "      <td>-2.406</td>\n",
       "      <td>1.761</td>\n",
       "      <td>-0.160</td>\n",
       "      <td>-3.087</td>\n",
       "      <td>1.330</td>\n",
       "      <td>-0.056</td>\n",
       "      <td>0.065</td>\n",
       "      <td>-1.000</td>\n",
       "      <td>-0.901</td>\n",
       "      <td>-2.220</td>\n",
       "      <td>-1.449</td>\n",
       "      <td>1.312</td>\n",
       "      <td>-1.451</td>\n",
       "      <td>-0.336</td>\n",
       "      <td>-0.005</td>\n",
       "      <td>-0.576</td>\n",
       "      <td>-0.217</td>\n",
       "      <td>-0.267</td>\n",
       "      <td>1.229</td>\n",
       "      <td>1.949</td>\n",
       "      <td>-0.158</td>\n",
       "      <td>2.753</td>\n",
       "      <td>1.663</td>\n",
       "      <td>1.847</td>\n",
       "      <td>-0.201</td>\n",
       "      <td>4.172</td>\n",
       "      <td>2.362</td>\n",
       "      <td>3.390</td>\n",
       "      <td>0.748</td>\n",
       "      <td>-0.527</td>\n",
       "      <td>2.246</td>\n",
       "      <td>-0.076</td>\n",
       "      <td>-0.497</td>\n",
       "      <td>2.296</td>\n",
       "      <td>0.834</td>\n",
       "      <td>4.418</td>\n",
       "      <td>0.234</td>\n",
       "    </tr>\n",
       "  </tbody>\n",
       "</table>\n",
       "</div>"
      ],
      "text/plain": [
       "   Area Code         Area  Months Code    Months  Element Code  \\\n",
       "0          2  Afghanistan         7001   January          7271   \n",
       "1          2  Afghanistan         7001   January          6078   \n",
       "2          2  Afghanistan         7002  February          7271   \n",
       "3          2  Afghanistan         7002  February          6078   \n",
       "4          2  Afghanistan         7003     March          7271   \n",
       "\n",
       "              Element Unit  Y1961  Y1962  Y1963  Y1964  Y1965  Y1966  Y1967  \\\n",
       "0  Temperature change   °C  0.777  0.062  2.744 -5.232  1.868  3.629 -1.432   \n",
       "1  Standard Deviation   °C  1.950  1.950  1.950  1.950  1.950  1.950  1.950   \n",
       "2  Temperature change   °C -1.743  2.465  3.919 -0.202 -0.096  3.397  0.296   \n",
       "3  Standard Deviation   °C  2.597  2.597  2.597  2.597  2.597  2.597  2.597   \n",
       "4  Temperature change   °C  0.516  1.336  0.403  1.659 -0.909 -0.069 -0.759   \n",
       "\n",
       "   Y1968  Y1969  Y1970  Y1971  Y1972  Y1973  Y1974  Y1975  Y1976  Y1977  \\\n",
       "0  0.389 -2.298  0.804 -1.487 -1.305 -2.951 -1.184 -0.490  2.409 -3.014   \n",
       "1  1.950  1.950  1.950  1.950  1.950  1.950  1.950  1.950  1.950  1.950   \n",
       "2 -2.055 -3.167  1.809  0.816 -7.722  1.838 -3.706 -1.239 -1.620 -0.156   \n",
       "3  2.597  2.597  2.597  2.597  2.597  2.597  2.597  2.597  2.597  2.597   \n",
       "4  0.496  2.481 -0.915  1.658 -1.784 -0.473  1.001 -0.585 -2.817  3.377   \n",
       "\n",
       "   Y1978  Y1979  Y1980  Y1981  Y1982  Y1983  Y1984  Y1985  Y1986  Y1987  \\\n",
       "0 -0.663  1.141 -0.393  1.724  0.678  0.524 -0.058  0.435  0.332  2.655   \n",
       "1  1.950  1.950  1.950  1.950  1.950  1.950  1.950  1.950  1.950  1.950   \n",
       "2 -0.369  1.072 -1.222  1.088 -2.101  0.460 -4.321  2.467 -0.286  1.409   \n",
       "3  2.597  2.597  2.597  2.597  2.597  2.597  2.597  2.597  2.597  2.597   \n",
       "4 -1.536 -1.420 -0.628  1.166 -1.781 -2.406  1.761 -0.160 -3.087  1.330   \n",
       "\n",
       "   Y1988  Y1989  Y1990  Y1991  Y1992  Y1993  Y1994  Y1995  Y1996  Y1997  \\\n",
       "0  1.150 -1.108  0.634  0.018  0.582 -0.821  1.087  1.297 -0.718  1.426   \n",
       "1  1.950  1.950  1.950  1.950  1.950  1.950  1.950  1.950  1.950  1.950   \n",
       "2  0.170 -2.890 -0.310 -1.373 -0.120  1.414 -1.412 -0.149  0.870  0.043   \n",
       "3  2.597  2.597  2.597  2.597  2.597  2.597  2.597  2.597  2.597  2.597   \n",
       "4 -0.056  0.065 -1.000 -0.901 -2.220 -1.449  1.312 -1.451 -0.336 -0.005   \n",
       "\n",
       "   Y1998  Y1999  Y2000  Y2001  Y2002  Y2003  Y2004  Y2005  Y2006  Y2007  \\\n",
       "0  0.950  0.859  1.565 -0.603  1.606  2.479  2.707  0.109 -1.606  0.431   \n",
       "1  1.950  1.950  1.950  1.950  1.950  1.950  1.950  1.950  1.950  1.950   \n",
       "2 -0.540  3.222 -0.901  0.707  0.985  1.816  2.871 -1.506  4.725  1.645   \n",
       "3  2.597  2.597  2.597  2.597  2.597  2.597  2.597  2.597  2.597  2.597   \n",
       "4 -0.576 -0.217 -0.267  1.229  1.949 -0.158  2.753  1.663  1.847 -0.201   \n",
       "\n",
       "   Y2008  Y2009  Y2010  Y2011  Y2012  Y2013  Y2014  Y2015  Y2016  Y2017  \\\n",
       "0 -5.553  1.518  3.601  1.179 -0.583  1.233  1.755  1.943  3.416  1.201   \n",
       "1  1.950  1.950  1.950  1.950  1.950  1.950  1.950  1.950  1.950  1.950   \n",
       "2 -2.332  2.494  1.212  0.321 -3.201  1.494 -3.187  2.699  2.251 -0.323   \n",
       "3  2.597  2.597  2.597  2.597  2.597  2.597  2.597  2.597  2.597  2.597   \n",
       "4  4.172  2.362  3.390  0.748 -0.527  2.246 -0.076 -0.497  2.296  0.834   \n",
       "\n",
       "   Y2018  Y2019  \n",
       "0  1.996  2.951  \n",
       "1  1.950  1.950  \n",
       "2  2.705  0.086  \n",
       "3  2.597  2.597  \n",
       "4  4.418  0.234  "
      ]
     },
     "execution_count": 20,
     "metadata": {},
     "output_type": "execute_result"
    }
   ],
   "source": [
    "print(f\"Dimensioni del dataframe: {df_temp.shape[0]} righe e {df_temp.shape[1]} colonne.\")\n",
    "print(\"\\nColonne del dataframe:\\n\", df_temp.columns)\n",
    "df_temp.head()"
   ]
  },
  {
   "cell_type": "code",
   "execution_count": 21,
   "id": "dfcc5902",
   "metadata": {},
   "outputs": [],
   "source": [
    "# Seleziono il subset del dataframe senza i valori di deviazione standard\n",
    "df_temp = df_temp.loc[df_temp.Element == 'Temperature change']\n",
    "\n",
    "# Elimino le colonne che non sono necessarie\n",
    "df_temp.drop(columns=['Area Code', 'Months Code', 'Element Code', 'Element', 'Unit'], inplace=True)\n",
    "\n",
    "# Rimuovo la 'Y' dalle labels degli anni\n",
    "df_temp.rename(columns={x:x[1:] for x in df_temp.columns if 'Y' in x}, inplace=True)\n",
    "\n",
    "# Cambio il nome della colonna 'Area'\n",
    "df_temp.rename(columns={'Area': 'Country_Name'}, inplace=True)"
   ]
  },
  {
   "cell_type": "markdown",
   "id": "65d42c1a",
   "metadata": {},
   "source": [
    "#### Valori mancanti\n",
    "\n",
    "Anche in questo caso procedo ripulendo il dataframe dai valori mancanti. Ancora una volta, per prima cosa vado a visualizzare la loro presenza e la loro posizione nel dataframe. "
   ]
  },
  {
   "cell_type": "code",
   "execution_count": 22,
   "id": "bc65fc7e",
   "metadata": {},
   "outputs": [
    {
     "name": "stdout",
     "output_type": "stream",
     "text": [
      "Dtype, Valori unici e Valori mancanti(%) di ciascuna colonna:\n"
     ]
    },
    {
     "data": {
      "text/html": [
       "<div>\n",
       "<style scoped>\n",
       "    .dataframe tbody tr th:only-of-type {\n",
       "        vertical-align: middle;\n",
       "    }\n",
       "\n",
       "    .dataframe tbody tr th {\n",
       "        vertical-align: top;\n",
       "    }\n",
       "\n",
       "    .dataframe thead th {\n",
       "        text-align: right;\n",
       "    }\n",
       "</style>\n",
       "<table border=\"1\" class=\"dataframe\">\n",
       "  <thead>\n",
       "    <tr style=\"text-align: right;\">\n",
       "      <th></th>\n",
       "      <th>Dtype</th>\n",
       "      <th>Valori unici</th>\n",
       "      <th>Valori mancanti(%)</th>\n",
       "    </tr>\n",
       "    <tr>\n",
       "      <th>Colonne</th>\n",
       "      <th></th>\n",
       "      <th></th>\n",
       "      <th></th>\n",
       "    </tr>\n",
       "  </thead>\n",
       "  <tbody>\n",
       "    <tr>\n",
       "      <th>Country_Name</th>\n",
       "      <td>object</td>\n",
       "      <td>284</td>\n",
       "      <td>0.00</td>\n",
       "    </tr>\n",
       "    <tr>\n",
       "      <th>Months</th>\n",
       "      <td>object</td>\n",
       "      <td>17</td>\n",
       "      <td>0.00</td>\n",
       "    </tr>\n",
       "    <tr>\n",
       "      <th>1961</th>\n",
       "      <td>float64</td>\n",
       "      <td>2002</td>\n",
       "      <td>14.00</td>\n",
       "    </tr>\n",
       "    <tr>\n",
       "      <th>1962</th>\n",
       "      <td>float64</td>\n",
       "      <td>1866</td>\n",
       "      <td>13.82</td>\n",
       "    </tr>\n",
       "    <tr>\n",
       "      <th>1963</th>\n",
       "      <td>float64</td>\n",
       "      <td>2035</td>\n",
       "      <td>14.11</td>\n",
       "    </tr>\n",
       "    <tr>\n",
       "      <th>1964</th>\n",
       "      <td>float64</td>\n",
       "      <td>1960</td>\n",
       "      <td>14.52</td>\n",
       "    </tr>\n",
       "    <tr>\n",
       "      <th>1965</th>\n",
       "      <td>float64</td>\n",
       "      <td>1910</td>\n",
       "      <td>14.06</td>\n",
       "    </tr>\n",
       "    <tr>\n",
       "      <th>1966</th>\n",
       "      <td>float64</td>\n",
       "      <td>1939</td>\n",
       "      <td>13.03</td>\n",
       "    </tr>\n",
       "    <tr>\n",
       "      <th>1967</th>\n",
       "      <td>float64</td>\n",
       "      <td>1888</td>\n",
       "      <td>13.38</td>\n",
       "    </tr>\n",
       "    <tr>\n",
       "      <th>1968</th>\n",
       "      <td>float64</td>\n",
       "      <td>1953</td>\n",
       "      <td>13.30</td>\n",
       "    </tr>\n",
       "    <tr>\n",
       "      <th>1969</th>\n",
       "      <td>float64</td>\n",
       "      <td>1986</td>\n",
       "      <td>13.46</td>\n",
       "    </tr>\n",
       "    <tr>\n",
       "      <th>1970</th>\n",
       "      <td>float64</td>\n",
       "      <td>1892</td>\n",
       "      <td>13.61</td>\n",
       "    </tr>\n",
       "    <tr>\n",
       "      <th>1971</th>\n",
       "      <td>float64</td>\n",
       "      <td>1842</td>\n",
       "      <td>13.59</td>\n",
       "    </tr>\n",
       "    <tr>\n",
       "      <th>1972</th>\n",
       "      <td>float64</td>\n",
       "      <td>2044</td>\n",
       "      <td>13.40</td>\n",
       "    </tr>\n",
       "    <tr>\n",
       "      <th>1973</th>\n",
       "      <td>float64</td>\n",
       "      <td>2032</td>\n",
       "      <td>12.41</td>\n",
       "    </tr>\n",
       "    <tr>\n",
       "      <th>1974</th>\n",
       "      <td>float64</td>\n",
       "      <td>1864</td>\n",
       "      <td>12.57</td>\n",
       "    </tr>\n",
       "    <tr>\n",
       "      <th>1975</th>\n",
       "      <td>float64</td>\n",
       "      <td>1907</td>\n",
       "      <td>13.55</td>\n",
       "    </tr>\n",
       "    <tr>\n",
       "      <th>1976</th>\n",
       "      <td>float64</td>\n",
       "      <td>1934</td>\n",
       "      <td>14.29</td>\n",
       "    </tr>\n",
       "    <tr>\n",
       "      <th>1977</th>\n",
       "      <td>float64</td>\n",
       "      <td>1964</td>\n",
       "      <td>13.61</td>\n",
       "    </tr>\n",
       "    <tr>\n",
       "      <th>1978</th>\n",
       "      <td>float64</td>\n",
       "      <td>1840</td>\n",
       "      <td>12.88</td>\n",
       "    </tr>\n",
       "    <tr>\n",
       "      <th>1979</th>\n",
       "      <td>float64</td>\n",
       "      <td>1916</td>\n",
       "      <td>13.30</td>\n",
       "    </tr>\n",
       "    <tr>\n",
       "      <th>1980</th>\n",
       "      <td>float64</td>\n",
       "      <td>1888</td>\n",
       "      <td>13.36</td>\n",
       "    </tr>\n",
       "    <tr>\n",
       "      <th>1981</th>\n",
       "      <td>float64</td>\n",
       "      <td>1986</td>\n",
       "      <td>13.53</td>\n",
       "    </tr>\n",
       "    <tr>\n",
       "      <th>1982</th>\n",
       "      <td>float64</td>\n",
       "      <td>1990</td>\n",
       "      <td>13.98</td>\n",
       "    </tr>\n",
       "    <tr>\n",
       "      <th>1983</th>\n",
       "      <td>float64</td>\n",
       "      <td>2197</td>\n",
       "      <td>14.35</td>\n",
       "    </tr>\n",
       "    <tr>\n",
       "      <th>1984</th>\n",
       "      <td>float64</td>\n",
       "      <td>2000</td>\n",
       "      <td>13.67</td>\n",
       "    </tr>\n",
       "    <tr>\n",
       "      <th>1985</th>\n",
       "      <td>float64</td>\n",
       "      <td>1977</td>\n",
       "      <td>14.19</td>\n",
       "    </tr>\n",
       "    <tr>\n",
       "      <th>1986</th>\n",
       "      <td>float64</td>\n",
       "      <td>1961</td>\n",
       "      <td>13.69</td>\n",
       "    </tr>\n",
       "    <tr>\n",
       "      <th>1987</th>\n",
       "      <td>float64</td>\n",
       "      <td>2179</td>\n",
       "      <td>13.50</td>\n",
       "    </tr>\n",
       "    <tr>\n",
       "      <th>1988</th>\n",
       "      <td>float64</td>\n",
       "      <td>1958</td>\n",
       "      <td>13.53</td>\n",
       "    </tr>\n",
       "    <tr>\n",
       "      <th>1989</th>\n",
       "      <td>float64</td>\n",
       "      <td>2078</td>\n",
       "      <td>13.61</td>\n",
       "    </tr>\n",
       "    <tr>\n",
       "      <th>1990</th>\n",
       "      <td>float64</td>\n",
       "      <td>2065</td>\n",
       "      <td>13.79</td>\n",
       "    </tr>\n",
       "    <tr>\n",
       "      <th>1991</th>\n",
       "      <td>float64</td>\n",
       "      <td>1987</td>\n",
       "      <td>14.27</td>\n",
       "    </tr>\n",
       "    <tr>\n",
       "      <th>1992</th>\n",
       "      <td>float64</td>\n",
       "      <td>2347</td>\n",
       "      <td>8.39</td>\n",
       "    </tr>\n",
       "    <tr>\n",
       "      <th>1993</th>\n",
       "      <td>float64</td>\n",
       "      <td>2254</td>\n",
       "      <td>8.35</td>\n",
       "    </tr>\n",
       "    <tr>\n",
       "      <th>1994</th>\n",
       "      <td>float64</td>\n",
       "      <td>2225</td>\n",
       "      <td>7.83</td>\n",
       "    </tr>\n",
       "    <tr>\n",
       "      <th>1995</th>\n",
       "      <td>float64</td>\n",
       "      <td>2196</td>\n",
       "      <td>7.46</td>\n",
       "    </tr>\n",
       "    <tr>\n",
       "      <th>1996</th>\n",
       "      <td>float64</td>\n",
       "      <td>2170</td>\n",
       "      <td>6.98</td>\n",
       "    </tr>\n",
       "    <tr>\n",
       "      <th>1997</th>\n",
       "      <td>float64</td>\n",
       "      <td>2339</td>\n",
       "      <td>8.47</td>\n",
       "    </tr>\n",
       "    <tr>\n",
       "      <th>1998</th>\n",
       "      <td>float64</td>\n",
       "      <td>2342</td>\n",
       "      <td>7.68</td>\n",
       "    </tr>\n",
       "    <tr>\n",
       "      <th>1999</th>\n",
       "      <td>float64</td>\n",
       "      <td>2241</td>\n",
       "      <td>8.16</td>\n",
       "    </tr>\n",
       "    <tr>\n",
       "      <th>2000</th>\n",
       "      <td>float64</td>\n",
       "      <td>2388</td>\n",
       "      <td>7.66</td>\n",
       "    </tr>\n",
       "    <tr>\n",
       "      <th>2001</th>\n",
       "      <td>float64</td>\n",
       "      <td>2287</td>\n",
       "      <td>8.86</td>\n",
       "    </tr>\n",
       "    <tr>\n",
       "      <th>2002</th>\n",
       "      <td>float64</td>\n",
       "      <td>2282</td>\n",
       "      <td>8.12</td>\n",
       "    </tr>\n",
       "    <tr>\n",
       "      <th>2003</th>\n",
       "      <td>float64</td>\n",
       "      <td>2284</td>\n",
       "      <td>7.15</td>\n",
       "    </tr>\n",
       "    <tr>\n",
       "      <th>2004</th>\n",
       "      <td>float64</td>\n",
       "      <td>2064</td>\n",
       "      <td>6.88</td>\n",
       "    </tr>\n",
       "    <tr>\n",
       "      <th>2005</th>\n",
       "      <td>float64</td>\n",
       "      <td>2206</td>\n",
       "      <td>6.77</td>\n",
       "    </tr>\n",
       "    <tr>\n",
       "      <th>2006</th>\n",
       "      <td>float64</td>\n",
       "      <td>2353</td>\n",
       "      <td>5.82</td>\n",
       "    </tr>\n",
       "    <tr>\n",
       "      <th>2007</th>\n",
       "      <td>float64</td>\n",
       "      <td>2360</td>\n",
       "      <td>5.49</td>\n",
       "    </tr>\n",
       "    <tr>\n",
       "      <th>2008</th>\n",
       "      <td>float64</td>\n",
       "      <td>2378</td>\n",
       "      <td>6.17</td>\n",
       "    </tr>\n",
       "    <tr>\n",
       "      <th>2009</th>\n",
       "      <td>float64</td>\n",
       "      <td>2273</td>\n",
       "      <td>6.65</td>\n",
       "    </tr>\n",
       "    <tr>\n",
       "      <th>2010</th>\n",
       "      <td>float64</td>\n",
       "      <td>2444</td>\n",
       "      <td>6.59</td>\n",
       "    </tr>\n",
       "    <tr>\n",
       "      <th>2011</th>\n",
       "      <td>float64</td>\n",
       "      <td>2310</td>\n",
       "      <td>6.19</td>\n",
       "    </tr>\n",
       "    <tr>\n",
       "      <th>2012</th>\n",
       "      <td>float64</td>\n",
       "      <td>2393</td>\n",
       "      <td>7.15</td>\n",
       "    </tr>\n",
       "    <tr>\n",
       "      <th>2013</th>\n",
       "      <td>float64</td>\n",
       "      <td>2160</td>\n",
       "      <td>6.23</td>\n",
       "    </tr>\n",
       "    <tr>\n",
       "      <th>2014</th>\n",
       "      <td>float64</td>\n",
       "      <td>2267</td>\n",
       "      <td>6.77</td>\n",
       "    </tr>\n",
       "    <tr>\n",
       "      <th>2015</th>\n",
       "      <td>float64</td>\n",
       "      <td>2350</td>\n",
       "      <td>6.92</td>\n",
       "    </tr>\n",
       "    <tr>\n",
       "      <th>2016</th>\n",
       "      <td>float64</td>\n",
       "      <td>2266</td>\n",
       "      <td>7.13</td>\n",
       "    </tr>\n",
       "    <tr>\n",
       "      <th>2017</th>\n",
       "      <td>float64</td>\n",
       "      <td>2305</td>\n",
       "      <td>6.88</td>\n",
       "    </tr>\n",
       "    <tr>\n",
       "      <th>2018</th>\n",
       "      <td>float64</td>\n",
       "      <td>2444</td>\n",
       "      <td>7.08</td>\n",
       "    </tr>\n",
       "    <tr>\n",
       "      <th>2019</th>\n",
       "      <td>float64</td>\n",
       "      <td>2324</td>\n",
       "      <td>7.08</td>\n",
       "    </tr>\n",
       "  </tbody>\n",
       "</table>\n",
       "</div>"
      ],
      "text/plain": [
       "                Dtype  Valori unici  Valori mancanti(%)\n",
       "Colonne                                                \n",
       "Country_Name   object           284                0.00\n",
       "Months         object            17                0.00\n",
       "1961          float64          2002               14.00\n",
       "1962          float64          1866               13.82\n",
       "1963          float64          2035               14.11\n",
       "1964          float64          1960               14.52\n",
       "1965          float64          1910               14.06\n",
       "1966          float64          1939               13.03\n",
       "1967          float64          1888               13.38\n",
       "1968          float64          1953               13.30\n",
       "1969          float64          1986               13.46\n",
       "1970          float64          1892               13.61\n",
       "1971          float64          1842               13.59\n",
       "1972          float64          2044               13.40\n",
       "1973          float64          2032               12.41\n",
       "1974          float64          1864               12.57\n",
       "1975          float64          1907               13.55\n",
       "1976          float64          1934               14.29\n",
       "1977          float64          1964               13.61\n",
       "1978          float64          1840               12.88\n",
       "1979          float64          1916               13.30\n",
       "1980          float64          1888               13.36\n",
       "1981          float64          1986               13.53\n",
       "1982          float64          1990               13.98\n",
       "1983          float64          2197               14.35\n",
       "1984          float64          2000               13.67\n",
       "1985          float64          1977               14.19\n",
       "1986          float64          1961               13.69\n",
       "1987          float64          2179               13.50\n",
       "1988          float64          1958               13.53\n",
       "1989          float64          2078               13.61\n",
       "1990          float64          2065               13.79\n",
       "1991          float64          1987               14.27\n",
       "1992          float64          2347                8.39\n",
       "1993          float64          2254                8.35\n",
       "1994          float64          2225                7.83\n",
       "1995          float64          2196                7.46\n",
       "1996          float64          2170                6.98\n",
       "1997          float64          2339                8.47\n",
       "1998          float64          2342                7.68\n",
       "1999          float64          2241                8.16\n",
       "2000          float64          2388                7.66\n",
       "2001          float64          2287                8.86\n",
       "2002          float64          2282                8.12\n",
       "2003          float64          2284                7.15\n",
       "2004          float64          2064                6.88\n",
       "2005          float64          2206                6.77\n",
       "2006          float64          2353                5.82\n",
       "2007          float64          2360                5.49\n",
       "2008          float64          2378                6.17\n",
       "2009          float64          2273                6.65\n",
       "2010          float64          2444                6.59\n",
       "2011          float64          2310                6.19\n",
       "2012          float64          2393                7.15\n",
       "2013          float64          2160                6.23\n",
       "2014          float64          2267                6.77\n",
       "2015          float64          2350                6.92\n",
       "2016          float64          2266                7.13\n",
       "2017          float64          2305                6.88\n",
       "2018          float64          2444                7.08\n",
       "2019          float64          2324                7.08"
      ]
     },
     "execution_count": 22,
     "metadata": {},
     "output_type": "execute_result"
    }
   ],
   "source": [
    "print(\"Dtype, Valori unici e Valori mancanti(%) di ciascuna colonna:\")\n",
    "\n",
    "df_temp_info= pd.DataFrame({\"Dtype\": df_temp.dtypes, \n",
    "                            \"Valori unici\": df_temp.nunique(),\n",
    "                            \"Valori mancanti(%)\": round(df_temp.isnull().sum()/df_temp.shape[0]*100, 2)\n",
    "                            }).rename_axis('Colonne', axis='rows')                       \n",
    "\n",
    "df_temp_info"
   ]
  },
  {
   "cell_type": "markdown",
   "id": "5ca30cc6",
   "metadata": {},
   "source": [
    "In maniera simile a quanto visto nel primo dataframe, i valori mancanti sono maggiormente presenti nel periodo 1961 - 1991 e meno frequenti dal 1992 in poi. \n",
    "\n",
    "Sfortuntamente, non ho trovato spiegazioni consistenti nella documentazione a disposizione. Posso solo ipotizzare che alcuni dati siano mancanti per lo stesso motivo visto nel primo dataset, oppure che per alcuni paesi le rilevazioni non siano state effettuate per indisponibilità delle tecnologie necessarie. \n",
    "\n",
    "Procedo eliminando le righe che contengono valori mancanti dal 1961 al 2019. "
   ]
  },
  {
   "cell_type": "code",
   "execution_count": 23,
   "id": "71afcb34",
   "metadata": {},
   "outputs": [],
   "source": [
    "# Ricavo gli indici delle righe che contengono almeno un valore nullo dal 1961 al 2019\n",
    "index_nan = df_temp.loc[df_temp.isnull().any(axis=1), '1961':].index\n",
    "\n",
    "# Elimino queste righe sfruttando gli indici raccolti\n",
    "df_temp.drop(index_nan, inplace=True)"
   ]
  },
  {
   "cell_type": "markdown",
   "id": "5631e8bc",
   "metadata": {},
   "source": [
    "#### Rimozione duplicati\n",
    "\n",
    "Cerco eventuali righe duplicate nel dataframe e, se presenti, le elimino."
   ]
  },
  {
   "cell_type": "code",
   "execution_count": 24,
   "id": "b902708d",
   "metadata": {},
   "outputs": [
    {
     "data": {
      "text/html": [
       "<div>\n",
       "<style scoped>\n",
       "    .dataframe tbody tr th:only-of-type {\n",
       "        vertical-align: middle;\n",
       "    }\n",
       "\n",
       "    .dataframe tbody tr th {\n",
       "        vertical-align: top;\n",
       "    }\n",
       "\n",
       "    .dataframe thead th {\n",
       "        text-align: right;\n",
       "    }\n",
       "</style>\n",
       "<table border=\"1\" class=\"dataframe\">\n",
       "  <thead>\n",
       "    <tr style=\"text-align: right;\">\n",
       "      <th></th>\n",
       "      <th>Country_Name</th>\n",
       "      <th>Months</th>\n",
       "      <th>1961</th>\n",
       "      <th>1962</th>\n",
       "      <th>1963</th>\n",
       "      <th>1964</th>\n",
       "      <th>1965</th>\n",
       "      <th>1966</th>\n",
       "      <th>1967</th>\n",
       "      <th>1968</th>\n",
       "      <th>1969</th>\n",
       "      <th>1970</th>\n",
       "      <th>1971</th>\n",
       "      <th>1972</th>\n",
       "      <th>1973</th>\n",
       "      <th>1974</th>\n",
       "      <th>1975</th>\n",
       "      <th>1976</th>\n",
       "      <th>1977</th>\n",
       "      <th>1978</th>\n",
       "      <th>1979</th>\n",
       "      <th>1980</th>\n",
       "      <th>1981</th>\n",
       "      <th>1982</th>\n",
       "      <th>1983</th>\n",
       "      <th>1984</th>\n",
       "      <th>1985</th>\n",
       "      <th>1986</th>\n",
       "      <th>1987</th>\n",
       "      <th>1988</th>\n",
       "      <th>1989</th>\n",
       "      <th>1990</th>\n",
       "      <th>1991</th>\n",
       "      <th>1992</th>\n",
       "      <th>1993</th>\n",
       "      <th>1994</th>\n",
       "      <th>1995</th>\n",
       "      <th>1996</th>\n",
       "      <th>1997</th>\n",
       "      <th>1998</th>\n",
       "      <th>1999</th>\n",
       "      <th>2000</th>\n",
       "      <th>2001</th>\n",
       "      <th>2002</th>\n",
       "      <th>2003</th>\n",
       "      <th>2004</th>\n",
       "      <th>2005</th>\n",
       "      <th>2006</th>\n",
       "      <th>2007</th>\n",
       "      <th>2008</th>\n",
       "      <th>2009</th>\n",
       "      <th>2010</th>\n",
       "      <th>2011</th>\n",
       "      <th>2012</th>\n",
       "      <th>2013</th>\n",
       "      <th>2014</th>\n",
       "      <th>2015</th>\n",
       "      <th>2016</th>\n",
       "      <th>2017</th>\n",
       "      <th>2018</th>\n",
       "      <th>2019</th>\n",
       "    </tr>\n",
       "  </thead>\n",
       "  <tbody>\n",
       "  </tbody>\n",
       "</table>\n",
       "</div>"
      ],
      "text/plain": [
       "Empty DataFrame\n",
       "Columns: [Country_Name, Months, 1961, 1962, 1963, 1964, 1965, 1966, 1967, 1968, 1969, 1970, 1971, 1972, 1973, 1974, 1975, 1976, 1977, 1978, 1979, 1980, 1981, 1982, 1983, 1984, 1985, 1986, 1987, 1988, 1989, 1990, 1991, 1992, 1993, 1994, 1995, 1996, 1997, 1998, 1999, 2000, 2001, 2002, 2003, 2004, 2005, 2006, 2007, 2008, 2009, 2010, 2011, 2012, 2013, 2014, 2015, 2016, 2017, 2018, 2019]\n",
       "Index: []"
      ]
     },
     "execution_count": 24,
     "metadata": {},
     "output_type": "execute_result"
    }
   ],
   "source": [
    "df_temp.loc[df_temp.duplicated()]"
   ]
  },
  {
   "cell_type": "markdown",
   "id": "3c0f34a7",
   "metadata": {},
   "source": [
    "#### Variabili quantitative e qualitative\n",
    "\n",
    "Le variabili quantitative presenti nel dataframe indicano le variazioni di temperatura calcolate e non è necessario effettuare alcuna azione correttiva.\n",
    "\n",
    "Per le variabili qualitative invece, occorre rimpiazzare gli errori di decrittazione presenti nella colonna 'Months' ed eliminare le righe contenenti la voce 'China' in 'Country_Name', essendo duplicate e già presenti sotto il nome 'China, mainland'."
   ]
  },
  {
   "cell_type": "code",
   "execution_count": 25,
   "id": "244b886f",
   "metadata": {},
   "outputs": [],
   "source": [
    "# Sistemo gli errori di decrittazione\n",
    "df_temp.Months.replace({\n",
    "    'Mar\\x96Apr\\x96May': 'Spring',\n",
    "    'Jun\\x96Jul\\x96Aug':'Summer',\n",
    "    'Sep\\x96Oct\\x96Nov':'Fall',\n",
    "    'Dec\\x96Jan\\x96Feb': 'Winter', \n",
    "    }, inplace=True)\n",
    "\n",
    "# Ricavo gli indici delle righe da eliminare\n",
    "china_index = df_temp.loc[df_temp.Country_Name == 'China'].index\n",
    "\n",
    "# Elimino le righe\n",
    "df_temp.drop(china_index, inplace=True)\n",
    "\n",
    "# Resetto l'indice\n",
    "df_temp.reset_index(drop=True, inplace=True)"
   ]
  },
  {
   "cell_type": "markdown",
   "id": "b7d42189",
   "metadata": {},
   "source": [
    "#### Merge e melt del dataframe\n",
    "\n",
    "Aggiungo i codici ISO-3 al dataframe e cambio cambio la configurazione dai dati da *wide format* a *long format*."
   ]
  },
  {
   "cell_type": "code",
   "execution_count": 26,
   "id": "b82af944",
   "metadata": {},
   "outputs": [
    {
     "data": {
      "text/html": [
       "<div>\n",
       "<style scoped>\n",
       "    .dataframe tbody tr th:only-of-type {\n",
       "        vertical-align: middle;\n",
       "    }\n",
       "\n",
       "    .dataframe tbody tr th {\n",
       "        vertical-align: top;\n",
       "    }\n",
       "\n",
       "    .dataframe thead th {\n",
       "        text-align: right;\n",
       "    }\n",
       "</style>\n",
       "<table border=\"1\" class=\"dataframe\">\n",
       "  <thead>\n",
       "    <tr style=\"text-align: right;\">\n",
       "      <th></th>\n",
       "      <th>Country Code</th>\n",
       "      <th>Country</th>\n",
       "      <th>M49 Code</th>\n",
       "      <th>ISO2 Code</th>\n",
       "      <th>ISO3 Code</th>\n",
       "      <th>Start Year</th>\n",
       "      <th>End Year</th>\n",
       "    </tr>\n",
       "  </thead>\n",
       "  <tbody>\n",
       "    <tr>\n",
       "      <th>0</th>\n",
       "      <td>2</td>\n",
       "      <td>Afghanistan</td>\n",
       "      <td>4.0</td>\n",
       "      <td>AF</td>\n",
       "      <td>AFG</td>\n",
       "      <td>NaN</td>\n",
       "      <td>NaN</td>\n",
       "    </tr>\n",
       "    <tr>\n",
       "      <th>1</th>\n",
       "      <td>5100</td>\n",
       "      <td>Africa</td>\n",
       "      <td>2.0</td>\n",
       "      <td>NaN</td>\n",
       "      <td>X06</td>\n",
       "      <td>NaN</td>\n",
       "      <td>NaN</td>\n",
       "    </tr>\n",
       "    <tr>\n",
       "      <th>2</th>\n",
       "      <td>284</td>\n",
       "      <td>Åland Islands</td>\n",
       "      <td>248.0</td>\n",
       "      <td>NaN</td>\n",
       "      <td>ALA</td>\n",
       "      <td>NaN</td>\n",
       "      <td>NaN</td>\n",
       "    </tr>\n",
       "    <tr>\n",
       "      <th>3</th>\n",
       "      <td>3</td>\n",
       "      <td>Albania</td>\n",
       "      <td>8.0</td>\n",
       "      <td>AL</td>\n",
       "      <td>ALB</td>\n",
       "      <td>NaN</td>\n",
       "      <td>NaN</td>\n",
       "    </tr>\n",
       "    <tr>\n",
       "      <th>4</th>\n",
       "      <td>4</td>\n",
       "      <td>Algeria</td>\n",
       "      <td>12.0</td>\n",
       "      <td>DZ</td>\n",
       "      <td>DZA</td>\n",
       "      <td>NaN</td>\n",
       "      <td>NaN</td>\n",
       "    </tr>\n",
       "  </tbody>\n",
       "</table>\n",
       "</div>"
      ],
      "text/plain": [
       "   Country Code        Country  M49 Code ISO2 Code ISO3 Code  Start Year  \\\n",
       "0             2    Afghanistan       4.0        AF       AFG         NaN   \n",
       "1          5100         Africa       2.0       NaN       X06         NaN   \n",
       "2           284  Åland Islands     248.0       NaN       ALA         NaN   \n",
       "3             3        Albania       8.0        AL       ALB         NaN   \n",
       "4             4        Algeria      12.0        DZ       DZA         NaN   \n",
       "\n",
       "   End Year  \n",
       "0       NaN  \n",
       "1       NaN  \n",
       "2       NaN  \n",
       "3       NaN  \n",
       "4       NaN  "
      ]
     },
     "execution_count": 26,
     "metadata": {},
     "output_type": "execute_result"
    }
   ],
   "source": [
    "# Per prima cosa visualizzo il dataset contenente i codici ISO-3 da aggiungere al dataset delle temperature\n",
    "country_iso3.head()"
   ]
  },
  {
   "cell_type": "code",
   "execution_count": 27,
   "id": "dba47af0",
   "metadata": {},
   "outputs": [],
   "source": [
    "# Elimino tutte le colonne che non mi servono \n",
    "country_iso3.drop(columns=['Country Code', 'M49 Code', 'ISO2 Code', 'Start Year', 'End Year'], inplace=True)\n",
    "\n",
    "# Rinomino le colonne che mi servono \n",
    "country_iso3.rename(columns={'Country':'Country_Name','ISO3 Code':'Country_Code'},inplace=True)\n",
    "\n",
    "# La voce 'China, mainland' non presenta il codice ISO3. Sistemo il problema creando un filtro...\n",
    "filter_china = country_iso3['Country_Name'] == 'China, mainland'\n",
    "\n",
    "# ...e rimpiazzando il codice ISO3 'CHN' al posto giusto\n",
    "country_iso3[filter_china] = country_iso3[filter_china].fillna('CHN') "
   ]
  },
  {
   "cell_type": "code",
   "execution_count": 28,
   "id": "6675b9d8",
   "metadata": {},
   "outputs": [
    {
     "data": {
      "text/html": [
       "<div>\n",
       "<style scoped>\n",
       "    .dataframe tbody tr th:only-of-type {\n",
       "        vertical-align: middle;\n",
       "    }\n",
       "\n",
       "    .dataframe tbody tr th {\n",
       "        vertical-align: top;\n",
       "    }\n",
       "\n",
       "    .dataframe thead th {\n",
       "        text-align: right;\n",
       "    }\n",
       "</style>\n",
       "<table border=\"1\" class=\"dataframe\">\n",
       "  <thead>\n",
       "    <tr style=\"text-align: right;\">\n",
       "      <th></th>\n",
       "      <th>Country_Code</th>\n",
       "      <th>Country_Name</th>\n",
       "      <th>Months</th>\n",
       "      <th>Years</th>\n",
       "      <th>Temp_Changes</th>\n",
       "    </tr>\n",
       "  </thead>\n",
       "  <tbody>\n",
       "    <tr>\n",
       "      <th>0</th>\n",
       "      <td>AFG</td>\n",
       "      <td>Afghanistan</td>\n",
       "      <td>January</td>\n",
       "      <td>1961</td>\n",
       "      <td>0.777</td>\n",
       "    </tr>\n",
       "    <tr>\n",
       "      <th>1</th>\n",
       "      <td>AFG</td>\n",
       "      <td>Afghanistan</td>\n",
       "      <td>February</td>\n",
       "      <td>1961</td>\n",
       "      <td>-1.743</td>\n",
       "    </tr>\n",
       "    <tr>\n",
       "      <th>2</th>\n",
       "      <td>AFG</td>\n",
       "      <td>Afghanistan</td>\n",
       "      <td>March</td>\n",
       "      <td>1961</td>\n",
       "      <td>0.516</td>\n",
       "    </tr>\n",
       "    <tr>\n",
       "      <th>3</th>\n",
       "      <td>AFG</td>\n",
       "      <td>Afghanistan</td>\n",
       "      <td>April</td>\n",
       "      <td>1961</td>\n",
       "      <td>-1.709</td>\n",
       "    </tr>\n",
       "    <tr>\n",
       "      <th>4</th>\n",
       "      <td>AFG</td>\n",
       "      <td>Afghanistan</td>\n",
       "      <td>May</td>\n",
       "      <td>1961</td>\n",
       "      <td>1.412</td>\n",
       "    </tr>\n",
       "  </tbody>\n",
       "</table>\n",
       "</div>"
      ],
      "text/plain": [
       "  Country_Code Country_Name    Months Years  Temp_Changes\n",
       "0          AFG  Afghanistan   January  1961         0.777\n",
       "1          AFG  Afghanistan  February  1961        -1.743\n",
       "2          AFG  Afghanistan     March  1961         0.516\n",
       "3          AFG  Afghanistan     April  1961        -1.709\n",
       "4          AFG  Afghanistan       May  1961         1.412"
      ]
     },
     "execution_count": 28,
     "metadata": {},
     "output_type": "execute_result"
    }
   ],
   "source": [
    "# Eseguo un merge tra i due dataframes\n",
    "df_temp = pd.merge(df_temp, country_iso3, how='inner', on='Country_Name')\n",
    "\n",
    "# Eseguo un melt per cambiare la disposizione dei dati \n",
    "df_temp = df_temp.melt(\n",
    "\n",
    "    id_vars=[\"Country_Code\", \"Country_Name\", \"Months\"], \n",
    "    value_vars=[str(n) for n in range(1961, 2019+1)], \n",
    "    var_name=\"Years\", \n",
    "    value_name=\"Temp_Changes\")\n",
    "\n",
    "df_temp.head()"
   ]
  },
  {
   "cell_type": "markdown",
   "id": "1a0cf89d",
   "metadata": {},
   "source": [
    "---\n",
    "---\n",
    "## Data Visualization"
   ]
  },
  {
   "cell_type": "markdown",
   "id": "af589dfb",
   "metadata": {},
   "source": [
    "### Confronto tra produzione di cibo e mangime a livello mondiale"
   ]
  },
  {
   "cell_type": "markdown",
   "id": "34d2c0af",
   "metadata": {},
   "source": [
    "Quanti elementi che riguardano il cibo e i mangimi sono presenti nel dataframe della produzione?"
   ]
  },
  {
   "cell_type": "code",
   "execution_count": 29,
   "id": "fd7279f1",
   "metadata": {},
   "outputs": [
    {
     "data": {
      "application/vnd.plotly.v1+json": {
       "config": {
        "plotlyServerURL": "https://plot.ly"
       },
       "data": [
        {
         "customdata": [
          [
           "Food"
          ],
          [
           "Feed"
          ]
         ],
         "domain": {
          "x": [
           0,
           1
          ],
          "y": [
           0,
           1
          ]
         },
         "hovertemplate": "label=%{label}<br>value=%{value}<br>color=%{customdata[0]}<extra></extra>",
         "insidetextfont": {
          "color": "black"
         },
         "labels": [
          "Food",
          "Feed"
         ],
         "legendgroup": "",
         "marker": {
          "colors": [
           "orange",
           "brown"
          ]
         },
         "name": "",
         "showlegend": true,
         "textinfo": "label+percent",
         "type": "pie",
         "values": [
          637007,
          136899
         ]
        }
       ],
       "layout": {
        "height": 450,
        "legend": {
         "itemclick": false,
         "tracegroupgap": 0
        },
        "showlegend": true,
        "template": {
         "data": {
          "bar": [
           {
            "error_x": {
             "color": "#2a3f5f"
            },
            "error_y": {
             "color": "#2a3f5f"
            },
            "marker": {
             "line": {
              "color": "#E5ECF6",
              "width": 0.5
             },
             "pattern": {
              "fillmode": "overlay",
              "size": 10,
              "solidity": 0.2
             }
            },
            "type": "bar"
           }
          ],
          "barpolar": [
           {
            "marker": {
             "line": {
              "color": "#E5ECF6",
              "width": 0.5
             },
             "pattern": {
              "fillmode": "overlay",
              "size": 10,
              "solidity": 0.2
             }
            },
            "type": "barpolar"
           }
          ],
          "carpet": [
           {
            "aaxis": {
             "endlinecolor": "#2a3f5f",
             "gridcolor": "white",
             "linecolor": "white",
             "minorgridcolor": "white",
             "startlinecolor": "#2a3f5f"
            },
            "baxis": {
             "endlinecolor": "#2a3f5f",
             "gridcolor": "white",
             "linecolor": "white",
             "minorgridcolor": "white",
             "startlinecolor": "#2a3f5f"
            },
            "type": "carpet"
           }
          ],
          "choropleth": [
           {
            "colorbar": {
             "outlinewidth": 0,
             "ticks": ""
            },
            "type": "choropleth"
           }
          ],
          "contour": [
           {
            "colorbar": {
             "outlinewidth": 0,
             "ticks": ""
            },
            "colorscale": [
             [
              0,
              "#0d0887"
             ],
             [
              0.1111111111111111,
              "#46039f"
             ],
             [
              0.2222222222222222,
              "#7201a8"
             ],
             [
              0.3333333333333333,
              "#9c179e"
             ],
             [
              0.4444444444444444,
              "#bd3786"
             ],
             [
              0.5555555555555556,
              "#d8576b"
             ],
             [
              0.6666666666666666,
              "#ed7953"
             ],
             [
              0.7777777777777778,
              "#fb9f3a"
             ],
             [
              0.8888888888888888,
              "#fdca26"
             ],
             [
              1,
              "#f0f921"
             ]
            ],
            "type": "contour"
           }
          ],
          "contourcarpet": [
           {
            "colorbar": {
             "outlinewidth": 0,
             "ticks": ""
            },
            "type": "contourcarpet"
           }
          ],
          "heatmap": [
           {
            "colorbar": {
             "outlinewidth": 0,
             "ticks": ""
            },
            "colorscale": [
             [
              0,
              "#0d0887"
             ],
             [
              0.1111111111111111,
              "#46039f"
             ],
             [
              0.2222222222222222,
              "#7201a8"
             ],
             [
              0.3333333333333333,
              "#9c179e"
             ],
             [
              0.4444444444444444,
              "#bd3786"
             ],
             [
              0.5555555555555556,
              "#d8576b"
             ],
             [
              0.6666666666666666,
              "#ed7953"
             ],
             [
              0.7777777777777778,
              "#fb9f3a"
             ],
             [
              0.8888888888888888,
              "#fdca26"
             ],
             [
              1,
              "#f0f921"
             ]
            ],
            "type": "heatmap"
           }
          ],
          "heatmapgl": [
           {
            "colorbar": {
             "outlinewidth": 0,
             "ticks": ""
            },
            "colorscale": [
             [
              0,
              "#0d0887"
             ],
             [
              0.1111111111111111,
              "#46039f"
             ],
             [
              0.2222222222222222,
              "#7201a8"
             ],
             [
              0.3333333333333333,
              "#9c179e"
             ],
             [
              0.4444444444444444,
              "#bd3786"
             ],
             [
              0.5555555555555556,
              "#d8576b"
             ],
             [
              0.6666666666666666,
              "#ed7953"
             ],
             [
              0.7777777777777778,
              "#fb9f3a"
             ],
             [
              0.8888888888888888,
              "#fdca26"
             ],
             [
              1,
              "#f0f921"
             ]
            ],
            "type": "heatmapgl"
           }
          ],
          "histogram": [
           {
            "marker": {
             "pattern": {
              "fillmode": "overlay",
              "size": 10,
              "solidity": 0.2
             }
            },
            "type": "histogram"
           }
          ],
          "histogram2d": [
           {
            "colorbar": {
             "outlinewidth": 0,
             "ticks": ""
            },
            "colorscale": [
             [
              0,
              "#0d0887"
             ],
             [
              0.1111111111111111,
              "#46039f"
             ],
             [
              0.2222222222222222,
              "#7201a8"
             ],
             [
              0.3333333333333333,
              "#9c179e"
             ],
             [
              0.4444444444444444,
              "#bd3786"
             ],
             [
              0.5555555555555556,
              "#d8576b"
             ],
             [
              0.6666666666666666,
              "#ed7953"
             ],
             [
              0.7777777777777778,
              "#fb9f3a"
             ],
             [
              0.8888888888888888,
              "#fdca26"
             ],
             [
              1,
              "#f0f921"
             ]
            ],
            "type": "histogram2d"
           }
          ],
          "histogram2dcontour": [
           {
            "colorbar": {
             "outlinewidth": 0,
             "ticks": ""
            },
            "colorscale": [
             [
              0,
              "#0d0887"
             ],
             [
              0.1111111111111111,
              "#46039f"
             ],
             [
              0.2222222222222222,
              "#7201a8"
             ],
             [
              0.3333333333333333,
              "#9c179e"
             ],
             [
              0.4444444444444444,
              "#bd3786"
             ],
             [
              0.5555555555555556,
              "#d8576b"
             ],
             [
              0.6666666666666666,
              "#ed7953"
             ],
             [
              0.7777777777777778,
              "#fb9f3a"
             ],
             [
              0.8888888888888888,
              "#fdca26"
             ],
             [
              1,
              "#f0f921"
             ]
            ],
            "type": "histogram2dcontour"
           }
          ],
          "mesh3d": [
           {
            "colorbar": {
             "outlinewidth": 0,
             "ticks": ""
            },
            "type": "mesh3d"
           }
          ],
          "parcoords": [
           {
            "line": {
             "colorbar": {
              "outlinewidth": 0,
              "ticks": ""
             }
            },
            "type": "parcoords"
           }
          ],
          "pie": [
           {
            "automargin": true,
            "type": "pie"
           }
          ],
          "scatter": [
           {
            "fillpattern": {
             "fillmode": "overlay",
             "size": 10,
             "solidity": 0.2
            },
            "type": "scatter"
           }
          ],
          "scatter3d": [
           {
            "line": {
             "colorbar": {
              "outlinewidth": 0,
              "ticks": ""
             }
            },
            "marker": {
             "colorbar": {
              "outlinewidth": 0,
              "ticks": ""
             }
            },
            "type": "scatter3d"
           }
          ],
          "scattercarpet": [
           {
            "marker": {
             "colorbar": {
              "outlinewidth": 0,
              "ticks": ""
             }
            },
            "type": "scattercarpet"
           }
          ],
          "scattergeo": [
           {
            "marker": {
             "colorbar": {
              "outlinewidth": 0,
              "ticks": ""
             }
            },
            "type": "scattergeo"
           }
          ],
          "scattergl": [
           {
            "marker": {
             "colorbar": {
              "outlinewidth": 0,
              "ticks": ""
             }
            },
            "type": "scattergl"
           }
          ],
          "scattermapbox": [
           {
            "marker": {
             "colorbar": {
              "outlinewidth": 0,
              "ticks": ""
             }
            },
            "type": "scattermapbox"
           }
          ],
          "scatterpolar": [
           {
            "marker": {
             "colorbar": {
              "outlinewidth": 0,
              "ticks": ""
             }
            },
            "type": "scatterpolar"
           }
          ],
          "scatterpolargl": [
           {
            "marker": {
             "colorbar": {
              "outlinewidth": 0,
              "ticks": ""
             }
            },
            "type": "scatterpolargl"
           }
          ],
          "scatterternary": [
           {
            "marker": {
             "colorbar": {
              "outlinewidth": 0,
              "ticks": ""
             }
            },
            "type": "scatterternary"
           }
          ],
          "surface": [
           {
            "colorbar": {
             "outlinewidth": 0,
             "ticks": ""
            },
            "colorscale": [
             [
              0,
              "#0d0887"
             ],
             [
              0.1111111111111111,
              "#46039f"
             ],
             [
              0.2222222222222222,
              "#7201a8"
             ],
             [
              0.3333333333333333,
              "#9c179e"
             ],
             [
              0.4444444444444444,
              "#bd3786"
             ],
             [
              0.5555555555555556,
              "#d8576b"
             ],
             [
              0.6666666666666666,
              "#ed7953"
             ],
             [
              0.7777777777777778,
              "#fb9f3a"
             ],
             [
              0.8888888888888888,
              "#fdca26"
             ],
             [
              1,
              "#f0f921"
             ]
            ],
            "type": "surface"
           }
          ],
          "table": [
           {
            "cells": {
             "fill": {
              "color": "#EBF0F8"
             },
             "line": {
              "color": "white"
             }
            },
            "header": {
             "fill": {
              "color": "#C8D4E3"
             },
             "line": {
              "color": "white"
             }
            },
            "type": "table"
           }
          ]
         },
         "layout": {
          "annotationdefaults": {
           "arrowcolor": "#2a3f5f",
           "arrowhead": 0,
           "arrowwidth": 1
          },
          "autotypenumbers": "strict",
          "coloraxis": {
           "colorbar": {
            "outlinewidth": 0,
            "ticks": ""
           }
          },
          "colorscale": {
           "diverging": [
            [
             0,
             "#8e0152"
            ],
            [
             0.1,
             "#c51b7d"
            ],
            [
             0.2,
             "#de77ae"
            ],
            [
             0.3,
             "#f1b6da"
            ],
            [
             0.4,
             "#fde0ef"
            ],
            [
             0.5,
             "#f7f7f7"
            ],
            [
             0.6,
             "#e6f5d0"
            ],
            [
             0.7,
             "#b8e186"
            ],
            [
             0.8,
             "#7fbc41"
            ],
            [
             0.9,
             "#4d9221"
            ],
            [
             1,
             "#276419"
            ]
           ],
           "sequential": [
            [
             0,
             "#0d0887"
            ],
            [
             0.1111111111111111,
             "#46039f"
            ],
            [
             0.2222222222222222,
             "#7201a8"
            ],
            [
             0.3333333333333333,
             "#9c179e"
            ],
            [
             0.4444444444444444,
             "#bd3786"
            ],
            [
             0.5555555555555556,
             "#d8576b"
            ],
            [
             0.6666666666666666,
             "#ed7953"
            ],
            [
             0.7777777777777778,
             "#fb9f3a"
            ],
            [
             0.8888888888888888,
             "#fdca26"
            ],
            [
             1,
             "#f0f921"
            ]
           ],
           "sequentialminus": [
            [
             0,
             "#0d0887"
            ],
            [
             0.1111111111111111,
             "#46039f"
            ],
            [
             0.2222222222222222,
             "#7201a8"
            ],
            [
             0.3333333333333333,
             "#9c179e"
            ],
            [
             0.4444444444444444,
             "#bd3786"
            ],
            [
             0.5555555555555556,
             "#d8576b"
            ],
            [
             0.6666666666666666,
             "#ed7953"
            ],
            [
             0.7777777777777778,
             "#fb9f3a"
            ],
            [
             0.8888888888888888,
             "#fdca26"
            ],
            [
             1,
             "#f0f921"
            ]
           ]
          },
          "colorway": [
           "#636efa",
           "#EF553B",
           "#00cc96",
           "#ab63fa",
           "#FFA15A",
           "#19d3f3",
           "#FF6692",
           "#B6E880",
           "#FF97FF",
           "#FECB52"
          ],
          "font": {
           "color": "#2a3f5f"
          },
          "geo": {
           "bgcolor": "white",
           "lakecolor": "white",
           "landcolor": "#E5ECF6",
           "showlakes": true,
           "showland": true,
           "subunitcolor": "white"
          },
          "hoverlabel": {
           "align": "left"
          },
          "hovermode": "closest",
          "mapbox": {
           "style": "light"
          },
          "paper_bgcolor": "white",
          "plot_bgcolor": "#E5ECF6",
          "polar": {
           "angularaxis": {
            "gridcolor": "white",
            "linecolor": "white",
            "ticks": ""
           },
           "bgcolor": "#E5ECF6",
           "radialaxis": {
            "gridcolor": "white",
            "linecolor": "white",
            "ticks": ""
           }
          },
          "scene": {
           "xaxis": {
            "backgroundcolor": "#E5ECF6",
            "gridcolor": "white",
            "gridwidth": 2,
            "linecolor": "white",
            "showbackground": true,
            "ticks": "",
            "zerolinecolor": "white"
           },
           "yaxis": {
            "backgroundcolor": "#E5ECF6",
            "gridcolor": "white",
            "gridwidth": 2,
            "linecolor": "white",
            "showbackground": true,
            "ticks": "",
            "zerolinecolor": "white"
           },
           "zaxis": {
            "backgroundcolor": "#E5ECF6",
            "gridcolor": "white",
            "gridwidth": 2,
            "linecolor": "white",
            "showbackground": true,
            "ticks": "",
            "zerolinecolor": "white"
           }
          },
          "shapedefaults": {
           "line": {
            "color": "#2a3f5f"
           }
          },
          "ternary": {
           "aaxis": {
            "gridcolor": "white",
            "linecolor": "white",
            "ticks": ""
           },
           "baxis": {
            "gridcolor": "white",
            "linecolor": "white",
            "ticks": ""
           },
           "bgcolor": "#E5ECF6",
           "caxis": {
            "gridcolor": "white",
            "linecolor": "white",
            "ticks": ""
           }
          },
          "title": {
           "x": 0.05
          },
          "xaxis": {
           "automargin": true,
           "gridcolor": "white",
           "linecolor": "white",
           "ticks": "",
           "title": {
            "standoff": 15
           },
           "zerolinecolor": "white",
           "zerolinewidth": 2
          },
          "yaxis": {
           "automargin": true,
           "gridcolor": "white",
           "linecolor": "white",
           "ticks": "",
           "title": {
            "standoff": 15
           },
           "zerolinecolor": "white",
           "zerolinewidth": 2
          }
         }
        },
        "title": {
         "text": "Counting of food and feed elements in the Dataframe",
         "x": 0.5,
         "xanchor": "center",
         "y": 0.9,
         "yanchor": "top"
        },
        "width": 550
       }
      }
     },
     "metadata": {},
     "output_type": "display_data"
    }
   ],
   "source": [
    "# Conto gli elementi 'Food' e 'Feed'\n",
    "elements = df_prod.Element.value_counts()\n",
    "\n",
    "fig = px.pie(\n",
    "    values=elements.values, \n",
    "    names=elements.index,\n",
    "\n",
    "    title='Counting of food and feed elements in the Dataframe',\n",
    "    \n",
    "    color=elements.index,\n",
    "    color_discrete_map={\n",
    "        'Feed':'brown',\n",
    "        'Food':'orange'})\n",
    "    # color_discrete_sequence=['orange', 'brown'])\n",
    "\n",
    "fig.update_traces(\n",
    "    textinfo='label+percent',\n",
    "    insidetextfont = dict(\n",
    "        color = 'black'))\n",
    "\n",
    "fig.update_layout(\n",
    "    title_x = 0.5,\n",
    "    title_y = 0.9,\n",
    "    title_xanchor='center',\n",
    "    title_yanchor='top',\n",
    "    width=550,\n",
    "    height=450,\n",
    "    showlegend= True,\n",
    "    legend_itemclick=False)\n",
    "\n",
    "\n",
    "fig.show()\n",
    "# fig.show(renderer='notebook_connected')\n",
    "# fig.show(renderer='vscode')"
   ]
  },
  {
   "cell_type": "markdown",
   "id": "11c4cb9c",
   "metadata": {},
   "source": [
    "Come mostra il grafico a torta qui sopra, gli elementi che riguardano il cibo *sono molti di più* di quelli che riguardano i mangimi nel dataset della produzione. \n",
    "\n",
    "Questo significa che nel tempo è stato prodotto più cibo che mangime? \n",
    "\n",
    "Per rispondere a questa domanda nel prossimo grafico raggrupperò gli elementi di cibi e mangimi separatamente, sommando i valori di produzione di ogni anno. In questo modo sarò in grado di mostrare un trend globale che riguarda la produzione di entrambi gli elementi dal 1961 al 2013."
   ]
  },
  {
   "cell_type": "code",
   "execution_count": 30,
   "id": "f20b3070",
   "metadata": {},
   "outputs": [
    {
     "data": {
      "application/vnd.plotly.v1+json": {
       "config": {
        "plotlyServerURL": "https://plot.ly"
       },
       "data": [
        {
         "hovertemplate": "Element=Feed<br>Years=%{x}<br>Production=%{y}<extra></extra>",
         "legendgroup": "Feed",
         "line": {
          "color": "brown",
          "dash": "solid"
         },
         "marker": {
          "symbol": "circle"
         },
         "mode": "lines",
         "name": "Feed",
         "orientation": "v",
         "showlegend": true,
         "type": "scatter",
         "x": [
          "1961",
          "1962",
          "1963",
          "1964",
          "1965",
          "1966",
          "1967",
          "1968",
          "1969",
          "1970",
          "1971",
          "1972",
          "1973",
          "1974",
          "1975",
          "1976",
          "1977",
          "1978",
          "1979",
          "1980",
          "1981",
          "1982",
          "1983",
          "1984",
          "1985",
          "1986",
          "1987",
          "1988",
          "1989",
          "1990",
          "1991",
          "1992",
          "1993",
          "1994",
          "1995",
          "1996",
          "1997",
          "1998",
          "1999",
          "2000",
          "2001",
          "2002",
          "2003",
          "2004",
          "2005",
          "2006",
          "2007",
          "2008",
          "2009",
          "2010",
          "2011",
          "2012",
          "2013"
         ],
         "xaxis": "x",
         "y": [
          821878,
          850832,
          893940,
          910709,
          944899,
          1000799,
          1018995,
          1083968,
          1099832,
          1116801,
          1147899,
          1165176,
          1199267,
          1137438,
          1182501,
          1174844,
          1223020,
          1321305,
          1360306,
          1303828,
          1326734,
          1373979,
          1351499,
          1447563,
          1443705,
          1461746,
          1507108,
          1445659,
          1476912,
          1501382,
          1486180,
          1530744,
          1584682,
          1646052,
          1627058,
          1723303,
          1693401,
          1720461,
          1754614,
          1822025,
          1825360,
          1820007,
          1841157,
          1917207,
          1905124,
          1870875,
          1929997,
          1980475,
          1950183,
          1994668,
          2069675,
          2103506,
          2234680
         ],
         "yaxis": "y"
        },
        {
         "hovertemplate": "Element=Food<br>Years=%{x}<br>Production=%{y}<extra></extra>",
         "legendgroup": "Food",
         "line": {
          "color": "orange",
          "dash": "solid"
         },
         "marker": {
          "symbol": "circle"
         },
         "mode": "lines",
         "name": "Food",
         "orientation": "v",
         "showlegend": true,
         "type": "scatter",
         "x": [
          "1961",
          "1962",
          "1963",
          "1964",
          "1965",
          "1966",
          "1967",
          "1968",
          "1969",
          "1970",
          "1971",
          "1972",
          "1973",
          "1974",
          "1975",
          "1976",
          "1977",
          "1978",
          "1979",
          "1980",
          "1981",
          "1982",
          "1983",
          "1984",
          "1985",
          "1986",
          "1987",
          "1988",
          "1989",
          "1990",
          "1991",
          "1992",
          "1993",
          "1994",
          "1995",
          "1996",
          "1997",
          "1998",
          "1999",
          "2000",
          "2001",
          "2002",
          "2003",
          "2004",
          "2005",
          "2006",
          "2007",
          "2008",
          "2009",
          "2010",
          "2011",
          "2012",
          "2013"
         ],
         "xaxis": "x",
         "y": [
          2418262,
          2486745,
          2523607,
          2582483,
          2681908,
          2771271,
          2829363,
          2900462,
          2985461,
          3076048,
          3115527,
          3148080,
          3286825,
          3343576,
          3426389,
          3461292,
          3574345,
          3713364,
          3773918,
          3823236,
          3905621,
          4019884,
          4134977,
          4254217,
          4337001,
          4448350,
          4579419,
          4676167,
          4792180,
          4860115,
          4945444,
          5118820,
          5261040,
          5420336,
          5609653,
          5752268,
          5902139,
          6069477,
          6293789,
          6481665,
          6566872,
          6695726,
          6811852,
          6959576,
          7094650,
          7253908,
          7447121,
          7621971,
          7731419,
          7925078,
          8121899,
          8299854,
          8428288
         ],
         "yaxis": "y"
        }
       ],
       "layout": {
        "legend": {
         "itemclick": false,
         "title": {
          "text": "Element"
         },
         "tracegroupgap": 0
        },
        "margin": {
         "t": 60
        },
        "showlegend": true,
        "template": {
         "data": {
          "bar": [
           {
            "error_x": {
             "color": "#2a3f5f"
            },
            "error_y": {
             "color": "#2a3f5f"
            },
            "marker": {
             "line": {
              "color": "#E5ECF6",
              "width": 0.5
             },
             "pattern": {
              "fillmode": "overlay",
              "size": 10,
              "solidity": 0.2
             }
            },
            "type": "bar"
           }
          ],
          "barpolar": [
           {
            "marker": {
             "line": {
              "color": "#E5ECF6",
              "width": 0.5
             },
             "pattern": {
              "fillmode": "overlay",
              "size": 10,
              "solidity": 0.2
             }
            },
            "type": "barpolar"
           }
          ],
          "carpet": [
           {
            "aaxis": {
             "endlinecolor": "#2a3f5f",
             "gridcolor": "white",
             "linecolor": "white",
             "minorgridcolor": "white",
             "startlinecolor": "#2a3f5f"
            },
            "baxis": {
             "endlinecolor": "#2a3f5f",
             "gridcolor": "white",
             "linecolor": "white",
             "minorgridcolor": "white",
             "startlinecolor": "#2a3f5f"
            },
            "type": "carpet"
           }
          ],
          "choropleth": [
           {
            "colorbar": {
             "outlinewidth": 0,
             "ticks": ""
            },
            "type": "choropleth"
           }
          ],
          "contour": [
           {
            "colorbar": {
             "outlinewidth": 0,
             "ticks": ""
            },
            "colorscale": [
             [
              0,
              "#0d0887"
             ],
             [
              0.1111111111111111,
              "#46039f"
             ],
             [
              0.2222222222222222,
              "#7201a8"
             ],
             [
              0.3333333333333333,
              "#9c179e"
             ],
             [
              0.4444444444444444,
              "#bd3786"
             ],
             [
              0.5555555555555556,
              "#d8576b"
             ],
             [
              0.6666666666666666,
              "#ed7953"
             ],
             [
              0.7777777777777778,
              "#fb9f3a"
             ],
             [
              0.8888888888888888,
              "#fdca26"
             ],
             [
              1,
              "#f0f921"
             ]
            ],
            "type": "contour"
           }
          ],
          "contourcarpet": [
           {
            "colorbar": {
             "outlinewidth": 0,
             "ticks": ""
            },
            "type": "contourcarpet"
           }
          ],
          "heatmap": [
           {
            "colorbar": {
             "outlinewidth": 0,
             "ticks": ""
            },
            "colorscale": [
             [
              0,
              "#0d0887"
             ],
             [
              0.1111111111111111,
              "#46039f"
             ],
             [
              0.2222222222222222,
              "#7201a8"
             ],
             [
              0.3333333333333333,
              "#9c179e"
             ],
             [
              0.4444444444444444,
              "#bd3786"
             ],
             [
              0.5555555555555556,
              "#d8576b"
             ],
             [
              0.6666666666666666,
              "#ed7953"
             ],
             [
              0.7777777777777778,
              "#fb9f3a"
             ],
             [
              0.8888888888888888,
              "#fdca26"
             ],
             [
              1,
              "#f0f921"
             ]
            ],
            "type": "heatmap"
           }
          ],
          "heatmapgl": [
           {
            "colorbar": {
             "outlinewidth": 0,
             "ticks": ""
            },
            "colorscale": [
             [
              0,
              "#0d0887"
             ],
             [
              0.1111111111111111,
              "#46039f"
             ],
             [
              0.2222222222222222,
              "#7201a8"
             ],
             [
              0.3333333333333333,
              "#9c179e"
             ],
             [
              0.4444444444444444,
              "#bd3786"
             ],
             [
              0.5555555555555556,
              "#d8576b"
             ],
             [
              0.6666666666666666,
              "#ed7953"
             ],
             [
              0.7777777777777778,
              "#fb9f3a"
             ],
             [
              0.8888888888888888,
              "#fdca26"
             ],
             [
              1,
              "#f0f921"
             ]
            ],
            "type": "heatmapgl"
           }
          ],
          "histogram": [
           {
            "marker": {
             "pattern": {
              "fillmode": "overlay",
              "size": 10,
              "solidity": 0.2
             }
            },
            "type": "histogram"
           }
          ],
          "histogram2d": [
           {
            "colorbar": {
             "outlinewidth": 0,
             "ticks": ""
            },
            "colorscale": [
             [
              0,
              "#0d0887"
             ],
             [
              0.1111111111111111,
              "#46039f"
             ],
             [
              0.2222222222222222,
              "#7201a8"
             ],
             [
              0.3333333333333333,
              "#9c179e"
             ],
             [
              0.4444444444444444,
              "#bd3786"
             ],
             [
              0.5555555555555556,
              "#d8576b"
             ],
             [
              0.6666666666666666,
              "#ed7953"
             ],
             [
              0.7777777777777778,
              "#fb9f3a"
             ],
             [
              0.8888888888888888,
              "#fdca26"
             ],
             [
              1,
              "#f0f921"
             ]
            ],
            "type": "histogram2d"
           }
          ],
          "histogram2dcontour": [
           {
            "colorbar": {
             "outlinewidth": 0,
             "ticks": ""
            },
            "colorscale": [
             [
              0,
              "#0d0887"
             ],
             [
              0.1111111111111111,
              "#46039f"
             ],
             [
              0.2222222222222222,
              "#7201a8"
             ],
             [
              0.3333333333333333,
              "#9c179e"
             ],
             [
              0.4444444444444444,
              "#bd3786"
             ],
             [
              0.5555555555555556,
              "#d8576b"
             ],
             [
              0.6666666666666666,
              "#ed7953"
             ],
             [
              0.7777777777777778,
              "#fb9f3a"
             ],
             [
              0.8888888888888888,
              "#fdca26"
             ],
             [
              1,
              "#f0f921"
             ]
            ],
            "type": "histogram2dcontour"
           }
          ],
          "mesh3d": [
           {
            "colorbar": {
             "outlinewidth": 0,
             "ticks": ""
            },
            "type": "mesh3d"
           }
          ],
          "parcoords": [
           {
            "line": {
             "colorbar": {
              "outlinewidth": 0,
              "ticks": ""
             }
            },
            "type": "parcoords"
           }
          ],
          "pie": [
           {
            "automargin": true,
            "type": "pie"
           }
          ],
          "scatter": [
           {
            "fillpattern": {
             "fillmode": "overlay",
             "size": 10,
             "solidity": 0.2
            },
            "type": "scatter"
           }
          ],
          "scatter3d": [
           {
            "line": {
             "colorbar": {
              "outlinewidth": 0,
              "ticks": ""
             }
            },
            "marker": {
             "colorbar": {
              "outlinewidth": 0,
              "ticks": ""
             }
            },
            "type": "scatter3d"
           }
          ],
          "scattercarpet": [
           {
            "marker": {
             "colorbar": {
              "outlinewidth": 0,
              "ticks": ""
             }
            },
            "type": "scattercarpet"
           }
          ],
          "scattergeo": [
           {
            "marker": {
             "colorbar": {
              "outlinewidth": 0,
              "ticks": ""
             }
            },
            "type": "scattergeo"
           }
          ],
          "scattergl": [
           {
            "marker": {
             "colorbar": {
              "outlinewidth": 0,
              "ticks": ""
             }
            },
            "type": "scattergl"
           }
          ],
          "scattermapbox": [
           {
            "marker": {
             "colorbar": {
              "outlinewidth": 0,
              "ticks": ""
             }
            },
            "type": "scattermapbox"
           }
          ],
          "scatterpolar": [
           {
            "marker": {
             "colorbar": {
              "outlinewidth": 0,
              "ticks": ""
             }
            },
            "type": "scatterpolar"
           }
          ],
          "scatterpolargl": [
           {
            "marker": {
             "colorbar": {
              "outlinewidth": 0,
              "ticks": ""
             }
            },
            "type": "scatterpolargl"
           }
          ],
          "scatterternary": [
           {
            "marker": {
             "colorbar": {
              "outlinewidth": 0,
              "ticks": ""
             }
            },
            "type": "scatterternary"
           }
          ],
          "surface": [
           {
            "colorbar": {
             "outlinewidth": 0,
             "ticks": ""
            },
            "colorscale": [
             [
              0,
              "#0d0887"
             ],
             [
              0.1111111111111111,
              "#46039f"
             ],
             [
              0.2222222222222222,
              "#7201a8"
             ],
             [
              0.3333333333333333,
              "#9c179e"
             ],
             [
              0.4444444444444444,
              "#bd3786"
             ],
             [
              0.5555555555555556,
              "#d8576b"
             ],
             [
              0.6666666666666666,
              "#ed7953"
             ],
             [
              0.7777777777777778,
              "#fb9f3a"
             ],
             [
              0.8888888888888888,
              "#fdca26"
             ],
             [
              1,
              "#f0f921"
             ]
            ],
            "type": "surface"
           }
          ],
          "table": [
           {
            "cells": {
             "fill": {
              "color": "#EBF0F8"
             },
             "line": {
              "color": "white"
             }
            },
            "header": {
             "fill": {
              "color": "#C8D4E3"
             },
             "line": {
              "color": "white"
             }
            },
            "type": "table"
           }
          ]
         },
         "layout": {
          "annotationdefaults": {
           "arrowcolor": "#2a3f5f",
           "arrowhead": 0,
           "arrowwidth": 1
          },
          "autotypenumbers": "strict",
          "coloraxis": {
           "colorbar": {
            "outlinewidth": 0,
            "ticks": ""
           }
          },
          "colorscale": {
           "diverging": [
            [
             0,
             "#8e0152"
            ],
            [
             0.1,
             "#c51b7d"
            ],
            [
             0.2,
             "#de77ae"
            ],
            [
             0.3,
             "#f1b6da"
            ],
            [
             0.4,
             "#fde0ef"
            ],
            [
             0.5,
             "#f7f7f7"
            ],
            [
             0.6,
             "#e6f5d0"
            ],
            [
             0.7,
             "#b8e186"
            ],
            [
             0.8,
             "#7fbc41"
            ],
            [
             0.9,
             "#4d9221"
            ],
            [
             1,
             "#276419"
            ]
           ],
           "sequential": [
            [
             0,
             "#0d0887"
            ],
            [
             0.1111111111111111,
             "#46039f"
            ],
            [
             0.2222222222222222,
             "#7201a8"
            ],
            [
             0.3333333333333333,
             "#9c179e"
            ],
            [
             0.4444444444444444,
             "#bd3786"
            ],
            [
             0.5555555555555556,
             "#d8576b"
            ],
            [
             0.6666666666666666,
             "#ed7953"
            ],
            [
             0.7777777777777778,
             "#fb9f3a"
            ],
            [
             0.8888888888888888,
             "#fdca26"
            ],
            [
             1,
             "#f0f921"
            ]
           ],
           "sequentialminus": [
            [
             0,
             "#0d0887"
            ],
            [
             0.1111111111111111,
             "#46039f"
            ],
            [
             0.2222222222222222,
             "#7201a8"
            ],
            [
             0.3333333333333333,
             "#9c179e"
            ],
            [
             0.4444444444444444,
             "#bd3786"
            ],
            [
             0.5555555555555556,
             "#d8576b"
            ],
            [
             0.6666666666666666,
             "#ed7953"
            ],
            [
             0.7777777777777778,
             "#fb9f3a"
            ],
            [
             0.8888888888888888,
             "#fdca26"
            ],
            [
             1,
             "#f0f921"
            ]
           ]
          },
          "colorway": [
           "#636efa",
           "#EF553B",
           "#00cc96",
           "#ab63fa",
           "#FFA15A",
           "#19d3f3",
           "#FF6692",
           "#B6E880",
           "#FF97FF",
           "#FECB52"
          ],
          "font": {
           "color": "#2a3f5f"
          },
          "geo": {
           "bgcolor": "white",
           "lakecolor": "white",
           "landcolor": "#E5ECF6",
           "showlakes": true,
           "showland": true,
           "subunitcolor": "white"
          },
          "hoverlabel": {
           "align": "left"
          },
          "hovermode": "closest",
          "mapbox": {
           "style": "light"
          },
          "paper_bgcolor": "white",
          "plot_bgcolor": "#E5ECF6",
          "polar": {
           "angularaxis": {
            "gridcolor": "white",
            "linecolor": "white",
            "ticks": ""
           },
           "bgcolor": "#E5ECF6",
           "radialaxis": {
            "gridcolor": "white",
            "linecolor": "white",
            "ticks": ""
           }
          },
          "scene": {
           "xaxis": {
            "backgroundcolor": "#E5ECF6",
            "gridcolor": "white",
            "gridwidth": 2,
            "linecolor": "white",
            "showbackground": true,
            "ticks": "",
            "zerolinecolor": "white"
           },
           "yaxis": {
            "backgroundcolor": "#E5ECF6",
            "gridcolor": "white",
            "gridwidth": 2,
            "linecolor": "white",
            "showbackground": true,
            "ticks": "",
            "zerolinecolor": "white"
           },
           "zaxis": {
            "backgroundcolor": "#E5ECF6",
            "gridcolor": "white",
            "gridwidth": 2,
            "linecolor": "white",
            "showbackground": true,
            "ticks": "",
            "zerolinecolor": "white"
           }
          },
          "shapedefaults": {
           "line": {
            "color": "#2a3f5f"
           }
          },
          "ternary": {
           "aaxis": {
            "gridcolor": "white",
            "linecolor": "white",
            "ticks": ""
           },
           "baxis": {
            "gridcolor": "white",
            "linecolor": "white",
            "ticks": ""
           },
           "bgcolor": "#E5ECF6",
           "caxis": {
            "gridcolor": "white",
            "linecolor": "white",
            "ticks": ""
           }
          },
          "title": {
           "x": 0.05
          },
          "xaxis": {
           "automargin": true,
           "gridcolor": "white",
           "linecolor": "white",
           "ticks": "",
           "title": {
            "standoff": 15
           },
           "zerolinecolor": "white",
           "zerolinewidth": 2
          },
          "yaxis": {
           "automargin": true,
           "gridcolor": "white",
           "linecolor": "white",
           "ticks": "",
           "title": {
            "standoff": 15
           },
           "zerolinecolor": "white",
           "zerolinewidth": 2
          }
         }
        },
        "title": {
         "text": "Production of food and feed from 1961 to 2013",
         "x": 0.5,
         "xanchor": "center",
         "y": 0.9,
         "yanchor": "top"
        },
        "width": 1100,
        "xaxis": {
         "anchor": "y",
         "domain": [
          0,
          1
         ],
         "dtick": 4,
         "tick0": 0,
         "tickmode": "linear",
         "title": {
          "text": "Years"
         }
        },
        "yaxis": {
         "anchor": "x",
         "domain": [
          0,
          1
         ],
         "title": {
          "text": "Production (Milions of tons)"
         }
        }
       }
      }
     },
     "metadata": {},
     "output_type": "display_data"
    }
   ],
   "source": [
    "# Raggruppo tutti gli elementi di cibi e mangimi e sommo i valori di produzione di ogni anno\n",
    "food_feed_prod = df_prod.groupby(['Element', 'Years'])['Production'].sum().reset_index()\n",
    "\n",
    "fig = px.line(\n",
    "    food_feed_prod, \n",
    "    x=\"Years\",\n",
    "    y=\"Production\", \n",
    "    color='Element',\n",
    "    color_discrete_map={\n",
    "        'Feed':'brown',\n",
    "        'Food':'orange'})\n",
    "\n",
    "fig.update_layout(\n",
    "    width=1100,\n",
    "\n",
    "    title='Production of food and feed from 1961 to 2013',\n",
    "    title_x = 0.5,\n",
    "    title_y = 0.9,\n",
    "    title_xanchor='center',\n",
    "    title_yanchor='top',\n",
    "\n",
    "    showlegend= True,\n",
    "    legend_itemclick=False,\n",
    "\n",
    "    xaxis = dict(\n",
    "        tickmode = 'linear',\n",
    "        tick0 = 0,\n",
    "        dtick = 4),\n",
    "\n",
    "    yaxis = dict(\n",
    "        title='Production (Milions of tons)'))\n",
    "\n",
    "fig.show()"
   ]
  },
  {
   "cell_type": "markdown",
   "id": "9af44049",
   "metadata": {},
   "source": [
    "Si può vedere chiaramente che non solo è stato prodotto molto più cibo, ma anche il suo *incremento di produzione* è molto più grande rispetto a quello del mangime. Infatti, in poco più di 50 anni la produzione di quest'ultimo è leggermente raddoppiata, mentre **quella del cibo è più che triplicata!**\n",
    "\n",
    "Per la prossima visualizzazione voglio concentrare l'attenzione sul 2013, ultimo anno di produzione di questo dataset. Mostrerò due grafici separati per differenziare la produzione dei cibi da quella dei mangimi e per entrambi i casi voglio visualizzare quali sono stati i *15 elementi con i valori di produzione più elevati* e *quali paesi li hanno prodotti*."
   ]
  },
  {
   "cell_type": "code",
   "execution_count": 31,
   "id": "1863de8d",
   "metadata": {},
   "outputs": [
    {
     "data": {
      "application/vnd.plotly.v1+json": {
       "config": {
        "plotlyServerURL": "https://plot.ly"
       },
       "data": [
        {
         "hovertemplate": "<b>%{hovertext}</b><br><br>Country_Name=China, mainland<br>Production=%{marker.size}<extra></extra>",
         "hovertext": [
          "Vegetables",
          "Vegetables, Other",
          "Cereals - Excluding Beer",
          "Fruits - Excluding Wine",
          "Rice (Milled Equivalent)",
          "Starchy Roots",
          "Wheat and products",
          "Meat"
         ],
         "legendgroup": "China, mainland",
         "marker": {
          "color": "#e76f51",
          "size": [
           489299,
           426850,
           209038,
           130129,
           108321,
           95208,
           87783,
           84591
          ],
          "sizemode": "area",
          "sizeref": 76.45296875,
          "symbol": "circle"
         },
         "mode": "markers",
         "name": "China, mainland",
         "orientation": "v",
         "showlegend": true,
         "type": "scatter",
         "x": [
          "Vegetables",
          "Vegetables, Other",
          "Cereals - Excluding Beer",
          "Fruits - Excluding Wine",
          "Rice (Milled Equivalent)",
          "Starchy Roots",
          "Wheat and products",
          "Meat"
         ],
         "xaxis": "x",
         "y": [
          489299,
          426850,
          209038,
          130129,
          108321,
          95208,
          87783,
          84591
         ],
         "yaxis": "y"
        },
        {
         "hovertemplate": "<b>%{hovertext}</b><br><br>Country_Name=India<br>Production=%{marker.size}<extra></extra>",
         "hovertext": [
          "Cereals - Excluding Beer",
          "Vegetables",
          "Milk - Excluding Butter",
          "Rice (Milled Equivalent)",
          "Vegetables, Other",
          "Wheat and products"
         ],
         "legendgroup": "India",
         "marker": {
          "color": "#264653",
          "size": [
           185884,
           111082,
           105807,
           87006,
           78012,
           75833
          ],
          "sizemode": "area",
          "sizeref": 76.45296875,
          "symbol": "circle"
         },
         "mode": "markers",
         "name": "India",
         "orientation": "v",
         "showlegend": true,
         "type": "scatter",
         "x": [
          "Cereals - Excluding Beer",
          "Vegetables",
          "Milk - Excluding Butter",
          "Rice (Milled Equivalent)",
          "Vegetables, Other",
          "Wheat and products"
         ],
         "xaxis": "x",
         "y": [
          185884,
          111082,
          105807,
          87006,
          78012,
          75833
         ],
         "yaxis": "y"
        },
        {
         "hovertemplate": "<b>%{hovertext}</b><br><br>Country_Name=United States of America<br>Production=%{marker.size}<extra></extra>",
         "hovertext": [
          "Milk - Excluding Butter"
         ],
         "legendgroup": "United States of America",
         "marker": {
          "color": "#f4a261",
          "size": [
           81513
          ],
          "sizemode": "area",
          "sizeref": 76.45296875,
          "symbol": "circle"
         },
         "mode": "markers",
         "name": "United States of America",
         "orientation": "v",
         "showlegend": true,
         "type": "scatter",
         "x": [
          "Milk - Excluding Butter"
         ],
         "xaxis": "x",
         "y": [
          81513
         ],
         "yaxis": "y"
        }
       ],
       "layout": {
        "legend": {
         "itemclick": "toggle",
         "itemsizing": "constant",
         "title": {
          "side": "top",
          "text": "Countries"
         },
         "tracegroupgap": 0
        },
        "margin": {
         "t": 60
        },
        "showlegend": true,
        "template": {
         "data": {
          "bar": [
           {
            "error_x": {
             "color": "#2a3f5f"
            },
            "error_y": {
             "color": "#2a3f5f"
            },
            "marker": {
             "line": {
              "color": "#E5ECF6",
              "width": 0.5
             },
             "pattern": {
              "fillmode": "overlay",
              "size": 10,
              "solidity": 0.2
             }
            },
            "type": "bar"
           }
          ],
          "barpolar": [
           {
            "marker": {
             "line": {
              "color": "#E5ECF6",
              "width": 0.5
             },
             "pattern": {
              "fillmode": "overlay",
              "size": 10,
              "solidity": 0.2
             }
            },
            "type": "barpolar"
           }
          ],
          "carpet": [
           {
            "aaxis": {
             "endlinecolor": "#2a3f5f",
             "gridcolor": "white",
             "linecolor": "white",
             "minorgridcolor": "white",
             "startlinecolor": "#2a3f5f"
            },
            "baxis": {
             "endlinecolor": "#2a3f5f",
             "gridcolor": "white",
             "linecolor": "white",
             "minorgridcolor": "white",
             "startlinecolor": "#2a3f5f"
            },
            "type": "carpet"
           }
          ],
          "choropleth": [
           {
            "colorbar": {
             "outlinewidth": 0,
             "ticks": ""
            },
            "type": "choropleth"
           }
          ],
          "contour": [
           {
            "colorbar": {
             "outlinewidth": 0,
             "ticks": ""
            },
            "colorscale": [
             [
              0,
              "#0d0887"
             ],
             [
              0.1111111111111111,
              "#46039f"
             ],
             [
              0.2222222222222222,
              "#7201a8"
             ],
             [
              0.3333333333333333,
              "#9c179e"
             ],
             [
              0.4444444444444444,
              "#bd3786"
             ],
             [
              0.5555555555555556,
              "#d8576b"
             ],
             [
              0.6666666666666666,
              "#ed7953"
             ],
             [
              0.7777777777777778,
              "#fb9f3a"
             ],
             [
              0.8888888888888888,
              "#fdca26"
             ],
             [
              1,
              "#f0f921"
             ]
            ],
            "type": "contour"
           }
          ],
          "contourcarpet": [
           {
            "colorbar": {
             "outlinewidth": 0,
             "ticks": ""
            },
            "type": "contourcarpet"
           }
          ],
          "heatmap": [
           {
            "colorbar": {
             "outlinewidth": 0,
             "ticks": ""
            },
            "colorscale": [
             [
              0,
              "#0d0887"
             ],
             [
              0.1111111111111111,
              "#46039f"
             ],
             [
              0.2222222222222222,
              "#7201a8"
             ],
             [
              0.3333333333333333,
              "#9c179e"
             ],
             [
              0.4444444444444444,
              "#bd3786"
             ],
             [
              0.5555555555555556,
              "#d8576b"
             ],
             [
              0.6666666666666666,
              "#ed7953"
             ],
             [
              0.7777777777777778,
              "#fb9f3a"
             ],
             [
              0.8888888888888888,
              "#fdca26"
             ],
             [
              1,
              "#f0f921"
             ]
            ],
            "type": "heatmap"
           }
          ],
          "heatmapgl": [
           {
            "colorbar": {
             "outlinewidth": 0,
             "ticks": ""
            },
            "colorscale": [
             [
              0,
              "#0d0887"
             ],
             [
              0.1111111111111111,
              "#46039f"
             ],
             [
              0.2222222222222222,
              "#7201a8"
             ],
             [
              0.3333333333333333,
              "#9c179e"
             ],
             [
              0.4444444444444444,
              "#bd3786"
             ],
             [
              0.5555555555555556,
              "#d8576b"
             ],
             [
              0.6666666666666666,
              "#ed7953"
             ],
             [
              0.7777777777777778,
              "#fb9f3a"
             ],
             [
              0.8888888888888888,
              "#fdca26"
             ],
             [
              1,
              "#f0f921"
             ]
            ],
            "type": "heatmapgl"
           }
          ],
          "histogram": [
           {
            "marker": {
             "pattern": {
              "fillmode": "overlay",
              "size": 10,
              "solidity": 0.2
             }
            },
            "type": "histogram"
           }
          ],
          "histogram2d": [
           {
            "colorbar": {
             "outlinewidth": 0,
             "ticks": ""
            },
            "colorscale": [
             [
              0,
              "#0d0887"
             ],
             [
              0.1111111111111111,
              "#46039f"
             ],
             [
              0.2222222222222222,
              "#7201a8"
             ],
             [
              0.3333333333333333,
              "#9c179e"
             ],
             [
              0.4444444444444444,
              "#bd3786"
             ],
             [
              0.5555555555555556,
              "#d8576b"
             ],
             [
              0.6666666666666666,
              "#ed7953"
             ],
             [
              0.7777777777777778,
              "#fb9f3a"
             ],
             [
              0.8888888888888888,
              "#fdca26"
             ],
             [
              1,
              "#f0f921"
             ]
            ],
            "type": "histogram2d"
           }
          ],
          "histogram2dcontour": [
           {
            "colorbar": {
             "outlinewidth": 0,
             "ticks": ""
            },
            "colorscale": [
             [
              0,
              "#0d0887"
             ],
             [
              0.1111111111111111,
              "#46039f"
             ],
             [
              0.2222222222222222,
              "#7201a8"
             ],
             [
              0.3333333333333333,
              "#9c179e"
             ],
             [
              0.4444444444444444,
              "#bd3786"
             ],
             [
              0.5555555555555556,
              "#d8576b"
             ],
             [
              0.6666666666666666,
              "#ed7953"
             ],
             [
              0.7777777777777778,
              "#fb9f3a"
             ],
             [
              0.8888888888888888,
              "#fdca26"
             ],
             [
              1,
              "#f0f921"
             ]
            ],
            "type": "histogram2dcontour"
           }
          ],
          "mesh3d": [
           {
            "colorbar": {
             "outlinewidth": 0,
             "ticks": ""
            },
            "type": "mesh3d"
           }
          ],
          "parcoords": [
           {
            "line": {
             "colorbar": {
              "outlinewidth": 0,
              "ticks": ""
             }
            },
            "type": "parcoords"
           }
          ],
          "pie": [
           {
            "automargin": true,
            "type": "pie"
           }
          ],
          "scatter": [
           {
            "fillpattern": {
             "fillmode": "overlay",
             "size": 10,
             "solidity": 0.2
            },
            "type": "scatter"
           }
          ],
          "scatter3d": [
           {
            "line": {
             "colorbar": {
              "outlinewidth": 0,
              "ticks": ""
             }
            },
            "marker": {
             "colorbar": {
              "outlinewidth": 0,
              "ticks": ""
             }
            },
            "type": "scatter3d"
           }
          ],
          "scattercarpet": [
           {
            "marker": {
             "colorbar": {
              "outlinewidth": 0,
              "ticks": ""
             }
            },
            "type": "scattercarpet"
           }
          ],
          "scattergeo": [
           {
            "marker": {
             "colorbar": {
              "outlinewidth": 0,
              "ticks": ""
             }
            },
            "type": "scattergeo"
           }
          ],
          "scattergl": [
           {
            "marker": {
             "colorbar": {
              "outlinewidth": 0,
              "ticks": ""
             }
            },
            "type": "scattergl"
           }
          ],
          "scattermapbox": [
           {
            "marker": {
             "colorbar": {
              "outlinewidth": 0,
              "ticks": ""
             }
            },
            "type": "scattermapbox"
           }
          ],
          "scatterpolar": [
           {
            "marker": {
             "colorbar": {
              "outlinewidth": 0,
              "ticks": ""
             }
            },
            "type": "scatterpolar"
           }
          ],
          "scatterpolargl": [
           {
            "marker": {
             "colorbar": {
              "outlinewidth": 0,
              "ticks": ""
             }
            },
            "type": "scatterpolargl"
           }
          ],
          "scatterternary": [
           {
            "marker": {
             "colorbar": {
              "outlinewidth": 0,
              "ticks": ""
             }
            },
            "type": "scatterternary"
           }
          ],
          "surface": [
           {
            "colorbar": {
             "outlinewidth": 0,
             "ticks": ""
            },
            "colorscale": [
             [
              0,
              "#0d0887"
             ],
             [
              0.1111111111111111,
              "#46039f"
             ],
             [
              0.2222222222222222,
              "#7201a8"
             ],
             [
              0.3333333333333333,
              "#9c179e"
             ],
             [
              0.4444444444444444,
              "#bd3786"
             ],
             [
              0.5555555555555556,
              "#d8576b"
             ],
             [
              0.6666666666666666,
              "#ed7953"
             ],
             [
              0.7777777777777778,
              "#fb9f3a"
             ],
             [
              0.8888888888888888,
              "#fdca26"
             ],
             [
              1,
              "#f0f921"
             ]
            ],
            "type": "surface"
           }
          ],
          "table": [
           {
            "cells": {
             "fill": {
              "color": "#EBF0F8"
             },
             "line": {
              "color": "white"
             }
            },
            "header": {
             "fill": {
              "color": "#C8D4E3"
             },
             "line": {
              "color": "white"
             }
            },
            "type": "table"
           }
          ]
         },
         "layout": {
          "annotationdefaults": {
           "arrowcolor": "#2a3f5f",
           "arrowhead": 0,
           "arrowwidth": 1
          },
          "autotypenumbers": "strict",
          "coloraxis": {
           "colorbar": {
            "outlinewidth": 0,
            "ticks": ""
           }
          },
          "colorscale": {
           "diverging": [
            [
             0,
             "#8e0152"
            ],
            [
             0.1,
             "#c51b7d"
            ],
            [
             0.2,
             "#de77ae"
            ],
            [
             0.3,
             "#f1b6da"
            ],
            [
             0.4,
             "#fde0ef"
            ],
            [
             0.5,
             "#f7f7f7"
            ],
            [
             0.6,
             "#e6f5d0"
            ],
            [
             0.7,
             "#b8e186"
            ],
            [
             0.8,
             "#7fbc41"
            ],
            [
             0.9,
             "#4d9221"
            ],
            [
             1,
             "#276419"
            ]
           ],
           "sequential": [
            [
             0,
             "#0d0887"
            ],
            [
             0.1111111111111111,
             "#46039f"
            ],
            [
             0.2222222222222222,
             "#7201a8"
            ],
            [
             0.3333333333333333,
             "#9c179e"
            ],
            [
             0.4444444444444444,
             "#bd3786"
            ],
            [
             0.5555555555555556,
             "#d8576b"
            ],
            [
             0.6666666666666666,
             "#ed7953"
            ],
            [
             0.7777777777777778,
             "#fb9f3a"
            ],
            [
             0.8888888888888888,
             "#fdca26"
            ],
            [
             1,
             "#f0f921"
            ]
           ],
           "sequentialminus": [
            [
             0,
             "#0d0887"
            ],
            [
             0.1111111111111111,
             "#46039f"
            ],
            [
             0.2222222222222222,
             "#7201a8"
            ],
            [
             0.3333333333333333,
             "#9c179e"
            ],
            [
             0.4444444444444444,
             "#bd3786"
            ],
            [
             0.5555555555555556,
             "#d8576b"
            ],
            [
             0.6666666666666666,
             "#ed7953"
            ],
            [
             0.7777777777777778,
             "#fb9f3a"
            ],
            [
             0.8888888888888888,
             "#fdca26"
            ],
            [
             1,
             "#f0f921"
            ]
           ]
          },
          "colorway": [
           "#636efa",
           "#EF553B",
           "#00cc96",
           "#ab63fa",
           "#FFA15A",
           "#19d3f3",
           "#FF6692",
           "#B6E880",
           "#FF97FF",
           "#FECB52"
          ],
          "font": {
           "color": "#2a3f5f"
          },
          "geo": {
           "bgcolor": "white",
           "lakecolor": "white",
           "landcolor": "#E5ECF6",
           "showlakes": true,
           "showland": true,
           "subunitcolor": "white"
          },
          "hoverlabel": {
           "align": "left"
          },
          "hovermode": "closest",
          "mapbox": {
           "style": "light"
          },
          "paper_bgcolor": "white",
          "plot_bgcolor": "#E5ECF6",
          "polar": {
           "angularaxis": {
            "gridcolor": "white",
            "linecolor": "white",
            "ticks": ""
           },
           "bgcolor": "#E5ECF6",
           "radialaxis": {
            "gridcolor": "white",
            "linecolor": "white",
            "ticks": ""
           }
          },
          "scene": {
           "xaxis": {
            "backgroundcolor": "#E5ECF6",
            "gridcolor": "white",
            "gridwidth": 2,
            "linecolor": "white",
            "showbackground": true,
            "ticks": "",
            "zerolinecolor": "white"
           },
           "yaxis": {
            "backgroundcolor": "#E5ECF6",
            "gridcolor": "white",
            "gridwidth": 2,
            "linecolor": "white",
            "showbackground": true,
            "ticks": "",
            "zerolinecolor": "white"
           },
           "zaxis": {
            "backgroundcolor": "#E5ECF6",
            "gridcolor": "white",
            "gridwidth": 2,
            "linecolor": "white",
            "showbackground": true,
            "ticks": "",
            "zerolinecolor": "white"
           }
          },
          "shapedefaults": {
           "line": {
            "color": "#2a3f5f"
           }
          },
          "ternary": {
           "aaxis": {
            "gridcolor": "white",
            "linecolor": "white",
            "ticks": ""
           },
           "baxis": {
            "gridcolor": "white",
            "linecolor": "white",
            "ticks": ""
           },
           "bgcolor": "#E5ECF6",
           "caxis": {
            "gridcolor": "white",
            "linecolor": "white",
            "ticks": ""
           }
          },
          "title": {
           "x": 0.05
          },
          "xaxis": {
           "automargin": true,
           "gridcolor": "white",
           "linecolor": "white",
           "ticks": "",
           "title": {
            "standoff": 15
           },
           "zerolinecolor": "white",
           "zerolinewidth": 2
          },
          "yaxis": {
           "automargin": true,
           "gridcolor": "white",
           "linecolor": "white",
           "ticks": "",
           "title": {
            "standoff": 15
           },
           "zerolinecolor": "white",
           "zerolinewidth": 2
          }
         }
        },
        "title": {
         "text": "Top 15 food elements produced in 2013",
         "x": 0.5,
         "xanchor": "center",
         "y": 0.95,
         "yanchor": "top"
        },
        "xaxis": {
         "anchor": "y",
         "domain": [
          0,
          1
         ],
         "title": {}
        },
        "yaxis": {
         "anchor": "x",
         "domain": [
          0,
          1
         ],
         "title": {
          "text": "Production (1000 tons)"
         }
        }
       }
      }
     },
     "metadata": {},
     "output_type": "display_data"
    }
   ],
   "source": [
    "# Filtro per estrarre solo gli elementi 'Food'\n",
    "filter_item = df_prod.Element == 'Food'\n",
    "\n",
    "# Filtro per estrarre solo l'anno 2013\n",
    "filter_year = df_prod.Years == '2013'\n",
    "\n",
    "# Creo un subset del dataframe con le condizioni imposte dai filtri e con le colonne che riguardano i cibi, i paesi ed i valori di produzione\n",
    "food_2013 = df_prod.loc[(filter_item) & (filter_year), ['Item', 'Country_Name', 'Production']]\n",
    "\n",
    "# Ordino i valori di produzione in maniera decrescente e seleziono i primi 15 elementi\n",
    "food_2013 = food_2013.sort_values(by='Production', ascending=False).reset_index(drop=True).head(15)\n",
    "\n",
    "fig = px.scatter(\n",
    "    food_2013, \n",
    "    x='Item',\n",
    "    y='Production',\n",
    "\n",
    "    size='Production',\n",
    "    size_max=80,\n",
    "    color='Country_Name',\n",
    "    color_discrete_map={\n",
    "        'China, mainland': '#e76f51',\n",
    "        'United States of America': '#f4a261',\n",
    "        'India': '#264653'},\n",
    "\n",
    "    hover_name='Item',\n",
    "    hover_data=dict(Item = False))\n",
    "\n",
    "fig.update_layout(\n",
    "    title = 'Top 15 food elements produced in 2013',\n",
    "    title_x = 0.5,\n",
    "    title_y = 0.95,\n",
    "    title_xanchor='center',\n",
    "    title_yanchor='top',\n",
    "\n",
    "    legend_title_text='Countries',\n",
    "    legend_title_side = 'top',\n",
    "    showlegend= True,\n",
    "    legend_itemclick='toggle',\n",
    "\n",
    "    xaxis = dict(title=None),\n",
    "\n",
    "    yaxis = dict(title='Production (1000 tons)'))\n",
    "\n",
    "fig.show()"
   ]
  },
  {
   "cell_type": "markdown",
   "id": "24fef13c",
   "metadata": {},
   "source": [
    "Questo grafico mostra che le 15 maggiori produzioni del 2013 individuano 9 diversi alimenti prodotti da 3 paesi. Quasi tutto il cibo maggiormente prodotto consiste in **alimenti a base vegetale**. Questa prima osservazione potrebbe far pensare che la produzione massiva di alimenti vegetali sia più diffusa, o più facilmente realizzabile, della produzione di carni o alimenti a base animale. \n",
    "\n",
    "Si può affermare con certezza che, sia per quantitativi sia per varietà di elementi prodotti, **la Cina nel 2013 è stata leader nella produzione di cibi a livello mondiale**.\n",
    "\n",
    "Si noti in particolare la produzione di **'Vegetables'** e **'Vegetables, Other'**, gli alimenti più prodotti in assoluto. Anche se non è possibile stabilire esattamente a quali alimenti si riferiscano queste voci, in entrambi i casi la produzione della Cina è stata più di 4 volte maggiore di quella dell'**India**, secondo maggior produttore di questi due alimenti. \n",
    "\n",
    "L'India, seppur abitata da più di un miliardo di persone come la Cina, eguaglia i livelli di produzione di quest'ultima solamente per cereali, riso e frumento. Questo risultato potrebbe significare ad esempio che nel 2013 tra i due paesi c'era un dispiego diverso di tecnologie o risorse investibili per la produzione di alimenti.\n",
    "\n",
    "Gli **Stati Uniti d'America** hanno prodotto in grande quantità solamente prodotti caseari, seppur meno rispetto alla produzione indiana. Questo risultato è interessante perché sempre ragionando in termini di popolazione, quella degli Stati Uniti è molto inferiore di quella dell'India. Questo potrebbe indicare che una buona parte di prodotti caseari americani potrebbero essere stati realizzati per poi essere esportati.   \n",
    "\n",
    "Ora passiamo a vedere se il grafico delle maggiori produzioni di mangimi nel 2013 mostra una situazione analoga a quella vista qui. "
   ]
  },
  {
   "cell_type": "code",
   "execution_count": 32,
   "id": "8659351c",
   "metadata": {},
   "outputs": [
    {
     "data": {
      "application/vnd.plotly.v1+json": {
       "config": {
        "plotlyServerURL": "https://plot.ly"
       },
       "data": [
        {
         "hovertemplate": "<b>%{hovertext}</b><br><br>Country_Name=China, mainland<br>Production=%{marker.size}<extra></extra>",
         "hovertext": [
          "Cereals - Excluding Beer",
          "Maize and products",
          "Starchy Roots",
          "Vegetables, Other",
          "Vegetables",
          "Sweet potatoes",
          "Wheat and products"
         ],
         "legendgroup": "China, mainland",
         "marker": {
          "color": "#e76f51",
          "size": [
           193043,
           150000,
           78401,
           35582,
           35582,
           33270,
           26628
          ],
          "sizemode": "area",
          "sizeref": 30.16296875,
          "symbol": "circle"
         },
         "mode": "markers",
         "name": "China, mainland",
         "orientation": "v",
         "showlegend": true,
         "type": "scatter",
         "x": [
          "Cereals - Excluding Beer",
          "Maize and products",
          "Starchy Roots",
          "Vegetables, Other",
          "Vegetables",
          "Sweet potatoes",
          "Wheat and products"
         ],
         "xaxis": "x",
         "y": [
          193043,
          150000,
          78401,
          35582,
          35582,
          33270,
          26628
         ],
         "yaxis": "y"
        },
        {
         "hovertemplate": "<b>%{hovertext}</b><br><br>Country_Name=United States of America<br>Production=%{marker.size}<extra></extra>",
         "hovertext": [
          "Cereals - Excluding Beer",
          "Maize and products"
         ],
         "legendgroup": "United States of America",
         "marker": {
          "color": "#f4a261",
          "size": [
           140096,
           128024
          ],
          "sizemode": "area",
          "sizeref": 30.16296875,
          "symbol": "circle"
         },
         "mode": "markers",
         "name": "United States of America",
         "orientation": "v",
         "showlegend": true,
         "type": "scatter",
         "x": [
          "Cereals - Excluding Beer",
          "Maize and products"
         ],
         "xaxis": "x",
         "y": [
          140096,
          128024
         ],
         "yaxis": "y"
        },
        {
         "hovertemplate": "<b>%{hovertext}</b><br><br>Country_Name=Brazil<br>Production=%{marker.size}<extra></extra>",
         "hovertext": [
          "Cereals - Excluding Beer",
          "Maize and products"
         ],
         "legendgroup": "Brazil",
         "marker": {
          "color": "#e9c46a",
          "size": [
           43263,
           40487
          ],
          "sizemode": "area",
          "sizeref": 30.16296875,
          "symbol": "circle"
         },
         "mode": "markers",
         "name": "Brazil",
         "orientation": "v",
         "showlegend": true,
         "type": "scatter",
         "x": [
          "Cereals - Excluding Beer",
          "Maize and products"
         ],
         "xaxis": "x",
         "y": [
          43263,
          40487
         ],
         "yaxis": "y"
        },
        {
         "hovertemplate": "<b>%{hovertext}</b><br><br>Country_Name=Nigeria<br>Production=%{marker.size}<extra></extra>",
         "hovertext": [
          "Starchy Roots",
          "Cassava and products"
         ],
         "legendgroup": "Nigeria",
         "marker": {
          "color": "#8ab17d",
          "size": [
           30398,
           26288
          ],
          "sizemode": "area",
          "sizeref": 30.16296875,
          "symbol": "circle"
         },
         "mode": "markers",
         "name": "Nigeria",
         "orientation": "v",
         "showlegend": true,
         "type": "scatter",
         "x": [
          "Starchy Roots",
          "Cassava and products"
         ],
         "xaxis": "x",
         "y": [
          30398,
          26288
         ],
         "yaxis": "y"
        },
        {
         "hovertemplate": "<b>%{hovertext}</b><br><br>Country_Name=Germany<br>Production=%{marker.size}<extra></extra>",
         "hovertext": [
          "Cereals - Excluding Beer"
         ],
         "legendgroup": "Germany",
         "marker": {
          "color": "#2a9d8f",
          "size": [
           26615
          ],
          "sizemode": "area",
          "sizeref": 30.16296875,
          "symbol": "circle"
         },
         "mode": "markers",
         "name": "Germany",
         "orientation": "v",
         "showlegend": true,
         "type": "scatter",
         "x": [
          "Cereals - Excluding Beer"
         ],
         "xaxis": "x",
         "y": [
          26615
         ],
         "yaxis": "y"
        },
        {
         "hovertemplate": "<b>%{hovertext}</b><br><br>Country_Name=Spain<br>Production=%{marker.size}<extra></extra>",
         "hovertext": [
          "Cereals - Excluding Beer"
         ],
         "legendgroup": "Spain",
         "marker": {
          "color": "#287271",
          "size": [
           24926
          ],
          "sizemode": "area",
          "sizeref": 30.16296875,
          "symbol": "circle"
         },
         "mode": "markers",
         "name": "Spain",
         "orientation": "v",
         "showlegend": true,
         "type": "scatter",
         "x": [
          "Cereals - Excluding Beer"
         ],
         "xaxis": "x",
         "y": [
          24926
         ],
         "yaxis": "y"
        }
       ],
       "layout": {
        "legend": {
         "itemclick": "toggle",
         "itemsizing": "constant",
         "title": {
          "side": "top",
          "text": "Countries"
         },
         "tracegroupgap": 0
        },
        "margin": {
         "t": 60
        },
        "showlegend": true,
        "template": {
         "data": {
          "bar": [
           {
            "error_x": {
             "color": "#2a3f5f"
            },
            "error_y": {
             "color": "#2a3f5f"
            },
            "marker": {
             "line": {
              "color": "#E5ECF6",
              "width": 0.5
             },
             "pattern": {
              "fillmode": "overlay",
              "size": 10,
              "solidity": 0.2
             }
            },
            "type": "bar"
           }
          ],
          "barpolar": [
           {
            "marker": {
             "line": {
              "color": "#E5ECF6",
              "width": 0.5
             },
             "pattern": {
              "fillmode": "overlay",
              "size": 10,
              "solidity": 0.2
             }
            },
            "type": "barpolar"
           }
          ],
          "carpet": [
           {
            "aaxis": {
             "endlinecolor": "#2a3f5f",
             "gridcolor": "white",
             "linecolor": "white",
             "minorgridcolor": "white",
             "startlinecolor": "#2a3f5f"
            },
            "baxis": {
             "endlinecolor": "#2a3f5f",
             "gridcolor": "white",
             "linecolor": "white",
             "minorgridcolor": "white",
             "startlinecolor": "#2a3f5f"
            },
            "type": "carpet"
           }
          ],
          "choropleth": [
           {
            "colorbar": {
             "outlinewidth": 0,
             "ticks": ""
            },
            "type": "choropleth"
           }
          ],
          "contour": [
           {
            "colorbar": {
             "outlinewidth": 0,
             "ticks": ""
            },
            "colorscale": [
             [
              0,
              "#0d0887"
             ],
             [
              0.1111111111111111,
              "#46039f"
             ],
             [
              0.2222222222222222,
              "#7201a8"
             ],
             [
              0.3333333333333333,
              "#9c179e"
             ],
             [
              0.4444444444444444,
              "#bd3786"
             ],
             [
              0.5555555555555556,
              "#d8576b"
             ],
             [
              0.6666666666666666,
              "#ed7953"
             ],
             [
              0.7777777777777778,
              "#fb9f3a"
             ],
             [
              0.8888888888888888,
              "#fdca26"
             ],
             [
              1,
              "#f0f921"
             ]
            ],
            "type": "contour"
           }
          ],
          "contourcarpet": [
           {
            "colorbar": {
             "outlinewidth": 0,
             "ticks": ""
            },
            "type": "contourcarpet"
           }
          ],
          "heatmap": [
           {
            "colorbar": {
             "outlinewidth": 0,
             "ticks": ""
            },
            "colorscale": [
             [
              0,
              "#0d0887"
             ],
             [
              0.1111111111111111,
              "#46039f"
             ],
             [
              0.2222222222222222,
              "#7201a8"
             ],
             [
              0.3333333333333333,
              "#9c179e"
             ],
             [
              0.4444444444444444,
              "#bd3786"
             ],
             [
              0.5555555555555556,
              "#d8576b"
             ],
             [
              0.6666666666666666,
              "#ed7953"
             ],
             [
              0.7777777777777778,
              "#fb9f3a"
             ],
             [
              0.8888888888888888,
              "#fdca26"
             ],
             [
              1,
              "#f0f921"
             ]
            ],
            "type": "heatmap"
           }
          ],
          "heatmapgl": [
           {
            "colorbar": {
             "outlinewidth": 0,
             "ticks": ""
            },
            "colorscale": [
             [
              0,
              "#0d0887"
             ],
             [
              0.1111111111111111,
              "#46039f"
             ],
             [
              0.2222222222222222,
              "#7201a8"
             ],
             [
              0.3333333333333333,
              "#9c179e"
             ],
             [
              0.4444444444444444,
              "#bd3786"
             ],
             [
              0.5555555555555556,
              "#d8576b"
             ],
             [
              0.6666666666666666,
              "#ed7953"
             ],
             [
              0.7777777777777778,
              "#fb9f3a"
             ],
             [
              0.8888888888888888,
              "#fdca26"
             ],
             [
              1,
              "#f0f921"
             ]
            ],
            "type": "heatmapgl"
           }
          ],
          "histogram": [
           {
            "marker": {
             "pattern": {
              "fillmode": "overlay",
              "size": 10,
              "solidity": 0.2
             }
            },
            "type": "histogram"
           }
          ],
          "histogram2d": [
           {
            "colorbar": {
             "outlinewidth": 0,
             "ticks": ""
            },
            "colorscale": [
             [
              0,
              "#0d0887"
             ],
             [
              0.1111111111111111,
              "#46039f"
             ],
             [
              0.2222222222222222,
              "#7201a8"
             ],
             [
              0.3333333333333333,
              "#9c179e"
             ],
             [
              0.4444444444444444,
              "#bd3786"
             ],
             [
              0.5555555555555556,
              "#d8576b"
             ],
             [
              0.6666666666666666,
              "#ed7953"
             ],
             [
              0.7777777777777778,
              "#fb9f3a"
             ],
             [
              0.8888888888888888,
              "#fdca26"
             ],
             [
              1,
              "#f0f921"
             ]
            ],
            "type": "histogram2d"
           }
          ],
          "histogram2dcontour": [
           {
            "colorbar": {
             "outlinewidth": 0,
             "ticks": ""
            },
            "colorscale": [
             [
              0,
              "#0d0887"
             ],
             [
              0.1111111111111111,
              "#46039f"
             ],
             [
              0.2222222222222222,
              "#7201a8"
             ],
             [
              0.3333333333333333,
              "#9c179e"
             ],
             [
              0.4444444444444444,
              "#bd3786"
             ],
             [
              0.5555555555555556,
              "#d8576b"
             ],
             [
              0.6666666666666666,
              "#ed7953"
             ],
             [
              0.7777777777777778,
              "#fb9f3a"
             ],
             [
              0.8888888888888888,
              "#fdca26"
             ],
             [
              1,
              "#f0f921"
             ]
            ],
            "type": "histogram2dcontour"
           }
          ],
          "mesh3d": [
           {
            "colorbar": {
             "outlinewidth": 0,
             "ticks": ""
            },
            "type": "mesh3d"
           }
          ],
          "parcoords": [
           {
            "line": {
             "colorbar": {
              "outlinewidth": 0,
              "ticks": ""
             }
            },
            "type": "parcoords"
           }
          ],
          "pie": [
           {
            "automargin": true,
            "type": "pie"
           }
          ],
          "scatter": [
           {
            "fillpattern": {
             "fillmode": "overlay",
             "size": 10,
             "solidity": 0.2
            },
            "type": "scatter"
           }
          ],
          "scatter3d": [
           {
            "line": {
             "colorbar": {
              "outlinewidth": 0,
              "ticks": ""
             }
            },
            "marker": {
             "colorbar": {
              "outlinewidth": 0,
              "ticks": ""
             }
            },
            "type": "scatter3d"
           }
          ],
          "scattercarpet": [
           {
            "marker": {
             "colorbar": {
              "outlinewidth": 0,
              "ticks": ""
             }
            },
            "type": "scattercarpet"
           }
          ],
          "scattergeo": [
           {
            "marker": {
             "colorbar": {
              "outlinewidth": 0,
              "ticks": ""
             }
            },
            "type": "scattergeo"
           }
          ],
          "scattergl": [
           {
            "marker": {
             "colorbar": {
              "outlinewidth": 0,
              "ticks": ""
             }
            },
            "type": "scattergl"
           }
          ],
          "scattermapbox": [
           {
            "marker": {
             "colorbar": {
              "outlinewidth": 0,
              "ticks": ""
             }
            },
            "type": "scattermapbox"
           }
          ],
          "scatterpolar": [
           {
            "marker": {
             "colorbar": {
              "outlinewidth": 0,
              "ticks": ""
             }
            },
            "type": "scatterpolar"
           }
          ],
          "scatterpolargl": [
           {
            "marker": {
             "colorbar": {
              "outlinewidth": 0,
              "ticks": ""
             }
            },
            "type": "scatterpolargl"
           }
          ],
          "scatterternary": [
           {
            "marker": {
             "colorbar": {
              "outlinewidth": 0,
              "ticks": ""
             }
            },
            "type": "scatterternary"
           }
          ],
          "surface": [
           {
            "colorbar": {
             "outlinewidth": 0,
             "ticks": ""
            },
            "colorscale": [
             [
              0,
              "#0d0887"
             ],
             [
              0.1111111111111111,
              "#46039f"
             ],
             [
              0.2222222222222222,
              "#7201a8"
             ],
             [
              0.3333333333333333,
              "#9c179e"
             ],
             [
              0.4444444444444444,
              "#bd3786"
             ],
             [
              0.5555555555555556,
              "#d8576b"
             ],
             [
              0.6666666666666666,
              "#ed7953"
             ],
             [
              0.7777777777777778,
              "#fb9f3a"
             ],
             [
              0.8888888888888888,
              "#fdca26"
             ],
             [
              1,
              "#f0f921"
             ]
            ],
            "type": "surface"
           }
          ],
          "table": [
           {
            "cells": {
             "fill": {
              "color": "#EBF0F8"
             },
             "line": {
              "color": "white"
             }
            },
            "header": {
             "fill": {
              "color": "#C8D4E3"
             },
             "line": {
              "color": "white"
             }
            },
            "type": "table"
           }
          ]
         },
         "layout": {
          "annotationdefaults": {
           "arrowcolor": "#2a3f5f",
           "arrowhead": 0,
           "arrowwidth": 1
          },
          "autotypenumbers": "strict",
          "coloraxis": {
           "colorbar": {
            "outlinewidth": 0,
            "ticks": ""
           }
          },
          "colorscale": {
           "diverging": [
            [
             0,
             "#8e0152"
            ],
            [
             0.1,
             "#c51b7d"
            ],
            [
             0.2,
             "#de77ae"
            ],
            [
             0.3,
             "#f1b6da"
            ],
            [
             0.4,
             "#fde0ef"
            ],
            [
             0.5,
             "#f7f7f7"
            ],
            [
             0.6,
             "#e6f5d0"
            ],
            [
             0.7,
             "#b8e186"
            ],
            [
             0.8,
             "#7fbc41"
            ],
            [
             0.9,
             "#4d9221"
            ],
            [
             1,
             "#276419"
            ]
           ],
           "sequential": [
            [
             0,
             "#0d0887"
            ],
            [
             0.1111111111111111,
             "#46039f"
            ],
            [
             0.2222222222222222,
             "#7201a8"
            ],
            [
             0.3333333333333333,
             "#9c179e"
            ],
            [
             0.4444444444444444,
             "#bd3786"
            ],
            [
             0.5555555555555556,
             "#d8576b"
            ],
            [
             0.6666666666666666,
             "#ed7953"
            ],
            [
             0.7777777777777778,
             "#fb9f3a"
            ],
            [
             0.8888888888888888,
             "#fdca26"
            ],
            [
             1,
             "#f0f921"
            ]
           ],
           "sequentialminus": [
            [
             0,
             "#0d0887"
            ],
            [
             0.1111111111111111,
             "#46039f"
            ],
            [
             0.2222222222222222,
             "#7201a8"
            ],
            [
             0.3333333333333333,
             "#9c179e"
            ],
            [
             0.4444444444444444,
             "#bd3786"
            ],
            [
             0.5555555555555556,
             "#d8576b"
            ],
            [
             0.6666666666666666,
             "#ed7953"
            ],
            [
             0.7777777777777778,
             "#fb9f3a"
            ],
            [
             0.8888888888888888,
             "#fdca26"
            ],
            [
             1,
             "#f0f921"
            ]
           ]
          },
          "colorway": [
           "#636efa",
           "#EF553B",
           "#00cc96",
           "#ab63fa",
           "#FFA15A",
           "#19d3f3",
           "#FF6692",
           "#B6E880",
           "#FF97FF",
           "#FECB52"
          ],
          "font": {
           "color": "#2a3f5f"
          },
          "geo": {
           "bgcolor": "white",
           "lakecolor": "white",
           "landcolor": "#E5ECF6",
           "showlakes": true,
           "showland": true,
           "subunitcolor": "white"
          },
          "hoverlabel": {
           "align": "left"
          },
          "hovermode": "closest",
          "mapbox": {
           "style": "light"
          },
          "paper_bgcolor": "white",
          "plot_bgcolor": "#E5ECF6",
          "polar": {
           "angularaxis": {
            "gridcolor": "white",
            "linecolor": "white",
            "ticks": ""
           },
           "bgcolor": "#E5ECF6",
           "radialaxis": {
            "gridcolor": "white",
            "linecolor": "white",
            "ticks": ""
           }
          },
          "scene": {
           "xaxis": {
            "backgroundcolor": "#E5ECF6",
            "gridcolor": "white",
            "gridwidth": 2,
            "linecolor": "white",
            "showbackground": true,
            "ticks": "",
            "zerolinecolor": "white"
           },
           "yaxis": {
            "backgroundcolor": "#E5ECF6",
            "gridcolor": "white",
            "gridwidth": 2,
            "linecolor": "white",
            "showbackground": true,
            "ticks": "",
            "zerolinecolor": "white"
           },
           "zaxis": {
            "backgroundcolor": "#E5ECF6",
            "gridcolor": "white",
            "gridwidth": 2,
            "linecolor": "white",
            "showbackground": true,
            "ticks": "",
            "zerolinecolor": "white"
           }
          },
          "shapedefaults": {
           "line": {
            "color": "#2a3f5f"
           }
          },
          "ternary": {
           "aaxis": {
            "gridcolor": "white",
            "linecolor": "white",
            "ticks": ""
           },
           "baxis": {
            "gridcolor": "white",
            "linecolor": "white",
            "ticks": ""
           },
           "bgcolor": "#E5ECF6",
           "caxis": {
            "gridcolor": "white",
            "linecolor": "white",
            "ticks": ""
           }
          },
          "title": {
           "x": 0.05
          },
          "xaxis": {
           "automargin": true,
           "gridcolor": "white",
           "linecolor": "white",
           "ticks": "",
           "title": {
            "standoff": 15
           },
           "zerolinecolor": "white",
           "zerolinewidth": 2
          },
          "yaxis": {
           "automargin": true,
           "gridcolor": "white",
           "linecolor": "white",
           "ticks": "",
           "title": {
            "standoff": 15
           },
           "zerolinecolor": "white",
           "zerolinewidth": 2
          }
         }
        },
        "title": {
         "text": "Top 15 feed elements produced in 2013",
         "x": 0.5,
         "xanchor": "center",
         "y": 0.95,
         "yanchor": "top"
        },
        "xaxis": {
         "anchor": "y",
         "domain": [
          0,
          1
         ],
         "tickangle": 45,
         "title": {}
        },
        "yaxis": {
         "anchor": "x",
         "domain": [
          0,
          1
         ],
         "title": {
          "text": "Production (1000 tons)"
         }
        }
       }
      }
     },
     "metadata": {},
     "output_type": "display_data"
    }
   ],
   "source": [
    "# Filtro per estrarre solo gli elementi 'Feed'\n",
    "filter_item = df_prod.Element == 'Feed'\n",
    "\n",
    "# Filtro per estrarre solo l'anno 2013\n",
    "filter_year = df_prod.Years == '2013'\n",
    "\n",
    "# Creo un subset del dataframe con le condizioni imposte dai filtri e con le colonne che riguardano i mangimi, i paesi ed i valori di produzione\n",
    "feed_2013 = df_prod.loc[(filter_item) & (filter_year), ['Item','Country_Name', 'Production']]\n",
    "\n",
    "# Ordino i valori di produzione in maniera decrescente e seleziono i primi 15 elementi\n",
    "feed_2013 = feed_2013.sort_values(by='Production', ascending=False).reset_index(drop=True).head(15)\n",
    "\n",
    "fig = px.scatter(\n",
    "    feed_2013, \n",
    "    x='Item',\n",
    "    y='Production',\n",
    "\n",
    "    size='Production',\n",
    "    size_max=80,\n",
    "    color='Country_Name',\n",
    "    color_discrete_map={\n",
    "        'China, mainland': '#e76f51',\n",
    "        'United States of America': '#f4a261',\n",
    "        'Brazil': '#e9c46a',\n",
    "        'Nigeria': '#8ab17d',\n",
    "        'Germany': '#2a9d8f',\n",
    "        'Spain': '#287271',\n",
    "        'Canada': '#264653'},\n",
    "\n",
    "    hover_name='Item',\n",
    "    hover_data=dict(Item = False))\n",
    "\n",
    "fig.update_layout(\n",
    "    title = 'Top 15 feed elements produced in 2013',\n",
    "    title_x = 0.5,\n",
    "    title_y = 0.95,\n",
    "    title_xanchor='center',\n",
    "    title_yanchor='top',\n",
    "\n",
    "    legend_title_text='Countries',\n",
    "    legend_title_side = 'top',\n",
    "    showlegend= True,\n",
    "    legend_itemclick='toggle',\n",
    "\n",
    "    xaxis = dict(\n",
    "        title=None, \n",
    "        tickangle=45),\n",
    "\n",
    "    yaxis = dict(title='Production (1000 tons)'))\n",
    "\n",
    "fig.show()"
   ]
  },
  {
   "cell_type": "markdown",
   "id": "0842bd0d",
   "metadata": {},
   "source": [
    "Da questo grafico si vede che un numero maggiore di paesi rispetto a prima ha prodotto grandi quantitativi di mangime nel 2013. Anche in questo caso la maggior parte della produzione si concentra su soli due elementi: **cereali e mais**. Probabilmente, questi due rappresentano i prodotti più comunemente impiegati per foraggiare le diverse tipologie di bestiame.  \n",
    "\n",
    "Anche in questo caso la **Cina** si è affermata come paese leader nella produzione, mostrando di possedere anche nella realizzazione di mangimi un forte binomio 'varietà del portfolio prodotti' e 'capacità produttiva'.   \n",
    "\n",
    "Gli **Stati Uniti d'America** si affermano come secondo maggior produttore di cereali e mais, avvicinandosi molto ai valori di produzione della Cina. Anche il **Brasile**, al terzo posto per la produzione di cereali e mais, mostra notevoli livelli produttivi.\n",
    "\n",
    "È molto interessante notare che l'India in questo caso non figura mai tra i maggiori produttori dei mangimi reppresentati nel grafico. Questa osservazione meriterebbe un approfondimento che però non svolgerò in questo progetto.\n"
   ]
  },
  {
   "cell_type": "markdown",
   "id": "ce760c99",
   "metadata": {},
   "source": [
    "Per concludere l'analisi grafica di questo dataset voglio visualizzare come è cambiata, nel periodo 1961-2013, la produzione cinese dei 3 cibi e mangimi più prodotti nel 2013.   "
   ]
  },
  {
   "cell_type": "code",
   "execution_count": 33,
   "id": "1d116953",
   "metadata": {},
   "outputs": [
    {
     "data": {
      "text/html": [
       "<div>\n",
       "<style scoped>\n",
       "    .dataframe tbody tr th:only-of-type {\n",
       "        vertical-align: middle;\n",
       "    }\n",
       "\n",
       "    .dataframe tbody tr th {\n",
       "        vertical-align: top;\n",
       "    }\n",
       "\n",
       "    .dataframe thead th {\n",
       "        text-align: right;\n",
       "    }\n",
       "</style>\n",
       "<table border=\"1\" class=\"dataframe\">\n",
       "  <thead>\n",
       "    <tr style=\"text-align: right;\">\n",
       "      <th></th>\n",
       "      <th>Element</th>\n",
       "      <th>Item</th>\n",
       "      <th>Country_Name</th>\n",
       "      <th>Production</th>\n",
       "      <th>Years</th>\n",
       "    </tr>\n",
       "  </thead>\n",
       "  <tbody>\n",
       "    <tr>\n",
       "      <th>0</th>\n",
       "      <td>Feed</td>\n",
       "      <td>Starchy Roots</td>\n",
       "      <td>China, mainland</td>\n",
       "      <td>8179</td>\n",
       "      <td>1961</td>\n",
       "    </tr>\n",
       "    <tr>\n",
       "      <th>1</th>\n",
       "      <td>Feed</td>\n",
       "      <td>Maize and products</td>\n",
       "      <td>China, mainland</td>\n",
       "      <td>13700</td>\n",
       "      <td>1961</td>\n",
       "    </tr>\n",
       "    <tr>\n",
       "      <th>2</th>\n",
       "      <td>Feed</td>\n",
       "      <td>Cereals - Excluding Beer</td>\n",
       "      <td>China, mainland</td>\n",
       "      <td>17963</td>\n",
       "      <td>1961</td>\n",
       "    </tr>\n",
       "    <tr>\n",
       "      <th>159</th>\n",
       "      <td>Food</td>\n",
       "      <td>Vegetables, Other</td>\n",
       "      <td>China, mainland</td>\n",
       "      <td>44728</td>\n",
       "      <td>1961</td>\n",
       "    </tr>\n",
       "    <tr>\n",
       "      <th>160</th>\n",
       "      <td>Food</td>\n",
       "      <td>Vegetables</td>\n",
       "      <td>China, mainland</td>\n",
       "      <td>52968</td>\n",
       "      <td>1961</td>\n",
       "    </tr>\n",
       "    <tr>\n",
       "      <th>161</th>\n",
       "      <td>Food</td>\n",
       "      <td>Cereals - Excluding Beer</td>\n",
       "      <td>China, mainland</td>\n",
       "      <td>59256</td>\n",
       "      <td>1961</td>\n",
       "    </tr>\n",
       "  </tbody>\n",
       "</table>\n",
       "</div>"
      ],
      "text/plain": [
       "    Element                      Item     Country_Name  Production Years\n",
       "0      Feed             Starchy Roots  China, mainland        8179  1961\n",
       "1      Feed        Maize and products  China, mainland       13700  1961\n",
       "2      Feed  Cereals - Excluding Beer  China, mainland       17963  1961\n",
       "159    Food         Vegetables, Other  China, mainland       44728  1961\n",
       "160    Food                Vegetables  China, mainland       52968  1961\n",
       "161    Food  Cereals - Excluding Beer  China, mainland       59256  1961"
      ]
     },
     "execution_count": 33,
     "metadata": {},
     "output_type": "execute_result"
    }
   ],
   "source": [
    "# La strategia più veloce che ho ideato per accorpare i dati di cibi e mangimi a cui sono interessato è quella di creare due dataframes in modo separato\n",
    "# e poi unirli insieme. \n",
    "\n",
    "# Creo un filtro per il paese \n",
    "country_filter = df_prod.Country_Name == 'China, mainland'\n",
    "\n",
    "# Creo un filtro per raccogliere gli elementi dei cibi che mi interessano\n",
    "food_items = df_prod.Item.isin(['Vegetables', 'Vegetables, Other', 'Cereals - Excluding Beer'])\n",
    "\n",
    "# Creo un filtro per estrarre solo i cibi \n",
    "food_filter = df_prod.Element == 'Food'\n",
    "\n",
    "# Costruisco un subset a partire dal dataframe della produzione, contenente solo le colonne di cui ho bisogno e specifico per i cibi \n",
    "china_food = df_prod.loc[(country_filter) & (food_items) & (food_filter), ['Element', 'Item', 'Country_Name', 'Production', 'Years']]\n",
    "\n",
    "# Ordino Le voci degli anni e dei valori di produzione e resetto l'indice \n",
    "china_food = china_food.sort_values(by=['Years', 'Production']).reset_index(drop=True)\n",
    "\n",
    "# Creo un filtro per raccogliere gli elementi dei mangimi che mi interessano\n",
    "feed_items = df_prod.Item.isin(['Cereals - Excluding Beer', 'Maize and products', 'Starchy Roots'])\n",
    "\n",
    "# Creo un filtro per estrarre solo i mangimi \n",
    "feed_filter = df_prod.Element == 'Feed'\n",
    "\n",
    "# Come prima, costruisco un altro subset dal dataframe della produzione, questa volta specifico per i mangimi\n",
    "china_feed = df_prod.loc[(country_filter) & (feed_items) & (feed_filter), ['Element', 'Item', 'Country_Name', 'Production', 'Years']]\n",
    "\n",
    "china_feed = china_feed.sort_values(by=['Years', 'Production']).reset_index(drop=True)\n",
    "\n",
    "# Impilo i due dataframes  \n",
    "chn_food_feed = pd.concat([china_feed, china_food]).reset_index(drop=True)\n",
    "\n",
    "chn_food_feed.iloc[np.r_[0:3, 159:162]]"
   ]
  },
  {
   "cell_type": "code",
   "execution_count": 34,
   "id": "01cb4f40",
   "metadata": {},
   "outputs": [
    {
     "data": {
      "text/html": [
       "        <script type=\"text/javascript\">\n",
       "        window.PlotlyConfig = {MathJaxConfig: 'local'};\n",
       "        if (window.MathJax && window.MathJax.Hub && window.MathJax.Hub.Config) {window.MathJax.Hub.Config({SVG: {font: \"STIX-Web\"}});}\n",
       "        if (typeof require !== 'undefined') {\n",
       "        require.undef(\"plotly\");\n",
       "        requirejs.config({\n",
       "            paths: {\n",
       "                'plotly': ['https://cdn.plot.ly/plotly-2.12.1.min']\n",
       "            }\n",
       "        });\n",
       "        require(['plotly'], function(Plotly) {\n",
       "            window._Plotly = Plotly;\n",
       "        });\n",
       "        }\n",
       "        </script>\n",
       "        "
      ]
     },
     "metadata": {},
     "output_type": "display_data"
    },
    {
     "data": {
      "text/html": [
       "<div>                            <div id=\"de0256ff-87ab-4f3c-ac21-7197a3d8e7a4\" class=\"plotly-graph-div\" style=\"height:525px; width:100%;\"></div>            <script type=\"text/javascript\">                require([\"plotly\"], function(Plotly) {                    window.PLOTLYENV=window.PLOTLYENV || {};                                    if (document.getElementById(\"de0256ff-87ab-4f3c-ac21-7197a3d8e7a4\")) {                    Plotly.newPlot(                        \"de0256ff-87ab-4f3c-ac21-7197a3d8e7a4\",                        [{\"hovertemplate\":\"<b>%{hovertext}</b><br><br>Element=Feed<br>Years=1961<br>Production=%{marker.size}<extra></extra>\",\"hovertext\":[\"Starchy Roots\",\"Maize and products\",\"Cereals - Excluding Beer\"],\"legendgroup\":\"Feed\",\"marker\":{\"color\":\"brown\",\"size\":[8179,13700,17963],\"sizemode\":\"area\",\"sizeref\":76.45296875,\"symbol\":\"circle\"},\"mode\":\"markers\",\"name\":\"Feed\",\"orientation\":\"h\",\"showlegend\":true,\"x\":[8179,13700,17963],\"xaxis\":\"x\",\"y\":[\"Starchy Roots\",\"Maize and products\",\"Cereals - Excluding Beer\"],\"yaxis\":\"y\",\"type\":\"scatter\"},{\"hovertemplate\":\"<b>%{hovertext}</b><br><br>Element=Food<br>Years=1961<br>Production=%{marker.size}<extra></extra>\",\"hovertext\":[\"Vegetables, Other\",\"Vegetables\",\"Cereals - Excluding Beer\"],\"legendgroup\":\"Food\",\"marker\":{\"color\":\"orange\",\"size\":[44728,52968,59256],\"sizemode\":\"area\",\"sizeref\":76.45296875,\"symbol\":\"circle\"},\"mode\":\"markers\",\"name\":\"Food\",\"orientation\":\"h\",\"showlegend\":true,\"x\":[44728,52968,59256],\"xaxis\":\"x\",\"y\":[\"Vegetables, Other\",\"Vegetables\",\"Cereals - Excluding Beer\"],\"yaxis\":\"y\",\"type\":\"scatter\"}],                        {\"template\":{\"data\":{\"histogram2dcontour\":[{\"type\":\"histogram2dcontour\",\"colorbar\":{\"outlinewidth\":0,\"ticks\":\"\"},\"colorscale\":[[0.0,\"#0d0887\"],[0.1111111111111111,\"#46039f\"],[0.2222222222222222,\"#7201a8\"],[0.3333333333333333,\"#9c179e\"],[0.4444444444444444,\"#bd3786\"],[0.5555555555555556,\"#d8576b\"],[0.6666666666666666,\"#ed7953\"],[0.7777777777777778,\"#fb9f3a\"],[0.8888888888888888,\"#fdca26\"],[1.0,\"#f0f921\"]]}],\"choropleth\":[{\"type\":\"choropleth\",\"colorbar\":{\"outlinewidth\":0,\"ticks\":\"\"}}],\"histogram2d\":[{\"type\":\"histogram2d\",\"colorbar\":{\"outlinewidth\":0,\"ticks\":\"\"},\"colorscale\":[[0.0,\"#0d0887\"],[0.1111111111111111,\"#46039f\"],[0.2222222222222222,\"#7201a8\"],[0.3333333333333333,\"#9c179e\"],[0.4444444444444444,\"#bd3786\"],[0.5555555555555556,\"#d8576b\"],[0.6666666666666666,\"#ed7953\"],[0.7777777777777778,\"#fb9f3a\"],[0.8888888888888888,\"#fdca26\"],[1.0,\"#f0f921\"]]}],\"heatmap\":[{\"type\":\"heatmap\",\"colorbar\":{\"outlinewidth\":0,\"ticks\":\"\"},\"colorscale\":[[0.0,\"#0d0887\"],[0.1111111111111111,\"#46039f\"],[0.2222222222222222,\"#7201a8\"],[0.3333333333333333,\"#9c179e\"],[0.4444444444444444,\"#bd3786\"],[0.5555555555555556,\"#d8576b\"],[0.6666666666666666,\"#ed7953\"],[0.7777777777777778,\"#fb9f3a\"],[0.8888888888888888,\"#fdca26\"],[1.0,\"#f0f921\"]]}],\"heatmapgl\":[{\"type\":\"heatmapgl\",\"colorbar\":{\"outlinewidth\":0,\"ticks\":\"\"},\"colorscale\":[[0.0,\"#0d0887\"],[0.1111111111111111,\"#46039f\"],[0.2222222222222222,\"#7201a8\"],[0.3333333333333333,\"#9c179e\"],[0.4444444444444444,\"#bd3786\"],[0.5555555555555556,\"#d8576b\"],[0.6666666666666666,\"#ed7953\"],[0.7777777777777778,\"#fb9f3a\"],[0.8888888888888888,\"#fdca26\"],[1.0,\"#f0f921\"]]}],\"contourcarpet\":[{\"type\":\"contourcarpet\",\"colorbar\":{\"outlinewidth\":0,\"ticks\":\"\"}}],\"contour\":[{\"type\":\"contour\",\"colorbar\":{\"outlinewidth\":0,\"ticks\":\"\"},\"colorscale\":[[0.0,\"#0d0887\"],[0.1111111111111111,\"#46039f\"],[0.2222222222222222,\"#7201a8\"],[0.3333333333333333,\"#9c179e\"],[0.4444444444444444,\"#bd3786\"],[0.5555555555555556,\"#d8576b\"],[0.6666666666666666,\"#ed7953\"],[0.7777777777777778,\"#fb9f3a\"],[0.8888888888888888,\"#fdca26\"],[1.0,\"#f0f921\"]]}],\"surface\":[{\"type\":\"surface\",\"colorbar\":{\"outlinewidth\":0,\"ticks\":\"\"},\"colorscale\":[[0.0,\"#0d0887\"],[0.1111111111111111,\"#46039f\"],[0.2222222222222222,\"#7201a8\"],[0.3333333333333333,\"#9c179e\"],[0.4444444444444444,\"#bd3786\"],[0.5555555555555556,\"#d8576b\"],[0.6666666666666666,\"#ed7953\"],[0.7777777777777778,\"#fb9f3a\"],[0.8888888888888888,\"#fdca26\"],[1.0,\"#f0f921\"]]}],\"mesh3d\":[{\"type\":\"mesh3d\",\"colorbar\":{\"outlinewidth\":0,\"ticks\":\"\"}}],\"scatter\":[{\"fillpattern\":{\"fillmode\":\"overlay\",\"size\":10,\"solidity\":0.2},\"type\":\"scatter\"}],\"parcoords\":[{\"type\":\"parcoords\",\"line\":{\"colorbar\":{\"outlinewidth\":0,\"ticks\":\"\"}}}],\"scatterpolargl\":[{\"type\":\"scatterpolargl\",\"marker\":{\"colorbar\":{\"outlinewidth\":0,\"ticks\":\"\"}}}],\"bar\":[{\"error_x\":{\"color\":\"#2a3f5f\"},\"error_y\":{\"color\":\"#2a3f5f\"},\"marker\":{\"line\":{\"color\":\"#E5ECF6\",\"width\":0.5},\"pattern\":{\"fillmode\":\"overlay\",\"size\":10,\"solidity\":0.2}},\"type\":\"bar\"}],\"scattergeo\":[{\"type\":\"scattergeo\",\"marker\":{\"colorbar\":{\"outlinewidth\":0,\"ticks\":\"\"}}}],\"scatterpolar\":[{\"type\":\"scatterpolar\",\"marker\":{\"colorbar\":{\"outlinewidth\":0,\"ticks\":\"\"}}}],\"histogram\":[{\"marker\":{\"pattern\":{\"fillmode\":\"overlay\",\"size\":10,\"solidity\":0.2}},\"type\":\"histogram\"}],\"scattergl\":[{\"type\":\"scattergl\",\"marker\":{\"colorbar\":{\"outlinewidth\":0,\"ticks\":\"\"}}}],\"scatter3d\":[{\"type\":\"scatter3d\",\"line\":{\"colorbar\":{\"outlinewidth\":0,\"ticks\":\"\"}},\"marker\":{\"colorbar\":{\"outlinewidth\":0,\"ticks\":\"\"}}}],\"scattermapbox\":[{\"type\":\"scattermapbox\",\"marker\":{\"colorbar\":{\"outlinewidth\":0,\"ticks\":\"\"}}}],\"scatterternary\":[{\"type\":\"scatterternary\",\"marker\":{\"colorbar\":{\"outlinewidth\":0,\"ticks\":\"\"}}}],\"scattercarpet\":[{\"type\":\"scattercarpet\",\"marker\":{\"colorbar\":{\"outlinewidth\":0,\"ticks\":\"\"}}}],\"carpet\":[{\"aaxis\":{\"endlinecolor\":\"#2a3f5f\",\"gridcolor\":\"white\",\"linecolor\":\"white\",\"minorgridcolor\":\"white\",\"startlinecolor\":\"#2a3f5f\"},\"baxis\":{\"endlinecolor\":\"#2a3f5f\",\"gridcolor\":\"white\",\"linecolor\":\"white\",\"minorgridcolor\":\"white\",\"startlinecolor\":\"#2a3f5f\"},\"type\":\"carpet\"}],\"table\":[{\"cells\":{\"fill\":{\"color\":\"#EBF0F8\"},\"line\":{\"color\":\"white\"}},\"header\":{\"fill\":{\"color\":\"#C8D4E3\"},\"line\":{\"color\":\"white\"}},\"type\":\"table\"}],\"barpolar\":[{\"marker\":{\"line\":{\"color\":\"#E5ECF6\",\"width\":0.5},\"pattern\":{\"fillmode\":\"overlay\",\"size\":10,\"solidity\":0.2}},\"type\":\"barpolar\"}],\"pie\":[{\"automargin\":true,\"type\":\"pie\"}]},\"layout\":{\"autotypenumbers\":\"strict\",\"colorway\":[\"#636efa\",\"#EF553B\",\"#00cc96\",\"#ab63fa\",\"#FFA15A\",\"#19d3f3\",\"#FF6692\",\"#B6E880\",\"#FF97FF\",\"#FECB52\"],\"font\":{\"color\":\"#2a3f5f\"},\"hovermode\":\"closest\",\"hoverlabel\":{\"align\":\"left\"},\"paper_bgcolor\":\"white\",\"plot_bgcolor\":\"#E5ECF6\",\"polar\":{\"bgcolor\":\"#E5ECF6\",\"angularaxis\":{\"gridcolor\":\"white\",\"linecolor\":\"white\",\"ticks\":\"\"},\"radialaxis\":{\"gridcolor\":\"white\",\"linecolor\":\"white\",\"ticks\":\"\"}},\"ternary\":{\"bgcolor\":\"#E5ECF6\",\"aaxis\":{\"gridcolor\":\"white\",\"linecolor\":\"white\",\"ticks\":\"\"},\"baxis\":{\"gridcolor\":\"white\",\"linecolor\":\"white\",\"ticks\":\"\"},\"caxis\":{\"gridcolor\":\"white\",\"linecolor\":\"white\",\"ticks\":\"\"}},\"coloraxis\":{\"colorbar\":{\"outlinewidth\":0,\"ticks\":\"\"}},\"colorscale\":{\"sequential\":[[0.0,\"#0d0887\"],[0.1111111111111111,\"#46039f\"],[0.2222222222222222,\"#7201a8\"],[0.3333333333333333,\"#9c179e\"],[0.4444444444444444,\"#bd3786\"],[0.5555555555555556,\"#d8576b\"],[0.6666666666666666,\"#ed7953\"],[0.7777777777777778,\"#fb9f3a\"],[0.8888888888888888,\"#fdca26\"],[1.0,\"#f0f921\"]],\"sequentialminus\":[[0.0,\"#0d0887\"],[0.1111111111111111,\"#46039f\"],[0.2222222222222222,\"#7201a8\"],[0.3333333333333333,\"#9c179e\"],[0.4444444444444444,\"#bd3786\"],[0.5555555555555556,\"#d8576b\"],[0.6666666666666666,\"#ed7953\"],[0.7777777777777778,\"#fb9f3a\"],[0.8888888888888888,\"#fdca26\"],[1.0,\"#f0f921\"]],\"diverging\":[[0,\"#8e0152\"],[0.1,\"#c51b7d\"],[0.2,\"#de77ae\"],[0.3,\"#f1b6da\"],[0.4,\"#fde0ef\"],[0.5,\"#f7f7f7\"],[0.6,\"#e6f5d0\"],[0.7,\"#b8e186\"],[0.8,\"#7fbc41\"],[0.9,\"#4d9221\"],[1,\"#276419\"]]},\"xaxis\":{\"gridcolor\":\"white\",\"linecolor\":\"white\",\"ticks\":\"\",\"title\":{\"standoff\":15},\"zerolinecolor\":\"white\",\"automargin\":true,\"zerolinewidth\":2},\"yaxis\":{\"gridcolor\":\"white\",\"linecolor\":\"white\",\"ticks\":\"\",\"title\":{\"standoff\":15},\"zerolinecolor\":\"white\",\"automargin\":true,\"zerolinewidth\":2},\"scene\":{\"xaxis\":{\"backgroundcolor\":\"#E5ECF6\",\"gridcolor\":\"white\",\"linecolor\":\"white\",\"showbackground\":true,\"ticks\":\"\",\"zerolinecolor\":\"white\",\"gridwidth\":2},\"yaxis\":{\"backgroundcolor\":\"#E5ECF6\",\"gridcolor\":\"white\",\"linecolor\":\"white\",\"showbackground\":true,\"ticks\":\"\",\"zerolinecolor\":\"white\",\"gridwidth\":2},\"zaxis\":{\"backgroundcolor\":\"#E5ECF6\",\"gridcolor\":\"white\",\"linecolor\":\"white\",\"showbackground\":true,\"ticks\":\"\",\"zerolinecolor\":\"white\",\"gridwidth\":2}},\"shapedefaults\":{\"line\":{\"color\":\"#2a3f5f\"}},\"annotationdefaults\":{\"arrowcolor\":\"#2a3f5f\",\"arrowhead\":0,\"arrowwidth\":1},\"geo\":{\"bgcolor\":\"white\",\"landcolor\":\"#E5ECF6\",\"subunitcolor\":\"white\",\"showland\":true,\"showlakes\":true,\"lakecolor\":\"white\"},\"title\":{\"x\":0.05},\"mapbox\":{\"style\":\"light\"}}},\"xaxis\":{\"anchor\":\"y\",\"domain\":[0.0,1.0],\"title\":{\"text\":\"Production (1000 tons)\"},\"range\":[3179,539299]},\"yaxis\":{\"anchor\":\"x\",\"domain\":[0.0,1.0],\"title\":{\"text\":\"Item\"},\"range\":[-1,5.5]},\"legend\":{\"title\":{\"text\":\"Element\"},\"tracegroupgap\":0,\"itemsizing\":\"constant\"},\"margin\":{\"t\":60},\"updatemenus\":[{\"buttons\":[{\"args\":[null,{\"frame\":{\"duration\":500,\"redraw\":false},\"mode\":\"immediate\",\"fromcurrent\":true,\"transition\":{\"duration\":500,\"easing\":\"linear\"}}],\"label\":\"&#9654;\",\"method\":\"animate\"},{\"args\":[[null],{\"frame\":{\"duration\":0,\"redraw\":false},\"mode\":\"immediate\",\"fromcurrent\":true,\"transition\":{\"duration\":0,\"easing\":\"linear\"}}],\"label\":\"&#9724;\",\"method\":\"animate\"}],\"direction\":\"left\",\"pad\":{\"r\":10,\"t\":70},\"showactive\":false,\"type\":\"buttons\",\"x\":0.1,\"xanchor\":\"right\",\"y\":0,\"yanchor\":\"top\"}],\"sliders\":[{\"active\":0,\"currentvalue\":{\"prefix\":\"Years=\"},\"len\":0.9,\"pad\":{\"b\":10,\"t\":60},\"steps\":[{\"args\":[[\"1961\"],{\"frame\":{\"duration\":0,\"redraw\":false},\"mode\":\"immediate\",\"fromcurrent\":true,\"transition\":{\"duration\":0,\"easing\":\"linear\"}}],\"label\":\"1961\",\"method\":\"animate\"},{\"args\":[[\"1962\"],{\"frame\":{\"duration\":0,\"redraw\":false},\"mode\":\"immediate\",\"fromcurrent\":true,\"transition\":{\"duration\":0,\"easing\":\"linear\"}}],\"label\":\"1962\",\"method\":\"animate\"},{\"args\":[[\"1963\"],{\"frame\":{\"duration\":0,\"redraw\":false},\"mode\":\"immediate\",\"fromcurrent\":true,\"transition\":{\"duration\":0,\"easing\":\"linear\"}}],\"label\":\"1963\",\"method\":\"animate\"},{\"args\":[[\"1964\"],{\"frame\":{\"duration\":0,\"redraw\":false},\"mode\":\"immediate\",\"fromcurrent\":true,\"transition\":{\"duration\":0,\"easing\":\"linear\"}}],\"label\":\"1964\",\"method\":\"animate\"},{\"args\":[[\"1965\"],{\"frame\":{\"duration\":0,\"redraw\":false},\"mode\":\"immediate\",\"fromcurrent\":true,\"transition\":{\"duration\":0,\"easing\":\"linear\"}}],\"label\":\"1965\",\"method\":\"animate\"},{\"args\":[[\"1966\"],{\"frame\":{\"duration\":0,\"redraw\":false},\"mode\":\"immediate\",\"fromcurrent\":true,\"transition\":{\"duration\":0,\"easing\":\"linear\"}}],\"label\":\"1966\",\"method\":\"animate\"},{\"args\":[[\"1967\"],{\"frame\":{\"duration\":0,\"redraw\":false},\"mode\":\"immediate\",\"fromcurrent\":true,\"transition\":{\"duration\":0,\"easing\":\"linear\"}}],\"label\":\"1967\",\"method\":\"animate\"},{\"args\":[[\"1968\"],{\"frame\":{\"duration\":0,\"redraw\":false},\"mode\":\"immediate\",\"fromcurrent\":true,\"transition\":{\"duration\":0,\"easing\":\"linear\"}}],\"label\":\"1968\",\"method\":\"animate\"},{\"args\":[[\"1969\"],{\"frame\":{\"duration\":0,\"redraw\":false},\"mode\":\"immediate\",\"fromcurrent\":true,\"transition\":{\"duration\":0,\"easing\":\"linear\"}}],\"label\":\"1969\",\"method\":\"animate\"},{\"args\":[[\"1970\"],{\"frame\":{\"duration\":0,\"redraw\":false},\"mode\":\"immediate\",\"fromcurrent\":true,\"transition\":{\"duration\":0,\"easing\":\"linear\"}}],\"label\":\"1970\",\"method\":\"animate\"},{\"args\":[[\"1971\"],{\"frame\":{\"duration\":0,\"redraw\":false},\"mode\":\"immediate\",\"fromcurrent\":true,\"transition\":{\"duration\":0,\"easing\":\"linear\"}}],\"label\":\"1971\",\"method\":\"animate\"},{\"args\":[[\"1972\"],{\"frame\":{\"duration\":0,\"redraw\":false},\"mode\":\"immediate\",\"fromcurrent\":true,\"transition\":{\"duration\":0,\"easing\":\"linear\"}}],\"label\":\"1972\",\"method\":\"animate\"},{\"args\":[[\"1973\"],{\"frame\":{\"duration\":0,\"redraw\":false},\"mode\":\"immediate\",\"fromcurrent\":true,\"transition\":{\"duration\":0,\"easing\":\"linear\"}}],\"label\":\"1973\",\"method\":\"animate\"},{\"args\":[[\"1974\"],{\"frame\":{\"duration\":0,\"redraw\":false},\"mode\":\"immediate\",\"fromcurrent\":true,\"transition\":{\"duration\":0,\"easing\":\"linear\"}}],\"label\":\"1974\",\"method\":\"animate\"},{\"args\":[[\"1975\"],{\"frame\":{\"duration\":0,\"redraw\":false},\"mode\":\"immediate\",\"fromcurrent\":true,\"transition\":{\"duration\":0,\"easing\":\"linear\"}}],\"label\":\"1975\",\"method\":\"animate\"},{\"args\":[[\"1976\"],{\"frame\":{\"duration\":0,\"redraw\":false},\"mode\":\"immediate\",\"fromcurrent\":true,\"transition\":{\"duration\":0,\"easing\":\"linear\"}}],\"label\":\"1976\",\"method\":\"animate\"},{\"args\":[[\"1977\"],{\"frame\":{\"duration\":0,\"redraw\":false},\"mode\":\"immediate\",\"fromcurrent\":true,\"transition\":{\"duration\":0,\"easing\":\"linear\"}}],\"label\":\"1977\",\"method\":\"animate\"},{\"args\":[[\"1978\"],{\"frame\":{\"duration\":0,\"redraw\":false},\"mode\":\"immediate\",\"fromcurrent\":true,\"transition\":{\"duration\":0,\"easing\":\"linear\"}}],\"label\":\"1978\",\"method\":\"animate\"},{\"args\":[[\"1979\"],{\"frame\":{\"duration\":0,\"redraw\":false},\"mode\":\"immediate\",\"fromcurrent\":true,\"transition\":{\"duration\":0,\"easing\":\"linear\"}}],\"label\":\"1979\",\"method\":\"animate\"},{\"args\":[[\"1980\"],{\"frame\":{\"duration\":0,\"redraw\":false},\"mode\":\"immediate\",\"fromcurrent\":true,\"transition\":{\"duration\":0,\"easing\":\"linear\"}}],\"label\":\"1980\",\"method\":\"animate\"},{\"args\":[[\"1981\"],{\"frame\":{\"duration\":0,\"redraw\":false},\"mode\":\"immediate\",\"fromcurrent\":true,\"transition\":{\"duration\":0,\"easing\":\"linear\"}}],\"label\":\"1981\",\"method\":\"animate\"},{\"args\":[[\"1982\"],{\"frame\":{\"duration\":0,\"redraw\":false},\"mode\":\"immediate\",\"fromcurrent\":true,\"transition\":{\"duration\":0,\"easing\":\"linear\"}}],\"label\":\"1982\",\"method\":\"animate\"},{\"args\":[[\"1983\"],{\"frame\":{\"duration\":0,\"redraw\":false},\"mode\":\"immediate\",\"fromcurrent\":true,\"transition\":{\"duration\":0,\"easing\":\"linear\"}}],\"label\":\"1983\",\"method\":\"animate\"},{\"args\":[[\"1984\"],{\"frame\":{\"duration\":0,\"redraw\":false},\"mode\":\"immediate\",\"fromcurrent\":true,\"transition\":{\"duration\":0,\"easing\":\"linear\"}}],\"label\":\"1984\",\"method\":\"animate\"},{\"args\":[[\"1985\"],{\"frame\":{\"duration\":0,\"redraw\":false},\"mode\":\"immediate\",\"fromcurrent\":true,\"transition\":{\"duration\":0,\"easing\":\"linear\"}}],\"label\":\"1985\",\"method\":\"animate\"},{\"args\":[[\"1986\"],{\"frame\":{\"duration\":0,\"redraw\":false},\"mode\":\"immediate\",\"fromcurrent\":true,\"transition\":{\"duration\":0,\"easing\":\"linear\"}}],\"label\":\"1986\",\"method\":\"animate\"},{\"args\":[[\"1987\"],{\"frame\":{\"duration\":0,\"redraw\":false},\"mode\":\"immediate\",\"fromcurrent\":true,\"transition\":{\"duration\":0,\"easing\":\"linear\"}}],\"label\":\"1987\",\"method\":\"animate\"},{\"args\":[[\"1988\"],{\"frame\":{\"duration\":0,\"redraw\":false},\"mode\":\"immediate\",\"fromcurrent\":true,\"transition\":{\"duration\":0,\"easing\":\"linear\"}}],\"label\":\"1988\",\"method\":\"animate\"},{\"args\":[[\"1989\"],{\"frame\":{\"duration\":0,\"redraw\":false},\"mode\":\"immediate\",\"fromcurrent\":true,\"transition\":{\"duration\":0,\"easing\":\"linear\"}}],\"label\":\"1989\",\"method\":\"animate\"},{\"args\":[[\"1990\"],{\"frame\":{\"duration\":0,\"redraw\":false},\"mode\":\"immediate\",\"fromcurrent\":true,\"transition\":{\"duration\":0,\"easing\":\"linear\"}}],\"label\":\"1990\",\"method\":\"animate\"},{\"args\":[[\"1991\"],{\"frame\":{\"duration\":0,\"redraw\":false},\"mode\":\"immediate\",\"fromcurrent\":true,\"transition\":{\"duration\":0,\"easing\":\"linear\"}}],\"label\":\"1991\",\"method\":\"animate\"},{\"args\":[[\"1992\"],{\"frame\":{\"duration\":0,\"redraw\":false},\"mode\":\"immediate\",\"fromcurrent\":true,\"transition\":{\"duration\":0,\"easing\":\"linear\"}}],\"label\":\"1992\",\"method\":\"animate\"},{\"args\":[[\"1993\"],{\"frame\":{\"duration\":0,\"redraw\":false},\"mode\":\"immediate\",\"fromcurrent\":true,\"transition\":{\"duration\":0,\"easing\":\"linear\"}}],\"label\":\"1993\",\"method\":\"animate\"},{\"args\":[[\"1994\"],{\"frame\":{\"duration\":0,\"redraw\":false},\"mode\":\"immediate\",\"fromcurrent\":true,\"transition\":{\"duration\":0,\"easing\":\"linear\"}}],\"label\":\"1994\",\"method\":\"animate\"},{\"args\":[[\"1995\"],{\"frame\":{\"duration\":0,\"redraw\":false},\"mode\":\"immediate\",\"fromcurrent\":true,\"transition\":{\"duration\":0,\"easing\":\"linear\"}}],\"label\":\"1995\",\"method\":\"animate\"},{\"args\":[[\"1996\"],{\"frame\":{\"duration\":0,\"redraw\":false},\"mode\":\"immediate\",\"fromcurrent\":true,\"transition\":{\"duration\":0,\"easing\":\"linear\"}}],\"label\":\"1996\",\"method\":\"animate\"},{\"args\":[[\"1997\"],{\"frame\":{\"duration\":0,\"redraw\":false},\"mode\":\"immediate\",\"fromcurrent\":true,\"transition\":{\"duration\":0,\"easing\":\"linear\"}}],\"label\":\"1997\",\"method\":\"animate\"},{\"args\":[[\"1998\"],{\"frame\":{\"duration\":0,\"redraw\":false},\"mode\":\"immediate\",\"fromcurrent\":true,\"transition\":{\"duration\":0,\"easing\":\"linear\"}}],\"label\":\"1998\",\"method\":\"animate\"},{\"args\":[[\"1999\"],{\"frame\":{\"duration\":0,\"redraw\":false},\"mode\":\"immediate\",\"fromcurrent\":true,\"transition\":{\"duration\":0,\"easing\":\"linear\"}}],\"label\":\"1999\",\"method\":\"animate\"},{\"args\":[[\"2000\"],{\"frame\":{\"duration\":0,\"redraw\":false},\"mode\":\"immediate\",\"fromcurrent\":true,\"transition\":{\"duration\":0,\"easing\":\"linear\"}}],\"label\":\"2000\",\"method\":\"animate\"},{\"args\":[[\"2001\"],{\"frame\":{\"duration\":0,\"redraw\":false},\"mode\":\"immediate\",\"fromcurrent\":true,\"transition\":{\"duration\":0,\"easing\":\"linear\"}}],\"label\":\"2001\",\"method\":\"animate\"},{\"args\":[[\"2002\"],{\"frame\":{\"duration\":0,\"redraw\":false},\"mode\":\"immediate\",\"fromcurrent\":true,\"transition\":{\"duration\":0,\"easing\":\"linear\"}}],\"label\":\"2002\",\"method\":\"animate\"},{\"args\":[[\"2003\"],{\"frame\":{\"duration\":0,\"redraw\":false},\"mode\":\"immediate\",\"fromcurrent\":true,\"transition\":{\"duration\":0,\"easing\":\"linear\"}}],\"label\":\"2003\",\"method\":\"animate\"},{\"args\":[[\"2004\"],{\"frame\":{\"duration\":0,\"redraw\":false},\"mode\":\"immediate\",\"fromcurrent\":true,\"transition\":{\"duration\":0,\"easing\":\"linear\"}}],\"label\":\"2004\",\"method\":\"animate\"},{\"args\":[[\"2005\"],{\"frame\":{\"duration\":0,\"redraw\":false},\"mode\":\"immediate\",\"fromcurrent\":true,\"transition\":{\"duration\":0,\"easing\":\"linear\"}}],\"label\":\"2005\",\"method\":\"animate\"},{\"args\":[[\"2006\"],{\"frame\":{\"duration\":0,\"redraw\":false},\"mode\":\"immediate\",\"fromcurrent\":true,\"transition\":{\"duration\":0,\"easing\":\"linear\"}}],\"label\":\"2006\",\"method\":\"animate\"},{\"args\":[[\"2007\"],{\"frame\":{\"duration\":0,\"redraw\":false},\"mode\":\"immediate\",\"fromcurrent\":true,\"transition\":{\"duration\":0,\"easing\":\"linear\"}}],\"label\":\"2007\",\"method\":\"animate\"},{\"args\":[[\"2008\"],{\"frame\":{\"duration\":0,\"redraw\":false},\"mode\":\"immediate\",\"fromcurrent\":true,\"transition\":{\"duration\":0,\"easing\":\"linear\"}}],\"label\":\"2008\",\"method\":\"animate\"},{\"args\":[[\"2009\"],{\"frame\":{\"duration\":0,\"redraw\":false},\"mode\":\"immediate\",\"fromcurrent\":true,\"transition\":{\"duration\":0,\"easing\":\"linear\"}}],\"label\":\"2009\",\"method\":\"animate\"},{\"args\":[[\"2010\"],{\"frame\":{\"duration\":0,\"redraw\":false},\"mode\":\"immediate\",\"fromcurrent\":true,\"transition\":{\"duration\":0,\"easing\":\"linear\"}}],\"label\":\"2010\",\"method\":\"animate\"},{\"args\":[[\"2011\"],{\"frame\":{\"duration\":0,\"redraw\":false},\"mode\":\"immediate\",\"fromcurrent\":true,\"transition\":{\"duration\":0,\"easing\":\"linear\"}}],\"label\":\"2011\",\"method\":\"animate\"},{\"args\":[[\"2012\"],{\"frame\":{\"duration\":0,\"redraw\":false},\"mode\":\"immediate\",\"fromcurrent\":true,\"transition\":{\"duration\":0,\"easing\":\"linear\"}}],\"label\":\"2012\",\"method\":\"animate\"},{\"args\":[[\"2013\"],{\"frame\":{\"duration\":0,\"redraw\":false},\"mode\":\"immediate\",\"fromcurrent\":true,\"transition\":{\"duration\":0,\"easing\":\"linear\"}}],\"label\":\"2013\",\"method\":\"animate\"}],\"x\":0.1,\"xanchor\":\"left\",\"y\":0,\"yanchor\":\"top\"}],\"title\":{\"text\":\"Storyline of China's top 3 Food and Feed items produced in 2013\",\"x\":0.5,\"y\":0.95,\"xanchor\":\"center\",\"yanchor\":\"top\"}},                        {\"responsive\": true}                    ).then(function(){\n",
       "                            Plotly.addFrames('de0256ff-87ab-4f3c-ac21-7197a3d8e7a4', [{\"data\":[{\"hovertemplate\":\"<b>%{hovertext}</b><br><br>Element=Feed<br>Years=1961<br>Production=%{marker.size}<extra></extra>\",\"hovertext\":[\"Starchy Roots\",\"Maize and products\",\"Cereals - Excluding Beer\"],\"legendgroup\":\"Feed\",\"marker\":{\"color\":\"brown\",\"size\":[8179,13700,17963],\"sizemode\":\"area\",\"sizeref\":76.45296875,\"symbol\":\"circle\"},\"mode\":\"markers\",\"name\":\"Feed\",\"orientation\":\"h\",\"showlegend\":true,\"x\":[8179,13700,17963],\"xaxis\":\"x\",\"y\":[\"Starchy Roots\",\"Maize and products\",\"Cereals - Excluding Beer\"],\"yaxis\":\"y\",\"type\":\"scatter\"},{\"hovertemplate\":\"<b>%{hovertext}</b><br><br>Element=Food<br>Years=1961<br>Production=%{marker.size}<extra></extra>\",\"hovertext\":[\"Vegetables, Other\",\"Vegetables\",\"Cereals - Excluding Beer\"],\"legendgroup\":\"Food\",\"marker\":{\"color\":\"orange\",\"size\":[44728,52968,59256],\"sizemode\":\"area\",\"sizeref\":76.45296875,\"symbol\":\"circle\"},\"mode\":\"markers\",\"name\":\"Food\",\"orientation\":\"h\",\"showlegend\":true,\"x\":[44728,52968,59256],\"xaxis\":\"x\",\"y\":[\"Vegetables, Other\",\"Vegetables\",\"Cereals - Excluding Beer\"],\"yaxis\":\"y\",\"type\":\"scatter\"}],\"name\":\"1961\"},{\"data\":[{\"hovertemplate\":\"<b>%{hovertext}</b><br><br>Element=Feed<br>Years=1962<br>Production=%{marker.size}<extra></extra>\",\"hovertext\":[\"Maize and products\",\"Starchy Roots\",\"Cereals - Excluding Beer\"],\"legendgroup\":\"Feed\",\"marker\":{\"color\":\"brown\",\"size\":[11795,13172,17223],\"sizemode\":\"area\",\"sizeref\":76.45296875,\"symbol\":\"circle\"},\"mode\":\"markers\",\"name\":\"Feed\",\"orientation\":\"h\",\"showlegend\":true,\"x\":[11795,13172,17223],\"xaxis\":\"x\",\"y\":[\"Maize and products\",\"Starchy Roots\",\"Cereals - Excluding Beer\"],\"yaxis\":\"y\",\"type\":\"scatter\"},{\"hovertemplate\":\"<b>%{hovertext}</b><br><br>Element=Food<br>Years=1962<br>Production=%{marker.size}<extra></extra>\",\"hovertext\":[\"Vegetables, Other\",\"Vegetables\",\"Cereals - Excluding Beer\"],\"legendgroup\":\"Food\",\"marker\":{\"color\":\"orange\",\"size\":[41160,49318,66145],\"sizemode\":\"area\",\"sizeref\":76.45296875,\"symbol\":\"circle\"},\"mode\":\"markers\",\"name\":\"Food\",\"orientation\":\"h\",\"showlegend\":true,\"x\":[41160,49318,66145],\"xaxis\":\"x\",\"y\":[\"Vegetables, Other\",\"Vegetables\",\"Cereals - Excluding Beer\"],\"yaxis\":\"y\",\"type\":\"scatter\"}],\"name\":\"1962\"},{\"data\":[{\"hovertemplate\":\"<b>%{hovertext}</b><br><br>Element=Feed<br>Years=1963<br>Production=%{marker.size}<extra></extra>\",\"hovertext\":[\"Starchy Roots\",\"Maize and products\",\"Cereals - Excluding Beer\"],\"legendgroup\":\"Feed\",\"marker\":{\"color\":\"brown\",\"size\":[14173,15570,22079],\"sizemode\":\"area\",\"sizeref\":76.45296875,\"symbol\":\"circle\"},\"mode\":\"markers\",\"name\":\"Feed\",\"orientation\":\"h\",\"showlegend\":true,\"x\":[14173,15570,22079],\"xaxis\":\"x\",\"y\":[\"Starchy Roots\",\"Maize and products\",\"Cereals - Excluding Beer\"],\"yaxis\":\"y\",\"type\":\"scatter\"},{\"hovertemplate\":\"<b>%{hovertext}</b><br><br>Element=Food<br>Years=1963<br>Production=%{marker.size}<extra></extra>\",\"hovertext\":[\"Vegetables, Other\",\"Vegetables\",\"Cereals - Excluding Beer\"],\"legendgroup\":\"Food\",\"marker\":{\"color\":\"orange\",\"size\":[36386,43635,74029],\"sizemode\":\"area\",\"sizeref\":76.45296875,\"symbol\":\"circle\"},\"mode\":\"markers\",\"name\":\"Food\",\"orientation\":\"h\",\"showlegend\":true,\"x\":[36386,43635,74029],\"xaxis\":\"x\",\"y\":[\"Vegetables, Other\",\"Vegetables\",\"Cereals - Excluding Beer\"],\"yaxis\":\"y\",\"type\":\"scatter\"}],\"name\":\"1963\"},{\"data\":[{\"hovertemplate\":\"<b>%{hovertext}</b><br><br>Element=Feed<br>Years=1964<br>Production=%{marker.size}<extra></extra>\",\"hovertext\":[\"Starchy Roots\",\"Maize and products\",\"Cereals - Excluding Beer\"],\"legendgroup\":\"Feed\",\"marker\":{\"color\":\"brown\",\"size\":[16678,17223,24049],\"sizemode\":\"area\",\"sizeref\":76.45296875,\"symbol\":\"circle\"},\"mode\":\"markers\",\"name\":\"Feed\",\"orientation\":\"h\",\"showlegend\":true,\"x\":[16678,17223,24049],\"xaxis\":\"x\",\"y\":[\"Starchy Roots\",\"Maize and products\",\"Cereals - Excluding Beer\"],\"yaxis\":\"y\",\"type\":\"scatter\"},{\"hovertemplate\":\"<b>%{hovertext}</b><br><br>Element=Food<br>Years=1964<br>Production=%{marker.size}<extra></extra>\",\"hovertext\":[\"Vegetables, Other\",\"Vegetables\",\"Cereals - Excluding Beer\"],\"legendgroup\":\"Food\",\"marker\":{\"color\":\"orange\",\"size\":[32669,39097,81048],\"sizemode\":\"area\",\"sizeref\":76.45296875,\"symbol\":\"circle\"},\"mode\":\"markers\",\"name\":\"Food\",\"orientation\":\"h\",\"showlegend\":true,\"x\":[32669,39097,81048],\"xaxis\":\"x\",\"y\":[\"Vegetables, Other\",\"Vegetables\",\"Cereals - Excluding Beer\"],\"yaxis\":\"y\",\"type\":\"scatter\"}],\"name\":\"1964\"},{\"data\":[{\"hovertemplate\":\"<b>%{hovertext}</b><br><br>Element=Feed<br>Years=1965<br>Production=%{marker.size}<extra></extra>\",\"hovertext\":[\"Maize and products\",\"Starchy Roots\",\"Cereals - Excluding Beer\"],\"legendgroup\":\"Feed\",\"marker\":{\"color\":\"brown\",\"size\":[17565,17680,24981],\"sizemode\":\"area\",\"sizeref\":76.45296875,\"symbol\":\"circle\"},\"mode\":\"markers\",\"name\":\"Feed\",\"orientation\":\"h\",\"showlegend\":true,\"x\":[17565,17680,24981],\"xaxis\":\"x\",\"y\":[\"Maize and products\",\"Starchy Roots\",\"Cereals - Excluding Beer\"],\"yaxis\":\"y\",\"type\":\"scatter\"},{\"hovertemplate\":\"<b>%{hovertext}</b><br><br>Element=Food<br>Years=1965<br>Production=%{marker.size}<extra></extra>\",\"hovertext\":[\"Vegetables, Other\",\"Vegetables\",\"Cereals - Excluding Beer\"],\"legendgroup\":\"Food\",\"marker\":{\"color\":\"orange\",\"size\":[34685,41449,88579],\"sizemode\":\"area\",\"sizeref\":76.45296875,\"symbol\":\"circle\"},\"mode\":\"markers\",\"name\":\"Food\",\"orientation\":\"h\",\"showlegend\":true,\"x\":[34685,41449,88579],\"xaxis\":\"x\",\"y\":[\"Vegetables, Other\",\"Vegetables\",\"Cereals - Excluding Beer\"],\"yaxis\":\"y\",\"type\":\"scatter\"}],\"name\":\"1965\"},{\"data\":[{\"hovertemplate\":\"<b>%{hovertext}</b><br><br>Element=Feed<br>Years=1966<br>Production=%{marker.size}<extra></extra>\",\"hovertext\":[\"Starchy Roots\",\"Maize and products\",\"Cereals - Excluding Beer\"],\"legendgroup\":\"Feed\",\"marker\":{\"color\":\"brown\",\"size\":[20210,22520,30789],\"sizemode\":\"area\",\"sizeref\":76.45296875,\"symbol\":\"circle\"},\"mode\":\"markers\",\"name\":\"Feed\",\"orientation\":\"h\",\"showlegend\":true,\"x\":[20210,22520,30789],\"xaxis\":\"x\",\"y\":[\"Starchy Roots\",\"Maize and products\",\"Cereals - Excluding Beer\"],\"yaxis\":\"y\",\"type\":\"scatter\"},{\"hovertemplate\":\"<b>%{hovertext}</b><br><br>Element=Food<br>Years=1966<br>Production=%{marker.size}<extra></extra>\",\"hovertext\":[\"Vegetables, Other\",\"Vegetables\",\"Cereals - Excluding Beer\"],\"legendgroup\":\"Food\",\"marker\":{\"color\":\"orange\",\"size\":[34236,40808,93392],\"sizemode\":\"area\",\"sizeref\":76.45296875,\"symbol\":\"circle\"},\"mode\":\"markers\",\"name\":\"Food\",\"orientation\":\"h\",\"showlegend\":true,\"x\":[34236,40808,93392],\"xaxis\":\"x\",\"y\":[\"Vegetables, Other\",\"Vegetables\",\"Cereals - Excluding Beer\"],\"yaxis\":\"y\",\"type\":\"scatter\"}],\"name\":\"1966\"},{\"data\":[{\"hovertemplate\":\"<b>%{hovertext}</b><br><br>Element=Feed<br>Years=1967<br>Production=%{marker.size}<extra></extra>\",\"hovertext\":[\"Starchy Roots\",\"Maize and products\",\"Cereals - Excluding Beer\"],\"legendgroup\":\"Feed\",\"marker\":{\"color\":\"brown\",\"size\":[21261,24350,32531],\"sizemode\":\"area\",\"sizeref\":76.45296875,\"symbol\":\"circle\"},\"mode\":\"markers\",\"name\":\"Feed\",\"orientation\":\"h\",\"showlegend\":true,\"x\":[21261,24350,32531],\"xaxis\":\"x\",\"y\":[\"Starchy Roots\",\"Maize and products\",\"Cereals - Excluding Beer\"],\"yaxis\":\"y\",\"type\":\"scatter\"},{\"hovertemplate\":\"<b>%{hovertext}</b><br><br>Element=Food<br>Years=1967<br>Production=%{marker.size}<extra></extra>\",\"hovertext\":[\"Vegetables, Other\",\"Vegetables\",\"Cereals - Excluding Beer\"],\"legendgroup\":\"Food\",\"marker\":{\"color\":\"orange\",\"size\":[34854,41524,93557],\"sizemode\":\"area\",\"sizeref\":76.45296875,\"symbol\":\"circle\"},\"mode\":\"markers\",\"name\":\"Food\",\"orientation\":\"h\",\"showlegend\":true,\"x\":[34854,41524,93557],\"xaxis\":\"x\",\"y\":[\"Vegetables, Other\",\"Vegetables\",\"Cereals - Excluding Beer\"],\"yaxis\":\"y\",\"type\":\"scatter\"}],\"name\":\"1967\"},{\"data\":[{\"hovertemplate\":\"<b>%{hovertext}</b><br><br>Element=Feed<br>Years=1968<br>Production=%{marker.size}<extra></extra>\",\"hovertext\":[\"Starchy Roots\",\"Maize and products\",\"Cereals - Excluding Beer\"],\"legendgroup\":\"Feed\",\"marker\":{\"color\":\"brown\",\"size\":[21793,22450,30668],\"sizemode\":\"area\",\"sizeref\":76.45296875,\"symbol\":\"circle\"},\"mode\":\"markers\",\"name\":\"Feed\",\"orientation\":\"h\",\"showlegend\":true,\"x\":[21793,22450,30668],\"xaxis\":\"x\",\"y\":[\"Starchy Roots\",\"Maize and products\",\"Cereals - Excluding Beer\"],\"yaxis\":\"y\",\"type\":\"scatter\"},{\"hovertemplate\":\"<b>%{hovertext}</b><br><br>Element=Food<br>Years=1968<br>Production=%{marker.size}<extra></extra>\",\"hovertext\":[\"Vegetables, Other\",\"Vegetables\",\"Cereals - Excluding Beer\"],\"legendgroup\":\"Food\",\"marker\":{\"color\":\"orange\",\"size\":[36717,43742,93501],\"sizemode\":\"area\",\"sizeref\":76.45296875,\"symbol\":\"circle\"},\"mode\":\"markers\",\"name\":\"Food\",\"orientation\":\"h\",\"showlegend\":true,\"x\":[36717,43742,93501],\"xaxis\":\"x\",\"y\":[\"Vegetables, Other\",\"Vegetables\",\"Cereals - Excluding Beer\"],\"yaxis\":\"y\",\"type\":\"scatter\"}],\"name\":\"1968\"},{\"data\":[{\"hovertemplate\":\"<b>%{hovertext}</b><br><br>Element=Feed<br>Years=1969<br>Production=%{marker.size}<extra></extra>\",\"hovertext\":[\"Maize and products\",\"Starchy Roots\",\"Cereals - Excluding Beer\"],\"legendgroup\":\"Feed\",\"marker\":{\"color\":\"brown\",\"size\":[21700,22715,29967],\"sizemode\":\"area\",\"sizeref\":76.45296875,\"symbol\":\"circle\"},\"mode\":\"markers\",\"name\":\"Feed\",\"orientation\":\"h\",\"showlegend\":true,\"x\":[21700,22715,29967],\"xaxis\":\"x\",\"y\":[\"Maize and products\",\"Starchy Roots\",\"Cereals - Excluding Beer\"],\"yaxis\":\"y\",\"type\":\"scatter\"},{\"hovertemplate\":\"<b>%{hovertext}</b><br><br>Element=Food<br>Years=1969<br>Production=%{marker.size}<extra></extra>\",\"hovertext\":[\"Vegetables, Other\",\"Vegetables\",\"Cereals - Excluding Beer\"],\"legendgroup\":\"Food\",\"marker\":{\"color\":\"orange\",\"size\":[37728,45077,93301],\"sizemode\":\"area\",\"sizeref\":76.45296875,\"symbol\":\"circle\"},\"mode\":\"markers\",\"name\":\"Food\",\"orientation\":\"h\",\"showlegend\":true,\"x\":[37728,45077,93301],\"xaxis\":\"x\",\"y\":[\"Vegetables, Other\",\"Vegetables\",\"Cereals - Excluding Beer\"],\"yaxis\":\"y\",\"type\":\"scatter\"}],\"name\":\"1969\"},{\"data\":[{\"hovertemplate\":\"<b>%{hovertext}</b><br><br>Element=Feed<br>Years=1970<br>Production=%{marker.size}<extra></extra>\",\"hovertext\":[\"Maize and products\",\"Starchy Roots\",\"Cereals - Excluding Beer\"],\"legendgroup\":\"Feed\",\"marker\":{\"color\":\"brown\",\"size\":[25780,28287,35069],\"sizemode\":\"area\",\"sizeref\":76.45296875,\"symbol\":\"circle\"},\"mode\":\"markers\",\"name\":\"Feed\",\"orientation\":\"h\",\"showlegend\":true,\"x\":[25780,28287,35069],\"xaxis\":\"x\",\"y\":[\"Maize and products\",\"Starchy Roots\",\"Cereals - Excluding Beer\"],\"yaxis\":\"y\",\"type\":\"scatter\"},{\"hovertemplate\":\"<b>%{hovertext}</b><br><br>Element=Food<br>Years=1970<br>Production=%{marker.size}<extra></extra>\",\"hovertext\":[\"Vegetables, Other\",\"Vegetables\",\"Cereals - Excluding Beer\"],\"legendgroup\":\"Food\",\"marker\":{\"color\":\"orange\",\"size\":[30575,36375,104244],\"sizemode\":\"area\",\"sizeref\":76.45296875,\"symbol\":\"circle\"},\"mode\":\"markers\",\"name\":\"Food\",\"orientation\":\"h\",\"showlegend\":true,\"x\":[30575,36375,104244],\"xaxis\":\"x\",\"y\":[\"Vegetables, Other\",\"Vegetables\",\"Cereals - Excluding Beer\"],\"yaxis\":\"y\",\"type\":\"scatter\"}],\"name\":\"1970\"},{\"data\":[{\"hovertemplate\":\"<b>%{hovertext}</b><br><br>Element=Feed<br>Years=1971<br>Production=%{marker.size}<extra></extra>\",\"hovertext\":[\"Starchy Roots\",\"Maize and products\",\"Cereals - Excluding Beer\"],\"legendgroup\":\"Feed\",\"marker\":{\"color\":\"brown\",\"size\":[26366,27900,37363],\"sizemode\":\"area\",\"sizeref\":76.45296875,\"symbol\":\"circle\"},\"mode\":\"markers\",\"name\":\"Feed\",\"orientation\":\"h\",\"showlegend\":true,\"x\":[26366,27900,37363],\"xaxis\":\"x\",\"y\":[\"Starchy Roots\",\"Maize and products\",\"Cereals - Excluding Beer\"],\"yaxis\":\"y\",\"type\":\"scatter\"},{\"hovertemplate\":\"<b>%{hovertext}</b><br><br>Element=Food<br>Years=1971<br>Production=%{marker.size}<extra></extra>\",\"hovertext\":[\"Vegetables, Other\",\"Vegetables\",\"Cereals - Excluding Beer\"],\"legendgroup\":\"Food\",\"marker\":{\"color\":\"orange\",\"size\":[34157,40620,108121],\"sizemode\":\"area\",\"sizeref\":76.45296875,\"symbol\":\"circle\"},\"mode\":\"markers\",\"name\":\"Food\",\"orientation\":\"h\",\"showlegend\":true,\"x\":[34157,40620,108121],\"xaxis\":\"x\",\"y\":[\"Vegetables, Other\",\"Vegetables\",\"Cereals - Excluding Beer\"],\"yaxis\":\"y\",\"type\":\"scatter\"}],\"name\":\"1971\"},{\"data\":[{\"hovertemplate\":\"<b>%{hovertext}</b><br><br>Element=Feed<br>Years=1972<br>Production=%{marker.size}<extra></extra>\",\"hovertext\":[\"Starchy Roots\",\"Maize and products\",\"Cereals - Excluding Beer\"],\"legendgroup\":\"Feed\",\"marker\":{\"color\":\"brown\",\"size\":[24968,25200,34658],\"sizemode\":\"area\",\"sizeref\":76.45296875,\"symbol\":\"circle\"},\"mode\":\"markers\",\"name\":\"Feed\",\"orientation\":\"h\",\"showlegend\":true,\"x\":[24968,25200,34658],\"xaxis\":\"x\",\"y\":[\"Starchy Roots\",\"Maize and products\",\"Cereals - Excluding Beer\"],\"yaxis\":\"y\",\"type\":\"scatter\"},{\"hovertemplate\":\"<b>%{hovertext}</b><br><br>Element=Food<br>Years=1972<br>Production=%{marker.size}<extra></extra>\",\"hovertext\":[\"Vegetables, Other\",\"Vegetables\",\"Cereals - Excluding Beer\"],\"legendgroup\":\"Food\",\"marker\":{\"color\":\"orange\",\"size\":[31171,37069,110178],\"sizemode\":\"area\",\"sizeref\":76.45296875,\"symbol\":\"circle\"},\"mode\":\"markers\",\"name\":\"Food\",\"orientation\":\"h\",\"showlegend\":true,\"x\":[31171,37069,110178],\"xaxis\":\"x\",\"y\":[\"Vegetables, Other\",\"Vegetables\",\"Cereals - Excluding Beer\"],\"yaxis\":\"y\",\"type\":\"scatter\"}],\"name\":\"1972\"},{\"data\":[{\"hovertemplate\":\"<b>%{hovertext}</b><br><br>Element=Feed<br>Years=1973<br>Production=%{marker.size}<extra></extra>\",\"hovertext\":[\"Maize and products\",\"Starchy Roots\",\"Cereals - Excluding Beer\"],\"legendgroup\":\"Feed\",\"marker\":{\"color\":\"brown\",\"size\":[30740,36483,40943],\"sizemode\":\"area\",\"sizeref\":76.45296875,\"symbol\":\"circle\"},\"mode\":\"markers\",\"name\":\"Feed\",\"orientation\":\"h\",\"showlegend\":true,\"x\":[30740,36483,40943],\"xaxis\":\"x\",\"y\":[\"Maize and products\",\"Starchy Roots\",\"Cereals - Excluding Beer\"],\"yaxis\":\"y\",\"type\":\"scatter\"},{\"hovertemplate\":\"<b>%{hovertext}</b><br><br>Element=Food<br>Years=1973<br>Production=%{marker.size}<extra></extra>\",\"hovertext\":[\"Vegetables, Other\",\"Vegetables\",\"Cereals - Excluding Beer\"],\"legendgroup\":\"Food\",\"marker\":{\"color\":\"orange\",\"size\":[35066,41444,114836],\"sizemode\":\"area\",\"sizeref\":76.45296875,\"symbol\":\"circle\"},\"mode\":\"markers\",\"name\":\"Food\",\"orientation\":\"h\",\"showlegend\":true,\"x\":[35066,41444,114836],\"xaxis\":\"x\",\"y\":[\"Vegetables, Other\",\"Vegetables\",\"Cereals - Excluding Beer\"],\"yaxis\":\"y\",\"type\":\"scatter\"}],\"name\":\"1973\"},{\"data\":[{\"hovertemplate\":\"<b>%{hovertext}</b><br><br>Element=Feed<br>Years=1974<br>Production=%{marker.size}<extra></extra>\",\"hovertext\":[\"Maize and products\",\"Starchy Roots\",\"Cereals - Excluding Beer\"],\"legendgroup\":\"Feed\",\"marker\":{\"color\":\"brown\",\"size\":[33990,34447,44421],\"sizemode\":\"area\",\"sizeref\":76.45296875,\"symbol\":\"circle\"},\"mode\":\"markers\",\"name\":\"Feed\",\"orientation\":\"h\",\"showlegend\":true,\"x\":[33990,34447,44421],\"xaxis\":\"x\",\"y\":[\"Maize and products\",\"Starchy Roots\",\"Cereals - Excluding Beer\"],\"yaxis\":\"y\",\"type\":\"scatter\"},{\"hovertemplate\":\"<b>%{hovertext}</b><br><br>Element=Food<br>Years=1974<br>Production=%{marker.size}<extra></extra>\",\"hovertext\":[\"Vegetables, Other\",\"Vegetables\",\"Cereals - Excluding Beer\"],\"legendgroup\":\"Food\",\"marker\":{\"color\":\"orange\",\"size\":[35077,41519,118872],\"sizemode\":\"area\",\"sizeref\":76.45296875,\"symbol\":\"circle\"},\"mode\":\"markers\",\"name\":\"Food\",\"orientation\":\"h\",\"showlegend\":true,\"x\":[35077,41519,118872],\"xaxis\":\"x\",\"y\":[\"Vegetables, Other\",\"Vegetables\",\"Cereals - Excluding Beer\"],\"yaxis\":\"y\",\"type\":\"scatter\"}],\"name\":\"1974\"},{\"data\":[{\"hovertemplate\":\"<b>%{hovertext}</b><br><br>Element=Feed<br>Years=1975<br>Production=%{marker.size}<extra></extra>\",\"hovertext\":[\"Starchy Roots\",\"Maize and products\",\"Cereals - Excluding Beer\"],\"legendgroup\":\"Feed\",\"marker\":{\"color\":\"brown\",\"size\":[33448,37400,47906],\"sizemode\":\"area\",\"sizeref\":76.45296875,\"symbol\":\"circle\"},\"mode\":\"markers\",\"name\":\"Feed\",\"orientation\":\"h\",\"showlegend\":true,\"x\":[33448,37400,47906],\"xaxis\":\"x\",\"y\":[\"Starchy Roots\",\"Maize and products\",\"Cereals - Excluding Beer\"],\"yaxis\":\"y\",\"type\":\"scatter\"},{\"hovertemplate\":\"<b>%{hovertext}</b><br><br>Element=Food<br>Years=1975<br>Production=%{marker.size}<extra></extra>\",\"hovertext\":[\"Vegetables, Other\",\"Vegetables\",\"Cereals - Excluding Beer\"],\"legendgroup\":\"Food\",\"marker\":{\"color\":\"orange\",\"size\":[36252,42878,123842],\"sizemode\":\"area\",\"sizeref\":76.45296875,\"symbol\":\"circle\"},\"mode\":\"markers\",\"name\":\"Food\",\"orientation\":\"h\",\"showlegend\":true,\"x\":[36252,42878,123842],\"xaxis\":\"x\",\"y\":[\"Vegetables, Other\",\"Vegetables\",\"Cereals - Excluding Beer\"],\"yaxis\":\"y\",\"type\":\"scatter\"}],\"name\":\"1975\"},{\"data\":[{\"hovertemplate\":\"<b>%{hovertext}</b><br><br>Element=Feed<br>Years=1976<br>Production=%{marker.size}<extra></extra>\",\"hovertext\":[\"Starchy Roots\",\"Maize and products\",\"Cereals - Excluding Beer\"],\"legendgroup\":\"Feed\",\"marker\":{\"color\":\"brown\",\"size\":[31650,38100,48998],\"sizemode\":\"area\",\"sizeref\":76.45296875,\"symbol\":\"circle\"},\"mode\":\"markers\",\"name\":\"Feed\",\"orientation\":\"h\",\"showlegend\":true,\"x\":[31650,38100,48998],\"xaxis\":\"x\",\"y\":[\"Starchy Roots\",\"Maize and products\",\"Cereals - Excluding Beer\"],\"yaxis\":\"y\",\"type\":\"scatter\"},{\"hovertemplate\":\"<b>%{hovertext}</b><br><br>Element=Food<br>Years=1976<br>Production=%{marker.size}<extra></extra>\",\"hovertext\":[\"Vegetables, Other\",\"Vegetables\",\"Cereals - Excluding Beer\"],\"legendgroup\":\"Food\",\"marker\":{\"color\":\"orange\",\"size\":[35826,42458,126359],\"sizemode\":\"area\",\"sizeref\":76.45296875,\"symbol\":\"circle\"},\"mode\":\"markers\",\"name\":\"Food\",\"orientation\":\"h\",\"showlegend\":true,\"x\":[35826,42458,126359],\"xaxis\":\"x\",\"y\":[\"Vegetables, Other\",\"Vegetables\",\"Cereals - Excluding Beer\"],\"yaxis\":\"y\",\"type\":\"scatter\"}],\"name\":\"1976\"},{\"data\":[{\"hovertemplate\":\"<b>%{hovertext}</b><br><br>Element=Feed<br>Years=1977<br>Production=%{marker.size}<extra></extra>\",\"hovertext\":[\"Starchy Roots\",\"Maize and products\",\"Cereals - Excluding Beer\"],\"legendgroup\":\"Feed\",\"marker\":{\"color\":\"brown\",\"size\":[38017,38700,49999],\"sizemode\":\"area\",\"sizeref\":76.45296875,\"symbol\":\"circle\"},\"mode\":\"markers\",\"name\":\"Feed\",\"orientation\":\"h\",\"showlegend\":true,\"x\":[38017,38700,49999],\"xaxis\":\"x\",\"y\":[\"Starchy Roots\",\"Maize and products\",\"Cereals - Excluding Beer\"],\"yaxis\":\"y\",\"type\":\"scatter\"},{\"hovertemplate\":\"<b>%{hovertext}</b><br><br>Element=Food<br>Years=1977<br>Production=%{marker.size}<extra></extra>\",\"hovertext\":[\"Vegetables, Other\",\"Vegetables\",\"Cereals - Excluding Beer\"],\"legendgroup\":\"Food\",\"marker\":{\"color\":\"orange\",\"size\":[37557,44566,128840],\"sizemode\":\"area\",\"sizeref\":76.45296875,\"symbol\":\"circle\"},\"mode\":\"markers\",\"name\":\"Food\",\"orientation\":\"h\",\"showlegend\":true,\"x\":[37557,44566,128840],\"xaxis\":\"x\",\"y\":[\"Vegetables, Other\",\"Vegetables\",\"Cereals - Excluding Beer\"],\"yaxis\":\"y\",\"type\":\"scatter\"}],\"name\":\"1977\"},{\"data\":[{\"hovertemplate\":\"<b>%{hovertext}</b><br><br>Element=Feed<br>Years=1978<br>Production=%{marker.size}<extra></extra>\",\"hovertext\":[\"Starchy Roots\",\"Maize and products\",\"Cereals - Excluding Beer\"],\"legendgroup\":\"Feed\",\"marker\":{\"color\":\"brown\",\"size\":[41487,44675,56829],\"sizemode\":\"area\",\"sizeref\":76.45296875,\"symbol\":\"circle\"},\"mode\":\"markers\",\"name\":\"Feed\",\"orientation\":\"h\",\"showlegend\":true,\"x\":[41487,44675,56829],\"xaxis\":\"x\",\"y\":[\"Starchy Roots\",\"Maize and products\",\"Cereals - Excluding Beer\"],\"yaxis\":\"y\",\"type\":\"scatter\"},{\"hovertemplate\":\"<b>%{hovertext}</b><br><br>Element=Food<br>Years=1978<br>Production=%{marker.size}<extra></extra>\",\"hovertext\":[\"Vegetables, Other\",\"Vegetables\",\"Cereals - Excluding Beer\"],\"legendgroup\":\"Food\",\"marker\":{\"color\":\"orange\",\"size\":[41436,49398,142403],\"sizemode\":\"area\",\"sizeref\":76.45296875,\"symbol\":\"circle\"},\"mode\":\"markers\",\"name\":\"Food\",\"orientation\":\"h\",\"showlegend\":true,\"x\":[41436,49398,142403],\"xaxis\":\"x\",\"y\":[\"Vegetables, Other\",\"Vegetables\",\"Cereals - Excluding Beer\"],\"yaxis\":\"y\",\"type\":\"scatter\"}],\"name\":\"1978\"},{\"data\":[{\"hovertemplate\":\"<b>%{hovertext}</b><br><br>Element=Feed<br>Years=1979<br>Production=%{marker.size}<extra></extra>\",\"hovertext\":[\"Starchy Roots\",\"Maize and products\",\"Cereals - Excluding Beer\"],\"legendgroup\":\"Feed\",\"marker\":{\"color\":\"brown\",\"size\":[41514,49000,61712],\"sizemode\":\"area\",\"sizeref\":76.45296875,\"symbol\":\"circle\"},\"mode\":\"markers\",\"name\":\"Feed\",\"orientation\":\"h\",\"showlegend\":true,\"x\":[41514,49000,61712],\"xaxis\":\"x\",\"y\":[\"Starchy Roots\",\"Maize and products\",\"Cereals - Excluding Beer\"],\"yaxis\":\"y\",\"type\":\"scatter\"},{\"hovertemplate\":\"<b>%{hovertext}</b><br><br>Element=Food<br>Years=1979<br>Production=%{marker.size}<extra></extra>\",\"hovertext\":[\"Vegetables, Other\",\"Vegetables\",\"Cereals - Excluding Beer\"],\"legendgroup\":\"Food\",\"marker\":{\"color\":\"orange\",\"size\":[42003,49720,147401],\"sizemode\":\"area\",\"sizeref\":76.45296875,\"symbol\":\"circle\"},\"mode\":\"markers\",\"name\":\"Food\",\"orientation\":\"h\",\"showlegend\":true,\"x\":[42003,49720,147401],\"xaxis\":\"x\",\"y\":[\"Vegetables, Other\",\"Vegetables\",\"Cereals - Excluding Beer\"],\"yaxis\":\"y\",\"type\":\"scatter\"}],\"name\":\"1979\"},{\"data\":[{\"hovertemplate\":\"<b>%{hovertext}</b><br><br>Element=Feed<br>Years=1980<br>Production=%{marker.size}<extra></extra>\",\"hovertext\":[\"Starchy Roots\",\"Maize and products\",\"Cereals - Excluding Beer\"],\"legendgroup\":\"Feed\",\"marker\":{\"color\":\"brown\",\"size\":[41990,51700,64205],\"sizemode\":\"area\",\"sizeref\":76.45296875,\"symbol\":\"circle\"},\"mode\":\"markers\",\"name\":\"Feed\",\"orientation\":\"h\",\"showlegend\":true,\"x\":[41990,51700,64205],\"xaxis\":\"x\",\"y\":[\"Starchy Roots\",\"Maize and products\",\"Cereals - Excluding Beer\"],\"yaxis\":\"y\",\"type\":\"scatter\"},{\"hovertemplate\":\"<b>%{hovertext}</b><br><br>Element=Food<br>Years=1980<br>Production=%{marker.size}<extra></extra>\",\"hovertext\":[\"Vegetables, Other\",\"Vegetables\",\"Cereals - Excluding Beer\"],\"legendgroup\":\"Food\",\"marker\":{\"color\":\"orange\",\"size\":[40278,47949,151742],\"sizemode\":\"area\",\"sizeref\":76.45296875,\"symbol\":\"circle\"},\"mode\":\"markers\",\"name\":\"Food\",\"orientation\":\"h\",\"showlegend\":true,\"x\":[40278,47949,151742],\"xaxis\":\"x\",\"y\":[\"Vegetables, Other\",\"Vegetables\",\"Cereals - Excluding Beer\"],\"yaxis\":\"y\",\"type\":\"scatter\"}],\"name\":\"1980\"},{\"data\":[{\"hovertemplate\":\"<b>%{hovertext}</b><br><br>Element=Feed<br>Years=1981<br>Production=%{marker.size}<extra></extra>\",\"hovertext\":[\"Starchy Roots\",\"Maize and products\",\"Cereals - Excluding Beer\"],\"legendgroup\":\"Feed\",\"marker\":{\"color\":\"brown\",\"size\":[36127,47650,60815],\"sizemode\":\"area\",\"sizeref\":76.45296875,\"symbol\":\"circle\"},\"mode\":\"markers\",\"name\":\"Feed\",\"orientation\":\"h\",\"showlegend\":true,\"x\":[36127,47650,60815],\"xaxis\":\"x\",\"y\":[\"Starchy Roots\",\"Maize and products\",\"Cereals - Excluding Beer\"],\"yaxis\":\"y\",\"type\":\"scatter\"},{\"hovertemplate\":\"<b>%{hovertext}</b><br><br>Element=Food<br>Years=1981<br>Production=%{marker.size}<extra></extra>\",\"hovertext\":[\"Vegetables, Other\",\"Vegetables\",\"Cereals - Excluding Beer\"],\"legendgroup\":\"Food\",\"marker\":{\"color\":\"orange\",\"size\":[47454,55676,157179],\"sizemode\":\"area\",\"sizeref\":76.45296875,\"symbol\":\"circle\"},\"mode\":\"markers\",\"name\":\"Food\",\"orientation\":\"h\",\"showlegend\":true,\"x\":[47454,55676,157179],\"xaxis\":\"x\",\"y\":[\"Vegetables, Other\",\"Vegetables\",\"Cereals - Excluding Beer\"],\"yaxis\":\"y\",\"type\":\"scatter\"}],\"name\":\"1981\"},{\"data\":[{\"hovertemplate\":\"<b>%{hovertext}</b><br><br>Element=Feed<br>Years=1982<br>Production=%{marker.size}<extra></extra>\",\"hovertext\":[\"Starchy Roots\",\"Maize and products\",\"Cereals - Excluding Beer\"],\"legendgroup\":\"Feed\",\"marker\":{\"color\":\"brown\",\"size\":[38201,48800,62953],\"sizemode\":\"area\",\"sizeref\":76.45296875,\"symbol\":\"circle\"},\"mode\":\"markers\",\"name\":\"Feed\",\"orientation\":\"h\",\"showlegend\":true,\"x\":[38201,48800,62953],\"xaxis\":\"x\",\"y\":[\"Starchy Roots\",\"Maize and products\",\"Cereals - Excluding Beer\"],\"yaxis\":\"y\",\"type\":\"scatter\"},{\"hovertemplate\":\"<b>%{hovertext}</b><br><br>Element=Food<br>Years=1982<br>Production=%{marker.size}<extra></extra>\",\"hovertext\":[\"Vegetables, Other\",\"Vegetables\",\"Cereals - Excluding Beer\"],\"legendgroup\":\"Food\",\"marker\":{\"color\":\"orange\",\"size\":[51314,59900,172222],\"sizemode\":\"area\",\"sizeref\":76.45296875,\"symbol\":\"circle\"},\"mode\":\"markers\",\"name\":\"Food\",\"orientation\":\"h\",\"showlegend\":true,\"x\":[51314,59900,172222],\"xaxis\":\"x\",\"y\":[\"Vegetables, Other\",\"Vegetables\",\"Cereals - Excluding Beer\"],\"yaxis\":\"y\",\"type\":\"scatter\"}],\"name\":\"1982\"},{\"data\":[{\"hovertemplate\":\"<b>%{hovertext}</b><br><br>Element=Feed<br>Years=1983<br>Production=%{marker.size}<extra></extra>\",\"hovertext\":[\"Starchy Roots\",\"Maize and products\",\"Cereals - Excluding Beer\"],\"legendgroup\":\"Feed\",\"marker\":{\"color\":\"brown\",\"size\":[47924,55000,70002],\"sizemode\":\"area\",\"sizeref\":76.45296875,\"symbol\":\"circle\"},\"mode\":\"markers\",\"name\":\"Feed\",\"orientation\":\"h\",\"showlegend\":true,\"x\":[47924,55000,70002],\"xaxis\":\"x\",\"y\":[\"Starchy Roots\",\"Maize and products\",\"Cereals - Excluding Beer\"],\"yaxis\":\"y\",\"type\":\"scatter\"},{\"hovertemplate\":\"<b>%{hovertext}</b><br><br>Element=Food<br>Years=1983<br>Production=%{marker.size}<extra></extra>\",\"hovertext\":[\"Vegetables, Other\",\"Vegetables\",\"Cereals - Excluding Beer\"],\"legendgroup\":\"Food\",\"marker\":{\"color\":\"orange\",\"size\":[58986,67862,182221],\"sizemode\":\"area\",\"sizeref\":76.45296875,\"symbol\":\"circle\"},\"mode\":\"markers\",\"name\":\"Food\",\"orientation\":\"h\",\"showlegend\":true,\"x\":[58986,67862,182221],\"xaxis\":\"x\",\"y\":[\"Vegetables, Other\",\"Vegetables\",\"Cereals - Excluding Beer\"],\"yaxis\":\"y\",\"type\":\"scatter\"}],\"name\":\"1983\"},{\"data\":[{\"hovertemplate\":\"<b>%{hovertext}</b><br><br>Element=Feed<br>Years=1984<br>Production=%{marker.size}<extra></extra>\",\"hovertext\":[\"Starchy Roots\",\"Maize and products\",\"Cereals - Excluding Beer\"],\"legendgroup\":\"Feed\",\"marker\":{\"color\":\"brown\",\"size\":[48886,57000,72327],\"sizemode\":\"area\",\"sizeref\":76.45296875,\"symbol\":\"circle\"},\"mode\":\"markers\",\"name\":\"Feed\",\"orientation\":\"h\",\"showlegend\":true,\"x\":[48886,57000,72327],\"xaxis\":\"x\",\"y\":[\"Starchy Roots\",\"Maize and products\",\"Cereals - Excluding Beer\"],\"yaxis\":\"y\",\"type\":\"scatter\"},{\"hovertemplate\":\"<b>%{hovertext}</b><br><br>Element=Food<br>Years=1984<br>Production=%{marker.size}<extra></extra>\",\"hovertext\":[\"Vegetables, Other\",\"Vegetables\",\"Cereals - Excluding Beer\"],\"legendgroup\":\"Food\",\"marker\":{\"color\":\"orange\",\"size\":[68033,77006,187020],\"sizemode\":\"area\",\"sizeref\":76.45296875,\"symbol\":\"circle\"},\"mode\":\"markers\",\"name\":\"Food\",\"orientation\":\"h\",\"showlegend\":true,\"x\":[68033,77006,187020],\"xaxis\":\"x\",\"y\":[\"Vegetables, Other\",\"Vegetables\",\"Cereals - Excluding Beer\"],\"yaxis\":\"y\",\"type\":\"scatter\"}],\"name\":\"1984\"},{\"data\":[{\"hovertemplate\":\"<b>%{hovertext}</b><br><br>Element=Feed<br>Years=1985<br>Production=%{marker.size}<extra></extra>\",\"hovertext\":[\"Maize and products\",\"Starchy Roots\",\"Cereals - Excluding Beer\"],\"legendgroup\":\"Feed\",\"marker\":{\"color\":\"brown\",\"size\":[43600,50249,58325],\"sizemode\":\"area\",\"sizeref\":76.45296875,\"symbol\":\"circle\"},\"mode\":\"markers\",\"name\":\"Feed\",\"orientation\":\"h\",\"showlegend\":true,\"x\":[43600,50249,58325],\"xaxis\":\"x\",\"y\":[\"Maize and products\",\"Starchy Roots\",\"Cereals - Excluding Beer\"],\"yaxis\":\"y\",\"type\":\"scatter\"},{\"hovertemplate\":\"<b>%{hovertext}</b><br><br>Element=Food<br>Years=1985<br>Production=%{marker.size}<extra></extra>\",\"hovertext\":[\"Vegetables, Other\",\"Vegetables\",\"Cereals - Excluding Beer\"],\"legendgroup\":\"Food\",\"marker\":{\"color\":\"orange\",\"size\":[73729,83353,188438],\"sizemode\":\"area\",\"sizeref\":76.45296875,\"symbol\":\"circle\"},\"mode\":\"markers\",\"name\":\"Food\",\"orientation\":\"h\",\"showlegend\":true,\"x\":[73729,83353,188438],\"xaxis\":\"x\",\"y\":[\"Vegetables, Other\",\"Vegetables\",\"Cereals - Excluding Beer\"],\"yaxis\":\"y\",\"type\":\"scatter\"}],\"name\":\"1985\"},{\"data\":[{\"hovertemplate\":\"<b>%{hovertext}</b><br><br>Element=Feed<br>Years=1986<br>Production=%{marker.size}<extra></extra>\",\"hovertext\":[\"Maize and products\",\"Starchy Roots\",\"Cereals - Excluding Beer\"],\"legendgroup\":\"Feed\",\"marker\":{\"color\":\"brown\",\"size\":[47000,48863,60822],\"sizemode\":\"area\",\"sizeref\":76.45296875,\"symbol\":\"circle\"},\"mode\":\"markers\",\"name\":\"Feed\",\"orientation\":\"h\",\"showlegend\":true,\"x\":[47000,48863,60822],\"xaxis\":\"x\",\"y\":[\"Maize and products\",\"Starchy Roots\",\"Cereals - Excluding Beer\"],\"yaxis\":\"y\",\"type\":\"scatter\"},{\"hovertemplate\":\"<b>%{hovertext}</b><br><br>Element=Food<br>Years=1986<br>Production=%{marker.size}<extra></extra>\",\"hovertext\":[\"Vegetables, Other\",\"Vegetables\",\"Cereals - Excluding Beer\"],\"legendgroup\":\"Food\",\"marker\":{\"color\":\"orange\",\"size\":[88358,98119,189999],\"sizemode\":\"area\",\"sizeref\":76.45296875,\"symbol\":\"circle\"},\"mode\":\"markers\",\"name\":\"Food\",\"orientation\":\"h\",\"showlegend\":true,\"x\":[88358,98119,189999],\"xaxis\":\"x\",\"y\":[\"Vegetables, Other\",\"Vegetables\",\"Cereals - Excluding Beer\"],\"yaxis\":\"y\",\"type\":\"scatter\"}],\"name\":\"1986\"},{\"data\":[{\"hovertemplate\":\"<b>%{hovertext}</b><br><br>Element=Feed<br>Years=1987<br>Production=%{marker.size}<extra></extra>\",\"hovertext\":[\"Maize and products\",\"Starchy Roots\",\"Cereals - Excluding Beer\"],\"legendgroup\":\"Feed\",\"marker\":{\"color\":\"brown\",\"size\":[46500,55952,60779],\"sizemode\":\"area\",\"sizeref\":76.45296875,\"symbol\":\"circle\"},\"mode\":\"markers\",\"name\":\"Feed\",\"orientation\":\"h\",\"showlegend\":true,\"x\":[46500,55952,60779],\"xaxis\":\"x\",\"y\":[\"Maize and products\",\"Starchy Roots\",\"Cereals - Excluding Beer\"],\"yaxis\":\"y\",\"type\":\"scatter\"},{\"hovertemplate\":\"<b>%{hovertext}</b><br><br>Element=Food<br>Years=1987<br>Production=%{marker.size}<extra></extra>\",\"hovertext\":[\"Vegetables, Other\",\"Vegetables\",\"Cereals - Excluding Beer\"],\"legendgroup\":\"Food\",\"marker\":{\"color\":\"orange\",\"size\":[92925,102903,190010],\"sizemode\":\"area\",\"sizeref\":76.45296875,\"symbol\":\"circle\"},\"mode\":\"markers\",\"name\":\"Food\",\"orientation\":\"h\",\"showlegend\":true,\"x\":[92925,102903,190010],\"xaxis\":\"x\",\"y\":[\"Vegetables, Other\",\"Vegetables\",\"Cereals - Excluding Beer\"],\"yaxis\":\"y\",\"type\":\"scatter\"}],\"name\":\"1987\"},{\"data\":[{\"hovertemplate\":\"<b>%{hovertext}</b><br><br>Element=Feed<br>Years=1988<br>Production=%{marker.size}<extra></extra>\",\"hovertext\":[\"Maize and products\",\"Starchy Roots\",\"Cereals - Excluding Beer\"],\"legendgroup\":\"Feed\",\"marker\":{\"color\":\"brown\",\"size\":[48000,53407,62521],\"sizemode\":\"area\",\"sizeref\":76.45296875,\"symbol\":\"circle\"},\"mode\":\"markers\",\"name\":\"Feed\",\"orientation\":\"h\",\"showlegend\":true,\"x\":[48000,53407,62521],\"xaxis\":\"x\",\"y\":[\"Maize and products\",\"Starchy Roots\",\"Cereals - Excluding Beer\"],\"yaxis\":\"y\",\"type\":\"scatter\"},{\"hovertemplate\":\"<b>%{hovertext}</b><br><br>Element=Food<br>Years=1988<br>Production=%{marker.size}<extra></extra>\",\"hovertext\":[\"Vegetables, Other\",\"Vegetables\",\"Cereals - Excluding Beer\"],\"legendgroup\":\"Food\",\"marker\":{\"color\":\"orange\",\"size\":[100127,110505,189180],\"sizemode\":\"area\",\"sizeref\":76.45296875,\"symbol\":\"circle\"},\"mode\":\"markers\",\"name\":\"Food\",\"orientation\":\"h\",\"showlegend\":true,\"x\":[100127,110505,189180],\"xaxis\":\"x\",\"y\":[\"Vegetables, Other\",\"Vegetables\",\"Cereals - Excluding Beer\"],\"yaxis\":\"y\",\"type\":\"scatter\"}],\"name\":\"1988\"},{\"data\":[{\"hovertemplate\":\"<b>%{hovertext}</b><br><br>Element=Feed<br>Years=1989<br>Production=%{marker.size}<extra></extra>\",\"hovertext\":[\"Maize and products\",\"Starchy Roots\",\"Cereals - Excluding Beer\"],\"legendgroup\":\"Feed\",\"marker\":{\"color\":\"brown\",\"size\":[47500,58346,61283],\"sizemode\":\"area\",\"sizeref\":76.45296875,\"symbol\":\"circle\"},\"mode\":\"markers\",\"name\":\"Feed\",\"orientation\":\"h\",\"showlegend\":true,\"x\":[47500,58346,61283],\"xaxis\":\"x\",\"y\":[\"Maize and products\",\"Starchy Roots\",\"Cereals - Excluding Beer\"],\"yaxis\":\"y\",\"type\":\"scatter\"},{\"hovertemplate\":\"<b>%{hovertext}</b><br><br>Element=Food<br>Years=1989<br>Production=%{marker.size}<extra></extra>\",\"hovertext\":[\"Vegetables, Other\",\"Vegetables\",\"Cereals - Excluding Beer\"],\"legendgroup\":\"Food\",\"marker\":{\"color\":\"orange\",\"size\":[101761,112335,192403],\"sizemode\":\"area\",\"sizeref\":76.45296875,\"symbol\":\"circle\"},\"mode\":\"markers\",\"name\":\"Food\",\"orientation\":\"h\",\"showlegend\":true,\"x\":[101761,112335,192403],\"xaxis\":\"x\",\"y\":[\"Vegetables, Other\",\"Vegetables\",\"Cereals - Excluding Beer\"],\"yaxis\":\"y\",\"type\":\"scatter\"}],\"name\":\"1989\"},{\"data\":[{\"hovertemplate\":\"<b>%{hovertext}</b><br><br>Element=Feed<br>Years=1990<br>Production=%{marker.size}<extra></extra>\",\"hovertext\":[\"Starchy Roots\",\"Maize and products\",\"Cereals - Excluding Beer\"],\"legendgroup\":\"Feed\",\"marker\":{\"color\":\"brown\",\"size\":[47395,53000,67308],\"sizemode\":\"area\",\"sizeref\":76.45296875,\"symbol\":\"circle\"},\"mode\":\"markers\",\"name\":\"Feed\",\"orientation\":\"h\",\"showlegend\":true,\"x\":[47395,53000,67308],\"xaxis\":\"x\",\"y\":[\"Starchy Roots\",\"Maize and products\",\"Cereals - Excluding Beer\"],\"yaxis\":\"y\",\"type\":\"scatter\"},{\"hovertemplate\":\"<b>%{hovertext}</b><br><br>Element=Food<br>Years=1990<br>Production=%{marker.size}<extra></extra>\",\"hovertext\":[\"Vegetables, Other\",\"Vegetables\",\"Cereals - Excluding Beer\"],\"legendgroup\":\"Food\",\"marker\":{\"color\":\"orange\",\"size\":[104353,115743,201072],\"sizemode\":\"area\",\"sizeref\":76.45296875,\"symbol\":\"circle\"},\"mode\":\"markers\",\"name\":\"Food\",\"orientation\":\"h\",\"showlegend\":true,\"x\":[104353,115743,201072],\"xaxis\":\"x\",\"y\":[\"Vegetables, Other\",\"Vegetables\",\"Cereals - Excluding Beer\"],\"yaxis\":\"y\",\"type\":\"scatter\"}],\"name\":\"1990\"},{\"data\":[{\"hovertemplate\":\"<b>%{hovertext}</b><br><br>Element=Feed<br>Years=1991<br>Production=%{marker.size}<extra></extra>\",\"hovertext\":[\"Starchy Roots\",\"Maize and products\",\"Cereals - Excluding Beer\"],\"legendgroup\":\"Feed\",\"marker\":{\"color\":\"brown\",\"size\":[46121,58000,74939],\"sizemode\":\"area\",\"sizeref\":76.45296875,\"symbol\":\"circle\"},\"mode\":\"markers\",\"name\":\"Feed\",\"orientation\":\"h\",\"showlegend\":true,\"x\":[46121,58000,74939],\"xaxis\":\"x\",\"y\":[\"Starchy Roots\",\"Maize and products\",\"Cereals - Excluding Beer\"],\"yaxis\":\"y\",\"type\":\"scatter\"},{\"hovertemplate\":\"<b>%{hovertext}</b><br><br>Element=Food<br>Years=1991<br>Production=%{marker.size}<extra></extra>\",\"hovertext\":[\"Vegetables, Other\",\"Vegetables\",\"Cereals - Excluding Beer\"],\"legendgroup\":\"Food\",\"marker\":{\"color\":\"orange\",\"size\":[106348,118523,193224],\"sizemode\":\"area\",\"sizeref\":76.45296875,\"symbol\":\"circle\"},\"mode\":\"markers\",\"name\":\"Food\",\"orientation\":\"h\",\"showlegend\":true,\"x\":[106348,118523,193224],\"xaxis\":\"x\",\"y\":[\"Vegetables, Other\",\"Vegetables\",\"Cereals - Excluding Beer\"],\"yaxis\":\"y\",\"type\":\"scatter\"}],\"name\":\"1991\"},{\"data\":[{\"hovertemplate\":\"<b>%{hovertext}</b><br><br>Element=Feed<br>Years=1992<br>Production=%{marker.size}<extra></extra>\",\"hovertext\":[\"Starchy Roots\",\"Maize and products\",\"Cereals - Excluding Beer\"],\"legendgroup\":\"Feed\",\"marker\":{\"color\":\"brown\",\"size\":[49974,62000,80345],\"sizemode\":\"area\",\"sizeref\":76.45296875,\"symbol\":\"circle\"},\"mode\":\"markers\",\"name\":\"Feed\",\"orientation\":\"h\",\"showlegend\":true,\"x\":[49974,62000,80345],\"xaxis\":\"x\",\"y\":[\"Starchy Roots\",\"Maize and products\",\"Cereals - Excluding Beer\"],\"yaxis\":\"y\",\"type\":\"scatter\"},{\"hovertemplate\":\"<b>%{hovertext}</b><br><br>Element=Food<br>Years=1992<br>Production=%{marker.size}<extra></extra>\",\"hovertext\":[\"Vegetables, Other\",\"Vegetables\",\"Cereals - Excluding Beer\"],\"legendgroup\":\"Food\",\"marker\":{\"color\":\"orange\",\"size\":[120635,133090,197464],\"sizemode\":\"area\",\"sizeref\":76.45296875,\"symbol\":\"circle\"},\"mode\":\"markers\",\"name\":\"Food\",\"orientation\":\"h\",\"showlegend\":true,\"x\":[120635,133090,197464],\"xaxis\":\"x\",\"y\":[\"Vegetables, Other\",\"Vegetables\",\"Cereals - Excluding Beer\"],\"yaxis\":\"y\",\"type\":\"scatter\"}],\"name\":\"1992\"},{\"data\":[{\"hovertemplate\":\"<b>%{hovertext}</b><br><br>Element=Feed<br>Years=1993<br>Production=%{marker.size}<extra></extra>\",\"hovertext\":[\"Starchy Roots\",\"Maize and products\",\"Cereals - Excluding Beer\"],\"legendgroup\":\"Feed\",\"marker\":{\"color\":\"brown\",\"size\":[59152,68800,87190],\"sizemode\":\"area\",\"sizeref\":76.45296875,\"symbol\":\"circle\"},\"mode\":\"markers\",\"name\":\"Feed\",\"orientation\":\"h\",\"showlegend\":true,\"x\":[59152,68800,87190],\"xaxis\":\"x\",\"y\":[\"Starchy Roots\",\"Maize and products\",\"Cereals - Excluding Beer\"],\"yaxis\":\"y\",\"type\":\"scatter\"},{\"hovertemplate\":\"<b>%{hovertext}</b><br><br>Element=Food<br>Years=1993<br>Production=%{marker.size}<extra></extra>\",\"hovertext\":[\"Vegetables, Other\",\"Vegetables\",\"Cereals - Excluding Beer\"],\"legendgroup\":\"Food\",\"marker\":{\"color\":\"orange\",\"size\":[140753,155981,202770],\"sizemode\":\"area\",\"sizeref\":76.45296875,\"symbol\":\"circle\"},\"mode\":\"markers\",\"name\":\"Food\",\"orientation\":\"h\",\"showlegend\":true,\"x\":[140753,155981,202770],\"xaxis\":\"x\",\"y\":[\"Vegetables, Other\",\"Vegetables\",\"Cereals - Excluding Beer\"],\"yaxis\":\"y\",\"type\":\"scatter\"}],\"name\":\"1993\"},{\"data\":[{\"hovertemplate\":\"<b>%{hovertext}</b><br><br>Element=Feed<br>Years=1994<br>Production=%{marker.size}<extra></extra>\",\"hovertext\":[\"Starchy Roots\",\"Maize and products\",\"Cereals - Excluding Beer\"],\"legendgroup\":\"Feed\",\"marker\":{\"color\":\"brown\",\"size\":[57858,76900,97137],\"sizemode\":\"area\",\"sizeref\":76.45296875,\"symbol\":\"circle\"},\"mode\":\"markers\",\"name\":\"Feed\",\"orientation\":\"h\",\"showlegend\":true,\"x\":[57858,76900,97137],\"xaxis\":\"x\",\"y\":[\"Starchy Roots\",\"Maize and products\",\"Cereals - Excluding Beer\"],\"yaxis\":\"y\",\"type\":\"scatter\"},{\"hovertemplate\":\"<b>%{hovertext}</b><br><br>Element=Food<br>Years=1994<br>Production=%{marker.size}<extra></extra>\",\"hovertext\":[\"Vegetables, Other\",\"Vegetables\",\"Cereals - Excluding Beer\"],\"legendgroup\":\"Food\",\"marker\":{\"color\":\"orange\",\"size\":[153779,171463,204581],\"sizemode\":\"area\",\"sizeref\":76.45296875,\"symbol\":\"circle\"},\"mode\":\"markers\",\"name\":\"Food\",\"orientation\":\"h\",\"showlegend\":true,\"x\":[153779,171463,204581],\"xaxis\":\"x\",\"y\":[\"Vegetables, Other\",\"Vegetables\",\"Cereals - Excluding Beer\"],\"yaxis\":\"y\",\"type\":\"scatter\"}],\"name\":\"1994\"},{\"data\":[{\"hovertemplate\":\"<b>%{hovertext}</b><br><br>Element=Feed<br>Years=1995<br>Production=%{marker.size}<extra></extra>\",\"hovertext\":[\"Starchy Roots\",\"Maize and products\",\"Cereals - Excluding Beer\"],\"legendgroup\":\"Feed\",\"marker\":{\"color\":\"brown\",\"size\":[63706,81000,101126],\"sizemode\":\"area\",\"sizeref\":76.45296875,\"symbol\":\"circle\"},\"mode\":\"markers\",\"name\":\"Feed\",\"orientation\":\"h\",\"showlegend\":true,\"x\":[63706,81000,101126],\"xaxis\":\"x\",\"y\":[\"Starchy Roots\",\"Maize and products\",\"Cereals - Excluding Beer\"],\"yaxis\":\"y\",\"type\":\"scatter\"},{\"hovertemplate\":\"<b>%{hovertext}</b><br><br>Element=Food<br>Years=1995<br>Production=%{marker.size}<extra></extra>\",\"hovertext\":[\"Vegetables, Other\",\"Vegetables\",\"Cereals - Excluding Beer\"],\"legendgroup\":\"Food\",\"marker\":{\"color\":\"orange\",\"size\":[165620,184812,208137],\"sizemode\":\"area\",\"sizeref\":76.45296875,\"symbol\":\"circle\"},\"mode\":\"markers\",\"name\":\"Food\",\"orientation\":\"h\",\"showlegend\":true,\"x\":[165620,184812,208137],\"xaxis\":\"x\",\"y\":[\"Vegetables, Other\",\"Vegetables\",\"Cereals - Excluding Beer\"],\"yaxis\":\"y\",\"type\":\"scatter\"}],\"name\":\"1995\"},{\"data\":[{\"hovertemplate\":\"<b>%{hovertext}</b><br><br>Element=Feed<br>Years=1996<br>Production=%{marker.size}<extra></extra>\",\"hovertext\":[\"Starchy Roots\",\"Maize and products\",\"Cereals - Excluding Beer\"],\"legendgroup\":\"Feed\",\"marker\":{\"color\":\"brown\",\"size\":[79039,82000,103565],\"sizemode\":\"area\",\"sizeref\":76.45296875,\"symbol\":\"circle\"},\"mode\":\"markers\",\"name\":\"Feed\",\"orientation\":\"h\",\"showlegend\":true,\"x\":[79039,82000,103565],\"xaxis\":\"x\",\"y\":[\"Starchy Roots\",\"Maize and products\",\"Cereals - Excluding Beer\"],\"yaxis\":\"y\",\"type\":\"scatter\"},{\"hovertemplate\":\"<b>%{hovertext}</b><br><br>Element=Food<br>Years=1996<br>Production=%{marker.size}<extra></extra>\",\"hovertext\":[\"Vegetables, Other\",\"Vegetables\",\"Cereals - Excluding Beer\"],\"legendgroup\":\"Food\",\"marker\":{\"color\":\"orange\",\"size\":[183886,206540,210855],\"sizemode\":\"area\",\"sizeref\":76.45296875,\"symbol\":\"circle\"},\"mode\":\"markers\",\"name\":\"Food\",\"orientation\":\"h\",\"showlegend\":true,\"x\":[183886,206540,210855],\"xaxis\":\"x\",\"y\":[\"Vegetables, Other\",\"Vegetables\",\"Cereals - Excluding Beer\"],\"yaxis\":\"y\",\"type\":\"scatter\"}],\"name\":\"1996\"},{\"data\":[{\"hovertemplate\":\"<b>%{hovertext}</b><br><br>Element=Feed<br>Years=1997<br>Production=%{marker.size}<extra></extra>\",\"hovertext\":[\"Starchy Roots\",\"Maize and products\",\"Cereals - Excluding Beer\"],\"legendgroup\":\"Feed\",\"marker\":{\"color\":\"brown\",\"size\":[66347,82200,103185],\"sizemode\":\"area\",\"sizeref\":76.45296875,\"symbol\":\"circle\"},\"mode\":\"markers\",\"name\":\"Feed\",\"orientation\":\"h\",\"showlegend\":true,\"x\":[66347,82200,103185],\"xaxis\":\"x\",\"y\":[\"Starchy Roots\",\"Maize and products\",\"Cereals - Excluding Beer\"],\"yaxis\":\"y\",\"type\":\"scatter\"},{\"hovertemplate\":\"<b>%{hovertext}</b><br><br>Element=Food<br>Years=1997<br>Production=%{marker.size}<extra></extra>\",\"hovertext\":[\"Vegetables, Other\",\"Cereals - Excluding Beer\",\"Vegetables\"],\"legendgroup\":\"Food\",\"marker\":{\"color\":\"orange\",\"size\":[197828,209235,221456],\"sizemode\":\"area\",\"sizeref\":76.45296875,\"symbol\":\"circle\"},\"mode\":\"markers\",\"name\":\"Food\",\"orientation\":\"h\",\"showlegend\":true,\"x\":[197828,209235,221456],\"xaxis\":\"x\",\"y\":[\"Vegetables, Other\",\"Cereals - Excluding Beer\",\"Vegetables\"],\"yaxis\":\"y\",\"type\":\"scatter\"}],\"name\":\"1997\"},{\"data\":[{\"hovertemplate\":\"<b>%{hovertext}</b><br><br>Element=Feed<br>Years=1998<br>Production=%{marker.size}<extra></extra>\",\"hovertext\":[\"Starchy Roots\",\"Maize and products\",\"Cereals - Excluding Beer\"],\"legendgroup\":\"Feed\",\"marker\":{\"color\":\"brown\",\"size\":[77581,83000,103561],\"sizemode\":\"area\",\"sizeref\":76.45296875,\"symbol\":\"circle\"},\"mode\":\"markers\",\"name\":\"Feed\",\"orientation\":\"h\",\"showlegend\":true,\"x\":[77581,83000,103561],\"xaxis\":\"x\",\"y\":[\"Starchy Roots\",\"Maize and products\",\"Cereals - Excluding Beer\"],\"yaxis\":\"y\",\"type\":\"scatter\"},{\"hovertemplate\":\"<b>%{hovertext}</b><br><br>Element=Food<br>Years=1998<br>Production=%{marker.size}<extra></extra>\",\"hovertext\":[\"Vegetables, Other\",\"Cereals - Excluding Beer\",\"Vegetables\"],\"legendgroup\":\"Food\",\"marker\":{\"color\":\"orange\",\"size\":[204909,210700,229928],\"sizemode\":\"area\",\"sizeref\":76.45296875,\"symbol\":\"circle\"},\"mode\":\"markers\",\"name\":\"Food\",\"orientation\":\"h\",\"showlegend\":true,\"x\":[204909,210700,229928],\"xaxis\":\"x\",\"y\":[\"Vegetables, Other\",\"Cereals - Excluding Beer\",\"Vegetables\"],\"yaxis\":\"y\",\"type\":\"scatter\"}],\"name\":\"1998\"},{\"data\":[{\"hovertemplate\":\"<b>%{hovertext}</b><br><br>Element=Feed<br>Years=1999<br>Production=%{marker.size}<extra></extra>\",\"hovertext\":[\"Starchy Roots\",\"Maize and products\",\"Cereals - Excluding Beer\"],\"legendgroup\":\"Feed\",\"marker\":{\"color\":\"brown\",\"size\":[80336,88000,107501],\"sizemode\":\"area\",\"sizeref\":76.45296875,\"symbol\":\"circle\"},\"mode\":\"markers\",\"name\":\"Feed\",\"orientation\":\"h\",\"showlegend\":true,\"x\":[80336,88000,107501],\"xaxis\":\"x\",\"y\":[\"Starchy Roots\",\"Maize and products\",\"Cereals - Excluding Beer\"],\"yaxis\":\"y\",\"type\":\"scatter\"},{\"hovertemplate\":\"<b>%{hovertext}</b><br><br>Element=Food<br>Years=1999<br>Production=%{marker.size}<extra></extra>\",\"hovertext\":[\"Cereals - Excluding Beer\",\"Vegetables, Other\",\"Vegetables\"],\"legendgroup\":\"Food\",\"marker\":{\"color\":\"orange\",\"size\":[209491,228507,255625],\"sizemode\":\"area\",\"sizeref\":76.45296875,\"symbol\":\"circle\"},\"mode\":\"markers\",\"name\":\"Food\",\"orientation\":\"h\",\"showlegend\":true,\"x\":[209491,228507,255625],\"xaxis\":\"x\",\"y\":[\"Cereals - Excluding Beer\",\"Vegetables, Other\",\"Vegetables\"],\"yaxis\":\"y\",\"type\":\"scatter\"}],\"name\":\"1999\"},{\"data\":[{\"hovertemplate\":\"<b>%{hovertext}</b><br><br>Element=Feed<br>Years=2000<br>Production=%{marker.size}<extra></extra>\",\"hovertext\":[\"Starchy Roots\",\"Maize and products\",\"Cereals - Excluding Beer\"],\"legendgroup\":\"Feed\",\"marker\":{\"color\":\"brown\",\"size\":[72897,89000,111272],\"sizemode\":\"area\",\"sizeref\":76.45296875,\"symbol\":\"circle\"},\"mode\":\"markers\",\"name\":\"Feed\",\"orientation\":\"h\",\"showlegend\":true,\"x\":[72897,89000,111272],\"xaxis\":\"x\",\"y\":[\"Starchy Roots\",\"Maize and products\",\"Cereals - Excluding Beer\"],\"yaxis\":\"y\",\"type\":\"scatter\"},{\"hovertemplate\":\"<b>%{hovertext}</b><br><br>Element=Food<br>Years=2000<br>Production=%{marker.size}<extra></extra>\",\"hovertext\":[\"Cereals - Excluding Beer\",\"Vegetables, Other\",\"Vegetables\"],\"legendgroup\":\"Food\",\"marker\":{\"color\":\"orange\",\"size\":[207521,278584,311110],\"sizemode\":\"area\",\"sizeref\":76.45296875,\"symbol\":\"circle\"},\"mode\":\"markers\",\"name\":\"Food\",\"orientation\":\"h\",\"showlegend\":true,\"x\":[207521,278584,311110],\"xaxis\":\"x\",\"y\":[\"Cereals - Excluding Beer\",\"Vegetables, Other\",\"Vegetables\"],\"yaxis\":\"y\",\"type\":\"scatter\"}],\"name\":\"2000\"},{\"data\":[{\"hovertemplate\":\"<b>%{hovertext}</b><br><br>Element=Feed<br>Years=2001<br>Production=%{marker.size}<extra></extra>\",\"hovertext\":[\"Starchy Roots\",\"Maize and products\",\"Cereals - Excluding Beer\"],\"legendgroup\":\"Feed\",\"marker\":{\"color\":\"brown\",\"size\":[72011,87000,112110],\"sizemode\":\"area\",\"sizeref\":76.45296875,\"symbol\":\"circle\"},\"mode\":\"markers\",\"name\":\"Feed\",\"orientation\":\"h\",\"showlegend\":true,\"x\":[72011,87000,112110],\"xaxis\":\"x\",\"y\":[\"Starchy Roots\",\"Maize and products\",\"Cereals - Excluding Beer\"],\"yaxis\":\"y\",\"type\":\"scatter\"},{\"hovertemplate\":\"<b>%{hovertext}</b><br><br>Element=Food<br>Years=2001<br>Production=%{marker.size}<extra></extra>\",\"hovertext\":[\"Cereals - Excluding Beer\",\"Vegetables, Other\",\"Vegetables\"],\"legendgroup\":\"Food\",\"marker\":{\"color\":\"orange\",\"size\":[206399,293005,327370],\"sizemode\":\"area\",\"sizeref\":76.45296875,\"symbol\":\"circle\"},\"mode\":\"markers\",\"name\":\"Food\",\"orientation\":\"h\",\"showlegend\":true,\"x\":[206399,293005,327370],\"xaxis\":\"x\",\"y\":[\"Cereals - Excluding Beer\",\"Vegetables, Other\",\"Vegetables\"],\"yaxis\":\"y\",\"type\":\"scatter\"}],\"name\":\"2001\"},{\"data\":[{\"hovertemplate\":\"<b>%{hovertext}</b><br><br>Element=Feed<br>Years=2002<br>Production=%{marker.size}<extra></extra>\",\"hovertext\":[\"Starchy Roots\",\"Maize and products\",\"Cereals - Excluding Beer\"],\"legendgroup\":\"Feed\",\"marker\":{\"color\":\"brown\",\"size\":[72958,89000,113639],\"sizemode\":\"area\",\"sizeref\":76.45296875,\"symbol\":\"circle\"},\"mode\":\"markers\",\"name\":\"Feed\",\"orientation\":\"h\",\"showlegend\":true,\"x\":[72958,89000,113639],\"xaxis\":\"x\",\"y\":[\"Starchy Roots\",\"Maize and products\",\"Cereals - Excluding Beer\"],\"yaxis\":\"y\",\"type\":\"scatter\"},{\"hovertemplate\":\"<b>%{hovertext}</b><br><br>Element=Food<br>Years=2002<br>Production=%{marker.size}<extra></extra>\",\"hovertext\":[\"Cereals - Excluding Beer\",\"Vegetables, Other\",\"Vegetables\"],\"legendgroup\":\"Food\",\"marker\":{\"color\":\"orange\",\"size\":[205081,313932,352172],\"sizemode\":\"area\",\"sizeref\":76.45296875,\"symbol\":\"circle\"},\"mode\":\"markers\",\"name\":\"Food\",\"orientation\":\"h\",\"showlegend\":true,\"x\":[205081,313932,352172],\"xaxis\":\"x\",\"y\":[\"Cereals - Excluding Beer\",\"Vegetables, Other\",\"Vegetables\"],\"yaxis\":\"y\",\"type\":\"scatter\"}],\"name\":\"2002\"},{\"data\":[{\"hovertemplate\":\"<b>%{hovertext}</b><br><br>Element=Feed<br>Years=2003<br>Production=%{marker.size}<extra></extra>\",\"hovertext\":[\"Starchy Roots\",\"Maize and products\",\"Cereals - Excluding Beer\"],\"legendgroup\":\"Feed\",\"marker\":{\"color\":\"brown\",\"size\":[68003,90000,111860],\"sizemode\":\"area\",\"sizeref\":76.45296875,\"symbol\":\"circle\"},\"mode\":\"markers\",\"name\":\"Feed\",\"orientation\":\"h\",\"showlegend\":true,\"x\":[68003,90000,111860],\"xaxis\":\"x\",\"y\":[\"Starchy Roots\",\"Maize and products\",\"Cereals - Excluding Beer\"],\"yaxis\":\"y\",\"type\":\"scatter\"},{\"hovertemplate\":\"<b>%{hovertext}</b><br><br>Element=Food<br>Years=2003<br>Production=%{marker.size}<extra></extra>\",\"hovertext\":[\"Cereals - Excluding Beer\",\"Vegetables, Other\",\"Vegetables\"],\"legendgroup\":\"Food\",\"marker\":{\"color\":\"orange\",\"size\":[202404,314464,354850],\"sizemode\":\"area\",\"sizeref\":76.45296875,\"symbol\":\"circle\"},\"mode\":\"markers\",\"name\":\"Food\",\"orientation\":\"h\",\"showlegend\":true,\"x\":[202404,314464,354850],\"xaxis\":\"x\",\"y\":[\"Cereals - Excluding Beer\",\"Vegetables, Other\",\"Vegetables\"],\"yaxis\":\"y\",\"type\":\"scatter\"}],\"name\":\"2003\"},{\"data\":[{\"hovertemplate\":\"<b>%{hovertext}</b><br><br>Element=Feed<br>Years=2004<br>Production=%{marker.size}<extra></extra>\",\"hovertext\":[\"Starchy Roots\",\"Maize and products\",\"Cereals - Excluding Beer\"],\"legendgroup\":\"Feed\",\"marker\":{\"color\":\"brown\",\"size\":[68501,92000,108232],\"sizemode\":\"area\",\"sizeref\":76.45296875,\"symbol\":\"circle\"},\"mode\":\"markers\",\"name\":\"Feed\",\"orientation\":\"h\",\"showlegend\":true,\"x\":[68501,92000,108232],\"xaxis\":\"x\",\"y\":[\"Starchy Roots\",\"Maize and products\",\"Cereals - Excluding Beer\"],\"yaxis\":\"y\",\"type\":\"scatter\"},{\"hovertemplate\":\"<b>%{hovertext}</b><br><br>Element=Food<br>Years=2004<br>Production=%{marker.size}<extra></extra>\",\"hovertext\":[\"Cereals - Excluding Beer\",\"Vegetables, Other\",\"Vegetables\"],\"legendgroup\":\"Food\",\"marker\":{\"color\":\"orange\",\"size\":[201977,318852,360767],\"sizemode\":\"area\",\"sizeref\":76.45296875,\"symbol\":\"circle\"},\"mode\":\"markers\",\"name\":\"Food\",\"orientation\":\"h\",\"showlegend\":true,\"x\":[201977,318852,360767],\"xaxis\":\"x\",\"y\":[\"Cereals - Excluding Beer\",\"Vegetables, Other\",\"Vegetables\"],\"yaxis\":\"y\",\"type\":\"scatter\"}],\"name\":\"2004\"},{\"data\":[{\"hovertemplate\":\"<b>%{hovertext}</b><br><br>Element=Feed<br>Years=2005<br>Production=%{marker.size}<extra></extra>\",\"hovertext\":[\"Starchy Roots\",\"Maize and products\",\"Cereals - Excluding Beer\"],\"legendgroup\":\"Feed\",\"marker\":{\"color\":\"brown\",\"size\":[64115,94500,110316],\"sizemode\":\"area\",\"sizeref\":76.45296875,\"symbol\":\"circle\"},\"mode\":\"markers\",\"name\":\"Feed\",\"orientation\":\"h\",\"showlegend\":true,\"x\":[64115,94500,110316],\"xaxis\":\"x\",\"y\":[\"Starchy Roots\",\"Maize and products\",\"Cereals - Excluding Beer\"],\"yaxis\":\"y\",\"type\":\"scatter\"},{\"hovertemplate\":\"<b>%{hovertext}</b><br><br>Element=Food<br>Years=2005<br>Production=%{marker.size}<extra></extra>\",\"hovertext\":[\"Cereals - Excluding Beer\",\"Vegetables, Other\",\"Vegetables\"],\"legendgroup\":\"Food\",\"marker\":{\"color\":\"orange\",\"size\":[202337,330278,373694],\"sizemode\":\"area\",\"sizeref\":76.45296875,\"symbol\":\"circle\"},\"mode\":\"markers\",\"name\":\"Food\",\"orientation\":\"h\",\"showlegend\":true,\"x\":[202337,330278,373694],\"xaxis\":\"x\",\"y\":[\"Cereals - Excluding Beer\",\"Vegetables, Other\",\"Vegetables\"],\"yaxis\":\"y\",\"type\":\"scatter\"}],\"name\":\"2005\"},{\"data\":[{\"hovertemplate\":\"<b>%{hovertext}</b><br><br>Element=Feed<br>Years=2006<br>Production=%{marker.size}<extra></extra>\",\"hovertext\":[\"Starchy Roots\",\"Maize and products\",\"Cereals - Excluding Beer\"],\"legendgroup\":\"Feed\",\"marker\":{\"color\":\"brown\",\"size\":[55263,92500,111576],\"sizemode\":\"area\",\"sizeref\":76.45296875,\"symbol\":\"circle\"},\"mode\":\"markers\",\"name\":\"Feed\",\"orientation\":\"h\",\"showlegend\":true,\"x\":[55263,92500,111576],\"xaxis\":\"x\",\"y\":[\"Starchy Roots\",\"Maize and products\",\"Cereals - Excluding Beer\"],\"yaxis\":\"y\",\"type\":\"scatter\"},{\"hovertemplate\":\"<b>%{hovertext}</b><br><br>Element=Food<br>Years=2006<br>Production=%{marker.size}<extra></extra>\",\"hovertext\":[\"Cereals - Excluding Beer\",\"Vegetables, Other\",\"Vegetables\"],\"legendgroup\":\"Food\",\"marker\":{\"color\":\"orange\",\"size\":[202349,343450,388100],\"sizemode\":\"area\",\"sizeref\":76.45296875,\"symbol\":\"circle\"},\"mode\":\"markers\",\"name\":\"Food\",\"orientation\":\"h\",\"showlegend\":true,\"x\":[202349,343450,388100],\"xaxis\":\"x\",\"y\":[\"Cereals - Excluding Beer\",\"Vegetables, Other\",\"Vegetables\"],\"yaxis\":\"y\",\"type\":\"scatter\"}],\"name\":\"2006\"},{\"data\":[{\"hovertemplate\":\"<b>%{hovertext}</b><br><br>Element=Feed<br>Years=2007<br>Production=%{marker.size}<extra></extra>\",\"hovertext\":[\"Starchy Roots\",\"Maize and products\",\"Cereals - Excluding Beer\"],\"legendgroup\":\"Feed\",\"marker\":{\"color\":\"brown\",\"size\":[56029,95500,115518],\"sizemode\":\"area\",\"sizeref\":76.45296875,\"symbol\":\"circle\"},\"mode\":\"markers\",\"name\":\"Feed\",\"orientation\":\"h\",\"showlegend\":true,\"x\":[56029,95500,115518],\"xaxis\":\"x\",\"y\":[\"Starchy Roots\",\"Maize and products\",\"Cereals - Excluding Beer\"],\"yaxis\":\"y\",\"type\":\"scatter\"},{\"hovertemplate\":\"<b>%{hovertext}</b><br><br>Element=Food<br>Years=2007<br>Production=%{marker.size}<extra></extra>\",\"hovertext\":[\"Cereals - Excluding Beer\",\"Vegetables, Other\",\"Vegetables\"],\"legendgroup\":\"Food\",\"marker\":{\"color\":\"orange\",\"size\":[200735,355019,402975],\"sizemode\":\"area\",\"sizeref\":76.45296875,\"symbol\":\"circle\"},\"mode\":\"markers\",\"name\":\"Food\",\"orientation\":\"h\",\"showlegend\":true,\"x\":[200735,355019,402975],\"xaxis\":\"x\",\"y\":[\"Cereals - Excluding Beer\",\"Vegetables, Other\",\"Vegetables\"],\"yaxis\":\"y\",\"type\":\"scatter\"}],\"name\":\"2007\"},{\"data\":[{\"hovertemplate\":\"<b>%{hovertext}</b><br><br>Element=Feed<br>Years=2008<br>Production=%{marker.size}<extra></extra>\",\"hovertext\":[\"Starchy Roots\",\"Maize and products\",\"Cereals - Excluding Beer\"],\"legendgroup\":\"Feed\",\"marker\":{\"color\":\"brown\",\"size\":[49983,106000,126518],\"sizemode\":\"area\",\"sizeref\":76.45296875,\"symbol\":\"circle\"},\"mode\":\"markers\",\"name\":\"Feed\",\"orientation\":\"h\",\"showlegend\":true,\"x\":[49983,106000,126518],\"xaxis\":\"x\",\"y\":[\"Starchy Roots\",\"Maize and products\",\"Cereals - Excluding Beer\"],\"yaxis\":\"y\",\"type\":\"scatter\"},{\"hovertemplate\":\"<b>%{hovertext}</b><br><br>Element=Food<br>Years=2008<br>Production=%{marker.size}<extra></extra>\",\"hovertext\":[\"Cereals - Excluding Beer\",\"Vegetables, Other\",\"Vegetables\"],\"legendgroup\":\"Food\",\"marker\":{\"color\":\"orange\",\"size\":[203218,373622,425537],\"sizemode\":\"area\",\"sizeref\":76.45296875,\"symbol\":\"circle\"},\"mode\":\"markers\",\"name\":\"Food\",\"orientation\":\"h\",\"showlegend\":true,\"x\":[203218,373622,425537],\"xaxis\":\"x\",\"y\":[\"Cereals - Excluding Beer\",\"Vegetables, Other\",\"Vegetables\"],\"yaxis\":\"y\",\"type\":\"scatter\"}],\"name\":\"2008\"},{\"data\":[{\"hovertemplate\":\"<b>%{hovertext}</b><br><br>Element=Feed<br>Years=2009<br>Production=%{marker.size}<extra></extra>\",\"hovertext\":[\"Starchy Roots\",\"Maize and products\",\"Cereals - Excluding Beer\"],\"legendgroup\":\"Feed\",\"marker\":{\"color\":\"brown\",\"size\":[64000,105600,131336],\"sizemode\":\"area\",\"sizeref\":76.45296875,\"symbol\":\"circle\"},\"mode\":\"markers\",\"name\":\"Feed\",\"orientation\":\"h\",\"showlegend\":true,\"x\":[64000,105600,131336],\"xaxis\":\"x\",\"y\":[\"Starchy Roots\",\"Maize and products\",\"Cereals - Excluding Beer\"],\"yaxis\":\"y\",\"type\":\"scatter\"},{\"hovertemplate\":\"<b>%{hovertext}</b><br><br>Element=Food<br>Years=2009<br>Production=%{marker.size}<extra></extra>\",\"hovertext\":[\"Cereals - Excluding Beer\",\"Vegetables, Other\",\"Vegetables\"],\"legendgroup\":\"Food\",\"marker\":{\"color\":\"orange\",\"size\":[201290,377460,434724],\"sizemode\":\"area\",\"sizeref\":76.45296875,\"symbol\":\"circle\"},\"mode\":\"markers\",\"name\":\"Food\",\"orientation\":\"h\",\"showlegend\":true,\"x\":[201290,377460,434724],\"xaxis\":\"x\",\"y\":[\"Cereals - Excluding Beer\",\"Vegetables, Other\",\"Vegetables\"],\"yaxis\":\"y\",\"type\":\"scatter\"}],\"name\":\"2009\"},{\"data\":[{\"hovertemplate\":\"<b>%{hovertext}</b><br><br>Element=Feed<br>Years=2010<br>Production=%{marker.size}<extra></extra>\",\"hovertext\":[\"Starchy Roots\",\"Maize and products\",\"Cereals - Excluding Beer\"],\"legendgroup\":\"Feed\",\"marker\":{\"color\":\"brown\",\"size\":[65475,114500,143443],\"sizemode\":\"area\",\"sizeref\":76.45296875,\"symbol\":\"circle\"},\"mode\":\"markers\",\"name\":\"Feed\",\"orientation\":\"h\",\"showlegend\":true,\"x\":[65475,114500,143443],\"xaxis\":\"x\",\"y\":[\"Starchy Roots\",\"Maize and products\",\"Cereals - Excluding Beer\"],\"yaxis\":\"y\",\"type\":\"scatter\"},{\"hovertemplate\":\"<b>%{hovertext}</b><br><br>Element=Food<br>Years=2010<br>Production=%{marker.size}<extra></extra>\",\"hovertext\":[\"Cereals - Excluding Beer\",\"Vegetables, Other\",\"Vegetables\"],\"legendgroup\":\"Food\",\"marker\":{\"color\":\"orange\",\"size\":[204167,393516,451838],\"sizemode\":\"area\",\"sizeref\":76.45296875,\"symbol\":\"circle\"},\"mode\":\"markers\",\"name\":\"Food\",\"orientation\":\"h\",\"showlegend\":true,\"x\":[204167,393516,451838],\"xaxis\":\"x\",\"y\":[\"Cereals - Excluding Beer\",\"Vegetables, Other\",\"Vegetables\"],\"yaxis\":\"y\",\"type\":\"scatter\"}],\"name\":\"2010\"},{\"data\":[{\"hovertemplate\":\"<b>%{hovertext}</b><br><br>Element=Feed<br>Years=2011<br>Production=%{marker.size}<extra></extra>\",\"hovertext\":[\"Starchy Roots\",\"Maize and products\",\"Cereals - Excluding Beer\"],\"legendgroup\":\"Feed\",\"marker\":{\"color\":\"brown\",\"size\":[69210,125000,166554],\"sizemode\":\"area\",\"sizeref\":76.45296875,\"symbol\":\"circle\"},\"mode\":\"markers\",\"name\":\"Feed\",\"orientation\":\"h\",\"showlegend\":true,\"x\":[69210,125000,166554],\"xaxis\":\"x\",\"y\":[\"Starchy Roots\",\"Maize and products\",\"Cereals - Excluding Beer\"],\"yaxis\":\"y\",\"type\":\"scatter\"},{\"hovertemplate\":\"<b>%{hovertext}</b><br><br>Element=Food<br>Years=2011<br>Production=%{marker.size}<extra></extra>\",\"hovertext\":[\"Cereals - Excluding Beer\",\"Vegetables, Other\",\"Vegetables\"],\"legendgroup\":\"Food\",\"marker\":{\"color\":\"orange\",\"size\":[208701,402338,462696],\"sizemode\":\"area\",\"sizeref\":76.45296875,\"symbol\":\"circle\"},\"mode\":\"markers\",\"name\":\"Food\",\"orientation\":\"h\",\"showlegend\":true,\"x\":[208701,402338,462696],\"xaxis\":\"x\",\"y\":[\"Cereals - Excluding Beer\",\"Vegetables, Other\",\"Vegetables\"],\"yaxis\":\"y\",\"type\":\"scatter\"}],\"name\":\"2011\"},{\"data\":[{\"hovertemplate\":\"<b>%{hovertext}</b><br><br>Element=Feed<br>Years=2012<br>Production=%{marker.size}<extra></extra>\",\"hovertext\":[\"Starchy Roots\",\"Maize and products\",\"Cereals - Excluding Beer\"],\"legendgroup\":\"Feed\",\"marker\":{\"color\":\"brown\",\"size\":[75446,140000,181259],\"sizemode\":\"area\",\"sizeref\":76.45296875,\"symbol\":\"circle\"},\"mode\":\"markers\",\"name\":\"Feed\",\"orientation\":\"h\",\"showlegend\":true,\"x\":[75446,140000,181259],\"xaxis\":\"x\",\"y\":[\"Starchy Roots\",\"Maize and products\",\"Cereals - Excluding Beer\"],\"yaxis\":\"y\",\"type\":\"scatter\"},{\"hovertemplate\":\"<b>%{hovertext}</b><br><br>Element=Food<br>Years=2012<br>Production=%{marker.size}<extra></extra>\",\"hovertext\":[\"Cereals - Excluding Beer\",\"Vegetables, Other\",\"Vegetables\"],\"legendgroup\":\"Food\",\"marker\":{\"color\":\"orange\",\"size\":[207802,419262,479028],\"sizemode\":\"area\",\"sizeref\":76.45296875,\"symbol\":\"circle\"},\"mode\":\"markers\",\"name\":\"Food\",\"orientation\":\"h\",\"showlegend\":true,\"x\":[207802,419262,479028],\"xaxis\":\"x\",\"y\":[\"Cereals - Excluding Beer\",\"Vegetables, Other\",\"Vegetables\"],\"yaxis\":\"y\",\"type\":\"scatter\"}],\"name\":\"2012\"},{\"data\":[{\"hovertemplate\":\"<b>%{hovertext}</b><br><br>Element=Feed<br>Years=2013<br>Production=%{marker.size}<extra></extra>\",\"hovertext\":[\"Starchy Roots\",\"Maize and products\",\"Cereals - Excluding Beer\"],\"legendgroup\":\"Feed\",\"marker\":{\"color\":\"brown\",\"size\":[78401,150000,193043],\"sizemode\":\"area\",\"sizeref\":76.45296875,\"symbol\":\"circle\"},\"mode\":\"markers\",\"name\":\"Feed\",\"orientation\":\"h\",\"showlegend\":true,\"x\":[78401,150000,193043],\"xaxis\":\"x\",\"y\":[\"Starchy Roots\",\"Maize and products\",\"Cereals - Excluding Beer\"],\"yaxis\":\"y\",\"type\":\"scatter\"},{\"hovertemplate\":\"<b>%{hovertext}</b><br><br>Element=Food<br>Years=2013<br>Production=%{marker.size}<extra></extra>\",\"hovertext\":[\"Cereals - Excluding Beer\",\"Vegetables, Other\",\"Vegetables\"],\"legendgroup\":\"Food\",\"marker\":{\"color\":\"orange\",\"size\":[209038,426850,489299],\"sizemode\":\"area\",\"sizeref\":76.45296875,\"symbol\":\"circle\"},\"mode\":\"markers\",\"name\":\"Food\",\"orientation\":\"h\",\"showlegend\":true,\"x\":[209038,426850,489299],\"xaxis\":\"x\",\"y\":[\"Cereals - Excluding Beer\",\"Vegetables, Other\",\"Vegetables\"],\"yaxis\":\"y\",\"type\":\"scatter\"}],\"name\":\"2013\"}]);\n",
       "                        }).then(function(){\n",
       "                            \n",
       "var gd = document.getElementById('de0256ff-87ab-4f3c-ac21-7197a3d8e7a4');\n",
       "var x = new MutationObserver(function (mutations, observer) {{\n",
       "        var display = window.getComputedStyle(gd).display;\n",
       "        if (!display || display === 'none') {{\n",
       "            console.log([gd, 'removed!']);\n",
       "            Plotly.purge(gd);\n",
       "            observer.disconnect();\n",
       "        }}\n",
       "}});\n",
       "\n",
       "// Listen for the removal of the full notebook cells\n",
       "var notebookContainer = gd.closest('#notebook-container');\n",
       "if (notebookContainer) {{\n",
       "    x.observe(notebookContainer, {childList: true});\n",
       "}}\n",
       "\n",
       "// Listen for the clearing of the current output cell\n",
       "var outputEl = gd.closest('.output');\n",
       "if (outputEl) {{\n",
       "    x.observe(outputEl, {childList: true});\n",
       "}}\n",
       "\n",
       "                        })                };                });            </script>        </div>"
      ]
     },
     "metadata": {},
     "output_type": "display_data"
    }
   ],
   "source": [
    "fig = px.scatter(\n",
    "    data_frame=chn_food_feed, \n",
    "    x='Production',\n",
    "    y='Item',\n",
    "    size='Production',\n",
    "    size_max=80,\n",
    "\n",
    "    color='Element',\n",
    "    color_discrete_map={\n",
    "        'Feed':'brown',\n",
    "        'Food':'orange'},\n",
    "    animation_frame='Years',\n",
    "\n",
    "    hover_name='Item',\n",
    "    hover_data=dict(Item = False),    \n",
    "\n",
    "    range_x=[chn_food_feed.Production.min()-5000, chn_food_feed.Production.max()+50000],\n",
    "    range_y=[-1, 5.5])\n",
    "\n",
    "fig.update_layout(\n",
    "    title=\"Storyline of China's top 3 Food and Feed items produced in 2013\",\n",
    "    title_x = 0.5,\n",
    "    title_y = 0.95,\n",
    "    title_xanchor='center',\n",
    "    title_yanchor='top',\n",
    "\n",
    "    xaxis = dict(title='Production (1000 tons)'))\n",
    "\n",
    "fig.show(renderer='notebook_connected')"
   ]
  },
  {
   "cell_type": "markdown",
   "id": "61762015",
   "metadata": {},
   "source": [
    "Commento del grafico............"
   ]
  },
  {
   "cell_type": "markdown",
   "id": "6efcd64d",
   "metadata": {},
   "source": [
    "### Processo produttivo e inquinamento:\n",
    "\n",
    "- La produzione di quali alimenti ha un impatto maggiormente negativo sull'ambiente?\n",
    "\n",
    "- Quale fase della produzione alimentare contribuisce maggiormente all'emissione di gas serra?\n",
    "\n",
    "- Quali sono gli alimenti la cui produzione ha meno impatto per le emissioni di gas serra?\n",
    "\n",
    "- Quanto si è innalzata la temperatura globale dall'ultimo secolo ad oggi?"
   ]
  },
  {
   "cell_type": "code",
   "execution_count": null,
   "id": "de95bc1c",
   "metadata": {},
   "outputs": [],
   "source": []
  },
  {
   "cell_type": "code",
   "execution_count": null,
   "metadata": {},
   "outputs": [],
   "source": []
  },
  {
   "cell_type": "code",
   "execution_count": 37,
   "id": "c51ba3b3",
   "metadata": {},
   "outputs": [],
   "source": [
    "# from moviepy.editor import VideoFileClip\n",
    "\n",
    "# clip = VideoFileClip('./videoclip.mp4')\n",
    "# clip.write_gif('china_graph.gif')"
   ]
  },
  {
   "cell_type": "code",
   "execution_count": 33,
   "id": "ba97fdd3",
   "metadata": {},
   "outputs": [],
   "source": [
    "############# SUBPLOTS 2x1 con plotly.graph_objects Scatter + Bar\n",
    "\n",
    "# fig = make_subplots(\n",
    "#     rows=2, cols=1,\n",
    "#     subplot_titles=['Top 20 Food items produced in 2013', 'Top Food producers in 2013'],\n",
    "#     )\n",
    "\n",
    "# fig.add_trace(\n",
    "#     go.Scatter(\n",
    "#         y = food_2013.Production,\n",
    "#         x = food_2013.Item,\n",
    "#         text = food_2013.Country_Name,\n",
    "#         name = 'Top 20 Food items',\n",
    "#         mode='markers',\n",
    "\n",
    "#         marker=dict(\n",
    "#             sizemode = 'diameter',\n",
    "#             sizeref = 1,\n",
    "#             size = food_2013.Production/4000,\n",
    "#             color = food_2013.Production,\n",
    "#             colorscale=['#03071e','#6A040F', '#D00000', '#F48C06'],\n",
    "#             showscale=False)), \n",
    "        \n",
    "#         row=1, col=1)\n",
    "\n",
    "# fig.add_trace(\n",
    "#     go.Bar(\n",
    "#         x=food_2013.Country_Name.value_counts().index,\n",
    "#         y=food_2013.Country_Name.value_counts().values,\n",
    "#         name='Top Food producers 2013'),\n",
    "#     row=2, col=1)\n",
    "\n",
    "\n",
    "# fig.update_layout(\n",
    "#     height=700, width=1200,\n",
    "#     margin=dict(r=10, t=25, b=40, l=60),\n",
    "\n",
    "#     autosize= True,\n",
    "#     hovermode= 'closest',\n",
    "#     showlegend= False,\n",
    "\n",
    "#     xaxis= dict(\n",
    "#          ticklen= 5,\n",
    "#          showgrid=True,\n",
    "#         zeroline=False,\n",
    "#         showline=False),\n",
    "\n",
    "#     yaxis=dict(\n",
    "#         title= 'Production (1000 tons)',\n",
    "#         showgrid=True,\n",
    "#         zeroline=False,\n",
    "#         ticklen= 5,\n",
    "#         gridwidth= 2),\n",
    "\n",
    "#     yaxis2=dict(\n",
    "#         title= 'Countries frequences',\n",
    "#         showgrid=True,\n",
    "#         zeroline=False,\n",
    "#         ticklen= 5,\n",
    "#         gridwidth= 2))\n",
    "    \n",
    "\n",
    "\n",
    "# fig.show()"
   ]
  }
 ],
 "metadata": {
  "interpreter": {
   "hash": "69d74384aa76d343bb359f062cb72694a1a85a4dab3a55db2bb23019c1d352ec"
  },
  "kernelspec": {
   "display_name": "Python 3.8.8 ('base')",
   "language": "python",
   "name": "python3"
  },
  "language_info": {
   "codemirror_mode": {
    "name": "ipython",
    "version": 3
   },
   "file_extension": ".py",
   "mimetype": "text/x-python",
   "name": "python",
   "nbconvert_exporter": "python",
   "pygments_lexer": "ipython3",
   "version": "3.8.8"
  }
 },
 "nbformat": 4,
 "nbformat_minor": 5
}
